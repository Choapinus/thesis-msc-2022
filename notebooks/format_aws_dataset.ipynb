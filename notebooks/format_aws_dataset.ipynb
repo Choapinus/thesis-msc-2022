{
 "cells": [
  {
   "cell_type": "code",
   "execution_count": 1,
   "id": "101c4a5d-c0a8-4d03-b906-86488e90ab4d",
   "metadata": {},
   "outputs": [],
   "source": [
    "import os\n",
    "import cv2\n",
    "from shutil import copy\n",
    "from imutils.paths import list_images\n",
    "\n",
    "%load_ext autoreload\n",
    "%autoreload 2"
   ]
  },
  {
   "cell_type": "code",
   "execution_count": 2,
   "id": "35040495-3496-487f-9b9f-d25b884423d6",
   "metadata": {},
   "outputs": [],
   "source": [
    "db_dir = '/media/choppy/WD_BLACK/datasets/dataset_motores_faciales/trx'\n",
    "dst_dir = '/media/choppy/WD_BLACK/projects/don-choppy/thesis-msc-2022/data/images/aws/bonafide'\n",
    "\n",
    "# db format: \n",
    "# ID/vision/facial -> have 2 images, 2.bmp is the facial image\n",
    "\n",
    "db_list = sorted(list(list_images(db_dir)))"
   ]
  },
  {
   "cell_type": "code",
   "execution_count": 3,
   "id": "aa7d2fdb-9f8e-46cf-86f0-43463bcfe4c8",
   "metadata": {},
   "outputs": [
    {
     "data": {
      "text/plain": [
       "['/media/choppy/WD_BLACK/datasets/dataset_motores_faciales/trx/femenino/M2E0M2VkO0EyMTIzMDg1/front.jpg',\n",
       " '/media/choppy/WD_BLACK/datasets/dataset_motores_faciales/trx/femenino/M2E0M2VkO0EyMTIzMDg1/selfie.jpg',\n",
       " '/media/choppy/WD_BLACK/datasets/dataset_motores_faciales/trx/femenino/M2E0Nzc5O0EyMjMxNDkx/front.jpg',\n",
       " '/media/choppy/WD_BLACK/datasets/dataset_motores_faciales/trx/femenino/M2E0Nzc5O0EyMjMxNDkx/selfie.jpg',\n",
       " '/media/choppy/WD_BLACK/datasets/dataset_motores_faciales/trx/femenino/M2E0ODAxO0EyMTA1MjYw/front.jpg']"
      ]
     },
     "execution_count": 3,
     "metadata": {},
     "output_type": "execute_result"
    }
   ],
   "source": [
    "db_list[:5]"
   ]
  },
  {
   "cell_type": "code",
   "execution_count": 4,
   "id": "072a2a69-7220-44c4-a276-ec57d18b4b10",
   "metadata": {},
   "outputs": [],
   "source": [
    "# filter only images with name selfie.jpg\n",
    "selfies = list(filter(lambda x: os.path.basename(x) == 'selfie.jpg', db_list))"
   ]
  },
  {
   "cell_type": "code",
   "execution_count": 5,
   "id": "5a2fa6a9-727b-4d8c-aaf9-c97b8577e8fa",
   "metadata": {},
   "outputs": [
    {
     "data": {
      "text/plain": [
       "['/media/choppy/WD_BLACK/datasets/dataset_motores_faciales/trx/femenino/M2E0M2VkO0EyMTIzMDg1/selfie.jpg',\n",
       " '/media/choppy/WD_BLACK/datasets/dataset_motores_faciales/trx/femenino/M2E0Nzc5O0EyMjMxNDkx/selfie.jpg',\n",
       " '/media/choppy/WD_BLACK/datasets/dataset_motores_faciales/trx/femenino/M2E0ODAxO0EyMTA1MjYw/selfie.jpg',\n",
       " '/media/choppy/WD_BLACK/datasets/dataset_motores_faciales/trx/femenino/M2E0ZDRhO0EyMjE4MDgx/selfie.jpg',\n",
       " '/media/choppy/WD_BLACK/datasets/dataset_motores_faciales/trx/femenino/M2E1N2ViO0ExOTM1MjE5/selfie.jpg']"
      ]
     },
     "execution_count": 5,
     "metadata": {},
     "output_type": "execute_result"
    }
   ],
   "source": [
    "selfies[:5]"
   ]
  },
  {
   "cell_type": "code",
   "execution_count": 7,
   "id": "19491693-91f3-41d2-a78a-5733d35c12eb",
   "metadata": {},
   "outputs": [
    {
     "data": {
      "text/plain": [
       "['M2E0M2VkO0EyMTIzMDg1',\n",
       " 'M2E0Nzc5O0EyMjMxNDkx',\n",
       " 'M2E0ODAxO0EyMTA1MjYw',\n",
       " 'M2E0ZDRhO0EyMjE4MDgx',\n",
       " 'M2E1N2ViO0ExOTM1MjE5']"
      ]
     },
     "execution_count": 7,
     "metadata": {},
     "output_type": "execute_result"
    }
   ],
   "source": [
    "# get id from each folder and replace name\n",
    "ids_list = [a.split(os.sep)[-2] for a in selfies]\n",
    "ids_list[:5]"
   ]
  },
  {
   "cell_type": "code",
   "execution_count": 8,
   "id": "6f5d2385-35b4-456b-bc2a-dd1809df2ee8",
   "metadata": {},
   "outputs": [],
   "source": [
    "os.makedirs(dst_dir, exist_ok=True)\n",
    "\n",
    "for selfie_dir, _id in zip(selfies, ids_list):\n",
    "    newname = f'{_id}.png'\n",
    "    newdir = os.path.join(dst_dir, newname)\n",
    "    # must read image to change format bmp -> png\n",
    "    image = cv2.imread(selfie_dir)\n",
    "    cv2.imwrite(newdir, image)"
   ]
  },
  {
   "cell_type": "code",
   "execution_count": 9,
   "id": "fcb7ecff-ac59-485f-a334-6ab3dca37692",
   "metadata": {},
   "outputs": [
    {
     "data": {
      "text/plain": [
       "16000"
      ]
     },
     "execution_count": 9,
     "metadata": {},
     "output_type": "execute_result"
    }
   ],
   "source": [
    "len(list(list_images(dst_dir)))"
   ]
  },
  {
   "cell_type": "code",
   "execution_count": 10,
   "id": "3e176249-a043-4364-9f5a-e9e5a86097e8",
   "metadata": {},
   "outputs": [
    {
     "data": {
      "text/plain": [
       "['/media/choppy/WD_BLACK/projects/don-choppy/thesis-msc-2022/data/images/aws/bonafide/NWU1NWM3O0EyMTYwODU1.png',\n",
       " '/media/choppy/WD_BLACK/projects/don-choppy/thesis-msc-2022/data/images/aws/bonafide/M2E0M2VkO0EyMTIzMDg1.png',\n",
       " '/media/choppy/WD_BLACK/projects/don-choppy/thesis-msc-2022/data/images/aws/bonafide/M2E0MGI3O0EyMDcyNzQ5.png',\n",
       " '/media/choppy/WD_BLACK/projects/don-choppy/thesis-msc-2022/data/images/aws/bonafide/M2E0Nzc5O0EyMjMxNDkx.png',\n",
       " '/media/choppy/WD_BLACK/projects/don-choppy/thesis-msc-2022/data/images/aws/bonafide/M2E0ODAxO0EyMTA1MjYw.png']"
      ]
     },
     "execution_count": 10,
     "metadata": {},
     "output_type": "execute_result"
    }
   ],
   "source": [
    "list(list_images(dst_dir))[:5]"
   ]
  },
  {
   "cell_type": "code",
   "execution_count": null,
   "id": "4f1ef4ed-08e8-4b91-8f4a-473b7dc0c46c",
   "metadata": {},
   "outputs": [],
   "source": []
  }
 ],
 "metadata": {
  "kernelspec": {
   "display_name": "Python 3 (ipykernel)",
   "language": "python",
   "name": "python3"
  },
  "language_info": {
   "codemirror_mode": {
    "name": "ipython",
    "version": 3
   },
   "file_extension": ".py",
   "mimetype": "text/x-python",
   "name": "python",
   "nbconvert_exporter": "python",
   "pygments_lexer": "ipython3",
   "version": "3.10.5"
  }
 },
 "nbformat": 4,
 "nbformat_minor": 5
}
