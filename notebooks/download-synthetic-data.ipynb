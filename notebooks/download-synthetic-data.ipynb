{
 "cells": [
  {
   "cell_type": "code",
   "execution_count": 1,
   "id": "e3a58a31-4bc4-4af5-ac03-6c87ae694c04",
   "metadata": {},
   "outputs": [],
   "source": [
    "import os\n",
    "import bs4\n",
    "import requests"
   ]
  },
  {
   "cell_type": "code",
   "execution_count": 2,
   "id": "c76f45ea-4bc1-4f7d-ad97-8a882c3e31b3",
   "metadata": {},
   "outputs": [],
   "source": [
    "os.makedirs('synthetic', exist_ok=True)\n",
    "\n",
    "url = 'https://this-person-does-not-exist.com'"
   ]
  },
  {
   "cell_type": "code",
   "execution_count": 3,
   "id": "42e4ef94-8507-4320-83b7-a077ff91b0c0",
   "metadata": {},
   "outputs": [],
   "source": [
    "def download(folder_name):\n",
    "    try:\n",
    "        # content of URL\n",
    "        r = requests.get(url)\n",
    "\n",
    "        # Parse HTML Code\n",
    "        soup = bs4.BeautifulSoup(r.text, 'html.parser')\n",
    "\n",
    "        # find all images in URL\n",
    "        data = soup.find(id='avatar')\n",
    "        img_url = f'{url}{data[\"src\"]}'\n",
    "        img_id = img_url.split('/')[-1]\n",
    "        \n",
    "        # get generated image\n",
    "        r = requests.get(img_url).content\n",
    "\n",
    "        try:\n",
    "            # possibility of decode\n",
    "            r = str(r, 'utf-8')\n",
    "\n",
    "        except UnicodeDecodeError:\n",
    "            # After checking above condition, Image Download start\n",
    "            dst = f\"{folder_name}/{img_id}\"\n",
    "            with open(dst, \"wb+\") as f:\n",
    "                f.write(r)\n",
    "    except:\n",
    "        return False\n",
    "    \n",
    "    return True"
   ]
  },
  {
   "cell_type": "code",
   "execution_count": 7,
   "id": "f647a98e-898f-4478-8f9f-6d16fba7a332",
   "metadata": {},
   "outputs": [
    {
     "data": {
      "text/plain": [
       "True"
      ]
     },
     "execution_count": 7,
     "metadata": {},
     "output_type": "execute_result"
    }
   ],
   "source": [
    "# download(\"synthetic\")"
   ]
  },
  {
   "cell_type": "code",
   "execution_count": 5,
   "id": "a0c89a14-703b-4bd1-a1c4-19100dcecebc",
   "metadata": {},
   "outputs": [],
   "source": [
    "num_examples = 5000\n",
    "\n",
    "for i in range(num_examples):\n",
    "    resp = download(\"synthetic\")\n",
    "    if not resp:\n",
    "        print('wupsies')"
   ]
  },
  {
   "cell_type": "code",
   "execution_count": 6,
   "id": "a79def86-929a-4b06-a148-9a30e6b46ea1",
   "metadata": {},
   "outputs": [],
   "source": [
    "# label more data"
   ]
  },
  {
   "cell_type": "code",
   "execution_count": null,
   "id": "3190f0b5-b149-40f5-92ab-7bd69cc54416",
   "metadata": {},
   "outputs": [],
   "source": []
  }
 ],
 "metadata": {
  "kernelspec": {
   "display_name": "Python 3 (ipykernel)",
   "language": "python",
   "name": "python3"
  },
  "language_info": {
   "codemirror_mode": {
    "name": "ipython",
    "version": 3
   },
   "file_extension": ".py",
   "mimetype": "text/x-python",
   "name": "python",
   "nbconvert_exporter": "python",
   "pygments_lexer": "ipython3",
   "version": "3.9.13"
  }
 },
 "nbformat": 4,
 "nbformat_minor": 5
}
