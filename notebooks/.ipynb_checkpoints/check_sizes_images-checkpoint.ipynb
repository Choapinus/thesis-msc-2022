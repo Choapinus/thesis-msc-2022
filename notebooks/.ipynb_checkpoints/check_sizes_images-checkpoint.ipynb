{
 "cells": [
  {
   "cell_type": "code",
   "execution_count": 1,
   "id": "60e2a5b3-5d3c-422a-b374-dfb1cb26d6f3",
   "metadata": {},
   "outputs": [],
   "source": [
    "# no usar aws\n",
    "# format DIQA dataset to bonafide\n",
    "# format flickr dataset to bonafide, printed and screen\n",
    "# format splunk dataset to bonafide, printed and screen"
   ]
  },
  {
   "cell_type": "code",
   "execution_count": 2,
   "id": "7e0a1237-ebf0-401d-858c-be26b838229b",
   "metadata": {},
   "outputs": [],
   "source": [
    "import os\n",
    "import numpy as np\n",
    "from PIL import Image\n",
    "from PIL import UnidentifiedImageError\n",
    "# import tqdm\n",
    "# import pandas as pd\n",
    "from imutils.paths import list_images"
   ]
  },
  {
   "cell_type": "code",
   "execution_count": 3,
   "id": "d137fcff-dc52-479b-8faf-86b9b306de98",
   "metadata": {},
   "outputs": [],
   "source": [
    "# get min, max and avg size\n",
    "\n",
    "folders = {\n",
    "    'splunk': '/media/choppy/WD_BLACK/datasets/Splunk',\n",
    "    'flickr': '/media/choppy/WD_BLACK/datasets/FLICKR',\n",
    "}"
   ]
  },
  {
   "cell_type": "code",
   "execution_count": 4,
   "id": "4f0da3e4-4830-4e76-a966-977c9f8ec813",
   "metadata": {},
   "outputs": [
    {
     "name": "stdout",
     "output_type": "stream",
     "text": [
      "check /media/choppy/WD_BLACK/datasets/FLICKR/ronda3/F_screen_computador_fijo/F04000_screen_computador_fijo_20220312174050.jpg\n"
     ]
    }
   ],
   "source": [
    "width_arr = np.array([])\n",
    "height_arr = np.array([])\n",
    "\n",
    "for key in folders.keys():\n",
    "    db_dir = folders[key]\n",
    "    _list = [*list_images(db_dir)]\n",
    "    \n",
    "    for imdir in _list:\n",
    "        try:\n",
    "            width, height = Image.open(imdir).size\n",
    "\n",
    "            width_arr = np.append(width_arr, width)\n",
    "            height_arr = np.append(height_arr, height)\n",
    "        except UnidentifiedImageError as ex:\n",
    "            print(f'check {imdir}')"
   ]
  },
  {
   "cell_type": "code",
   "execution_count": 7,
   "id": "792e4724-e835-4c30-ae69-aab4d8032c86",
   "metadata": {},
   "outputs": [
    {
     "data": {
      "text/plain": [
       "array([ 320.,  360.,  405.,  480.,  540.,  560.,  562.,  569.,  576.,\n",
       "        640.,  720.,  768.,  960., 1000., 1024., 1844., 3000., 3072.,\n",
       "       3088., 3840., 4000., 4032., 5120., 6000., 8000.])"
      ]
     },
     "execution_count": 7,
     "metadata": {},
     "output_type": "execute_result"
    }
   ],
   "source": [
    "np.unique(width_arr)"
   ]
  },
  {
   "cell_type": "code",
   "execution_count": 8,
   "id": "1a6119d1-61e5-475a-b5b1-dffb9528c598",
   "metadata": {},
   "outputs": [
    {
     "data": {
      "text/plain": [
       "array([ 320.,  540.,  567.,  568.,  569.,  640.,  720.,  958.,  960.,\n",
       "        969., 1024., 1200., 1216., 1280., 1844., 2316., 3000., 3024.,\n",
       "       3840., 4000., 4080., 5120., 6000., 8000.])"
      ]
     },
     "execution_count": 8,
     "metadata": {},
     "output_type": "execute_result"
    }
   ],
   "source": [
    "np.unique(height_arr)"
   ]
  },
  {
   "cell_type": "code",
   "execution_count": 5,
   "id": "4ed79404-6b35-4f19-b2e7-c11344abd68c",
   "metadata": {},
   "outputs": [
    {
     "data": {
      "text/plain": [
       "(320.0, 8000.0, 3859.753062609379)"
      ]
     },
     "execution_count": 5,
     "metadata": {},
     "output_type": "execute_result"
    }
   ],
   "source": [
    "width_arr.min(), width_arr.max(), width_arr.mean()"
   ]
  },
  {
   "cell_type": "code",
   "execution_count": 6,
   "id": "3764f7b8-2000-48a4-8488-34f46c41f930",
   "metadata": {},
   "outputs": [
    {
     "data": {
      "text/plain": [
       "(320.0, 8000.0, 3453.593806921676)"
      ]
     },
     "execution_count": 6,
     "metadata": {},
     "output_type": "execute_result"
    }
   ],
   "source": [
    "height_arr.min(), height_arr.max(), height_arr.mean()"
   ]
  },
  {
   "cell_type": "code",
   "execution_count": 9,
   "id": "dcc840e9-1b58-4362-82e8-010f757d3bc5",
   "metadata": {},
   "outputs": [
    {
     "data": {
      "text/plain": [
       "4014"
      ]
     },
     "execution_count": 9,
     "metadata": {},
     "output_type": "execute_result"
    }
   ],
   "source": [
    "np.argmax(height_arr)"
   ]
  },
  {
   "cell_type": "code",
   "execution_count": 10,
   "id": "887b2c67-bbce-4690-ab12-ad53c7cf75c0",
   "metadata": {},
   "outputs": [
    {
     "data": {
      "text/plain": [
       "(6000.0, 8000.0)"
      ]
     },
     "execution_count": 10,
     "metadata": {},
     "output_type": "execute_result"
    }
   ],
   "source": [
    "width_arr[4014], height_arr[4014]"
   ]
  },
  {
   "cell_type": "code",
   "execution_count": null,
   "id": "ca10b99c-a1de-416f-a4b1-e6ae3efcee21",
   "metadata": {},
   "outputs": [],
   "source": []
  }
 ],
 "metadata": {
  "kernelspec": {
   "display_name": "Python 3 (ipykernel)",
   "language": "python",
   "name": "python3"
  },
  "language_info": {
   "codemirror_mode": {
    "name": "ipython",
    "version": 3
   },
   "file_extension": ".py",
   "mimetype": "text/x-python",
   "name": "python",
   "nbconvert_exporter": "python",
   "pygments_lexer": "ipython3",
   "version": "3.9.13"
  }
 },
 "nbformat": 4,
 "nbformat_minor": 5
}
