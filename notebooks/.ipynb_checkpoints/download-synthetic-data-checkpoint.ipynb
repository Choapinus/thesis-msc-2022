{
 "cells": [
  {
   "cell_type": "code",
   "execution_count": 1,
   "id": "e3a58a31-4bc4-4af5-ac03-6c87ae694c04",
   "metadata": {},
   "outputs": [],
   "source": [
    "import os\n",
    "import bs4\n",
    "import requests"
   ]
  },
  {
   "cell_type": "code",
   "execution_count": 2,
   "id": "c76f45ea-4bc1-4f7d-ad97-8a882c3e31b3",
   "metadata": {},
   "outputs": [],
   "source": [
    "os.makedirs('testfolder', exist_ok=True)\n",
    "\n",
    "url = 'https://this-person-does-not-exist.com'\n",
    "\n",
    "# content of URL\n",
    "r = requests.get(url)\n",
    "\n",
    "# Parse HTML Code\n",
    "soup = bs4.BeautifulSoup(r.text, 'html.parser')\n",
    "\n",
    "# find all images in URL\n",
    "data = soup.find(id='avatar')"
   ]
  },
  {
   "cell_type": "code",
   "execution_count": 3,
   "id": "6cab3da1-3313-4d06-a3e1-cb96b6a0c5f9",
   "metadata": {},
   "outputs": [
    {
     "data": {
      "text/plain": [
       "'/img/avatar-c0bfc777cf9080c8f2b12e26ed23568f.jpg'"
      ]
     },
     "execution_count": 3,
     "metadata": {},
     "output_type": "execute_result"
    }
   ],
   "source": [
    "data[\"src\"]"
   ]
  },
  {
   "cell_type": "code",
   "execution_count": 4,
   "id": "f3b147d3-6b48-4624-bdde-ae1e8d5564a8",
   "metadata": {},
   "outputs": [
    {
     "data": {
      "text/plain": [
       "'https://this-person-does-not-exist.com/img/avatar-c0bfc777cf9080c8f2b12e26ed23568f.jpg'"
      ]
     },
     "execution_count": 4,
     "metadata": {},
     "output_type": "execute_result"
    }
   ],
   "source": [
    "img_url = f'{url}{data[\"src\"]}'\n",
    "img_url"
   ]
  },
  {
   "cell_type": "code",
   "execution_count": 5,
   "id": "cbe607ee-6130-4bbc-b73a-b039a8f2f0d4",
   "metadata": {},
   "outputs": [],
   "source": [
    "img_id = img_url.split('/')[-1]"
   ]
  },
  {
   "cell_type": "code",
   "execution_count": 6,
   "id": "42e4ef94-8507-4320-83b7-a077ff91b0c0",
   "metadata": {},
   "outputs": [],
   "source": [
    "def download(img_url, folder_name, img_id):\n",
    "    try:\n",
    "        r = requests.get(img_url).content\n",
    "\n",
    "        try:\n",
    "            # possibility of decode\n",
    "            r = str(r, 'utf-8')\n",
    "\n",
    "        except UnicodeDecodeError:\n",
    "            # After checking above condition, Image Download start\n",
    "            dst = f\"{folder_name}/{img_id}\"\n",
    "            with open(dst, \"wb+\") as f:\n",
    "                f.write(r)\n",
    "    except:\n",
    "        pass"
   ]
  },
  {
   "cell_type": "code",
   "execution_count": 7,
   "id": "f647a98e-898f-4478-8f9f-6d16fba7a332",
   "metadata": {},
   "outputs": [],
   "source": [
    "download(img_url, \"testfolder\", img_id)"
   ]
  }
 ],
 "metadata": {
  "kernelspec": {
   "display_name": "Python 3 (ipykernel)",
   "language": "python",
   "name": "python3"
  },
  "language_info": {
   "codemirror_mode": {
    "name": "ipython",
    "version": 3
   },
   "file_extension": ".py",
   "mimetype": "text/x-python",
   "name": "python",
   "nbconvert_exporter": "python",
   "pygments_lexer": "ipython3",
   "version": "3.9.13"
  }
 },
 "nbformat": 4,
 "nbformat_minor": 5
}
