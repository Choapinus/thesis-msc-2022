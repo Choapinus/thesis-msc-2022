{
 "cells": [
  {
   "cell_type": "code",
   "execution_count": 1,
   "id": "75fa0543-152b-4e2f-af10-d41a5bd5b696",
   "metadata": {},
   "outputs": [],
   "source": [
    "import os\n",
    "import json\n",
    "import numpy as np\n",
    "from shutil import copy"
   ]
  },
  {
   "cell_type": "code",
   "execution_count": 2,
   "id": "8a4c6bde-80bb-43aa-b4be-e7c51475781b",
   "metadata": {},
   "outputs": [],
   "source": [
    "json_dir = '/home/choppy/TOC/thesis-msc-2022/data/images/aws/bonafide/unmarked/via_region_data.json'\n",
    "final_folder_dir = '/home/choppy/TOC/thesis-msc-2022/data/images/aws/bonafide/via_marked'"
   ]
  },
  {
   "cell_type": "code",
   "execution_count": 3,
   "id": "5c370364-7f88-4b36-a8cb-ecdab1bcf909",
   "metadata": {
    "scrolled": true,
    "tags": []
   },
   "outputs": [
    {
     "name": "stdout",
     "output_type": "stream",
     "text": [
      "M2E0M2VkO0EyMTIzMDg1.png143502\n",
      "{'filename': 'M2E0M2VkO0EyMTIzMDg1.png', 'size': 143502, 'regions': [{'shape_attributes': {'name': 'rect', 'x': 62, 'y': 137, 'width': 106, 'height': 47}, 'region_attributes': {'Face': 'Periocular'}}], 'file_attributes': {}}\n"
     ]
    }
   ],
   "source": [
    "i = 0\n",
    "\n",
    "with open(json_dir) as file:\n",
    "    json_bonafide = json.load(file)\n",
    "    for k in json_bonafide.keys():\n",
    "        print(k)\n",
    "        print(json_bonafide[k])\n",
    "        \n",
    "        break\n",
    "        # if i == 5:\n",
    "        #     break"
   ]
  },
  {
   "cell_type": "code",
   "execution_count": 4,
   "id": "d014eb8a-31f4-4810-82b9-9ef29e7c2e69",
   "metadata": {},
   "outputs": [],
   "source": [
    "# copy only images with regions into a new folder"
   ]
  },
  {
   "cell_type": "code",
   "execution_count": 5,
   "id": "1acee938-bffa-4316-aeed-e011ba307d4b",
   "metadata": {},
   "outputs": [],
   "source": [
    "os.makedirs(final_folder_dir, exist_ok=True)"
   ]
  },
  {
   "cell_type": "code",
   "execution_count": 6,
   "id": "7e13f8e1-c2fe-4ff0-b426-9e8a15422b98",
   "metadata": {},
   "outputs": [],
   "source": [
    "new_json_bonafide = {}"
   ]
  },
  {
   "cell_type": "code",
   "execution_count": 7,
   "id": "5ede268e-523f-474a-9a9d-c618fef0f256",
   "metadata": {},
   "outputs": [],
   "source": [
    "with open(json_dir) as file:\n",
    "    json_bonafide = json.load(file)\n",
    "    for k in json_bonafide.keys():\n",
    "        if json_bonafide[k]['regions']:\n",
    "            new_json_bonafide[k] = json_bonafide[k]\n",
    "            imdir = os.path.join(os.path.dirname(json_dir), new_json_bonafide[k]['filename'])\n",
    "            copy(imdir, os.path.join(final_folder_dir, new_json_bonafide[k]['filename']))\n",
    "\n",
    "json.dump(new_json_bonafide, open(os.path.join(final_folder_dir, 'via_region_data.json'), 'w'))"
   ]
  },
  {
   "cell_type": "code",
   "execution_count": null,
   "id": "8c6173d8-2ca9-4607-ac53-c584ea1312aa",
   "metadata": {},
   "outputs": [],
   "source": []
  },
  {
   "cell_type": "code",
   "execution_count": 8,
   "id": "936882ef-e210-45f5-ac58-eb7a04ebfc00",
   "metadata": {},
   "outputs": [],
   "source": [
    "# make train/test/val sets"
   ]
  },
  {
   "cell_type": "code",
   "execution_count": 9,
   "id": "b51e5873-d4d8-47e5-986d-cb86c684851e",
   "metadata": {},
   "outputs": [],
   "source": [
    "# make directories\n",
    "os.makedirs('ttv/train', exist_ok=True)\n",
    "os.makedirs('ttv/test', exist_ok=True)\n",
    "os.makedirs('ttv/val', exist_ok=True)"
   ]
  },
  {
   "cell_type": "code",
   "execution_count": 10,
   "id": "d95a1890-72de-4166-8ab0-12931da62616",
   "metadata": {},
   "outputs": [],
   "source": [
    "_ids = np.arange(len(new_json_bonafide.keys()))\n",
    "np.random.shuffle(_ids) # shuffle ids\n",
    "\n",
    "train_dict = {}\n",
    "test_dict = {}\n",
    "val_dict = {}"
   ]
  },
  {
   "cell_type": "code",
   "execution_count": 11,
   "id": "fa2496f7-9b4a-476a-924c-23e54eafd26d",
   "metadata": {},
   "outputs": [],
   "source": [
    "keys_list = sorted(list(new_json_bonafide.keys()))\n",
    "train_split = int(len(keys_list)*0.6)\n",
    "test_split = int(len(keys_list)*0.2)\n",
    "\n",
    "train_split_arr = _ids[:train_split]\n",
    "test_split_arr = _ids[train_split:train_split+test_split]\n",
    "val_split_arr = _ids[train_split+test_split:]"
   ]
  },
  {
   "cell_type": "code",
   "execution_count": 12,
   "id": "25104598-fe94-422c-bfd3-17304b904097",
   "metadata": {},
   "outputs": [
    {
     "name": "stdout",
     "output_type": "stream",
     "text": [
      "Train set shape: (689,)\n",
      "Test set shape: (229,)\n",
      "Val set shape: (231,)\n"
     ]
    }
   ],
   "source": [
    "print(f'Train set shape: {train_split_arr.shape}')\n",
    "print(f'Test set shape: {test_split_arr.shape}')\n",
    "print(f'Val set shape: {val_split_arr.shape}')"
   ]
  },
  {
   "cell_type": "code",
   "execution_count": 13,
   "id": "b1cde3d3-1189-4a3c-8f89-a5d2431a479e",
   "metadata": {},
   "outputs": [],
   "source": [
    "for i in train_split_arr:\n",
    "    key = keys_list[i]\n",
    "    train_dict[key] = new_json_bonafide[key].copy()\n",
    "    \n",
    "for i in test_split_arr:\n",
    "    key = keys_list[i]\n",
    "    test_dict[key] = new_json_bonafide[key].copy()\n",
    "    \n",
    "for i in val_split_arr:\n",
    "    key = keys_list[i]\n",
    "    val_dict[key] = new_json_bonafide[key].copy()"
   ]
  },
  {
   "cell_type": "markdown",
   "id": "9d0a3ab4-63ae-4107-be71-b3ce7ed8ff90",
   "metadata": {},
   "source": [
    "## Copy images in each folder"
   ]
  },
  {
   "cell_type": "code",
   "execution_count": 14,
   "id": "f51df5e2-dc8a-44a5-a7b2-9efd70bd8610",
   "metadata": {},
   "outputs": [],
   "source": [
    "for k in train_dict.keys():\n",
    "    if train_dict[k]['regions']:\n",
    "        imdir = os.path.join(os.path.dirname(json_dir), train_dict[k]['filename'])\n",
    "        copy(imdir, os.path.join('ttv/train', train_dict[k]['filename']))\n",
    "\n",
    "for k in test_dict.keys():\n",
    "    if test_dict[k]['regions']:\n",
    "        imdir = os.path.join(os.path.dirname(json_dir), test_dict[k]['filename'])\n",
    "        copy(imdir, os.path.join('ttv/test', test_dict[k]['filename']))\n",
    "        \n",
    "for k in val_dict.keys():\n",
    "    if val_dict[k]['regions']:\n",
    "        imdir = os.path.join(os.path.dirname(json_dir), val_dict[k]['filename'])\n",
    "        copy(imdir, os.path.join('ttv/val', val_dict[k]['filename']))"
   ]
  },
  {
   "cell_type": "code",
   "execution_count": 15,
   "id": "b22e9f39-eb13-4d9d-be6a-df6fb34247c6",
   "metadata": {},
   "outputs": [],
   "source": [
    "json.dump(train_dict, open('ttv/train/via_region_data.json', 'w'))\n",
    "json.dump(test_dict, open('ttv/test/via_region_data.json', 'w'))\n",
    "json.dump(val_dict, open('ttv/val/via_region_data.json', 'w'))"
   ]
  },
  {
   "cell_type": "code",
   "execution_count": null,
   "id": "73358567-e5d9-43b9-b43c-a407a9faed2d",
   "metadata": {},
   "outputs": [],
   "source": []
  }
 ],
 "metadata": {
  "kernelspec": {
   "display_name": "Python 3 (ipykernel)",
   "language": "python",
   "name": "python3"
  },
  "language_info": {
   "codemirror_mode": {
    "name": "ipython",
    "version": 3
   },
   "file_extension": ".py",
   "mimetype": "text/x-python",
   "name": "python",
   "nbconvert_exporter": "python",
   "pygments_lexer": "ipython3",
   "version": "3.9.13"
  }
 },
 "nbformat": 4,
 "nbformat_minor": 5
}
