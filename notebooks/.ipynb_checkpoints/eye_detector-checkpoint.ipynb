{
 "cells": [
  {
   "cell_type": "code",
   "execution_count": 1,
   "id": "fe1dc9c1-8520-44a7-af5a-f819a17043d0",
   "metadata": {},
   "outputs": [],
   "source": [
    "# load densenet arch and make an eye detector (idea: with attention regions)"
   ]
  },
  {
   "cell_type": "code",
   "execution_count": 5,
   "id": "1a3eef35-b324-4a6f-824a-426330b5d4a2",
   "metadata": {},
   "outputs": [],
   "source": [
    "import os\n",
    "import sys\n",
    "\n",
    "sys.path.append('../')"
   ]
  },
  {
   "cell_type": "code",
   "execution_count": 6,
   "id": "1f065c6b-d5e1-4557-9da3-523bbf961f74",
   "metadata": {},
   "outputs": [
    {
     "ename": "ModuleNotFoundError",
     "evalue": "No module named 'tensorflow'",
     "output_type": "error",
     "traceback": [
      "\u001b[0;31m---------------------------------------------------------------------------\u001b[0m",
      "\u001b[0;31mModuleNotFoundError\u001b[0m                       Traceback (most recent call last)",
      "Input \u001b[0;32mIn [6]\u001b[0m, in \u001b[0;36m<cell line: 1>\u001b[0;34m()\u001b[0m\n\u001b[0;32m----> 1\u001b[0m \u001b[38;5;28;01mfrom\u001b[39;00m \u001b[38;5;21;01mtflow\u001b[39;00m\u001b[38;5;21;01m.\u001b[39;00m\u001b[38;5;21;01mDenseNet10\u001b[39;00m\u001b[38;5;21;01m.\u001b[39;00m\u001b[38;5;21;01mkeras_fc_densenet\u001b[39;00m \u001b[38;5;28;01mimport\u001b[39;00m _create_fc_dense_net\n",
      "File \u001b[0;32m~/TOC/thesis-msc-2022/notebooks/../tflow/DenseNet10/keras_fc_densenet.py:6\u001b[0m, in \u001b[0;36m<module>\u001b[0;34m\u001b[0m\n\u001b[1;32m      1\u001b[0m \u001b[38;5;124;03m\"\"\"\u001b[39;00m\n\u001b[1;32m      2\u001b[0m \u001b[38;5;124;03mBuild a FC-DenseNet model as described in https://arxiv.org/abs/1611.09326.\u001b[39;00m\n\u001b[1;32m      3\u001b[0m \u001b[38;5;124;03m# mention required\u001b[39;00m\n\u001b[1;32m      4\u001b[0m \u001b[38;5;124;03m\"\"\"\u001b[39;00m\n\u001b[1;32m      5\u001b[0m \u001b[38;5;28;01mimport\u001b[39;00m \u001b[38;5;21;01mnumpy\u001b[39;00m \u001b[38;5;28;01mas\u001b[39;00m \u001b[38;5;21;01mnp\u001b[39;00m\n\u001b[0;32m----> 6\u001b[0m \u001b[38;5;28;01mimport\u001b[39;00m \u001b[38;5;21;01mtensorflow\u001b[39;00m \u001b[38;5;28;01mas\u001b[39;00m \u001b[38;5;21;01mtf\u001b[39;00m\n\u001b[1;32m      7\u001b[0m \u001b[38;5;28;01mfrom\u001b[39;00m \u001b[38;5;21;01mtensorflow\u001b[39;00m\u001b[38;5;21;01m.\u001b[39;00m\u001b[38;5;21;01mkeras\u001b[39;00m \u001b[38;5;28;01mimport\u001b[39;00m layers\n\u001b[1;32m      8\u001b[0m \u001b[38;5;28;01mfrom\u001b[39;00m \u001b[38;5;21;01mtensorflow\u001b[39;00m\u001b[38;5;21;01m.\u001b[39;00m\u001b[38;5;21;01mkeras\u001b[39;00m\u001b[38;5;21;01m.\u001b[39;00m\u001b[38;5;21;01mlayers\u001b[39;00m \u001b[38;5;28;01mimport\u001b[39;00m Dense, Reshape, Flatten, Embedding, Dropout, Input\n",
      "\u001b[0;31mModuleNotFoundError\u001b[0m: No module named 'tensorflow'"
     ]
    }
   ],
   "source": [
    "from tflow.DenseNet10.keras_fc_densenet import _create_fc_dense_net"
   ]
  },
  {
   "cell_type": "code",
   "execution_count": null,
   "id": "e0031a84-3c3c-4f6c-a8b5-ec6bf93ccdb3",
   "metadata": {},
   "outputs": [],
   "source": [
    "def build_FC_DenseNet10(\n",
    "    nb_classes,\n",
    "    final_softmax,\n",
    "    input_shape=(224, 224, 3),\n",
    "    dropout_rate=0.2,\n",
    "    data_format=\"channels_last\",\n",
    "):\n",
    "    \"\"\"Build FC-DenseNet10\"\"\"\n",
    "    inputs = Input(shape=input_shape)\n",
    "    logits = _create_fc_dense_net(\n",
    "        inputs,\n",
    "        nb_classes=nb_classes,\n",
    "        nb_dense_block=4,\n",
    "        growth_rate=6,\n",
    "        nb_layers_per_block=3,\n",
    "        init_conv_filters=48,\n",
    "        dropout_rate=dropout_rate,\n",
    "        final_softmax=final_softmax,\n",
    "        name_scope=\"FCDenseNet10\",\n",
    "        data_format=data_format,\n",
    "    )\n",
    "    return Model(inputs=inputs, outputs=logits)"
   ]
  }
 ],
 "metadata": {
  "kernelspec": {
   "display_name": "Python 3 (ipykernel)",
   "language": "python",
   "name": "python3"
  },
  "language_info": {
   "codemirror_mode": {
    "name": "ipython",
    "version": 3
   },
   "file_extension": ".py",
   "mimetype": "text/x-python",
   "name": "python",
   "nbconvert_exporter": "python",
   "pygments_lexer": "ipython3",
   "version": "3.10.5"
  }
 },
 "nbformat": 4,
 "nbformat_minor": 5
}
