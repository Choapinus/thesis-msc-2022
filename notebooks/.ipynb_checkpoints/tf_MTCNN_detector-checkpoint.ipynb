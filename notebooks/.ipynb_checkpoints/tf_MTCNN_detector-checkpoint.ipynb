{
 "cells": [
  {
   "cell_type": "code",
   "execution_count": 1,
   "id": "a3c75521-dbc1-48a0-8a74-3e1fd6c4e2ec",
   "metadata": {},
   "outputs": [],
   "source": [
    "# ref detector: https://towardsdatascience.com/face-detection-using-mtcnn-a-guide-for-face-extraction-with-a-focus-on-speed-c6d59f82d49\n",
    "# ref rotation: https://www.kaggle.com/code/gpiosenka/align-crop-resize-save-images-using-mtcnn\n",
    "\n",
    "import os\n",
    "import sys\n",
    "\n",
    "sys.path.append('../tflow/mtcnn')\n",
    "\n",
    "import cv2\n",
    "import json\n",
    "import numpy as np\n",
    "from tqdm import tqdm\n",
    "from mtcnn.mtcnn import MTCNN\n",
    "import matplotlib.pyplot as plt\n",
    "from imutils.paths import list_images\n",
    "from scipy.spatial.distance import euclidean\n",
    "from utils import load_image, align, crop_image, rotate_bound"
   ]
  },
  {
   "cell_type": "code",
   "execution_count": 2,
   "id": "03f3d3ad-75a1-4a25-9bd8-597f3c8c299d",
   "metadata": {},
   "outputs": [],
   "source": [
    "# 1. obj detection\n",
    "# obj: usar mtcnn para detectar regiones de interes y guardarlas en un archivo json\n",
    "# este preprocesado ayudará en las siguientes etapas.\n",
    "\n",
    "# 2. make splits\n",
    "# make splits for each dataset conjunction\n",
    "# extra: separate them into jsons/txt\n",
    "# - flickr vs flickr\n",
    "# - splunk vs splunk\n",
    "# - flickr vs splunk\n",
    "# - splunk vs flickr\n",
    "\n",
    "\n",
    "datasets = {\n",
    "    'flickr': '/media/choppy/WD_BLACK/datasets/FLICKR',\n",
    "    'splunk': '/media/choppy/WD_BLACK/datasets/Splunk',\n",
    "}\n",
    "\n",
    "verbose = True\n",
    "debug = False\n",
    "downscale_factor = 10 # used to downscale images and improve speed of mtcnn # seems not to be working"
   ]
  },
  {
   "cell_type": "code",
   "execution_count": 3,
   "id": "8f16d119-6a23-4071-8dad-07f60ced8bf9",
   "metadata": {},
   "outputs": [
    {
     "name": "stderr",
     "output_type": "stream",
     "text": [
      "2022-10-04 19:55:46.411144: I tensorflow/stream_executor/cuda/cuda_gpu_executor.cc:936] successful NUMA node read from SysFS had negative value (-1), but there must be at least one NUMA node, so returning NUMA node zero\n",
      "2022-10-04 19:55:46.438379: I tensorflow/stream_executor/cuda/cuda_gpu_executor.cc:936] successful NUMA node read from SysFS had negative value (-1), but there must be at least one NUMA node, so returning NUMA node zero\n",
      "2022-10-04 19:55:46.438785: I tensorflow/stream_executor/cuda/cuda_gpu_executor.cc:936] successful NUMA node read from SysFS had negative value (-1), but there must be at least one NUMA node, so returning NUMA node zero\n",
      "2022-10-04 19:55:46.439380: I tensorflow/core/platform/cpu_feature_guard.cc:151] This TensorFlow binary is optimized with oneAPI Deep Neural Network Library (oneDNN) to use the following CPU instructions in performance-critical operations:  SSE4.1 SSE4.2 AVX AVX2 FMA\n",
      "To enable them in other operations, rebuild TensorFlow with the appropriate compiler flags.\n",
      "2022-10-04 19:55:46.439770: I tensorflow/stream_executor/cuda/cuda_gpu_executor.cc:936] successful NUMA node read from SysFS had negative value (-1), but there must be at least one NUMA node, so returning NUMA node zero\n",
      "2022-10-04 19:55:46.440105: I tensorflow/stream_executor/cuda/cuda_gpu_executor.cc:936] successful NUMA node read from SysFS had negative value (-1), but there must be at least one NUMA node, so returning NUMA node zero\n",
      "2022-10-04 19:55:46.440424: I tensorflow/stream_executor/cuda/cuda_gpu_executor.cc:936] successful NUMA node read from SysFS had negative value (-1), but there must be at least one NUMA node, so returning NUMA node zero\n",
      "2022-10-04 19:55:46.856961: I tensorflow/stream_executor/cuda/cuda_gpu_executor.cc:936] successful NUMA node read from SysFS had negative value (-1), but there must be at least one NUMA node, so returning NUMA node zero\n",
      "2022-10-04 19:55:46.857285: I tensorflow/stream_executor/cuda/cuda_gpu_executor.cc:936] successful NUMA node read from SysFS had negative value (-1), but there must be at least one NUMA node, so returning NUMA node zero\n",
      "2022-10-04 19:55:46.857570: I tensorflow/stream_executor/cuda/cuda_gpu_executor.cc:936] successful NUMA node read from SysFS had negative value (-1), but there must be at least one NUMA node, so returning NUMA node zero\n",
      "2022-10-04 19:55:46.857835: I tensorflow/core/common_runtime/gpu/gpu_device.cc:1525] Created device /job:localhost/replica:0/task:0/device:GPU:0 with 4631 MB memory:  -> device: 0, name: NVIDIA GeForce GTX 1660 Ti with Max-Q Design, pci bus id: 0000:01:00.0, compute capability: 7.5\n"
     ]
    }
   ],
   "source": [
    "# instance detector\n",
    "# TODO: explore min and max face size of detector inference\n",
    "# detector = MTCNN(min_face_size=400)\n",
    "detector = MTCNN()"
   ]
  },
  {
   "cell_type": "code",
   "execution_count": null,
   "id": "cda4ef32-2651-476c-b29b-6fbcf29c8487",
   "metadata": {
    "scrolled": true,
    "tags": []
   },
   "outputs": [
    {
     "name": "stdout",
     "output_type": "stream",
     "text": [
      "doing inference over 14000 images from FLICKR\n"
     ]
    },
    {
     "name": "stderr",
     "output_type": "stream",
     "text": [
      "flickr:   0%|                                                                                                                                                                            | 0/14000 [00:00<?, ?it/s]2022-10-04 19:55:49.092508: I tensorflow/stream_executor/cuda/cuda_dnn.cc:368] Loaded cuDNN version 8401\n",
      "2022-10-04 19:55:54.413196: I tensorflow/core/platform/default/subprocess.cc:304] Start cannot spawn child process: No such file or directory\n",
      "2022-10-04 19:55:54.414141: I tensorflow/core/platform/default/subprocess.cc:304] Start cannot spawn child process: No such file or directory\n",
      "2022-10-04 19:55:54.414217: W tensorflow/stream_executor/gpu/asm_compiler.cc:80] Couldn't get ptxas version string: INTERNAL: Couldn't invoke ptxas --version\n",
      "2022-10-04 19:55:54.415298: I tensorflow/core/platform/default/subprocess.cc:304] Start cannot spawn child process: No such file or directory\n",
      "2022-10-04 19:55:54.415476: W tensorflow/stream_executor/gpu/redzone_allocator.cc:314] INTERNAL: Failed to launch ptxas\n",
      "Relying on driver to perform ptx compilation. \n",
      "Modify $PATH to customize ptxas location.\n",
      "This message will be only logged once.\n"
     ]
    },
    {
     "name": "stdout",
     "output_type": "stream",
     "text": [
      "more than one face detected in img: /media/choppy/WD_BLACK/datasets/FLICKR/ronda3/F_print_brillante_plano/F012000_print_brillante_plano_20220325194618.jpg, but only the biggest is stored\n"
     ]
    },
    {
     "name": "stderr",
     "output_type": "stream",
     "text": [
      "flickr:   0%|▏                                                                                                                                                                | 11/14000 [00:26<6:11:04,  1.59s/it]"
     ]
    },
    {
     "name": "stdout",
     "output_type": "stream",
     "text": [
      "no predictions for /media/choppy/WD_BLACK/datasets/FLICKR/ronda3/F_print_brillante_plano/F08442_print_brillante_plano_20220324000019.jpg, please check.\n"
     ]
    },
    {
     "name": "stderr",
     "output_type": "stream",
     "text": [
      "flickr:   0%|▏                                                                                                                                                                | 16/14000 [00:34<6:08:32,  1.58s/it]"
     ]
    },
    {
     "name": "stdout",
     "output_type": "stream",
     "text": [
      "no predictions for /media/choppy/WD_BLACK/datasets/FLICKR/ronda3/F_print_brillante_plano/F08454_print_brillante_plano_20220324001552.jpg, please check.\n"
     ]
    },
    {
     "name": "stderr",
     "output_type": "stream",
     "text": [
      "flickr:   0%|▍                                                                                                                                                                | 42/14000 [00:55<2:19:26,  1.67it/s]"
     ]
    },
    {
     "name": "stdout",
     "output_type": "stream",
     "text": [
      "no predictions for /media/choppy/WD_BLACK/datasets/FLICKR/ronda3/F_print_brillante_plano/F16209_print_brillante_plano_20220329042300.jpg, please check.\n"
     ]
    },
    {
     "name": "stderr",
     "output_type": "stream",
     "text": [
      "flickr:   0%|▊                                                                                                                                                                | 66/14000 [01:19<3:35:05,  1.08it/s]"
     ]
    },
    {
     "name": "stdout",
     "output_type": "stream",
     "text": [
      "no predictions for /media/choppy/WD_BLACK/datasets/FLICKR/ronda3/F_print_brillante_plano/F08935_print_brillante_plano_20220325040610.jpg, please check.\n"
     ]
    },
    {
     "name": "stderr",
     "output_type": "stream",
     "text": [
      "flickr:   1%|▊                                                                                                                                                                | 73/14000 [01:29<5:26:38,  1.41s/it]"
     ]
    },
    {
     "name": "stdout",
     "output_type": "stream",
     "text": [
      "no predictions for /media/choppy/WD_BLACK/datasets/FLICKR/ronda3/F_print_brillante_plano/F08961_print_brillante_plano_20220325042408.jpg, please check.\n"
     ]
    },
    {
     "name": "stderr",
     "output_type": "stream",
     "text": [
      "flickr:   1%|█▎                                                                                                                                                              | 113/14000 [02:16<5:18:18,  1.38s/it]"
     ]
    },
    {
     "name": "stdout",
     "output_type": "stream",
     "text": [
      "no predictions for /media/choppy/WD_BLACK/datasets/FLICKR/ronda3/F_print_brillante_plano/F08750_print_brillante_plano_20220324230941.jpg, please check.\n"
     ]
    },
    {
     "name": "stderr",
     "output_type": "stream",
     "text": [
      "flickr:   1%|█▌                                                                                                                                                              | 139/14000 [02:35<2:08:06,  1.80it/s]"
     ]
    },
    {
     "name": "stdout",
     "output_type": "stream",
     "text": [
      "no predictions for /media/choppy/WD_BLACK/datasets/FLICKR/ronda3/F_print_brillante_plano/F16415_print_brillante_plano_20220329133704.jpg, please check.\n"
     ]
    },
    {
     "name": "stderr",
     "output_type": "stream",
     "text": [
      "flickr:   1%|█▋                                                                                                                                                              | 153/14000 [02:43<2:41:37,  1.43it/s]"
     ]
    },
    {
     "name": "stdout",
     "output_type": "stream",
     "text": [
      "no predictions for /media/choppy/WD_BLACK/datasets/FLICKR/ronda3/F_print_brillante_plano/F12368_print_brillante_plano_20220326030356.jpg, please check.\n"
     ]
    },
    {
     "name": "stderr",
     "output_type": "stream",
     "text": [
      "flickr:   1%|█▊                                                                                                                                                              | 154/14000 [02:44<2:33:05,  1.51it/s]"
     ]
    },
    {
     "name": "stdout",
     "output_type": "stream",
     "text": [
      "no predictions for /media/choppy/WD_BLACK/datasets/FLICKR/ronda3/F_print_brillante_plano/F12369_print_brillante_plano_20220326030530.jpg, please check.\n"
     ]
    },
    {
     "name": "stderr",
     "output_type": "stream",
     "text": [
      "flickr:   1%|█▊                                                                                                                                                              | 155/14000 [02:44<2:26:49,  1.57it/s]"
     ]
    },
    {
     "name": "stdout",
     "output_type": "stream",
     "text": [
      "no predictions for /media/choppy/WD_BLACK/datasets/FLICKR/ronda3/F_print_brillante_plano/F12370_print_brillante_plano_20220326030636.jpg, please check.\n"
     ]
    },
    {
     "name": "stderr",
     "output_type": "stream",
     "text": [
      "flickr:   1%|█▉                                                                                                                                                              | 171/14000 [02:55<2:18:03,  1.67it/s]"
     ]
    },
    {
     "name": "stdout",
     "output_type": "stream",
     "text": [
      "no predictions for /media/choppy/WD_BLACK/datasets/FLICKR/ronda3/F_print_brillante_plano/F16044_print_brillante_plano_20220328235536.jpg, please check.\n"
     ]
    },
    {
     "name": "stderr",
     "output_type": "stream",
     "text": [
      "flickr:   1%|██▏                                                                                                                                                             | 190/14000 [03:10<4:45:24,  1.24s/it]"
     ]
    },
    {
     "name": "stdout",
     "output_type": "stream",
     "text": [
      "no predictions for /media/choppy/WD_BLACK/datasets/FLICKR/ronda3/F_print_brillante_plano/F08573_print_brillante_plano_20220324025509.jpg, please check.\n"
     ]
    },
    {
     "name": "stderr",
     "output_type": "stream",
     "text": [
      "flickr:   1%|██▏                                                                                                                                                             | 196/14000 [03:19<5:15:35,  1.37s/it]"
     ]
    },
    {
     "name": "stdout",
     "output_type": "stream",
     "text": [
      "no predictions for /media/choppy/WD_BLACK/datasets/FLICKR/ronda3/F_print_brillante_plano/F08585_print_brillante_plano_20220324031315.jpg, please check.\n"
     ]
    },
    {
     "name": "stderr",
     "output_type": "stream",
     "text": [
      "flickr:   2%|██▊                                                                                                                                                             | 245/14000 [04:09<2:08:31,  1.78it/s]"
     ]
    },
    {
     "name": "stdout",
     "output_type": "stream",
     "text": [
      "no predictions for /media/choppy/WD_BLACK/datasets/FLICKR/ronda3/F_print_brillante_plano/F16334_print_brillante_plano_20220329052234.jpg, please check.\n"
     ]
    },
    {
     "name": "stderr",
     "output_type": "stream",
     "text": [
      "flickr:   2%|███▏                                                                                                                                                            | 277/14000 [04:27<2:09:40,  1.76it/s]"
     ]
    },
    {
     "name": "stdout",
     "output_type": "stream",
     "text": [
      "no predictions for /media/choppy/WD_BLACK/datasets/FLICKR/ronda3/F_print_brillante_plano/F16586_print_brillante_plano_20220329195810.jpg, please check.\n"
     ]
    },
    {
     "name": "stderr",
     "output_type": "stream",
     "text": [
      "flickr:   2%|███▍                                                                                                                                                            | 301/14000 [04:54<4:29:02,  1.18s/it]"
     ]
    },
    {
     "name": "stdout",
     "output_type": "stream",
     "text": [
      "no predictions for /media/choppy/WD_BLACK/datasets/FLICKR/ronda3/F_print_brillante_plano/F12258_print_brillante_plano_20220326001237.jpg, please check.\n"
     ]
    },
    {
     "name": "stderr",
     "output_type": "stream",
     "text": [
      "flickr:   2%|███▍                                                                                                                                                            | 303/14000 [04:55<3:24:45,  1.11it/s]"
     ]
    },
    {
     "name": "stdout",
     "output_type": "stream",
     "text": [
      "no predictions for /media/choppy/WD_BLACK/datasets/FLICKR/ronda3/F_print_brillante_plano/F12268_print_brillante_plano_20220326001550.jpg, please check.\n"
     ]
    },
    {
     "name": "stderr",
     "output_type": "stream",
     "text": [
      "flickr:   2%|███▍                                                                                                                                                            | 305/14000 [04:57<2:59:23,  1.27it/s]"
     ]
    },
    {
     "name": "stdout",
     "output_type": "stream",
     "text": [
      "no predictions for /media/choppy/WD_BLACK/datasets/FLICKR/ronda3/F_print_brillante_plano/F12276_print_brillante_plano_20220326001837.jpg, please check.\n"
     ]
    },
    {
     "name": "stderr",
     "output_type": "stream",
     "text": [
      "flickr:   2%|███▌                                                                                                                                                            | 308/14000 [04:59<2:44:37,  1.39it/s]"
     ]
    },
    {
     "name": "stdout",
     "output_type": "stream",
     "text": [
      "no predictions for /media/choppy/WD_BLACK/datasets/FLICKR/ronda3/F_print_brillante_plano/F12279_print_brillante_plano_20220326002234.jpg, please check.\n"
     ]
    },
    {
     "name": "stderr",
     "output_type": "stream",
     "text": [
      "flickr:   2%|███▌                                                                                                                                                            | 311/14000 [05:01<2:35:52,  1.46it/s]"
     ]
    },
    {
     "name": "stdout",
     "output_type": "stream",
     "text": [
      "no predictions for /media/choppy/WD_BLACK/datasets/FLICKR/ronda3/F_print_brillante_plano/F12290_print_brillante_plano_20220326002613.jpg, please check.\n"
     ]
    },
    {
     "name": "stderr",
     "output_type": "stream",
     "text": [
      "flickr:   2%|███▌                                                                                                                                                            | 316/14000 [05:04<2:38:04,  1.44it/s]"
     ]
    },
    {
     "name": "stdout",
     "output_type": "stream",
     "text": [
      "no predictions for /media/choppy/WD_BLACK/datasets/FLICKR/ronda3/F_print_brillante_plano/F12300_print_brillante_plano_20220326003242.jpg, please check.\n"
     ]
    },
    {
     "name": "stderr",
     "output_type": "stream",
     "text": [
      "flickr:   2%|███▋                                                                                                                                                            | 320/14000 [05:07<2:39:58,  1.43it/s]"
     ]
    },
    {
     "name": "stdout",
     "output_type": "stream",
     "text": [
      "no predictions for /media/choppy/WD_BLACK/datasets/FLICKR/ronda3/F_print_brillante_plano/F12306_print_brillante_plano_20220326003736.jpg, please check.\n"
     ]
    },
    {
     "name": "stderr",
     "output_type": "stream",
     "text": [
      "flickr:   2%|███▋                                                                                                                                                            | 322/14000 [05:09<2:40:40,  1.42it/s]"
     ]
    },
    {
     "name": "stdout",
     "output_type": "stream",
     "text": [
      "more than one face detected in img: /media/choppy/WD_BLACK/datasets/FLICKR/ronda3/F_print_brillante_plano/F12311_print_brillante_plano_20220326004045.jpg, but only the biggest is stored\n"
     ]
    },
    {
     "name": "stderr",
     "output_type": "stream",
     "text": [
      "flickr:   3%|████▏                                                                                                                                                           | 367/14000 [05:43<2:10:40,  1.74it/s]"
     ]
    },
    {
     "name": "stdout",
     "output_type": "stream",
     "text": [
      "no predictions for /media/choppy/WD_BLACK/datasets/FLICKR/ronda3/F_print_brillante_plano/F16124_print_brillante_plano_20220329020941.jpg, please check.\n"
     ]
    },
    {
     "name": "stderr",
     "output_type": "stream",
     "text": [
      "flickr:   3%|████▍                                                                                                                                                           | 385/14000 [05:54<2:26:54,  1.54it/s]"
     ]
    },
    {
     "name": "stdout",
     "output_type": "stream",
     "text": [
      "more than one face detected in img: /media/choppy/WD_BLACK/datasets/FLICKR/ronda3/F_print_brillante_plano/F16230_print_brillante_plano_20220329043347.jpg, but only the biggest is stored\n"
     ]
    },
    {
     "name": "stderr",
     "output_type": "stream",
     "text": [
      "flickr:   3%|█████▏                                                                                                                                                          | 453/14000 [06:38<2:09:50,  1.74it/s]"
     ]
    },
    {
     "name": "stdout",
     "output_type": "stream",
     "text": [
      "no predictions for /media/choppy/WD_BLACK/datasets/FLICKR/ronda3/F_print_brillante_plano/F08880_print_brillante_plano_20220325020734.jpg, please check.\n"
     ]
    },
    {
     "name": "stderr",
     "output_type": "stream",
     "text": [
      "flickr:   3%|█████▍                                                                                                                                                          | 474/14000 [06:54<2:48:58,  1.33it/s]"
     ]
    },
    {
     "name": "stdout",
     "output_type": "stream",
     "text": [
      "no predictions for /media/choppy/WD_BLACK/datasets/FLICKR/ronda3/F_print_brillante_plano/F12546_print_brillante_plano_20220326200635.jpg, please check.\n"
     ]
    },
    {
     "name": "stderr",
     "output_type": "stream",
     "text": [
      "flickr:   4%|█████▌                                                                                                                                                          | 492/14000 [07:15<5:57:56,  1.59s/it]"
     ]
    },
    {
     "name": "stdout",
     "output_type": "stream",
     "text": [
      "more than one face detected in img: /media/choppy/WD_BLACK/datasets/FLICKR/ronda3/F_print_brillante_plano/F08509_print_brillante_plano_20220324013644.jpg, but only the biggest is stored\n"
     ]
    },
    {
     "name": "stderr",
     "output_type": "stream",
     "text": [
      "flickr:   4%|█████▋                                                                                                                                                          | 496/14000 [07:20<4:55:06,  1.31s/it]"
     ]
    },
    {
     "name": "stdout",
     "output_type": "stream",
     "text": [
      "no predictions for /media/choppy/WD_BLACK/datasets/FLICKR/ronda3/F_print_brillante_plano/F12430_print_brillante_plano_20220326034411.jpg, please check.\n"
     ]
    },
    {
     "name": "stderr",
     "output_type": "stream",
     "text": [
      "flickr:   4%|█████▋                                                                                                                                                          | 497/14000 [07:21<4:07:44,  1.10s/it]"
     ]
    },
    {
     "name": "stdout",
     "output_type": "stream",
     "text": [
      "no predictions for /media/choppy/WD_BLACK/datasets/FLICKR/ronda3/F_print_brillante_plano/F12432_print_brillante_plano_20220326034508.jpg, please check.\n"
     ]
    },
    {
     "name": "stderr",
     "output_type": "stream",
     "text": [
      "flickr:   4%|█████▋                                                                                                                                                          | 499/14000 [07:22<3:20:45,  1.12it/s]"
     ]
    },
    {
     "name": "stdout",
     "output_type": "stream",
     "text": [
      "no predictions for /media/choppy/WD_BLACK/datasets/FLICKR/ronda3/F_print_brillante_plano/F12436_print_brillante_plano_20220326034849.jpg, please check.\n"
     ]
    },
    {
     "name": "stderr",
     "output_type": "stream",
     "text": [
      "flickr:   4%|█████▋                                                                                                                                                          | 500/14000 [07:23<3:02:41,  1.23it/s]"
     ]
    },
    {
     "name": "stdout",
     "output_type": "stream",
     "text": [
      "no predictions for /media/choppy/WD_BLACK/datasets/FLICKR/ronda3/F_print_brillante_plano/F12437_print_brillante_plano_20220326035020.jpg, please check.\n"
     ]
    },
    {
     "name": "stderr",
     "output_type": "stream",
     "text": [
      "flickr:   4%|█████▋                                                                                                                                                          | 503/14000 [07:25<2:43:26,  1.38it/s]"
     ]
    },
    {
     "name": "stdout",
     "output_type": "stream",
     "text": [
      "no predictions for /media/choppy/WD_BLACK/datasets/FLICKR/ronda3/F_print_brillante_plano/F12442_print_brillante_plano_20220326035506.jpg, please check.\n"
     ]
    },
    {
     "name": "stderr",
     "output_type": "stream",
     "text": [
      "flickr:   4%|█████▊                                                                                                                                                          | 506/14000 [07:27<2:40:35,  1.40it/s]"
     ]
    },
    {
     "name": "stdout",
     "output_type": "stream",
     "text": [
      "no predictions for /media/choppy/WD_BLACK/datasets/FLICKR/ronda3/F_print_brillante_plano/F12445_print_brillante_plano_20220326035907.jpg, please check.\n"
     ]
    },
    {
     "name": "stderr",
     "output_type": "stream",
     "text": [
      "flickr:   4%|█████▊                                                                                                                                                          | 513/14000 [07:35<4:34:16,  1.22s/it]"
     ]
    },
    {
     "name": "stdout",
     "output_type": "stream",
     "text": [
      "no predictions for /media/choppy/WD_BLACK/datasets/FLICKR/ronda3/F_print_brillante_plano/F08661_print_brillante_plano_20220324213029.jpg, please check.\n"
     ]
    },
    {
     "name": "stderr",
     "output_type": "stream",
     "text": [
      "flickr:   4%|█████▉                                                                                                                                                          | 524/14000 [07:52<5:36:08,  1.50s/it]"
     ]
    },
    {
     "name": "stdout",
     "output_type": "stream",
     "text": [
      "no predictions for /media/choppy/WD_BLACK/datasets/FLICKR/ronda3/F_print_brillante_plano/F08693_print_brillante_plano_20220324220719.jpg, please check.\n"
     ]
    },
    {
     "name": "stderr",
     "output_type": "stream",
     "text": [
      "flickr:   4%|██████                                                                                                                                                          | 530/14000 [07:56<3:10:20,  1.18it/s]"
     ]
    },
    {
     "name": "stdout",
     "output_type": "stream",
     "text": [
      "no predictions for /media/choppy/WD_BLACK/datasets/FLICKR/ronda3/F_print_brillante_plano/F12865_print_brillante_plano_20220328205803.jpg, please check.\n"
     ]
    },
    {
     "name": "stderr",
     "output_type": "stream",
     "text": [
      "flickr:   4%|██████▏                                                                                                                                                         | 544/14000 [08:07<2:50:51,  1.31it/s]"
     ]
    },
    {
     "name": "stdout",
     "output_type": "stream",
     "text": [
      "no predictions for /media/choppy/WD_BLACK/datasets/FLICKR/ronda3/F_print_brillante_plano/F12897_print_brillante_plano_20220328211244.jpg, please check.\n"
     ]
    },
    {
     "name": "stderr",
     "output_type": "stream",
     "text": [
      "flickr:   4%|██████▎                                                                                                                                                         | 547/14000 [08:09<2:20:07,  1.60it/s]"
     ]
    },
    {
     "name": "stdout",
     "output_type": "stream",
     "text": [
      "no predictions for /media/choppy/WD_BLACK/datasets/FLICKR/ronda3/F_print_brillante_plano/F16351_print_brillante_plano_20220329053400.jpg, please check.\n"
     ]
    },
    {
     "name": "stderr",
     "output_type": "stream",
     "text": [
      "flickr:   4%|██████▍                                                                                                                                                         | 558/14000 [08:15<2:16:00,  1.65it/s]"
     ]
    }
   ],
   "source": [
    "i = 0\n",
    "\n",
    "for dst_key in datasets:\n",
    "    ds_dir = datasets.get(dst_key)\n",
    "    # images = list(sorted([*list_images(ds_dir)], reverse=True))\n",
    "    images = [*list_images(ds_dir)]\n",
    "    # np.random.shuffle(images)\n",
    "    db_name = os.path.basename(ds_dir)\n",
    "    json_data = []\n",
    "    \n",
    "    print(f\"doing inference over {len(images)} images from {db_name}\")\n",
    "    \n",
    "    for imdir in tqdm(images, desc=dst_key):\n",
    "        img = load_image(imdir)\n",
    "        \n",
    "        if img is None:\n",
    "            if verbose: print(f'img {imdir} could not be loaded. Check')\n",
    "            continue\n",
    "        \n",
    "        original_shape = img.shape[:2]\n",
    "        _shape = np.array(img.shape[:2]) // downscale_factor\n",
    "        img = cv2.resize(img, _shape)\n",
    "        detections = detector.detect_faces(img)\n",
    "        img_path_dir = imdir.split(db_name)[-1][1:]\n",
    "        \n",
    "        # find best detection and biggest bbox\n",
    "        biggest = 0\n",
    "        best_det = None\n",
    "        if len(detections) > 1:\n",
    "            if verbose: print(f'more than one face detected in img: {imdir}, but only the biggest is stored')\n",
    "            for det in detections:\n",
    "                box = det['box']            \n",
    "                # calculate the area in the image\n",
    "                area = box[2] * box[3]\n",
    "                if area > biggest:\n",
    "                    biggest = area\n",
    "                    bbox = box\n",
    "                    best_det = det\n",
    "        elif len(detections) == 1:\n",
    "            best_det = detections[0]\n",
    "        else:\n",
    "            if verbose: print(f'no predictions for {imdir}, please check.')\n",
    "            continue\n",
    "        \n",
    "        # continue working with best_det dict\n",
    "        # scale up data from best_det\n",
    "        best_det['box'] = (np.array(best_det['box']) * downscale_factor).tolist()\n",
    "        for bkey in best_det['keypoints'].keys():\n",
    "            best_det['keypoints'][bkey] = (np.array(best_det['keypoints'][bkey]) * downscale_factor).tolist()\n",
    "        \n",
    "        red = [255, 0, 0]\n",
    "        bbox = best_det['box']\n",
    "        nose = best_det.get('keypoints')['nose']\n",
    "        left_eye, right_eye = best_det.get('keypoints')['left_eye'], best_det.get('keypoints')['right_eye']\n",
    "        dst1, dst2 = euclidean(left_eye, nose), euclidean(right_eye, nose)\n",
    "        mean_dst = np.mean([dst1, dst2]).astype(np.uint16)\n",
    "\n",
    "        # upscale image to checkout method\n",
    "        img = cv2.resize(img, original_shape)\n",
    "        periocular = img.copy()\n",
    "        \n",
    "        pt1 = (bbox[0], left_eye[1]-int(mean_dst*0.6))\n",
    "        pt2 = (bbox[0]+bbox[2], right_eye[1]+int(mean_dst*0.6))\n",
    "        \n",
    "        if debug:\n",
    "            periocular = periocular[ pt1[1]:pt2[1], pt1[0]:pt2[0], ... ] # use the generated points to crop the ROI\n",
    "\n",
    "            # face + distance\n",
    "            periocular = cv2.rectangle(periocular, pt1, pt2, color=red, thickness=50)\n",
    "\n",
    "            plt.figure(figsize=(10, 8))\n",
    "            plt.imshow(periocular)\n",
    "            \n",
    "            i += 1\n",
    "            \n",
    "            if i == 5:\n",
    "                break\n",
    "            \n",
    "        # make dict data with periocular region\n",
    "        peri_data = {\n",
    "            'image_dir': os.path.join(db_name, img_path_dir),\n",
    "            'mtcnn-inference': best_det, \n",
    "            'handcrafted': {\n",
    "                'periocular': [pt1[1], pt2[1], pt1[0], pt2[0]], # y2, y1, x2, x1\n",
    "                'description': 'crop of full size image with following format [y2, y1, x2, x1]. This new region was obtained calculing the 60% of euclidean distance between l/r eye and nose, by this way we get y-axis location, and x-axis location correspond to boundingbox xy detected by mtcnn'\n",
    "            }   \n",
    "        }\n",
    "        \n",
    "        json_data.append(peri_data)\n",
    "        \n",
    "        \n",
    "    \n",
    "    # store json data as db-name.json\n",
    "    json.dump(json_data, open(db_name+'.json', 'w'))"
   ]
  },
  {
   "cell_type": "code",
   "execution_count": null,
   "id": "fbbdd9e1-c3a1-4710-a4cc-f0b50caaf3be",
   "metadata": {},
   "outputs": [],
   "source": [
    "# para hacer zona periocular\n",
    "\n",
    "# distancia entre cada ojo y agregar 20% de margen izq/der\n",
    "# para altura, triangular distancia desde los ojos hasta la nariz y estimar un 20-30%\n",
    "\n",
    "\n",
    "# calcular distancia euclideana entre ambos puntos (nariz y ambos ojos) y calcular promedio\n",
    "# a ese promedio aplicarle 20-30% de margen\n",
    "\n",
    "# all done"
   ]
  },
  {
   "cell_type": "code",
   "execution_count": null,
   "id": "628fd6a0-96f8-4b7f-ba63-5e32db905ac1",
   "metadata": {},
   "outputs": [],
   "source": []
  }
 ],
 "metadata": {
  "kernelspec": {
   "display_name": "Python 3 (ipykernel)",
   "language": "python",
   "name": "python3"
  },
  "language_info": {
   "codemirror_mode": {
    "name": "ipython",
    "version": 3
   },
   "file_extension": ".py",
   "mimetype": "text/x-python",
   "name": "python",
   "nbconvert_exporter": "python",
   "pygments_lexer": "ipython3",
   "version": "3.9.13"
  }
 },
 "nbformat": 4,
 "nbformat_minor": 5
}
