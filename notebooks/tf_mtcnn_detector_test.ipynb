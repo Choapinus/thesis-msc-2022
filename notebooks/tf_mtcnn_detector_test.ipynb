{
 "cells": [
  {
   "cell_type": "code",
   "execution_count": null,
   "id": "a3c75521-dbc1-48a0-8a74-3e1fd6c4e2ec",
   "metadata": {},
   "outputs": [],
   "source": [
    "# ref: https://towardsdatascience.com/face-detection-using-mtcnn-a-guide-for-face-extraction-with-a-focus-on-speed-c6d59f82d49\n",
    "\n",
    "\n",
    "import os\n",
    "import sys\n",
    "\n",
    "sys.path.append('../tflow/mtcnn')\n",
    "\n",
    "import cv2\n",
    "import numpy as np\n",
    "from utils import load_image\n",
    "from mtcnn.mtcnn import MTCNN\n",
    "import matplotlib.pyplot as plt\n",
    "from imutils.paths import list_images"
   ]
  },
  {
   "cell_type": "code",
   "execution_count": null,
   "id": "cda4ef32-2651-476c-b29b-6fbcf29c8487",
   "metadata": {},
   "outputs": [],
   "source": [
    "datapath = {\n",
    "    'images_path': \"/home/choppy/TOC/thesis-msc-2022/data/images/aws/bonafide/via_marked\",\n",
    "    # 'via_file': \"/home/choppy/TOC/thesis-msc-2022/data/images/aws/bonafide/via_marked/via_region_data.json\"\n",
    "}\n",
    "\n",
    "images = sorted([*list_images(datapath.get('images_path'))])\n",
    "len(images)"
   ]
  },
  {
   "cell_type": "code",
   "execution_count": null,
   "id": "aa133842-2a1c-46f9-8aba-7738cadeaeda",
   "metadata": {},
   "outputs": [],
   "source": [
    "image_path = images[4]\n",
    "img = load_image(image_path)\n",
    "detector = MTCNN()\n",
    "detections = detector.detect_faces(img)\n",
    "detections"
   ]
  },
  {
   "cell_type": "code",
   "execution_count": null,
   "id": "fb2e80d6-cdd0-460a-9b59-efdaa256a3f0",
   "metadata": {},
   "outputs": [],
   "source": [
    "fig, ax = plt.subplots(1, 1, figsize=(10, 8))\n",
    "\n",
    "le_center = detections[0]['keypoints'].get('left_eye')\n",
    "re_center = detections[0]['keypoints'].get('right_eye')\n",
    "\n",
    "le_center = np.array(le_center)\n",
    "re_center = np.array(re_center)\n",
    "\n",
    "le_pt1 = le_center - 30\n",
    "le_pt2 = le_center + 25\n",
    "# TODO: correct pts within min-width and max-height\n",
    "re_pt1 = re_center - 30\n",
    "re_pt2 = re_center + 25\n",
    "\n",
    "draw_img = cv2.rectangle(img, le_pt1, le_pt2, [255, 0, 0])\n",
    "draw_img = cv2.rectangle(draw_img, re_pt1, re_pt2, [255, 0, 0])\n",
    "# draw_img = cv2.circle(img, le_center, 5, [255, 0, 0])\n",
    "plt.imshow(draw_img)\n",
    "plt.axis('off')\n",
    "plt.show()"
   ]
  },
  {
   "cell_type": "code",
   "execution_count": null,
   "id": "482dedf4-1ca0-446f-97e8-0ab9f4ba7875",
   "metadata": {},
   "outputs": [],
   "source": [
    "detections"
   ]
  },
  {
   "cell_type": "code",
   "execution_count": null,
   "id": "6a0bcaad-88c1-4ff4-9ed6-d85e71bcfd35",
   "metadata": {},
   "outputs": [],
   "source": [
    "img.shape"
   ]
  },
  {
   "cell_type": "code",
   "execution_count": null,
   "id": "5be21b77-53cd-4ac7-8094-94565223c6f9",
   "metadata": {},
   "outputs": [],
   "source": [
    "fig, ax = plt.subplots(1, 1, figsize=(10, 8))\n",
    "\n",
    "le_center = detections[0]['keypoints'].get('left_eye')\n",
    "re_center = detections[0]['keypoints'].get('right_eye')\n",
    "\n",
    "le_center = np.array(le_center)\n",
    "re_center = np.array(re_center)\n",
    "\n",
    "le_pt1 = le_center - 30\n",
    "le_pt2 = le_center + 25\n",
    "# TODO: correct pts within min-width and max-height\n",
    "re_pt1 = re_center - 30\n",
    "re_pt2 = re_center + 25\n",
    "\n",
    "\n",
    "height = img.shape[0]\n",
    "width = img.shape[1]\n",
    "# obtener proporcional\n",
    "\n",
    "\n",
    "\n",
    "draw_img = cv2.rectangle(img, le_pt1, le_pt2, [255, 0, 0])\n",
    "draw_img = cv2.rectangle(draw_img, re_pt1, re_pt2, [255, 0, 0])\n",
    "# draw_img = cv2.circle(img, le_center, 5, [255, 0, 0])\n",
    "plt.imshow(draw_img)\n",
    "plt.axis('off')\n",
    "plt.show()"
   ]
  }
 ],
 "metadata": {
  "kernelspec": {
   "display_name": "Python 3 (ipykernel)",
   "language": "python",
   "name": "python3"
  },
  "language_info": {
   "codemirror_mode": {
    "name": "ipython",
    "version": 3
   },
   "file_extension": ".py",
   "mimetype": "text/x-python",
   "name": "python",
   "nbconvert_exporter": "python",
   "pygments_lexer": "ipython3",
   "version": "3.9.13"
  }
 },
 "nbformat": 4,
 "nbformat_minor": 5
}
