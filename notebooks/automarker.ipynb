{
 "cells": [
  {
   "cell_type": "code",
   "execution_count": 1,
   "id": "54e7d74a-c1d2-4d10-b05d-26906d80acef",
   "metadata": {},
   "outputs": [],
   "source": [
    "# load model and make automarker\n",
    "# TODO: mark a range of images, not all because at the begining the model have low accuracy"
   ]
  },
  {
   "cell_type": "code",
   "execution_count": null,
   "id": "39f4f38e-e94f-469e-a59c-b25a163c08c4",
   "metadata": {},
   "outputs": [],
   "source": []
  }
 ],
 "metadata": {
  "kernelspec": {
   "display_name": "Python 3 (ipykernel)",
   "language": "python",
   "name": "python3"
  },
  "language_info": {
   "codemirror_mode": {
    "name": "ipython",
    "version": 3
   },
   "file_extension": ".py",
   "mimetype": "text/x-python",
   "name": "python",
   "nbconvert_exporter": "python",
   "pygments_lexer": "ipython3",
   "version": "3.9.13"
  }
 },
 "nbformat": 4,
 "nbformat_minor": 5
}
