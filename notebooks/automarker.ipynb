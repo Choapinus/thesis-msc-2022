{
 "cells": [
  {
   "cell_type": "code",
   "execution_count": 1,
   "id": "54e7d74a-c1d2-4d10-b05d-26906d80acef",
   "metadata": {},
   "outputs": [],
   "source": [
    "# load model and make automarker\n",
    "# TODO: mark a range of images, not all because at the begining the model have low accuracy"
   ]
  },
  {
   "cell_type": "code",
   "execution_count": 1,
   "id": "39f4f38e-e94f-469e-a59c-b25a163c08c4",
   "metadata": {},
   "outputs": [],
   "source": [
    "import os\n",
    "import cv2\n",
    "import json\n",
    "import numpy as np\n",
    "import tensorflow as tf\n",
    "from utils import load_image\n",
    "import matplotlib.pyplot as plt\n",
    "from imutils.paths import list_images"
   ]
  },
  {
   "cell_type": "code",
   "execution_count": 2,
   "id": "5ca45085-a605-4163-a549-80bc1db077f2",
   "metadata": {},
   "outputs": [
    {
     "name": "stderr",
     "output_type": "stream",
     "text": [
      "2022-08-02 11:26:24.107089: I tensorflow/stream_executor/cuda/cuda_gpu_executor.cc:936] successful NUMA node read from SysFS had negative value (-1), but there must be at least one NUMA node, so returning NUMA node zero\n",
      "2022-08-02 11:26:24.717116: I tensorflow/stream_executor/cuda/cuda_gpu_executor.cc:936] successful NUMA node read from SysFS had negative value (-1), but there must be at least one NUMA node, so returning NUMA node zero\n",
      "2022-08-02 11:26:24.719120: I tensorflow/stream_executor/cuda/cuda_gpu_executor.cc:936] successful NUMA node read from SysFS had negative value (-1), but there must be at least one NUMA node, so returning NUMA node zero\n",
      "2022-08-02 11:26:24.721204: I tensorflow/core/platform/cpu_feature_guard.cc:151] This TensorFlow binary is optimized with oneAPI Deep Neural Network Library (oneDNN) to use the following CPU instructions in performance-critical operations:  SSE4.1 SSE4.2 AVX AVX2 FMA\n",
      "To enable them in other operations, rebuild TensorFlow with the appropriate compiler flags.\n",
      "2022-08-02 11:26:24.723198: I tensorflow/stream_executor/cuda/cuda_gpu_executor.cc:936] successful NUMA node read from SysFS had negative value (-1), but there must be at least one NUMA node, so returning NUMA node zero\n",
      "2022-08-02 11:26:24.724846: I tensorflow/stream_executor/cuda/cuda_gpu_executor.cc:936] successful NUMA node read from SysFS had negative value (-1), but there must be at least one NUMA node, so returning NUMA node zero\n",
      "2022-08-02 11:26:24.726625: I tensorflow/stream_executor/cuda/cuda_gpu_executor.cc:936] successful NUMA node read from SysFS had negative value (-1), but there must be at least one NUMA node, so returning NUMA node zero\n",
      "2022-08-02 11:26:30.740441: I tensorflow/stream_executor/cuda/cuda_gpu_executor.cc:936] successful NUMA node read from SysFS had negative value (-1), but there must be at least one NUMA node, so returning NUMA node zero\n",
      "2022-08-02 11:26:30.742404: I tensorflow/stream_executor/cuda/cuda_gpu_executor.cc:936] successful NUMA node read from SysFS had negative value (-1), but there must be at least one NUMA node, so returning NUMA node zero\n",
      "2022-08-02 11:26:30.744554: I tensorflow/stream_executor/cuda/cuda_gpu_executor.cc:936] successful NUMA node read from SysFS had negative value (-1), but there must be at least one NUMA node, so returning NUMA node zero\n",
      "2022-08-02 11:26:30.745991: I tensorflow/core/common_runtime/gpu/gpu_device.cc:1525] Created device /job:localhost/replica:0/task:0/device:GPU:0 with 4631 MB memory:  -> device: 0, name: NVIDIA GeForce GTX 1660 Ti with Max-Q Design, pci bus id: 0000:01:00.0, compute capability: 7.5\n"
     ]
    }
   ],
   "source": [
    "eye_detector = tf.keras.models.load_model('eye_detector_model.hdf5')"
   ]
  },
  {
   "cell_type": "code",
   "execution_count": 3,
   "id": "21d48355-f675-4580-aca1-ea23cdaa17ec",
   "metadata": {},
   "outputs": [
    {
     "data": {
      "text/plain": [
       "'80,640 total params'"
      ]
     },
     "execution_count": 3,
     "metadata": {},
     "output_type": "execute_result"
    }
   ],
   "source": [
    "f'{eye_detector.count_params():,} total params'"
   ]
  },
  {
   "cell_type": "code",
   "execution_count": 4,
   "id": "439aa4ce-664d-4fee-9644-36f14be4206e",
   "metadata": {},
   "outputs": [],
   "source": [
    "datapath = {\n",
    "    'images_path': \"/home/choppy/TOC/thesis-msc-2022/data/images/aws/bonafide/unmarked\",\n",
    "    'via_file': None\n",
    "}\n",
    "\n",
    "images_path = sorted([*list_images(datapath.get('images_path'))])"
   ]
  },
  {
   "cell_type": "code",
   "execution_count": 5,
   "id": "2a729035-273e-4ded-aec0-e2119fcd5975",
   "metadata": {},
   "outputs": [],
   "source": [
    "# add gt as a green box"
   ]
  },
  {
   "cell_type": "code",
   "execution_count": 1,
   "id": "991dd74c-9624-4717-b8d0-df0ed5ac7098",
   "metadata": {},
   "outputs": [
    {
     "ename": "NameError",
     "evalue": "name 'load_image' is not defined",
     "output_type": "error",
     "traceback": [
      "\u001b[0;31m---------------------------------------------------------------------------\u001b[0m",
      "\u001b[0;31mNameError\u001b[0m                                 Traceback (most recent call last)",
      "Input \u001b[0;32mIn [1]\u001b[0m, in \u001b[0;36m<cell line: 1>\u001b[0;34m()\u001b[0m\n\u001b[0;32m----> 1\u001b[0m image \u001b[38;5;241m=\u001b[39m \u001b[43mload_image\u001b[49m(np\u001b[38;5;241m.\u001b[39mrandom\u001b[38;5;241m.\u001b[39mchoice(images_path))\n\u001b[1;32m      2\u001b[0m \u001b[38;5;66;03m# redim image\u001b[39;00m\n\u001b[1;32m      3\u001b[0m original_shape \u001b[38;5;241m=\u001b[39m image\u001b[38;5;241m.\u001b[39mshape[:] \u001b[38;5;66;03m# h, w, c = image.shape\u001b[39;00m\n",
      "\u001b[0;31mNameError\u001b[0m: name 'load_image' is not defined"
     ]
    }
   ],
   "source": [
    "image = load_image(np.random.choice(images_path))\n",
    "# redim image\n",
    "original_shape = image.shape[:] # h, w, c = image.shape\n",
    "image_input = cv2.resize(image, (224, 224))\n",
    "# create new axis\n",
    "image_input = image_input[np.newaxis, ...]\n",
    "\n",
    "# format image and do inference\n",
    "image_input = image_input  / 255.\n",
    "\n",
    "pred = eye_detector.predict(image_input)[0]\n",
    "\n",
    "h, w, c = original_shape\n",
    "pred = pred * [w, h, w, h] # image width, height\n",
    "pred = pred.astype(np.int32)\n",
    "# pred\n",
    "pt1 = pred[:2]\n",
    "pt2 = pred[:2] + pred[2:]\n",
    "rect_image = image = cv2.rectangle(image, pt1, pt2, [200, 50, 50], thickness=2)\n",
    "\n",
    "fig, ax = plt.subplots(1, 1, figsize=(5, 7))\n",
    "\n",
    "# ax.add_image(rect_image)\n",
    "ax.imshow(rect_image)\n",
    "ax.axis('off')\n",
    "\n",
    "plt.show()"
   ]
  },
  {
   "cell_type": "code",
   "execution_count": null,
   "id": "55d21e04-a03c-41a7-b92d-0028675e5a0f",
   "metadata": {},
   "outputs": [],
   "source": [
    "# generate gif with random data to show how improves over time"
   ]
  },
  {
   "cell_type": "code",
   "execution_count": 8,
   "id": "fbba7ad0-3c92-4ed2-b826-f04fd50516f4",
   "metadata": {
    "scrolled": true,
    "tags": []
   },
   "outputs": [],
   "source": [
    "# select range of images\n",
    "_from = 0\n",
    "_to = 50\n",
    "\n",
    "# make via json format\n",
    "via_json = {}\n",
    "\n",
    "for i in range(_from, _to):\n",
    "    impath = images_path[i]\n",
    "    filename = os.path.basename(impath)\n",
    "    image = load_image(impath)\n",
    "    \n",
    "    original_shape = image.shape[:] # h, w, c = image.shape\n",
    "    image_input = cv2.resize(image, (224, 224))\n",
    "    image_input = image_input[np.newaxis, ...]\n",
    "    image_input = image_input  / 255.\n",
    "    \n",
    "    pred = eye_detector.predict(image_input)[0]\n",
    "    \n",
    "    h, w, c = original_shape\n",
    "    pred = pred * [w, h, w, h] # image width, height\n",
    "    pred = pred.astype(np.int32)\n",
    "    \n",
    "    x_start, y_start, x_end, y_end = pred\n",
    "    x_end = x_end - x_start\n",
    "    y_end = y_end - y_start\n",
    "    \n",
    "    # structure\n",
    "    # {\n",
    "    #     \"M2E0M2VkO0EyMTIzMDg1.png143502\": {\n",
    "    #         \"filename\": \"M2E0M2VkO0EyMTIzMDg1.png\",\n",
    "    #         \"size\": 143502,\n",
    "    #         \"regions\": [\n",
    "    #             {\n",
    "    #                 \"shape_attributes\": {\n",
    "    #                     \"name\": \"rect\",\n",
    "    #                     \"x\": 62,\n",
    "    #                     \"y\": 137,\n",
    "    #                     \"width\": 106,\n",
    "    #                     \"height\": 47\n",
    "    #                 },\n",
    "    #                 \"region_attributes\": {\n",
    "    #                     \"Face\": \"Periocular\"\n",
    "    #                 }\n",
    "    #             }\n",
    "    #         ],\n",
    "    #         \"file_attributes\": {}\n",
    "    #     },\n",
    "    # }\n",
    "    \n",
    "    filesize = os.path.getsize(impath)\n",
    "    obj = {\n",
    "        \"filename\": filename,\n",
    "        \"size\": filesize,\n",
    "        \"regions\": [\n",
    "            {\n",
    "                \"shape_attributes\": {\n",
    "                    \"name\": \"rect\",\n",
    "                    \"x\": int(x_start),\n",
    "                    \"y\": int(y_start),\n",
    "                    \"width\": int(x_end),\n",
    "                    \"height\": int(y_end),\n",
    "                },\n",
    "                \"region_attributes\": {\n",
    "                    \"Face\": \"Periocular\"\n",
    "                }\n",
    "            }\n",
    "        ],\n",
    "        \"file_attributes\": {}\n",
    "    }\n",
    "    \n",
    "    via_json[f'{filename}{filesize}'] = obj\n",
    "    \n",
    "    \n",
    "    \n",
    "#     pt1 = pred[:2]\n",
    "#     pt2 = pred[2:]\n",
    "#     rect_image = image = cv2.rectangle(image, pt1, pt2, [200, 50, 50], thickness=2)\n",
    "    \n",
    "#     plt.imshow(image)\n",
    "#     plt.axis('off')\n",
    "#     plt.show()"
   ]
  },
  {
   "cell_type": "code",
   "execution_count": 9,
   "id": "ece2c0e6-6d7a-4b6f-94f8-760a50461a46",
   "metadata": {},
   "outputs": [],
   "source": [
    "json.dump(via_json, open('regs.json', 'w'))"
   ]
  },
  {
   "cell_type": "code",
   "execution_count": null,
   "id": "bfa95618-36a7-4382-aff2-32fdeda1a05c",
   "metadata": {},
   "outputs": [],
   "source": []
  }
 ],
 "metadata": {
  "kernelspec": {
   "display_name": "Python 3 (ipykernel)",
   "language": "python",
   "name": "python3"
  },
  "language_info": {
   "codemirror_mode": {
    "name": "ipython",
    "version": 3
   },
   "file_extension": ".py",
   "mimetype": "text/x-python",
   "name": "python",
   "nbconvert_exporter": "python",
   "pygments_lexer": "ipython3",
   "version": "3.9.13"
  }
 },
 "nbformat": 4,
 "nbformat_minor": 5
}
