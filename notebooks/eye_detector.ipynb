{
 "cells": [
  {
   "cell_type": "code",
   "execution_count": 1,
   "id": "fe1dc9c1-8520-44a7-af5a-f819a17043d0",
   "metadata": {},
   "outputs": [],
   "source": [
    "# load densenet arch and make an eye detector (idea: with attention regions)"
   ]
  },
  {
   "cell_type": "code",
   "execution_count": 2,
   "id": "1a3eef35-b324-4a6f-824a-426330b5d4a2",
   "metadata": {},
   "outputs": [],
   "source": [
    "import os\n",
    "import sys\n",
    "\n",
    "sys.path.append('../')\n",
    "\n",
    "import cv2\n",
    "import json\n",
    "import math\n",
    "import numpy as np\n",
    "from PIL import Image\n",
    "import tensorflow as tf\n",
    "import matplotlib.pyplot as plt\n",
    "\n",
    "from utils import load_image\n",
    "from augmentations import avg_aug"
   ]
  },
  {
   "cell_type": "code",
   "execution_count": 3,
   "id": "1f065c6b-d5e1-4557-9da3-523bbf961f74",
   "metadata": {},
   "outputs": [],
   "source": [
    "from tflow.DenseNet10.keras_fc_densenet import _create_fc_dense_net\n",
    "from tflow.DenseNet10.keras_fc_densenet import _dense_block, _transition_down_block"
   ]
  },
  {
   "cell_type": "code",
   "execution_count": 4,
   "id": "e0031a84-3c3c-4f6c-a8b5-ec6bf93ccdb3",
   "metadata": {},
   "outputs": [],
   "source": [
    "import tensorflow as tf\n",
    "from tensorflow.keras.models import Model\n",
    "from tensorflow.keras.layers import Conv2D, Dense, Input, BatchNormalization, Activation, Dropout, GlobalMaxPool2D, GlobalAveragePooling2D\n",
    "from tensorflow.keras.regularizers import l2"
   ]
  },
  {
   "cell_type": "code",
   "execution_count": 5,
   "id": "9c1583ab-a3dd-43dd-86d1-14aa03d7d09d",
   "metadata": {},
   "outputs": [
    {
     "name": "stderr",
     "output_type": "stream",
     "text": [
      "2022-08-02 11:52:07.240008: I tensorflow/stream_executor/cuda/cuda_gpu_executor.cc:936] successful NUMA node read from SysFS had negative value (-1), but there must be at least one NUMA node, so returning NUMA node zero\n",
      "2022-08-02 11:52:07.273701: I tensorflow/stream_executor/cuda/cuda_gpu_executor.cc:936] successful NUMA node read from SysFS had negative value (-1), but there must be at least one NUMA node, so returning NUMA node zero\n",
      "2022-08-02 11:52:07.274234: I tensorflow/stream_executor/cuda/cuda_gpu_executor.cc:936] successful NUMA node read from SysFS had negative value (-1), but there must be at least one NUMA node, so returning NUMA node zero\n",
      "2022-08-02 11:52:07.275032: I tensorflow/core/platform/cpu_feature_guard.cc:151] This TensorFlow binary is optimized with oneAPI Deep Neural Network Library (oneDNN) to use the following CPU instructions in performance-critical operations:  SSE4.1 SSE4.2 AVX AVX2 FMA\n",
      "To enable them in other operations, rebuild TensorFlow with the appropriate compiler flags.\n",
      "2022-08-02 11:52:07.275767: I tensorflow/stream_executor/cuda/cuda_gpu_executor.cc:936] successful NUMA node read from SysFS had negative value (-1), but there must be at least one NUMA node, so returning NUMA node zero\n",
      "2022-08-02 11:52:07.276369: I tensorflow/stream_executor/cuda/cuda_gpu_executor.cc:936] successful NUMA node read from SysFS had negative value (-1), but there must be at least one NUMA node, so returning NUMA node zero\n",
      "2022-08-02 11:52:07.276727: I tensorflow/stream_executor/cuda/cuda_gpu_executor.cc:936] successful NUMA node read from SysFS had negative value (-1), but there must be at least one NUMA node, so returning NUMA node zero\n",
      "2022-08-02 11:52:07.795126: I tensorflow/stream_executor/cuda/cuda_gpu_executor.cc:936] successful NUMA node read from SysFS had negative value (-1), but there must be at least one NUMA node, so returning NUMA node zero\n",
      "2022-08-02 11:52:07.795535: I tensorflow/stream_executor/cuda/cuda_gpu_executor.cc:936] successful NUMA node read from SysFS had negative value (-1), but there must be at least one NUMA node, so returning NUMA node zero\n",
      "2022-08-02 11:52:07.795872: I tensorflow/stream_executor/cuda/cuda_gpu_executor.cc:936] successful NUMA node read from SysFS had negative value (-1), but there must be at least one NUMA node, so returning NUMA node zero\n",
      "2022-08-02 11:52:07.796197: I tensorflow/core/common_runtime/gpu/gpu_device.cc:1525] Created device /job:localhost/replica:0/task:0/device:GPU:0 with 4631 MB memory:  -> device: 0, name: NVIDIA GeForce GTX 1660 Ti with Max-Q Design, pci bus id: 0000:01:00.0, compute capability: 7.5\n"
     ]
    }
   ],
   "source": [
    "# make a better way to store all this in a config.json file to be readable as \"experiment\" counter # save a list of this json objects\n",
    "\n",
    "img_input = Input((224, 224, 3))\n",
    "bn_momentum = 0.9\n",
    "concat_axis = -1\n",
    "data_format = \"channels_last\"\n",
    "dropout_rate = 0.2\n",
    "weight_decay = 1e-4\n",
    "transition_pooling = 'max'\n",
    "\n",
    "# Initial convolution\n",
    "with tf.name_scope(\"Initial\"):\n",
    "    x = Conv2D(\n",
    "        128,\n",
    "        (3, 3),\n",
    "        kernel_initializer=\"he_normal\",\n",
    "        padding=\"same\",\n",
    "        use_bias=False,\n",
    "        kernel_regularizer=l2(weight_decay),\n",
    "        data_format=data_format,\n",
    "    )(img_input)\n",
    "    x = BatchNormalization(\n",
    "        momentum=bn_momentum, axis=concat_axis, epsilon=1.1e-5\n",
    "    )(x)\n",
    "    x = Activation(\"relu\")(x)"
   ]
  },
  {
   "cell_type": "code",
   "execution_count": 6,
   "id": "ac321452-fd29-4fc7-a397-70c987d41f89",
   "metadata": {},
   "outputs": [],
   "source": [
    "# keeps track of the current number of feature maps\n",
    "nb_filter = 42\n",
    "growth_rate = 4\n",
    "nb_dense_block = 4\n",
    "nb_layers_per_block = 3\n",
    "bottleneck_nb_layers = nb_layers_per_block\n",
    "nb_layers = [nb_layers_per_block] * (2 * nb_dense_block + 1)\n",
    "\n",
    "# collect skip connections on the downsampling path so that\n",
    "# they can be concatenated with outputs on the upsampling path\n",
    "skip_list = []\n",
    "\n",
    "# Build the downsampling path by adding dense blocks and transition down blocks\n",
    "for block_idx in range(nb_dense_block):\n",
    "    x, nb_filter, _ = _dense_block(\n",
    "        x,\n",
    "        nb_layers[block_idx],\n",
    "        nb_filter,\n",
    "        growth_rate,\n",
    "        bn_momentum=bn_momentum,\n",
    "        dropout_rate=dropout_rate,\n",
    "        data_format=data_format,\n",
    "        block_prefix=\"DenseBlock_%i\" % block_idx,\n",
    "    )\n",
    "\n",
    "    skip_list.append(x)\n",
    "    x = _transition_down_block(\n",
    "        x,\n",
    "        nb_filter,\n",
    "        weight_decay=weight_decay,\n",
    "        bn_momentum=bn_momentum,\n",
    "        transition_pooling=transition_pooling,\n",
    "        data_format=data_format,\n",
    "        block_prefix=\"TransitionDown_%i\" % block_idx,\n",
    "    )\n",
    "\n",
    "x = GlobalAveragePooling2D()(x)\n",
    "x = Dense(64, activation='relu')(x)\n",
    "# x = BatchNormalization()(x)\n",
    "x = Dropout(rate=dropout_rate)(x)\n",
    "x = Dense(32, activation='relu')(x)\n",
    "# x = BatchNormalization()(x)\n",
    "x = Dropout(rate=dropout_rate)(x)\n",
    "x = Dense(4, activation='sigmoid')(x)"
   ]
  },
  {
   "cell_type": "code",
   "execution_count": 7,
   "id": "2340abb8-8f22-44f3-8507-3ce1608f41f4",
   "metadata": {},
   "outputs": [],
   "source": [
    "model = Model(inputs=img_input, outputs=x)"
   ]
  },
  {
   "cell_type": "code",
   "execution_count": 8,
   "id": "6b00b521-f9bd-4143-a0ee-a312e2c84456",
   "metadata": {
    "scrolled": true,
    "tags": []
   },
   "outputs": [
    {
     "name": "stdout",
     "output_type": "stream",
     "text": [
      "Model: \"model\"\n",
      "__________________________________________________________________________________________________\n",
      " Layer (type)                   Output Shape         Param #     Connected to                     \n",
      "==================================================================================================\n",
      " input_1 (InputLayer)           [(None, 224, 224, 3  0           []                               \n",
      "                                )]                                                                \n",
      "                                                                                                  \n",
      " conv2d (Conv2D)                (None, 224, 224, 12  3456        ['input_1[0][0]']                \n",
      "                                8)                                                                \n",
      "                                                                                                  \n",
      " batch_normalization (BatchNorm  (None, 224, 224, 12  512        ['conv2d[0][0]']                 \n",
      " alization)                     8)                                                                \n",
      "                                                                                                  \n",
      " activation (Activation)        (None, 224, 224, 12  0           ['batch_normalization[0][0]']    \n",
      "                                8)                                                                \n",
      "                                                                                                  \n",
      " batch_normalization_1 (BatchNo  (None, 224, 224, 12  512        ['activation[0][0]']             \n",
      " rmalization)                   8)                                                                \n",
      "                                                                                                  \n",
      " activation_1 (Activation)      (None, 224, 224, 12  0           ['batch_normalization_1[0][0]']  \n",
      "                                8)                                                                \n",
      "                                                                                                  \n",
      " conv2d_1 (Conv2D)              (None, 224, 224, 4)  4608        ['activation_1[0][0]']           \n",
      "                                                                                                  \n",
      " dropout (Dropout)              (None, 224, 224, 4)  0           ['conv2d_1[0][0]']               \n",
      "                                                                                                  \n",
      " concatenate (Concatenate)      (None, 224, 224, 13  0           ['activation[0][0]',             \n",
      "                                2)                                'dropout[0][0]']                \n",
      "                                                                                                  \n",
      " batch_normalization_2 (BatchNo  (None, 224, 224, 13  528        ['concatenate[0][0]']            \n",
      " rmalization)                   2)                                                                \n",
      "                                                                                                  \n",
      " activation_2 (Activation)      (None, 224, 224, 13  0           ['batch_normalization_2[0][0]']  \n",
      "                                2)                                                                \n",
      "                                                                                                  \n",
      " conv2d_2 (Conv2D)              (None, 224, 224, 4)  4752        ['activation_2[0][0]']           \n",
      "                                                                                                  \n",
      " dropout_1 (Dropout)            (None, 224, 224, 4)  0           ['conv2d_2[0][0]']               \n",
      "                                                                                                  \n",
      " concatenate_1 (Concatenate)    (None, 224, 224, 13  0           ['concatenate[0][0]',            \n",
      "                                6)                                'dropout_1[0][0]']              \n",
      "                                                                                                  \n",
      " batch_normalization_3 (BatchNo  (None, 224, 224, 13  544        ['concatenate_1[0][0]']          \n",
      " rmalization)                   6)                                                                \n",
      "                                                                                                  \n",
      " activation_3 (Activation)      (None, 224, 224, 13  0           ['batch_normalization_3[0][0]']  \n",
      "                                6)                                                                \n",
      "                                                                                                  \n",
      " conv2d_3 (Conv2D)              (None, 224, 224, 4)  4896        ['activation_3[0][0]']           \n",
      "                                                                                                  \n",
      " dropout_2 (Dropout)            (None, 224, 224, 4)  0           ['conv2d_3[0][0]']               \n",
      "                                                                                                  \n",
      " concatenate_2 (Concatenate)    (None, 224, 224, 14  0           ['concatenate_1[0][0]',          \n",
      "                                0)                                'dropout_2[0][0]']              \n",
      "                                                                                                  \n",
      " batch_normalization_4 (BatchNo  (None, 224, 224, 14  560        ['concatenate_2[0][0]']          \n",
      " rmalization)                   0)                                                                \n",
      "                                                                                                  \n",
      " activation_4 (Activation)      (None, 224, 224, 14  0           ['batch_normalization_4[0][0]']  \n",
      "                                0)                                                                \n",
      "                                                                                                  \n",
      " conv2d_4 (Conv2D)              (None, 224, 224, 54  7560        ['activation_4[0][0]']           \n",
      "                                )                                                                 \n",
      "                                                                                                  \n",
      " max_pooling2d (MaxPooling2D)   (None, 112, 112, 54  0           ['conv2d_4[0][0]']               \n",
      "                                )                                                                 \n",
      "                                                                                                  \n",
      " batch_normalization_5 (BatchNo  (None, 112, 112, 54  216        ['max_pooling2d[0][0]']          \n",
      " rmalization)                   )                                                                 \n",
      "                                                                                                  \n",
      " activation_5 (Activation)      (None, 112, 112, 54  0           ['batch_normalization_5[0][0]']  \n",
      "                                )                                                                 \n",
      "                                                                                                  \n",
      " conv2d_5 (Conv2D)              (None, 112, 112, 4)  1944        ['activation_5[0][0]']           \n",
      "                                                                                                  \n",
      " dropout_3 (Dropout)            (None, 112, 112, 4)  0           ['conv2d_5[0][0]']               \n",
      "                                                                                                  \n",
      " concatenate_3 (Concatenate)    (None, 112, 112, 58  0           ['max_pooling2d[0][0]',          \n",
      "                                )                                 'dropout_3[0][0]']              \n",
      "                                                                                                  \n",
      " batch_normalization_6 (BatchNo  (None, 112, 112, 58  232        ['concatenate_3[0][0]']          \n",
      " rmalization)                   )                                                                 \n",
      "                                                                                                  \n",
      " activation_6 (Activation)      (None, 112, 112, 58  0           ['batch_normalization_6[0][0]']  \n",
      "                                )                                                                 \n",
      "                                                                                                  \n",
      " conv2d_6 (Conv2D)              (None, 112, 112, 4)  2088        ['activation_6[0][0]']           \n",
      "                                                                                                  \n",
      " dropout_4 (Dropout)            (None, 112, 112, 4)  0           ['conv2d_6[0][0]']               \n",
      "                                                                                                  \n",
      " concatenate_4 (Concatenate)    (None, 112, 112, 62  0           ['concatenate_3[0][0]',          \n",
      "                                )                                 'dropout_4[0][0]']              \n",
      "                                                                                                  \n",
      " batch_normalization_7 (BatchNo  (None, 112, 112, 62  248        ['concatenate_4[0][0]']          \n",
      " rmalization)                   )                                                                 \n",
      "                                                                                                  \n",
      " activation_7 (Activation)      (None, 112, 112, 62  0           ['batch_normalization_7[0][0]']  \n",
      "                                )                                                                 \n",
      "                                                                                                  \n",
      " conv2d_7 (Conv2D)              (None, 112, 112, 4)  2232        ['activation_7[0][0]']           \n",
      "                                                                                                  \n",
      " dropout_5 (Dropout)            (None, 112, 112, 4)  0           ['conv2d_7[0][0]']               \n",
      "                                                                                                  \n",
      " concatenate_5 (Concatenate)    (None, 112, 112, 66  0           ['concatenate_4[0][0]',          \n",
      "                                )                                 'dropout_5[0][0]']              \n",
      "                                                                                                  \n",
      " batch_normalization_8 (BatchNo  (None, 112, 112, 66  264        ['concatenate_5[0][0]']          \n",
      " rmalization)                   )                                                                 \n",
      "                                                                                                  \n",
      " activation_8 (Activation)      (None, 112, 112, 66  0           ['batch_normalization_8[0][0]']  \n",
      "                                )                                                                 \n",
      "                                                                                                  \n",
      " conv2d_8 (Conv2D)              (None, 112, 112, 66  4356        ['activation_8[0][0]']           \n",
      "                                )                                                                 \n",
      "                                                                                                  \n",
      " max_pooling2d_1 (MaxPooling2D)  (None, 56, 56, 66)  0           ['conv2d_8[0][0]']               \n",
      "                                                                                                  \n",
      " batch_normalization_9 (BatchNo  (None, 56, 56, 66)  264         ['max_pooling2d_1[0][0]']        \n",
      " rmalization)                                                                                     \n",
      "                                                                                                  \n",
      " activation_9 (Activation)      (None, 56, 56, 66)   0           ['batch_normalization_9[0][0]']  \n",
      "                                                                                                  \n",
      " conv2d_9 (Conv2D)              (None, 56, 56, 4)    2376        ['activation_9[0][0]']           \n",
      "                                                                                                  \n",
      " dropout_6 (Dropout)            (None, 56, 56, 4)    0           ['conv2d_9[0][0]']               \n",
      "                                                                                                  \n",
      " concatenate_6 (Concatenate)    (None, 56, 56, 70)   0           ['max_pooling2d_1[0][0]',        \n",
      "                                                                  'dropout_6[0][0]']              \n",
      "                                                                                                  \n",
      " batch_normalization_10 (BatchN  (None, 56, 56, 70)  280         ['concatenate_6[0][0]']          \n",
      " ormalization)                                                                                    \n",
      "                                                                                                  \n",
      " activation_10 (Activation)     (None, 56, 56, 70)   0           ['batch_normalization_10[0][0]'] \n",
      "                                                                                                  \n",
      " conv2d_10 (Conv2D)             (None, 56, 56, 4)    2520        ['activation_10[0][0]']          \n",
      "                                                                                                  \n",
      " dropout_7 (Dropout)            (None, 56, 56, 4)    0           ['conv2d_10[0][0]']              \n",
      "                                                                                                  \n",
      " concatenate_7 (Concatenate)    (None, 56, 56, 74)   0           ['concatenate_6[0][0]',          \n",
      "                                                                  'dropout_7[0][0]']              \n",
      "                                                                                                  \n",
      " batch_normalization_11 (BatchN  (None, 56, 56, 74)  296         ['concatenate_7[0][0]']          \n",
      " ormalization)                                                                                    \n",
      "                                                                                                  \n",
      " activation_11 (Activation)     (None, 56, 56, 74)   0           ['batch_normalization_11[0][0]'] \n",
      "                                                                                                  \n",
      " conv2d_11 (Conv2D)             (None, 56, 56, 4)    2664        ['activation_11[0][0]']          \n",
      "                                                                                                  \n",
      " dropout_8 (Dropout)            (None, 56, 56, 4)    0           ['conv2d_11[0][0]']              \n",
      "                                                                                                  \n",
      " concatenate_8 (Concatenate)    (None, 56, 56, 78)   0           ['concatenate_7[0][0]',          \n",
      "                                                                  'dropout_8[0][0]']              \n",
      "                                                                                                  \n",
      " batch_normalization_12 (BatchN  (None, 56, 56, 78)  312         ['concatenate_8[0][0]']          \n",
      " ormalization)                                                                                    \n",
      "                                                                                                  \n",
      " activation_12 (Activation)     (None, 56, 56, 78)   0           ['batch_normalization_12[0][0]'] \n",
      "                                                                                                  \n",
      " conv2d_12 (Conv2D)             (None, 56, 56, 78)   6084        ['activation_12[0][0]']          \n",
      "                                                                                                  \n",
      " max_pooling2d_2 (MaxPooling2D)  (None, 28, 28, 78)  0           ['conv2d_12[0][0]']              \n",
      "                                                                                                  \n",
      " batch_normalization_13 (BatchN  (None, 28, 28, 78)  312         ['max_pooling2d_2[0][0]']        \n",
      " ormalization)                                                                                    \n",
      "                                                                                                  \n",
      " activation_13 (Activation)     (None, 28, 28, 78)   0           ['batch_normalization_13[0][0]'] \n",
      "                                                                                                  \n",
      " conv2d_13 (Conv2D)             (None, 28, 28, 4)    2808        ['activation_13[0][0]']          \n",
      "                                                                                                  \n",
      " dropout_9 (Dropout)            (None, 28, 28, 4)    0           ['conv2d_13[0][0]']              \n",
      "                                                                                                  \n",
      " concatenate_9 (Concatenate)    (None, 28, 28, 82)   0           ['max_pooling2d_2[0][0]',        \n",
      "                                                                  'dropout_9[0][0]']              \n",
      "                                                                                                  \n",
      " batch_normalization_14 (BatchN  (None, 28, 28, 82)  328         ['concatenate_9[0][0]']          \n",
      " ormalization)                                                                                    \n",
      "                                                                                                  \n",
      " activation_14 (Activation)     (None, 28, 28, 82)   0           ['batch_normalization_14[0][0]'] \n",
      "                                                                                                  \n",
      " conv2d_14 (Conv2D)             (None, 28, 28, 4)    2952        ['activation_14[0][0]']          \n",
      "                                                                                                  \n",
      " dropout_10 (Dropout)           (None, 28, 28, 4)    0           ['conv2d_14[0][0]']              \n",
      "                                                                                                  \n",
      " concatenate_10 (Concatenate)   (None, 28, 28, 86)   0           ['concatenate_9[0][0]',          \n",
      "                                                                  'dropout_10[0][0]']             \n",
      "                                                                                                  \n",
      " batch_normalization_15 (BatchN  (None, 28, 28, 86)  344         ['concatenate_10[0][0]']         \n",
      " ormalization)                                                                                    \n",
      "                                                                                                  \n",
      " activation_15 (Activation)     (None, 28, 28, 86)   0           ['batch_normalization_15[0][0]'] \n",
      "                                                                                                  \n",
      " conv2d_15 (Conv2D)             (None, 28, 28, 4)    3096        ['activation_15[0][0]']          \n",
      "                                                                                                  \n",
      " dropout_11 (Dropout)           (None, 28, 28, 4)    0           ['conv2d_15[0][0]']              \n",
      "                                                                                                  \n",
      " concatenate_11 (Concatenate)   (None, 28, 28, 90)   0           ['concatenate_10[0][0]',         \n",
      "                                                                  'dropout_11[0][0]']             \n",
      "                                                                                                  \n",
      " batch_normalization_16 (BatchN  (None, 28, 28, 90)  360         ['concatenate_11[0][0]']         \n",
      " ormalization)                                                                                    \n",
      "                                                                                                  \n",
      " activation_16 (Activation)     (None, 28, 28, 90)   0           ['batch_normalization_16[0][0]'] \n",
      "                                                                                                  \n",
      " conv2d_16 (Conv2D)             (None, 28, 28, 90)   8100        ['activation_16[0][0]']          \n",
      "                                                                                                  \n",
      " max_pooling2d_3 (MaxPooling2D)  (None, 14, 14, 90)  0           ['conv2d_16[0][0]']              \n",
      "                                                                                                  \n",
      " global_average_pooling2d (Glob  (None, 90)          0           ['max_pooling2d_3[0][0]']        \n",
      " alAveragePooling2D)                                                                              \n",
      "                                                                                                  \n",
      " dense (Dense)                  (None, 64)           5824        ['global_average_pooling2d[0][0]'\n",
      "                                                                 ]                                \n",
      "                                                                                                  \n",
      " dropout_12 (Dropout)           (None, 64)           0           ['dense[0][0]']                  \n",
      "                                                                                                  \n",
      " dense_1 (Dense)                (None, 32)           2080        ['dropout_12[0][0]']             \n",
      "                                                                                                  \n",
      " dropout_13 (Dropout)           (None, 32)           0           ['dense_1[0][0]']                \n",
      "                                                                                                  \n",
      " dense_2 (Dense)                (None, 4)            132         ['dropout_13[0][0]']             \n",
      "                                                                                                  \n",
      "==================================================================================================\n",
      "Total params: 80,640\n",
      "Trainable params: 77,584\n",
      "Non-trainable params: 3,056\n",
      "__________________________________________________________________________________________________\n"
     ]
    }
   ],
   "source": [
    "model.summary()"
   ]
  },
  {
   "cell_type": "markdown",
   "id": "ee97db62-77c4-40cb-8d9c-b8a01b03b260",
   "metadata": {},
   "source": [
    "# Generator funct"
   ]
  },
  {
   "cell_type": "code",
   "execution_count": 9,
   "id": "2da490f4-69b4-4349-84e3-4ffe03171c77",
   "metadata": {},
   "outputs": [],
   "source": [
    "# TODO: implement data augmentation for object detection\n",
    "\n",
    "datapath = {\n",
    "    'images_path': \"/home/choppy/TOC/thesis-msc-2022/data/images/aws/bonafide/via_marked\",\n",
    "    'via_file': \"/home/choppy/TOC/thesis-msc-2022/data/images/aws/bonafide/via_marked/via_region_data.json\"\n",
    "}"
   ]
  },
  {
   "cell_type": "code",
   "execution_count": 10,
   "id": "73c5ee45-77ce-4b84-93b4-2bb605776693",
   "metadata": {},
   "outputs": [],
   "source": [
    "with open(datapath.get('via_file')) as f:\n",
    "    data = json.load(f)\n",
    "    images_tensor = []\n",
    "    coords_tensor = []\n",
    "    \n",
    "    for key in data.keys():\n",
    "        impath = os.path.join(datapath.get('images_path'), data[key].get('filename'))\n",
    "        # need to get image shape to properly format regions\n",
    "        # image = Image.open(impath)\n",
    "        # im_width, im_height = image.size\n",
    "                     \n",
    "        regions = data[key]['regions']\n",
    "        \n",
    "        if regions: # will be a empty list or list of regions\n",
    "            shape_attributes = regions[0]['shape_attributes'] # take the first because is the unique region on the image\n",
    "            # load marks\n",
    "            region_name = shape_attributes.get('name') # will return \"rect\". Not used\n",
    "            x = shape_attributes.get('x')\n",
    "            y = shape_attributes.get('y')\n",
    "            width = shape_attributes.get('width')\n",
    "            height = shape_attributes.get('height')\n",
    "            \n",
    "            # make array with batch size and coords\n",
    "            # coords = np.array([x, y, x+width, y+height])\n",
    "            coords = np.array([x, y, width, height])\n",
    "            \n",
    "            # append data to tensors\n",
    "            images_tensor.append(impath)\n",
    "            coords_tensor.append(coords)\n",
    "\n",
    "aug = avg_aug()\n",
    "images_tensor = tf.cast(images_tensor, dtype=tf.string)\n",
    "coords_tensor = tf.cast(coords_tensor, dtype=tf.float32)\n",
    "dataset = tf.data.Dataset.from_tensor_slices((images_tensor, coords_tensor))\n",
    "\n",
    "def _parse_function(impath, coords):\n",
    "    image_string = tf.io.read_file(impath)\n",
    "    image_decoded = tf.io.decode_png(image_string, channels=3)\n",
    "    h_image = tf.shape(image_decoded)[0]\n",
    "    w_image = tf.shape(image_decoded)[1]\n",
    "    image = tf.image.resize(image_decoded, (224, 224))\n",
    "    image = tf.cast(image, tf.uint8)\n",
    "    # do augmentation here. Had a lot of problems figuring how to solve this part xd\n",
    "    image = tf.numpy_function(func=aug.augment_image, inp=[image], Tout=tf.uint8)\n",
    "    image = tf.cast(image, tf.float32)\n",
    "    image = image / 255.\n",
    "    coords = coords / [w_image, h_image, w_image, h_image] # image width, height\n",
    "    return image, coords\n",
    "\n",
    "dataset = dataset.map(_parse_function)\n",
    "dataset = dataset.cache()\n",
    "dataset = dataset.batch(5)\n",
    "dataset = dataset.shuffle(5**2)"
   ]
  },
  {
   "cell_type": "code",
   "execution_count": 11,
   "id": "91ff0551-1f84-4188-ab90-87131b5d13a0",
   "metadata": {},
   "outputs": [
    {
     "data": {
      "text/plain": [
       "(<ShuffleDataset element_spec=(TensorSpec(shape=<unknown>, dtype=tf.float32, name=None), TensorSpec(shape=(None, 4), dtype=tf.float32, name=None))>,\n",
       " 191)"
      ]
     },
     "execution_count": 11,
     "metadata": {},
     "output_type": "execute_result"
    }
   ],
   "source": [
    "dataset, len(dataset)"
   ]
  },
  {
   "cell_type": "code",
   "execution_count": 12,
   "id": "43bfd6ae-389d-4abc-be91-c864ade15e99",
   "metadata": {},
   "outputs": [],
   "source": [
    "train_ds = dataset.cache().prefetch(tf.data.experimental.AUTOTUNE)\n",
    "val_ds = dataset.cache().prefetch(tf.data.experimental.AUTOTUNE)"
   ]
  },
  {
   "cell_type": "markdown",
   "id": "698de4e4-283b-4a6a-8184-b09928f463c7",
   "metadata": {},
   "source": [
    "# Show first image from train set"
   ]
  },
  {
   "cell_type": "code",
   "execution_count": 13,
   "id": "9106d49c-2e46-45ec-8b5f-3ffdb068dbb9",
   "metadata": {
    "scrolled": true,
    "tags": []
   },
   "outputs": [],
   "source": [
    "# for im, coords in dataset.take(1):\n",
    "#     plt.imshow(im[0])\n",
    "#     plt.show()\n",
    "#     print(coords[0])"
   ]
  },
  {
   "cell_type": "markdown",
   "id": "22925c3c-9070-4830-94f4-e5e38939fcf8",
   "metadata": {},
   "source": [
    "# Train config"
   ]
  },
  {
   "cell_type": "code",
   "execution_count": 14,
   "id": "fbd8384b-af0b-4940-b118-4cf8b80090de",
   "metadata": {
    "tags": []
   },
   "outputs": [],
   "source": [
    "# another ref with more iou metrics: https://chowdera.com/2022/04/202204081842317781.html\n",
    "\n",
    "# ref: https://github.com/Balupurohit23/IOU-for-bounding-box-regression-in-Keras/blob/master/iou_metric.py\n",
    "def iou_metric(y_true, y_pred):\n",
    "    # iou as metric for bounding box regression\n",
    "    # input must be as [x1, y1, x2, y2]\n",
    "    \n",
    "    # AOG = Area of Groundtruth box\n",
    "    AoG = tf.abs(tf.transpose(y_true)[2] - tf.transpose(y_true)[0] + 1) * tf.abs(tf.transpose(y_true)[3] - tf.transpose(y_true)[1] + 1)\n",
    "    \n",
    "    # AOP = Area of Predicted box\n",
    "    AoP = tf.abs(tf.transpose(y_pred)[2] - tf.transpose(y_pred)[0] + 1) * tf.abs(tf.transpose(y_pred)[3] - tf.transpose(y_pred)[1] + 1)\n",
    "\n",
    "    # overlaps are the co-ordinates of intersection box\n",
    "    overlap_0 = tf.maximum(tf.transpose(y_true)[0], tf.transpose(y_pred)[0])\n",
    "    overlap_1 = tf.maximum(tf.transpose(y_true)[1], tf.transpose(y_pred)[1])\n",
    "    overlap_2 = tf.minimum(tf.transpose(y_true)[2], tf.transpose(y_pred)[2])\n",
    "    overlap_3 = tf.minimum(tf.transpose(y_true)[3], tf.transpose(y_pred)[3])\n",
    "\n",
    "    # intersection area\n",
    "    intersection = (overlap_2 - overlap_0 + 1) * (overlap_3 - overlap_1 + 1)\n",
    "\n",
    "    # area of union of both boxes\n",
    "    union = AoG + AoP - intersection\n",
    "    \n",
    "    # iou calculation\n",
    "    iou = intersection / union\n",
    "\n",
    "    # bounding values of iou to (0,1)\n",
    "    iou = tf.clip_by_value(iou, 0.0 + tf.keras.backend.epsilon(), 1.0 - tf.keras.backend.epsilon())\n",
    "\n",
    "    return iou   "
   ]
  },
  {
   "cell_type": "code",
   "execution_count": null,
   "id": "08644e31-2f33-419f-aad8-5159263ed067",
   "metadata": {},
   "outputs": [],
   "source": []
  },
  {
   "cell_type": "code",
   "execution_count": 16,
   "id": "ad9d2286-9e9c-4d58-b4da-689808fdc5c9",
   "metadata": {},
   "outputs": [],
   "source": [
    "lr = 1e-4\n",
    "\n",
    "# no converge\n",
    "# opt = tf.keras.optimizers.Adadelta(\n",
    "#     learning_rate=lr,\n",
    "#     rho=0.95,\n",
    "#     epsilon=1e-07,\n",
    "#     name='AdadeltaOpt',\n",
    "# )\n",
    "\n",
    "# converge muy rapido\n",
    "opt = tf.keras.optimizers.RMSprop(\n",
    "    learning_rate=lr,\n",
    "    rho=0.9,\n",
    "    momentum=0.9,\n",
    "    epsilon=1e-07,\n",
    "    centered=False,\n",
    "    name='RMSpropOpt',\n",
    ")\n",
    "\n",
    "# delicioso\n",
    "# opt = tf.keras.optimizers.SGD(\n",
    "#     learning_rate=lr,\n",
    "#     momentum=0.9,\n",
    "#     nesterov=True,\n",
    "#     name='SGDOpt',\n",
    "# )\n",
    "\n",
    "model.compile(\n",
    "    optimizer=opt,\n",
    "    loss=tf.losses.MeanSquaredError(),\n",
    "    # loss=tf.losses.MeanSquaredLogarithmicError(),\n",
    "    # loss=iou_loss,\n",
    "    metrics=[\n",
    "        'mae', 'mse', \n",
    "        iou_metric\n",
    "    ]\n",
    ")"
   ]
  },
  {
   "cell_type": "markdown",
   "id": "20f88f16-8bff-444a-a798-7826b1f52b4f",
   "metadata": {},
   "source": [
    "# Callbacks"
   ]
  },
  {
   "cell_type": "code",
   "execution_count": 17,
   "id": "56ef9d2f-bd70-49fe-a12e-1b84f02753f7",
   "metadata": {},
   "outputs": [],
   "source": [
    "callbacks = [\n",
    "    tf.keras.callbacks.ReduceLROnPlateau(\n",
    "        monitor='val_loss',\n",
    "        factor=0.1,\n",
    "        patience=20,\n",
    "        verbose=1,\n",
    "        mode='auto',\n",
    "        min_delta=0.0001,\n",
    "        cooldown=0,\n",
    "        min_lr=1e-15,\n",
    "    ),\n",
    "    \n",
    "    tf.keras.callbacks.EarlyStopping(\n",
    "        monitor='val_loss',\n",
    "        verbose=1,\n",
    "        patience=10,\n",
    "    )\n",
    "]"
   ]
  },
  {
   "cell_type": "code",
   "execution_count": null,
   "id": "1eb976b1-49cc-466f-867a-be05fbe952a4",
   "metadata": {
    "tags": []
   },
   "outputs": [
    {
     "name": "stdout",
     "output_type": "stream",
     "text": [
      "Epoch 1/150\n"
     ]
    },
    {
     "name": "stderr",
     "output_type": "stream",
     "text": [
      "/home/choppy/TOC/.conda/envs/msc-thesis-2022/lib/python3.9/site-packages/imgaug/augmenters/imgcorruptlike.py:484: FutureWarning: `multichannel` is a deprecated argument name for `gaussian`. It will be removed in version 1.0. Please use `channel_axis` instead.\n",
      "  gaussian(np.array(x) / 255., sigma=sigma, multichannel=True) * 255)\n",
      "/home/choppy/TOC/.conda/envs/msc-thesis-2022/lib/python3.9/site-packages/imgaug/augmenters/imgcorruptlike.py:516: FutureWarning: `multichannel` is a deprecated argument name for `gaussian`. It will be removed in version 1.0. Please use `channel_axis` instead.\n",
      "  gaussian(x / 255., sigma=sigma, multichannel=True),\n",
      "/home/choppy/TOC/.conda/envs/msc-thesis-2022/lib/python3.9/site-packages/imagecorruptions/corruptions.py:188: FutureWarning: `multichannel` is a deprecated argument name for `gaussian`. It will be removed in version 1.0. Please use `channel_axis` instead.\n",
      "  x = gaussian(np.array(x) / 255., sigma=c, multichannel=True)\n",
      "/home/choppy/TOC/.conda/envs/msc-thesis-2022/lib/python3.9/site-packages/imgaug/augmenters/imgcorruptlike.py:484: FutureWarning: `multichannel` is a deprecated argument name for `gaussian`. It will be removed in version 1.0. Please use `channel_axis` instead.\n",
      "  gaussian(np.array(x) / 255., sigma=sigma, multichannel=True) * 255)\n",
      "/home/choppy/TOC/.conda/envs/msc-thesis-2022/lib/python3.9/site-packages/imgaug/augmenters/imgcorruptlike.py:516: FutureWarning: `multichannel` is a deprecated argument name for `gaussian`. It will be removed in version 1.0. Please use `channel_axis` instead.\n",
      "  gaussian(x / 255., sigma=sigma, multichannel=True),\n",
      "/home/choppy/TOC/.conda/envs/msc-thesis-2022/lib/python3.9/site-packages/imgaug/augmenters/imgcorruptlike.py:484: FutureWarning: `multichannel` is a deprecated argument name for `gaussian`. It will be removed in version 1.0. Please use `channel_axis` instead.\n",
      "  gaussian(np.array(x) / 255., sigma=sigma, multichannel=True) * 255)\n",
      "/home/choppy/TOC/.conda/envs/msc-thesis-2022/lib/python3.9/site-packages/imgaug/augmenters/imgcorruptlike.py:516: FutureWarning: `multichannel` is a deprecated argument name for `gaussian`. It will be removed in version 1.0. Please use `channel_axis` instead.\n",
      "  gaussian(x / 255., sigma=sigma, multichannel=True),\n",
      "/home/choppy/TOC/.conda/envs/msc-thesis-2022/lib/python3.9/site-packages/imgaug/augmenters/imgcorruptlike.py:484: FutureWarning: `multichannel` is a deprecated argument name for `gaussian`. It will be removed in version 1.0. Please use `channel_axis` instead.\n",
      "  gaussian(np.array(x) / 255., sigma=sigma, multichannel=True) * 255)\n",
      "/home/choppy/TOC/.conda/envs/msc-thesis-2022/lib/python3.9/site-packages/imgaug/augmenters/imgcorruptlike.py:516: FutureWarning: `multichannel` is a deprecated argument name for `gaussian`. It will be removed in version 1.0. Please use `channel_axis` instead.\n",
      "  gaussian(x / 255., sigma=sigma, multichannel=True),\n",
      "/home/choppy/TOC/.conda/envs/msc-thesis-2022/lib/python3.9/site-packages/imagecorruptions/corruptions.py:188: FutureWarning: `multichannel` is a deprecated argument name for `gaussian`. It will be removed in version 1.0. Please use `channel_axis` instead.\n",
      "  x = gaussian(np.array(x) / 255., sigma=c, multichannel=True)\n",
      "/home/choppy/TOC/.conda/envs/msc-thesis-2022/lib/python3.9/site-packages/imgaug/augmenters/imgcorruptlike.py:484: FutureWarning: `multichannel` is a deprecated argument name for `gaussian`. It will be removed in version 1.0. Please use `channel_axis` instead.\n",
      "  gaussian(np.array(x) / 255., sigma=sigma, multichannel=True) * 255)\n",
      "/home/choppy/TOC/.conda/envs/msc-thesis-2022/lib/python3.9/site-packages/imgaug/augmenters/imgcorruptlike.py:516: FutureWarning: `multichannel` is a deprecated argument name for `gaussian`. It will be removed in version 1.0. Please use `channel_axis` instead.\n",
      "  gaussian(x / 255., sigma=sigma, multichannel=True),\n",
      "/home/choppy/TOC/.conda/envs/msc-thesis-2022/lib/python3.9/site-packages/imgaug/augmenters/imgcorruptlike.py:484: FutureWarning: `multichannel` is a deprecated argument name for `gaussian`. It will be removed in version 1.0. Please use `channel_axis` instead.\n",
      "  gaussian(np.array(x) / 255., sigma=sigma, multichannel=True) * 255)\n",
      "/home/choppy/TOC/.conda/envs/msc-thesis-2022/lib/python3.9/site-packages/imgaug/augmenters/imgcorruptlike.py:516: FutureWarning: `multichannel` is a deprecated argument name for `gaussian`. It will be removed in version 1.0. Please use `channel_axis` instead.\n",
      "  gaussian(x / 255., sigma=sigma, multichannel=True),\n",
      "/home/choppy/TOC/.conda/envs/msc-thesis-2022/lib/python3.9/site-packages/imagecorruptions/corruptions.py:188: FutureWarning: `multichannel` is a deprecated argument name for `gaussian`. It will be removed in version 1.0. Please use `channel_axis` instead.\n",
      "  x = gaussian(np.array(x) / 255., sigma=c, multichannel=True)\n",
      "/home/choppy/TOC/.conda/envs/msc-thesis-2022/lib/python3.9/site-packages/imagecorruptions/corruptions.py:188: FutureWarning: `multichannel` is a deprecated argument name for `gaussian`. It will be removed in version 1.0. Please use `channel_axis` instead.\n",
      "  x = gaussian(np.array(x) / 255., sigma=c, multichannel=True)\n",
      "/home/choppy/TOC/.conda/envs/msc-thesis-2022/lib/python3.9/site-packages/imagecorruptions/corruptions.py:188: FutureWarning: `multichannel` is a deprecated argument name for `gaussian`. It will be removed in version 1.0. Please use `channel_axis` instead.\n",
      "  x = gaussian(np.array(x) / 255., sigma=c, multichannel=True)\n",
      "/home/choppy/TOC/.conda/envs/msc-thesis-2022/lib/python3.9/site-packages/imgaug/augmenters/imgcorruptlike.py:484: FutureWarning: `multichannel` is a deprecated argument name for `gaussian`. It will be removed in version 1.0. Please use `channel_axis` instead.\n",
      "  gaussian(np.array(x) / 255., sigma=sigma, multichannel=True) * 255)\n",
      "/home/choppy/TOC/.conda/envs/msc-thesis-2022/lib/python3.9/site-packages/imgaug/augmenters/imgcorruptlike.py:516: FutureWarning: `multichannel` is a deprecated argument name for `gaussian`. It will be removed in version 1.0. Please use `channel_axis` instead.\n",
      "  gaussian(x / 255., sigma=sigma, multichannel=True),\n",
      "/home/choppy/TOC/.conda/envs/msc-thesis-2022/lib/python3.9/site-packages/imagecorruptions/corruptions.py:188: FutureWarning: `multichannel` is a deprecated argument name for `gaussian`. It will be removed in version 1.0. Please use `channel_axis` instead.\n",
      "  x = gaussian(np.array(x) / 255., sigma=c, multichannel=True)\n",
      "/home/choppy/TOC/.conda/envs/msc-thesis-2022/lib/python3.9/site-packages/imagecorruptions/corruptions.py:188: FutureWarning: `multichannel` is a deprecated argument name for `gaussian`. It will be removed in version 1.0. Please use `channel_axis` instead.\n",
      "  x = gaussian(np.array(x) / 255., sigma=c, multichannel=True)\n",
      "/home/choppy/TOC/.conda/envs/msc-thesis-2022/lib/python3.9/site-packages/imgaug/augmenters/imgcorruptlike.py:484: FutureWarning: `multichannel` is a deprecated argument name for `gaussian`. It will be removed in version 1.0. Please use `channel_axis` instead.\n",
      "  gaussian(np.array(x) / 255., sigma=sigma, multichannel=True) * 255)\n",
      "/home/choppy/TOC/.conda/envs/msc-thesis-2022/lib/python3.9/site-packages/imgaug/augmenters/imgcorruptlike.py:516: FutureWarning: `multichannel` is a deprecated argument name for `gaussian`. It will be removed in version 1.0. Please use `channel_axis` instead.\n",
      "  gaussian(x / 255., sigma=sigma, multichannel=True),\n",
      "/home/choppy/TOC/.conda/envs/msc-thesis-2022/lib/python3.9/site-packages/imgaug/augmenters/imgcorruptlike.py:484: FutureWarning: `multichannel` is a deprecated argument name for `gaussian`. It will be removed in version 1.0. Please use `channel_axis` instead.\n",
      "  gaussian(np.array(x) / 255., sigma=sigma, multichannel=True) * 255)\n",
      "/home/choppy/TOC/.conda/envs/msc-thesis-2022/lib/python3.9/site-packages/imgaug/augmenters/imgcorruptlike.py:516: FutureWarning: `multichannel` is a deprecated argument name for `gaussian`. It will be removed in version 1.0. Please use `channel_axis` instead.\n",
      "  gaussian(x / 255., sigma=sigma, multichannel=True),\n",
      "/home/choppy/TOC/.conda/envs/msc-thesis-2022/lib/python3.9/site-packages/imagecorruptions/corruptions.py:188: FutureWarning: `multichannel` is a deprecated argument name for `gaussian`. It will be removed in version 1.0. Please use `channel_axis` instead.\n",
      "  x = gaussian(np.array(x) / 255., sigma=c, multichannel=True)\n",
      "/home/choppy/TOC/.conda/envs/msc-thesis-2022/lib/python3.9/site-packages/imgaug/augmenters/imgcorruptlike.py:484: FutureWarning: `multichannel` is a deprecated argument name for `gaussian`. It will be removed in version 1.0. Please use `channel_axis` instead.\n",
      "  gaussian(np.array(x) / 255., sigma=sigma, multichannel=True) * 255)\n",
      "/home/choppy/TOC/.conda/envs/msc-thesis-2022/lib/python3.9/site-packages/imgaug/augmenters/imgcorruptlike.py:516: FutureWarning: `multichannel` is a deprecated argument name for `gaussian`. It will be removed in version 1.0. Please use `channel_axis` instead.\n",
      "  gaussian(x / 255., sigma=sigma, multichannel=True),\n",
      "/home/choppy/TOC/.conda/envs/msc-thesis-2022/lib/python3.9/site-packages/imgaug/augmenters/imgcorruptlike.py:484: FutureWarning: `multichannel` is a deprecated argument name for `gaussian`. It will be removed in version 1.0. Please use `channel_axis` instead.\n",
      "  gaussian(np.array(x) / 255., sigma=sigma, multichannel=True) * 255)\n",
      "/home/choppy/TOC/.conda/envs/msc-thesis-2022/lib/python3.9/site-packages/imgaug/augmenters/imgcorruptlike.py:516: FutureWarning: `multichannel` is a deprecated argument name for `gaussian`. It will be removed in version 1.0. Please use `channel_axis` instead.\n",
      "  gaussian(x / 255., sigma=sigma, multichannel=True),\n",
      "/home/choppy/TOC/.conda/envs/msc-thesis-2022/lib/python3.9/site-packages/imagecorruptions/corruptions.py:188: FutureWarning: `multichannel` is a deprecated argument name for `gaussian`. It will be removed in version 1.0. Please use `channel_axis` instead.\n",
      "  x = gaussian(np.array(x) / 255., sigma=c, multichannel=True)\n",
      "/home/choppy/TOC/.conda/envs/msc-thesis-2022/lib/python3.9/site-packages/imgaug/augmenters/imgcorruptlike.py:484: FutureWarning: `multichannel` is a deprecated argument name for `gaussian`. It will be removed in version 1.0. Please use `channel_axis` instead.\n",
      "  gaussian(np.array(x) / 255., sigma=sigma, multichannel=True) * 255)\n",
      "/home/choppy/TOC/.conda/envs/msc-thesis-2022/lib/python3.9/site-packages/imgaug/augmenters/imgcorruptlike.py:516: FutureWarning: `multichannel` is a deprecated argument name for `gaussian`. It will be removed in version 1.0. Please use `channel_axis` instead.\n",
      "  gaussian(x / 255., sigma=sigma, multichannel=True),\n",
      "/home/choppy/TOC/.conda/envs/msc-thesis-2022/lib/python3.9/site-packages/imagecorruptions/corruptions.py:188: FutureWarning: `multichannel` is a deprecated argument name for `gaussian`. It will be removed in version 1.0. Please use `channel_axis` instead.\n",
      "  x = gaussian(np.array(x) / 255., sigma=c, multichannel=True)\n",
      "/home/choppy/TOC/.conda/envs/msc-thesis-2022/lib/python3.9/site-packages/imagecorruptions/corruptions.py:188: FutureWarning: `multichannel` is a deprecated argument name for `gaussian`. It will be removed in version 1.0. Please use `channel_axis` instead.\n",
      "  x = gaussian(np.array(x) / 255., sigma=c, multichannel=True)\n",
      "/home/choppy/TOC/.conda/envs/msc-thesis-2022/lib/python3.9/site-packages/imagecorruptions/corruptions.py:188: FutureWarning: `multichannel` is a deprecated argument name for `gaussian`. It will be removed in version 1.0. Please use `channel_axis` instead.\n",
      "  x = gaussian(np.array(x) / 255., sigma=c, multichannel=True)\n",
      "/home/choppy/TOC/.conda/envs/msc-thesis-2022/lib/python3.9/site-packages/imagecorruptions/corruptions.py:188: FutureWarning: `multichannel` is a deprecated argument name for `gaussian`. It will be removed in version 1.0. Please use `channel_axis` instead.\n",
      "  x = gaussian(np.array(x) / 255., sigma=c, multichannel=True)\n",
      "2022-08-02 11:52:30.906523: I tensorflow/stream_executor/cuda/cuda_dnn.cc:368] Loaded cuDNN version 8401\n",
      "2022-08-02 11:52:31.461928: I tensorflow/core/platform/default/subprocess.cc:304] Start cannot spawn child process: No such file or directory\n",
      "2022-08-02 11:52:31.462438: I tensorflow/core/platform/default/subprocess.cc:304] Start cannot spawn child process: No such file or directory\n",
      "2022-08-02 11:52:31.462459: W tensorflow/stream_executor/gpu/asm_compiler.cc:80] Couldn't get ptxas version string: INTERNAL: Couldn't invoke ptxas --version\n",
      "2022-08-02 11:52:31.462943: I tensorflow/core/platform/default/subprocess.cc:304] Start cannot spawn child process: No such file or directory\n",
      "2022-08-02 11:52:31.463005: W tensorflow/stream_executor/gpu/redzone_allocator.cc:314] INTERNAL: Failed to launch ptxas\n",
      "Relying on driver to perform ptx compilation. \n",
      "Modify $PATH to customize ptxas location.\n",
      "This message will be only logged once.\n",
      "2022-08-02 11:52:34.430136: W tensorflow/core/common_runtime/bfc_allocator.cc:275] Allocator (GPU_0_bfc) ran out of memory trying to allocate 3.79GiB with freed_by_count=0. The caller indicates that this is not a failure, but may mean that there could be performance gains if more memory were available.\n",
      "2022-08-02 11:52:34.430193: W tensorflow/core/common_runtime/bfc_allocator.cc:275] Allocator (GPU_0_bfc) ran out of memory trying to allocate 3.79GiB with freed_by_count=0. The caller indicates that this is not a failure, but may mean that there could be performance gains if more memory were available.\n",
      "2022-08-02 11:52:34.430222: W tensorflow/core/common_runtime/bfc_allocator.cc:275] Allocator (GPU_0_bfc) ran out of memory trying to allocate 3.79GiB with freed_by_count=0. The caller indicates that this is not a failure, but may mean that there could be performance gains if more memory were available.\n"
     ]
    },
    {
     "name": "stdout",
     "output_type": "stream",
     "text": [
      "  2/191 [..............................] - ETA: 23s - loss: 0.1536 - mae: 0.2103 - mse: 0.0705 - iou_metric: 0.4226  "
     ]
    },
    {
     "name": "stderr",
     "output_type": "stream",
     "text": [
      "/home/choppy/TOC/.conda/envs/msc-thesis-2022/lib/python3.9/site-packages/imgaug/augmenters/imgcorruptlike.py:484: FutureWarning: `multichannel` is a deprecated argument name for `gaussian`. It will be removed in version 1.0. Please use `channel_axis` instead.\n",
      "  gaussian(np.array(x) / 255., sigma=sigma, multichannel=True) * 255)\n",
      "/home/choppy/TOC/.conda/envs/msc-thesis-2022/lib/python3.9/site-packages/imgaug/augmenters/imgcorruptlike.py:516: FutureWarning: `multichannel` is a deprecated argument name for `gaussian`. It will be removed in version 1.0. Please use `channel_axis` instead.\n",
      "  gaussian(x / 255., sigma=sigma, multichannel=True),\n",
      "/home/choppy/TOC/.conda/envs/msc-thesis-2022/lib/python3.9/site-packages/imgaug/augmenters/imgcorruptlike.py:484: FutureWarning: `multichannel` is a deprecated argument name for `gaussian`. It will be removed in version 1.0. Please use `channel_axis` instead.\n",
      "  gaussian(np.array(x) / 255., sigma=sigma, multichannel=True) * 255)\n"
     ]
    },
    {
     "name": "stdout",
     "output_type": "stream",
     "text": [
      "  3/191 [..............................] - ETA: 1:57 - loss: 0.1508 - mae: 0.2053 - mse: 0.0677 - iou_metric: 0.4369"
     ]
    },
    {
     "name": "stderr",
     "output_type": "stream",
     "text": [
      "/home/choppy/TOC/.conda/envs/msc-thesis-2022/lib/python3.9/site-packages/imgaug/augmenters/imgcorruptlike.py:516: FutureWarning: `multichannel` is a deprecated argument name for `gaussian`. It will be removed in version 1.0. Please use `channel_axis` instead.\n",
      "  gaussian(x / 255., sigma=sigma, multichannel=True),\n",
      "/home/choppy/TOC/.conda/envs/msc-thesis-2022/lib/python3.9/site-packages/imagecorruptions/corruptions.py:188: FutureWarning: `multichannel` is a deprecated argument name for `gaussian`. It will be removed in version 1.0. Please use `channel_axis` instead.\n",
      "  x = gaussian(np.array(x) / 255., sigma=c, multichannel=True)\n",
      "/home/choppy/TOC/.conda/envs/msc-thesis-2022/lib/python3.9/site-packages/imgaug/augmenters/imgcorruptlike.py:484: FutureWarning: `multichannel` is a deprecated argument name for `gaussian`. It will be removed in version 1.0. Please use `channel_axis` instead.\n",
      "  gaussian(np.array(x) / 255., sigma=sigma, multichannel=True) * 255)\n"
     ]
    },
    {
     "name": "stdout",
     "output_type": "stream",
     "text": [
      "  4/191 [..............................] - ETA: 1:35 - loss: 0.1514 - mae: 0.2051 - mse: 0.0683 - iou_metric: 0.4380"
     ]
    },
    {
     "name": "stderr",
     "output_type": "stream",
     "text": [
      "/home/choppy/TOC/.conda/envs/msc-thesis-2022/lib/python3.9/site-packages/imgaug/augmenters/imgcorruptlike.py:516: FutureWarning: `multichannel` is a deprecated argument name for `gaussian`. It will be removed in version 1.0. Please use `channel_axis` instead.\n",
      "  gaussian(x / 255., sigma=sigma, multichannel=True),\n",
      "/home/choppy/TOC/.conda/envs/msc-thesis-2022/lib/python3.9/site-packages/imagecorruptions/corruptions.py:188: FutureWarning: `multichannel` is a deprecated argument name for `gaussian`. It will be removed in version 1.0. Please use `channel_axis` instead.\n",
      "  x = gaussian(np.array(x) / 255., sigma=c, multichannel=True)\n",
      "/home/choppy/TOC/.conda/envs/msc-thesis-2022/lib/python3.9/site-packages/imgaug/augmenters/imgcorruptlike.py:484: FutureWarning: `multichannel` is a deprecated argument name for `gaussian`. It will be removed in version 1.0. Please use `channel_axis` instead.\n",
      "  gaussian(np.array(x) / 255., sigma=sigma, multichannel=True) * 255)\n"
     ]
    },
    {
     "name": "stdout",
     "output_type": "stream",
     "text": [
      "  5/191 [..............................] - ETA: 1:34 - loss: 0.1453 - mae: 0.1939 - mse: 0.0623 - iou_metric: 0.4609"
     ]
    },
    {
     "name": "stderr",
     "output_type": "stream",
     "text": [
      "/home/choppy/TOC/.conda/envs/msc-thesis-2022/lib/python3.9/site-packages/imgaug/augmenters/imgcorruptlike.py:516: FutureWarning: `multichannel` is a deprecated argument name for `gaussian`. It will be removed in version 1.0. Please use `channel_axis` instead.\n",
      "  gaussian(x / 255., sigma=sigma, multichannel=True),\n"
     ]
    },
    {
     "name": "stdout",
     "output_type": "stream",
     "text": [
      "  6/191 [..............................] - ETA: 1:21 - loss: 0.1401 - mae: 0.1848 - mse: 0.0570 - iou_metric: 0.4817"
     ]
    },
    {
     "name": "stderr",
     "output_type": "stream",
     "text": [
      "/home/choppy/TOC/.conda/envs/msc-thesis-2022/lib/python3.9/site-packages/imgaug/augmenters/imgcorruptlike.py:484: FutureWarning: `multichannel` is a deprecated argument name for `gaussian`. It will be removed in version 1.0. Please use `channel_axis` instead.\n",
      "  gaussian(np.array(x) / 255., sigma=sigma, multichannel=True) * 255)\n"
     ]
    },
    {
     "name": "stdout",
     "output_type": "stream",
     "text": [
      "  7/191 [>.............................] - ETA: 1:16 - loss: 0.1358 - mae: 0.1767 - mse: 0.0528 - iou_metric: 0.4991"
     ]
    },
    {
     "name": "stderr",
     "output_type": "stream",
     "text": [
      "/home/choppy/TOC/.conda/envs/msc-thesis-2022/lib/python3.9/site-packages/imgaug/augmenters/imgcorruptlike.py:516: FutureWarning: `multichannel` is a deprecated argument name for `gaussian`. It will be removed in version 1.0. Please use `channel_axis` instead.\n",
      "  gaussian(x / 255., sigma=sigma, multichannel=True),\n"
     ]
    },
    {
     "name": "stdout",
     "output_type": "stream",
     "text": [
      "  9/191 [>.............................] - ETA: 1:02 - loss: 0.1280 - mae: 0.1621 - mse: 0.0450 - iou_metric: 0.5349"
     ]
    },
    {
     "name": "stderr",
     "output_type": "stream",
     "text": [
      "/home/choppy/TOC/.conda/envs/msc-thesis-2022/lib/python3.9/site-packages/imgaug/augmenters/imgcorruptlike.py:484: FutureWarning: `multichannel` is a deprecated argument name for `gaussian`. It will be removed in version 1.0. Please use `channel_axis` instead.\n",
      "  gaussian(np.array(x) / 255., sigma=sigma, multichannel=True) * 255)\n"
     ]
    },
    {
     "name": "stdout",
     "output_type": "stream",
     "text": [
      " 10/191 [>.............................] - ETA: 1:09 - loss: 0.1247 - mae: 0.1556 - mse: 0.0417 - iou_metric: 0.5497"
     ]
    },
    {
     "name": "stderr",
     "output_type": "stream",
     "text": [
      "/home/choppy/TOC/.conda/envs/msc-thesis-2022/lib/python3.9/site-packages/imgaug/augmenters/imgcorruptlike.py:516: FutureWarning: `multichannel` is a deprecated argument name for `gaussian`. It will be removed in version 1.0. Please use `channel_axis` instead.\n",
      "  gaussian(x / 255., sigma=sigma, multichannel=True),\n",
      "/home/choppy/TOC/.conda/envs/msc-thesis-2022/lib/python3.9/site-packages/imgaug/augmenters/imgcorruptlike.py:484: FutureWarning: `multichannel` is a deprecated argument name for `gaussian`. It will be removed in version 1.0. Please use `channel_axis` instead.\n",
      "  gaussian(np.array(x) / 255., sigma=sigma, multichannel=True) * 255)\n"
     ]
    },
    {
     "name": "stdout",
     "output_type": "stream",
     "text": [
      " 11/191 [>.............................] - ETA: 1:11 - loss: 0.1230 - mae: 0.1534 - mse: 0.0400 - iou_metric: 0.5547"
     ]
    },
    {
     "name": "stderr",
     "output_type": "stream",
     "text": [
      "/home/choppy/TOC/.conda/envs/msc-thesis-2022/lib/python3.9/site-packages/imgaug/augmenters/imgcorruptlike.py:516: FutureWarning: `multichannel` is a deprecated argument name for `gaussian`. It will be removed in version 1.0. Please use `channel_axis` instead.\n",
      "  gaussian(x / 255., sigma=sigma, multichannel=True),\n",
      "/home/choppy/TOC/.conda/envs/msc-thesis-2022/lib/python3.9/site-packages/imagecorruptions/corruptions.py:188: FutureWarning: `multichannel` is a deprecated argument name for `gaussian`. It will be removed in version 1.0. Please use `channel_axis` instead.\n",
      "  x = gaussian(np.array(x) / 255., sigma=c, multichannel=True)\n"
     ]
    },
    {
     "name": "stdout",
     "output_type": "stream",
     "text": [
      " 13/191 [=>............................] - ETA: 1:02 - loss: 0.1203 - mae: 0.1472 - mse: 0.0374 - iou_metric: 0.5700"
     ]
    },
    {
     "name": "stderr",
     "output_type": "stream",
     "text": [
      "/home/choppy/TOC/.conda/envs/msc-thesis-2022/lib/python3.9/site-packages/imgaug/augmenters/imgcorruptlike.py:484: FutureWarning: `multichannel` is a deprecated argument name for `gaussian`. It will be removed in version 1.0. Please use `channel_axis` instead.\n",
      "  gaussian(np.array(x) / 255., sigma=sigma, multichannel=True) * 255)\n"
     ]
    },
    {
     "name": "stdout",
     "output_type": "stream",
     "text": [
      " 14/191 [=>............................] - ETA: 1:07 - loss: 0.1198 - mae: 0.1473 - mse: 0.0368 - iou_metric: 0.5694"
     ]
    },
    {
     "name": "stderr",
     "output_type": "stream",
     "text": [
      "/home/choppy/TOC/.conda/envs/msc-thesis-2022/lib/python3.9/site-packages/imgaug/augmenters/imgcorruptlike.py:516: FutureWarning: `multichannel` is a deprecated argument name for `gaussian`. It will be removed in version 1.0. Please use `channel_axis` instead.\n",
      "  gaussian(x / 255., sigma=sigma, multichannel=True),\n",
      "/home/choppy/TOC/.conda/envs/msc-thesis-2022/lib/python3.9/site-packages/imgaug/augmenters/imgcorruptlike.py:484: FutureWarning: `multichannel` is a deprecated argument name for `gaussian`. It will be removed in version 1.0. Please use `channel_axis` instead.\n",
      "  gaussian(np.array(x) / 255., sigma=sigma, multichannel=True) * 255)\n"
     ]
    },
    {
     "name": "stdout",
     "output_type": "stream",
     "text": [
      " 16/191 [=>............................] - ETA: 1:05 - loss: 0.1166 - mae: 0.1396 - mse: 0.0337 - iou_metric: 0.5889"
     ]
    },
    {
     "name": "stderr",
     "output_type": "stream",
     "text": [
      "/home/choppy/TOC/.conda/envs/msc-thesis-2022/lib/python3.9/site-packages/imgaug/augmenters/imgcorruptlike.py:516: FutureWarning: `multichannel` is a deprecated argument name for `gaussian`. It will be removed in version 1.0. Please use `channel_axis` instead.\n",
      "  gaussian(x / 255., sigma=sigma, multichannel=True),\n",
      "/home/choppy/TOC/.conda/envs/msc-thesis-2022/lib/python3.9/site-packages/imagecorruptions/corruptions.py:188: FutureWarning: `multichannel` is a deprecated argument name for `gaussian`. It will be removed in version 1.0. Please use `channel_axis` instead.\n",
      "  x = gaussian(np.array(x) / 255., sigma=c, multichannel=True)\n"
     ]
    },
    {
     "name": "stdout",
     "output_type": "stream",
     "text": [
      " 17/191 [=>............................] - ETA: 1:03 - loss: 0.1172 - mae: 0.1412 - mse: 0.0343 - iou_metric: 0.5875"
     ]
    },
    {
     "name": "stderr",
     "output_type": "stream",
     "text": [
      "/home/choppy/TOC/.conda/envs/msc-thesis-2022/lib/python3.9/site-packages/imgaug/augmenters/imgcorruptlike.py:484: FutureWarning: `multichannel` is a deprecated argument name for `gaussian`. It will be removed in version 1.0. Please use `channel_axis` instead.\n",
      "  gaussian(np.array(x) / 255., sigma=sigma, multichannel=True) * 255)\n"
     ]
    },
    {
     "name": "stdout",
     "output_type": "stream",
     "text": [
      " 18/191 [=>............................] - ETA: 1:07 - loss: 0.1160 - mae: 0.1381 - mse: 0.0332 - iou_metric: 0.5960"
     ]
    },
    {
     "name": "stderr",
     "output_type": "stream",
     "text": [
      "/home/choppy/TOC/.conda/envs/msc-thesis-2022/lib/python3.9/site-packages/imgaug/augmenters/imgcorruptlike.py:516: FutureWarning: `multichannel` is a deprecated argument name for `gaussian`. It will be removed in version 1.0. Please use `channel_axis` instead.\n",
      "  gaussian(x / 255., sigma=sigma, multichannel=True),\n",
      "/home/choppy/TOC/.conda/envs/msc-thesis-2022/lib/python3.9/site-packages/imagecorruptions/corruptions.py:188: FutureWarning: `multichannel` is a deprecated argument name for `gaussian`. It will be removed in version 1.0. Please use `channel_axis` instead.\n",
      "  x = gaussian(np.array(x) / 255., sigma=c, multichannel=True)\n"
     ]
    },
    {
     "name": "stdout",
     "output_type": "stream",
     "text": [
      " 20/191 [==>...........................] - ETA: 1:01 - loss: 0.1139 - mae: 0.1337 - mse: 0.0311 - iou_metric: 0.6069"
     ]
    },
    {
     "name": "stderr",
     "output_type": "stream",
     "text": [
      "/home/choppy/TOC/.conda/envs/msc-thesis-2022/lib/python3.9/site-packages/imgaug/augmenters/imgcorruptlike.py:484: FutureWarning: `multichannel` is a deprecated argument name for `gaussian`. It will be removed in version 1.0. Please use `channel_axis` instead.\n",
      "  gaussian(np.array(x) / 255., sigma=sigma, multichannel=True) * 255)\n",
      "/home/choppy/TOC/.conda/envs/msc-thesis-2022/lib/python3.9/site-packages/imgaug/augmenters/imgcorruptlike.py:516: FutureWarning: `multichannel` is a deprecated argument name for `gaussian`. It will be removed in version 1.0. Please use `channel_axis` instead.\n",
      "  gaussian(x / 255., sigma=sigma, multichannel=True),\n",
      "/home/choppy/TOC/.conda/envs/msc-thesis-2022/lib/python3.9/site-packages/imagecorruptions/corruptions.py:188: FutureWarning: `multichannel` is a deprecated argument name for `gaussian`. It will be removed in version 1.0. Please use `channel_axis` instead.\n",
      "  x = gaussian(np.array(x) / 255., sigma=c, multichannel=True)\n"
     ]
    },
    {
     "name": "stdout",
     "output_type": "stream",
     "text": [
      " 22/191 [==>...........................] - ETA: 1:02 - loss: 0.1129 - mae: 0.1318 - mse: 0.0302 - iou_metric: 0.6115"
     ]
    },
    {
     "name": "stderr",
     "output_type": "stream",
     "text": [
      "/home/choppy/TOC/.conda/envs/msc-thesis-2022/lib/python3.9/site-packages/imagecorruptions/corruptions.py:188: FutureWarning: `multichannel` is a deprecated argument name for `gaussian`. It will be removed in version 1.0. Please use `channel_axis` instead.\n",
      "  x = gaussian(np.array(x) / 255., sigma=c, multichannel=True)\n",
      "/home/choppy/TOC/.conda/envs/msc-thesis-2022/lib/python3.9/site-packages/imgaug/augmenters/imgcorruptlike.py:484: FutureWarning: `multichannel` is a deprecated argument name for `gaussian`. It will be removed in version 1.0. Please use `channel_axis` instead.\n",
      "  gaussian(np.array(x) / 255., sigma=sigma, multichannel=True) * 255)\n"
     ]
    },
    {
     "name": "stdout",
     "output_type": "stream",
     "text": [
      " 23/191 [==>...........................] - ETA: 1:04 - loss: 0.1125 - mae: 0.1309 - mse: 0.0297 - iou_metric: 0.6149"
     ]
    },
    {
     "name": "stderr",
     "output_type": "stream",
     "text": [
      "/home/choppy/TOC/.conda/envs/msc-thesis-2022/lib/python3.9/site-packages/imgaug/augmenters/imgcorruptlike.py:516: FutureWarning: `multichannel` is a deprecated argument name for `gaussian`. It will be removed in version 1.0. Please use `channel_axis` instead.\n",
      "  gaussian(x / 255., sigma=sigma, multichannel=True),\n",
      "/home/choppy/TOC/.conda/envs/msc-thesis-2022/lib/python3.9/site-packages/imagecorruptions/corruptions.py:188: FutureWarning: `multichannel` is a deprecated argument name for `gaussian`. It will be removed in version 1.0. Please use `channel_axis` instead.\n",
      "  x = gaussian(np.array(x) / 255., sigma=c, multichannel=True)\n",
      "/home/choppy/TOC/.conda/envs/msc-thesis-2022/lib/python3.9/site-packages/imgaug/augmenters/imgcorruptlike.py:484: FutureWarning: `multichannel` is a deprecated argument name for `gaussian`. It will be removed in version 1.0. Please use `channel_axis` instead.\n",
      "  gaussian(np.array(x) / 255., sigma=sigma, multichannel=True) * 255)\n"
     ]
    },
    {
     "name": "stdout",
     "output_type": "stream",
     "text": [
      " 24/191 [==>...........................] - ETA: 1:05 - loss: 0.1119 - mae: 0.1301 - mse: 0.0292 - iou_metric: 0.6172"
     ]
    },
    {
     "name": "stderr",
     "output_type": "stream",
     "text": [
      "/home/choppy/TOC/.conda/envs/msc-thesis-2022/lib/python3.9/site-packages/imgaug/augmenters/imgcorruptlike.py:516: FutureWarning: `multichannel` is a deprecated argument name for `gaussian`. It will be removed in version 1.0. Please use `channel_axis` instead.\n",
      "  gaussian(x / 255., sigma=sigma, multichannel=True),\n",
      "/home/choppy/TOC/.conda/envs/msc-thesis-2022/lib/python3.9/site-packages/imagecorruptions/corruptions.py:188: FutureWarning: `multichannel` is a deprecated argument name for `gaussian`. It will be removed in version 1.0. Please use `channel_axis` instead.\n",
      "  x = gaussian(np.array(x) / 255., sigma=c, multichannel=True)\n",
      "/home/choppy/TOC/.conda/envs/msc-thesis-2022/lib/python3.9/site-packages/imgaug/augmenters/imgcorruptlike.py:484: FutureWarning: `multichannel` is a deprecated argument name for `gaussian`. It will be removed in version 1.0. Please use `channel_axis` instead.\n",
      "  gaussian(np.array(x) / 255., sigma=sigma, multichannel=True) * 255)\n"
     ]
    },
    {
     "name": "stdout",
     "output_type": "stream",
     "text": [
      " 26/191 [===>..........................] - ETA: 1:01 - loss: 0.1104 - mae: 0.1264 - mse: 0.0278 - iou_metric: 0.6262"
     ]
    },
    {
     "name": "stderr",
     "output_type": "stream",
     "text": [
      "/home/choppy/TOC/.conda/envs/msc-thesis-2022/lib/python3.9/site-packages/imgaug/augmenters/imgcorruptlike.py:516: FutureWarning: `multichannel` is a deprecated argument name for `gaussian`. It will be removed in version 1.0. Please use `channel_axis` instead.\n",
      "  gaussian(x / 255., sigma=sigma, multichannel=True),\n"
     ]
    },
    {
     "name": "stdout",
     "output_type": "stream",
     "text": [
      " 29/191 [===>..........................] - ETA: 56s - loss: 0.1103 - mae: 0.1265 - mse: 0.0278 - iou_metric: 0.6253"
     ]
    },
    {
     "name": "stderr",
     "output_type": "stream",
     "text": [
      "/home/choppy/TOC/.conda/envs/msc-thesis-2022/lib/python3.9/site-packages/imagecorruptions/corruptions.py:188: FutureWarning: `multichannel` is a deprecated argument name for `gaussian`. It will be removed in version 1.0. Please use `channel_axis` instead.\n",
      "  x = gaussian(np.array(x) / 255., sigma=c, multichannel=True)\n",
      "/home/choppy/TOC/.conda/envs/msc-thesis-2022/lib/python3.9/site-packages/imgaug/augmenters/imgcorruptlike.py:484: FutureWarning: `multichannel` is a deprecated argument name for `gaussian`. It will be removed in version 1.0. Please use `channel_axis` instead.\n",
      "  gaussian(np.array(x) / 255., sigma=sigma, multichannel=True) * 255)\n"
     ]
    },
    {
     "name": "stdout",
     "output_type": "stream",
     "text": [
      " 30/191 [===>..........................] - ETA: 55s - loss: 0.1098 - mae: 0.1252 - mse: 0.0273 - iou_metric: 0.6287"
     ]
    },
    {
     "name": "stderr",
     "output_type": "stream",
     "text": [
      "/home/choppy/TOC/.conda/envs/msc-thesis-2022/lib/python3.9/site-packages/imgaug/augmenters/imgcorruptlike.py:516: FutureWarning: `multichannel` is a deprecated argument name for `gaussian`. It will be removed in version 1.0. Please use `channel_axis` instead.\n",
      "  gaussian(x / 255., sigma=sigma, multichannel=True),\n",
      "/home/choppy/TOC/.conda/envs/msc-thesis-2022/lib/python3.9/site-packages/imagecorruptions/corruptions.py:188: FutureWarning: `multichannel` is a deprecated argument name for `gaussian`. It will be removed in version 1.0. Please use `channel_axis` instead.\n",
      "  x = gaussian(np.array(x) / 255., sigma=c, multichannel=True)\n",
      "/home/choppy/TOC/.conda/envs/msc-thesis-2022/lib/python3.9/site-packages/imgaug/augmenters/imgcorruptlike.py:484: FutureWarning: `multichannel` is a deprecated argument name for `gaussian`. It will be removed in version 1.0. Please use `channel_axis` instead.\n",
      "  gaussian(np.array(x) / 255., sigma=sigma, multichannel=True) * 255)\n"
     ]
    },
    {
     "name": "stdout",
     "output_type": "stream",
     "text": [
      " 31/191 [===>..........................] - ETA: 55s - loss: 0.1093 - mae: 0.1243 - mse: 0.0268 - iou_metric: 0.6316"
     ]
    },
    {
     "name": "stderr",
     "output_type": "stream",
     "text": [
      "/home/choppy/TOC/.conda/envs/msc-thesis-2022/lib/python3.9/site-packages/imgaug/augmenters/imgcorruptlike.py:516: FutureWarning: `multichannel` is a deprecated argument name for `gaussian`. It will be removed in version 1.0. Please use `channel_axis` instead.\n",
      "  gaussian(x / 255., sigma=sigma, multichannel=True),\n",
      "/home/choppy/TOC/.conda/envs/msc-thesis-2022/lib/python3.9/site-packages/imgaug/augmenters/imgcorruptlike.py:484: FutureWarning: `multichannel` is a deprecated argument name for `gaussian`. It will be removed in version 1.0. Please use `channel_axis` instead.\n",
      "  gaussian(np.array(x) / 255., sigma=sigma, multichannel=True) * 255)\n",
      "/home/choppy/TOC/.conda/envs/msc-thesis-2022/lib/python3.9/site-packages/imgaug/augmenters/imgcorruptlike.py:516: FutureWarning: `multichannel` is a deprecated argument name for `gaussian`. It will be removed in version 1.0. Please use `channel_axis` instead.\n",
      "  gaussian(x / 255., sigma=sigma, multichannel=True),\n",
      "/home/choppy/TOC/.conda/envs/msc-thesis-2022/lib/python3.9/site-packages/imgaug/augmenters/imgcorruptlike.py:484: FutureWarning: `multichannel` is a deprecated argument name for `gaussian`. It will be removed in version 1.0. Please use `channel_axis` instead.\n",
      "  gaussian(np.array(x) / 255., sigma=sigma, multichannel=True) * 255)\n"
     ]
    },
    {
     "name": "stdout",
     "output_type": "stream",
     "text": [
      " 33/191 [====>.........................] - ETA: 59s - loss: 0.1082 - mae: 0.1217 - mse: 0.0258 - iou_metric: 0.6383 "
     ]
    },
    {
     "name": "stderr",
     "output_type": "stream",
     "text": [
      "/home/choppy/TOC/.conda/envs/msc-thesis-2022/lib/python3.9/site-packages/imgaug/augmenters/imgcorruptlike.py:516: FutureWarning: `multichannel` is a deprecated argument name for `gaussian`. It will be removed in version 1.0. Please use `channel_axis` instead.\n",
      "  gaussian(x / 255., sigma=sigma, multichannel=True),\n",
      "/home/choppy/TOC/.conda/envs/msc-thesis-2022/lib/python3.9/site-packages/imgaug/augmenters/imgcorruptlike.py:484: FutureWarning: `multichannel` is a deprecated argument name for `gaussian`. It will be removed in version 1.0. Please use `channel_axis` instead.\n",
      "  gaussian(np.array(x) / 255., sigma=sigma, multichannel=True) * 255)\n"
     ]
    },
    {
     "name": "stdout",
     "output_type": "stream",
     "text": [
      " 34/191 [====>.........................] - ETA: 58s - loss: 0.1077 - mae: 0.1202 - mse: 0.0253 - iou_metric: 0.6422"
     ]
    },
    {
     "name": "stderr",
     "output_type": "stream",
     "text": [
      "/home/choppy/TOC/.conda/envs/msc-thesis-2022/lib/python3.9/site-packages/imgaug/augmenters/imgcorruptlike.py:516: FutureWarning: `multichannel` is a deprecated argument name for `gaussian`. It will be removed in version 1.0. Please use `channel_axis` instead.\n",
      "  gaussian(x / 255., sigma=sigma, multichannel=True),\n",
      "/home/choppy/TOC/.conda/envs/msc-thesis-2022/lib/python3.9/site-packages/imagecorruptions/corruptions.py:188: FutureWarning: `multichannel` is a deprecated argument name for `gaussian`. It will be removed in version 1.0. Please use `channel_axis` instead.\n",
      "  x = gaussian(np.array(x) / 255., sigma=c, multichannel=True)\n",
      "/home/choppy/TOC/.conda/envs/msc-thesis-2022/lib/python3.9/site-packages/imagecorruptions/corruptions.py:188: FutureWarning: `multichannel` is a deprecated argument name for `gaussian`. It will be removed in version 1.0. Please use `channel_axis` instead.\n",
      "  x = gaussian(np.array(x) / 255., sigma=c, multichannel=True)\n",
      "/home/choppy/TOC/.conda/envs/msc-thesis-2022/lib/python3.9/site-packages/imgaug/augmenters/imgcorruptlike.py:484: FutureWarning: `multichannel` is a deprecated argument name for `gaussian`. It will be removed in version 1.0. Please use `channel_axis` instead.\n",
      "  gaussian(np.array(x) / 255., sigma=sigma, multichannel=True) * 255)\n"
     ]
    },
    {
     "name": "stdout",
     "output_type": "stream",
     "text": [
      " 35/191 [====>.........................] - ETA: 58s - loss: 0.1074 - mae: 0.1196 - mse: 0.0250 - iou_metric: 0.6431"
     ]
    },
    {
     "name": "stderr",
     "output_type": "stream",
     "text": [
      "/home/choppy/TOC/.conda/envs/msc-thesis-2022/lib/python3.9/site-packages/imgaug/augmenters/imgcorruptlike.py:516: FutureWarning: `multichannel` is a deprecated argument name for `gaussian`. It will be removed in version 1.0. Please use `channel_axis` instead.\n",
      "  gaussian(x / 255., sigma=sigma, multichannel=True),\n",
      "/home/choppy/TOC/.conda/envs/msc-thesis-2022/lib/python3.9/site-packages/imagecorruptions/corruptions.py:188: FutureWarning: `multichannel` is a deprecated argument name for `gaussian`. It will be removed in version 1.0. Please use `channel_axis` instead.\n",
      "  x = gaussian(np.array(x) / 255., sigma=c, multichannel=True)\n",
      "/home/choppy/TOC/.conda/envs/msc-thesis-2022/lib/python3.9/site-packages/imagecorruptions/corruptions.py:188: FutureWarning: `multichannel` is a deprecated argument name for `gaussian`. It will be removed in version 1.0. Please use `channel_axis` instead.\n",
      "  x = gaussian(np.array(x) / 255., sigma=c, multichannel=True)\n",
      "/home/choppy/TOC/.conda/envs/msc-thesis-2022/lib/python3.9/site-packages/imagecorruptions/corruptions.py:188: FutureWarning: `multichannel` is a deprecated argument name for `gaussian`. It will be removed in version 1.0. Please use `channel_axis` instead.\n",
      "  x = gaussian(np.array(x) / 255., sigma=c, multichannel=True)\n"
     ]
    },
    {
     "name": "stdout",
     "output_type": "stream",
     "text": [
      " 38/191 [====>.........................] - ETA: 54s - loss: 0.1074 - mae: 0.1194 - mse: 0.0251 - iou_metric: 0.6458"
     ]
    },
    {
     "name": "stderr",
     "output_type": "stream",
     "text": [
      "/home/choppy/TOC/.conda/envs/msc-thesis-2022/lib/python3.9/site-packages/imagecorruptions/corruptions.py:188: FutureWarning: `multichannel` is a deprecated argument name for `gaussian`. It will be removed in version 1.0. Please use `channel_axis` instead.\n",
      "  x = gaussian(np.array(x) / 255., sigma=c, multichannel=True)\n"
     ]
    },
    {
     "name": "stdout",
     "output_type": "stream",
     "text": [
      " 40/191 [=====>........................] - ETA: 52s - loss: 0.1067 - mae: 0.1177 - mse: 0.0245 - iou_metric: 0.6494"
     ]
    },
    {
     "name": "stderr",
     "output_type": "stream",
     "text": [
      "/home/choppy/TOC/.conda/envs/msc-thesis-2022/lib/python3.9/site-packages/imagecorruptions/corruptions.py:188: FutureWarning: `multichannel` is a deprecated argument name for `gaussian`. It will be removed in version 1.0. Please use `channel_axis` instead.\n",
      "  x = gaussian(np.array(x) / 255., sigma=c, multichannel=True)\n",
      "/home/choppy/TOC/.conda/envs/msc-thesis-2022/lib/python3.9/site-packages/imgaug/augmenters/imgcorruptlike.py:484: FutureWarning: `multichannel` is a deprecated argument name for `gaussian`. It will be removed in version 1.0. Please use `channel_axis` instead.\n",
      "  gaussian(np.array(x) / 255., sigma=sigma, multichannel=True) * 255)\n"
     ]
    },
    {
     "name": "stdout",
     "output_type": "stream",
     "text": [
      " 41/191 [=====>........................] - ETA: 51s - loss: 0.1065 - mae: 0.1173 - mse: 0.0243 - iou_metric: 0.6502"
     ]
    },
    {
     "name": "stderr",
     "output_type": "stream",
     "text": [
      "/home/choppy/TOC/.conda/envs/msc-thesis-2022/lib/python3.9/site-packages/imgaug/augmenters/imgcorruptlike.py:516: FutureWarning: `multichannel` is a deprecated argument name for `gaussian`. It will be removed in version 1.0. Please use `channel_axis` instead.\n",
      "  gaussian(x / 255., sigma=sigma, multichannel=True),\n",
      "/home/choppy/TOC/.conda/envs/msc-thesis-2022/lib/python3.9/site-packages/imagecorruptions/corruptions.py:188: FutureWarning: `multichannel` is a deprecated argument name for `gaussian`. It will be removed in version 1.0. Please use `channel_axis` instead.\n",
      "  x = gaussian(np.array(x) / 255., sigma=c, multichannel=True)\n"
     ]
    },
    {
     "name": "stdout",
     "output_type": "stream",
     "text": [
      " 44/191 [=====>........................] - ETA: 50s - loss: 0.1059 - mae: 0.1159 - mse: 0.0238 - iou_metric: 0.6546"
     ]
    },
    {
     "name": "stderr",
     "output_type": "stream",
     "text": [
      "/home/choppy/TOC/.conda/envs/msc-thesis-2022/lib/python3.9/site-packages/imgaug/augmenters/imgcorruptlike.py:484: FutureWarning: `multichannel` is a deprecated argument name for `gaussian`. It will be removed in version 1.0. Please use `channel_axis` instead.\n",
      "  gaussian(np.array(x) / 255., sigma=sigma, multichannel=True) * 255)\n"
     ]
    },
    {
     "name": "stdout",
     "output_type": "stream",
     "text": [
      " 45/191 [======>.......................] - ETA: 51s - loss: 0.1056 - mae: 0.1152 - mse: 0.0236 - iou_metric: 0.6564"
     ]
    },
    {
     "name": "stderr",
     "output_type": "stream",
     "text": [
      "/home/choppy/TOC/.conda/envs/msc-thesis-2022/lib/python3.9/site-packages/imgaug/augmenters/imgcorruptlike.py:516: FutureWarning: `multichannel` is a deprecated argument name for `gaussian`. It will be removed in version 1.0. Please use `channel_axis` instead.\n",
      "  gaussian(x / 255., sigma=sigma, multichannel=True),\n",
      "/home/choppy/TOC/.conda/envs/msc-thesis-2022/lib/python3.9/site-packages/imgaug/augmenters/imgcorruptlike.py:484: FutureWarning: `multichannel` is a deprecated argument name for `gaussian`. It will be removed in version 1.0. Please use `channel_axis` instead.\n",
      "  gaussian(np.array(x) / 255., sigma=sigma, multichannel=True) * 255)\n"
     ]
    },
    {
     "name": "stdout",
     "output_type": "stream",
     "text": [
      " 46/191 [======>.......................] - ETA: 50s - loss: 0.1053 - mae: 0.1143 - mse: 0.0232 - iou_metric: 0.6587"
     ]
    },
    {
     "name": "stderr",
     "output_type": "stream",
     "text": [
      "/home/choppy/TOC/.conda/envs/msc-thesis-2022/lib/python3.9/site-packages/imgaug/augmenters/imgcorruptlike.py:516: FutureWarning: `multichannel` is a deprecated argument name for `gaussian`. It will be removed in version 1.0. Please use `channel_axis` instead.\n",
      "  gaussian(x / 255., sigma=sigma, multichannel=True),\n",
      "/home/choppy/TOC/.conda/envs/msc-thesis-2022/lib/python3.9/site-packages/imagecorruptions/corruptions.py:188: FutureWarning: `multichannel` is a deprecated argument name for `gaussian`. It will be removed in version 1.0. Please use `channel_axis` instead.\n",
      "  x = gaussian(np.array(x) / 255., sigma=c, multichannel=True)\n",
      "/home/choppy/TOC/.conda/envs/msc-thesis-2022/lib/python3.9/site-packages/imgaug/augmenters/imgcorruptlike.py:484: FutureWarning: `multichannel` is a deprecated argument name for `gaussian`. It will be removed in version 1.0. Please use `channel_axis` instead.\n",
      "  gaussian(np.array(x) / 255., sigma=sigma, multichannel=True) * 255)\n"
     ]
    },
    {
     "name": "stdout",
     "output_type": "stream",
     "text": [
      " 47/191 [======>.......................] - ETA: 50s - loss: 0.1050 - mae: 0.1135 - mse: 0.0230 - iou_metric: 0.6608"
     ]
    },
    {
     "name": "stderr",
     "output_type": "stream",
     "text": [
      "/home/choppy/TOC/.conda/envs/msc-thesis-2022/lib/python3.9/site-packages/imgaug/augmenters/imgcorruptlike.py:516: FutureWarning: `multichannel` is a deprecated argument name for `gaussian`. It will be removed in version 1.0. Please use `channel_axis` instead.\n",
      "  gaussian(x / 255., sigma=sigma, multichannel=True),\n",
      "/home/choppy/TOC/.conda/envs/msc-thesis-2022/lib/python3.9/site-packages/imagecorruptions/corruptions.py:188: FutureWarning: `multichannel` is a deprecated argument name for `gaussian`. It will be removed in version 1.0. Please use `channel_axis` instead.\n",
      "  x = gaussian(np.array(x) / 255., sigma=c, multichannel=True)\n",
      "/home/choppy/TOC/.conda/envs/msc-thesis-2022/lib/python3.9/site-packages/imagecorruptions/corruptions.py:188: FutureWarning: `multichannel` is a deprecated argument name for `gaussian`. It will be removed in version 1.0. Please use `channel_axis` instead.\n",
      "  x = gaussian(np.array(x) / 255., sigma=c, multichannel=True)\n",
      "/home/choppy/TOC/.conda/envs/msc-thesis-2022/lib/python3.9/site-packages/imgaug/augmenters/imgcorruptlike.py:484: FutureWarning: `multichannel` is a deprecated argument name for `gaussian`. It will be removed in version 1.0. Please use `channel_axis` instead.\n",
      "  gaussian(np.array(x) / 255., sigma=sigma, multichannel=True) * 255)\n"
     ]
    },
    {
     "name": "stdout",
     "output_type": "stream",
     "text": [
      " 48/191 [======>.......................] - ETA: 50s - loss: 0.1049 - mae: 0.1135 - mse: 0.0229 - iou_metric: 0.6608"
     ]
    },
    {
     "name": "stderr",
     "output_type": "stream",
     "text": [
      "/home/choppy/TOC/.conda/envs/msc-thesis-2022/lib/python3.9/site-packages/imgaug/augmenters/imgcorruptlike.py:516: FutureWarning: `multichannel` is a deprecated argument name for `gaussian`. It will be removed in version 1.0. Please use `channel_axis` instead.\n",
      "  gaussian(x / 255., sigma=sigma, multichannel=True),\n",
      "/home/choppy/TOC/.conda/envs/msc-thesis-2022/lib/python3.9/site-packages/imagecorruptions/corruptions.py:188: FutureWarning: `multichannel` is a deprecated argument name for `gaussian`. It will be removed in version 1.0. Please use `channel_axis` instead.\n",
      "  x = gaussian(np.array(x) / 255., sigma=c, multichannel=True)\n",
      "/home/choppy/TOC/.conda/envs/msc-thesis-2022/lib/python3.9/site-packages/imgaug/augmenters/imgcorruptlike.py:484: FutureWarning: `multichannel` is a deprecated argument name for `gaussian`. It will be removed in version 1.0. Please use `channel_axis` instead.\n",
      "  gaussian(np.array(x) / 255., sigma=sigma, multichannel=True) * 255)\n"
     ]
    },
    {
     "name": "stdout",
     "output_type": "stream",
     "text": [
      " 49/191 [======>.......................] - ETA: 49s - loss: 0.1046 - mae: 0.1128 - mse: 0.0227 - iou_metric: 0.6623"
     ]
    },
    {
     "name": "stderr",
     "output_type": "stream",
     "text": [
      "/home/choppy/TOC/.conda/envs/msc-thesis-2022/lib/python3.9/site-packages/imgaug/augmenters/imgcorruptlike.py:516: FutureWarning: `multichannel` is a deprecated argument name for `gaussian`. It will be removed in version 1.0. Please use `channel_axis` instead.\n",
      "  gaussian(x / 255., sigma=sigma, multichannel=True),\n",
      "/home/choppy/TOC/.conda/envs/msc-thesis-2022/lib/python3.9/site-packages/imgaug/augmenters/imgcorruptlike.py:484: FutureWarning: `multichannel` is a deprecated argument name for `gaussian`. It will be removed in version 1.0. Please use `channel_axis` instead.\n",
      "  gaussian(np.array(x) / 255., sigma=sigma, multichannel=True) * 255)\n"
     ]
    },
    {
     "name": "stdout",
     "output_type": "stream",
     "text": [
      " 50/191 [======>.......................] - ETA: 51s - loss: 0.1044 - mae: 0.1125 - mse: 0.0225 - iou_metric: 0.6636"
     ]
    },
    {
     "name": "stderr",
     "output_type": "stream",
     "text": [
      "/home/choppy/TOC/.conda/envs/msc-thesis-2022/lib/python3.9/site-packages/imgaug/augmenters/imgcorruptlike.py:516: FutureWarning: `multichannel` is a deprecated argument name for `gaussian`. It will be removed in version 1.0. Please use `channel_axis` instead.\n",
      "  gaussian(x / 255., sigma=sigma, multichannel=True),\n",
      "/home/choppy/TOC/.conda/envs/msc-thesis-2022/lib/python3.9/site-packages/imgaug/augmenters/imgcorruptlike.py:484: FutureWarning: `multichannel` is a deprecated argument name for `gaussian`. It will be removed in version 1.0. Please use `channel_axis` instead.\n",
      "  gaussian(np.array(x) / 255., sigma=sigma, multichannel=True) * 255)\n"
     ]
    },
    {
     "name": "stdout",
     "output_type": "stream",
     "text": [
      " 51/191 [=======>......................] - ETA: 51s - loss: 0.1042 - mae: 0.1118 - mse: 0.0223 - iou_metric: 0.6653"
     ]
    },
    {
     "name": "stderr",
     "output_type": "stream",
     "text": [
      "/home/choppy/TOC/.conda/envs/msc-thesis-2022/lib/python3.9/site-packages/imgaug/augmenters/imgcorruptlike.py:516: FutureWarning: `multichannel` is a deprecated argument name for `gaussian`. It will be removed in version 1.0. Please use `channel_axis` instead.\n",
      "  gaussian(x / 255., sigma=sigma, multichannel=True),\n",
      "/home/choppy/TOC/.conda/envs/msc-thesis-2022/lib/python3.9/site-packages/imagecorruptions/corruptions.py:188: FutureWarning: `multichannel` is a deprecated argument name for `gaussian`. It will be removed in version 1.0. Please use `channel_axis` instead.\n",
      "  x = gaussian(np.array(x) / 255., sigma=c, multichannel=True)\n",
      "/home/choppy/TOC/.conda/envs/msc-thesis-2022/lib/python3.9/site-packages/imagecorruptions/corruptions.py:188: FutureWarning: `multichannel` is a deprecated argument name for `gaussian`. It will be removed in version 1.0. Please use `channel_axis` instead.\n",
      "  x = gaussian(np.array(x) / 255., sigma=c, multichannel=True)\n"
     ]
    },
    {
     "name": "stdout",
     "output_type": "stream",
     "text": [
      " 53/191 [=======>......................] - ETA: 49s - loss: 0.1037 - mae: 0.1104 - mse: 0.0219 - iou_metric: 0.6691"
     ]
    },
    {
     "name": "stderr",
     "output_type": "stream",
     "text": [
      "/home/choppy/TOC/.conda/envs/msc-thesis-2022/lib/python3.9/site-packages/imgaug/augmenters/imgcorruptlike.py:484: FutureWarning: `multichannel` is a deprecated argument name for `gaussian`. It will be removed in version 1.0. Please use `channel_axis` instead.\n",
      "  gaussian(np.array(x) / 255., sigma=sigma, multichannel=True) * 255)\n"
     ]
    },
    {
     "name": "stdout",
     "output_type": "stream",
     "text": [
      " 54/191 [=======>......................] - ETA: 48s - loss: 0.1035 - mae: 0.1103 - mse: 0.0218 - iou_metric: 0.6695"
     ]
    },
    {
     "name": "stderr",
     "output_type": "stream",
     "text": [
      "/home/choppy/TOC/.conda/envs/msc-thesis-2022/lib/python3.9/site-packages/imgaug/augmenters/imgcorruptlike.py:516: FutureWarning: `multichannel` is a deprecated argument name for `gaussian`. It will be removed in version 1.0. Please use `channel_axis` instead.\n",
      "  gaussian(x / 255., sigma=sigma, multichannel=True),\n",
      "/home/choppy/TOC/.conda/envs/msc-thesis-2022/lib/python3.9/site-packages/imagecorruptions/corruptions.py:188: FutureWarning: `multichannel` is a deprecated argument name for `gaussian`. It will be removed in version 1.0. Please use `channel_axis` instead.\n",
      "  x = gaussian(np.array(x) / 255., sigma=c, multichannel=True)\n",
      "/home/choppy/TOC/.conda/envs/msc-thesis-2022/lib/python3.9/site-packages/imgaug/augmenters/imgcorruptlike.py:484: FutureWarning: `multichannel` is a deprecated argument name for `gaussian`. It will be removed in version 1.0. Please use `channel_axis` instead.\n",
      "  gaussian(np.array(x) / 255., sigma=sigma, multichannel=True) * 255)\n",
      "/home/choppy/TOC/.conda/envs/msc-thesis-2022/lib/python3.9/site-packages/imgaug/augmenters/imgcorruptlike.py:516: FutureWarning: `multichannel` is a deprecated argument name for `gaussian`. It will be removed in version 1.0. Please use `channel_axis` instead.\n",
      "  gaussian(x / 255., sigma=sigma, multichannel=True),\n"
     ]
    },
    {
     "name": "stdout",
     "output_type": "stream",
     "text": [
      " 56/191 [=======>......................] - ETA: 48s - loss: 0.1030 - mae: 0.1087 - mse: 0.0213 - iou_metric: 0.6743"
     ]
    },
    {
     "name": "stderr",
     "output_type": "stream",
     "text": [
      "/home/choppy/TOC/.conda/envs/msc-thesis-2022/lib/python3.9/site-packages/imagecorruptions/corruptions.py:188: FutureWarning: `multichannel` is a deprecated argument name for `gaussian`. It will be removed in version 1.0. Please use `channel_axis` instead.\n",
      "  x = gaussian(np.array(x) / 255., sigma=c, multichannel=True)\n"
     ]
    },
    {
     "name": "stdout",
     "output_type": "stream",
     "text": [
      " 57/191 [=======>......................] - ETA: 48s - loss: 0.1030 - mae: 0.1088 - mse: 0.0213 - iou_metric: 0.6740"
     ]
    },
    {
     "name": "stderr",
     "output_type": "stream",
     "text": [
      "/home/choppy/TOC/.conda/envs/msc-thesis-2022/lib/python3.9/site-packages/imgaug/augmenters/imgcorruptlike.py:484: FutureWarning: `multichannel` is a deprecated argument name for `gaussian`. It will be removed in version 1.0. Please use `channel_axis` instead.\n",
      "  gaussian(np.array(x) / 255., sigma=sigma, multichannel=True) * 255)\n"
     ]
    },
    {
     "name": "stdout",
     "output_type": "stream",
     "text": [
      " 59/191 [========>.....................] - ETA: 46s - loss: 0.1025 - mae: 0.1079 - mse: 0.0210 - iou_metric: 0.6764"
     ]
    },
    {
     "name": "stderr",
     "output_type": "stream",
     "text": [
      "/home/choppy/TOC/.conda/envs/msc-thesis-2022/lib/python3.9/site-packages/imgaug/augmenters/imgcorruptlike.py:516: FutureWarning: `multichannel` is a deprecated argument name for `gaussian`. It will be removed in version 1.0. Please use `channel_axis` instead.\n",
      "  gaussian(x / 255., sigma=sigma, multichannel=True),\n"
     ]
    },
    {
     "name": "stdout",
     "output_type": "stream",
     "text": [
      " 62/191 [========>.....................] - ETA: 44s - loss: 0.1022 - mae: 0.1074 - mse: 0.0208 - iou_metric: 0.6777"
     ]
    },
    {
     "name": "stderr",
     "output_type": "stream",
     "text": [
      "/home/choppy/TOC/.conda/envs/msc-thesis-2022/lib/python3.9/site-packages/imgaug/augmenters/imgcorruptlike.py:484: FutureWarning: `multichannel` is a deprecated argument name for `gaussian`. It will be removed in version 1.0. Please use `channel_axis` instead.\n",
      "  gaussian(np.array(x) / 255., sigma=sigma, multichannel=True) * 255)\n"
     ]
    },
    {
     "name": "stdout",
     "output_type": "stream",
     "text": [
      " 63/191 [========>.....................] - ETA: 44s - loss: 0.1021 - mae: 0.1072 - mse: 0.0207 - iou_metric: 0.6783"
     ]
    },
    {
     "name": "stderr",
     "output_type": "stream",
     "text": [
      "/home/choppy/TOC/.conda/envs/msc-thesis-2022/lib/python3.9/site-packages/imgaug/augmenters/imgcorruptlike.py:516: FutureWarning: `multichannel` is a deprecated argument name for `gaussian`. It will be removed in version 1.0. Please use `channel_axis` instead.\n",
      "  gaussian(x / 255., sigma=sigma, multichannel=True),\n",
      "/home/choppy/TOC/.conda/envs/msc-thesis-2022/lib/python3.9/site-packages/imgaug/augmenters/imgcorruptlike.py:484: FutureWarning: `multichannel` is a deprecated argument name for `gaussian`. It will be removed in version 1.0. Please use `channel_axis` instead.\n",
      "  gaussian(np.array(x) / 255., sigma=sigma, multichannel=True) * 255)\n",
      "/home/choppy/TOC/.conda/envs/msc-thesis-2022/lib/python3.9/site-packages/imgaug/augmenters/imgcorruptlike.py:516: FutureWarning: `multichannel` is a deprecated argument name for `gaussian`. It will be removed in version 1.0. Please use `channel_axis` instead.\n",
      "  gaussian(x / 255., sigma=sigma, multichannel=True),\n"
     ]
    },
    {
     "name": "stdout",
     "output_type": "stream",
     "text": [
      " 67/191 [=========>....................] - ETA: 42s - loss: 0.1013 - mae: 0.1058 - mse: 0.0201 - iou_metric: 0.6819"
     ]
    },
    {
     "name": "stderr",
     "output_type": "stream",
     "text": [
      "/home/choppy/TOC/.conda/envs/msc-thesis-2022/lib/python3.9/site-packages/imagecorruptions/corruptions.py:188: FutureWarning: `multichannel` is a deprecated argument name for `gaussian`. It will be removed in version 1.0. Please use `channel_axis` instead.\n",
      "  x = gaussian(np.array(x) / 255., sigma=c, multichannel=True)\n"
     ]
    },
    {
     "name": "stdout",
     "output_type": "stream",
     "text": [
      " 69/191 [=========>....................] - ETA: 41s - loss: 0.1010 - mae: 0.1049 - mse: 0.0198 - iou_metric: 0.6842"
     ]
    },
    {
     "name": "stderr",
     "output_type": "stream",
     "text": [
      "/home/choppy/TOC/.conda/envs/msc-thesis-2022/lib/python3.9/site-packages/imagecorruptions/corruptions.py:188: FutureWarning: `multichannel` is a deprecated argument name for `gaussian`. It will be removed in version 1.0. Please use `channel_axis` instead.\n",
      "  x = gaussian(np.array(x) / 255., sigma=c, multichannel=True)\n"
     ]
    },
    {
     "name": "stdout",
     "output_type": "stream",
     "text": [
      " 72/191 [==========>...................] - ETA: 38s - loss: 0.1005 - mae: 0.1036 - mse: 0.0194 - iou_metric: 0.6880"
     ]
    },
    {
     "name": "stderr",
     "output_type": "stream",
     "text": [
      "/home/choppy/TOC/.conda/envs/msc-thesis-2022/lib/python3.9/site-packages/imagecorruptions/corruptions.py:188: FutureWarning: `multichannel` is a deprecated argument name for `gaussian`. It will be removed in version 1.0. Please use `channel_axis` instead.\n",
      "  x = gaussian(np.array(x) / 255., sigma=c, multichannel=True)\n",
      "/home/choppy/TOC/.conda/envs/msc-thesis-2022/lib/python3.9/site-packages/imgaug/augmenters/imgcorruptlike.py:484: FutureWarning: `multichannel` is a deprecated argument name for `gaussian`. It will be removed in version 1.0. Please use `channel_axis` instead.\n",
      "  gaussian(np.array(x) / 255., sigma=sigma, multichannel=True) * 255)\n"
     ]
    },
    {
     "name": "stdout",
     "output_type": "stream",
     "text": [
      " 74/191 [==========>...................] - ETA: 37s - loss: 0.1004 - mae: 0.1037 - mse: 0.0194 - iou_metric: 0.6877"
     ]
    },
    {
     "name": "stderr",
     "output_type": "stream",
     "text": [
      "/home/choppy/TOC/.conda/envs/msc-thesis-2022/lib/python3.9/site-packages/imgaug/augmenters/imgcorruptlike.py:516: FutureWarning: `multichannel` is a deprecated argument name for `gaussian`. It will be removed in version 1.0. Please use `channel_axis` instead.\n",
      "  gaussian(x / 255., sigma=sigma, multichannel=True),\n"
     ]
    },
    {
     "name": "stdout",
     "output_type": "stream",
     "text": [
      " 75/191 [==========>...................] - ETA: 37s - loss: 0.1003 - mae: 0.1033 - mse: 0.0193 - iou_metric: 0.6886"
     ]
    },
    {
     "name": "stderr",
     "output_type": "stream",
     "text": [
      "/home/choppy/TOC/.conda/envs/msc-thesis-2022/lib/python3.9/site-packages/imgaug/augmenters/imgcorruptlike.py:484: FutureWarning: `multichannel` is a deprecated argument name for `gaussian`. It will be removed in version 1.0. Please use `channel_axis` instead.\n",
      "  gaussian(np.array(x) / 255., sigma=sigma, multichannel=True) * 255)\n",
      "/home/choppy/TOC/.conda/envs/msc-thesis-2022/lib/python3.9/site-packages/imgaug/augmenters/imgcorruptlike.py:516: FutureWarning: `multichannel` is a deprecated argument name for `gaussian`. It will be removed in version 1.0. Please use `channel_axis` instead.\n",
      "  gaussian(x / 255., sigma=sigma, multichannel=True),\n"
     ]
    },
    {
     "name": "stdout",
     "output_type": "stream",
     "text": [
      " 78/191 [===========>..................] - ETA: 36s - loss: 0.0998 - mae: 0.1025 - mse: 0.0190 - iou_metric: 0.6902"
     ]
    },
    {
     "name": "stderr",
     "output_type": "stream",
     "text": [
      "/home/choppy/TOC/.conda/envs/msc-thesis-2022/lib/python3.9/site-packages/imagecorruptions/corruptions.py:188: FutureWarning: `multichannel` is a deprecated argument name for `gaussian`. It will be removed in version 1.0. Please use `channel_axis` instead.\n",
      "  x = gaussian(np.array(x) / 255., sigma=c, multichannel=True)\n"
     ]
    },
    {
     "name": "stdout",
     "output_type": "stream",
     "text": [
      " 80/191 [===========>..................] - ETA: 35s - loss: 0.0996 - mae: 0.1021 - mse: 0.0188 - iou_metric: 0.6910"
     ]
    },
    {
     "name": "stderr",
     "output_type": "stream",
     "text": [
      "/home/choppy/TOC/.conda/envs/msc-thesis-2022/lib/python3.9/site-packages/imgaug/augmenters/imgcorruptlike.py:484: FutureWarning: `multichannel` is a deprecated argument name for `gaussian`. It will be removed in version 1.0. Please use `channel_axis` instead.\n",
      "  gaussian(np.array(x) / 255., sigma=sigma, multichannel=True) * 255)\n"
     ]
    },
    {
     "name": "stdout",
     "output_type": "stream",
     "text": [
      " 81/191 [===========>..................] - ETA: 34s - loss: 0.0994 - mae: 0.1018 - mse: 0.0186 - iou_metric: 0.6916"
     ]
    },
    {
     "name": "stderr",
     "output_type": "stream",
     "text": [
      "/home/choppy/TOC/.conda/envs/msc-thesis-2022/lib/python3.9/site-packages/imgaug/augmenters/imgcorruptlike.py:516: FutureWarning: `multichannel` is a deprecated argument name for `gaussian`. It will be removed in version 1.0. Please use `channel_axis` instead.\n",
      "  gaussian(x / 255., sigma=sigma, multichannel=True),\n",
      "/home/choppy/TOC/.conda/envs/msc-thesis-2022/lib/python3.9/site-packages/imagecorruptions/corruptions.py:188: FutureWarning: `multichannel` is a deprecated argument name for `gaussian`. It will be removed in version 1.0. Please use `channel_axis` instead.\n",
      "  x = gaussian(np.array(x) / 255., sigma=c, multichannel=True)\n",
      "/home/choppy/TOC/.conda/envs/msc-thesis-2022/lib/python3.9/site-packages/imgaug/augmenters/imgcorruptlike.py:484: FutureWarning: `multichannel` is a deprecated argument name for `gaussian`. It will be removed in version 1.0. Please use `channel_axis` instead.\n",
      "  gaussian(np.array(x) / 255., sigma=sigma, multichannel=True) * 255)\n"
     ]
    },
    {
     "name": "stdout",
     "output_type": "stream",
     "text": [
      " 82/191 [===========>..................] - ETA: 35s - loss: 0.0993 - mae: 0.1016 - mse: 0.0186 - iou_metric: 0.6920"
     ]
    },
    {
     "name": "stderr",
     "output_type": "stream",
     "text": [
      "/home/choppy/TOC/.conda/envs/msc-thesis-2022/lib/python3.9/site-packages/imgaug/augmenters/imgcorruptlike.py:516: FutureWarning: `multichannel` is a deprecated argument name for `gaussian`. It will be removed in version 1.0. Please use `channel_axis` instead.\n",
      "  gaussian(x / 255., sigma=sigma, multichannel=True),\n"
     ]
    },
    {
     "name": "stdout",
     "output_type": "stream",
     "text": [
      " 86/191 [============>.................] - ETA: 33s - loss: 0.0988 - mae: 0.1006 - mse: 0.0182 - iou_metric: 0.6945"
     ]
    },
    {
     "name": "stderr",
     "output_type": "stream",
     "text": [
      "/home/choppy/TOC/.conda/envs/msc-thesis-2022/lib/python3.9/site-packages/imagecorruptions/corruptions.py:188: FutureWarning: `multichannel` is a deprecated argument name for `gaussian`. It will be removed in version 1.0. Please use `channel_axis` instead.\n",
      "  x = gaussian(np.array(x) / 255., sigma=c, multichannel=True)\n"
     ]
    },
    {
     "name": "stdout",
     "output_type": "stream",
     "text": [
      " 89/191 [============>.................] - ETA: 31s - loss: 0.0984 - mae: 0.0998 - mse: 0.0180 - iou_metric: 0.6962"
     ]
    },
    {
     "name": "stderr",
     "output_type": "stream",
     "text": [
      "/home/choppy/TOC/.conda/envs/msc-thesis-2022/lib/python3.9/site-packages/imagecorruptions/corruptions.py:188: FutureWarning: `multichannel` is a deprecated argument name for `gaussian`. It will be removed in version 1.0. Please use `channel_axis` instead.\n",
      "  x = gaussian(np.array(x) / 255., sigma=c, multichannel=True)\n",
      "/home/choppy/TOC/.conda/envs/msc-thesis-2022/lib/python3.9/site-packages/imgaug/augmenters/imgcorruptlike.py:484: FutureWarning: `multichannel` is a deprecated argument name for `gaussian`. It will be removed in version 1.0. Please use `channel_axis` instead.\n",
      "  gaussian(np.array(x) / 255., sigma=sigma, multichannel=True) * 255)\n"
     ]
    },
    {
     "name": "stdout",
     "output_type": "stream",
     "text": [
      " 90/191 [=============>................] - ETA: 31s - loss: 0.0982 - mae: 0.0993 - mse: 0.0178 - iou_metric: 0.6974"
     ]
    },
    {
     "name": "stderr",
     "output_type": "stream",
     "text": [
      "/home/choppy/TOC/.conda/envs/msc-thesis-2022/lib/python3.9/site-packages/imgaug/augmenters/imgcorruptlike.py:516: FutureWarning: `multichannel` is a deprecated argument name for `gaussian`. It will be removed in version 1.0. Please use `channel_axis` instead.\n",
      "  gaussian(x / 255., sigma=sigma, multichannel=True),\n",
      "/home/choppy/TOC/.conda/envs/msc-thesis-2022/lib/python3.9/site-packages/imagecorruptions/corruptions.py:188: FutureWarning: `multichannel` is a deprecated argument name for `gaussian`. It will be removed in version 1.0. Please use `channel_axis` instead.\n",
      "  x = gaussian(np.array(x) / 255., sigma=c, multichannel=True)\n"
     ]
    },
    {
     "name": "stdout",
     "output_type": "stream",
     "text": [
      " 92/191 [=============>................] - ETA: 30s - loss: 0.0980 - mae: 0.0988 - mse: 0.0177 - iou_metric: 0.6987"
     ]
    },
    {
     "name": "stderr",
     "output_type": "stream",
     "text": [
      "/home/choppy/TOC/.conda/envs/msc-thesis-2022/lib/python3.9/site-packages/imgaug/augmenters/imgcorruptlike.py:484: FutureWarning: `multichannel` is a deprecated argument name for `gaussian`. It will be removed in version 1.0. Please use `channel_axis` instead.\n",
      "  gaussian(np.array(x) / 255., sigma=sigma, multichannel=True) * 255)\n"
     ]
    },
    {
     "name": "stdout",
     "output_type": "stream",
     "text": [
      " 93/191 [=============>................] - ETA: 30s - loss: 0.0979 - mae: 0.0987 - mse: 0.0176 - iou_metric: 0.6990"
     ]
    },
    {
     "name": "stderr",
     "output_type": "stream",
     "text": [
      "/home/choppy/TOC/.conda/envs/msc-thesis-2022/lib/python3.9/site-packages/imgaug/augmenters/imgcorruptlike.py:516: FutureWarning: `multichannel` is a deprecated argument name for `gaussian`. It will be removed in version 1.0. Please use `channel_axis` instead.\n",
      "  gaussian(x / 255., sigma=sigma, multichannel=True),\n",
      "/home/choppy/TOC/.conda/envs/msc-thesis-2022/lib/python3.9/site-packages/imgaug/augmenters/imgcorruptlike.py:484: FutureWarning: `multichannel` is a deprecated argument name for `gaussian`. It will be removed in version 1.0. Please use `channel_axis` instead.\n",
      "  gaussian(np.array(x) / 255., sigma=sigma, multichannel=True) * 255)\n"
     ]
    },
    {
     "name": "stdout",
     "output_type": "stream",
     "text": [
      " 95/191 [=============>................] - ETA: 29s - loss: 0.0977 - mae: 0.0984 - mse: 0.0175 - iou_metric: 0.7001"
     ]
    },
    {
     "name": "stderr",
     "output_type": "stream",
     "text": [
      "/home/choppy/TOC/.conda/envs/msc-thesis-2022/lib/python3.9/site-packages/imgaug/augmenters/imgcorruptlike.py:516: FutureWarning: `multichannel` is a deprecated argument name for `gaussian`. It will be removed in version 1.0. Please use `channel_axis` instead.\n",
      "  gaussian(x / 255., sigma=sigma, multichannel=True),\n",
      "/home/choppy/TOC/.conda/envs/msc-thesis-2022/lib/python3.9/site-packages/imagecorruptions/corruptions.py:188: FutureWarning: `multichannel` is a deprecated argument name for `gaussian`. It will be removed in version 1.0. Please use `channel_axis` instead.\n",
      "  x = gaussian(np.array(x) / 255., sigma=c, multichannel=True)\n",
      "/home/choppy/TOC/.conda/envs/msc-thesis-2022/lib/python3.9/site-packages/imagecorruptions/corruptions.py:188: FutureWarning: `multichannel` is a deprecated argument name for `gaussian`. It will be removed in version 1.0. Please use `channel_axis` instead.\n",
      "  x = gaussian(np.array(x) / 255., sigma=c, multichannel=True)\n",
      "/home/choppy/TOC/.conda/envs/msc-thesis-2022/lib/python3.9/site-packages/imgaug/augmenters/imgcorruptlike.py:484: FutureWarning: `multichannel` is a deprecated argument name for `gaussian`. It will be removed in version 1.0. Please use `channel_axis` instead.\n",
      "  gaussian(np.array(x) / 255., sigma=sigma, multichannel=True) * 255)\n"
     ]
    },
    {
     "name": "stdout",
     "output_type": "stream",
     "text": [
      " 96/191 [==============>...............] - ETA: 29s - loss: 0.0975 - mae: 0.0980 - mse: 0.0174 - iou_metric: 0.7008"
     ]
    },
    {
     "name": "stderr",
     "output_type": "stream",
     "text": [
      "/home/choppy/TOC/.conda/envs/msc-thesis-2022/lib/python3.9/site-packages/imgaug/augmenters/imgcorruptlike.py:516: FutureWarning: `multichannel` is a deprecated argument name for `gaussian`. It will be removed in version 1.0. Please use `channel_axis` instead.\n",
      "  gaussian(x / 255., sigma=sigma, multichannel=True),\n",
      "/home/choppy/TOC/.conda/envs/msc-thesis-2022/lib/python3.9/site-packages/imagecorruptions/corruptions.py:188: FutureWarning: `multichannel` is a deprecated argument name for `gaussian`. It will be removed in version 1.0. Please use `channel_axis` instead.\n",
      "  x = gaussian(np.array(x) / 255., sigma=c, multichannel=True)\n",
      "/home/choppy/TOC/.conda/envs/msc-thesis-2022/lib/python3.9/site-packages/imagecorruptions/corruptions.py:188: FutureWarning: `multichannel` is a deprecated argument name for `gaussian`. It will be removed in version 1.0. Please use `channel_axis` instead.\n",
      "  x = gaussian(np.array(x) / 255., sigma=c, multichannel=True)\n"
     ]
    },
    {
     "name": "stdout",
     "output_type": "stream",
     "text": [
      " 99/191 [==============>...............] - ETA: 28s - loss: 0.0972 - mae: 0.0974 - mse: 0.0172 - iou_metric: 0.7023"
     ]
    },
    {
     "name": "stderr",
     "output_type": "stream",
     "text": [
      "/home/choppy/TOC/.conda/envs/msc-thesis-2022/lib/python3.9/site-packages/imgaug/augmenters/imgcorruptlike.py:484: FutureWarning: `multichannel` is a deprecated argument name for `gaussian`. It will be removed in version 1.0. Please use `channel_axis` instead.\n",
      "  gaussian(np.array(x) / 255., sigma=sigma, multichannel=True) * 255)\n"
     ]
    },
    {
     "name": "stdout",
     "output_type": "stream",
     "text": [
      "100/191 [==============>...............] - ETA: 28s - loss: 0.0971 - mae: 0.0972 - mse: 0.0171 - iou_metric: 0.7030"
     ]
    },
    {
     "name": "stderr",
     "output_type": "stream",
     "text": [
      "/home/choppy/TOC/.conda/envs/msc-thesis-2022/lib/python3.9/site-packages/imgaug/augmenters/imgcorruptlike.py:516: FutureWarning: `multichannel` is a deprecated argument name for `gaussian`. It will be removed in version 1.0. Please use `channel_axis` instead.\n",
      "  gaussian(x / 255., sigma=sigma, multichannel=True),\n"
     ]
    },
    {
     "name": "stdout",
     "output_type": "stream",
     "text": [
      "102/191 [===============>..............] - ETA: 27s - loss: 0.0969 - mae: 0.0969 - mse: 0.0170 - iou_metric: 0.7039"
     ]
    },
    {
     "name": "stderr",
     "output_type": "stream",
     "text": [
      "/home/choppy/TOC/.conda/envs/msc-thesis-2022/lib/python3.9/site-packages/imagecorruptions/corruptions.py:188: FutureWarning: `multichannel` is a deprecated argument name for `gaussian`. It will be removed in version 1.0. Please use `channel_axis` instead.\n",
      "  x = gaussian(np.array(x) / 255., sigma=c, multichannel=True)\n"
     ]
    },
    {
     "name": "stdout",
     "output_type": "stream",
     "text": [
      "103/191 [===============>..............] - ETA: 27s - loss: 0.0968 - mae: 0.0969 - mse: 0.0170 - iou_metric: 0.7038"
     ]
    },
    {
     "name": "stderr",
     "output_type": "stream",
     "text": [
      "/home/choppy/TOC/.conda/envs/msc-thesis-2022/lib/python3.9/site-packages/imagecorruptions/corruptions.py:188: FutureWarning: `multichannel` is a deprecated argument name for `gaussian`. It will be removed in version 1.0. Please use `channel_axis` instead.\n",
      "  x = gaussian(np.array(x) / 255., sigma=c, multichannel=True)\n",
      "/home/choppy/TOC/.conda/envs/msc-thesis-2022/lib/python3.9/site-packages/imgaug/augmenters/imgcorruptlike.py:484: FutureWarning: `multichannel` is a deprecated argument name for `gaussian`. It will be removed in version 1.0. Please use `channel_axis` instead.\n",
      "  gaussian(np.array(x) / 255., sigma=sigma, multichannel=True) * 255)\n"
     ]
    },
    {
     "name": "stdout",
     "output_type": "stream",
     "text": [
      "104/191 [===============>..............] - ETA: 26s - loss: 0.0968 - mae: 0.0968 - mse: 0.0169 - iou_metric: 0.7040"
     ]
    },
    {
     "name": "stderr",
     "output_type": "stream",
     "text": [
      "/home/choppy/TOC/.conda/envs/msc-thesis-2022/lib/python3.9/site-packages/imgaug/augmenters/imgcorruptlike.py:516: FutureWarning: `multichannel` is a deprecated argument name for `gaussian`. It will be removed in version 1.0. Please use `channel_axis` instead.\n",
      "  gaussian(x / 255., sigma=sigma, multichannel=True),\n",
      "/home/choppy/TOC/.conda/envs/msc-thesis-2022/lib/python3.9/site-packages/imgaug/augmenters/imgcorruptlike.py:484: FutureWarning: `multichannel` is a deprecated argument name for `gaussian`. It will be removed in version 1.0. Please use `channel_axis` instead.\n",
      "  gaussian(np.array(x) / 255., sigma=sigma, multichannel=True) * 255)\n",
      "/home/choppy/TOC/.conda/envs/msc-thesis-2022/lib/python3.9/site-packages/imgaug/augmenters/imgcorruptlike.py:516: FutureWarning: `multichannel` is a deprecated argument name for `gaussian`. It will be removed in version 1.0. Please use `channel_axis` instead.\n",
      "  gaussian(x / 255., sigma=sigma, multichannel=True),\n"
     ]
    },
    {
     "name": "stdout",
     "output_type": "stream",
     "text": [
      "106/191 [===============>..............] - ETA: 26s - loss: 0.0966 - mae: 0.0966 - mse: 0.0169 - iou_metric: 0.7048"
     ]
    },
    {
     "name": "stderr",
     "output_type": "stream",
     "text": [
      "/home/choppy/TOC/.conda/envs/msc-thesis-2022/lib/python3.9/site-packages/imagecorruptions/corruptions.py:188: FutureWarning: `multichannel` is a deprecated argument name for `gaussian`. It will be removed in version 1.0. Please use `channel_axis` instead.\n",
      "  x = gaussian(np.array(x) / 255., sigma=c, multichannel=True)\n",
      "/home/choppy/TOC/.conda/envs/msc-thesis-2022/lib/python3.9/site-packages/imagecorruptions/corruptions.py:188: FutureWarning: `multichannel` is a deprecated argument name for `gaussian`. It will be removed in version 1.0. Please use `channel_axis` instead.\n",
      "  x = gaussian(np.array(x) / 255., sigma=c, multichannel=True)\n",
      "/home/choppy/TOC/.conda/envs/msc-thesis-2022/lib/python3.9/site-packages/imgaug/augmenters/imgcorruptlike.py:484: FutureWarning: `multichannel` is a deprecated argument name for `gaussian`. It will be removed in version 1.0. Please use `channel_axis` instead.\n",
      "  gaussian(np.array(x) / 255., sigma=sigma, multichannel=True) * 255)\n"
     ]
    },
    {
     "name": "stdout",
     "output_type": "stream",
     "text": [
      "108/191 [===============>..............] - ETA: 25s - loss: 0.0964 - mae: 0.0961 - mse: 0.0167 - iou_metric: 0.7061"
     ]
    },
    {
     "name": "stderr",
     "output_type": "stream",
     "text": [
      "/home/choppy/TOC/.conda/envs/msc-thesis-2022/lib/python3.9/site-packages/imgaug/augmenters/imgcorruptlike.py:516: FutureWarning: `multichannel` is a deprecated argument name for `gaussian`. It will be removed in version 1.0. Please use `channel_axis` instead.\n",
      "  gaussian(x / 255., sigma=sigma, multichannel=True),\n"
     ]
    },
    {
     "name": "stdout",
     "output_type": "stream",
     "text": [
      "110/191 [================>.............] - ETA: 24s - loss: 0.0962 - mae: 0.0958 - mse: 0.0166 - iou_metric: 0.7067"
     ]
    },
    {
     "name": "stderr",
     "output_type": "stream",
     "text": [
      "/home/choppy/TOC/.conda/envs/msc-thesis-2022/lib/python3.9/site-packages/imagecorruptions/corruptions.py:188: FutureWarning: `multichannel` is a deprecated argument name for `gaussian`. It will be removed in version 1.0. Please use `channel_axis` instead.\n",
      "  x = gaussian(np.array(x) / 255., sigma=c, multichannel=True)\n",
      "/home/choppy/TOC/.conda/envs/msc-thesis-2022/lib/python3.9/site-packages/imgaug/augmenters/imgcorruptlike.py:484: FutureWarning: `multichannel` is a deprecated argument name for `gaussian`. It will be removed in version 1.0. Please use `channel_axis` instead.\n",
      "  gaussian(np.array(x) / 255., sigma=sigma, multichannel=True) * 255)\n",
      "/home/choppy/TOC/.conda/envs/msc-thesis-2022/lib/python3.9/site-packages/imgaug/augmenters/imgcorruptlike.py:516: FutureWarning: `multichannel` is a deprecated argument name for `gaussian`. It will be removed in version 1.0. Please use `channel_axis` instead.\n",
      "  gaussian(x / 255., sigma=sigma, multichannel=True),\n",
      "/home/choppy/TOC/.conda/envs/msc-thesis-2022/lib/python3.9/site-packages/imgaug/augmenters/imgcorruptlike.py:484: FutureWarning: `multichannel` is a deprecated argument name for `gaussian`. It will be removed in version 1.0. Please use `channel_axis` instead.\n",
      "  gaussian(np.array(x) / 255., sigma=sigma, multichannel=True) * 255)\n",
      "/home/choppy/TOC/.conda/envs/msc-thesis-2022/lib/python3.9/site-packages/imgaug/augmenters/imgcorruptlike.py:516: FutureWarning: `multichannel` is a deprecated argument name for `gaussian`. It will be removed in version 1.0. Please use `channel_axis` instead.\n",
      "  gaussian(x / 255., sigma=sigma, multichannel=True),\n",
      "/home/choppy/TOC/.conda/envs/msc-thesis-2022/lib/python3.9/site-packages/imgaug/augmenters/imgcorruptlike.py:484: FutureWarning: `multichannel` is a deprecated argument name for `gaussian`. It will be removed in version 1.0. Please use `channel_axis` instead.\n",
      "  gaussian(np.array(x) / 255., sigma=sigma, multichannel=True) * 255)\n"
     ]
    },
    {
     "name": "stdout",
     "output_type": "stream",
     "text": [
      "111/191 [================>.............] - ETA: 25s - loss: 0.0961 - mae: 0.0957 - mse: 0.0165 - iou_metric: 0.7071"
     ]
    },
    {
     "name": "stderr",
     "output_type": "stream",
     "text": [
      "/home/choppy/TOC/.conda/envs/msc-thesis-2022/lib/python3.9/site-packages/imgaug/augmenters/imgcorruptlike.py:516: FutureWarning: `multichannel` is a deprecated argument name for `gaussian`. It will be removed in version 1.0. Please use `channel_axis` instead.\n",
      "  gaussian(x / 255., sigma=sigma, multichannel=True),\n",
      "/home/choppy/TOC/.conda/envs/msc-thesis-2022/lib/python3.9/site-packages/imagecorruptions/corruptions.py:188: FutureWarning: `multichannel` is a deprecated argument name for `gaussian`. It will be removed in version 1.0. Please use `channel_axis` instead.\n",
      "  x = gaussian(np.array(x) / 255., sigma=c, multichannel=True)\n"
     ]
    },
    {
     "name": "stdout",
     "output_type": "stream",
     "text": [
      "112/191 [================>.............] - ETA: 25s - loss: 0.0960 - mae: 0.0954 - mse: 0.0165 - iou_metric: 0.7079"
     ]
    },
    {
     "name": "stderr",
     "output_type": "stream",
     "text": [
      "/home/choppy/TOC/.conda/envs/msc-thesis-2022/lib/python3.9/site-packages/imagecorruptions/corruptions.py:188: FutureWarning: `multichannel` is a deprecated argument name for `gaussian`. It will be removed in version 1.0. Please use `channel_axis` instead.\n",
      "  x = gaussian(np.array(x) / 255., sigma=c, multichannel=True)\n"
     ]
    },
    {
     "name": "stdout",
     "output_type": "stream",
     "text": [
      "114/191 [================>.............] - ETA: 24s - loss: 0.0958 - mae: 0.0951 - mse: 0.0164 - iou_metric: 0.7084"
     ]
    },
    {
     "name": "stderr",
     "output_type": "stream",
     "text": [
      "/home/choppy/TOC/.conda/envs/msc-thesis-2022/lib/python3.9/site-packages/imgaug/augmenters/imgcorruptlike.py:484: FutureWarning: `multichannel` is a deprecated argument name for `gaussian`. It will be removed in version 1.0. Please use `channel_axis` instead.\n",
      "  gaussian(np.array(x) / 255., sigma=sigma, multichannel=True) * 255)\n",
      "/home/choppy/TOC/.conda/envs/msc-thesis-2022/lib/python3.9/site-packages/imgaug/augmenters/imgcorruptlike.py:516: FutureWarning: `multichannel` is a deprecated argument name for `gaussian`. It will be removed in version 1.0. Please use `channel_axis` instead.\n",
      "  gaussian(x / 255., sigma=sigma, multichannel=True),\n"
     ]
    },
    {
     "name": "stdout",
     "output_type": "stream",
     "text": [
      "115/191 [=================>............] - ETA: 24s - loss: 0.0957 - mae: 0.0950 - mse: 0.0163 - iou_metric: 0.7087"
     ]
    },
    {
     "name": "stderr",
     "output_type": "stream",
     "text": [
      "/home/choppy/TOC/.conda/envs/msc-thesis-2022/lib/python3.9/site-packages/imgaug/augmenters/imgcorruptlike.py:484: FutureWarning: `multichannel` is a deprecated argument name for `gaussian`. It will be removed in version 1.0. Please use `channel_axis` instead.\n",
      "  gaussian(np.array(x) / 255., sigma=sigma, multichannel=True) * 255)\n",
      "/home/choppy/TOC/.conda/envs/msc-thesis-2022/lib/python3.9/site-packages/imgaug/augmenters/imgcorruptlike.py:516: FutureWarning: `multichannel` is a deprecated argument name for `gaussian`. It will be removed in version 1.0. Please use `channel_axis` instead.\n",
      "  gaussian(x / 255., sigma=sigma, multichannel=True),\n",
      "/home/choppy/TOC/.conda/envs/msc-thesis-2022/lib/python3.9/site-packages/imgaug/augmenters/imgcorruptlike.py:484: FutureWarning: `multichannel` is a deprecated argument name for `gaussian`. It will be removed in version 1.0. Please use `channel_axis` instead.\n",
      "  gaussian(np.array(x) / 255., sigma=sigma, multichannel=True) * 255)\n"
     ]
    },
    {
     "name": "stdout",
     "output_type": "stream",
     "text": [
      "116/191 [=================>............] - ETA: 24s - loss: 0.0956 - mae: 0.0949 - mse: 0.0163 - iou_metric: 0.7087"
     ]
    },
    {
     "name": "stderr",
     "output_type": "stream",
     "text": [
      "/home/choppy/TOC/.conda/envs/msc-thesis-2022/lib/python3.9/site-packages/imgaug/augmenters/imgcorruptlike.py:516: FutureWarning: `multichannel` is a deprecated argument name for `gaussian`. It will be removed in version 1.0. Please use `channel_axis` instead.\n",
      "  gaussian(x / 255., sigma=sigma, multichannel=True),\n",
      "/home/choppy/TOC/.conda/envs/msc-thesis-2022/lib/python3.9/site-packages/imgaug/augmenters/imgcorruptlike.py:484: FutureWarning: `multichannel` is a deprecated argument name for `gaussian`. It will be removed in version 1.0. Please use `channel_axis` instead.\n",
      "  gaussian(np.array(x) / 255., sigma=sigma, multichannel=True) * 255)\n"
     ]
    },
    {
     "name": "stdout",
     "output_type": "stream",
     "text": [
      "117/191 [=================>............] - ETA: 23s - loss: 0.0955 - mae: 0.0948 - mse: 0.0162 - iou_metric: 0.7092"
     ]
    },
    {
     "name": "stderr",
     "output_type": "stream",
     "text": [
      "/home/choppy/TOC/.conda/envs/msc-thesis-2022/lib/python3.9/site-packages/imgaug/augmenters/imgcorruptlike.py:516: FutureWarning: `multichannel` is a deprecated argument name for `gaussian`. It will be removed in version 1.0. Please use `channel_axis` instead.\n",
      "  gaussian(x / 255., sigma=sigma, multichannel=True),\n",
      "/home/choppy/TOC/.conda/envs/msc-thesis-2022/lib/python3.9/site-packages/imgaug/augmenters/imgcorruptlike.py:484: FutureWarning: `multichannel` is a deprecated argument name for `gaussian`. It will be removed in version 1.0. Please use `channel_axis` instead.\n",
      "  gaussian(np.array(x) / 255., sigma=sigma, multichannel=True) * 255)\n"
     ]
    },
    {
     "name": "stdout",
     "output_type": "stream",
     "text": [
      "118/191 [=================>............] - ETA: 23s - loss: 0.0954 - mae: 0.0946 - mse: 0.0162 - iou_metric: 0.7097"
     ]
    },
    {
     "name": "stderr",
     "output_type": "stream",
     "text": [
      "/home/choppy/TOC/.conda/envs/msc-thesis-2022/lib/python3.9/site-packages/imgaug/augmenters/imgcorruptlike.py:516: FutureWarning: `multichannel` is a deprecated argument name for `gaussian`. It will be removed in version 1.0. Please use `channel_axis` instead.\n",
      "  gaussian(x / 255., sigma=sigma, multichannel=True),\n"
     ]
    },
    {
     "name": "stdout",
     "output_type": "stream",
     "text": [
      "120/191 [=================>............] - ETA: 22s - loss: 0.0953 - mae: 0.0945 - mse: 0.0162 - iou_metric: 0.7098"
     ]
    },
    {
     "name": "stderr",
     "output_type": "stream",
     "text": [
      "/home/choppy/TOC/.conda/envs/msc-thesis-2022/lib/python3.9/site-packages/imagecorruptions/corruptions.py:188: FutureWarning: `multichannel` is a deprecated argument name for `gaussian`. It will be removed in version 1.0. Please use `channel_axis` instead.\n",
      "  x = gaussian(np.array(x) / 255., sigma=c, multichannel=True)\n",
      "/home/choppy/TOC/.conda/envs/msc-thesis-2022/lib/python3.9/site-packages/imgaug/augmenters/imgcorruptlike.py:484: FutureWarning: `multichannel` is a deprecated argument name for `gaussian`. It will be removed in version 1.0. Please use `channel_axis` instead.\n",
      "  gaussian(np.array(x) / 255., sigma=sigma, multichannel=True) * 255)\n"
     ]
    },
    {
     "name": "stdout",
     "output_type": "stream",
     "text": [
      "121/191 [==================>...........] - ETA: 22s - loss: 0.0952 - mae: 0.0943 - mse: 0.0161 - iou_metric: 0.7104"
     ]
    },
    {
     "name": "stderr",
     "output_type": "stream",
     "text": [
      "/home/choppy/TOC/.conda/envs/msc-thesis-2022/lib/python3.9/site-packages/imgaug/augmenters/imgcorruptlike.py:516: FutureWarning: `multichannel` is a deprecated argument name for `gaussian`. It will be removed in version 1.0. Please use `channel_axis` instead.\n",
      "  gaussian(x / 255., sigma=sigma, multichannel=True),\n",
      "/home/choppy/TOC/.conda/envs/msc-thesis-2022/lib/python3.9/site-packages/imgaug/augmenters/imgcorruptlike.py:484: FutureWarning: `multichannel` is a deprecated argument name for `gaussian`. It will be removed in version 1.0. Please use `channel_axis` instead.\n",
      "  gaussian(np.array(x) / 255., sigma=sigma, multichannel=True) * 255)\n"
     ]
    },
    {
     "name": "stdout",
     "output_type": "stream",
     "text": [
      "122/191 [==================>...........] - ETA: 22s - loss: 0.0951 - mae: 0.0940 - mse: 0.0160 - iou_metric: 0.7113"
     ]
    },
    {
     "name": "stderr",
     "output_type": "stream",
     "text": [
      "/home/choppy/TOC/.conda/envs/msc-thesis-2022/lib/python3.9/site-packages/imgaug/augmenters/imgcorruptlike.py:516: FutureWarning: `multichannel` is a deprecated argument name for `gaussian`. It will be removed in version 1.0. Please use `channel_axis` instead.\n",
      "  gaussian(x / 255., sigma=sigma, multichannel=True),\n",
      "/home/choppy/TOC/.conda/envs/msc-thesis-2022/lib/python3.9/site-packages/imagecorruptions/corruptions.py:188: FutureWarning: `multichannel` is a deprecated argument name for `gaussian`. It will be removed in version 1.0. Please use `channel_axis` instead.\n",
      "  x = gaussian(np.array(x) / 255., sigma=c, multichannel=True)\n",
      "/home/choppy/TOC/.conda/envs/msc-thesis-2022/lib/python3.9/site-packages/imagecorruptions/corruptions.py:188: FutureWarning: `multichannel` is a deprecated argument name for `gaussian`. It will be removed in version 1.0. Please use `channel_axis` instead.\n",
      "  x = gaussian(np.array(x) / 255., sigma=c, multichannel=True)\n",
      "/home/choppy/TOC/.conda/envs/msc-thesis-2022/lib/python3.9/site-packages/imgaug/augmenters/imgcorruptlike.py:484: FutureWarning: `multichannel` is a deprecated argument name for `gaussian`. It will be removed in version 1.0. Please use `channel_axis` instead.\n",
      "  gaussian(np.array(x) / 255., sigma=sigma, multichannel=True) * 255)\n"
     ]
    },
    {
     "name": "stdout",
     "output_type": "stream",
     "text": [
      "124/191 [==================>...........] - ETA: 21s - loss: 0.0950 - mae: 0.0939 - mse: 0.0160 - iou_metric: 0.7118"
     ]
    },
    {
     "name": "stderr",
     "output_type": "stream",
     "text": [
      "/home/choppy/TOC/.conda/envs/msc-thesis-2022/lib/python3.9/site-packages/imgaug/augmenters/imgcorruptlike.py:516: FutureWarning: `multichannel` is a deprecated argument name for `gaussian`. It will be removed in version 1.0. Please use `channel_axis` instead.\n",
      "  gaussian(x / 255., sigma=sigma, multichannel=True),\n",
      "/home/choppy/TOC/.conda/envs/msc-thesis-2022/lib/python3.9/site-packages/imgaug/augmenters/imgcorruptlike.py:484: FutureWarning: `multichannel` is a deprecated argument name for `gaussian`. It will be removed in version 1.0. Please use `channel_axis` instead.\n",
      "  gaussian(np.array(x) / 255., sigma=sigma, multichannel=True) * 255)\n",
      "/home/choppy/TOC/.conda/envs/msc-thesis-2022/lib/python3.9/site-packages/imgaug/augmenters/imgcorruptlike.py:516: FutureWarning: `multichannel` is a deprecated argument name for `gaussian`. It will be removed in version 1.0. Please use `channel_axis` instead.\n",
      "  gaussian(x / 255., sigma=sigma, multichannel=True),\n"
     ]
    },
    {
     "name": "stdout",
     "output_type": "stream",
     "text": [
      "128/191 [===================>..........] - ETA: 20s - loss: 0.0946 - mae: 0.0933 - mse: 0.0158 - iou_metric: 0.7132"
     ]
    },
    {
     "name": "stderr",
     "output_type": "stream",
     "text": [
      "/home/choppy/TOC/.conda/envs/msc-thesis-2022/lib/python3.9/site-packages/imgaug/augmenters/imgcorruptlike.py:484: FutureWarning: `multichannel` is a deprecated argument name for `gaussian`. It will be removed in version 1.0. Please use `channel_axis` instead.\n",
      "  gaussian(np.array(x) / 255., sigma=sigma, multichannel=True) * 255)\n"
     ]
    },
    {
     "name": "stdout",
     "output_type": "stream",
     "text": [
      "129/191 [===================>..........] - ETA: 20s - loss: 0.0945 - mae: 0.0932 - mse: 0.0157 - iou_metric: 0.7137"
     ]
    },
    {
     "name": "stderr",
     "output_type": "stream",
     "text": [
      "/home/choppy/TOC/.conda/envs/msc-thesis-2022/lib/python3.9/site-packages/imgaug/augmenters/imgcorruptlike.py:516: FutureWarning: `multichannel` is a deprecated argument name for `gaussian`. It will be removed in version 1.0. Please use `channel_axis` instead.\n",
      "  gaussian(x / 255., sigma=sigma, multichannel=True),\n",
      "/home/choppy/TOC/.conda/envs/msc-thesis-2022/lib/python3.9/site-packages/imagecorruptions/corruptions.py:188: FutureWarning: `multichannel` is a deprecated argument name for `gaussian`. It will be removed in version 1.0. Please use `channel_axis` instead.\n",
      "  x = gaussian(np.array(x) / 255., sigma=c, multichannel=True)\n"
     ]
    },
    {
     "name": "stdout",
     "output_type": "stream",
     "text": [
      "130/191 [===================>..........] - ETA: 20s - loss: 0.0945 - mae: 0.0932 - mse: 0.0157 - iou_metric: 0.7138"
     ]
    },
    {
     "name": "stderr",
     "output_type": "stream",
     "text": [
      "/home/choppy/TOC/.conda/envs/msc-thesis-2022/lib/python3.9/site-packages/imagecorruptions/corruptions.py:188: FutureWarning: `multichannel` is a deprecated argument name for `gaussian`. It will be removed in version 1.0. Please use `channel_axis` instead.\n",
      "  x = gaussian(np.array(x) / 255., sigma=c, multichannel=True)\n",
      "/home/choppy/TOC/.conda/envs/msc-thesis-2022/lib/python3.9/site-packages/imagecorruptions/corruptions.py:188: FutureWarning: `multichannel` is a deprecated argument name for `gaussian`. It will be removed in version 1.0. Please use `channel_axis` instead.\n",
      "  x = gaussian(np.array(x) / 255., sigma=c, multichannel=True)\n"
     ]
    },
    {
     "name": "stdout",
     "output_type": "stream",
     "text": [
      "133/191 [===================>..........] - ETA: 18s - loss: 0.0943 - mae: 0.0930 - mse: 0.0156 - iou_metric: 0.7140"
     ]
    },
    {
     "name": "stderr",
     "output_type": "stream",
     "text": [
      "/home/choppy/TOC/.conda/envs/msc-thesis-2022/lib/python3.9/site-packages/imgaug/augmenters/imgcorruptlike.py:484: FutureWarning: `multichannel` is a deprecated argument name for `gaussian`. It will be removed in version 1.0. Please use `channel_axis` instead.\n",
      "  gaussian(np.array(x) / 255., sigma=sigma, multichannel=True) * 255)\n",
      "/home/choppy/TOC/.conda/envs/msc-thesis-2022/lib/python3.9/site-packages/imgaug/augmenters/imgcorruptlike.py:516: FutureWarning: `multichannel` is a deprecated argument name for `gaussian`. It will be removed in version 1.0. Please use `channel_axis` instead.\n",
      "  gaussian(x / 255., sigma=sigma, multichannel=True),\n",
      "/home/choppy/TOC/.conda/envs/msc-thesis-2022/lib/python3.9/site-packages/imagecorruptions/corruptions.py:188: FutureWarning: `multichannel` is a deprecated argument name for `gaussian`. It will be removed in version 1.0. Please use `channel_axis` instead.\n",
      "  x = gaussian(np.array(x) / 255., sigma=c, multichannel=True)\n",
      "/home/choppy/TOC/.conda/envs/msc-thesis-2022/lib/python3.9/site-packages/imgaug/augmenters/imgcorruptlike.py:484: FutureWarning: `multichannel` is a deprecated argument name for `gaussian`. It will be removed in version 1.0. Please use `channel_axis` instead.\n",
      "  gaussian(np.array(x) / 255., sigma=sigma, multichannel=True) * 255)\n"
     ]
    },
    {
     "name": "stdout",
     "output_type": "stream",
     "text": [
      "135/191 [====================>.........] - ETA: 18s - loss: 0.0941 - mae: 0.0927 - mse: 0.0155 - iou_metric: 0.7149"
     ]
    },
    {
     "name": "stderr",
     "output_type": "stream",
     "text": [
      "/home/choppy/TOC/.conda/envs/msc-thesis-2022/lib/python3.9/site-packages/imgaug/augmenters/imgcorruptlike.py:516: FutureWarning: `multichannel` is a deprecated argument name for `gaussian`. It will be removed in version 1.0. Please use `channel_axis` instead.\n",
      "  gaussian(x / 255., sigma=sigma, multichannel=True),\n",
      "/home/choppy/TOC/.conda/envs/msc-thesis-2022/lib/python3.9/site-packages/imagecorruptions/corruptions.py:188: FutureWarning: `multichannel` is a deprecated argument name for `gaussian`. It will be removed in version 1.0. Please use `channel_axis` instead.\n",
      "  x = gaussian(np.array(x) / 255., sigma=c, multichannel=True)\n",
      "/home/choppy/TOC/.conda/envs/msc-thesis-2022/lib/python3.9/site-packages/imagecorruptions/corruptions.py:188: FutureWarning: `multichannel` is a deprecated argument name for `gaussian`. It will be removed in version 1.0. Please use `channel_axis` instead.\n",
      "  x = gaussian(np.array(x) / 255., sigma=c, multichannel=True)\n",
      "/home/choppy/TOC/.conda/envs/msc-thesis-2022/lib/python3.9/site-packages/imgaug/augmenters/imgcorruptlike.py:484: FutureWarning: `multichannel` is a deprecated argument name for `gaussian`. It will be removed in version 1.0. Please use `channel_axis` instead.\n",
      "  gaussian(np.array(x) / 255., sigma=sigma, multichannel=True) * 255)\n"
     ]
    },
    {
     "name": "stdout",
     "output_type": "stream",
     "text": [
      "136/191 [====================>.........] - ETA: 17s - loss: 0.0941 - mae: 0.0929 - mse: 0.0156 - iou_metric: 0.7146"
     ]
    },
    {
     "name": "stderr",
     "output_type": "stream",
     "text": [
      "/home/choppy/TOC/.conda/envs/msc-thesis-2022/lib/python3.9/site-packages/imgaug/augmenters/imgcorruptlike.py:516: FutureWarning: `multichannel` is a deprecated argument name for `gaussian`. It will be removed in version 1.0. Please use `channel_axis` instead.\n",
      "  gaussian(x / 255., sigma=sigma, multichannel=True),\n",
      "/home/choppy/TOC/.conda/envs/msc-thesis-2022/lib/python3.9/site-packages/imagecorruptions/corruptions.py:188: FutureWarning: `multichannel` is a deprecated argument name for `gaussian`. It will be removed in version 1.0. Please use `channel_axis` instead.\n",
      "  x = gaussian(np.array(x) / 255., sigma=c, multichannel=True)\n"
     ]
    },
    {
     "name": "stdout",
     "output_type": "stream",
     "text": [
      "137/191 [====================>.........] - ETA: 17s - loss: 0.0941 - mae: 0.0929 - mse: 0.0156 - iou_metric: 0.7146"
     ]
    },
    {
     "name": "stderr",
     "output_type": "stream",
     "text": [
      "/home/choppy/TOC/.conda/envs/msc-thesis-2022/lib/python3.9/site-packages/imgaug/augmenters/imgcorruptlike.py:484: FutureWarning: `multichannel` is a deprecated argument name for `gaussian`. It will be removed in version 1.0. Please use `channel_axis` instead.\n",
      "  gaussian(np.array(x) / 255., sigma=sigma, multichannel=True) * 255)\n",
      "/home/choppy/TOC/.conda/envs/msc-thesis-2022/lib/python3.9/site-packages/imgaug/augmenters/imgcorruptlike.py:516: FutureWarning: `multichannel` is a deprecated argument name for `gaussian`. It will be removed in version 1.0. Please use `channel_axis` instead.\n",
      "  gaussian(x / 255., sigma=sigma, multichannel=True),\n",
      "/home/choppy/TOC/.conda/envs/msc-thesis-2022/lib/python3.9/site-packages/imagecorruptions/corruptions.py:188: FutureWarning: `multichannel` is a deprecated argument name for `gaussian`. It will be removed in version 1.0. Please use `channel_axis` instead.\n",
      "  x = gaussian(np.array(x) / 255., sigma=c, multichannel=True)\n",
      "/home/choppy/TOC/.conda/envs/msc-thesis-2022/lib/python3.9/site-packages/imgaug/augmenters/imgcorruptlike.py:484: FutureWarning: `multichannel` is a deprecated argument name for `gaussian`. It will be removed in version 1.0. Please use `channel_axis` instead.\n",
      "  gaussian(np.array(x) / 255., sigma=sigma, multichannel=True) * 255)\n"
     ]
    },
    {
     "name": "stdout",
     "output_type": "stream",
     "text": [
      "138/191 [====================>.........] - ETA: 17s - loss: 0.0941 - mae: 0.0929 - mse: 0.0156 - iou_metric: 0.7146"
     ]
    },
    {
     "name": "stderr",
     "output_type": "stream",
     "text": [
      "/home/choppy/TOC/.conda/envs/msc-thesis-2022/lib/python3.9/site-packages/imgaug/augmenters/imgcorruptlike.py:516: FutureWarning: `multichannel` is a deprecated argument name for `gaussian`. It will be removed in version 1.0. Please use `channel_axis` instead.\n",
      "  gaussian(x / 255., sigma=sigma, multichannel=True),\n",
      "/home/choppy/TOC/.conda/envs/msc-thesis-2022/lib/python3.9/site-packages/imgaug/augmenters/imgcorruptlike.py:484: FutureWarning: `multichannel` is a deprecated argument name for `gaussian`. It will be removed in version 1.0. Please use `channel_axis` instead.\n",
      "  gaussian(np.array(x) / 255., sigma=sigma, multichannel=True) * 255)\n"
     ]
    },
    {
     "name": "stdout",
     "output_type": "stream",
     "text": [
      "140/191 [====================>.........] - ETA: 16s - loss: 0.0939 - mae: 0.0928 - mse: 0.0156 - iou_metric: 0.7148"
     ]
    },
    {
     "name": "stderr",
     "output_type": "stream",
     "text": [
      "/home/choppy/TOC/.conda/envs/msc-thesis-2022/lib/python3.9/site-packages/imgaug/augmenters/imgcorruptlike.py:516: FutureWarning: `multichannel` is a deprecated argument name for `gaussian`. It will be removed in version 1.0. Please use `channel_axis` instead.\n",
      "  gaussian(x / 255., sigma=sigma, multichannel=True),\n",
      "/home/choppy/TOC/.conda/envs/msc-thesis-2022/lib/python3.9/site-packages/imagecorruptions/corruptions.py:188: FutureWarning: `multichannel` is a deprecated argument name for `gaussian`. It will be removed in version 1.0. Please use `channel_axis` instead.\n",
      "  x = gaussian(np.array(x) / 255., sigma=c, multichannel=True)\n"
     ]
    },
    {
     "name": "stdout",
     "output_type": "stream",
     "text": [
      "141/191 [=====================>........] - ETA: 16s - loss: 0.0939 - mae: 0.0928 - mse: 0.0156 - iou_metric: 0.7148"
     ]
    },
    {
     "name": "stderr",
     "output_type": "stream",
     "text": [
      "/home/choppy/TOC/.conda/envs/msc-thesis-2022/lib/python3.9/site-packages/imagecorruptions/corruptions.py:188: FutureWarning: `multichannel` is a deprecated argument name for `gaussian`. It will be removed in version 1.0. Please use `channel_axis` instead.\n",
      "  x = gaussian(np.array(x) / 255., sigma=c, multichannel=True)\n",
      "/home/choppy/TOC/.conda/envs/msc-thesis-2022/lib/python3.9/site-packages/imagecorruptions/corruptions.py:188: FutureWarning: `multichannel` is a deprecated argument name for `gaussian`. It will be removed in version 1.0. Please use `channel_axis` instead.\n",
      "  x = gaussian(np.array(x) / 255., sigma=c, multichannel=True)\n",
      "/home/choppy/TOC/.conda/envs/msc-thesis-2022/lib/python3.9/site-packages/imagecorruptions/corruptions.py:188: FutureWarning: `multichannel` is a deprecated argument name for `gaussian`. It will be removed in version 1.0. Please use `channel_axis` instead.\n",
      "  x = gaussian(np.array(x) / 255., sigma=c, multichannel=True)\n"
     ]
    },
    {
     "name": "stdout",
     "output_type": "stream",
     "text": [
      "144/191 [=====================>........] - ETA: 15s - loss: 0.0937 - mae: 0.0924 - mse: 0.0155 - iou_metric: 0.7157"
     ]
    },
    {
     "name": "stderr",
     "output_type": "stream",
     "text": [
      "/home/choppy/TOC/.conda/envs/msc-thesis-2022/lib/python3.9/site-packages/imagecorruptions/corruptions.py:188: FutureWarning: `multichannel` is a deprecated argument name for `gaussian`. It will be removed in version 1.0. Please use `channel_axis` instead.\n",
      "  x = gaussian(np.array(x) / 255., sigma=c, multichannel=True)\n",
      "/home/choppy/TOC/.conda/envs/msc-thesis-2022/lib/python3.9/site-packages/imgaug/augmenters/imgcorruptlike.py:484: FutureWarning: `multichannel` is a deprecated argument name for `gaussian`. It will be removed in version 1.0. Please use `channel_axis` instead.\n",
      "  gaussian(np.array(x) / 255., sigma=sigma, multichannel=True) * 255)\n"
     ]
    },
    {
     "name": "stdout",
     "output_type": "stream",
     "text": [
      "145/191 [=====================>........] - ETA: 15s - loss: 0.0936 - mae: 0.0923 - mse: 0.0154 - iou_metric: 0.7160"
     ]
    },
    {
     "name": "stderr",
     "output_type": "stream",
     "text": [
      "/home/choppy/TOC/.conda/envs/msc-thesis-2022/lib/python3.9/site-packages/imgaug/augmenters/imgcorruptlike.py:516: FutureWarning: `multichannel` is a deprecated argument name for `gaussian`. It will be removed in version 1.0. Please use `channel_axis` instead.\n",
      "  gaussian(x / 255., sigma=sigma, multichannel=True),\n",
      "/home/choppy/TOC/.conda/envs/msc-thesis-2022/lib/python3.9/site-packages/imgaug/augmenters/imgcorruptlike.py:484: FutureWarning: `multichannel` is a deprecated argument name for `gaussian`. It will be removed in version 1.0. Please use `channel_axis` instead.\n",
      "  gaussian(np.array(x) / 255., sigma=sigma, multichannel=True) * 255)\n",
      "/home/choppy/TOC/.conda/envs/msc-thesis-2022/lib/python3.9/site-packages/imgaug/augmenters/imgcorruptlike.py:516: FutureWarning: `multichannel` is a deprecated argument name for `gaussian`. It will be removed in version 1.0. Please use `channel_axis` instead.\n",
      "  gaussian(x / 255., sigma=sigma, multichannel=True),\n",
      "/home/choppy/TOC/.conda/envs/msc-thesis-2022/lib/python3.9/site-packages/imgaug/augmenters/imgcorruptlike.py:484: FutureWarning: `multichannel` is a deprecated argument name for `gaussian`. It will be removed in version 1.0. Please use `channel_axis` instead.\n",
      "  gaussian(np.array(x) / 255., sigma=sigma, multichannel=True) * 255)\n"
     ]
    },
    {
     "name": "stdout",
     "output_type": "stream",
     "text": [
      "146/191 [=====================>........] - ETA: 15s - loss: 0.0935 - mae: 0.0922 - mse: 0.0154 - iou_metric: 0.7163"
     ]
    },
    {
     "name": "stderr",
     "output_type": "stream",
     "text": [
      "/home/choppy/TOC/.conda/envs/msc-thesis-2022/lib/python3.9/site-packages/imgaug/augmenters/imgcorruptlike.py:516: FutureWarning: `multichannel` is a deprecated argument name for `gaussian`. It will be removed in version 1.0. Please use `channel_axis` instead.\n",
      "  gaussian(x / 255., sigma=sigma, multichannel=True),\n",
      "/home/choppy/TOC/.conda/envs/msc-thesis-2022/lib/python3.9/site-packages/imagecorruptions/corruptions.py:188: FutureWarning: `multichannel` is a deprecated argument name for `gaussian`. It will be removed in version 1.0. Please use `channel_axis` instead.\n",
      "  x = gaussian(np.array(x) / 255., sigma=c, multichannel=True)\n",
      "/home/choppy/TOC/.conda/envs/msc-thesis-2022/lib/python3.9/site-packages/imgaug/augmenters/imgcorruptlike.py:484: FutureWarning: `multichannel` is a deprecated argument name for `gaussian`. It will be removed in version 1.0. Please use `channel_axis` instead.\n",
      "  gaussian(np.array(x) / 255., sigma=sigma, multichannel=True) * 255)\n"
     ]
    },
    {
     "name": "stdout",
     "output_type": "stream",
     "text": [
      "147/191 [======================>.......] - ETA: 14s - loss: 0.0935 - mae: 0.0924 - mse: 0.0154 - iou_metric: 0.7159"
     ]
    },
    {
     "name": "stderr",
     "output_type": "stream",
     "text": [
      "/home/choppy/TOC/.conda/envs/msc-thesis-2022/lib/python3.9/site-packages/imgaug/augmenters/imgcorruptlike.py:516: FutureWarning: `multichannel` is a deprecated argument name for `gaussian`. It will be removed in version 1.0. Please use `channel_axis` instead.\n",
      "  gaussian(x / 255., sigma=sigma, multichannel=True),\n",
      "/home/choppy/TOC/.conda/envs/msc-thesis-2022/lib/python3.9/site-packages/imgaug/augmenters/imgcorruptlike.py:484: FutureWarning: `multichannel` is a deprecated argument name for `gaussian`. It will be removed in version 1.0. Please use `channel_axis` instead.\n",
      "  gaussian(np.array(x) / 255., sigma=sigma, multichannel=True) * 255)\n"
     ]
    },
    {
     "name": "stdout",
     "output_type": "stream",
     "text": [
      "149/191 [======================>.......] - ETA: 14s - loss: 0.0934 - mae: 0.0922 - mse: 0.0154 - iou_metric: 0.7168"
     ]
    },
    {
     "name": "stderr",
     "output_type": "stream",
     "text": [
      "/home/choppy/TOC/.conda/envs/msc-thesis-2022/lib/python3.9/site-packages/imgaug/augmenters/imgcorruptlike.py:516: FutureWarning: `multichannel` is a deprecated argument name for `gaussian`. It will be removed in version 1.0. Please use `channel_axis` instead.\n",
      "  gaussian(x / 255., sigma=sigma, multichannel=True),\n",
      "/home/choppy/TOC/.conda/envs/msc-thesis-2022/lib/python3.9/site-packages/imgaug/augmenters/imgcorruptlike.py:484: FutureWarning: `multichannel` is a deprecated argument name for `gaussian`. It will be removed in version 1.0. Please use `channel_axis` instead.\n",
      "  gaussian(np.array(x) / 255., sigma=sigma, multichannel=True) * 255)\n"
     ]
    },
    {
     "name": "stdout",
     "output_type": "stream",
     "text": [
      "150/191 [======================>.......] - ETA: 13s - loss: 0.0933 - mae: 0.0922 - mse: 0.0154 - iou_metric: 0.7165"
     ]
    },
    {
     "name": "stderr",
     "output_type": "stream",
     "text": [
      "/home/choppy/TOC/.conda/envs/msc-thesis-2022/lib/python3.9/site-packages/imgaug/augmenters/imgcorruptlike.py:516: FutureWarning: `multichannel` is a deprecated argument name for `gaussian`. It will be removed in version 1.0. Please use `channel_axis` instead.\n",
      "  gaussian(x / 255., sigma=sigma, multichannel=True),\n",
      "/home/choppy/TOC/.conda/envs/msc-thesis-2022/lib/python3.9/site-packages/imagecorruptions/corruptions.py:188: FutureWarning: `multichannel` is a deprecated argument name for `gaussian`. It will be removed in version 1.0. Please use `channel_axis` instead.\n",
      "  x = gaussian(np.array(x) / 255., sigma=c, multichannel=True)\n"
     ]
    },
    {
     "name": "stdout",
     "output_type": "stream",
     "text": [
      "151/191 [======================>.......] - ETA: 13s - loss: 0.0932 - mae: 0.0922 - mse: 0.0153 - iou_metric: 0.7165"
     ]
    },
    {
     "name": "stderr",
     "output_type": "stream",
     "text": [
      "/home/choppy/TOC/.conda/envs/msc-thesis-2022/lib/python3.9/site-packages/imgaug/augmenters/imgcorruptlike.py:484: FutureWarning: `multichannel` is a deprecated argument name for `gaussian`. It will be removed in version 1.0. Please use `channel_axis` instead.\n",
      "  gaussian(np.array(x) / 255., sigma=sigma, multichannel=True) * 255)\n"
     ]
    },
    {
     "name": "stdout",
     "output_type": "stream",
     "text": [
      "152/191 [======================>.......] - ETA: 13s - loss: 0.0932 - mae: 0.0923 - mse: 0.0153 - iou_metric: 0.7165"
     ]
    },
    {
     "name": "stderr",
     "output_type": "stream",
     "text": [
      "/home/choppy/TOC/.conda/envs/msc-thesis-2022/lib/python3.9/site-packages/imgaug/augmenters/imgcorruptlike.py:516: FutureWarning: `multichannel` is a deprecated argument name for `gaussian`. It will be removed in version 1.0. Please use `channel_axis` instead.\n",
      "  gaussian(x / 255., sigma=sigma, multichannel=True),\n"
     ]
    },
    {
     "name": "stdout",
     "output_type": "stream",
     "text": [
      "154/191 [=======================>......] - ETA: 12s - loss: 0.0931 - mae: 0.0922 - mse: 0.0153 - iou_metric: 0.7165"
     ]
    },
    {
     "name": "stderr",
     "output_type": "stream",
     "text": [
      "/home/choppy/TOC/.conda/envs/msc-thesis-2022/lib/python3.9/site-packages/imagecorruptions/corruptions.py:188: FutureWarning: `multichannel` is a deprecated argument name for `gaussian`. It will be removed in version 1.0. Please use `channel_axis` instead.\n",
      "  x = gaussian(np.array(x) / 255., sigma=c, multichannel=True)\n",
      "/home/choppy/TOC/.conda/envs/msc-thesis-2022/lib/python3.9/site-packages/imagecorruptions/corruptions.py:188: FutureWarning: `multichannel` is a deprecated argument name for `gaussian`. It will be removed in version 1.0. Please use `channel_axis` instead.\n",
      "  x = gaussian(np.array(x) / 255., sigma=c, multichannel=True)\n"
     ]
    },
    {
     "name": "stdout",
     "output_type": "stream",
     "text": [
      "156/191 [=======================>......] - ETA: 11s - loss: 0.0929 - mae: 0.0921 - mse: 0.0152 - iou_metric: 0.7169"
     ]
    },
    {
     "name": "stderr",
     "output_type": "stream",
     "text": [
      "/home/choppy/TOC/.conda/envs/msc-thesis-2022/lib/python3.9/site-packages/imgaug/augmenters/imgcorruptlike.py:484: FutureWarning: `multichannel` is a deprecated argument name for `gaussian`. It will be removed in version 1.0. Please use `channel_axis` instead.\n",
      "  gaussian(np.array(x) / 255., sigma=sigma, multichannel=True) * 255)\n"
     ]
    },
    {
     "name": "stdout",
     "output_type": "stream",
     "text": [
      "157/191 [=======================>......] - ETA: 11s - loss: 0.0929 - mae: 0.0920 - mse: 0.0152 - iou_metric: 0.7170"
     ]
    },
    {
     "name": "stderr",
     "output_type": "stream",
     "text": [
      "/home/choppy/TOC/.conda/envs/msc-thesis-2022/lib/python3.9/site-packages/imgaug/augmenters/imgcorruptlike.py:516: FutureWarning: `multichannel` is a deprecated argument name for `gaussian`. It will be removed in version 1.0. Please use `channel_axis` instead.\n",
      "  gaussian(x / 255., sigma=sigma, multichannel=True),\n",
      "/home/choppy/TOC/.conda/envs/msc-thesis-2022/lib/python3.9/site-packages/imgaug/augmenters/imgcorruptlike.py:484: FutureWarning: `multichannel` is a deprecated argument name for `gaussian`. It will be removed in version 1.0. Please use `channel_axis` instead.\n",
      "  gaussian(np.array(x) / 255., sigma=sigma, multichannel=True) * 255)\n"
     ]
    },
    {
     "name": "stdout",
     "output_type": "stream",
     "text": [
      "158/191 [=======================>......] - ETA: 10s - loss: 0.0928 - mae: 0.0919 - mse: 0.0151 - iou_metric: 0.7174"
     ]
    },
    {
     "name": "stderr",
     "output_type": "stream",
     "text": [
      "/home/choppy/TOC/.conda/envs/msc-thesis-2022/lib/python3.9/site-packages/imgaug/augmenters/imgcorruptlike.py:516: FutureWarning: `multichannel` is a deprecated argument name for `gaussian`. It will be removed in version 1.0. Please use `channel_axis` instead.\n",
      "  gaussian(x / 255., sigma=sigma, multichannel=True),\n",
      "/home/choppy/TOC/.conda/envs/msc-thesis-2022/lib/python3.9/site-packages/imagecorruptions/corruptions.py:188: FutureWarning: `multichannel` is a deprecated argument name for `gaussian`. It will be removed in version 1.0. Please use `channel_axis` instead.\n",
      "  x = gaussian(np.array(x) / 255., sigma=c, multichannel=True)\n"
     ]
    },
    {
     "name": "stdout",
     "output_type": "stream",
     "text": [
      "162/191 [========================>.....] - ETA: 9s - loss: 0.0924 - mae: 0.0914 - mse: 0.0150 - iou_metric: 0.7187"
     ]
    },
    {
     "name": "stderr",
     "output_type": "stream",
     "text": [
      "/home/choppy/TOC/.conda/envs/msc-thesis-2022/lib/python3.9/site-packages/imgaug/augmenters/imgcorruptlike.py:484: FutureWarning: `multichannel` is a deprecated argument name for `gaussian`. It will be removed in version 1.0. Please use `channel_axis` instead.\n",
      "  gaussian(np.array(x) / 255., sigma=sigma, multichannel=True) * 255)\n"
     ]
    },
    {
     "name": "stdout",
     "output_type": "stream",
     "text": [
      "163/191 [========================>.....] - ETA: 9s - loss: 0.0924 - mae: 0.0913 - mse: 0.0149 - iou_metric: 0.7189"
     ]
    },
    {
     "name": "stderr",
     "output_type": "stream",
     "text": [
      "/home/choppy/TOC/.conda/envs/msc-thesis-2022/lib/python3.9/site-packages/imgaug/augmenters/imgcorruptlike.py:516: FutureWarning: `multichannel` is a deprecated argument name for `gaussian`. It will be removed in version 1.0. Please use `channel_axis` instead.\n",
      "  gaussian(x / 255., sigma=sigma, multichannel=True),\n"
     ]
    },
    {
     "name": "stdout",
     "output_type": "stream",
     "text": [
      "191/191 [==============================] - 84s 352ms/step - loss: 0.0910 - mae: 0.0908 - mse: 0.0147 - iou_metric: 0.7198 - val_loss: 0.0775 - val_mae: 0.0696 - val_mse: 0.0088 - val_iou_metric: 0.7779 - lr: 1.0000e-04\n",
      "Epoch 2/150\n",
      "191/191 [==============================] - 30s 156ms/step - loss: 0.0724 - mae: 0.0774 - mse: 0.0105 - iou_metric: 0.7553 - val_loss: 0.0637 - val_mae: 0.0669 - val_mse: 0.0083 - val_iou_metric: 0.7860 - lr: 1.0000e-04\n",
      "Epoch 3/150\n",
      "191/191 [==============================] - 30s 157ms/step - loss: 0.0594 - mae: 0.0728 - mse: 0.0095 - iou_metric: 0.7683 - val_loss: 0.0525 - val_mae: 0.0640 - val_mse: 0.0078 - val_iou_metric: 0.7954 - lr: 1.0000e-04\n",
      "Epoch 4/150\n",
      "191/191 [==============================] - 30s 158ms/step - loss: 0.0491 - mae: 0.0705 - mse: 0.0089 - iou_metric: 0.7744 - val_loss: 0.0441 - val_mae: 0.0667 - val_mse: 0.0082 - val_iou_metric: 0.7872 - lr: 1.0000e-04\n",
      "Epoch 5/150\n",
      "191/191 [==============================] - 30s 159ms/step - loss: 0.0407 - mae: 0.0683 - mse: 0.0084 - iou_metric: 0.7803 - val_loss: 0.0371 - val_mae: 0.0656 - val_mse: 0.0081 - val_iou_metric: 0.7903 - lr: 1.0000e-04\n",
      "Epoch 6/150\n",
      "191/191 [==============================] - 31s 162ms/step - loss: 0.0343 - mae: 0.0672 - mse: 0.0081 - iou_metric: 0.7835 - val_loss: 0.0314 - val_mae: 0.0646 - val_mse: 0.0079 - val_iou_metric: 0.7931 - lr: 1.0000e-04\n",
      "Epoch 7/150\n",
      "191/191 [==============================] - 31s 161ms/step - loss: 0.0293 - mae: 0.0662 - mse: 0.0080 - iou_metric: 0.7868 - val_loss: 0.0268 - val_mae: 0.0630 - val_mse: 0.0077 - val_iou_metric: 0.7980 - lr: 1.0000e-04\n",
      "Epoch 8/150\n",
      "191/191 [==============================] - 31s 162ms/step - loss: 0.0252 - mae: 0.0653 - mse: 0.0078 - iou_metric: 0.7890 - val_loss: 0.0229 - val_mae: 0.0616 - val_mse: 0.0072 - val_iou_metric: 0.8010 - lr: 1.0000e-04\n",
      "Epoch 9/150\n",
      "191/191 [==============================] - 31s 164ms/step - loss: 0.0216 - mae: 0.0634 - mse: 0.0074 - iou_metric: 0.7946 - val_loss: 0.0207 - val_mae: 0.0641 - val_mse: 0.0078 - val_iou_metric: 0.7939 - lr: 1.0000e-04\n",
      "Epoch 10/150\n",
      "191/191 [==============================] - 31s 163ms/step - loss: 0.0190 - mae: 0.0628 - mse: 0.0073 - iou_metric: 0.7967 - val_loss: 0.0172 - val_mae: 0.0585 - val_mse: 0.0065 - val_iou_metric: 0.8099 - lr: 1.0000e-04\n",
      "Epoch 11/150\n",
      "191/191 [==============================] - 30s 160ms/step - loss: 0.0170 - mae: 0.0627 - mse: 0.0073 - iou_metric: 0.7967 - val_loss: 0.0153 - val_mae: 0.0579 - val_mse: 0.0064 - val_iou_metric: 0.8112 - lr: 1.0000e-04\n",
      "Epoch 12/150\n",
      "191/191 [==============================] - 31s 162ms/step - loss: 0.0151 - mae: 0.0615 - mse: 0.0070 - iou_metric: 0.8002 - val_loss: 0.0141 - val_mae: 0.0591 - val_mse: 0.0067 - val_iou_metric: 0.8079 - lr: 1.0000e-04\n",
      "Epoch 13/150\n",
      "191/191 [==============================] - 31s 162ms/step - loss: 0.0138 - mae: 0.0616 - mse: 0.0070 - iou_metric: 0.8001 - val_loss: 0.0125 - val_mae: 0.0575 - val_mse: 0.0062 - val_iou_metric: 0.8121 - lr: 1.0000e-04\n",
      "Epoch 14/150\n",
      "191/191 [==============================] - 31s 162ms/step - loss: 0.0126 - mae: 0.0605 - mse: 0.0068 - iou_metric: 0.8034 - val_loss: 0.0123 - val_mae: 0.0600 - val_mse: 0.0070 - val_iou_metric: 0.8054 - lr: 1.0000e-04\n",
      "Epoch 15/150\n",
      "191/191 [==============================] - 31s 162ms/step - loss: 0.0117 - mae: 0.0603 - mse: 0.0068 - iou_metric: 0.8037 - val_loss: 0.0125 - val_mae: 0.0637 - val_mse: 0.0080 - val_iou_metric: 0.7955 - lr: 1.0000e-04\n",
      "Epoch 16/150\n",
      "191/191 [==============================] - 31s 161ms/step - loss: 0.0111 - mae: 0.0604 - mse: 0.0069 - iou_metric: 0.8036 - val_loss: 0.0109 - val_mae: 0.0604 - val_mse: 0.0071 - val_iou_metric: 0.8058 - lr: 1.0000e-04\n",
      "Epoch 17/150\n",
      "191/191 [==============================] - 31s 164ms/step - loss: 0.0104 - mae: 0.0599 - mse: 0.0068 - iou_metric: 0.8051 - val_loss: 0.0102 - val_mae: 0.0589 - val_mse: 0.0069 - val_iou_metric: 0.8084 - lr: 1.0000e-04\n",
      "Epoch 18/150\n",
      "191/191 [==============================] - 31s 163ms/step - loss: 0.0097 - mae: 0.0594 - mse: 0.0066 - iou_metric: 0.8065 - val_loss: 0.0099 - val_mae: 0.0600 - val_mse: 0.0070 - val_iou_metric: 0.8075 - lr: 1.0000e-04\n",
      "Epoch 19/150\n",
      "191/191 [==============================] - 31s 163ms/step - loss: 0.0093 - mae: 0.0594 - mse: 0.0066 - iou_metric: 0.8060 - val_loss: 0.0087 - val_mae: 0.0565 - val_mse: 0.0061 - val_iou_metric: 0.8155 - lr: 1.0000e-04\n",
      "Epoch 20/150\n",
      "191/191 [==============================] - 31s 164ms/step - loss: 0.0089 - mae: 0.0586 - mse: 0.0065 - iou_metric: 0.8086 - val_loss: 0.0084 - val_mae: 0.0563 - val_mse: 0.0061 - val_iou_metric: 0.8156 - lr: 1.0000e-04\n",
      "Epoch 21/150\n",
      "191/191 [==============================] - 31s 162ms/step - loss: 0.0085 - mae: 0.0581 - mse: 0.0063 - iou_metric: 0.8097 - val_loss: 0.0084 - val_mae: 0.0576 - val_mse: 0.0064 - val_iou_metric: 0.8127 - lr: 1.0000e-04\n",
      "Epoch 22/150\n",
      "191/191 [==============================] - 31s 162ms/step - loss: 0.0084 - mae: 0.0583 - mse: 0.0064 - iou_metric: 0.8096 - val_loss: 0.0095 - val_mae: 0.0622 - val_mse: 0.0077 - val_iou_metric: 0.8031 - lr: 1.0000e-04\n",
      "Epoch 23/150\n",
      "191/191 [==============================] - 31s 164ms/step - loss: 0.0085 - mae: 0.0596 - mse: 0.0067 - iou_metric: 0.8061 - val_loss: 0.0087 - val_mae: 0.0596 - val_mse: 0.0070 - val_iou_metric: 0.8083 - lr: 1.0000e-04\n",
      "Epoch 24/150\n",
      "191/191 [==============================] - 31s 164ms/step - loss: 0.0081 - mae: 0.0585 - mse: 0.0065 - iou_metric: 0.8089 - val_loss: 0.0078 - val_mae: 0.0572 - val_mse: 0.0063 - val_iou_metric: 0.8139 - lr: 1.0000e-04\n",
      "Epoch 25/150\n",
      "191/191 [==============================] - 31s 163ms/step - loss: 0.0078 - mae: 0.0579 - mse: 0.0063 - iou_metric: 0.8107 - val_loss: 0.0082 - val_mae: 0.0587 - val_mse: 0.0068 - val_iou_metric: 0.8105 - lr: 1.0000e-04\n",
      "Epoch 26/150\n",
      "191/191 [==============================] - 31s 162ms/step - loss: 0.0078 - mae: 0.0582 - mse: 0.0064 - iou_metric: 0.8099 - val_loss: 0.0076 - val_mae: 0.0568 - val_mse: 0.0063 - val_iou_metric: 0.8148 - lr: 1.0000e-04\n",
      "Epoch 27/150\n",
      "191/191 [==============================] - 31s 165ms/step - loss: 0.0076 - mae: 0.0578 - mse: 0.0063 - iou_metric: 0.8109 - val_loss: 0.0073 - val_mae: 0.0564 - val_mse: 0.0061 - val_iou_metric: 0.8158 - lr: 1.0000e-04\n",
      "Epoch 28/150\n",
      "191/191 [==============================] - 31s 161ms/step - loss: 0.0076 - mae: 0.0578 - mse: 0.0063 - iou_metric: 0.8112 - val_loss: 0.0086 - val_mae: 0.0618 - val_mse: 0.0074 - val_iou_metric: 0.8027 - lr: 1.0000e-04\n",
      "Epoch 29/150\n",
      "191/191 [==============================] - 31s 163ms/step - loss: 0.0074 - mae: 0.0574 - mse: 0.0062 - iou_metric: 0.8118 - val_loss: 0.0081 - val_mae: 0.0597 - val_mse: 0.0070 - val_iou_metric: 0.8083 - lr: 1.0000e-04\n",
      "Epoch 30/150\n",
      "191/191 [==============================] - 31s 163ms/step - loss: 0.0074 - mae: 0.0575 - mse: 0.0063 - iou_metric: 0.8118 - val_loss: 0.0078 - val_mae: 0.0596 - val_mse: 0.0067 - val_iou_metric: 0.8076 - lr: 1.0000e-04\n",
      "Epoch 31/150\n",
      "191/191 [==============================] - 31s 163ms/step - loss: 0.0071 - mae: 0.0569 - mse: 0.0061 - iou_metric: 0.8132 - val_loss: 0.0078 - val_mae: 0.0600 - val_mse: 0.0067 - val_iou_metric: 0.8068 - lr: 1.0000e-04\n",
      "Epoch 32/150\n",
      "191/191 [==============================] - 31s 164ms/step - loss: 0.0073 - mae: 0.0580 - mse: 0.0063 - iou_metric: 0.8101 - val_loss: 0.0069 - val_mae: 0.0559 - val_mse: 0.0059 - val_iou_metric: 0.8173 - lr: 1.0000e-04\n",
      "Epoch 33/150\n",
      "191/191 [==============================] - 31s 162ms/step - loss: 0.0071 - mae: 0.0570 - mse: 0.0061 - iou_metric: 0.8131 - val_loss: 0.0073 - val_mae: 0.0581 - val_mse: 0.0064 - val_iou_metric: 0.8113 - lr: 1.0000e-04\n",
      "Epoch 34/150\n",
      "191/191 [==============================] - 31s 163ms/step - loss: 0.0071 - mae: 0.0570 - mse: 0.0062 - iou_metric: 0.8131 - val_loss: 0.0068 - val_mae: 0.0554 - val_mse: 0.0059 - val_iou_metric: 0.8183 - lr: 1.0000e-04\n",
      "Epoch 35/150\n",
      "191/191 [==============================] - 31s 164ms/step - loss: 0.0069 - mae: 0.0567 - mse: 0.0060 - iou_metric: 0.8135 - val_loss: 0.0065 - val_mae: 0.0543 - val_mse: 0.0056 - val_iou_metric: 0.8213 - lr: 1.0000e-04\n",
      "Epoch 36/150\n",
      "191/191 [==============================] - 31s 162ms/step - loss: 0.0069 - mae: 0.0569 - mse: 0.0060 - iou_metric: 0.8133 - val_loss: 0.0068 - val_mae: 0.0558 - val_mse: 0.0060 - val_iou_metric: 0.8172 - lr: 1.0000e-04\n",
      "Epoch 37/150\n",
      "191/191 [==============================] - 32s 165ms/step - loss: 0.0070 - mae: 0.0568 - mse: 0.0061 - iou_metric: 0.8136 - val_loss: 0.0072 - val_mae: 0.0576 - val_mse: 0.0064 - val_iou_metric: 0.8133 - lr: 1.0000e-04\n",
      "Epoch 38/150\n",
      "191/191 [==============================] - 31s 165ms/step - loss: 0.0067 - mae: 0.0557 - mse: 0.0058 - iou_metric: 0.8163 - val_loss: 0.0069 - val_mae: 0.0561 - val_mse: 0.0061 - val_iou_metric: 0.8165 - lr: 1.0000e-04\n",
      "Epoch 39/150\n",
      "191/191 [==============================] - 31s 164ms/step - loss: 0.0068 - mae: 0.0564 - mse: 0.0059 - iou_metric: 0.8145 - val_loss: 0.0081 - val_mae: 0.0614 - val_mse: 0.0072 - val_iou_metric: 0.8039 - lr: 1.0000e-04\n",
      "Epoch 40/150\n",
      "191/191 [==============================] - 31s 165ms/step - loss: 0.0068 - mae: 0.0562 - mse: 0.0060 - iou_metric: 0.8152 - val_loss: 0.0084 - val_mae: 0.0612 - val_mse: 0.0076 - val_iou_metric: 0.8051 - lr: 1.0000e-04\n",
      "Epoch 41/150\n",
      "191/191 [==============================] - 32s 165ms/step - loss: 0.0068 - mae: 0.0563 - mse: 0.0060 - iou_metric: 0.8150 - val_loss: 0.0062 - val_mae: 0.0538 - val_mse: 0.0054 - val_iou_metric: 0.8219 - lr: 1.0000e-04\n",
      "Epoch 42/150\n",
      "191/191 [==============================] - 31s 162ms/step - loss: 0.0068 - mae: 0.0565 - mse: 0.0060 - iou_metric: 0.8141 - val_loss: 0.0069 - val_mae: 0.0562 - val_mse: 0.0061 - val_iou_metric: 0.8160 - lr: 1.0000e-04\n",
      "Epoch 43/150\n",
      "191/191 [==============================] - 31s 165ms/step - loss: 0.0067 - mae: 0.0564 - mse: 0.0059 - iou_metric: 0.8146 - val_loss: 0.0090 - val_mae: 0.0649 - val_mse: 0.0082 - val_iou_metric: 0.7959 - lr: 1.0000e-04\n",
      "Epoch 44/150\n",
      "191/191 [==============================] - 31s 163ms/step - loss: 0.0069 - mae: 0.0568 - mse: 0.0061 - iou_metric: 0.8137 - val_loss: 0.0083 - val_mae: 0.0621 - val_mse: 0.0075 - val_iou_metric: 0.8022 - lr: 1.0000e-04\n",
      "Epoch 45/150\n",
      "191/191 [==============================] - 31s 165ms/step - loss: 0.0067 - mae: 0.0558 - mse: 0.0059 - iou_metric: 0.8163 - val_loss: 0.0073 - val_mae: 0.0577 - val_mse: 0.0065 - val_iou_metric: 0.8123 - lr: 1.0000e-04\n",
      "Epoch 46/150\n",
      "191/191 [==============================] - 31s 163ms/step - loss: 0.0066 - mae: 0.0555 - mse: 0.0058 - iou_metric: 0.8169 - val_loss: 0.0066 - val_mae: 0.0554 - val_mse: 0.0058 - val_iou_metric: 0.8180 - lr: 1.0000e-04\n",
      "Epoch 47/150\n",
      "191/191 [==============================] - 31s 163ms/step - loss: 0.0066 - mae: 0.0558 - mse: 0.0059 - iou_metric: 0.8159 - val_loss: 0.0091 - val_mae: 0.0661 - val_mse: 0.0083 - val_iou_metric: 0.7928 - lr: 1.0000e-04\n",
      "Epoch 48/150\n",
      "191/191 [==============================] - 31s 165ms/step - loss: 0.0064 - mae: 0.0547 - mse: 0.0056 - iou_metric: 0.8193 - val_loss: 0.0063 - val_mae: 0.0537 - val_mse: 0.0055 - val_iou_metric: 0.8225 - lr: 1.0000e-04\n",
      "Epoch 49/150\n",
      "191/191 [==============================] - 31s 164ms/step - loss: 0.0065 - mae: 0.0547 - mse: 0.0057 - iou_metric: 0.8191 - val_loss: 0.0060 - val_mae: 0.0525 - val_mse: 0.0052 - val_iou_metric: 0.8255 - lr: 1.0000e-04\n",
      "Epoch 50/150\n",
      "191/191 [==============================] - 31s 164ms/step - loss: 0.0064 - mae: 0.0550 - mse: 0.0057 - iou_metric: 0.8182 - val_loss: 0.0069 - val_mae: 0.0568 - val_mse: 0.0062 - val_iou_metric: 0.8149 - lr: 1.0000e-04\n",
      "Epoch 51/150\n",
      "191/191 [==============================] - 31s 164ms/step - loss: 0.0064 - mae: 0.0548 - mse: 0.0057 - iou_metric: 0.8191 - val_loss: 0.0061 - val_mae: 0.0525 - val_mse: 0.0053 - val_iou_metric: 0.8252 - lr: 1.0000e-04\n",
      "Epoch 52/150\n",
      "191/191 [==============================] - 31s 165ms/step - loss: 0.0063 - mae: 0.0543 - mse: 0.0056 - iou_metric: 0.8205 - val_loss: 0.0068 - val_mae: 0.0574 - val_mse: 0.0061 - val_iou_metric: 0.8130 - lr: 1.0000e-04\n",
      "Epoch 53/150\n",
      "191/191 [==============================] - ETA: 0s - loss: 0.0063 - mae: 0.0545 - mse: 0.0056 - iou_metric: 0.8199"
     ]
    }
   ],
   "source": [
    "history = model.fit(\n",
    "    train_ds,\n",
    "    validation_data=val_ds,\n",
    "    epochs=150,\n",
    "    max_queue_size=32,\n",
    "    workers=10,\n",
    "    use_multiprocessing=True,\n",
    "    callbacks=callbacks,\n",
    ")"
   ]
  },
  {
   "cell_type": "code",
   "execution_count": null,
   "id": "94012ba3-aa57-4218-a89f-496dc573d8e4",
   "metadata": {},
   "outputs": [],
   "source": [
    "# TODO: evaluate model with test data\n",
    "# TODO: make ttv sets"
   ]
  },
  {
   "cell_type": "code",
   "execution_count": null,
   "id": "d7209907-f9e1-4b12-800a-07c723b89399",
   "metadata": {},
   "outputs": [],
   "source": [
    "model.evaluate(val_ds)"
   ]
  },
  {
   "cell_type": "code",
   "execution_count": null,
   "id": "7f009a0a-db97-400f-8883-435a1716b9bb",
   "metadata": {},
   "outputs": [],
   "source": [
    "model.save(filepath='eye_detector_model.hdf5')"
   ]
  },
  {
   "cell_type": "code",
   "execution_count": null,
   "id": "085a0ee4-4754-45eb-a4c8-14427926d95d",
   "metadata": {},
   "outputs": [],
   "source": [
    "new_model = tf.keras.models.load_model(filepath='eye_detector_model.hdf5')"
   ]
  },
  {
   "cell_type": "code",
   "execution_count": null,
   "id": "adefbec3-e23d-487d-bc4a-fa57f1ae826e",
   "metadata": {
    "scrolled": true,
    "tags": []
   },
   "outputs": [],
   "source": [
    "new_model.summary()"
   ]
  },
  {
   "cell_type": "code",
   "execution_count": null,
   "id": "7f6c4384-0eb2-4609-85e8-fec40025e53e",
   "metadata": {},
   "outputs": [],
   "source": [
    "# plot history with losses and metrics in two figures"
   ]
  },
  {
   "cell_type": "code",
   "execution_count": null,
   "id": "2a29b4c4-78b4-4af1-9c67-968e1ba1c586",
   "metadata": {},
   "outputs": [],
   "source": [
    "history.history.keys()"
   ]
  },
  {
   "cell_type": "code",
   "execution_count": null,
   "id": "782f4400-a154-4226-8e4d-93587c20ca7d",
   "metadata": {},
   "outputs": [],
   "source": [
    "lr = history.history.pop('lr', None) # not used"
   ]
  },
  {
   "cell_type": "code",
   "execution_count": null,
   "id": "2c2b370c-9db1-4356-a073-5e8fa3d6e1f5",
   "metadata": {},
   "outputs": [],
   "source": [
    "hist = history.history\n",
    "\n",
    "fig, axes = plt.subplots(ncols=2, nrows=1, figsize=(12, 4))\n",
    "\n",
    "for key in hist.keys():\n",
    "    if 'val_' not in key:\n",
    "        axes[0].plot(hist[key], label=key)\n",
    "    else:\n",
    "        axes[1].plot(hist[key], label=key)\n",
    "\n",
    "axes[0].legend()\n",
    "axes[1].legend()\n",
    "\n",
    "plt.ylim([-0.1, 1])\n",
    "plt.show()"
   ]
  },
  {
   "cell_type": "code",
   "execution_count": null,
   "id": "1d1cac43-0891-4a37-ac66-d320f82c1da1",
   "metadata": {},
   "outputs": [],
   "source": []
  }
 ],
 "metadata": {
  "kernelspec": {
   "display_name": "Python 3 (ipykernel)",
   "language": "python",
   "name": "python3"
  },
  "language_info": {
   "codemirror_mode": {
    "name": "ipython",
    "version": 3
   },
   "file_extension": ".py",
   "mimetype": "text/x-python",
   "name": "python",
   "nbconvert_exporter": "python",
   "pygments_lexer": "ipython3",
   "version": "3.9.13"
  }
 },
 "nbformat": 4,
 "nbformat_minor": 5
}
