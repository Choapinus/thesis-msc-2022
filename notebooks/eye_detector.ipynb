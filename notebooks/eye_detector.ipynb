{
 "cells": [
  {
   "cell_type": "code",
   "execution_count": 1,
   "id": "fe1dc9c1-8520-44a7-af5a-f819a17043d0",
   "metadata": {},
   "outputs": [],
   "source": [
    "# load densenet arch and make an eye detector (idea: with attention regions)"
   ]
  },
  {
   "cell_type": "code",
   "execution_count": 1,
   "id": "1a3eef35-b324-4a6f-824a-426330b5d4a2",
   "metadata": {},
   "outputs": [],
   "source": [
    "import os\n",
    "import sys\n",
    "\n",
    "sys.path.append('../')\n",
    "\n",
    "import cv2\n",
    "import json\n",
    "import math\n",
    "import numpy as np\n",
    "from PIL import Image\n",
    "import tensorflow as tf\n",
    "import matplotlib.pyplot as plt\n",
    "\n",
    "from utils import load_image\n",
    "from augmentations import avg_aug"
   ]
  },
  {
   "cell_type": "code",
   "execution_count": 2,
   "id": "1f065c6b-d5e1-4557-9da3-523bbf961f74",
   "metadata": {},
   "outputs": [],
   "source": [
    "from tflow.DenseNet10.keras_fc_densenet import _create_fc_dense_net\n",
    "from tflow.DenseNet10.keras_fc_densenet import _dense_block, _transition_down_block"
   ]
  },
  {
   "cell_type": "code",
   "execution_count": 3,
   "id": "e0031a84-3c3c-4f6c-a8b5-ec6bf93ccdb3",
   "metadata": {},
   "outputs": [],
   "source": [
    "import tensorflow as tf\n",
    "from tensorflow.keras.models import Model\n",
    "from tensorflow.keras.layers import Conv2D, Dense, Input, BatchNormalization, Activation, Dropout, GlobalMaxPool2D, GlobalAveragePooling2D\n",
    "from tensorflow.keras.regularizers import l2"
   ]
  },
  {
   "cell_type": "code",
   "execution_count": 4,
   "id": "9c1583ab-a3dd-43dd-86d1-14aa03d7d09d",
   "metadata": {},
   "outputs": [
    {
     "name": "stderr",
     "output_type": "stream",
     "text": [
      "2022-08-04 12:05:37.786502: I tensorflow/stream_executor/cuda/cuda_gpu_executor.cc:936] successful NUMA node read from SysFS had negative value (-1), but there must be at least one NUMA node, so returning NUMA node zero\n",
      "2022-08-04 12:05:38.086598: I tensorflow/stream_executor/cuda/cuda_gpu_executor.cc:936] successful NUMA node read from SysFS had negative value (-1), but there must be at least one NUMA node, so returning NUMA node zero\n",
      "2022-08-04 12:05:38.088382: I tensorflow/stream_executor/cuda/cuda_gpu_executor.cc:936] successful NUMA node read from SysFS had negative value (-1), but there must be at least one NUMA node, so returning NUMA node zero\n",
      "2022-08-04 12:05:38.091045: I tensorflow/core/platform/cpu_feature_guard.cc:151] This TensorFlow binary is optimized with oneAPI Deep Neural Network Library (oneDNN) to use the following CPU instructions in performance-critical operations:  SSE4.1 SSE4.2 AVX AVX2 FMA\n",
      "To enable them in other operations, rebuild TensorFlow with the appropriate compiler flags.\n",
      "2022-08-04 12:05:38.093024: I tensorflow/stream_executor/cuda/cuda_gpu_executor.cc:936] successful NUMA node read from SysFS had negative value (-1), but there must be at least one NUMA node, so returning NUMA node zero\n",
      "2022-08-04 12:05:38.094698: I tensorflow/stream_executor/cuda/cuda_gpu_executor.cc:936] successful NUMA node read from SysFS had negative value (-1), but there must be at least one NUMA node, so returning NUMA node zero\n",
      "2022-08-04 12:05:38.096196: I tensorflow/stream_executor/cuda/cuda_gpu_executor.cc:936] successful NUMA node read from SysFS had negative value (-1), but there must be at least one NUMA node, so returning NUMA node zero\n",
      "2022-08-04 12:05:38.535208: I tensorflow/stream_executor/cuda/cuda_gpu_executor.cc:936] successful NUMA node read from SysFS had negative value (-1), but there must be at least one NUMA node, so returning NUMA node zero\n",
      "2022-08-04 12:05:38.535559: I tensorflow/stream_executor/cuda/cuda_gpu_executor.cc:936] successful NUMA node read from SysFS had negative value (-1), but there must be at least one NUMA node, so returning NUMA node zero\n",
      "2022-08-04 12:05:38.535854: I tensorflow/stream_executor/cuda/cuda_gpu_executor.cc:936] successful NUMA node read from SysFS had negative value (-1), but there must be at least one NUMA node, so returning NUMA node zero\n",
      "2022-08-04 12:05:38.536124: I tensorflow/core/common_runtime/gpu/gpu_device.cc:1525] Created device /job:localhost/replica:0/task:0/device:GPU:0 with 4631 MB memory:  -> device: 0, name: NVIDIA GeForce GTX 1660 Ti with Max-Q Design, pci bus id: 0000:01:00.0, compute capability: 7.5\n"
     ]
    }
   ],
   "source": [
    "# make a better way to store all this in a config.json file to be readable as \"experiment\" counter # save a list of this json objects\n",
    "\n",
    "img_input = Input((224, 224, 3))\n",
    "bn_momentum = 0.9\n",
    "concat_axis = -1\n",
    "data_format = \"channels_last\"\n",
    "dropout_rate = 0.2\n",
    "weight_decay = 1e-4\n",
    "transition_pooling = 'max'\n",
    "\n",
    "# Initial convolution\n",
    "with tf.name_scope(\"Initial\"):\n",
    "    x = Conv2D(\n",
    "        36,\n",
    "        (3, 3),\n",
    "        kernel_initializer=\"he_normal\",\n",
    "        padding=\"same\",\n",
    "        use_bias=False,\n",
    "        kernel_regularizer=l2(weight_decay),\n",
    "        data_format=data_format,\n",
    "    )(img_input)\n",
    "    x = BatchNormalization(\n",
    "        momentum=bn_momentum, axis=concat_axis, epsilon=1.1e-5\n",
    "    )(x)\n",
    "    x = Activation(\"relu\")(x)"
   ]
  },
  {
   "cell_type": "code",
   "execution_count": 5,
   "id": "ac321452-fd29-4fc7-a397-70c987d41f89",
   "metadata": {},
   "outputs": [],
   "source": [
    "# keeps track of the current number of feature maps\n",
    "nb_filter = 42\n",
    "growth_rate = 3\n",
    "nb_dense_block = 5\n",
    "nb_layers_per_block = 3\n",
    "bottleneck_nb_layers = nb_layers_per_block\n",
    "nb_layers = [nb_layers_per_block] * (2 * nb_dense_block + 1)\n",
    "\n",
    "# collect skip connections on the downsampling path so that\n",
    "# they can be concatenated with outputs on the upsampling path\n",
    "# skip_list = []\n",
    "\n",
    "# Build the downsampling path by adding dense blocks and transition down blocks\n",
    "for block_idx in range(nb_dense_block):\n",
    "    x, nb_filter, _ = _dense_block(\n",
    "        x,\n",
    "        nb_layers[block_idx],\n",
    "        nb_filter,\n",
    "        growth_rate,\n",
    "        bn_momentum=bn_momentum,\n",
    "        dropout_rate=dropout_rate,\n",
    "        data_format=data_format,\n",
    "        block_prefix=\"DenseBlock_%i\" % block_idx,\n",
    "    )\n",
    "\n",
    "    # skip_list.append(x)\n",
    "    x = _transition_down_block(\n",
    "        x,\n",
    "        nb_filter,\n",
    "        weight_decay=weight_decay,\n",
    "        bn_momentum=bn_momentum,\n",
    "        transition_pooling=transition_pooling,\n",
    "        data_format=data_format,\n",
    "        block_prefix=\"TransitionDown_%i\" % block_idx,\n",
    "    )\n",
    "\n",
    "x, nb_filter, _ = _dense_block(\n",
    "    x,\n",
    "    nb_layers[-1],\n",
    "    nb_filter,\n",
    "    growth_rate,\n",
    "    bn_momentum=bn_momentum,\n",
    "    dropout_rate=dropout_rate,\n",
    "    data_format=data_format,\n",
    "    block_prefix=\"DenseBlock_last\",\n",
    ")\n",
    "\n",
    "x = GlobalMaxPool2D()(x)\n",
    "x = BatchNormalization()(x)\n",
    "x = Activation('relu')(x)\n",
    "x = Dense(64)(x)\n",
    "x = Dropout(rate=dropout_rate)(x)\n",
    "\n",
    "x = BatchNormalization()(x)\n",
    "x = Activation('relu')(x)\n",
    "x = Dense(32)(x)\n",
    "x = Dropout(rate=dropout_rate)(x)\n",
    "\n",
    "x = Dense(4, activation='sigmoid')(x)"
   ]
  },
  {
   "cell_type": "code",
   "execution_count": 6,
   "id": "2340abb8-8f22-44f3-8507-3ce1608f41f4",
   "metadata": {},
   "outputs": [],
   "source": [
    "model = Model(inputs=img_input, outputs=x)"
   ]
  },
  {
   "cell_type": "code",
   "execution_count": 7,
   "id": "6b00b521-f9bd-4143-a0ee-a312e2c84456",
   "metadata": {
    "scrolled": true,
    "tags": []
   },
   "outputs": [
    {
     "name": "stdout",
     "output_type": "stream",
     "text": [
      "Model: \"model\"\n",
      "__________________________________________________________________________________________________\n",
      " Layer (type)                   Output Shape         Param #     Connected to                     \n",
      "==================================================================================================\n",
      " input_1 (InputLayer)           [(None, 224, 224, 3  0           []                               \n",
      "                                )]                                                                \n",
      "                                                                                                  \n",
      " conv2d (Conv2D)                (None, 224, 224, 36  972         ['input_1[0][0]']                \n",
      "                                )                                                                 \n",
      "                                                                                                  \n",
      " batch_normalization (BatchNorm  (None, 224, 224, 36  144        ['conv2d[0][0]']                 \n",
      " alization)                     )                                                                 \n",
      "                                                                                                  \n",
      " activation (Activation)        (None, 224, 224, 36  0           ['batch_normalization[0][0]']    \n",
      "                                )                                                                 \n",
      "                                                                                                  \n",
      " batch_normalization_1 (BatchNo  (None, 224, 224, 36  144        ['activation[0][0]']             \n",
      " rmalization)                   )                                                                 \n",
      "                                                                                                  \n",
      " activation_1 (Activation)      (None, 224, 224, 36  0           ['batch_normalization_1[0][0]']  \n",
      "                                )                                                                 \n",
      "                                                                                                  \n",
      " conv2d_1 (Conv2D)              (None, 224, 224, 3)  972         ['activation_1[0][0]']           \n",
      "                                                                                                  \n",
      " dropout (Dropout)              (None, 224, 224, 3)  0           ['conv2d_1[0][0]']               \n",
      "                                                                                                  \n",
      " concatenate (Concatenate)      (None, 224, 224, 39  0           ['activation[0][0]',             \n",
      "                                )                                 'dropout[0][0]']                \n",
      "                                                                                                  \n",
      " batch_normalization_2 (BatchNo  (None, 224, 224, 39  156        ['concatenate[0][0]']            \n",
      " rmalization)                   )                                                                 \n",
      "                                                                                                  \n",
      " activation_2 (Activation)      (None, 224, 224, 39  0           ['batch_normalization_2[0][0]']  \n",
      "                                )                                                                 \n",
      "                                                                                                  \n",
      " conv2d_2 (Conv2D)              (None, 224, 224, 3)  1053        ['activation_2[0][0]']           \n",
      "                                                                                                  \n",
      " dropout_1 (Dropout)            (None, 224, 224, 3)  0           ['conv2d_2[0][0]']               \n",
      "                                                                                                  \n",
      " concatenate_1 (Concatenate)    (None, 224, 224, 42  0           ['concatenate[0][0]',            \n",
      "                                )                                 'dropout_1[0][0]']              \n",
      "                                                                                                  \n",
      " batch_normalization_3 (BatchNo  (None, 224, 224, 42  168        ['concatenate_1[0][0]']          \n",
      " rmalization)                   )                                                                 \n",
      "                                                                                                  \n",
      " activation_3 (Activation)      (None, 224, 224, 42  0           ['batch_normalization_3[0][0]']  \n",
      "                                )                                                                 \n",
      "                                                                                                  \n",
      " conv2d_3 (Conv2D)              (None, 224, 224, 3)  1134        ['activation_3[0][0]']           \n",
      "                                                                                                  \n",
      " dropout_2 (Dropout)            (None, 224, 224, 3)  0           ['conv2d_3[0][0]']               \n",
      "                                                                                                  \n",
      " concatenate_2 (Concatenate)    (None, 224, 224, 45  0           ['concatenate_1[0][0]',          \n",
      "                                )                                 'dropout_2[0][0]']              \n",
      "                                                                                                  \n",
      " batch_normalization_4 (BatchNo  (None, 224, 224, 45  180        ['concatenate_2[0][0]']          \n",
      " rmalization)                   )                                                                 \n",
      "                                                                                                  \n",
      " activation_4 (Activation)      (None, 224, 224, 45  0           ['batch_normalization_4[0][0]']  \n",
      "                                )                                                                 \n",
      "                                                                                                  \n",
      " conv2d_4 (Conv2D)              (None, 224, 224, 51  2295        ['activation_4[0][0]']           \n",
      "                                )                                                                 \n",
      "                                                                                                  \n",
      " max_pooling2d (MaxPooling2D)   (None, 112, 112, 51  0           ['conv2d_4[0][0]']               \n",
      "                                )                                                                 \n",
      "                                                                                                  \n",
      " batch_normalization_5 (BatchNo  (None, 112, 112, 51  204        ['max_pooling2d[0][0]']          \n",
      " rmalization)                   )                                                                 \n",
      "                                                                                                  \n",
      " activation_5 (Activation)      (None, 112, 112, 51  0           ['batch_normalization_5[0][0]']  \n",
      "                                )                                                                 \n",
      "                                                                                                  \n",
      " conv2d_5 (Conv2D)              (None, 112, 112, 3)  1377        ['activation_5[0][0]']           \n",
      "                                                                                                  \n",
      " dropout_3 (Dropout)            (None, 112, 112, 3)  0           ['conv2d_5[0][0]']               \n",
      "                                                                                                  \n",
      " concatenate_3 (Concatenate)    (None, 112, 112, 54  0           ['max_pooling2d[0][0]',          \n",
      "                                )                                 'dropout_3[0][0]']              \n",
      "                                                                                                  \n",
      " batch_normalization_6 (BatchNo  (None, 112, 112, 54  216        ['concatenate_3[0][0]']          \n",
      " rmalization)                   )                                                                 \n",
      "                                                                                                  \n",
      " activation_6 (Activation)      (None, 112, 112, 54  0           ['batch_normalization_6[0][0]']  \n",
      "                                )                                                                 \n",
      "                                                                                                  \n",
      " conv2d_6 (Conv2D)              (None, 112, 112, 3)  1458        ['activation_6[0][0]']           \n",
      "                                                                                                  \n",
      " dropout_4 (Dropout)            (None, 112, 112, 3)  0           ['conv2d_6[0][0]']               \n",
      "                                                                                                  \n",
      " concatenate_4 (Concatenate)    (None, 112, 112, 57  0           ['concatenate_3[0][0]',          \n",
      "                                )                                 'dropout_4[0][0]']              \n",
      "                                                                                                  \n",
      " batch_normalization_7 (BatchNo  (None, 112, 112, 57  228        ['concatenate_4[0][0]']          \n",
      " rmalization)                   )                                                                 \n",
      "                                                                                                  \n",
      " activation_7 (Activation)      (None, 112, 112, 57  0           ['batch_normalization_7[0][0]']  \n",
      "                                )                                                                 \n",
      "                                                                                                  \n",
      " conv2d_7 (Conv2D)              (None, 112, 112, 3)  1539        ['activation_7[0][0]']           \n",
      "                                                                                                  \n",
      " dropout_5 (Dropout)            (None, 112, 112, 3)  0           ['conv2d_7[0][0]']               \n",
      "                                                                                                  \n",
      " concatenate_5 (Concatenate)    (None, 112, 112, 60  0           ['concatenate_4[0][0]',          \n",
      "                                )                                 'dropout_5[0][0]']              \n",
      "                                                                                                  \n",
      " batch_normalization_8 (BatchNo  (None, 112, 112, 60  240        ['concatenate_5[0][0]']          \n",
      " rmalization)                   )                                                                 \n",
      "                                                                                                  \n",
      " activation_8 (Activation)      (None, 112, 112, 60  0           ['batch_normalization_8[0][0]']  \n",
      "                                )                                                                 \n",
      "                                                                                                  \n",
      " conv2d_8 (Conv2D)              (None, 112, 112, 60  3600        ['activation_8[0][0]']           \n",
      "                                )                                                                 \n",
      "                                                                                                  \n",
      " max_pooling2d_1 (MaxPooling2D)  (None, 56, 56, 60)  0           ['conv2d_8[0][0]']               \n",
      "                                                                                                  \n",
      " batch_normalization_9 (BatchNo  (None, 56, 56, 60)  240         ['max_pooling2d_1[0][0]']        \n",
      " rmalization)                                                                                     \n",
      "                                                                                                  \n",
      " activation_9 (Activation)      (None, 56, 56, 60)   0           ['batch_normalization_9[0][0]']  \n",
      "                                                                                                  \n",
      " conv2d_9 (Conv2D)              (None, 56, 56, 3)    1620        ['activation_9[0][0]']           \n",
      "                                                                                                  \n",
      " dropout_6 (Dropout)            (None, 56, 56, 3)    0           ['conv2d_9[0][0]']               \n",
      "                                                                                                  \n",
      " concatenate_6 (Concatenate)    (None, 56, 56, 63)   0           ['max_pooling2d_1[0][0]',        \n",
      "                                                                  'dropout_6[0][0]']              \n",
      "                                                                                                  \n",
      " batch_normalization_10 (BatchN  (None, 56, 56, 63)  252         ['concatenate_6[0][0]']          \n",
      " ormalization)                                                                                    \n",
      "                                                                                                  \n",
      " activation_10 (Activation)     (None, 56, 56, 63)   0           ['batch_normalization_10[0][0]'] \n",
      "                                                                                                  \n",
      " conv2d_10 (Conv2D)             (None, 56, 56, 3)    1701        ['activation_10[0][0]']          \n",
      "                                                                                                  \n",
      " dropout_7 (Dropout)            (None, 56, 56, 3)    0           ['conv2d_10[0][0]']              \n",
      "                                                                                                  \n",
      " concatenate_7 (Concatenate)    (None, 56, 56, 66)   0           ['concatenate_6[0][0]',          \n",
      "                                                                  'dropout_7[0][0]']              \n",
      "                                                                                                  \n",
      " batch_normalization_11 (BatchN  (None, 56, 56, 66)  264         ['concatenate_7[0][0]']          \n",
      " ormalization)                                                                                    \n",
      "                                                                                                  \n",
      " activation_11 (Activation)     (None, 56, 56, 66)   0           ['batch_normalization_11[0][0]'] \n",
      "                                                                                                  \n",
      " conv2d_11 (Conv2D)             (None, 56, 56, 3)    1782        ['activation_11[0][0]']          \n",
      "                                                                                                  \n",
      " dropout_8 (Dropout)            (None, 56, 56, 3)    0           ['conv2d_11[0][0]']              \n",
      "                                                                                                  \n",
      " concatenate_8 (Concatenate)    (None, 56, 56, 69)   0           ['concatenate_7[0][0]',          \n",
      "                                                                  'dropout_8[0][0]']              \n",
      "                                                                                                  \n",
      " batch_normalization_12 (BatchN  (None, 56, 56, 69)  276         ['concatenate_8[0][0]']          \n",
      " ormalization)                                                                                    \n",
      "                                                                                                  \n",
      " activation_12 (Activation)     (None, 56, 56, 69)   0           ['batch_normalization_12[0][0]'] \n",
      "                                                                                                  \n",
      " conv2d_12 (Conv2D)             (None, 56, 56, 69)   4761        ['activation_12[0][0]']          \n",
      "                                                                                                  \n",
      " max_pooling2d_2 (MaxPooling2D)  (None, 28, 28, 69)  0           ['conv2d_12[0][0]']              \n",
      "                                                                                                  \n",
      " batch_normalization_13 (BatchN  (None, 28, 28, 69)  276         ['max_pooling2d_2[0][0]']        \n",
      " ormalization)                                                                                    \n",
      "                                                                                                  \n",
      " activation_13 (Activation)     (None, 28, 28, 69)   0           ['batch_normalization_13[0][0]'] \n",
      "                                                                                                  \n",
      " conv2d_13 (Conv2D)             (None, 28, 28, 3)    1863        ['activation_13[0][0]']          \n",
      "                                                                                                  \n",
      " dropout_9 (Dropout)            (None, 28, 28, 3)    0           ['conv2d_13[0][0]']              \n",
      "                                                                                                  \n",
      " concatenate_9 (Concatenate)    (None, 28, 28, 72)   0           ['max_pooling2d_2[0][0]',        \n",
      "                                                                  'dropout_9[0][0]']              \n",
      "                                                                                                  \n",
      " batch_normalization_14 (BatchN  (None, 28, 28, 72)  288         ['concatenate_9[0][0]']          \n",
      " ormalization)                                                                                    \n",
      "                                                                                                  \n",
      " activation_14 (Activation)     (None, 28, 28, 72)   0           ['batch_normalization_14[0][0]'] \n",
      "                                                                                                  \n",
      " conv2d_14 (Conv2D)             (None, 28, 28, 3)    1944        ['activation_14[0][0]']          \n",
      "                                                                                                  \n",
      " dropout_10 (Dropout)           (None, 28, 28, 3)    0           ['conv2d_14[0][0]']              \n",
      "                                                                                                  \n",
      " concatenate_10 (Concatenate)   (None, 28, 28, 75)   0           ['concatenate_9[0][0]',          \n",
      "                                                                  'dropout_10[0][0]']             \n",
      "                                                                                                  \n",
      " batch_normalization_15 (BatchN  (None, 28, 28, 75)  300         ['concatenate_10[0][0]']         \n",
      " ormalization)                                                                                    \n",
      "                                                                                                  \n",
      " activation_15 (Activation)     (None, 28, 28, 75)   0           ['batch_normalization_15[0][0]'] \n",
      "                                                                                                  \n",
      " conv2d_15 (Conv2D)             (None, 28, 28, 3)    2025        ['activation_15[0][0]']          \n",
      "                                                                                                  \n",
      " dropout_11 (Dropout)           (None, 28, 28, 3)    0           ['conv2d_15[0][0]']              \n",
      "                                                                                                  \n",
      " concatenate_11 (Concatenate)   (None, 28, 28, 78)   0           ['concatenate_10[0][0]',         \n",
      "                                                                  'dropout_11[0][0]']             \n",
      "                                                                                                  \n",
      " batch_normalization_16 (BatchN  (None, 28, 28, 78)  312         ['concatenate_11[0][0]']         \n",
      " ormalization)                                                                                    \n",
      "                                                                                                  \n",
      " activation_16 (Activation)     (None, 28, 28, 78)   0           ['batch_normalization_16[0][0]'] \n",
      "                                                                                                  \n",
      " conv2d_16 (Conv2D)             (None, 28, 28, 78)   6084        ['activation_16[0][0]']          \n",
      "                                                                                                  \n",
      " max_pooling2d_3 (MaxPooling2D)  (None, 14, 14, 78)  0           ['conv2d_16[0][0]']              \n",
      "                                                                                                  \n",
      " batch_normalization_17 (BatchN  (None, 14, 14, 78)  312         ['max_pooling2d_3[0][0]']        \n",
      " ormalization)                                                                                    \n",
      "                                                                                                  \n",
      " activation_17 (Activation)     (None, 14, 14, 78)   0           ['batch_normalization_17[0][0]'] \n",
      "                                                                                                  \n",
      " conv2d_17 (Conv2D)             (None, 14, 14, 3)    2106        ['activation_17[0][0]']          \n",
      "                                                                                                  \n",
      " dropout_12 (Dropout)           (None, 14, 14, 3)    0           ['conv2d_17[0][0]']              \n",
      "                                                                                                  \n",
      " concatenate_12 (Concatenate)   (None, 14, 14, 81)   0           ['max_pooling2d_3[0][0]',        \n",
      "                                                                  'dropout_12[0][0]']             \n",
      "                                                                                                  \n",
      " batch_normalization_18 (BatchN  (None, 14, 14, 81)  324         ['concatenate_12[0][0]']         \n",
      " ormalization)                                                                                    \n",
      "                                                                                                  \n",
      " activation_18 (Activation)     (None, 14, 14, 81)   0           ['batch_normalization_18[0][0]'] \n",
      "                                                                                                  \n",
      " conv2d_18 (Conv2D)             (None, 14, 14, 3)    2187        ['activation_18[0][0]']          \n",
      "                                                                                                  \n",
      " dropout_13 (Dropout)           (None, 14, 14, 3)    0           ['conv2d_18[0][0]']              \n",
      "                                                                                                  \n",
      " concatenate_13 (Concatenate)   (None, 14, 14, 84)   0           ['concatenate_12[0][0]',         \n",
      "                                                                  'dropout_13[0][0]']             \n",
      "                                                                                                  \n",
      " batch_normalization_19 (BatchN  (None, 14, 14, 84)  336         ['concatenate_13[0][0]']         \n",
      " ormalization)                                                                                    \n",
      "                                                                                                  \n",
      " activation_19 (Activation)     (None, 14, 14, 84)   0           ['batch_normalization_19[0][0]'] \n",
      "                                                                                                  \n",
      " conv2d_19 (Conv2D)             (None, 14, 14, 3)    2268        ['activation_19[0][0]']          \n",
      "                                                                                                  \n",
      " dropout_14 (Dropout)           (None, 14, 14, 3)    0           ['conv2d_19[0][0]']              \n",
      "                                                                                                  \n",
      " concatenate_14 (Concatenate)   (None, 14, 14, 87)   0           ['concatenate_13[0][0]',         \n",
      "                                                                  'dropout_14[0][0]']             \n",
      "                                                                                                  \n",
      " batch_normalization_20 (BatchN  (None, 14, 14, 87)  348         ['concatenate_14[0][0]']         \n",
      " ormalization)                                                                                    \n",
      "                                                                                                  \n",
      " activation_20 (Activation)     (None, 14, 14, 87)   0           ['batch_normalization_20[0][0]'] \n",
      "                                                                                                  \n",
      " conv2d_20 (Conv2D)             (None, 14, 14, 87)   7569        ['activation_20[0][0]']          \n",
      "                                                                                                  \n",
      " max_pooling2d_4 (MaxPooling2D)  (None, 7, 7, 87)    0           ['conv2d_20[0][0]']              \n",
      "                                                                                                  \n",
      " batch_normalization_21 (BatchN  (None, 7, 7, 87)    348         ['max_pooling2d_4[0][0]']        \n",
      " ormalization)                                                                                    \n",
      "                                                                                                  \n",
      " activation_21 (Activation)     (None, 7, 7, 87)     0           ['batch_normalization_21[0][0]'] \n",
      "                                                                                                  \n",
      " conv2d_21 (Conv2D)             (None, 7, 7, 3)      2349        ['activation_21[0][0]']          \n",
      "                                                                                                  \n",
      " dropout_15 (Dropout)           (None, 7, 7, 3)      0           ['conv2d_21[0][0]']              \n",
      "                                                                                                  \n",
      " concatenate_15 (Concatenate)   (None, 7, 7, 90)     0           ['max_pooling2d_4[0][0]',        \n",
      "                                                                  'dropout_15[0][0]']             \n",
      "                                                                                                  \n",
      " batch_normalization_22 (BatchN  (None, 7, 7, 90)    360         ['concatenate_15[0][0]']         \n",
      " ormalization)                                                                                    \n",
      "                                                                                                  \n",
      " activation_22 (Activation)     (None, 7, 7, 90)     0           ['batch_normalization_22[0][0]'] \n",
      "                                                                                                  \n",
      " conv2d_22 (Conv2D)             (None, 7, 7, 3)      2430        ['activation_22[0][0]']          \n",
      "                                                                                                  \n",
      " dropout_16 (Dropout)           (None, 7, 7, 3)      0           ['conv2d_22[0][0]']              \n",
      "                                                                                                  \n",
      " concatenate_16 (Concatenate)   (None, 7, 7, 93)     0           ['concatenate_15[0][0]',         \n",
      "                                                                  'dropout_16[0][0]']             \n",
      "                                                                                                  \n",
      " batch_normalization_23 (BatchN  (None, 7, 7, 93)    372         ['concatenate_16[0][0]']         \n",
      " ormalization)                                                                                    \n",
      "                                                                                                  \n",
      " activation_23 (Activation)     (None, 7, 7, 93)     0           ['batch_normalization_23[0][0]'] \n",
      "                                                                                                  \n",
      " conv2d_23 (Conv2D)             (None, 7, 7, 3)      2511        ['activation_23[0][0]']          \n",
      "                                                                                                  \n",
      " dropout_17 (Dropout)           (None, 7, 7, 3)      0           ['conv2d_23[0][0]']              \n",
      "                                                                                                  \n",
      " concatenate_17 (Concatenate)   (None, 7, 7, 96)     0           ['concatenate_16[0][0]',         \n",
      "                                                                  'dropout_17[0][0]']             \n",
      "                                                                                                  \n",
      " global_max_pooling2d (GlobalMa  (None, 96)          0           ['concatenate_17[0][0]']         \n",
      " xPooling2D)                                                                                      \n",
      "                                                                                                  \n",
      " batch_normalization_24 (BatchN  (None, 96)          384         ['global_max_pooling2d[0][0]']   \n",
      " ormalization)                                                                                    \n",
      "                                                                                                  \n",
      " activation_24 (Activation)     (None, 96)           0           ['batch_normalization_24[0][0]'] \n",
      "                                                                                                  \n",
      " dense (Dense)                  (None, 64)           6208        ['activation_24[0][0]']          \n",
      "                                                                                                  \n",
      " dropout_18 (Dropout)           (None, 64)           0           ['dense[0][0]']                  \n",
      "                                                                                                  \n",
      " batch_normalization_25 (BatchN  (None, 64)          256         ['dropout_18[0][0]']             \n",
      " ormalization)                                                                                    \n",
      "                                                                                                  \n",
      " activation_25 (Activation)     (None, 64)           0           ['batch_normalization_25[0][0]'] \n",
      "                                                                                                  \n",
      " dense_1 (Dense)                (None, 32)           2080        ['activation_25[0][0]']          \n",
      "                                                                                                  \n",
      " dropout_19 (Dropout)           (None, 32)           0           ['dense_1[0][0]']                \n",
      "                                                                                                  \n",
      " dense_2 (Dense)                (None, 4)            132         ['dropout_19[0][0]']             \n",
      "                                                                                                  \n",
      "==================================================================================================\n",
      "Total params: 72,948\n",
      "Trainable params: 69,484\n",
      "Non-trainable params: 3,464\n",
      "__________________________________________________________________________________________________\n"
     ]
    }
   ],
   "source": [
    "model.summary()"
   ]
  },
  {
   "cell_type": "markdown",
   "id": "ee97db62-77c4-40cb-8d9c-b8a01b03b260",
   "metadata": {},
   "source": [
    "# Generator funct"
   ]
  },
  {
   "cell_type": "code",
   "execution_count": 8,
   "id": "2da490f4-69b4-4349-84e3-4ffe03171c77",
   "metadata": {},
   "outputs": [],
   "source": [
    "# TODO: implement data augmentation for object detection\n",
    "\n",
    "datapath = {\n",
    "    'images_path': \"/home/choppy/TOC/thesis-msc-2022/data/images/aws/bonafide/via_marked\",\n",
    "    'via_file': \"/home/choppy/TOC/thesis-msc-2022/data/images/aws/bonafide/via_marked/via_region_data.json\"\n",
    "}"
   ]
  },
  {
   "cell_type": "code",
   "execution_count": 9,
   "id": "73c5ee45-77ce-4b84-93b4-2bb605776693",
   "metadata": {},
   "outputs": [],
   "source": [
    "with open(datapath.get('via_file')) as f:\n",
    "    data = json.load(f)\n",
    "    images_tensor = []\n",
    "    coords_tensor = []\n",
    "    \n",
    "    for key in data.keys():\n",
    "        impath = os.path.join(datapath.get('images_path'), data[key].get('filename'))\n",
    "        # need to get image shape to properly format regions\n",
    "        # image = Image.open(impath)\n",
    "        # im_width, im_height = image.size\n",
    "                     \n",
    "        regions = data[key]['regions']\n",
    "        \n",
    "        if regions: # will be a empty list or list of regions\n",
    "            shape_attributes = regions[0]['shape_attributes'] # take the first because is the unique region on the image\n",
    "            # load marks\n",
    "            region_name = shape_attributes.get('name') # will return \"rect\". Not used\n",
    "            x = shape_attributes.get('x')\n",
    "            y = shape_attributes.get('y')\n",
    "            width = shape_attributes.get('width')\n",
    "            height = shape_attributes.get('height')\n",
    "            \n",
    "            # make array with batch size and coords\n",
    "            # coords = np.array([x, y, x+width, y+height])\n",
    "            coords = np.array([x, y, width, height])\n",
    "            \n",
    "            # append data to tensors\n",
    "            images_tensor.append(impath)\n",
    "            coords_tensor.append(coords)\n",
    "\n",
    "aug = avg_aug()\n",
    "# define train/test/val here spliting those tensor\n",
    "images_tensor = tf.cast(images_tensor, dtype=tf.string)\n",
    "coords_tensor = tf.cast(coords_tensor, dtype=tf.float32)\n",
    "dataset = tf.data.Dataset.from_tensor_slices((images_tensor, coords_tensor))\n",
    "\n",
    "def _parse_function(impath, coords):\n",
    "    image_string = tf.io.read_file(impath)\n",
    "    image_decoded = tf.io.decode_png(image_string, channels=3)\n",
    "    h_image = tf.shape(image_decoded)[0]\n",
    "    w_image = tf.shape(image_decoded)[1]\n",
    "    image = tf.image.resize(image_decoded, (224, 224))\n",
    "    image = tf.cast(image, tf.uint8)\n",
    "    # do augmentation here. Had a lot of problems figuring how to solve this part xd\n",
    "    image = tf.numpy_function(func=aug.augment_image, inp=[image], Tout=tf.uint8)\n",
    "    image = tf.cast(image, tf.float32)\n",
    "    image = image / 255.\n",
    "    coords = coords / [w_image, h_image, w_image, h_image] # image width, height\n",
    "    return image, coords\n",
    "\n",
    "dataset = dataset.map(_parse_function)\n",
    "dataset = dataset.cache()\n",
    "dataset = dataset.batch(5)\n",
    "dataset = dataset.shuffle(5**2)"
   ]
  },
  {
   "cell_type": "code",
   "execution_count": 10,
   "id": "91ff0551-1f84-4188-ab90-87131b5d13a0",
   "metadata": {},
   "outputs": [
    {
     "data": {
      "text/plain": [
       "(<ShuffleDataset element_spec=(TensorSpec(shape=<unknown>, dtype=tf.float32, name=None), TensorSpec(shape=(None, 4), dtype=tf.float32, name=None))>,\n",
       " 230)"
      ]
     },
     "execution_count": 10,
     "metadata": {},
     "output_type": "execute_result"
    }
   ],
   "source": [
    "dataset, len(dataset)"
   ]
  },
  {
   "cell_type": "code",
   "execution_count": 11,
   "id": "43bfd6ae-389d-4abc-be91-c864ade15e99",
   "metadata": {},
   "outputs": [],
   "source": [
    "train_ds = dataset.cache().prefetch(tf.data.experimental.AUTOTUNE)\n",
    "val_ds = dataset.cache().prefetch(tf.data.experimental.AUTOTUNE)"
   ]
  },
  {
   "cell_type": "markdown",
   "id": "698de4e4-283b-4a6a-8184-b09928f463c7",
   "metadata": {},
   "source": [
    "# Show first image from train set"
   ]
  },
  {
   "cell_type": "code",
   "execution_count": 12,
   "id": "9106d49c-2e46-45ec-8b5f-3ffdb068dbb9",
   "metadata": {
    "scrolled": true,
    "tags": []
   },
   "outputs": [],
   "source": [
    "# for im, coords in dataset.take(1):\n",
    "#     plt.imshow(im[0])\n",
    "#     plt.show()\n",
    "#     print(coords[0])"
   ]
  },
  {
   "cell_type": "markdown",
   "id": "22925c3c-9070-4830-94f4-e5e38939fcf8",
   "metadata": {},
   "source": [
    "# Train config"
   ]
  },
  {
   "cell_type": "code",
   "execution_count": 13,
   "id": "fbd8384b-af0b-4940-b118-4cf8b80090de",
   "metadata": {
    "tags": []
   },
   "outputs": [],
   "source": [
    "# another ref with more iou metrics: https://chowdera.com/2022/04/202204081842317781.html\n",
    "\n",
    "# ref: https://github.com/Balupurohit23/IOU-for-bounding-box-regression-in-Keras/blob/master/iou_metric.py\n",
    "def iou_metric(y_true, y_pred):\n",
    "    # iou as metric for bounding box regression\n",
    "    # input must be as [x1, y1, x2, y2]\n",
    "    \n",
    "    # AOG = Area of Groundtruth box\n",
    "    AoG = tf.abs(tf.transpose(y_true)[2] - tf.transpose(y_true)[0] + 1) * tf.abs(tf.transpose(y_true)[3] - tf.transpose(y_true)[1] + 1)\n",
    "    \n",
    "    # AOP = Area of Predicted box\n",
    "    AoP = tf.abs(tf.transpose(y_pred)[2] - tf.transpose(y_pred)[0] + 1) * tf.abs(tf.transpose(y_pred)[3] - tf.transpose(y_pred)[1] + 1)\n",
    "\n",
    "    # overlaps are the co-ordinates of intersection box\n",
    "    overlap_0 = tf.maximum(tf.transpose(y_true)[0], tf.transpose(y_pred)[0])\n",
    "    overlap_1 = tf.maximum(tf.transpose(y_true)[1], tf.transpose(y_pred)[1])\n",
    "    overlap_2 = tf.minimum(tf.transpose(y_true)[2], tf.transpose(y_pred)[2])\n",
    "    overlap_3 = tf.minimum(tf.transpose(y_true)[3], tf.transpose(y_pred)[3])\n",
    "\n",
    "    # intersection area\n",
    "    intersection = (overlap_2 - overlap_0 + 1) * (overlap_3 - overlap_1 + 1)\n",
    "\n",
    "    # area of union of both boxes\n",
    "    union = AoG + AoP - intersection\n",
    "    \n",
    "    # iou calculation\n",
    "    iou = intersection / union\n",
    "\n",
    "    # bounding values of iou to (0,1)\n",
    "    iou = tf.clip_by_value(iou, 0.0 + tf.keras.backend.epsilon(), 1.0 - tf.keras.backend.epsilon())\n",
    "\n",
    "    return iou   "
   ]
  },
  {
   "cell_type": "code",
   "execution_count": 14,
   "id": "ad9d2286-9e9c-4d58-b4da-689808fdc5c9",
   "metadata": {},
   "outputs": [],
   "source": [
    "lr = 1e-4\n",
    "\n",
    "# converge muy rapido\n",
    "opt = tf.keras.optimizers.RMSprop(\n",
    "    learning_rate=lr,\n",
    "    rho=0.9,\n",
    "    momentum=0.9,\n",
    "    epsilon=1e-07,\n",
    "    centered=False,\n",
    "    name='RMSpropOpt',\n",
    ")\n",
    "\n",
    "# delicioso\n",
    "# opt = tf.keras.optimizers.SGD(\n",
    "#     learning_rate=lr,\n",
    "#     momentum=0.9,\n",
    "#     nesterov=True,\n",
    "#     name='SGDOpt',\n",
    "# )\n",
    "\n",
    "model.compile(\n",
    "    optimizer=opt,\n",
    "    loss=tf.losses.MeanSquaredError(),\n",
    "    # loss=tf.losses.MeanSquaredLogarithmicError(),\n",
    "    # loss=iou_loss,\n",
    "    metrics=[\n",
    "        'mae', 'mse', \n",
    "        iou_metric\n",
    "    ]\n",
    ")"
   ]
  },
  {
   "cell_type": "markdown",
   "id": "20f88f16-8bff-444a-a798-7826b1f52b4f",
   "metadata": {},
   "source": [
    "# Callbacks"
   ]
  },
  {
   "cell_type": "code",
   "execution_count": 15,
   "id": "56ef9d2f-bd70-49fe-a12e-1b84f02753f7",
   "metadata": {},
   "outputs": [],
   "source": [
    "callbacks = [ # add save save best model\n",
    "    tf.keras.callbacks.ReduceLROnPlateau(\n",
    "        monitor='val_loss',\n",
    "        factor=0.1,\n",
    "        patience=10,\n",
    "        verbose=1,\n",
    "        mode='auto',\n",
    "        min_delta=0.0001,\n",
    "        cooldown=0,\n",
    "        min_lr=1e-15,\n",
    "    ),\n",
    "    \n",
    "    tf.keras.callbacks.EarlyStopping(\n",
    "        monitor='val_loss',\n",
    "        verbose=1,\n",
    "        patience=20,\n",
    "    )\n",
    "]"
   ]
  },
  {
   "cell_type": "code",
   "execution_count": 16,
   "id": "1eb976b1-49cc-466f-867a-be05fbe952a4",
   "metadata": {
    "scrolled": true,
    "tags": []
   },
   "outputs": [
    {
     "name": "stdout",
     "output_type": "stream",
     "text": [
      "Epoch 1/150\n"
     ]
    },
    {
     "name": "stderr",
     "output_type": "stream",
     "text": [
      "/home/choppy/TOC/.conda/envs/msc-thesis-2022/lib/python3.9/site-packages/imgaug/augmenters/imgcorruptlike.py:484: FutureWarning: `multichannel` is a deprecated argument name for `gaussian`. It will be removed in version 1.0. Please use `channel_axis` instead.\n",
      "  gaussian(np.array(x) / 255., sigma=sigma, multichannel=True) * 255)\n",
      "/home/choppy/TOC/.conda/envs/msc-thesis-2022/lib/python3.9/site-packages/imgaug/augmenters/imgcorruptlike.py:516: FutureWarning: `multichannel` is a deprecated argument name for `gaussian`. It will be removed in version 1.0. Please use `channel_axis` instead.\n",
      "  gaussian(x / 255., sigma=sigma, multichannel=True),\n",
      "/home/choppy/TOC/.conda/envs/msc-thesis-2022/lib/python3.9/site-packages/imagecorruptions/corruptions.py:188: FutureWarning: `multichannel` is a deprecated argument name for `gaussian`. It will be removed in version 1.0. Please use `channel_axis` instead.\n",
      "  x = gaussian(np.array(x) / 255., sigma=c, multichannel=True)\n",
      "/home/choppy/TOC/.conda/envs/msc-thesis-2022/lib/python3.9/site-packages/imgaug/augmenters/imgcorruptlike.py:484: FutureWarning: `multichannel` is a deprecated argument name for `gaussian`. It will be removed in version 1.0. Please use `channel_axis` instead.\n",
      "  gaussian(np.array(x) / 255., sigma=sigma, multichannel=True) * 255)\n",
      "/home/choppy/TOC/.conda/envs/msc-thesis-2022/lib/python3.9/site-packages/imgaug/augmenters/imgcorruptlike.py:516: FutureWarning: `multichannel` is a deprecated argument name for `gaussian`. It will be removed in version 1.0. Please use `channel_axis` instead.\n",
      "  gaussian(x / 255., sigma=sigma, multichannel=True),\n",
      "/home/choppy/TOC/.conda/envs/msc-thesis-2022/lib/python3.9/site-packages/imagecorruptions/corruptions.py:188: FutureWarning: `multichannel` is a deprecated argument name for `gaussian`. It will be removed in version 1.0. Please use `channel_axis` instead.\n",
      "  x = gaussian(np.array(x) / 255., sigma=c, multichannel=True)\n",
      "/home/choppy/TOC/.conda/envs/msc-thesis-2022/lib/python3.9/site-packages/imagecorruptions/corruptions.py:188: FutureWarning: `multichannel` is a deprecated argument name for `gaussian`. It will be removed in version 1.0. Please use `channel_axis` instead.\n",
      "  x = gaussian(np.array(x) / 255., sigma=c, multichannel=True)\n",
      "/home/choppy/TOC/.conda/envs/msc-thesis-2022/lib/python3.9/site-packages/imagecorruptions/corruptions.py:188: FutureWarning: `multichannel` is a deprecated argument name for `gaussian`. It will be removed in version 1.0. Please use `channel_axis` instead.\n",
      "  x = gaussian(np.array(x) / 255., sigma=c, multichannel=True)\n",
      "/home/choppy/TOC/.conda/envs/msc-thesis-2022/lib/python3.9/site-packages/imagecorruptions/corruptions.py:188: FutureWarning: `multichannel` is a deprecated argument name for `gaussian`. It will be removed in version 1.0. Please use `channel_axis` instead.\n",
      "  x = gaussian(np.array(x) / 255., sigma=c, multichannel=True)\n",
      "/home/choppy/TOC/.conda/envs/msc-thesis-2022/lib/python3.9/site-packages/imgaug/augmenters/imgcorruptlike.py:484: FutureWarning: `multichannel` is a deprecated argument name for `gaussian`. It will be removed in version 1.0. Please use `channel_axis` instead.\n",
      "  gaussian(np.array(x) / 255., sigma=sigma, multichannel=True) * 255)\n",
      "/home/choppy/TOC/.conda/envs/msc-thesis-2022/lib/python3.9/site-packages/imgaug/augmenters/imgcorruptlike.py:516: FutureWarning: `multichannel` is a deprecated argument name for `gaussian`. It will be removed in version 1.0. Please use `channel_axis` instead.\n",
      "  gaussian(x / 255., sigma=sigma, multichannel=True),\n",
      "/home/choppy/TOC/.conda/envs/msc-thesis-2022/lib/python3.9/site-packages/imgaug/augmenters/imgcorruptlike.py:484: FutureWarning: `multichannel` is a deprecated argument name for `gaussian`. It will be removed in version 1.0. Please use `channel_axis` instead.\n",
      "  gaussian(np.array(x) / 255., sigma=sigma, multichannel=True) * 255)\n",
      "/home/choppy/TOC/.conda/envs/msc-thesis-2022/lib/python3.9/site-packages/imgaug/augmenters/imgcorruptlike.py:516: FutureWarning: `multichannel` is a deprecated argument name for `gaussian`. It will be removed in version 1.0. Please use `channel_axis` instead.\n",
      "  gaussian(x / 255., sigma=sigma, multichannel=True),\n",
      "/home/choppy/TOC/.conda/envs/msc-thesis-2022/lib/python3.9/site-packages/imgaug/augmenters/imgcorruptlike.py:484: FutureWarning: `multichannel` is a deprecated argument name for `gaussian`. It will be removed in version 1.0. Please use `channel_axis` instead.\n",
      "  gaussian(np.array(x) / 255., sigma=sigma, multichannel=True) * 255)\n",
      "/home/choppy/TOC/.conda/envs/msc-thesis-2022/lib/python3.9/site-packages/imgaug/augmenters/imgcorruptlike.py:516: FutureWarning: `multichannel` is a deprecated argument name for `gaussian`. It will be removed in version 1.0. Please use `channel_axis` instead.\n",
      "  gaussian(x / 255., sigma=sigma, multichannel=True),\n",
      "/home/choppy/TOC/.conda/envs/msc-thesis-2022/lib/python3.9/site-packages/imgaug/augmenters/imgcorruptlike.py:484: FutureWarning: `multichannel` is a deprecated argument name for `gaussian`. It will be removed in version 1.0. Please use `channel_axis` instead.\n",
      "  gaussian(np.array(x) / 255., sigma=sigma, multichannel=True) * 255)\n",
      "/home/choppy/TOC/.conda/envs/msc-thesis-2022/lib/python3.9/site-packages/imgaug/augmenters/imgcorruptlike.py:516: FutureWarning: `multichannel` is a deprecated argument name for `gaussian`. It will be removed in version 1.0. Please use `channel_axis` instead.\n",
      "  gaussian(x / 255., sigma=sigma, multichannel=True),\n",
      "/home/choppy/TOC/.conda/envs/msc-thesis-2022/lib/python3.9/site-packages/imgaug/augmenters/imgcorruptlike.py:484: FutureWarning: `multichannel` is a deprecated argument name for `gaussian`. It will be removed in version 1.0. Please use `channel_axis` instead.\n",
      "  gaussian(np.array(x) / 255., sigma=sigma, multichannel=True) * 255)\n",
      "/home/choppy/TOC/.conda/envs/msc-thesis-2022/lib/python3.9/site-packages/imgaug/augmenters/imgcorruptlike.py:516: FutureWarning: `multichannel` is a deprecated argument name for `gaussian`. It will be removed in version 1.0. Please use `channel_axis` instead.\n",
      "  gaussian(x / 255., sigma=sigma, multichannel=True),\n",
      "/home/choppy/TOC/.conda/envs/msc-thesis-2022/lib/python3.9/site-packages/imgaug/augmenters/imgcorruptlike.py:484: FutureWarning: `multichannel` is a deprecated argument name for `gaussian`. It will be removed in version 1.0. Please use `channel_axis` instead.\n",
      "  gaussian(np.array(x) / 255., sigma=sigma, multichannel=True) * 255)\n",
      "/home/choppy/TOC/.conda/envs/msc-thesis-2022/lib/python3.9/site-packages/imgaug/augmenters/imgcorruptlike.py:516: FutureWarning: `multichannel` is a deprecated argument name for `gaussian`. It will be removed in version 1.0. Please use `channel_axis` instead.\n",
      "  gaussian(x / 255., sigma=sigma, multichannel=True),\n",
      "/home/choppy/TOC/.conda/envs/msc-thesis-2022/lib/python3.9/site-packages/imagecorruptions/corruptions.py:188: FutureWarning: `multichannel` is a deprecated argument name for `gaussian`. It will be removed in version 1.0. Please use `channel_axis` instead.\n",
      "  x = gaussian(np.array(x) / 255., sigma=c, multichannel=True)\n",
      "/home/choppy/TOC/.conda/envs/msc-thesis-2022/lib/python3.9/site-packages/imgaug/augmenters/imgcorruptlike.py:484: FutureWarning: `multichannel` is a deprecated argument name for `gaussian`. It will be removed in version 1.0. Please use `channel_axis` instead.\n",
      "  gaussian(np.array(x) / 255., sigma=sigma, multichannel=True) * 255)\n",
      "/home/choppy/TOC/.conda/envs/msc-thesis-2022/lib/python3.9/site-packages/imgaug/augmenters/imgcorruptlike.py:516: FutureWarning: `multichannel` is a deprecated argument name for `gaussian`. It will be removed in version 1.0. Please use `channel_axis` instead.\n",
      "  gaussian(x / 255., sigma=sigma, multichannel=True),\n",
      "/home/choppy/TOC/.conda/envs/msc-thesis-2022/lib/python3.9/site-packages/imgaug/augmenters/imgcorruptlike.py:484: FutureWarning: `multichannel` is a deprecated argument name for `gaussian`. It will be removed in version 1.0. Please use `channel_axis` instead.\n",
      "  gaussian(np.array(x) / 255., sigma=sigma, multichannel=True) * 255)\n",
      "/home/choppy/TOC/.conda/envs/msc-thesis-2022/lib/python3.9/site-packages/imgaug/augmenters/imgcorruptlike.py:516: FutureWarning: `multichannel` is a deprecated argument name for `gaussian`. It will be removed in version 1.0. Please use `channel_axis` instead.\n",
      "  gaussian(x / 255., sigma=sigma, multichannel=True),\n",
      "/home/choppy/TOC/.conda/envs/msc-thesis-2022/lib/python3.9/site-packages/imagecorruptions/corruptions.py:188: FutureWarning: `multichannel` is a deprecated argument name for `gaussian`. It will be removed in version 1.0. Please use `channel_axis` instead.\n",
      "  x = gaussian(np.array(x) / 255., sigma=c, multichannel=True)\n",
      "/home/choppy/TOC/.conda/envs/msc-thesis-2022/lib/python3.9/site-packages/imgaug/augmenters/imgcorruptlike.py:484: FutureWarning: `multichannel` is a deprecated argument name for `gaussian`. It will be removed in version 1.0. Please use `channel_axis` instead.\n",
      "  gaussian(np.array(x) / 255., sigma=sigma, multichannel=True) * 255)\n",
      "/home/choppy/TOC/.conda/envs/msc-thesis-2022/lib/python3.9/site-packages/imgaug/augmenters/imgcorruptlike.py:516: FutureWarning: `multichannel` is a deprecated argument name for `gaussian`. It will be removed in version 1.0. Please use `channel_axis` instead.\n",
      "  gaussian(x / 255., sigma=sigma, multichannel=True),\n",
      "/home/choppy/TOC/.conda/envs/msc-thesis-2022/lib/python3.9/site-packages/imgaug/augmenters/imgcorruptlike.py:484: FutureWarning: `multichannel` is a deprecated argument name for `gaussian`. It will be removed in version 1.0. Please use `channel_axis` instead.\n",
      "  gaussian(np.array(x) / 255., sigma=sigma, multichannel=True) * 255)\n",
      "/home/choppy/TOC/.conda/envs/msc-thesis-2022/lib/python3.9/site-packages/imgaug/augmenters/imgcorruptlike.py:516: FutureWarning: `multichannel` is a deprecated argument name for `gaussian`. It will be removed in version 1.0. Please use `channel_axis` instead.\n",
      "  gaussian(x / 255., sigma=sigma, multichannel=True),\n",
      "/home/choppy/TOC/.conda/envs/msc-thesis-2022/lib/python3.9/site-packages/imagecorruptions/corruptions.py:188: FutureWarning: `multichannel` is a deprecated argument name for `gaussian`. It will be removed in version 1.0. Please use `channel_axis` instead.\n",
      "  x = gaussian(np.array(x) / 255., sigma=c, multichannel=True)\n",
      "/home/choppy/TOC/.conda/envs/msc-thesis-2022/lib/python3.9/site-packages/imagecorruptions/corruptions.py:188: FutureWarning: `multichannel` is a deprecated argument name for `gaussian`. It will be removed in version 1.0. Please use `channel_axis` instead.\n",
      "  x = gaussian(np.array(x) / 255., sigma=c, multichannel=True)\n",
      "/home/choppy/TOC/.conda/envs/msc-thesis-2022/lib/python3.9/site-packages/imagecorruptions/corruptions.py:188: FutureWarning: `multichannel` is a deprecated argument name for `gaussian`. It will be removed in version 1.0. Please use `channel_axis` instead.\n",
      "  x = gaussian(np.array(x) / 255., sigma=c, multichannel=True)\n",
      "2022-08-04 12:06:20.986688: I tensorflow/stream_executor/cuda/cuda_dnn.cc:368] Loaded cuDNN version 8401\n",
      "2022-08-04 12:06:21.465724: I tensorflow/core/platform/default/subprocess.cc:304] Start cannot spawn child process: No such file or directory\n",
      "2022-08-04 12:06:21.466166: I tensorflow/core/platform/default/subprocess.cc:304] Start cannot spawn child process: No such file or directory\n",
      "2022-08-04 12:06:21.466182: W tensorflow/stream_executor/gpu/asm_compiler.cc:80] Couldn't get ptxas version string: INTERNAL: Couldn't invoke ptxas --version\n",
      "2022-08-04 12:06:21.466530: I tensorflow/core/platform/default/subprocess.cc:304] Start cannot spawn child process: No such file or directory\n",
      "2022-08-04 12:06:21.466602: W tensorflow/stream_executor/gpu/redzone_allocator.cc:314] INTERNAL: Failed to launch ptxas\n",
      "Relying on driver to perform ptx compilation. \n",
      "Modify $PATH to customize ptxas location.\n",
      "This message will be only logged once.\n"
     ]
    },
    {
     "name": "stdout",
     "output_type": "stream",
     "text": [
      "  4/230 [..............................] - ETA: 23s - loss: 0.2145 - mae: 0.3193 - mse: 0.1375 - iou_metric: 0.3064  "
     ]
    },
    {
     "name": "stderr",
     "output_type": "stream",
     "text": [
      "/home/choppy/TOC/.conda/envs/msc-thesis-2022/lib/python3.9/site-packages/imagecorruptions/corruptions.py:188: FutureWarning: `multichannel` is a deprecated argument name for `gaussian`. It will be removed in version 1.0. Please use `channel_axis` instead.\n",
      "  x = gaussian(np.array(x) / 255., sigma=c, multichannel=True)\n",
      "/home/choppy/TOC/.conda/envs/msc-thesis-2022/lib/python3.9/site-packages/imgaug/augmenters/imgcorruptlike.py:484: FutureWarning: `multichannel` is a deprecated argument name for `gaussian`. It will be removed in version 1.0. Please use `channel_axis` instead.\n",
      "  gaussian(np.array(x) / 255., sigma=sigma, multichannel=True) * 255)\n"
     ]
    },
    {
     "name": "stdout",
     "output_type": "stream",
     "text": [
      "  5/230 [..............................] - ETA: 50s - loss: 0.2119 - mae: 0.3186 - mse: 0.1349 - iou_metric: 0.2988"
     ]
    },
    {
     "name": "stderr",
     "output_type": "stream",
     "text": [
      "/home/choppy/TOC/.conda/envs/msc-thesis-2022/lib/python3.9/site-packages/imgaug/augmenters/imgcorruptlike.py:516: FutureWarning: `multichannel` is a deprecated argument name for `gaussian`. It will be removed in version 1.0. Please use `channel_axis` instead.\n",
      "  gaussian(x / 255., sigma=sigma, multichannel=True),\n",
      "/home/choppy/TOC/.conda/envs/msc-thesis-2022/lib/python3.9/site-packages/imagecorruptions/corruptions.py:188: FutureWarning: `multichannel` is a deprecated argument name for `gaussian`. It will be removed in version 1.0. Please use `channel_axis` instead.\n",
      "  x = gaussian(np.array(x) / 255., sigma=c, multichannel=True)\n",
      "/home/choppy/TOC/.conda/envs/msc-thesis-2022/lib/python3.9/site-packages/imagecorruptions/corruptions.py:188: FutureWarning: `multichannel` is a deprecated argument name for `gaussian`. It will be removed in version 1.0. Please use `channel_axis` instead.\n",
      "  x = gaussian(np.array(x) / 255., sigma=c, multichannel=True)\n"
     ]
    },
    {
     "name": "stdout",
     "output_type": "stream",
     "text": [
      "  7/230 [..............................] - ETA: 49s - loss: 0.2076 - mae: 0.3106 - mse: 0.1306 - iou_metric: 0.3089"
     ]
    },
    {
     "name": "stderr",
     "output_type": "stream",
     "text": [
      "/home/choppy/TOC/.conda/envs/msc-thesis-2022/lib/python3.9/site-packages/imagecorruptions/corruptions.py:188: FutureWarning: `multichannel` is a deprecated argument name for `gaussian`. It will be removed in version 1.0. Please use `channel_axis` instead.\n",
      "  x = gaussian(np.array(x) / 255., sigma=c, multichannel=True)\n",
      "/home/choppy/TOC/.conda/envs/msc-thesis-2022/lib/python3.9/site-packages/imgaug/augmenters/imgcorruptlike.py:484: FutureWarning: `multichannel` is a deprecated argument name for `gaussian`. It will be removed in version 1.0. Please use `channel_axis` instead.\n",
      "  gaussian(np.array(x) / 255., sigma=sigma, multichannel=True) * 255)\n"
     ]
    },
    {
     "name": "stdout",
     "output_type": "stream",
     "text": [
      "  8/230 [>.............................] - ETA: 55s - loss: 0.2043 - mae: 0.3027 - mse: 0.1273 - iou_metric: 0.3221"
     ]
    },
    {
     "name": "stderr",
     "output_type": "stream",
     "text": [
      "/home/choppy/TOC/.conda/envs/msc-thesis-2022/lib/python3.9/site-packages/imgaug/augmenters/imgcorruptlike.py:516: FutureWarning: `multichannel` is a deprecated argument name for `gaussian`. It will be removed in version 1.0. Please use `channel_axis` instead.\n",
      "  gaussian(x / 255., sigma=sigma, multichannel=True),\n",
      "/home/choppy/TOC/.conda/envs/msc-thesis-2022/lib/python3.9/site-packages/imagecorruptions/corruptions.py:188: FutureWarning: `multichannel` is a deprecated argument name for `gaussian`. It will be removed in version 1.0. Please use `channel_axis` instead.\n",
      "  x = gaussian(np.array(x) / 255., sigma=c, multichannel=True)\n",
      "/home/choppy/TOC/.conda/envs/msc-thesis-2022/lib/python3.9/site-packages/imgaug/augmenters/imgcorruptlike.py:484: FutureWarning: `multichannel` is a deprecated argument name for `gaussian`. It will be removed in version 1.0. Please use `channel_axis` instead.\n",
      "  gaussian(np.array(x) / 255., sigma=sigma, multichannel=True) * 255)\n"
     ]
    },
    {
     "name": "stdout",
     "output_type": "stream",
     "text": [
      "  9/230 [>.............................] - ETA: 55s - loss: 0.1976 - mae: 0.2920 - mse: 0.1206 - iou_metric: 0.3378"
     ]
    },
    {
     "name": "stderr",
     "output_type": "stream",
     "text": [
      "/home/choppy/TOC/.conda/envs/msc-thesis-2022/lib/python3.9/site-packages/imgaug/augmenters/imgcorruptlike.py:516: FutureWarning: `multichannel` is a deprecated argument name for `gaussian`. It will be removed in version 1.0. Please use `channel_axis` instead.\n",
      "  gaussian(x / 255., sigma=sigma, multichannel=True),\n",
      "/home/choppy/TOC/.conda/envs/msc-thesis-2022/lib/python3.9/site-packages/imagecorruptions/corruptions.py:188: FutureWarning: `multichannel` is a deprecated argument name for `gaussian`. It will be removed in version 1.0. Please use `channel_axis` instead.\n",
      "  x = gaussian(np.array(x) / 255., sigma=c, multichannel=True)\n",
      "/home/choppy/TOC/.conda/envs/msc-thesis-2022/lib/python3.9/site-packages/imgaug/augmenters/imgcorruptlike.py:484: FutureWarning: `multichannel` is a deprecated argument name for `gaussian`. It will be removed in version 1.0. Please use `channel_axis` instead.\n",
      "  gaussian(np.array(x) / 255., sigma=sigma, multichannel=True) * 255)\n"
     ]
    },
    {
     "name": "stdout",
     "output_type": "stream",
     "text": [
      " 11/230 [>.............................] - ETA: 1:02 - loss: 0.1941 - mae: 0.2835 - mse: 0.1171 - iou_metric: 0.3491"
     ]
    },
    {
     "name": "stderr",
     "output_type": "stream",
     "text": [
      "/home/choppy/TOC/.conda/envs/msc-thesis-2022/lib/python3.9/site-packages/imgaug/augmenters/imgcorruptlike.py:516: FutureWarning: `multichannel` is a deprecated argument name for `gaussian`. It will be removed in version 1.0. Please use `channel_axis` instead.\n",
      "  gaussian(x / 255., sigma=sigma, multichannel=True),\n"
     ]
    },
    {
     "name": "stdout",
     "output_type": "stream",
     "text": [
      " 12/230 [>.............................] - ETA: 59s - loss: 0.1914 - mae: 0.2793 - mse: 0.1145 - iou_metric: 0.3535 "
     ]
    },
    {
     "name": "stderr",
     "output_type": "stream",
     "text": [
      "/home/choppy/TOC/.conda/envs/msc-thesis-2022/lib/python3.9/site-packages/imgaug/augmenters/imgcorruptlike.py:484: FutureWarning: `multichannel` is a deprecated argument name for `gaussian`. It will be removed in version 1.0. Please use `channel_axis` instead.\n",
      "  gaussian(np.array(x) / 255., sigma=sigma, multichannel=True) * 255)\n"
     ]
    },
    {
     "name": "stdout",
     "output_type": "stream",
     "text": [
      " 13/230 [>.............................] - ETA: 1:05 - loss: 0.1885 - mae: 0.2751 - mse: 0.1115 - iou_metric: 0.3610"
     ]
    },
    {
     "name": "stderr",
     "output_type": "stream",
     "text": [
      "/home/choppy/TOC/.conda/envs/msc-thesis-2022/lib/python3.9/site-packages/imgaug/augmenters/imgcorruptlike.py:516: FutureWarning: `multichannel` is a deprecated argument name for `gaussian`. It will be removed in version 1.0. Please use `channel_axis` instead.\n",
      "  gaussian(x / 255., sigma=sigma, multichannel=True),\n"
     ]
    },
    {
     "name": "stdout",
     "output_type": "stream",
     "text": [
      " 15/230 [>.............................] - ETA: 59s - loss: 0.1833 - mae: 0.2664 - mse: 0.1063 - iou_metric: 0.3740 "
     ]
    },
    {
     "name": "stderr",
     "output_type": "stream",
     "text": [
      "/home/choppy/TOC/.conda/envs/msc-thesis-2022/lib/python3.9/site-packages/imagecorruptions/corruptions.py:188: FutureWarning: `multichannel` is a deprecated argument name for `gaussian`. It will be removed in version 1.0. Please use `channel_axis` instead.\n",
      "  x = gaussian(np.array(x) / 255., sigma=c, multichannel=True)\n",
      "/home/choppy/TOC/.conda/envs/msc-thesis-2022/lib/python3.9/site-packages/imagecorruptions/corruptions.py:188: FutureWarning: `multichannel` is a deprecated argument name for `gaussian`. It will be removed in version 1.0. Please use `channel_axis` instead.\n",
      "  x = gaussian(np.array(x) / 255., sigma=c, multichannel=True)\n"
     ]
    },
    {
     "name": "stdout",
     "output_type": "stream",
     "text": [
      " 17/230 [=>............................] - ETA: 55s - loss: 0.1776 - mae: 0.2584 - mse: 0.1006 - iou_metric: 0.3819"
     ]
    },
    {
     "name": "stderr",
     "output_type": "stream",
     "text": [
      "/home/choppy/TOC/.conda/envs/msc-thesis-2022/lib/python3.9/site-packages/imgaug/augmenters/imgcorruptlike.py:484: FutureWarning: `multichannel` is a deprecated argument name for `gaussian`. It will be removed in version 1.0. Please use `channel_axis` instead.\n",
      "  gaussian(np.array(x) / 255., sigma=sigma, multichannel=True) * 255)\n"
     ]
    },
    {
     "name": "stdout",
     "output_type": "stream",
     "text": [
      " 19/230 [=>............................] - ETA: 52s - loss: 0.1754 - mae: 0.2534 - mse: 0.0984 - iou_metric: 0.3901"
     ]
    },
    {
     "name": "stderr",
     "output_type": "stream",
     "text": [
      "/home/choppy/TOC/.conda/envs/msc-thesis-2022/lib/python3.9/site-packages/imgaug/augmenters/imgcorruptlike.py:516: FutureWarning: `multichannel` is a deprecated argument name for `gaussian`. It will be removed in version 1.0. Please use `channel_axis` instead.\n",
      "  gaussian(x / 255., sigma=sigma, multichannel=True),\n",
      "/home/choppy/TOC/.conda/envs/msc-thesis-2022/lib/python3.9/site-packages/imgaug/augmenters/imgcorruptlike.py:484: FutureWarning: `multichannel` is a deprecated argument name for `gaussian`. It will be removed in version 1.0. Please use `channel_axis` instead.\n",
      "  gaussian(np.array(x) / 255., sigma=sigma, multichannel=True) * 255)\n"
     ]
    },
    {
     "name": "stdout",
     "output_type": "stream",
     "text": [
      " 20/230 [=>............................] - ETA: 54s - loss: 0.1733 - mae: 0.2506 - mse: 0.0963 - iou_metric: 0.3929"
     ]
    },
    {
     "name": "stderr",
     "output_type": "stream",
     "text": [
      "/home/choppy/TOC/.conda/envs/msc-thesis-2022/lib/python3.9/site-packages/imgaug/augmenters/imgcorruptlike.py:516: FutureWarning: `multichannel` is a deprecated argument name for `gaussian`. It will be removed in version 1.0. Please use `channel_axis` instead.\n",
      "  gaussian(x / 255., sigma=sigma, multichannel=True),\n",
      "/home/choppy/TOC/.conda/envs/msc-thesis-2022/lib/python3.9/site-packages/imagecorruptions/corruptions.py:188: FutureWarning: `multichannel` is a deprecated argument name for `gaussian`. It will be removed in version 1.0. Please use `channel_axis` instead.\n",
      "  x = gaussian(np.array(x) / 255., sigma=c, multichannel=True)\n",
      "/home/choppy/TOC/.conda/envs/msc-thesis-2022/lib/python3.9/site-packages/imagecorruptions/corruptions.py:188: FutureWarning: `multichannel` is a deprecated argument name for `gaussian`. It will be removed in version 1.0. Please use `channel_axis` instead.\n",
      "  x = gaussian(np.array(x) / 255., sigma=c, multichannel=True)\n"
     ]
    },
    {
     "name": "stdout",
     "output_type": "stream",
     "text": [
      " 22/230 [=>............................] - ETA: 52s - loss: 0.1710 - mae: 0.2471 - mse: 0.0940 - iou_metric: 0.3967"
     ]
    },
    {
     "name": "stderr",
     "output_type": "stream",
     "text": [
      "/home/choppy/TOC/.conda/envs/msc-thesis-2022/lib/python3.9/site-packages/imagecorruptions/corruptions.py:188: FutureWarning: `multichannel` is a deprecated argument name for `gaussian`. It will be removed in version 1.0. Please use `channel_axis` instead.\n",
      "  x = gaussian(np.array(x) / 255., sigma=c, multichannel=True)\n",
      "/home/choppy/TOC/.conda/envs/msc-thesis-2022/lib/python3.9/site-packages/imagecorruptions/corruptions.py:188: FutureWarning: `multichannel` is a deprecated argument name for `gaussian`. It will be removed in version 1.0. Please use `channel_axis` instead.\n",
      "  x = gaussian(np.array(x) / 255., sigma=c, multichannel=True)\n"
     ]
    },
    {
     "name": "stdout",
     "output_type": "stream",
     "text": [
      " 23/230 [==>...........................] - ETA: 53s - loss: 0.1686 - mae: 0.2421 - mse: 0.0916 - iou_metric: 0.4056"
     ]
    },
    {
     "name": "stderr",
     "output_type": "stream",
     "text": [
      "/home/choppy/TOC/.conda/envs/msc-thesis-2022/lib/python3.9/site-packages/imagecorruptions/corruptions.py:188: FutureWarning: `multichannel` is a deprecated argument name for `gaussian`. It will be removed in version 1.0. Please use `channel_axis` instead.\n",
      "  x = gaussian(np.array(x) / 255., sigma=c, multichannel=True)\n",
      "/home/choppy/TOC/.conda/envs/msc-thesis-2022/lib/python3.9/site-packages/imagecorruptions/corruptions.py:188: FutureWarning: `multichannel` is a deprecated argument name for `gaussian`. It will be removed in version 1.0. Please use `channel_axis` instead.\n",
      "  x = gaussian(np.array(x) / 255., sigma=c, multichannel=True)\n",
      "/home/choppy/TOC/.conda/envs/msc-thesis-2022/lib/python3.9/site-packages/imgaug/augmenters/imgcorruptlike.py:484: FutureWarning: `multichannel` is a deprecated argument name for `gaussian`. It will be removed in version 1.0. Please use `channel_axis` instead.\n",
      "  gaussian(np.array(x) / 255., sigma=sigma, multichannel=True) * 255)\n"
     ]
    },
    {
     "name": "stdout",
     "output_type": "stream",
     "text": [
      " 25/230 [==>...........................] - ETA: 51s - loss: 0.1657 - mae: 0.2366 - mse: 0.0887 - iou_metric: 0.4167"
     ]
    },
    {
     "name": "stderr",
     "output_type": "stream",
     "text": [
      "/home/choppy/TOC/.conda/envs/msc-thesis-2022/lib/python3.9/site-packages/imgaug/augmenters/imgcorruptlike.py:516: FutureWarning: `multichannel` is a deprecated argument name for `gaussian`. It will be removed in version 1.0. Please use `channel_axis` instead.\n",
      "  gaussian(x / 255., sigma=sigma, multichannel=True),\n",
      "/home/choppy/TOC/.conda/envs/msc-thesis-2022/lib/python3.9/site-packages/imgaug/augmenters/imgcorruptlike.py:484: FutureWarning: `multichannel` is a deprecated argument name for `gaussian`. It will be removed in version 1.0. Please use `channel_axis` instead.\n",
      "  gaussian(np.array(x) / 255., sigma=sigma, multichannel=True) * 255)\n",
      "/home/choppy/TOC/.conda/envs/msc-thesis-2022/lib/python3.9/site-packages/imgaug/augmenters/imgcorruptlike.py:516: FutureWarning: `multichannel` is a deprecated argument name for `gaussian`. It will be removed in version 1.0. Please use `channel_axis` instead.\n",
      "  gaussian(x / 255., sigma=sigma, multichannel=True),\n"
     ]
    },
    {
     "name": "stdout",
     "output_type": "stream",
     "text": [
      " 29/230 [==>...........................] - ETA: 49s - loss: 0.1589 - mae: 0.2253 - mse: 0.0820 - iou_metric: 0.4368"
     ]
    },
    {
     "name": "stderr",
     "output_type": "stream",
     "text": [
      "/home/choppy/TOC/.conda/envs/msc-thesis-2022/lib/python3.9/site-packages/imgaug/augmenters/imgcorruptlike.py:484: FutureWarning: `multichannel` is a deprecated argument name for `gaussian`. It will be removed in version 1.0. Please use `channel_axis` instead.\n",
      "  gaussian(np.array(x) / 255., sigma=sigma, multichannel=True) * 255)\n"
     ]
    },
    {
     "name": "stdout",
     "output_type": "stream",
     "text": [
      " 30/230 [==>...........................] - ETA: 51s - loss: 0.1571 - mae: 0.2225 - mse: 0.0801 - iou_metric: 0.4426"
     ]
    },
    {
     "name": "stderr",
     "output_type": "stream",
     "text": [
      "/home/choppy/TOC/.conda/envs/msc-thesis-2022/lib/python3.9/site-packages/imgaug/augmenters/imgcorruptlike.py:516: FutureWarning: `multichannel` is a deprecated argument name for `gaussian`. It will be removed in version 1.0. Please use `channel_axis` instead.\n",
      "  gaussian(x / 255., sigma=sigma, multichannel=True),\n",
      "/home/choppy/TOC/.conda/envs/msc-thesis-2022/lib/python3.9/site-packages/imgaug/augmenters/imgcorruptlike.py:484: FutureWarning: `multichannel` is a deprecated argument name for `gaussian`. It will be removed in version 1.0. Please use `channel_axis` instead.\n",
      "  gaussian(np.array(x) / 255., sigma=sigma, multichannel=True) * 255)\n"
     ]
    },
    {
     "name": "stdout",
     "output_type": "stream",
     "text": [
      " 32/230 [===>..........................] - ETA: 50s - loss: 0.1547 - mae: 0.2189 - mse: 0.0777 - iou_metric: 0.4486"
     ]
    },
    {
     "name": "stderr",
     "output_type": "stream",
     "text": [
      "/home/choppy/TOC/.conda/envs/msc-thesis-2022/lib/python3.9/site-packages/imgaug/augmenters/imgcorruptlike.py:516: FutureWarning: `multichannel` is a deprecated argument name for `gaussian`. It will be removed in version 1.0. Please use `channel_axis` instead.\n",
      "  gaussian(x / 255., sigma=sigma, multichannel=True),\n"
     ]
    },
    {
     "name": "stdout",
     "output_type": "stream",
     "text": [
      " 33/230 [===>..........................] - ETA: 50s - loss: 0.1538 - mae: 0.2173 - mse: 0.0768 - iou_metric: 0.4522"
     ]
    },
    {
     "name": "stderr",
     "output_type": "stream",
     "text": [
      "/home/choppy/TOC/.conda/envs/msc-thesis-2022/lib/python3.9/site-packages/imgaug/augmenters/imgcorruptlike.py:484: FutureWarning: `multichannel` is a deprecated argument name for `gaussian`. It will be removed in version 1.0. Please use `channel_axis` instead.\n",
      "  gaussian(np.array(x) / 255., sigma=sigma, multichannel=True) * 255)\n",
      "/home/choppy/TOC/.conda/envs/msc-thesis-2022/lib/python3.9/site-packages/imgaug/augmenters/imgcorruptlike.py:516: FutureWarning: `multichannel` is a deprecated argument name for `gaussian`. It will be removed in version 1.0. Please use `channel_axis` instead.\n",
      "  gaussian(x / 255., sigma=sigma, multichannel=True),\n"
     ]
    },
    {
     "name": "stdout",
     "output_type": "stream",
     "text": [
      " 35/230 [===>..........................] - ETA: 48s - loss: 0.1523 - mae: 0.2147 - mse: 0.0753 - iou_metric: 0.4585"
     ]
    },
    {
     "name": "stderr",
     "output_type": "stream",
     "text": [
      "/home/choppy/TOC/.conda/envs/msc-thesis-2022/lib/python3.9/site-packages/imagecorruptions/corruptions.py:188: FutureWarning: `multichannel` is a deprecated argument name for `gaussian`. It will be removed in version 1.0. Please use `channel_axis` instead.\n",
      "  x = gaussian(np.array(x) / 255., sigma=c, multichannel=True)\n",
      "/home/choppy/TOC/.conda/envs/msc-thesis-2022/lib/python3.9/site-packages/imagecorruptions/corruptions.py:188: FutureWarning: `multichannel` is a deprecated argument name for `gaussian`. It will be removed in version 1.0. Please use `channel_axis` instead.\n",
      "  x = gaussian(np.array(x) / 255., sigma=c, multichannel=True)\n"
     ]
    },
    {
     "name": "stdout",
     "output_type": "stream",
     "text": [
      " 39/230 [====>.........................] - ETA: 44s - loss: 0.1489 - mae: 0.2086 - mse: 0.0719 - iou_metric: 0.4702"
     ]
    },
    {
     "name": "stderr",
     "output_type": "stream",
     "text": [
      "/home/choppy/TOC/.conda/envs/msc-thesis-2022/lib/python3.9/site-packages/imagecorruptions/corruptions.py:188: FutureWarning: `multichannel` is a deprecated argument name for `gaussian`. It will be removed in version 1.0. Please use `channel_axis` instead.\n",
      "  x = gaussian(np.array(x) / 255., sigma=c, multichannel=True)\n",
      "/home/choppy/TOC/.conda/envs/msc-thesis-2022/lib/python3.9/site-packages/imagecorruptions/corruptions.py:188: FutureWarning: `multichannel` is a deprecated argument name for `gaussian`. It will be removed in version 1.0. Please use `channel_axis` instead.\n",
      "  x = gaussian(np.array(x) / 255., sigma=c, multichannel=True)\n",
      "/home/choppy/TOC/.conda/envs/msc-thesis-2022/lib/python3.9/site-packages/imgaug/augmenters/imgcorruptlike.py:484: FutureWarning: `multichannel` is a deprecated argument name for `gaussian`. It will be removed in version 1.0. Please use `channel_axis` instead.\n",
      "  gaussian(np.array(x) / 255., sigma=sigma, multichannel=True) * 255)\n"
     ]
    },
    {
     "name": "stdout",
     "output_type": "stream",
     "text": [
      " 40/230 [====>.........................] - ETA: 45s - loss: 0.1478 - mae: 0.2067 - mse: 0.0709 - iou_metric: 0.4737"
     ]
    },
    {
     "name": "stderr",
     "output_type": "stream",
     "text": [
      "/home/choppy/TOC/.conda/envs/msc-thesis-2022/lib/python3.9/site-packages/imgaug/augmenters/imgcorruptlike.py:516: FutureWarning: `multichannel` is a deprecated argument name for `gaussian`. It will be removed in version 1.0. Please use `channel_axis` instead.\n",
      "  gaussian(x / 255., sigma=sigma, multichannel=True),\n",
      "/home/choppy/TOC/.conda/envs/msc-thesis-2022/lib/python3.9/site-packages/imagecorruptions/corruptions.py:188: FutureWarning: `multichannel` is a deprecated argument name for `gaussian`. It will be removed in version 1.0. Please use `channel_axis` instead.\n",
      "  x = gaussian(np.array(x) / 255., sigma=c, multichannel=True)\n"
     ]
    },
    {
     "name": "stdout",
     "output_type": "stream",
     "text": [
      " 45/230 [====>.........................] - ETA: 41s - loss: 0.1432 - mae: 0.1983 - mse: 0.0662 - iou_metric: 0.4907"
     ]
    },
    {
     "name": "stderr",
     "output_type": "stream",
     "text": [
      "/home/choppy/TOC/.conda/envs/msc-thesis-2022/lib/python3.9/site-packages/imagecorruptions/corruptions.py:188: FutureWarning: `multichannel` is a deprecated argument name for `gaussian`. It will be removed in version 1.0. Please use `channel_axis` instead.\n",
      "  x = gaussian(np.array(x) / 255., sigma=c, multichannel=True)\n",
      "/home/choppy/TOC/.conda/envs/msc-thesis-2022/lib/python3.9/site-packages/imagecorruptions/corruptions.py:188: FutureWarning: `multichannel` is a deprecated argument name for `gaussian`. It will be removed in version 1.0. Please use `channel_axis` instead.\n",
      "  x = gaussian(np.array(x) / 255., sigma=c, multichannel=True)\n"
     ]
    },
    {
     "name": "stdout",
     "output_type": "stream",
     "text": [
      " 46/230 [=====>........................] - ETA: 40s - loss: 0.1429 - mae: 0.1981 - mse: 0.0659 - iou_metric: 0.4915"
     ]
    },
    {
     "name": "stderr",
     "output_type": "stream",
     "text": [
      "/home/choppy/TOC/.conda/envs/msc-thesis-2022/lib/python3.9/site-packages/imgaug/augmenters/imgcorruptlike.py:484: FutureWarning: `multichannel` is a deprecated argument name for `gaussian`. It will be removed in version 1.0. Please use `channel_axis` instead.\n",
      "  gaussian(np.array(x) / 255., sigma=sigma, multichannel=True) * 255)\n"
     ]
    },
    {
     "name": "stdout",
     "output_type": "stream",
     "text": [
      " 48/230 [=====>........................] - ETA: 40s - loss: 0.1417 - mae: 0.1960 - mse: 0.0647 - iou_metric: 0.4958"
     ]
    },
    {
     "name": "stderr",
     "output_type": "stream",
     "text": [
      "/home/choppy/TOC/.conda/envs/msc-thesis-2022/lib/python3.9/site-packages/imgaug/augmenters/imgcorruptlike.py:516: FutureWarning: `multichannel` is a deprecated argument name for `gaussian`. It will be removed in version 1.0. Please use `channel_axis` instead.\n",
      "  gaussian(x / 255., sigma=sigma, multichannel=True),\n",
      "/home/choppy/TOC/.conda/envs/msc-thesis-2022/lib/python3.9/site-packages/imgaug/augmenters/imgcorruptlike.py:484: FutureWarning: `multichannel` is a deprecated argument name for `gaussian`. It will be removed in version 1.0. Please use `channel_axis` instead.\n",
      "  gaussian(np.array(x) / 255., sigma=sigma, multichannel=True) * 255)\n"
     ]
    },
    {
     "name": "stdout",
     "output_type": "stream",
     "text": [
      " 50/230 [=====>........................] - ETA: 39s - loss: 0.1407 - mae: 0.1946 - mse: 0.0637 - iou_metric: 0.4980"
     ]
    },
    {
     "name": "stderr",
     "output_type": "stream",
     "text": [
      "/home/choppy/TOC/.conda/envs/msc-thesis-2022/lib/python3.9/site-packages/imgaug/augmenters/imgcorruptlike.py:516: FutureWarning: `multichannel` is a deprecated argument name for `gaussian`. It will be removed in version 1.0. Please use `channel_axis` instead.\n",
      "  gaussian(x / 255., sigma=sigma, multichannel=True),\n",
      "/home/choppy/TOC/.conda/envs/msc-thesis-2022/lib/python3.9/site-packages/imagecorruptions/corruptions.py:188: FutureWarning: `multichannel` is a deprecated argument name for `gaussian`. It will be removed in version 1.0. Please use `channel_axis` instead.\n",
      "  x = gaussian(np.array(x) / 255., sigma=c, multichannel=True)\n"
     ]
    },
    {
     "name": "stdout",
     "output_type": "stream",
     "text": [
      " 53/230 [=====>........................] - ETA: 37s - loss: 0.1392 - mae: 0.1917 - mse: 0.0623 - iou_metric: 0.5044"
     ]
    },
    {
     "name": "stderr",
     "output_type": "stream",
     "text": [
      "/home/choppy/TOC/.conda/envs/msc-thesis-2022/lib/python3.9/site-packages/imagecorruptions/corruptions.py:188: FutureWarning: `multichannel` is a deprecated argument name for `gaussian`. It will be removed in version 1.0. Please use `channel_axis` instead.\n",
      "  x = gaussian(np.array(x) / 255., sigma=c, multichannel=True)\n",
      "/home/choppy/TOC/.conda/envs/msc-thesis-2022/lib/python3.9/site-packages/imagecorruptions/corruptions.py:188: FutureWarning: `multichannel` is a deprecated argument name for `gaussian`. It will be removed in version 1.0. Please use `channel_axis` instead.\n",
      "  x = gaussian(np.array(x) / 255., sigma=c, multichannel=True)\n"
     ]
    },
    {
     "name": "stdout",
     "output_type": "stream",
     "text": [
      " 54/230 [======>.......................] - ETA: 37s - loss: 0.1389 - mae: 0.1911 - mse: 0.0619 - iou_metric: 0.5057"
     ]
    },
    {
     "name": "stderr",
     "output_type": "stream",
     "text": [
      "/home/choppy/TOC/.conda/envs/msc-thesis-2022/lib/python3.9/site-packages/imgaug/augmenters/imgcorruptlike.py:484: FutureWarning: `multichannel` is a deprecated argument name for `gaussian`. It will be removed in version 1.0. Please use `channel_axis` instead.\n",
      "  gaussian(np.array(x) / 255., sigma=sigma, multichannel=True) * 255)\n",
      "/home/choppy/TOC/.conda/envs/msc-thesis-2022/lib/python3.9/site-packages/imgaug/augmenters/imgcorruptlike.py:516: FutureWarning: `multichannel` is a deprecated argument name for `gaussian`. It will be removed in version 1.0. Please use `channel_axis` instead.\n",
      "  gaussian(x / 255., sigma=sigma, multichannel=True),\n",
      "/home/choppy/TOC/.conda/envs/msc-thesis-2022/lib/python3.9/site-packages/imgaug/augmenters/imgcorruptlike.py:484: FutureWarning: `multichannel` is a deprecated argument name for `gaussian`. It will be removed in version 1.0. Please use `channel_axis` instead.\n",
      "  gaussian(np.array(x) / 255., sigma=sigma, multichannel=True) * 255)\n"
     ]
    },
    {
     "name": "stdout",
     "output_type": "stream",
     "text": [
      " 55/230 [======>.......................] - ETA: 39s - loss: 0.1383 - mae: 0.1905 - mse: 0.0614 - iou_metric: 0.5066"
     ]
    },
    {
     "name": "stderr",
     "output_type": "stream",
     "text": [
      "/home/choppy/TOC/.conda/envs/msc-thesis-2022/lib/python3.9/site-packages/imgaug/augmenters/imgcorruptlike.py:516: FutureWarning: `multichannel` is a deprecated argument name for `gaussian`. It will be removed in version 1.0. Please use `channel_axis` instead.\n",
      "  gaussian(x / 255., sigma=sigma, multichannel=True),\n",
      "/home/choppy/TOC/.conda/envs/msc-thesis-2022/lib/python3.9/site-packages/imagecorruptions/corruptions.py:188: FutureWarning: `multichannel` is a deprecated argument name for `gaussian`. It will be removed in version 1.0. Please use `channel_axis` instead.\n",
      "  x = gaussian(np.array(x) / 255., sigma=c, multichannel=True)\n"
     ]
    },
    {
     "name": "stdout",
     "output_type": "stream",
     "text": [
      " 56/230 [======>.......................] - ETA: 38s - loss: 0.1380 - mae: 0.1900 - mse: 0.0611 - iou_metric: 0.5078"
     ]
    },
    {
     "name": "stderr",
     "output_type": "stream",
     "text": [
      "/home/choppy/TOC/.conda/envs/msc-thesis-2022/lib/python3.9/site-packages/imagecorruptions/corruptions.py:188: FutureWarning: `multichannel` is a deprecated argument name for `gaussian`. It will be removed in version 1.0. Please use `channel_axis` instead.\n",
      "  x = gaussian(np.array(x) / 255., sigma=c, multichannel=True)\n"
     ]
    },
    {
     "name": "stdout",
     "output_type": "stream",
     "text": [
      " 57/230 [======>.......................] - ETA: 38s - loss: 0.1377 - mae: 0.1897 - mse: 0.0608 - iou_metric: 0.5080"
     ]
    },
    {
     "name": "stderr",
     "output_type": "stream",
     "text": [
      "/home/choppy/TOC/.conda/envs/msc-thesis-2022/lib/python3.9/site-packages/imgaug/augmenters/imgcorruptlike.py:484: FutureWarning: `multichannel` is a deprecated argument name for `gaussian`. It will be removed in version 1.0. Please use `channel_axis` instead.\n",
      "  gaussian(np.array(x) / 255., sigma=sigma, multichannel=True) * 255)\n",
      "/home/choppy/TOC/.conda/envs/msc-thesis-2022/lib/python3.9/site-packages/imgaug/augmenters/imgcorruptlike.py:516: FutureWarning: `multichannel` is a deprecated argument name for `gaussian`. It will be removed in version 1.0. Please use `channel_axis` instead.\n",
      "  gaussian(x / 255., sigma=sigma, multichannel=True),\n"
     ]
    },
    {
     "name": "stdout",
     "output_type": "stream",
     "text": [
      " 60/230 [======>.......................] - ETA: 37s - loss: 0.1363 - mae: 0.1872 - mse: 0.0594 - iou_metric: 0.5126"
     ]
    },
    {
     "name": "stderr",
     "output_type": "stream",
     "text": [
      "/home/choppy/TOC/.conda/envs/msc-thesis-2022/lib/python3.9/site-packages/imgaug/augmenters/imgcorruptlike.py:484: FutureWarning: `multichannel` is a deprecated argument name for `gaussian`. It will be removed in version 1.0. Please use `channel_axis` instead.\n",
      "  gaussian(np.array(x) / 255., sigma=sigma, multichannel=True) * 255)\n",
      "/home/choppy/TOC/.conda/envs/msc-thesis-2022/lib/python3.9/site-packages/imgaug/augmenters/imgcorruptlike.py:516: FutureWarning: `multichannel` is a deprecated argument name for `gaussian`. It will be removed in version 1.0. Please use `channel_axis` instead.\n",
      "  gaussian(x / 255., sigma=sigma, multichannel=True),\n"
     ]
    },
    {
     "name": "stdout",
     "output_type": "stream",
     "text": [
      " 61/230 [======>.......................] - ETA: 37s - loss: 0.1357 - mae: 0.1864 - mse: 0.0588 - iou_metric: 0.5137"
     ]
    },
    {
     "name": "stderr",
     "output_type": "stream",
     "text": [
      "/home/choppy/TOC/.conda/envs/msc-thesis-2022/lib/python3.9/site-packages/imgaug/augmenters/imgcorruptlike.py:484: FutureWarning: `multichannel` is a deprecated argument name for `gaussian`. It will be removed in version 1.0. Please use `channel_axis` instead.\n",
      "  gaussian(np.array(x) / 255., sigma=sigma, multichannel=True) * 255)\n"
     ]
    },
    {
     "name": "stdout",
     "output_type": "stream",
     "text": [
      " 62/230 [=======>......................] - ETA: 37s - loss: 0.1350 - mae: 0.1848 - mse: 0.0580 - iou_metric: 0.5169"
     ]
    },
    {
     "name": "stderr",
     "output_type": "stream",
     "text": [
      "/home/choppy/TOC/.conda/envs/msc-thesis-2022/lib/python3.9/site-packages/imgaug/augmenters/imgcorruptlike.py:516: FutureWarning: `multichannel` is a deprecated argument name for `gaussian`. It will be removed in version 1.0. Please use `channel_axis` instead.\n",
      "  gaussian(x / 255., sigma=sigma, multichannel=True),\n",
      "/home/choppy/TOC/.conda/envs/msc-thesis-2022/lib/python3.9/site-packages/imagecorruptions/corruptions.py:188: FutureWarning: `multichannel` is a deprecated argument name for `gaussian`. It will be removed in version 1.0. Please use `channel_axis` instead.\n",
      "  x = gaussian(np.array(x) / 255., sigma=c, multichannel=True)\n",
      "/home/choppy/TOC/.conda/envs/msc-thesis-2022/lib/python3.9/site-packages/imgaug/augmenters/imgcorruptlike.py:484: FutureWarning: `multichannel` is a deprecated argument name for `gaussian`. It will be removed in version 1.0. Please use `channel_axis` instead.\n",
      "  gaussian(np.array(x) / 255., sigma=sigma, multichannel=True) * 255)\n",
      "/home/choppy/TOC/.conda/envs/msc-thesis-2022/lib/python3.9/site-packages/imgaug/augmenters/imgcorruptlike.py:516: FutureWarning: `multichannel` is a deprecated argument name for `gaussian`. It will be removed in version 1.0. Please use `channel_axis` instead.\n",
      "  gaussian(x / 255., sigma=sigma, multichannel=True),\n",
      "/home/choppy/TOC/.conda/envs/msc-thesis-2022/lib/python3.9/site-packages/imgaug/augmenters/imgcorruptlike.py:484: FutureWarning: `multichannel` is a deprecated argument name for `gaussian`. It will be removed in version 1.0. Please use `channel_axis` instead.\n",
      "  gaussian(np.array(x) / 255., sigma=sigma, multichannel=True) * 255)\n"
     ]
    },
    {
     "name": "stdout",
     "output_type": "stream",
     "text": [
      " 63/230 [=======>......................] - ETA: 39s - loss: 0.1344 - mae: 0.1840 - mse: 0.0575 - iou_metric: 0.5187"
     ]
    },
    {
     "name": "stderr",
     "output_type": "stream",
     "text": [
      "/home/choppy/TOC/.conda/envs/msc-thesis-2022/lib/python3.9/site-packages/imgaug/augmenters/imgcorruptlike.py:516: FutureWarning: `multichannel` is a deprecated argument name for `gaussian`. It will be removed in version 1.0. Please use `channel_axis` instead.\n",
      "  gaussian(x / 255., sigma=sigma, multichannel=True),\n",
      "/home/choppy/TOC/.conda/envs/msc-thesis-2022/lib/python3.9/site-packages/imgaug/augmenters/imgcorruptlike.py:484: FutureWarning: `multichannel` is a deprecated argument name for `gaussian`. It will be removed in version 1.0. Please use `channel_axis` instead.\n",
      "  gaussian(np.array(x) / 255., sigma=sigma, multichannel=True) * 255)\n",
      "/home/choppy/TOC/.conda/envs/msc-thesis-2022/lib/python3.9/site-packages/imgaug/augmenters/imgcorruptlike.py:516: FutureWarning: `multichannel` is a deprecated argument name for `gaussian`. It will be removed in version 1.0. Please use `channel_axis` instead.\n",
      "  gaussian(x / 255., sigma=sigma, multichannel=True),\n",
      "/home/choppy/TOC/.conda/envs/msc-thesis-2022/lib/python3.9/site-packages/imagecorruptions/corruptions.py:188: FutureWarning: `multichannel` is a deprecated argument name for `gaussian`. It will be removed in version 1.0. Please use `channel_axis` instead.\n",
      "  x = gaussian(np.array(x) / 255., sigma=c, multichannel=True)\n",
      "/home/choppy/TOC/.conda/envs/msc-thesis-2022/lib/python3.9/site-packages/imagecorruptions/corruptions.py:188: FutureWarning: `multichannel` is a deprecated argument name for `gaussian`. It will be removed in version 1.0. Please use `channel_axis` instead.\n",
      "  x = gaussian(np.array(x) / 255., sigma=c, multichannel=True)\n"
     ]
    },
    {
     "name": "stdout",
     "output_type": "stream",
     "text": [
      " 64/230 [=======>......................] - ETA: 40s - loss: 0.1340 - mae: 0.1835 - mse: 0.0571 - iou_metric: 0.5196"
     ]
    },
    {
     "name": "stderr",
     "output_type": "stream",
     "text": [
      "/home/choppy/TOC/.conda/envs/msc-thesis-2022/lib/python3.9/site-packages/imgaug/augmenters/imgcorruptlike.py:484: FutureWarning: `multichannel` is a deprecated argument name for `gaussian`. It will be removed in version 1.0. Please use `channel_axis` instead.\n",
      "  gaussian(np.array(x) / 255., sigma=sigma, multichannel=True) * 255)\n"
     ]
    },
    {
     "name": "stdout",
     "output_type": "stream",
     "text": [
      " 66/230 [=======>......................] - ETA: 39s - loss: 0.1332 - mae: 0.1821 - mse: 0.0562 - iou_metric: 0.5222"
     ]
    },
    {
     "name": "stderr",
     "output_type": "stream",
     "text": [
      "/home/choppy/TOC/.conda/envs/msc-thesis-2022/lib/python3.9/site-packages/imgaug/augmenters/imgcorruptlike.py:516: FutureWarning: `multichannel` is a deprecated argument name for `gaussian`. It will be removed in version 1.0. Please use `channel_axis` instead.\n",
      "  gaussian(x / 255., sigma=sigma, multichannel=True),\n"
     ]
    },
    {
     "name": "stdout",
     "output_type": "stream",
     "text": [
      " 70/230 [========>.....................] - ETA: 37s - loss: 0.1317 - mae: 0.1796 - mse: 0.0548 - iou_metric: 0.5273"
     ]
    },
    {
     "name": "stderr",
     "output_type": "stream",
     "text": [
      "/home/choppy/TOC/.conda/envs/msc-thesis-2022/lib/python3.9/site-packages/imgaug/augmenters/imgcorruptlike.py:484: FutureWarning: `multichannel` is a deprecated argument name for `gaussian`. It will be removed in version 1.0. Please use `channel_axis` instead.\n",
      "  gaussian(np.array(x) / 255., sigma=sigma, multichannel=True) * 255)\n",
      "/home/choppy/TOC/.conda/envs/msc-thesis-2022/lib/python3.9/site-packages/imgaug/augmenters/imgcorruptlike.py:516: FutureWarning: `multichannel` is a deprecated argument name for `gaussian`. It will be removed in version 1.0. Please use `channel_axis` instead.\n",
      "  gaussian(x / 255., sigma=sigma, multichannel=True),\n"
     ]
    },
    {
     "name": "stdout",
     "output_type": "stream",
     "text": [
      " 72/230 [========>.....................] - ETA: 36s - loss: 0.1307 - mae: 0.1772 - mse: 0.0538 - iou_metric: 0.5326"
     ]
    },
    {
     "name": "stderr",
     "output_type": "stream",
     "text": [
      "/home/choppy/TOC/.conda/envs/msc-thesis-2022/lib/python3.9/site-packages/imgaug/augmenters/imgcorruptlike.py:484: FutureWarning: `multichannel` is a deprecated argument name for `gaussian`. It will be removed in version 1.0. Please use `channel_axis` instead.\n",
      "  gaussian(np.array(x) / 255., sigma=sigma, multichannel=True) * 255)\n"
     ]
    },
    {
     "name": "stdout",
     "output_type": "stream",
     "text": [
      " 73/230 [========>.....................] - ETA: 37s - loss: 0.1306 - mae: 0.1768 - mse: 0.0536 - iou_metric: 0.5334"
     ]
    },
    {
     "name": "stderr",
     "output_type": "stream",
     "text": [
      "/home/choppy/TOC/.conda/envs/msc-thesis-2022/lib/python3.9/site-packages/imgaug/augmenters/imgcorruptlike.py:516: FutureWarning: `multichannel` is a deprecated argument name for `gaussian`. It will be removed in version 1.0. Please use `channel_axis` instead.\n",
      "  gaussian(x / 255., sigma=sigma, multichannel=True),\n",
      "/home/choppy/TOC/.conda/envs/msc-thesis-2022/lib/python3.9/site-packages/imagecorruptions/corruptions.py:188: FutureWarning: `multichannel` is a deprecated argument name for `gaussian`. It will be removed in version 1.0. Please use `channel_axis` instead.\n",
      "  x = gaussian(np.array(x) / 255., sigma=c, multichannel=True)\n",
      "/home/choppy/TOC/.conda/envs/msc-thesis-2022/lib/python3.9/site-packages/imagecorruptions/corruptions.py:188: FutureWarning: `multichannel` is a deprecated argument name for `gaussian`. It will be removed in version 1.0. Please use `channel_axis` instead.\n",
      "  x = gaussian(np.array(x) / 255., sigma=c, multichannel=True)\n",
      "/home/choppy/TOC/.conda/envs/msc-thesis-2022/lib/python3.9/site-packages/imgaug/augmenters/imgcorruptlike.py:484: FutureWarning: `multichannel` is a deprecated argument name for `gaussian`. It will be removed in version 1.0. Please use `channel_axis` instead.\n",
      "  gaussian(np.array(x) / 255., sigma=sigma, multichannel=True) * 255)\n"
     ]
    },
    {
     "name": "stdout",
     "output_type": "stream",
     "text": [
      " 76/230 [========>.....................] - ETA: 36s - loss: 0.1297 - mae: 0.1754 - mse: 0.0528 - iou_metric: 0.5358"
     ]
    },
    {
     "name": "stderr",
     "output_type": "stream",
     "text": [
      "/home/choppy/TOC/.conda/envs/msc-thesis-2022/lib/python3.9/site-packages/imgaug/augmenters/imgcorruptlike.py:516: FutureWarning: `multichannel` is a deprecated argument name for `gaussian`. It will be removed in version 1.0. Please use `channel_axis` instead.\n",
      "  gaussian(x / 255., sigma=sigma, multichannel=True),\n",
      "/home/choppy/TOC/.conda/envs/msc-thesis-2022/lib/python3.9/site-packages/imagecorruptions/corruptions.py:188: FutureWarning: `multichannel` is a deprecated argument name for `gaussian`. It will be removed in version 1.0. Please use `channel_axis` instead.\n",
      "  x = gaussian(np.array(x) / 255., sigma=c, multichannel=True)\n",
      "/home/choppy/TOC/.conda/envs/msc-thesis-2022/lib/python3.9/site-packages/imgaug/augmenters/imgcorruptlike.py:484: FutureWarning: `multichannel` is a deprecated argument name for `gaussian`. It will be removed in version 1.0. Please use `channel_axis` instead.\n",
      "  gaussian(np.array(x) / 255., sigma=sigma, multichannel=True) * 255)\n",
      "/home/choppy/TOC/.conda/envs/msc-thesis-2022/lib/python3.9/site-packages/imgaug/augmenters/imgcorruptlike.py:516: FutureWarning: `multichannel` is a deprecated argument name for `gaussian`. It will be removed in version 1.0. Please use `channel_axis` instead.\n",
      "  gaussian(x / 255., sigma=sigma, multichannel=True),\n",
      "/home/choppy/TOC/.conda/envs/msc-thesis-2022/lib/python3.9/site-packages/imgaug/augmenters/imgcorruptlike.py:484: FutureWarning: `multichannel` is a deprecated argument name for `gaussian`. It will be removed in version 1.0. Please use `channel_axis` instead.\n",
      "  gaussian(np.array(x) / 255., sigma=sigma, multichannel=True) * 255)\n"
     ]
    },
    {
     "name": "stdout",
     "output_type": "stream",
     "text": [
      " 77/230 [=========>....................] - ETA: 36s - loss: 0.1292 - mae: 0.1745 - mse: 0.0523 - iou_metric: 0.5374"
     ]
    },
    {
     "name": "stderr",
     "output_type": "stream",
     "text": [
      "/home/choppy/TOC/.conda/envs/msc-thesis-2022/lib/python3.9/site-packages/imgaug/augmenters/imgcorruptlike.py:516: FutureWarning: `multichannel` is a deprecated argument name for `gaussian`. It will be removed in version 1.0. Please use `channel_axis` instead.\n",
      "  gaussian(x / 255., sigma=sigma, multichannel=True),\n",
      "/home/choppy/TOC/.conda/envs/msc-thesis-2022/lib/python3.9/site-packages/imgaug/augmenters/imgcorruptlike.py:484: FutureWarning: `multichannel` is a deprecated argument name for `gaussian`. It will be removed in version 1.0. Please use `channel_axis` instead.\n",
      "  gaussian(np.array(x) / 255., sigma=sigma, multichannel=True) * 255)\n"
     ]
    },
    {
     "name": "stdout",
     "output_type": "stream",
     "text": [
      " 80/230 [=========>....................] - ETA: 35s - loss: 0.1282 - mae: 0.1726 - mse: 0.0512 - iou_metric: 0.5408"
     ]
    },
    {
     "name": "stderr",
     "output_type": "stream",
     "text": [
      "/home/choppy/TOC/.conda/envs/msc-thesis-2022/lib/python3.9/site-packages/imgaug/augmenters/imgcorruptlike.py:516: FutureWarning: `multichannel` is a deprecated argument name for `gaussian`. It will be removed in version 1.0. Please use `channel_axis` instead.\n",
      "  gaussian(x / 255., sigma=sigma, multichannel=True),\n"
     ]
    },
    {
     "name": "stdout",
     "output_type": "stream",
     "text": [
      " 82/230 [=========>....................] - ETA: 34s - loss: 0.1275 - mae: 0.1715 - mse: 0.0506 - iou_metric: 0.5424"
     ]
    },
    {
     "name": "stderr",
     "output_type": "stream",
     "text": [
      "/home/choppy/TOC/.conda/envs/msc-thesis-2022/lib/python3.9/site-packages/imagecorruptions/corruptions.py:188: FutureWarning: `multichannel` is a deprecated argument name for `gaussian`. It will be removed in version 1.0. Please use `channel_axis` instead.\n",
      "  x = gaussian(np.array(x) / 255., sigma=c, multichannel=True)\n",
      "/home/choppy/TOC/.conda/envs/msc-thesis-2022/lib/python3.9/site-packages/imgaug/augmenters/imgcorruptlike.py:484: FutureWarning: `multichannel` is a deprecated argument name for `gaussian`. It will be removed in version 1.0. Please use `channel_axis` instead.\n",
      "  gaussian(np.array(x) / 255., sigma=sigma, multichannel=True) * 255)\n"
     ]
    },
    {
     "name": "stdout",
     "output_type": "stream",
     "text": [
      " 83/230 [=========>....................] - ETA: 34s - loss: 0.1271 - mae: 0.1708 - mse: 0.0502 - iou_metric: 0.5439"
     ]
    },
    {
     "name": "stderr",
     "output_type": "stream",
     "text": [
      "/home/choppy/TOC/.conda/envs/msc-thesis-2022/lib/python3.9/site-packages/imgaug/augmenters/imgcorruptlike.py:516: FutureWarning: `multichannel` is a deprecated argument name for `gaussian`. It will be removed in version 1.0. Please use `channel_axis` instead.\n",
      "  gaussian(x / 255., sigma=sigma, multichannel=True),\n",
      "/home/choppy/TOC/.conda/envs/msc-thesis-2022/lib/python3.9/site-packages/imagecorruptions/corruptions.py:188: FutureWarning: `multichannel` is a deprecated argument name for `gaussian`. It will be removed in version 1.0. Please use `channel_axis` instead.\n",
      "  x = gaussian(np.array(x) / 255., sigma=c, multichannel=True)\n",
      "/home/choppy/TOC/.conda/envs/msc-thesis-2022/lib/python3.9/site-packages/imgaug/augmenters/imgcorruptlike.py:484: FutureWarning: `multichannel` is a deprecated argument name for `gaussian`. It will be removed in version 1.0. Please use `channel_axis` instead.\n",
      "  gaussian(np.array(x) / 255., sigma=sigma, multichannel=True) * 255)\n"
     ]
    },
    {
     "name": "stdout",
     "output_type": "stream",
     "text": [
      " 84/230 [=========>....................] - ETA: 34s - loss: 0.1269 - mae: 0.1703 - mse: 0.0500 - iou_metric: 0.5452"
     ]
    },
    {
     "name": "stderr",
     "output_type": "stream",
     "text": [
      "/home/choppy/TOC/.conda/envs/msc-thesis-2022/lib/python3.9/site-packages/imgaug/augmenters/imgcorruptlike.py:516: FutureWarning: `multichannel` is a deprecated argument name for `gaussian`. It will be removed in version 1.0. Please use `channel_axis` instead.\n",
      "  gaussian(x / 255., sigma=sigma, multichannel=True),\n",
      "/home/choppy/TOC/.conda/envs/msc-thesis-2022/lib/python3.9/site-packages/imgaug/augmenters/imgcorruptlike.py:484: FutureWarning: `multichannel` is a deprecated argument name for `gaussian`. It will be removed in version 1.0. Please use `channel_axis` instead.\n",
      "  gaussian(np.array(x) / 255., sigma=sigma, multichannel=True) * 255)\n"
     ]
    },
    {
     "name": "stdout",
     "output_type": "stream",
     "text": [
      " 85/230 [==========>...................] - ETA: 34s - loss: 0.1265 - mae: 0.1694 - mse: 0.0496 - iou_metric: 0.5468"
     ]
    },
    {
     "name": "stderr",
     "output_type": "stream",
     "text": [
      "/home/choppy/TOC/.conda/envs/msc-thesis-2022/lib/python3.9/site-packages/imgaug/augmenters/imgcorruptlike.py:516: FutureWarning: `multichannel` is a deprecated argument name for `gaussian`. It will be removed in version 1.0. Please use `channel_axis` instead.\n",
      "  gaussian(x / 255., sigma=sigma, multichannel=True),\n",
      "/home/choppy/TOC/.conda/envs/msc-thesis-2022/lib/python3.9/site-packages/imagecorruptions/corruptions.py:188: FutureWarning: `multichannel` is a deprecated argument name for `gaussian`. It will be removed in version 1.0. Please use `channel_axis` instead.\n",
      "  x = gaussian(np.array(x) / 255., sigma=c, multichannel=True)\n",
      "/home/choppy/TOC/.conda/envs/msc-thesis-2022/lib/python3.9/site-packages/imgaug/augmenters/imgcorruptlike.py:484: FutureWarning: `multichannel` is a deprecated argument name for `gaussian`. It will be removed in version 1.0. Please use `channel_axis` instead.\n",
      "  gaussian(np.array(x) / 255., sigma=sigma, multichannel=True) * 255)\n"
     ]
    },
    {
     "name": "stdout",
     "output_type": "stream",
     "text": [
      " 86/230 [==========>...................] - ETA: 35s - loss: 0.1261 - mae: 0.1688 - mse: 0.0492 - iou_metric: 0.5479"
     ]
    },
    {
     "name": "stderr",
     "output_type": "stream",
     "text": [
      "/home/choppy/TOC/.conda/envs/msc-thesis-2022/lib/python3.9/site-packages/imgaug/augmenters/imgcorruptlike.py:516: FutureWarning: `multichannel` is a deprecated argument name for `gaussian`. It will be removed in version 1.0. Please use `channel_axis` instead.\n",
      "  gaussian(x / 255., sigma=sigma, multichannel=True),\n",
      "/home/choppy/TOC/.conda/envs/msc-thesis-2022/lib/python3.9/site-packages/imgaug/augmenters/imgcorruptlike.py:484: FutureWarning: `multichannel` is a deprecated argument name for `gaussian`. It will be removed in version 1.0. Please use `channel_axis` instead.\n",
      "  gaussian(np.array(x) / 255., sigma=sigma, multichannel=True) * 255)\n"
     ]
    },
    {
     "name": "stdout",
     "output_type": "stream",
     "text": [
      " 88/230 [==========>...................] - ETA: 34s - loss: 0.1256 - mae: 0.1677 - mse: 0.0487 - iou_metric: 0.5500"
     ]
    },
    {
     "name": "stderr",
     "output_type": "stream",
     "text": [
      "/home/choppy/TOC/.conda/envs/msc-thesis-2022/lib/python3.9/site-packages/imgaug/augmenters/imgcorruptlike.py:516: FutureWarning: `multichannel` is a deprecated argument name for `gaussian`. It will be removed in version 1.0. Please use `channel_axis` instead.\n",
      "  gaussian(x / 255., sigma=sigma, multichannel=True),\n",
      "/home/choppy/TOC/.conda/envs/msc-thesis-2022/lib/python3.9/site-packages/imagecorruptions/corruptions.py:188: FutureWarning: `multichannel` is a deprecated argument name for `gaussian`. It will be removed in version 1.0. Please use `channel_axis` instead.\n",
      "  x = gaussian(np.array(x) / 255., sigma=c, multichannel=True)\n"
     ]
    },
    {
     "name": "stdout",
     "output_type": "stream",
     "text": [
      " 89/230 [==========>...................] - ETA: 34s - loss: 0.1253 - mae: 0.1670 - mse: 0.0484 - iou_metric: 0.5514"
     ]
    },
    {
     "name": "stderr",
     "output_type": "stream",
     "text": [
      "/home/choppy/TOC/.conda/envs/msc-thesis-2022/lib/python3.9/site-packages/imgaug/augmenters/imgcorruptlike.py:484: FutureWarning: `multichannel` is a deprecated argument name for `gaussian`. It will be removed in version 1.0. Please use `channel_axis` instead.\n",
      "  gaussian(np.array(x) / 255., sigma=sigma, multichannel=True) * 255)\n",
      "/home/choppy/TOC/.conda/envs/msc-thesis-2022/lib/python3.9/site-packages/imgaug/augmenters/imgcorruptlike.py:516: FutureWarning: `multichannel` is a deprecated argument name for `gaussian`. It will be removed in version 1.0. Please use `channel_axis` instead.\n",
      "  gaussian(x / 255., sigma=sigma, multichannel=True),\n"
     ]
    },
    {
     "name": "stdout",
     "output_type": "stream",
     "text": [
      " 90/230 [==========>...................] - ETA: 34s - loss: 0.1249 - mae: 0.1663 - mse: 0.0480 - iou_metric: 0.5526"
     ]
    },
    {
     "name": "stderr",
     "output_type": "stream",
     "text": [
      "/home/choppy/TOC/.conda/envs/msc-thesis-2022/lib/python3.9/site-packages/imgaug/augmenters/imgcorruptlike.py:484: FutureWarning: `multichannel` is a deprecated argument name for `gaussian`. It will be removed in version 1.0. Please use `channel_axis` instead.\n",
      "  gaussian(np.array(x) / 255., sigma=sigma, multichannel=True) * 255)\n",
      "/home/choppy/TOC/.conda/envs/msc-thesis-2022/lib/python3.9/site-packages/imgaug/augmenters/imgcorruptlike.py:516: FutureWarning: `multichannel` is a deprecated argument name for `gaussian`. It will be removed in version 1.0. Please use `channel_axis` instead.\n",
      "  gaussian(x / 255., sigma=sigma, multichannel=True),\n"
     ]
    },
    {
     "name": "stdout",
     "output_type": "stream",
     "text": [
      " 94/230 [===========>..................] - ETA: 32s - loss: 0.1237 - mae: 0.1640 - mse: 0.0468 - iou_metric: 0.5573"
     ]
    },
    {
     "name": "stderr",
     "output_type": "stream",
     "text": [
      "/home/choppy/TOC/.conda/envs/msc-thesis-2022/lib/python3.9/site-packages/imgaug/augmenters/imgcorruptlike.py:484: FutureWarning: `multichannel` is a deprecated argument name for `gaussian`. It will be removed in version 1.0. Please use `channel_axis` instead.\n",
      "  gaussian(np.array(x) / 255., sigma=sigma, multichannel=True) * 255)\n",
      "/home/choppy/TOC/.conda/envs/msc-thesis-2022/lib/python3.9/site-packages/imgaug/augmenters/imgcorruptlike.py:516: FutureWarning: `multichannel` is a deprecated argument name for `gaussian`. It will be removed in version 1.0. Please use `channel_axis` instead.\n",
      "  gaussian(x / 255., sigma=sigma, multichannel=True),\n",
      "/home/choppy/TOC/.conda/envs/msc-thesis-2022/lib/python3.9/site-packages/imagecorruptions/corruptions.py:188: FutureWarning: `multichannel` is a deprecated argument name for `gaussian`. It will be removed in version 1.0. Please use `channel_axis` instead.\n",
      "  x = gaussian(np.array(x) / 255., sigma=c, multichannel=True)\n"
     ]
    },
    {
     "name": "stdout",
     "output_type": "stream",
     "text": [
      " 97/230 [===========>..................] - ETA: 32s - loss: 0.1231 - mae: 0.1632 - mse: 0.0463 - iou_metric: 0.5588"
     ]
    },
    {
     "name": "stderr",
     "output_type": "stream",
     "text": [
      "/home/choppy/TOC/.conda/envs/msc-thesis-2022/lib/python3.9/site-packages/imagecorruptions/corruptions.py:188: FutureWarning: `multichannel` is a deprecated argument name for `gaussian`. It will be removed in version 1.0. Please use `channel_axis` instead.\n",
      "  x = gaussian(np.array(x) / 255., sigma=c, multichannel=True)\n",
      "/home/choppy/TOC/.conda/envs/msc-thesis-2022/lib/python3.9/site-packages/imagecorruptions/corruptions.py:188: FutureWarning: `multichannel` is a deprecated argument name for `gaussian`. It will be removed in version 1.0. Please use `channel_axis` instead.\n",
      "  x = gaussian(np.array(x) / 255., sigma=c, multichannel=True)\n"
     ]
    },
    {
     "name": "stdout",
     "output_type": "stream",
     "text": [
      " 98/230 [===========>..................] - ETA: 31s - loss: 0.1228 - mae: 0.1625 - mse: 0.0459 - iou_metric: 0.5603"
     ]
    },
    {
     "name": "stderr",
     "output_type": "stream",
     "text": [
      "/home/choppy/TOC/.conda/envs/msc-thesis-2022/lib/python3.9/site-packages/imgaug/augmenters/imgcorruptlike.py:484: FutureWarning: `multichannel` is a deprecated argument name for `gaussian`. It will be removed in version 1.0. Please use `channel_axis` instead.\n",
      "  gaussian(np.array(x) / 255., sigma=sigma, multichannel=True) * 255)\n"
     ]
    },
    {
     "name": "stdout",
     "output_type": "stream",
     "text": [
      "100/230 [============>.................] - ETA: 31s - loss: 0.1224 - mae: 0.1618 - mse: 0.0455 - iou_metric: 0.5616"
     ]
    },
    {
     "name": "stderr",
     "output_type": "stream",
     "text": [
      "/home/choppy/TOC/.conda/envs/msc-thesis-2022/lib/python3.9/site-packages/imgaug/augmenters/imgcorruptlike.py:516: FutureWarning: `multichannel` is a deprecated argument name for `gaussian`. It will be removed in version 1.0. Please use `channel_axis` instead.\n",
      "  gaussian(x / 255., sigma=sigma, multichannel=True),\n",
      "/home/choppy/TOC/.conda/envs/msc-thesis-2022/lib/python3.9/site-packages/imagecorruptions/corruptions.py:188: FutureWarning: `multichannel` is a deprecated argument name for `gaussian`. It will be removed in version 1.0. Please use `channel_axis` instead.\n",
      "  x = gaussian(np.array(x) / 255., sigma=c, multichannel=True)\n"
     ]
    },
    {
     "name": "stdout",
     "output_type": "stream",
     "text": [
      "102/230 [============>.................] - ETA: 30s - loss: 0.1219 - mae: 0.1609 - mse: 0.0450 - iou_metric: 0.5634"
     ]
    },
    {
     "name": "stderr",
     "output_type": "stream",
     "text": [
      "/home/choppy/TOC/.conda/envs/msc-thesis-2022/lib/python3.9/site-packages/imagecorruptions/corruptions.py:188: FutureWarning: `multichannel` is a deprecated argument name for `gaussian`. It will be removed in version 1.0. Please use `channel_axis` instead.\n",
      "  x = gaussian(np.array(x) / 255., sigma=c, multichannel=True)\n",
      "/home/choppy/TOC/.conda/envs/msc-thesis-2022/lib/python3.9/site-packages/imgaug/augmenters/imgcorruptlike.py:484: FutureWarning: `multichannel` is a deprecated argument name for `gaussian`. It will be removed in version 1.0. Please use `channel_axis` instead.\n",
      "  gaussian(np.array(x) / 255., sigma=sigma, multichannel=True) * 255)\n"
     ]
    },
    {
     "name": "stdout",
     "output_type": "stream",
     "text": [
      "104/230 [============>.................] - ETA: 29s - loss: 0.1214 - mae: 0.1599 - mse: 0.0445 - iou_metric: 0.5654"
     ]
    },
    {
     "name": "stderr",
     "output_type": "stream",
     "text": [
      "/home/choppy/TOC/.conda/envs/msc-thesis-2022/lib/python3.9/site-packages/imgaug/augmenters/imgcorruptlike.py:516: FutureWarning: `multichannel` is a deprecated argument name for `gaussian`. It will be removed in version 1.0. Please use `channel_axis` instead.\n",
      "  gaussian(x / 255., sigma=sigma, multichannel=True),\n",
      "/home/choppy/TOC/.conda/envs/msc-thesis-2022/lib/python3.9/site-packages/imgaug/augmenters/imgcorruptlike.py:484: FutureWarning: `multichannel` is a deprecated argument name for `gaussian`. It will be removed in version 1.0. Please use `channel_axis` instead.\n",
      "  gaussian(np.array(x) / 255., sigma=sigma, multichannel=True) * 255)\n"
     ]
    },
    {
     "name": "stdout",
     "output_type": "stream",
     "text": [
      "106/230 [============>.................] - ETA: 29s - loss: 0.1210 - mae: 0.1593 - mse: 0.0442 - iou_metric: 0.5666"
     ]
    },
    {
     "name": "stderr",
     "output_type": "stream",
     "text": [
      "/home/choppy/TOC/.conda/envs/msc-thesis-2022/lib/python3.9/site-packages/imgaug/augmenters/imgcorruptlike.py:516: FutureWarning: `multichannel` is a deprecated argument name for `gaussian`. It will be removed in version 1.0. Please use `channel_axis` instead.\n",
      "  gaussian(x / 255., sigma=sigma, multichannel=True),\n"
     ]
    },
    {
     "name": "stdout",
     "output_type": "stream",
     "text": [
      "108/230 [=============>................] - ETA: 28s - loss: 0.1205 - mae: 0.1582 - mse: 0.0437 - iou_metric: 0.5691"
     ]
    },
    {
     "name": "stderr",
     "output_type": "stream",
     "text": [
      "/home/choppy/TOC/.conda/envs/msc-thesis-2022/lib/python3.9/site-packages/imagecorruptions/corruptions.py:188: FutureWarning: `multichannel` is a deprecated argument name for `gaussian`. It will be removed in version 1.0. Please use `channel_axis` instead.\n",
      "  x = gaussian(np.array(x) / 255., sigma=c, multichannel=True)\n",
      "/home/choppy/TOC/.conda/envs/msc-thesis-2022/lib/python3.9/site-packages/imgaug/augmenters/imgcorruptlike.py:484: FutureWarning: `multichannel` is a deprecated argument name for `gaussian`. It will be removed in version 1.0. Please use `channel_axis` instead.\n",
      "  gaussian(np.array(x) / 255., sigma=sigma, multichannel=True) * 255)\n",
      "/home/choppy/TOC/.conda/envs/msc-thesis-2022/lib/python3.9/site-packages/imgaug/augmenters/imgcorruptlike.py:516: FutureWarning: `multichannel` is a deprecated argument name for `gaussian`. It will be removed in version 1.0. Please use `channel_axis` instead.\n",
      "  gaussian(x / 255., sigma=sigma, multichannel=True),\n"
     ]
    },
    {
     "name": "stdout",
     "output_type": "stream",
     "text": [
      "111/230 [=============>................] - ETA: 27s - loss: 0.1199 - mae: 0.1570 - mse: 0.0430 - iou_metric: 0.5713"
     ]
    },
    {
     "name": "stderr",
     "output_type": "stream",
     "text": [
      "/home/choppy/TOC/.conda/envs/msc-thesis-2022/lib/python3.9/site-packages/imgaug/augmenters/imgcorruptlike.py:484: FutureWarning: `multichannel` is a deprecated argument name for `gaussian`. It will be removed in version 1.0. Please use `channel_axis` instead.\n",
      "  gaussian(np.array(x) / 255., sigma=sigma, multichannel=True) * 255)\n"
     ]
    },
    {
     "name": "stdout",
     "output_type": "stream",
     "text": [
      "113/230 [=============>................] - ETA: 27s - loss: 0.1195 - mae: 0.1565 - mse: 0.0427 - iou_metric: 0.5721"
     ]
    },
    {
     "name": "stderr",
     "output_type": "stream",
     "text": [
      "/home/choppy/TOC/.conda/envs/msc-thesis-2022/lib/python3.9/site-packages/imgaug/augmenters/imgcorruptlike.py:516: FutureWarning: `multichannel` is a deprecated argument name for `gaussian`. It will be removed in version 1.0. Please use `channel_axis` instead.\n",
      "  gaussian(x / 255., sigma=sigma, multichannel=True),\n",
      "/home/choppy/TOC/.conda/envs/msc-thesis-2022/lib/python3.9/site-packages/imagecorruptions/corruptions.py:188: FutureWarning: `multichannel` is a deprecated argument name for `gaussian`. It will be removed in version 1.0. Please use `channel_axis` instead.\n",
      "  x = gaussian(np.array(x) / 255., sigma=c, multichannel=True)\n",
      "/home/choppy/TOC/.conda/envs/msc-thesis-2022/lib/python3.9/site-packages/imagecorruptions/corruptions.py:188: FutureWarning: `multichannel` is a deprecated argument name for `gaussian`. It will be removed in version 1.0. Please use `channel_axis` instead.\n",
      "  x = gaussian(np.array(x) / 255., sigma=c, multichannel=True)\n",
      "/home/choppy/TOC/.conda/envs/msc-thesis-2022/lib/python3.9/site-packages/imgaug/augmenters/imgcorruptlike.py:484: FutureWarning: `multichannel` is a deprecated argument name for `gaussian`. It will be removed in version 1.0. Please use `channel_axis` instead.\n",
      "  gaussian(np.array(x) / 255., sigma=sigma, multichannel=True) * 255)\n"
     ]
    },
    {
     "name": "stdout",
     "output_type": "stream",
     "text": [
      "115/230 [==============>...............] - ETA: 27s - loss: 0.1190 - mae: 0.1556 - mse: 0.0422 - iou_metric: 0.5738"
     ]
    },
    {
     "name": "stderr",
     "output_type": "stream",
     "text": [
      "/home/choppy/TOC/.conda/envs/msc-thesis-2022/lib/python3.9/site-packages/imgaug/augmenters/imgcorruptlike.py:516: FutureWarning: `multichannel` is a deprecated argument name for `gaussian`. It will be removed in version 1.0. Please use `channel_axis` instead.\n",
      "  gaussian(x / 255., sigma=sigma, multichannel=True),\n",
      "/home/choppy/TOC/.conda/envs/msc-thesis-2022/lib/python3.9/site-packages/imagecorruptions/corruptions.py:188: FutureWarning: `multichannel` is a deprecated argument name for `gaussian`. It will be removed in version 1.0. Please use `channel_axis` instead.\n",
      "  x = gaussian(np.array(x) / 255., sigma=c, multichannel=True)\n"
     ]
    },
    {
     "name": "stdout",
     "output_type": "stream",
     "text": [
      "117/230 [==============>...............] - ETA: 26s - loss: 0.1188 - mae: 0.1551 - mse: 0.0420 - iou_metric: 0.5748"
     ]
    },
    {
     "name": "stderr",
     "output_type": "stream",
     "text": [
      "/home/choppy/TOC/.conda/envs/msc-thesis-2022/lib/python3.9/site-packages/imagecorruptions/corruptions.py:188: FutureWarning: `multichannel` is a deprecated argument name for `gaussian`. It will be removed in version 1.0. Please use `channel_axis` instead.\n",
      "  x = gaussian(np.array(x) / 255., sigma=c, multichannel=True)\n",
      "/home/choppy/TOC/.conda/envs/msc-thesis-2022/lib/python3.9/site-packages/imagecorruptions/corruptions.py:188: FutureWarning: `multichannel` is a deprecated argument name for `gaussian`. It will be removed in version 1.0. Please use `channel_axis` instead.\n",
      "  x = gaussian(np.array(x) / 255., sigma=c, multichannel=True)\n",
      "/home/choppy/TOC/.conda/envs/msc-thesis-2022/lib/python3.9/site-packages/imgaug/augmenters/imgcorruptlike.py:484: FutureWarning: `multichannel` is a deprecated argument name for `gaussian`. It will be removed in version 1.0. Please use `channel_axis` instead.\n",
      "  gaussian(np.array(x) / 255., sigma=sigma, multichannel=True) * 255)\n"
     ]
    },
    {
     "name": "stdout",
     "output_type": "stream",
     "text": [
      "118/230 [==============>...............] - ETA: 26s - loss: 0.1186 - mae: 0.1548 - mse: 0.0418 - iou_metric: 0.5751"
     ]
    },
    {
     "name": "stderr",
     "output_type": "stream",
     "text": [
      "/home/choppy/TOC/.conda/envs/msc-thesis-2022/lib/python3.9/site-packages/imgaug/augmenters/imgcorruptlike.py:516: FutureWarning: `multichannel` is a deprecated argument name for `gaussian`. It will be removed in version 1.0. Please use `channel_axis` instead.\n",
      "  gaussian(x / 255., sigma=sigma, multichannel=True),\n",
      "/home/choppy/TOC/.conda/envs/msc-thesis-2022/lib/python3.9/site-packages/imgaug/augmenters/imgcorruptlike.py:484: FutureWarning: `multichannel` is a deprecated argument name for `gaussian`. It will be removed in version 1.0. Please use `channel_axis` instead.\n",
      "  gaussian(np.array(x) / 255., sigma=sigma, multichannel=True) * 255)\n",
      "/home/choppy/TOC/.conda/envs/msc-thesis-2022/lib/python3.9/site-packages/imgaug/augmenters/imgcorruptlike.py:516: FutureWarning: `multichannel` is a deprecated argument name for `gaussian`. It will be removed in version 1.0. Please use `channel_axis` instead.\n",
      "  gaussian(x / 255., sigma=sigma, multichannel=True),\n",
      "/home/choppy/TOC/.conda/envs/msc-thesis-2022/lib/python3.9/site-packages/imgaug/augmenters/imgcorruptlike.py:484: FutureWarning: `multichannel` is a deprecated argument name for `gaussian`. It will be removed in version 1.0. Please use `channel_axis` instead.\n",
      "  gaussian(np.array(x) / 255., sigma=sigma, multichannel=True) * 255)\n"
     ]
    },
    {
     "name": "stdout",
     "output_type": "stream",
     "text": [
      "119/230 [==============>...............] - ETA: 26s - loss: 0.1183 - mae: 0.1542 - mse: 0.0415 - iou_metric: 0.5764"
     ]
    },
    {
     "name": "stderr",
     "output_type": "stream",
     "text": [
      "/home/choppy/TOC/.conda/envs/msc-thesis-2022/lib/python3.9/site-packages/imgaug/augmenters/imgcorruptlike.py:516: FutureWarning: `multichannel` is a deprecated argument name for `gaussian`. It will be removed in version 1.0. Please use `channel_axis` instead.\n",
      "  gaussian(x / 255., sigma=sigma, multichannel=True),\n"
     ]
    },
    {
     "name": "stdout",
     "output_type": "stream",
     "text": [
      "122/230 [==============>...............] - ETA: 25s - loss: 0.1178 - mae: 0.1532 - mse: 0.0410 - iou_metric: 0.5788"
     ]
    },
    {
     "name": "stderr",
     "output_type": "stream",
     "text": [
      "/home/choppy/TOC/.conda/envs/msc-thesis-2022/lib/python3.9/site-packages/imagecorruptions/corruptions.py:188: FutureWarning: `multichannel` is a deprecated argument name for `gaussian`. It will be removed in version 1.0. Please use `channel_axis` instead.\n",
      "  x = gaussian(np.array(x) / 255., sigma=c, multichannel=True)\n",
      "/home/choppy/TOC/.conda/envs/msc-thesis-2022/lib/python3.9/site-packages/imagecorruptions/corruptions.py:188: FutureWarning: `multichannel` is a deprecated argument name for `gaussian`. It will be removed in version 1.0. Please use `channel_axis` instead.\n",
      "  x = gaussian(np.array(x) / 255., sigma=c, multichannel=True)\n",
      "/home/choppy/TOC/.conda/envs/msc-thesis-2022/lib/python3.9/site-packages/imgaug/augmenters/imgcorruptlike.py:484: FutureWarning: `multichannel` is a deprecated argument name for `gaussian`. It will be removed in version 1.0. Please use `channel_axis` instead.\n",
      "  gaussian(np.array(x) / 255., sigma=sigma, multichannel=True) * 255)\n"
     ]
    },
    {
     "name": "stdout",
     "output_type": "stream",
     "text": [
      "125/230 [===============>..............] - ETA: 25s - loss: 0.1174 - mae: 0.1527 - mse: 0.0406 - iou_metric: 0.5798"
     ]
    },
    {
     "name": "stderr",
     "output_type": "stream",
     "text": [
      "/home/choppy/TOC/.conda/envs/msc-thesis-2022/lib/python3.9/site-packages/imgaug/augmenters/imgcorruptlike.py:516: FutureWarning: `multichannel` is a deprecated argument name for `gaussian`. It will be removed in version 1.0. Please use `channel_axis` instead.\n",
      "  gaussian(x / 255., sigma=sigma, multichannel=True),\n"
     ]
    },
    {
     "name": "stdout",
     "output_type": "stream",
     "text": [
      "127/230 [===============>..............] - ETA: 24s - loss: 0.1171 - mae: 0.1519 - mse: 0.0403 - iou_metric: 0.5814"
     ]
    },
    {
     "name": "stderr",
     "output_type": "stream",
     "text": [
      "/home/choppy/TOC/.conda/envs/msc-thesis-2022/lib/python3.9/site-packages/imagecorruptions/corruptions.py:188: FutureWarning: `multichannel` is a deprecated argument name for `gaussian`. It will be removed in version 1.0. Please use `channel_axis` instead.\n",
      "  x = gaussian(np.array(x) / 255., sigma=c, multichannel=True)\n",
      "/home/choppy/TOC/.conda/envs/msc-thesis-2022/lib/python3.9/site-packages/imgaug/augmenters/imgcorruptlike.py:484: FutureWarning: `multichannel` is a deprecated argument name for `gaussian`. It will be removed in version 1.0. Please use `channel_axis` instead.\n",
      "  gaussian(np.array(x) / 255., sigma=sigma, multichannel=True) * 255)\n"
     ]
    },
    {
     "name": "stdout",
     "output_type": "stream",
     "text": [
      "128/230 [===============>..............] - ETA: 24s - loss: 0.1170 - mae: 0.1518 - mse: 0.0402 - iou_metric: 0.5818"
     ]
    },
    {
     "name": "stderr",
     "output_type": "stream",
     "text": [
      "/home/choppy/TOC/.conda/envs/msc-thesis-2022/lib/python3.9/site-packages/imgaug/augmenters/imgcorruptlike.py:516: FutureWarning: `multichannel` is a deprecated argument name for `gaussian`. It will be removed in version 1.0. Please use `channel_axis` instead.\n",
      "  gaussian(x / 255., sigma=sigma, multichannel=True),\n",
      "/home/choppy/TOC/.conda/envs/msc-thesis-2022/lib/python3.9/site-packages/imagecorruptions/corruptions.py:188: FutureWarning: `multichannel` is a deprecated argument name for `gaussian`. It will be removed in version 1.0. Please use `channel_axis` instead.\n",
      "  x = gaussian(np.array(x) / 255., sigma=c, multichannel=True)\n",
      "/home/choppy/TOC/.conda/envs/msc-thesis-2022/lib/python3.9/site-packages/imgaug/augmenters/imgcorruptlike.py:484: FutureWarning: `multichannel` is a deprecated argument name for `gaussian`. It will be removed in version 1.0. Please use `channel_axis` instead.\n",
      "  gaussian(np.array(x) / 255., sigma=sigma, multichannel=True) * 255)\n"
     ]
    },
    {
     "name": "stdout",
     "output_type": "stream",
     "text": [
      "129/230 [===============>..............] - ETA: 24s - loss: 0.1168 - mae: 0.1514 - mse: 0.0400 - iou_metric: 0.5825"
     ]
    },
    {
     "name": "stderr",
     "output_type": "stream",
     "text": [
      "/home/choppy/TOC/.conda/envs/msc-thesis-2022/lib/python3.9/site-packages/imgaug/augmenters/imgcorruptlike.py:516: FutureWarning: `multichannel` is a deprecated argument name for `gaussian`. It will be removed in version 1.0. Please use `channel_axis` instead.\n",
      "  gaussian(x / 255., sigma=sigma, multichannel=True),\n",
      "/home/choppy/TOC/.conda/envs/msc-thesis-2022/lib/python3.9/site-packages/imgaug/augmenters/imgcorruptlike.py:484: FutureWarning: `multichannel` is a deprecated argument name for `gaussian`. It will be removed in version 1.0. Please use `channel_axis` instead.\n",
      "  gaussian(np.array(x) / 255., sigma=sigma, multichannel=True) * 255)\n"
     ]
    },
    {
     "name": "stdout",
     "output_type": "stream",
     "text": [
      "131/230 [================>.............] - ETA: 24s - loss: 0.1167 - mae: 0.1512 - mse: 0.0399 - iou_metric: 0.5830"
     ]
    },
    {
     "name": "stderr",
     "output_type": "stream",
     "text": [
      "/home/choppy/TOC/.conda/envs/msc-thesis-2022/lib/python3.9/site-packages/imgaug/augmenters/imgcorruptlike.py:516: FutureWarning: `multichannel` is a deprecated argument name for `gaussian`. It will be removed in version 1.0. Please use `channel_axis` instead.\n",
      "  gaussian(x / 255., sigma=sigma, multichannel=True),\n",
      "/home/choppy/TOC/.conda/envs/msc-thesis-2022/lib/python3.9/site-packages/imgaug/augmenters/imgcorruptlike.py:484: FutureWarning: `multichannel` is a deprecated argument name for `gaussian`. It will be removed in version 1.0. Please use `channel_axis` instead.\n",
      "  gaussian(np.array(x) / 255., sigma=sigma, multichannel=True) * 255)\n",
      "/home/choppy/TOC/.conda/envs/msc-thesis-2022/lib/python3.9/site-packages/imgaug/augmenters/imgcorruptlike.py:516: FutureWarning: `multichannel` is a deprecated argument name for `gaussian`. It will be removed in version 1.0. Please use `channel_axis` instead.\n",
      "  gaussian(x / 255., sigma=sigma, multichannel=True),\n"
     ]
    },
    {
     "name": "stdout",
     "output_type": "stream",
     "text": [
      "132/230 [================>.............] - ETA: 23s - loss: 0.1165 - mae: 0.1508 - mse: 0.0397 - iou_metric: 0.5837"
     ]
    },
    {
     "name": "stderr",
     "output_type": "stream",
     "text": [
      "/home/choppy/TOC/.conda/envs/msc-thesis-2022/lib/python3.9/site-packages/imgaug/augmenters/imgcorruptlike.py:484: FutureWarning: `multichannel` is a deprecated argument name for `gaussian`. It will be removed in version 1.0. Please use `channel_axis` instead.\n",
      "  gaussian(np.array(x) / 255., sigma=sigma, multichannel=True) * 255)\n",
      "/home/choppy/TOC/.conda/envs/msc-thesis-2022/lib/python3.9/site-packages/imgaug/augmenters/imgcorruptlike.py:516: FutureWarning: `multichannel` is a deprecated argument name for `gaussian`. It will be removed in version 1.0. Please use `channel_axis` instead.\n",
      "  gaussian(x / 255., sigma=sigma, multichannel=True),\n",
      "/home/choppy/TOC/.conda/envs/msc-thesis-2022/lib/python3.9/site-packages/imgaug/augmenters/imgcorruptlike.py:484: FutureWarning: `multichannel` is a deprecated argument name for `gaussian`. It will be removed in version 1.0. Please use `channel_axis` instead.\n",
      "  gaussian(np.array(x) / 255., sigma=sigma, multichannel=True) * 255)\n",
      "/home/choppy/TOC/.conda/envs/msc-thesis-2022/lib/python3.9/site-packages/imgaug/augmenters/imgcorruptlike.py:516: FutureWarning: `multichannel` is a deprecated argument name for `gaussian`. It will be removed in version 1.0. Please use `channel_axis` instead.\n",
      "  gaussian(x / 255., sigma=sigma, multichannel=True),\n",
      "/home/choppy/TOC/.conda/envs/msc-thesis-2022/lib/python3.9/site-packages/imagecorruptions/corruptions.py:188: FutureWarning: `multichannel` is a deprecated argument name for `gaussian`. It will be removed in version 1.0. Please use `channel_axis` instead.\n",
      "  x = gaussian(np.array(x) / 255., sigma=c, multichannel=True)\n",
      "/home/choppy/TOC/.conda/envs/msc-thesis-2022/lib/python3.9/site-packages/imgaug/augmenters/imgcorruptlike.py:484: FutureWarning: `multichannel` is a deprecated argument name for `gaussian`. It will be removed in version 1.0. Please use `channel_axis` instead.\n",
      "  gaussian(np.array(x) / 255., sigma=sigma, multichannel=True) * 255)\n"
     ]
    },
    {
     "name": "stdout",
     "output_type": "stream",
     "text": [
      "135/230 [================>.............] - ETA: 23s - loss: 0.1162 - mae: 0.1504 - mse: 0.0394 - iou_metric: 0.5846"
     ]
    },
    {
     "name": "stderr",
     "output_type": "stream",
     "text": [
      "/home/choppy/TOC/.conda/envs/msc-thesis-2022/lib/python3.9/site-packages/imgaug/augmenters/imgcorruptlike.py:516: FutureWarning: `multichannel` is a deprecated argument name for `gaussian`. It will be removed in version 1.0. Please use `channel_axis` instead.\n",
      "  gaussian(x / 255., sigma=sigma, multichannel=True),\n",
      "/home/choppy/TOC/.conda/envs/msc-thesis-2022/lib/python3.9/site-packages/imagecorruptions/corruptions.py:188: FutureWarning: `multichannel` is a deprecated argument name for `gaussian`. It will be removed in version 1.0. Please use `channel_axis` instead.\n",
      "  x = gaussian(np.array(x) / 255., sigma=c, multichannel=True)\n",
      "/home/choppy/TOC/.conda/envs/msc-thesis-2022/lib/python3.9/site-packages/imagecorruptions/corruptions.py:188: FutureWarning: `multichannel` is a deprecated argument name for `gaussian`. It will be removed in version 1.0. Please use `channel_axis` instead.\n",
      "  x = gaussian(np.array(x) / 255., sigma=c, multichannel=True)\n"
     ]
    },
    {
     "name": "stdout",
     "output_type": "stream",
     "text": [
      "136/230 [================>.............] - ETA: 23s - loss: 0.1161 - mae: 0.1502 - mse: 0.0393 - iou_metric: 0.5849"
     ]
    },
    {
     "name": "stderr",
     "output_type": "stream",
     "text": [
      "/home/choppy/TOC/.conda/envs/msc-thesis-2022/lib/python3.9/site-packages/imgaug/augmenters/imgcorruptlike.py:484: FutureWarning: `multichannel` is a deprecated argument name for `gaussian`. It will be removed in version 1.0. Please use `channel_axis` instead.\n",
      "  gaussian(np.array(x) / 255., sigma=sigma, multichannel=True) * 255)\n"
     ]
    },
    {
     "name": "stdout",
     "output_type": "stream",
     "text": [
      "138/230 [=================>............] - ETA: 22s - loss: 0.1157 - mae: 0.1496 - mse: 0.0390 - iou_metric: 0.5863"
     ]
    },
    {
     "name": "stderr",
     "output_type": "stream",
     "text": [
      "/home/choppy/TOC/.conda/envs/msc-thesis-2022/lib/python3.9/site-packages/imgaug/augmenters/imgcorruptlike.py:516: FutureWarning: `multichannel` is a deprecated argument name for `gaussian`. It will be removed in version 1.0. Please use `channel_axis` instead.\n",
      "  gaussian(x / 255., sigma=sigma, multichannel=True),\n",
      "/home/choppy/TOC/.conda/envs/msc-thesis-2022/lib/python3.9/site-packages/imagecorruptions/corruptions.py:188: FutureWarning: `multichannel` is a deprecated argument name for `gaussian`. It will be removed in version 1.0. Please use `channel_axis` instead.\n",
      "  x = gaussian(np.array(x) / 255., sigma=c, multichannel=True)\n"
     ]
    },
    {
     "name": "stdout",
     "output_type": "stream",
     "text": [
      "141/230 [=================>............] - ETA: 21s - loss: 0.1154 - mae: 0.1488 - mse: 0.0387 - iou_metric: 0.5882"
     ]
    },
    {
     "name": "stderr",
     "output_type": "stream",
     "text": [
      "/home/choppy/TOC/.conda/envs/msc-thesis-2022/lib/python3.9/site-packages/imagecorruptions/corruptions.py:188: FutureWarning: `multichannel` is a deprecated argument name for `gaussian`. It will be removed in version 1.0. Please use `channel_axis` instead.\n",
      "  x = gaussian(np.array(x) / 255., sigma=c, multichannel=True)\n",
      "/home/choppy/TOC/.conda/envs/msc-thesis-2022/lib/python3.9/site-packages/imgaug/augmenters/imgcorruptlike.py:484: FutureWarning: `multichannel` is a deprecated argument name for `gaussian`. It will be removed in version 1.0. Please use `channel_axis` instead.\n",
      "  gaussian(np.array(x) / 255., sigma=sigma, multichannel=True) * 255)\n"
     ]
    },
    {
     "name": "stdout",
     "output_type": "stream",
     "text": [
      "143/230 [=================>............] - ETA: 21s - loss: 0.1154 - mae: 0.1487 - mse: 0.0386 - iou_metric: 0.5885"
     ]
    },
    {
     "name": "stderr",
     "output_type": "stream",
     "text": [
      "/home/choppy/TOC/.conda/envs/msc-thesis-2022/lib/python3.9/site-packages/imgaug/augmenters/imgcorruptlike.py:516: FutureWarning: `multichannel` is a deprecated argument name for `gaussian`. It will be removed in version 1.0. Please use `channel_axis` instead.\n",
      "  gaussian(x / 255., sigma=sigma, multichannel=True),\n",
      "/home/choppy/TOC/.conda/envs/msc-thesis-2022/lib/python3.9/site-packages/imgaug/augmenters/imgcorruptlike.py:484: FutureWarning: `multichannel` is a deprecated argument name for `gaussian`. It will be removed in version 1.0. Please use `channel_axis` instead.\n",
      "  gaussian(np.array(x) / 255., sigma=sigma, multichannel=True) * 255)\n"
     ]
    },
    {
     "name": "stdout",
     "output_type": "stream",
     "text": [
      "145/230 [=================>............] - ETA: 20s - loss: 0.1153 - mae: 0.1487 - mse: 0.0386 - iou_metric: 0.5887"
     ]
    },
    {
     "name": "stderr",
     "output_type": "stream",
     "text": [
      "/home/choppy/TOC/.conda/envs/msc-thesis-2022/lib/python3.9/site-packages/imgaug/augmenters/imgcorruptlike.py:516: FutureWarning: `multichannel` is a deprecated argument name for `gaussian`. It will be removed in version 1.0. Please use `channel_axis` instead.\n",
      "  gaussian(x / 255., sigma=sigma, multichannel=True),\n",
      "/home/choppy/TOC/.conda/envs/msc-thesis-2022/lib/python3.9/site-packages/imagecorruptions/corruptions.py:188: FutureWarning: `multichannel` is a deprecated argument name for `gaussian`. It will be removed in version 1.0. Please use `channel_axis` instead.\n",
      "  x = gaussian(np.array(x) / 255., sigma=c, multichannel=True)\n",
      "/home/choppy/TOC/.conda/envs/msc-thesis-2022/lib/python3.9/site-packages/imgaug/augmenters/imgcorruptlike.py:484: FutureWarning: `multichannel` is a deprecated argument name for `gaussian`. It will be removed in version 1.0. Please use `channel_axis` instead.\n",
      "  gaussian(np.array(x) / 255., sigma=sigma, multichannel=True) * 255)\n",
      "/home/choppy/TOC/.conda/envs/msc-thesis-2022/lib/python3.9/site-packages/imgaug/augmenters/imgcorruptlike.py:516: FutureWarning: `multichannel` is a deprecated argument name for `gaussian`. It will be removed in version 1.0. Please use `channel_axis` instead.\n",
      "  gaussian(x / 255., sigma=sigma, multichannel=True),\n",
      "/home/choppy/TOC/.conda/envs/msc-thesis-2022/lib/python3.9/site-packages/imgaug/augmenters/imgcorruptlike.py:484: FutureWarning: `multichannel` is a deprecated argument name for `gaussian`. It will be removed in version 1.0. Please use `channel_axis` instead.\n",
      "  gaussian(np.array(x) / 255., sigma=sigma, multichannel=True) * 255)\n"
     ]
    },
    {
     "name": "stdout",
     "output_type": "stream",
     "text": [
      "146/230 [==================>...........] - ETA: 20s - loss: 0.1151 - mae: 0.1481 - mse: 0.0384 - iou_metric: 0.5900"
     ]
    },
    {
     "name": "stderr",
     "output_type": "stream",
     "text": [
      "/home/choppy/TOC/.conda/envs/msc-thesis-2022/lib/python3.9/site-packages/imgaug/augmenters/imgcorruptlike.py:516: FutureWarning: `multichannel` is a deprecated argument name for `gaussian`. It will be removed in version 1.0. Please use `channel_axis` instead.\n",
      "  gaussian(x / 255., sigma=sigma, multichannel=True),\n",
      "/home/choppy/TOC/.conda/envs/msc-thesis-2022/lib/python3.9/site-packages/imgaug/augmenters/imgcorruptlike.py:484: FutureWarning: `multichannel` is a deprecated argument name for `gaussian`. It will be removed in version 1.0. Please use `channel_axis` instead.\n",
      "  gaussian(np.array(x) / 255., sigma=sigma, multichannel=True) * 255)\n"
     ]
    },
    {
     "name": "stdout",
     "output_type": "stream",
     "text": [
      "147/230 [==================>...........] - ETA: 20s - loss: 0.1151 - mae: 0.1482 - mse: 0.0384 - iou_metric: 0.5898"
     ]
    },
    {
     "name": "stderr",
     "output_type": "stream",
     "text": [
      "/home/choppy/TOC/.conda/envs/msc-thesis-2022/lib/python3.9/site-packages/imgaug/augmenters/imgcorruptlike.py:516: FutureWarning: `multichannel` is a deprecated argument name for `gaussian`. It will be removed in version 1.0. Please use `channel_axis` instead.\n",
      "  gaussian(x / 255., sigma=sigma, multichannel=True),\n",
      "/home/choppy/TOC/.conda/envs/msc-thesis-2022/lib/python3.9/site-packages/imgaug/augmenters/imgcorruptlike.py:484: FutureWarning: `multichannel` is a deprecated argument name for `gaussian`. It will be removed in version 1.0. Please use `channel_axis` instead.\n",
      "  gaussian(np.array(x) / 255., sigma=sigma, multichannel=True) * 255)\n"
     ]
    },
    {
     "name": "stdout",
     "output_type": "stream",
     "text": [
      "149/230 [==================>...........] - ETA: 20s - loss: 0.1149 - mae: 0.1478 - mse: 0.0382 - iou_metric: 0.5904"
     ]
    },
    {
     "name": "stderr",
     "output_type": "stream",
     "text": [
      "/home/choppy/TOC/.conda/envs/msc-thesis-2022/lib/python3.9/site-packages/imgaug/augmenters/imgcorruptlike.py:516: FutureWarning: `multichannel` is a deprecated argument name for `gaussian`. It will be removed in version 1.0. Please use `channel_axis` instead.\n",
      "  gaussian(x / 255., sigma=sigma, multichannel=True),\n",
      "/home/choppy/TOC/.conda/envs/msc-thesis-2022/lib/python3.9/site-packages/imagecorruptions/corruptions.py:188: FutureWarning: `multichannel` is a deprecated argument name for `gaussian`. It will be removed in version 1.0. Please use `channel_axis` instead.\n",
      "  x = gaussian(np.array(x) / 255., sigma=c, multichannel=True)\n"
     ]
    },
    {
     "name": "stdout",
     "output_type": "stream",
     "text": [
      "150/230 [==================>...........] - ETA: 20s - loss: 0.1149 - mae: 0.1479 - mse: 0.0382 - iou_metric: 0.5903"
     ]
    },
    {
     "name": "stderr",
     "output_type": "stream",
     "text": [
      "/home/choppy/TOC/.conda/envs/msc-thesis-2022/lib/python3.9/site-packages/imgaug/augmenters/imgcorruptlike.py:484: FutureWarning: `multichannel` is a deprecated argument name for `gaussian`. It will be removed in version 1.0. Please use `channel_axis` instead.\n",
      "  gaussian(np.array(x) / 255., sigma=sigma, multichannel=True) * 255)\n"
     ]
    },
    {
     "name": "stdout",
     "output_type": "stream",
     "text": [
      "151/230 [==================>...........] - ETA: 19s - loss: 0.1147 - mae: 0.1476 - mse: 0.0380 - iou_metric: 0.5911"
     ]
    },
    {
     "name": "stderr",
     "output_type": "stream",
     "text": [
      "/home/choppy/TOC/.conda/envs/msc-thesis-2022/lib/python3.9/site-packages/imgaug/augmenters/imgcorruptlike.py:516: FutureWarning: `multichannel` is a deprecated argument name for `gaussian`. It will be removed in version 1.0. Please use `channel_axis` instead.\n",
      "  gaussian(x / 255., sigma=sigma, multichannel=True),\n"
     ]
    },
    {
     "name": "stdout",
     "output_type": "stream",
     "text": [
      "153/230 [==================>...........] - ETA: 19s - loss: 0.1145 - mae: 0.1472 - mse: 0.0378 - iou_metric: 0.5918"
     ]
    },
    {
     "name": "stderr",
     "output_type": "stream",
     "text": [
      "/home/choppy/TOC/.conda/envs/msc-thesis-2022/lib/python3.9/site-packages/imagecorruptions/corruptions.py:188: FutureWarning: `multichannel` is a deprecated argument name for `gaussian`. It will be removed in version 1.0. Please use `channel_axis` instead.\n",
      "  x = gaussian(np.array(x) / 255., sigma=c, multichannel=True)\n",
      "/home/choppy/TOC/.conda/envs/msc-thesis-2022/lib/python3.9/site-packages/imgaug/augmenters/imgcorruptlike.py:484: FutureWarning: `multichannel` is a deprecated argument name for `gaussian`. It will be removed in version 1.0. Please use `channel_axis` instead.\n",
      "  gaussian(np.array(x) / 255., sigma=sigma, multichannel=True) * 255)\n"
     ]
    },
    {
     "name": "stdout",
     "output_type": "stream",
     "text": [
      "154/230 [===================>..........] - ETA: 19s - loss: 0.1145 - mae: 0.1471 - mse: 0.0378 - iou_metric: 0.5921"
     ]
    },
    {
     "name": "stderr",
     "output_type": "stream",
     "text": [
      "/home/choppy/TOC/.conda/envs/msc-thesis-2022/lib/python3.9/site-packages/imgaug/augmenters/imgcorruptlike.py:516: FutureWarning: `multichannel` is a deprecated argument name for `gaussian`. It will be removed in version 1.0. Please use `channel_axis` instead.\n",
      "  gaussian(x / 255., sigma=sigma, multichannel=True),\n",
      "/home/choppy/TOC/.conda/envs/msc-thesis-2022/lib/python3.9/site-packages/imagecorruptions/corruptions.py:188: FutureWarning: `multichannel` is a deprecated argument name for `gaussian`. It will be removed in version 1.0. Please use `channel_axis` instead.\n",
      "  x = gaussian(np.array(x) / 255., sigma=c, multichannel=True)\n",
      "/home/choppy/TOC/.conda/envs/msc-thesis-2022/lib/python3.9/site-packages/imagecorruptions/corruptions.py:188: FutureWarning: `multichannel` is a deprecated argument name for `gaussian`. It will be removed in version 1.0. Please use `channel_axis` instead.\n",
      "  x = gaussian(np.array(x) / 255., sigma=c, multichannel=True)\n",
      "/home/choppy/TOC/.conda/envs/msc-thesis-2022/lib/python3.9/site-packages/imgaug/augmenters/imgcorruptlike.py:484: FutureWarning: `multichannel` is a deprecated argument name for `gaussian`. It will be removed in version 1.0. Please use `channel_axis` instead.\n",
      "  gaussian(np.array(x) / 255., sigma=sigma, multichannel=True) * 255)\n"
     ]
    },
    {
     "name": "stdout",
     "output_type": "stream",
     "text": [
      "157/230 [===================>..........] - ETA: 18s - loss: 0.1140 - mae: 0.1463 - mse: 0.0373 - iou_metric: 0.5936"
     ]
    },
    {
     "name": "stderr",
     "output_type": "stream",
     "text": [
      "/home/choppy/TOC/.conda/envs/msc-thesis-2022/lib/python3.9/site-packages/imgaug/augmenters/imgcorruptlike.py:516: FutureWarning: `multichannel` is a deprecated argument name for `gaussian`. It will be removed in version 1.0. Please use `channel_axis` instead.\n",
      "  gaussian(x / 255., sigma=sigma, multichannel=True),\n",
      "/home/choppy/TOC/.conda/envs/msc-thesis-2022/lib/python3.9/site-packages/imagecorruptions/corruptions.py:188: FutureWarning: `multichannel` is a deprecated argument name for `gaussian`. It will be removed in version 1.0. Please use `channel_axis` instead.\n",
      "  x = gaussian(np.array(x) / 255., sigma=c, multichannel=True)\n"
     ]
    },
    {
     "name": "stdout",
     "output_type": "stream",
     "text": [
      "158/230 [===================>..........] - ETA: 18s - loss: 0.1139 - mae: 0.1461 - mse: 0.0372 - iou_metric: 0.5941"
     ]
    },
    {
     "name": "stderr",
     "output_type": "stream",
     "text": [
      "/home/choppy/TOC/.conda/envs/msc-thesis-2022/lib/python3.9/site-packages/imgaug/augmenters/imgcorruptlike.py:484: FutureWarning: `multichannel` is a deprecated argument name for `gaussian`. It will be removed in version 1.0. Please use `channel_axis` instead.\n",
      "  gaussian(np.array(x) / 255., sigma=sigma, multichannel=True) * 255)\n",
      "/home/choppy/TOC/.conda/envs/msc-thesis-2022/lib/python3.9/site-packages/imgaug/augmenters/imgcorruptlike.py:516: FutureWarning: `multichannel` is a deprecated argument name for `gaussian`. It will be removed in version 1.0. Please use `channel_axis` instead.\n",
      "  gaussian(x / 255., sigma=sigma, multichannel=True),\n",
      "/home/choppy/TOC/.conda/envs/msc-thesis-2022/lib/python3.9/site-packages/imgaug/augmenters/imgcorruptlike.py:484: FutureWarning: `multichannel` is a deprecated argument name for `gaussian`. It will be removed in version 1.0. Please use `channel_axis` instead.\n",
      "  gaussian(np.array(x) / 255., sigma=sigma, multichannel=True) * 255)\n",
      "/home/choppy/TOC/.conda/envs/msc-thesis-2022/lib/python3.9/site-packages/imgaug/augmenters/imgcorruptlike.py:516: FutureWarning: `multichannel` is a deprecated argument name for `gaussian`. It will be removed in version 1.0. Please use `channel_axis` instead.\n",
      "  gaussian(x / 255., sigma=sigma, multichannel=True),\n"
     ]
    },
    {
     "name": "stdout",
     "output_type": "stream",
     "text": [
      "159/230 [===================>..........] - ETA: 17s - loss: 0.1138 - mae: 0.1459 - mse: 0.0371 - iou_metric: 0.5943"
     ]
    },
    {
     "name": "stderr",
     "output_type": "stream",
     "text": [
      "/home/choppy/TOC/.conda/envs/msc-thesis-2022/lib/python3.9/site-packages/imagecorruptions/corruptions.py:188: FutureWarning: `multichannel` is a deprecated argument name for `gaussian`. It will be removed in version 1.0. Please use `channel_axis` instead.\n",
      "  x = gaussian(np.array(x) / 255., sigma=c, multichannel=True)\n",
      "/home/choppy/TOC/.conda/envs/msc-thesis-2022/lib/python3.9/site-packages/imgaug/augmenters/imgcorruptlike.py:484: FutureWarning: `multichannel` is a deprecated argument name for `gaussian`. It will be removed in version 1.0. Please use `channel_axis` instead.\n",
      "  gaussian(np.array(x) / 255., sigma=sigma, multichannel=True) * 255)\n"
     ]
    },
    {
     "name": "stdout",
     "output_type": "stream",
     "text": [
      "160/230 [===================>..........] - ETA: 17s - loss: 0.1137 - mae: 0.1456 - mse: 0.0370 - iou_metric: 0.5950"
     ]
    },
    {
     "name": "stderr",
     "output_type": "stream",
     "text": [
      "/home/choppy/TOC/.conda/envs/msc-thesis-2022/lib/python3.9/site-packages/imgaug/augmenters/imgcorruptlike.py:516: FutureWarning: `multichannel` is a deprecated argument name for `gaussian`. It will be removed in version 1.0. Please use `channel_axis` instead.\n",
      "  gaussian(x / 255., sigma=sigma, multichannel=True),\n",
      "/home/choppy/TOC/.conda/envs/msc-thesis-2022/lib/python3.9/site-packages/imagecorruptions/corruptions.py:188: FutureWarning: `multichannel` is a deprecated argument name for `gaussian`. It will be removed in version 1.0. Please use `channel_axis` instead.\n",
      "  x = gaussian(np.array(x) / 255., sigma=c, multichannel=True)\n",
      "/home/choppy/TOC/.conda/envs/msc-thesis-2022/lib/python3.9/site-packages/imagecorruptions/corruptions.py:188: FutureWarning: `multichannel` is a deprecated argument name for `gaussian`. It will be removed in version 1.0. Please use `channel_axis` instead.\n",
      "  x = gaussian(np.array(x) / 255., sigma=c, multichannel=True)\n"
     ]
    },
    {
     "name": "stdout",
     "output_type": "stream",
     "text": [
      "163/230 [====================>.........] - ETA: 16s - loss: 0.1133 - mae: 0.1450 - mse: 0.0367 - iou_metric: 0.5961"
     ]
    },
    {
     "name": "stderr",
     "output_type": "stream",
     "text": [
      "/home/choppy/TOC/.conda/envs/msc-thesis-2022/lib/python3.9/site-packages/imgaug/augmenters/imgcorruptlike.py:484: FutureWarning: `multichannel` is a deprecated argument name for `gaussian`. It will be removed in version 1.0. Please use `channel_axis` instead.\n",
      "  gaussian(np.array(x) / 255., sigma=sigma, multichannel=True) * 255)\n",
      "/home/choppy/TOC/.conda/envs/msc-thesis-2022/lib/python3.9/site-packages/imgaug/augmenters/imgcorruptlike.py:516: FutureWarning: `multichannel` is a deprecated argument name for `gaussian`. It will be removed in version 1.0. Please use `channel_axis` instead.\n",
      "  gaussian(x / 255., sigma=sigma, multichannel=True),\n"
     ]
    },
    {
     "name": "stdout",
     "output_type": "stream",
     "text": [
      "164/230 [====================>.........] - ETA: 16s - loss: 0.1133 - mae: 0.1450 - mse: 0.0366 - iou_metric: 0.5961"
     ]
    },
    {
     "name": "stderr",
     "output_type": "stream",
     "text": [
      "/home/choppy/TOC/.conda/envs/msc-thesis-2022/lib/python3.9/site-packages/imagecorruptions/corruptions.py:188: FutureWarning: `multichannel` is a deprecated argument name for `gaussian`. It will be removed in version 1.0. Please use `channel_axis` instead.\n",
      "  x = gaussian(np.array(x) / 255., sigma=c, multichannel=True)\n",
      "/home/choppy/TOC/.conda/envs/msc-thesis-2022/lib/python3.9/site-packages/imagecorruptions/corruptions.py:188: FutureWarning: `multichannel` is a deprecated argument name for `gaussian`. It will be removed in version 1.0. Please use `channel_axis` instead.\n",
      "  x = gaussian(np.array(x) / 255., sigma=c, multichannel=True)\n",
      "/home/choppy/TOC/.conda/envs/msc-thesis-2022/lib/python3.9/site-packages/imgaug/augmenters/imgcorruptlike.py:484: FutureWarning: `multichannel` is a deprecated argument name for `gaussian`. It will be removed in version 1.0. Please use `channel_axis` instead.\n",
      "  gaussian(np.array(x) / 255., sigma=sigma, multichannel=True) * 255)\n",
      "/home/choppy/TOC/.conda/envs/msc-thesis-2022/lib/python3.9/site-packages/imgaug/augmenters/imgcorruptlike.py:516: FutureWarning: `multichannel` is a deprecated argument name for `gaussian`. It will be removed in version 1.0. Please use `channel_axis` instead.\n",
      "  gaussian(x / 255., sigma=sigma, multichannel=True),\n"
     ]
    },
    {
     "name": "stdout",
     "output_type": "stream",
     "text": [
      "167/230 [====================>.........] - ETA: 15s - loss: 0.1129 - mae: 0.1442 - mse: 0.0363 - iou_metric: 0.5980"
     ]
    },
    {
     "name": "stderr",
     "output_type": "stream",
     "text": [
      "/home/choppy/TOC/.conda/envs/msc-thesis-2022/lib/python3.9/site-packages/imagecorruptions/corruptions.py:188: FutureWarning: `multichannel` is a deprecated argument name for `gaussian`. It will be removed in version 1.0. Please use `channel_axis` instead.\n",
      "  x = gaussian(np.array(x) / 255., sigma=c, multichannel=True)\n"
     ]
    },
    {
     "name": "stdout",
     "output_type": "stream",
     "text": [
      "169/230 [=====================>........] - ETA: 15s - loss: 0.1128 - mae: 0.1442 - mse: 0.0362 - iou_metric: 0.5981"
     ]
    },
    {
     "name": "stderr",
     "output_type": "stream",
     "text": [
      "/home/choppy/TOC/.conda/envs/msc-thesis-2022/lib/python3.9/site-packages/imagecorruptions/corruptions.py:188: FutureWarning: `multichannel` is a deprecated argument name for `gaussian`. It will be removed in version 1.0. Please use `channel_axis` instead.\n",
      "  x = gaussian(np.array(x) / 255., sigma=c, multichannel=True)\n",
      "/home/choppy/TOC/.conda/envs/msc-thesis-2022/lib/python3.9/site-packages/imgaug/augmenters/imgcorruptlike.py:484: FutureWarning: `multichannel` is a deprecated argument name for `gaussian`. It will be removed in version 1.0. Please use `channel_axis` instead.\n",
      "  gaussian(np.array(x) / 255., sigma=sigma, multichannel=True) * 255)\n",
      "/home/choppy/TOC/.conda/envs/msc-thesis-2022/lib/python3.9/site-packages/imgaug/augmenters/imgcorruptlike.py:516: FutureWarning: `multichannel` is a deprecated argument name for `gaussian`. It will be removed in version 1.0. Please use `channel_axis` instead.\n",
      "  gaussian(x / 255., sigma=sigma, multichannel=True),\n"
     ]
    },
    {
     "name": "stdout",
     "output_type": "stream",
     "text": [
      "172/230 [=====================>........] - ETA: 14s - loss: 0.1125 - mae: 0.1434 - mse: 0.0358 - iou_metric: 0.5997"
     ]
    },
    {
     "name": "stderr",
     "output_type": "stream",
     "text": [
      "/home/choppy/TOC/.conda/envs/msc-thesis-2022/lib/python3.9/site-packages/imgaug/augmenters/imgcorruptlike.py:484: FutureWarning: `multichannel` is a deprecated argument name for `gaussian`. It will be removed in version 1.0. Please use `channel_axis` instead.\n",
      "  gaussian(np.array(x) / 255., sigma=sigma, multichannel=True) * 255)\n"
     ]
    },
    {
     "name": "stdout",
     "output_type": "stream",
     "text": [
      "173/230 [=====================>........] - ETA: 14s - loss: 0.1124 - mae: 0.1432 - mse: 0.0357 - iou_metric: 0.6003"
     ]
    },
    {
     "name": "stderr",
     "output_type": "stream",
     "text": [
      "/home/choppy/TOC/.conda/envs/msc-thesis-2022/lib/python3.9/site-packages/imgaug/augmenters/imgcorruptlike.py:516: FutureWarning: `multichannel` is a deprecated argument name for `gaussian`. It will be removed in version 1.0. Please use `channel_axis` instead.\n",
      "  gaussian(x / 255., sigma=sigma, multichannel=True),\n",
      "/home/choppy/TOC/.conda/envs/msc-thesis-2022/lib/python3.9/site-packages/imgaug/augmenters/imgcorruptlike.py:484: FutureWarning: `multichannel` is a deprecated argument name for `gaussian`. It will be removed in version 1.0. Please use `channel_axis` instead.\n",
      "  gaussian(np.array(x) / 255., sigma=sigma, multichannel=True) * 255)\n"
     ]
    },
    {
     "name": "stdout",
     "output_type": "stream",
     "text": [
      "174/230 [=====================>........] - ETA: 14s - loss: 0.1123 - mae: 0.1430 - mse: 0.0356 - iou_metric: 0.6007"
     ]
    },
    {
     "name": "stderr",
     "output_type": "stream",
     "text": [
      "/home/choppy/TOC/.conda/envs/msc-thesis-2022/lib/python3.9/site-packages/imgaug/augmenters/imgcorruptlike.py:516: FutureWarning: `multichannel` is a deprecated argument name for `gaussian`. It will be removed in version 1.0. Please use `channel_axis` instead.\n",
      "  gaussian(x / 255., sigma=sigma, multichannel=True),\n",
      "/home/choppy/TOC/.conda/envs/msc-thesis-2022/lib/python3.9/site-packages/imgaug/augmenters/imgcorruptlike.py:484: FutureWarning: `multichannel` is a deprecated argument name for `gaussian`. It will be removed in version 1.0. Please use `channel_axis` instead.\n",
      "  gaussian(np.array(x) / 255., sigma=sigma, multichannel=True) * 255)\n"
     ]
    },
    {
     "name": "stdout",
     "output_type": "stream",
     "text": [
      "176/230 [=====================>........] - ETA: 13s - loss: 0.1120 - mae: 0.1425 - mse: 0.0354 - iou_metric: 0.6015"
     ]
    },
    {
     "name": "stderr",
     "output_type": "stream",
     "text": [
      "/home/choppy/TOC/.conda/envs/msc-thesis-2022/lib/python3.9/site-packages/imgaug/augmenters/imgcorruptlike.py:516: FutureWarning: `multichannel` is a deprecated argument name for `gaussian`. It will be removed in version 1.0. Please use `channel_axis` instead.\n",
      "  gaussian(x / 255., sigma=sigma, multichannel=True),\n",
      "/home/choppy/TOC/.conda/envs/msc-thesis-2022/lib/python3.9/site-packages/imagecorruptions/corruptions.py:188: FutureWarning: `multichannel` is a deprecated argument name for `gaussian`. It will be removed in version 1.0. Please use `channel_axis` instead.\n",
      "  x = gaussian(np.array(x) / 255., sigma=c, multichannel=True)\n"
     ]
    },
    {
     "name": "stdout",
     "output_type": "stream",
     "text": [
      "177/230 [======================>.......] - ETA: 13s - loss: 0.1119 - mae: 0.1423 - mse: 0.0353 - iou_metric: 0.6021"
     ]
    },
    {
     "name": "stderr",
     "output_type": "stream",
     "text": [
      "/home/choppy/TOC/.conda/envs/msc-thesis-2022/lib/python3.9/site-packages/imgaug/augmenters/imgcorruptlike.py:484: FutureWarning: `multichannel` is a deprecated argument name for `gaussian`. It will be removed in version 1.0. Please use `channel_axis` instead.\n",
      "  gaussian(np.array(x) / 255., sigma=sigma, multichannel=True) * 255)\n"
     ]
    },
    {
     "name": "stdout",
     "output_type": "stream",
     "text": [
      "179/230 [======================>.......] - ETA: 12s - loss: 0.1118 - mae: 0.1422 - mse: 0.0352 - iou_metric: 0.6023"
     ]
    },
    {
     "name": "stderr",
     "output_type": "stream",
     "text": [
      "/home/choppy/TOC/.conda/envs/msc-thesis-2022/lib/python3.9/site-packages/imgaug/augmenters/imgcorruptlike.py:516: FutureWarning: `multichannel` is a deprecated argument name for `gaussian`. It will be removed in version 1.0. Please use `channel_axis` instead.\n",
      "  gaussian(x / 255., sigma=sigma, multichannel=True),\n",
      "/home/choppy/TOC/.conda/envs/msc-thesis-2022/lib/python3.9/site-packages/imagecorruptions/corruptions.py:188: FutureWarning: `multichannel` is a deprecated argument name for `gaussian`. It will be removed in version 1.0. Please use `channel_axis` instead.\n",
      "  x = gaussian(np.array(x) / 255., sigma=c, multichannel=True)\n"
     ]
    },
    {
     "name": "stdout",
     "output_type": "stream",
     "text": [
      "181/230 [======================>.......] - ETA: 12s - loss: 0.1117 - mae: 0.1420 - mse: 0.0351 - iou_metric: 0.6027"
     ]
    },
    {
     "name": "stderr",
     "output_type": "stream",
     "text": [
      "/home/choppy/TOC/.conda/envs/msc-thesis-2022/lib/python3.9/site-packages/imagecorruptions/corruptions.py:188: FutureWarning: `multichannel` is a deprecated argument name for `gaussian`. It will be removed in version 1.0. Please use `channel_axis` instead.\n",
      "  x = gaussian(np.array(x) / 255., sigma=c, multichannel=True)\n",
      "/home/choppy/TOC/.conda/envs/msc-thesis-2022/lib/python3.9/site-packages/imagecorruptions/corruptions.py:188: FutureWarning: `multichannel` is a deprecated argument name for `gaussian`. It will be removed in version 1.0. Please use `channel_axis` instead.\n",
      "  x = gaussian(np.array(x) / 255., sigma=c, multichannel=True)\n",
      "/home/choppy/TOC/.conda/envs/msc-thesis-2022/lib/python3.9/site-packages/imgaug/augmenters/imgcorruptlike.py:484: FutureWarning: `multichannel` is a deprecated argument name for `gaussian`. It will be removed in version 1.0. Please use `channel_axis` instead.\n",
      "  gaussian(np.array(x) / 255., sigma=sigma, multichannel=True) * 255)\n"
     ]
    },
    {
     "name": "stdout",
     "output_type": "stream",
     "text": [
      "182/230 [======================>.......] - ETA: 12s - loss: 0.1116 - mae: 0.1419 - mse: 0.0350 - iou_metric: 0.6030"
     ]
    },
    {
     "name": "stderr",
     "output_type": "stream",
     "text": [
      "/home/choppy/TOC/.conda/envs/msc-thesis-2022/lib/python3.9/site-packages/imgaug/augmenters/imgcorruptlike.py:516: FutureWarning: `multichannel` is a deprecated argument name for `gaussian`. It will be removed in version 1.0. Please use `channel_axis` instead.\n",
      "  gaussian(x / 255., sigma=sigma, multichannel=True),\n",
      "/home/choppy/TOC/.conda/envs/msc-thesis-2022/lib/python3.9/site-packages/imagecorruptions/corruptions.py:188: FutureWarning: `multichannel` is a deprecated argument name for `gaussian`. It will be removed in version 1.0. Please use `channel_axis` instead.\n",
      "  x = gaussian(np.array(x) / 255., sigma=c, multichannel=True)\n",
      "/home/choppy/TOC/.conda/envs/msc-thesis-2022/lib/python3.9/site-packages/imgaug/augmenters/imgcorruptlike.py:484: FutureWarning: `multichannel` is a deprecated argument name for `gaussian`. It will be removed in version 1.0. Please use `channel_axis` instead.\n",
      "  gaussian(np.array(x) / 255., sigma=sigma, multichannel=True) * 255)\n"
     ]
    },
    {
     "name": "stdout",
     "output_type": "stream",
     "text": [
      "183/230 [======================>.......] - ETA: 11s - loss: 0.1115 - mae: 0.1415 - mse: 0.0349 - iou_metric: 0.6039"
     ]
    },
    {
     "name": "stderr",
     "output_type": "stream",
     "text": [
      "/home/choppy/TOC/.conda/envs/msc-thesis-2022/lib/python3.9/site-packages/imgaug/augmenters/imgcorruptlike.py:516: FutureWarning: `multichannel` is a deprecated argument name for `gaussian`. It will be removed in version 1.0. Please use `channel_axis` instead.\n",
      "  gaussian(x / 255., sigma=sigma, multichannel=True),\n",
      "/home/choppy/TOC/.conda/envs/msc-thesis-2022/lib/python3.9/site-packages/imagecorruptions/corruptions.py:188: FutureWarning: `multichannel` is a deprecated argument name for `gaussian`. It will be removed in version 1.0. Please use `channel_axis` instead.\n",
      "  x = gaussian(np.array(x) / 255., sigma=c, multichannel=True)\n"
     ]
    },
    {
     "name": "stdout",
     "output_type": "stream",
     "text": [
      "185/230 [=======================>......] - ETA: 11s - loss: 0.1113 - mae: 0.1411 - mse: 0.0347 - iou_metric: 0.6049"
     ]
    },
    {
     "name": "stderr",
     "output_type": "stream",
     "text": [
      "/home/choppy/TOC/.conda/envs/msc-thesis-2022/lib/python3.9/site-packages/imgaug/augmenters/imgcorruptlike.py:484: FutureWarning: `multichannel` is a deprecated argument name for `gaussian`. It will be removed in version 1.0. Please use `channel_axis` instead.\n",
      "  gaussian(np.array(x) / 255., sigma=sigma, multichannel=True) * 255)\n",
      "/home/choppy/TOC/.conda/envs/msc-thesis-2022/lib/python3.9/site-packages/imgaug/augmenters/imgcorruptlike.py:516: FutureWarning: `multichannel` is a deprecated argument name for `gaussian`. It will be removed in version 1.0. Please use `channel_axis` instead.\n",
      "  gaussian(x / 255., sigma=sigma, multichannel=True),\n",
      "/home/choppy/TOC/.conda/envs/msc-thesis-2022/lib/python3.9/site-packages/imgaug/augmenters/imgcorruptlike.py:484: FutureWarning: `multichannel` is a deprecated argument name for `gaussian`. It will be removed in version 1.0. Please use `channel_axis` instead.\n",
      "  gaussian(np.array(x) / 255., sigma=sigma, multichannel=True) * 255)\n"
     ]
    },
    {
     "name": "stdout",
     "output_type": "stream",
     "text": [
      "186/230 [=======================>......] - ETA: 11s - loss: 0.1112 - mae: 0.1407 - mse: 0.0346 - iou_metric: 0.6057"
     ]
    },
    {
     "name": "stderr",
     "output_type": "stream",
     "text": [
      "/home/choppy/TOC/.conda/envs/msc-thesis-2022/lib/python3.9/site-packages/imgaug/augmenters/imgcorruptlike.py:516: FutureWarning: `multichannel` is a deprecated argument name for `gaussian`. It will be removed in version 1.0. Please use `channel_axis` instead.\n",
      "  gaussian(x / 255., sigma=sigma, multichannel=True),\n"
     ]
    },
    {
     "name": "stdout",
     "output_type": "stream",
     "text": [
      "189/230 [=======================>......] - ETA: 10s - loss: 0.1110 - mae: 0.1404 - mse: 0.0344 - iou_metric: 0.6060"
     ]
    },
    {
     "name": "stderr",
     "output_type": "stream",
     "text": [
      "/home/choppy/TOC/.conda/envs/msc-thesis-2022/lib/python3.9/site-packages/imgaug/augmenters/imgcorruptlike.py:484: FutureWarning: `multichannel` is a deprecated argument name for `gaussian`. It will be removed in version 1.0. Please use `channel_axis` instead.\n",
      "  gaussian(np.array(x) / 255., sigma=sigma, multichannel=True) * 255)\n"
     ]
    },
    {
     "name": "stdout",
     "output_type": "stream",
     "text": [
      "191/230 [=======================>......] - ETA: 9s - loss: 0.1108 - mae: 0.1400 - mse: 0.0342 - iou_metric: 0.6070 "
     ]
    },
    {
     "name": "stderr",
     "output_type": "stream",
     "text": [
      "/home/choppy/TOC/.conda/envs/msc-thesis-2022/lib/python3.9/site-packages/imgaug/augmenters/imgcorruptlike.py:516: FutureWarning: `multichannel` is a deprecated argument name for `gaussian`. It will be removed in version 1.0. Please use `channel_axis` instead.\n",
      "  gaussian(x / 255., sigma=sigma, multichannel=True),\n",
      "/home/choppy/TOC/.conda/envs/msc-thesis-2022/lib/python3.9/site-packages/imagecorruptions/corruptions.py:188: FutureWarning: `multichannel` is a deprecated argument name for `gaussian`. It will be removed in version 1.0. Please use `channel_axis` instead.\n",
      "  x = gaussian(np.array(x) / 255., sigma=c, multichannel=True)\n"
     ]
    },
    {
     "name": "stdout",
     "output_type": "stream",
     "text": [
      "192/230 [========================>.....] - ETA: 9s - loss: 0.1107 - mae: 0.1398 - mse: 0.0341 - iou_metric: 0.6072"
     ]
    },
    {
     "name": "stderr",
     "output_type": "stream",
     "text": [
      "/home/choppy/TOC/.conda/envs/msc-thesis-2022/lib/python3.9/site-packages/imagecorruptions/corruptions.py:188: FutureWarning: `multichannel` is a deprecated argument name for `gaussian`. It will be removed in version 1.0. Please use `channel_axis` instead.\n",
      "  x = gaussian(np.array(x) / 255., sigma=c, multichannel=True)\n",
      "/home/choppy/TOC/.conda/envs/msc-thesis-2022/lib/python3.9/site-packages/imgaug/augmenters/imgcorruptlike.py:484: FutureWarning: `multichannel` is a deprecated argument name for `gaussian`. It will be removed in version 1.0. Please use `channel_axis` instead.\n",
      "  gaussian(np.array(x) / 255., sigma=sigma, multichannel=True) * 255)\n"
     ]
    },
    {
     "name": "stdout",
     "output_type": "stream",
     "text": [
      "193/230 [========================>.....] - ETA: 9s - loss: 0.1106 - mae: 0.1395 - mse: 0.0340 - iou_metric: 0.6079"
     ]
    },
    {
     "name": "stderr",
     "output_type": "stream",
     "text": [
      "/home/choppy/TOC/.conda/envs/msc-thesis-2022/lib/python3.9/site-packages/imgaug/augmenters/imgcorruptlike.py:516: FutureWarning: `multichannel` is a deprecated argument name for `gaussian`. It will be removed in version 1.0. Please use `channel_axis` instead.\n",
      "  gaussian(x / 255., sigma=sigma, multichannel=True),\n",
      "/home/choppy/TOC/.conda/envs/msc-thesis-2022/lib/python3.9/site-packages/imgaug/augmenters/imgcorruptlike.py:484: FutureWarning: `multichannel` is a deprecated argument name for `gaussian`. It will be removed in version 1.0. Please use `channel_axis` instead.\n",
      "  gaussian(np.array(x) / 255., sigma=sigma, multichannel=True) * 255)\n",
      "/home/choppy/TOC/.conda/envs/msc-thesis-2022/lib/python3.9/site-packages/imgaug/augmenters/imgcorruptlike.py:516: FutureWarning: `multichannel` is a deprecated argument name for `gaussian`. It will be removed in version 1.0. Please use `channel_axis` instead.\n",
      "  gaussian(x / 255., sigma=sigma, multichannel=True),\n",
      "/home/choppy/TOC/.conda/envs/msc-thesis-2022/lib/python3.9/site-packages/imgaug/augmenters/imgcorruptlike.py:484: FutureWarning: `multichannel` is a deprecated argument name for `gaussian`. It will be removed in version 1.0. Please use `channel_axis` instead.\n",
      "  gaussian(np.array(x) / 255., sigma=sigma, multichannel=True) * 255)\n"
     ]
    },
    {
     "name": "stdout",
     "output_type": "stream",
     "text": [
      "194/230 [========================>.....] - ETA: 9s - loss: 0.1105 - mae: 0.1394 - mse: 0.0340 - iou_metric: 0.6080"
     ]
    },
    {
     "name": "stderr",
     "output_type": "stream",
     "text": [
      "/home/choppy/TOC/.conda/envs/msc-thesis-2022/lib/python3.9/site-packages/imgaug/augmenters/imgcorruptlike.py:516: FutureWarning: `multichannel` is a deprecated argument name for `gaussian`. It will be removed in version 1.0. Please use `channel_axis` instead.\n",
      "  gaussian(x / 255., sigma=sigma, multichannel=True),\n",
      "/home/choppy/TOC/.conda/envs/msc-thesis-2022/lib/python3.9/site-packages/imagecorruptions/corruptions.py:188: FutureWarning: `multichannel` is a deprecated argument name for `gaussian`. It will be removed in version 1.0. Please use `channel_axis` instead.\n",
      "  x = gaussian(np.array(x) / 255., sigma=c, multichannel=True)\n",
      "/home/choppy/TOC/.conda/envs/msc-thesis-2022/lib/python3.9/site-packages/imagecorruptions/corruptions.py:188: FutureWarning: `multichannel` is a deprecated argument name for `gaussian`. It will be removed in version 1.0. Please use `channel_axis` instead.\n",
      "  x = gaussian(np.array(x) / 255., sigma=c, multichannel=True)\n"
     ]
    },
    {
     "name": "stdout",
     "output_type": "stream",
     "text": [
      "196/230 [========================>.....] - ETA: 8s - loss: 0.1103 - mae: 0.1391 - mse: 0.0338 - iou_metric: 0.6087"
     ]
    },
    {
     "name": "stderr",
     "output_type": "stream",
     "text": [
      "/home/choppy/TOC/.conda/envs/msc-thesis-2022/lib/python3.9/site-packages/imagecorruptions/corruptions.py:188: FutureWarning: `multichannel` is a deprecated argument name for `gaussian`. It will be removed in version 1.0. Please use `channel_axis` instead.\n",
      "  x = gaussian(np.array(x) / 255., sigma=c, multichannel=True)\n",
      "/home/choppy/TOC/.conda/envs/msc-thesis-2022/lib/python3.9/site-packages/imgaug/augmenters/imgcorruptlike.py:484: FutureWarning: `multichannel` is a deprecated argument name for `gaussian`. It will be removed in version 1.0. Please use `channel_axis` instead.\n",
      "  gaussian(np.array(x) / 255., sigma=sigma, multichannel=True) * 255)\n"
     ]
    },
    {
     "name": "stdout",
     "output_type": "stream",
     "text": [
      "197/230 [========================>.....] - ETA: 8s - loss: 0.1103 - mae: 0.1391 - mse: 0.0338 - iou_metric: 0.6085"
     ]
    },
    {
     "name": "stderr",
     "output_type": "stream",
     "text": [
      "/home/choppy/TOC/.conda/envs/msc-thesis-2022/lib/python3.9/site-packages/imgaug/augmenters/imgcorruptlike.py:516: FutureWarning: `multichannel` is a deprecated argument name for `gaussian`. It will be removed in version 1.0. Please use `channel_axis` instead.\n",
      "  gaussian(x / 255., sigma=sigma, multichannel=True),\n",
      "/home/choppy/TOC/.conda/envs/msc-thesis-2022/lib/python3.9/site-packages/imgaug/augmenters/imgcorruptlike.py:484: FutureWarning: `multichannel` is a deprecated argument name for `gaussian`. It will be removed in version 1.0. Please use `channel_axis` instead.\n",
      "  gaussian(np.array(x) / 255., sigma=sigma, multichannel=True) * 255)\n"
     ]
    },
    {
     "name": "stdout",
     "output_type": "stream",
     "text": [
      "198/230 [========================>.....] - ETA: 8s - loss: 0.1103 - mae: 0.1391 - mse: 0.0338 - iou_metric: 0.6086"
     ]
    },
    {
     "name": "stderr",
     "output_type": "stream",
     "text": [
      "/home/choppy/TOC/.conda/envs/msc-thesis-2022/lib/python3.9/site-packages/imgaug/augmenters/imgcorruptlike.py:516: FutureWarning: `multichannel` is a deprecated argument name for `gaussian`. It will be removed in version 1.0. Please use `channel_axis` instead.\n",
      "  gaussian(x / 255., sigma=sigma, multichannel=True),\n",
      "/home/choppy/TOC/.conda/envs/msc-thesis-2022/lib/python3.9/site-packages/imgaug/augmenters/imgcorruptlike.py:484: FutureWarning: `multichannel` is a deprecated argument name for `gaussian`. It will be removed in version 1.0. Please use `channel_axis` instead.\n",
      "  gaussian(np.array(x) / 255., sigma=sigma, multichannel=True) * 255)\n"
     ]
    },
    {
     "name": "stdout",
     "output_type": "stream",
     "text": [
      "200/230 [=========================>....] - ETA: 7s - loss: 0.1101 - mae: 0.1388 - mse: 0.0336 - iou_metric: 0.6092"
     ]
    },
    {
     "name": "stderr",
     "output_type": "stream",
     "text": [
      "/home/choppy/TOC/.conda/envs/msc-thesis-2022/lib/python3.9/site-packages/imgaug/augmenters/imgcorruptlike.py:516: FutureWarning: `multichannel` is a deprecated argument name for `gaussian`. It will be removed in version 1.0. Please use `channel_axis` instead.\n",
      "  gaussian(x / 255., sigma=sigma, multichannel=True),\n",
      "/home/choppy/TOC/.conda/envs/msc-thesis-2022/lib/python3.9/site-packages/imagecorruptions/corruptions.py:188: FutureWarning: `multichannel` is a deprecated argument name for `gaussian`. It will be removed in version 1.0. Please use `channel_axis` instead.\n",
      "  x = gaussian(np.array(x) / 255., sigma=c, multichannel=True)\n"
     ]
    },
    {
     "name": "stdout",
     "output_type": "stream",
     "text": [
      "201/230 [=========================>....] - ETA: 7s - loss: 0.1101 - mae: 0.1388 - mse: 0.0336 - iou_metric: 0.6090"
     ]
    },
    {
     "name": "stderr",
     "output_type": "stream",
     "text": [
      "/home/choppy/TOC/.conda/envs/msc-thesis-2022/lib/python3.9/site-packages/imgaug/augmenters/imgcorruptlike.py:484: FutureWarning: `multichannel` is a deprecated argument name for `gaussian`. It will be removed in version 1.0. Please use `channel_axis` instead.\n",
      "  gaussian(np.array(x) / 255., sigma=sigma, multichannel=True) * 255)\n",
      "/home/choppy/TOC/.conda/envs/msc-thesis-2022/lib/python3.9/site-packages/imgaug/augmenters/imgcorruptlike.py:516: FutureWarning: `multichannel` is a deprecated argument name for `gaussian`. It will be removed in version 1.0. Please use `channel_axis` instead.\n",
      "  gaussian(x / 255., sigma=sigma, multichannel=True),\n"
     ]
    },
    {
     "name": "stdout",
     "output_type": "stream",
     "text": [
      "202/230 [=========================>....] - ETA: 7s - loss: 0.1100 - mae: 0.1387 - mse: 0.0335 - iou_metric: 0.6091"
     ]
    },
    {
     "name": "stderr",
     "output_type": "stream",
     "text": [
      "/home/choppy/TOC/.conda/envs/msc-thesis-2022/lib/python3.9/site-packages/imgaug/augmenters/imgcorruptlike.py:484: FutureWarning: `multichannel` is a deprecated argument name for `gaussian`. It will be removed in version 1.0. Please use `channel_axis` instead.\n",
      "  gaussian(np.array(x) / 255., sigma=sigma, multichannel=True) * 255)\n"
     ]
    },
    {
     "name": "stdout",
     "output_type": "stream",
     "text": [
      "203/230 [=========================>....] - ETA: 7s - loss: 0.1100 - mae: 0.1387 - mse: 0.0335 - iou_metric: 0.6092"
     ]
    },
    {
     "name": "stderr",
     "output_type": "stream",
     "text": [
      "/home/choppy/TOC/.conda/envs/msc-thesis-2022/lib/python3.9/site-packages/imgaug/augmenters/imgcorruptlike.py:516: FutureWarning: `multichannel` is a deprecated argument name for `gaussian`. It will be removed in version 1.0. Please use `channel_axis` instead.\n",
      "  gaussian(x / 255., sigma=sigma, multichannel=True),\n"
     ]
    },
    {
     "name": "stdout",
     "output_type": "stream",
     "text": [
      "207/230 [==========================>...] - ETA: 5s - loss: 0.1097 - mae: 0.1381 - mse: 0.0332 - iou_metric: 0.6103"
     ]
    },
    {
     "name": "stderr",
     "output_type": "stream",
     "text": [
      "/home/choppy/TOC/.conda/envs/msc-thesis-2022/lib/python3.9/site-packages/imagecorruptions/corruptions.py:188: FutureWarning: `multichannel` is a deprecated argument name for `gaussian`. It will be removed in version 1.0. Please use `channel_axis` instead.\n",
      "  x = gaussian(np.array(x) / 255., sigma=c, multichannel=True)\n",
      "/home/choppy/TOC/.conda/envs/msc-thesis-2022/lib/python3.9/site-packages/imagecorruptions/corruptions.py:188: FutureWarning: `multichannel` is a deprecated argument name for `gaussian`. It will be removed in version 1.0. Please use `channel_axis` instead.\n",
      "  x = gaussian(np.array(x) / 255., sigma=c, multichannel=True)\n"
     ]
    },
    {
     "name": "stdout",
     "output_type": "stream",
     "text": [
      "230/230 [==============================] - 81s 270ms/step - loss: 0.1081 - mae: 0.1351 - mse: 0.0318 - iou_metric: 0.6168 - val_loss: 0.0888 - val_mae: 0.0873 - val_mse: 0.0136 - val_iou_metric: 0.7342 - lr: 1.0000e-04\n",
      "Epoch 2/150\n",
      "230/230 [==============================] - 17s 73ms/step - loss: 0.0874 - mae: 0.0925 - mse: 0.0146 - iou_metric: 0.7144 - val_loss: 0.0794 - val_mae: 0.0691 - val_mse: 0.0093 - val_iou_metric: 0.7828 - lr: 1.0000e-04\n",
      "Epoch 3/150\n",
      "230/230 [==============================] - 17s 74ms/step - loss: 0.0785 - mae: 0.0823 - mse: 0.0119 - iou_metric: 0.7429 - val_loss: 0.0721 - val_mae: 0.0681 - val_mse: 0.0093 - val_iou_metric: 0.7862 - lr: 1.0000e-04\n",
      "Epoch 4/150\n",
      "230/230 [==============================] - 17s 75ms/step - loss: 0.0700 - mae: 0.0777 - mse: 0.0109 - iou_metric: 0.7556 - val_loss: 0.0644 - val_mae: 0.0670 - val_mse: 0.0091 - val_iou_metric: 0.7898 - lr: 1.0000e-04\n",
      "Epoch 5/150\n",
      "230/230 [==============================] - 17s 75ms/step - loss: 0.0619 - mae: 0.0749 - mse: 0.0103 - iou_metric: 0.7639 - val_loss: 0.0569 - val_mae: 0.0675 - val_mse: 0.0091 - val_iou_metric: 0.7873 - lr: 1.0000e-04\n",
      "Epoch 6/150\n",
      "230/230 [==============================] - 17s 75ms/step - loss: 0.0541 - mae: 0.0731 - mse: 0.0099 - iou_metric: 0.7695 - val_loss: 0.0496 - val_mae: 0.0668 - val_mse: 0.0089 - val_iou_metric: 0.7898 - lr: 1.0000e-04\n",
      "Epoch 7/150\n",
      "230/230 [==============================] - 17s 76ms/step - loss: 0.0471 - mae: 0.0718 - mse: 0.0097 - iou_metric: 0.7738 - val_loss: 0.0428 - val_mae: 0.0654 - val_mse: 0.0086 - val_iou_metric: 0.7941 - lr: 1.0000e-04\n",
      "Epoch 8/150\n",
      "230/230 [==============================] - 17s 76ms/step - loss: 0.0407 - mae: 0.0699 - mse: 0.0092 - iou_metric: 0.7783 - val_loss: 0.0374 - val_mae: 0.0662 - val_mse: 0.0086 - val_iou_metric: 0.7909 - lr: 1.0000e-04\n",
      "Epoch 9/150\n",
      "230/230 [==============================] - 17s 75ms/step - loss: 0.0356 - mae: 0.0689 - mse: 0.0091 - iou_metric: 0.7823 - val_loss: 0.0323 - val_mae: 0.0639 - val_mse: 0.0080 - val_iou_metric: 0.7967 - lr: 1.0000e-04\n",
      "Epoch 10/150\n",
      "230/230 [==============================] - 19s 82ms/step - loss: 0.0310 - mae: 0.0680 - mse: 0.0088 - iou_metric: 0.7839 - val_loss: 0.0284 - val_mae: 0.0639 - val_mse: 0.0081 - val_iou_metric: 0.7975 - lr: 1.0000e-04\n",
      "Epoch 11/150\n",
      "230/230 [==============================] - 20s 87ms/step - loss: 0.0272 - mae: 0.0671 - mse: 0.0086 - iou_metric: 0.7863 - val_loss: 0.0258 - val_mae: 0.0664 - val_mse: 0.0087 - val_iou_metric: 0.7912 - lr: 1.0000e-04\n",
      "Epoch 12/150\n",
      "230/230 [==============================] - 20s 87ms/step - loss: 0.0243 - mae: 0.0668 - mse: 0.0086 - iou_metric: 0.7877 - val_loss: 0.0232 - val_mae: 0.0661 - val_mse: 0.0088 - val_iou_metric: 0.7928 - lr: 1.0000e-04\n",
      "Epoch 13/150\n",
      "230/230 [==============================] - 20s 87ms/step - loss: 0.0217 - mae: 0.0662 - mse: 0.0085 - iou_metric: 0.7897 - val_loss: 0.0203 - val_mae: 0.0642 - val_mse: 0.0081 - val_iou_metric: 0.7962 - lr: 1.0000e-04\n",
      "Epoch 14/150\n",
      "230/230 [==============================] - 20s 87ms/step - loss: 0.0197 - mae: 0.0663 - mse: 0.0085 - iou_metric: 0.7896 - val_loss: 0.0185 - val_mae: 0.0637 - val_mse: 0.0082 - val_iou_metric: 0.7984 - lr: 1.0000e-04\n",
      "Epoch 15/150\n",
      "230/230 [==============================] - 20s 87ms/step - loss: 0.0179 - mae: 0.0658 - mse: 0.0084 - iou_metric: 0.7911 - val_loss: 0.0171 - val_mae: 0.0642 - val_mse: 0.0083 - val_iou_metric: 0.7977 - lr: 1.0000e-04\n",
      "Epoch 16/150\n",
      "230/230 [==============================] - 20s 87ms/step - loss: 0.0167 - mae: 0.0662 - mse: 0.0086 - iou_metric: 0.7901 - val_loss: 0.0156 - val_mae: 0.0635 - val_mse: 0.0081 - val_iou_metric: 0.7988 - lr: 1.0000e-04\n",
      "Epoch 17/150\n",
      "230/230 [==============================] - 20s 87ms/step - loss: 0.0153 - mae: 0.0655 - mse: 0.0084 - iou_metric: 0.7924 - val_loss: 0.0150 - val_mae: 0.0651 - val_mse: 0.0087 - val_iou_metric: 0.7961 - lr: 1.0000e-04\n",
      "Epoch 18/150\n",
      "230/230 [==============================] - 20s 87ms/step - loss: 0.0141 - mae: 0.0653 - mse: 0.0082 - iou_metric: 0.7923 - val_loss: 0.0144 - val_mae: 0.0660 - val_mse: 0.0089 - val_iou_metric: 0.7944 - lr: 1.0000e-04\n",
      "Epoch 19/150\n",
      "230/230 [==============================] - 20s 87ms/step - loss: 0.0135 - mae: 0.0660 - mse: 0.0084 - iou_metric: 0.7906 - val_loss: 0.0128 - val_mae: 0.0638 - val_mse: 0.0082 - val_iou_metric: 0.7983 - lr: 1.0000e-04\n",
      "Epoch 20/150\n",
      "230/230 [==============================] - 20s 87ms/step - loss: 0.0125 - mae: 0.0650 - mse: 0.0083 - iou_metric: 0.7937 - val_loss: 0.0121 - val_mae: 0.0635 - val_mse: 0.0082 - val_iou_metric: 0.7994 - lr: 1.0000e-04\n",
      "Epoch 21/150\n",
      "230/230 [==============================] - 20s 87ms/step - loss: 0.0118 - mae: 0.0647 - mse: 0.0082 - iou_metric: 0.7945 - val_loss: 0.0118 - val_mae: 0.0645 - val_mse: 0.0085 - val_iou_metric: 0.7975 - lr: 1.0000e-04\n",
      "Epoch 22/150\n",
      "230/230 [==============================] - 20s 87ms/step - loss: 0.0115 - mae: 0.0652 - mse: 0.0084 - iou_metric: 0.7934 - val_loss: 0.0119 - val_mae: 0.0662 - val_mse: 0.0090 - val_iou_metric: 0.7933 - lr: 1.0000e-04\n",
      "Epoch 23/150\n",
      "230/230 [==============================] - 20s 87ms/step - loss: 0.0108 - mae: 0.0642 - mse: 0.0081 - iou_metric: 0.7955 - val_loss: 0.0109 - val_mae: 0.0640 - val_mse: 0.0084 - val_iou_metric: 0.7988 - lr: 1.0000e-04\n",
      "Epoch 24/150\n",
      "230/230 [==============================] - 20s 87ms/step - loss: 0.0104 - mae: 0.0639 - mse: 0.0080 - iou_metric: 0.7965 - val_loss: 0.0109 - val_mae: 0.0645 - val_mse: 0.0086 - val_iou_metric: 0.7976 - lr: 1.0000e-04\n",
      "Epoch 25/150\n",
      "230/230 [==============================] - 20s 87ms/step - loss: 0.0101 - mae: 0.0636 - mse: 0.0079 - iou_metric: 0.7973 - val_loss: 0.0102 - val_mae: 0.0629 - val_mse: 0.0080 - val_iou_metric: 0.8009 - lr: 1.0000e-04\n",
      "Epoch 26/150\n",
      "230/230 [==============================] - 20s 87ms/step - loss: 0.0100 - mae: 0.0639 - mse: 0.0080 - iou_metric: 0.7965 - val_loss: 0.0099 - val_mae: 0.0632 - val_mse: 0.0080 - val_iou_metric: 0.7997 - lr: 1.0000e-04\n",
      "Epoch 27/150\n",
      "230/230 [==============================] - 20s 87ms/step - loss: 0.0096 - mae: 0.0626 - mse: 0.0077 - iou_metric: 0.7996 - val_loss: 0.0101 - val_mae: 0.0647 - val_mse: 0.0082 - val_iou_metric: 0.7958 - lr: 1.0000e-04\n",
      "Epoch 28/150\n",
      "230/230 [==============================] - 20s 87ms/step - loss: 0.0094 - mae: 0.0624 - mse: 0.0076 - iou_metric: 0.8002 - val_loss: 0.0094 - val_mae: 0.0617 - val_mse: 0.0076 - val_iou_metric: 0.8029 - lr: 1.0000e-04\n",
      "Epoch 29/150\n",
      "230/230 [==============================] - 20s 86ms/step - loss: 0.0093 - mae: 0.0620 - mse: 0.0075 - iou_metric: 0.8012 - val_loss: 0.0093 - val_mae: 0.0616 - val_mse: 0.0075 - val_iou_metric: 0.8029 - lr: 1.0000e-04\n",
      "Epoch 30/150\n",
      "230/230 [==============================] - 18s 78ms/step - loss: 0.0092 - mae: 0.0624 - mse: 0.0075 - iou_metric: 0.7998 - val_loss: 0.0098 - val_mae: 0.0631 - val_mse: 0.0082 - val_iou_metric: 0.8008 - lr: 1.0000e-04\n",
      "Epoch 31/150\n",
      "230/230 [==============================] - 18s 77ms/step - loss: 0.0089 - mae: 0.0613 - mse: 0.0073 - iou_metric: 0.8027 - val_loss: 0.0086 - val_mae: 0.0595 - val_mse: 0.0070 - val_iou_metric: 0.8085 - lr: 1.0000e-04\n",
      "Epoch 32/150\n",
      "230/230 [==============================] - 18s 77ms/step - loss: 0.0087 - mae: 0.0602 - mse: 0.0071 - iou_metric: 0.8056 - val_loss: 0.0096 - val_mae: 0.0623 - val_mse: 0.0080 - val_iou_metric: 0.8028 - lr: 1.0000e-04\n",
      "Epoch 33/150\n",
      "230/230 [==============================] - 18s 77ms/step - loss: 0.0086 - mae: 0.0599 - mse: 0.0070 - iou_metric: 0.8066 - val_loss: 0.0092 - val_mae: 0.0618 - val_mse: 0.0076 - val_iou_metric: 0.8020 - lr: 1.0000e-04\n",
      "Epoch 34/150\n",
      "230/230 [==============================] - 18s 77ms/step - loss: 0.0084 - mae: 0.0595 - mse: 0.0069 - iou_metric: 0.8074 - val_loss: 0.0081 - val_mae: 0.0571 - val_mse: 0.0066 - val_iou_metric: 0.8143 - lr: 1.0000e-04\n",
      "Epoch 35/150\n",
      "230/230 [==============================] - 18s 77ms/step - loss: 0.0088 - mae: 0.0611 - mse: 0.0073 - iou_metric: 0.8031 - val_loss: 0.0092 - val_mae: 0.0618 - val_mse: 0.0077 - val_iou_metric: 0.8030 - lr: 1.0000e-04\n",
      "Epoch 36/150\n",
      "230/230 [==============================] - 18s 76ms/step - loss: 0.0089 - mae: 0.0611 - mse: 0.0074 - iou_metric: 0.8039 - val_loss: 0.0089 - val_mae: 0.0606 - val_mse: 0.0074 - val_iou_metric: 0.8066 - lr: 1.0000e-04\n",
      "Epoch 37/150\n",
      "230/230 [==============================] - 17s 76ms/step - loss: 0.0083 - mae: 0.0588 - mse: 0.0069 - iou_metric: 0.8090 - val_loss: 0.0089 - val_mae: 0.0597 - val_mse: 0.0074 - val_iou_metric: 0.8090 - lr: 1.0000e-04\n",
      "Epoch 38/150\n",
      "230/230 [==============================] - 18s 76ms/step - loss: 0.0082 - mae: 0.0589 - mse: 0.0068 - iou_metric: 0.8081 - val_loss: 0.0076 - val_mae: 0.0555 - val_mse: 0.0062 - val_iou_metric: 0.8187 - lr: 1.0000e-04\n",
      "Epoch 39/150\n",
      "230/230 [==============================] - 18s 76ms/step - loss: 0.0080 - mae: 0.0583 - mse: 0.0066 - iou_metric: 0.8103 - val_loss: 0.0074 - val_mae: 0.0545 - val_mse: 0.0060 - val_iou_metric: 0.8213 - lr: 1.0000e-04\n",
      "Epoch 40/150\n",
      "230/230 [==============================] - 17s 76ms/step - loss: 0.0076 - mae: 0.0573 - mse: 0.0063 - iou_metric: 0.8128 - val_loss: 0.0077 - val_mae: 0.0568 - val_mse: 0.0064 - val_iou_metric: 0.8140 - lr: 1.0000e-04\n",
      "Epoch 41/150\n",
      "230/230 [==============================] - 18s 76ms/step - loss: 0.0078 - mae: 0.0576 - mse: 0.0065 - iou_metric: 0.8122 - val_loss: 0.0075 - val_mae: 0.0556 - val_mse: 0.0063 - val_iou_metric: 0.8181 - lr: 1.0000e-04\n",
      "Epoch 42/150\n",
      "230/230 [==============================] - 18s 76ms/step - loss: 0.0075 - mae: 0.0570 - mse: 0.0063 - iou_metric: 0.8137 - val_loss: 0.0079 - val_mae: 0.0579 - val_mse: 0.0068 - val_iou_metric: 0.8121 - lr: 1.0000e-04\n",
      "Epoch 43/150\n",
      "230/230 [==============================] - 18s 76ms/step - loss: 0.0079 - mae: 0.0583 - mse: 0.0067 - iou_metric: 0.8104 - val_loss: 0.0077 - val_mae: 0.0563 - val_mse: 0.0065 - val_iou_metric: 0.8168 - lr: 1.0000e-04\n",
      "Epoch 44/150\n",
      "230/230 [==============================] - 17s 76ms/step - loss: 0.0076 - mae: 0.0574 - mse: 0.0064 - iou_metric: 0.8122 - val_loss: 0.0077 - val_mae: 0.0565 - val_mse: 0.0064 - val_iou_metric: 0.8153 - lr: 1.0000e-04\n",
      "Epoch 45/150\n",
      "230/230 [==============================] - 18s 76ms/step - loss: 0.0075 - mae: 0.0571 - mse: 0.0063 - iou_metric: 0.8134 - val_loss: 0.0075 - val_mae: 0.0552 - val_mse: 0.0063 - val_iou_metric: 0.8195 - lr: 1.0000e-04\n",
      "Epoch 46/150\n",
      "230/230 [==============================] - 17s 76ms/step - loss: 0.0072 - mae: 0.0558 - mse: 0.0061 - iou_metric: 0.8164 - val_loss: 0.0081 - val_mae: 0.0578 - val_mse: 0.0070 - val_iou_metric: 0.8139 - lr: 1.0000e-04\n",
      "Epoch 47/150\n",
      "230/230 [==============================] - 18s 76ms/step - loss: 0.0072 - mae: 0.0562 - mse: 0.0061 - iou_metric: 0.8155 - val_loss: 0.0085 - val_mae: 0.0597 - val_mse: 0.0073 - val_iou_metric: 0.8089 - lr: 1.0000e-04\n",
      "Epoch 48/150\n",
      "230/230 [==============================] - 17s 76ms/step - loss: 0.0072 - mae: 0.0559 - mse: 0.0061 - iou_metric: 0.8166 - val_loss: 0.0074 - val_mae: 0.0556 - val_mse: 0.0063 - val_iou_metric: 0.8185 - lr: 1.0000e-04\n",
      "Epoch 49/150\n",
      "230/230 [==============================] - 18s 76ms/step - loss: 0.0071 - mae: 0.0557 - mse: 0.0060 - iou_metric: 0.8172 - val_loss: 0.0072 - val_mae: 0.0547 - val_mse: 0.0062 - val_iou_metric: 0.8210 - lr: 1.0000e-04\n",
      "Epoch 50/150\n",
      "230/230 [==============================] - 18s 76ms/step - loss: 0.0070 - mae: 0.0558 - mse: 0.0060 - iou_metric: 0.8168 - val_loss: 0.0070 - val_mae: 0.0544 - val_mse: 0.0059 - val_iou_metric: 0.8205 - lr: 1.0000e-04\n",
      "Epoch 51/150\n",
      "230/230 [==============================] - 18s 76ms/step - loss: 0.0072 - mae: 0.0565 - mse: 0.0062 - iou_metric: 0.8146 - val_loss: 0.0071 - val_mae: 0.0548 - val_mse: 0.0061 - val_iou_metric: 0.8201 - lr: 1.0000e-04\n",
      "Epoch 52/150\n",
      "230/230 [==============================] - 17s 76ms/step - loss: 0.0070 - mae: 0.0552 - mse: 0.0059 - iou_metric: 0.8180 - val_loss: 0.0075 - val_mae: 0.0565 - val_mse: 0.0064 - val_iou_metric: 0.8159 - lr: 1.0000e-04\n",
      "Epoch 53/150\n",
      "230/230 [==============================] - 17s 76ms/step - loss: 0.0072 - mae: 0.0563 - mse: 0.0062 - iou_metric: 0.8151 - val_loss: 0.0067 - val_mae: 0.0533 - val_mse: 0.0056 - val_iou_metric: 0.8234 - lr: 1.0000e-04\n",
      "Epoch 54/150\n",
      "230/230 [==============================] - 17s 76ms/step - loss: 0.0070 - mae: 0.0555 - mse: 0.0059 - iou_metric: 0.8177 - val_loss: 0.0081 - val_mae: 0.0590 - val_mse: 0.0070 - val_iou_metric: 0.8094 - lr: 1.0000e-04\n",
      "Epoch 55/150\n",
      "230/230 [==============================] - 17s 76ms/step - loss: 0.0070 - mae: 0.0556 - mse: 0.0059 - iou_metric: 0.8175 - val_loss: 0.0071 - val_mae: 0.0548 - val_mse: 0.0060 - val_iou_metric: 0.8204 - lr: 1.0000e-04\n",
      "Epoch 56/150\n",
      "230/230 [==============================] - 17s 76ms/step - loss: 0.0069 - mae: 0.0553 - mse: 0.0059 - iou_metric: 0.8183 - val_loss: 0.0081 - val_mae: 0.0598 - val_mse: 0.0070 - val_iou_metric: 0.8066 - lr: 1.0000e-04\n",
      "Epoch 57/150\n",
      "230/230 [==============================] - 17s 76ms/step - loss: 0.0069 - mae: 0.0548 - mse: 0.0059 - iou_metric: 0.8192 - val_loss: 0.0080 - val_mae: 0.0589 - val_mse: 0.0070 - val_iou_metric: 0.8099 - lr: 1.0000e-04\n",
      "Epoch 58/150\n",
      "230/230 [==============================] - 17s 76ms/step - loss: 0.0068 - mae: 0.0550 - mse: 0.0058 - iou_metric: 0.8187 - val_loss: 0.0076 - val_mae: 0.0569 - val_mse: 0.0066 - val_iou_metric: 0.8157 - lr: 1.0000e-04\n",
      "Epoch 59/150\n",
      "230/230 [==============================] - 17s 76ms/step - loss: 0.0068 - mae: 0.0551 - mse: 0.0058 - iou_metric: 0.8185 - val_loss: 0.0073 - val_mae: 0.0547 - val_mse: 0.0062 - val_iou_metric: 0.8214 - lr: 1.0000e-04\n",
      "Epoch 60/150\n",
      "230/230 [==============================] - 17s 76ms/step - loss: 0.0069 - mae: 0.0551 - mse: 0.0059 - iou_metric: 0.8187 - val_loss: 0.0072 - val_mae: 0.0546 - val_mse: 0.0062 - val_iou_metric: 0.8213 - lr: 1.0000e-04\n",
      "Epoch 61/150\n",
      "230/230 [==============================] - 17s 76ms/step - loss: 0.0067 - mae: 0.0537 - mse: 0.0057 - iou_metric: 0.8224 - val_loss: 0.0069 - val_mae: 0.0542 - val_mse: 0.0059 - val_iou_metric: 0.8219 - lr: 1.0000e-04\n",
      "Epoch 62/150\n",
      "230/230 [==============================] - 17s 76ms/step - loss: 0.0069 - mae: 0.0554 - mse: 0.0059 - iou_metric: 0.8179 - val_loss: 0.0071 - val_mae: 0.0544 - val_mse: 0.0060 - val_iou_metric: 0.8216 - lr: 1.0000e-04\n",
      "Epoch 63/150\n",
      "229/230 [============================>.] - ETA: 0s - loss: 0.0067 - mae: 0.0543 - mse: 0.0057 - iou_metric: 0.8205\n",
      "Epoch 63: ReduceLROnPlateau reducing learning rate to 9.999999747378752e-06.\n",
      "230/230 [==============================] - 17s 76ms/step - loss: 0.0067 - mae: 0.0544 - mse: 0.0057 - iou_metric: 0.8204 - val_loss: 0.0067 - val_mae: 0.0535 - val_mse: 0.0057 - val_iou_metric: 0.8233 - lr: 1.0000e-04\n",
      "Epoch 64/150\n",
      "230/230 [==============================] - 17s 76ms/step - loss: 0.0064 - mae: 0.0531 - mse: 0.0054 - iou_metric: 0.8241 - val_loss: 0.0064 - val_mae: 0.0514 - val_mse: 0.0054 - val_iou_metric: 0.8295 - lr: 1.0000e-05\n",
      "Epoch 65/150\n",
      "230/230 [==============================] - 17s 76ms/step - loss: 0.0063 - mae: 0.0528 - mse: 0.0054 - iou_metric: 0.8244 - val_loss: 0.0062 - val_mae: 0.0508 - val_mse: 0.0053 - val_iou_metric: 0.8309 - lr: 1.0000e-05\n",
      "Epoch 66/150\n",
      "230/230 [==============================] - 17s 76ms/step - loss: 0.0062 - mae: 0.0523 - mse: 0.0052 - iou_metric: 0.8260 - val_loss: 0.0062 - val_mae: 0.0507 - val_mse: 0.0053 - val_iou_metric: 0.8311 - lr: 1.0000e-05\n",
      "Epoch 67/150\n",
      "230/230 [==============================] - 17s 76ms/step - loss: 0.0061 - mae: 0.0516 - mse: 0.0051 - iou_metric: 0.8276 - val_loss: 0.0060 - val_mae: 0.0501 - val_mse: 0.0051 - val_iou_metric: 0.8325 - lr: 1.0000e-05\n",
      "Epoch 68/150\n",
      "230/230 [==============================] - 17s 76ms/step - loss: 0.0059 - mae: 0.0515 - mse: 0.0050 - iou_metric: 0.8276 - val_loss: 0.0060 - val_mae: 0.0499 - val_mse: 0.0051 - val_iou_metric: 0.8332 - lr: 1.0000e-05\n",
      "Epoch 69/150\n",
      "230/230 [==============================] - 17s 75ms/step - loss: 0.0060 - mae: 0.0517 - mse: 0.0051 - iou_metric: 0.8275 - val_loss: 0.0060 - val_mae: 0.0500 - val_mse: 0.0051 - val_iou_metric: 0.8329 - lr: 1.0000e-05\n",
      "Epoch 70/150\n",
      "230/230 [==============================] - 17s 76ms/step - loss: 0.0059 - mae: 0.0515 - mse: 0.0050 - iou_metric: 0.8279 - val_loss: 0.0060 - val_mae: 0.0500 - val_mse: 0.0051 - val_iou_metric: 0.8331 - lr: 1.0000e-05\n",
      "Epoch 71/150\n",
      "230/230 [==============================] - 17s 76ms/step - loss: 0.0058 - mae: 0.0506 - mse: 0.0049 - iou_metric: 0.8300 - val_loss: 0.0060 - val_mae: 0.0502 - val_mse: 0.0051 - val_iou_metric: 0.8326 - lr: 1.0000e-05\n",
      "Epoch 72/150\n",
      "230/230 [==============================] - 17s 75ms/step - loss: 0.0057 - mae: 0.0507 - mse: 0.0048 - iou_metric: 0.8301 - val_loss: 0.0058 - val_mae: 0.0495 - val_mse: 0.0050 - val_iou_metric: 0.8339 - lr: 1.0000e-05\n",
      "Epoch 73/150\n",
      "230/230 [==============================] - 17s 76ms/step - loss: 0.0056 - mae: 0.0505 - mse: 0.0048 - iou_metric: 0.8303 - val_loss: 0.0058 - val_mae: 0.0492 - val_mse: 0.0049 - val_iou_metric: 0.8351 - lr: 1.0000e-05\n",
      "Epoch 74/150\n",
      "230/230 [==============================] - 17s 76ms/step - loss: 0.0056 - mae: 0.0503 - mse: 0.0048 - iou_metric: 0.8307 - val_loss: 0.0057 - val_mae: 0.0488 - val_mse: 0.0048 - val_iou_metric: 0.8359 - lr: 1.0000e-05\n",
      "Epoch 75/150\n",
      "230/230 [==============================] - 17s 76ms/step - loss: 0.0056 - mae: 0.0501 - mse: 0.0048 - iou_metric: 0.8312 - val_loss: 0.0056 - val_mae: 0.0488 - val_mse: 0.0048 - val_iou_metric: 0.8357 - lr: 1.0000e-05\n",
      "Epoch 76/150\n",
      "230/230 [==============================] - 17s 76ms/step - loss: 0.0055 - mae: 0.0497 - mse: 0.0047 - iou_metric: 0.8325 - val_loss: 0.0057 - val_mae: 0.0492 - val_mse: 0.0049 - val_iou_metric: 0.8350 - lr: 1.0000e-05\n",
      "Epoch 77/150\n",
      "230/230 [==============================] - 17s 75ms/step - loss: 0.0055 - mae: 0.0502 - mse: 0.0047 - iou_metric: 0.8313 - val_loss: 0.0056 - val_mae: 0.0490 - val_mse: 0.0049 - val_iou_metric: 0.8354 - lr: 1.0000e-05\n",
      "Epoch 78/150\n",
      "230/230 [==============================] - 17s 76ms/step - loss: 0.0054 - mae: 0.0499 - mse: 0.0047 - iou_metric: 0.8319 - val_loss: 0.0055 - val_mae: 0.0486 - val_mse: 0.0048 - val_iou_metric: 0.8365 - lr: 1.0000e-05\n",
      "Epoch 79/150\n",
      "230/230 [==============================] - 17s 75ms/step - loss: 0.0054 - mae: 0.0497 - mse: 0.0046 - iou_metric: 0.8323 - val_loss: 0.0056 - val_mae: 0.0489 - val_mse: 0.0048 - val_iou_metric: 0.8357 - lr: 1.0000e-05\n",
      "Epoch 80/150\n",
      "230/230 [==============================] - 17s 76ms/step - loss: 0.0054 - mae: 0.0496 - mse: 0.0046 - iou_metric: 0.8326 - val_loss: 0.0055 - val_mae: 0.0484 - val_mse: 0.0047 - val_iou_metric: 0.8367 - lr: 1.0000e-05\n",
      "Epoch 81/150\n",
      "230/230 [==============================] - 17s 76ms/step - loss: 0.0054 - mae: 0.0495 - mse: 0.0046 - iou_metric: 0.8327 - val_loss: 0.0054 - val_mae: 0.0484 - val_mse: 0.0047 - val_iou_metric: 0.8366 - lr: 1.0000e-05\n",
      "Epoch 82/150\n",
      "230/230 [==============================] - 17s 76ms/step - loss: 0.0053 - mae: 0.0492 - mse: 0.0046 - iou_metric: 0.8336 - val_loss: 0.0057 - val_mae: 0.0493 - val_mse: 0.0049 - val_iou_metric: 0.8348 - lr: 1.0000e-05\n",
      "Epoch 83/150\n",
      "230/230 [==============================] - 17s 76ms/step - loss: 0.0053 - mae: 0.0494 - mse: 0.0046 - iou_metric: 0.8330 - val_loss: 0.0054 - val_mae: 0.0485 - val_mse: 0.0047 - val_iou_metric: 0.8365 - lr: 1.0000e-05\n",
      "Epoch 84/150\n",
      "230/230 [==============================] - 17s 76ms/step - loss: 0.0052 - mae: 0.0490 - mse: 0.0045 - iou_metric: 0.8343 - val_loss: 0.0054 - val_mae: 0.0481 - val_mse: 0.0047 - val_iou_metric: 0.8378 - lr: 1.0000e-05\n",
      "Epoch 85/150\n",
      "230/230 [==============================] - 17s 76ms/step - loss: 0.0052 - mae: 0.0488 - mse: 0.0045 - iou_metric: 0.8350 - val_loss: 0.0053 - val_mae: 0.0475 - val_mse: 0.0046 - val_iou_metric: 0.8393 - lr: 1.0000e-05\n",
      "Epoch 86/150\n",
      "230/230 [==============================] - 17s 75ms/step - loss: 0.0053 - mae: 0.0494 - mse: 0.0046 - iou_metric: 0.8336 - val_loss: 0.0053 - val_mae: 0.0479 - val_mse: 0.0046 - val_iou_metric: 0.8383 - lr: 1.0000e-05\n",
      "Epoch 87/150\n",
      "230/230 [==============================] - 17s 76ms/step - loss: 0.0052 - mae: 0.0491 - mse: 0.0046 - iou_metric: 0.8341 - val_loss: 0.0053 - val_mae: 0.0479 - val_mse: 0.0046 - val_iou_metric: 0.8383 - lr: 1.0000e-05\n",
      "Epoch 88/150\n",
      "230/230 [==============================] - 17s 76ms/step - loss: 0.0052 - mae: 0.0492 - mse: 0.0045 - iou_metric: 0.8335 - val_loss: 0.0053 - val_mae: 0.0481 - val_mse: 0.0047 - val_iou_metric: 0.8376 - lr: 1.0000e-05\n",
      "Epoch 89/150\n",
      "230/230 [==============================] - 17s 76ms/step - loss: 0.0051 - mae: 0.0487 - mse: 0.0044 - iou_metric: 0.8349 - val_loss: 0.0054 - val_mae: 0.0485 - val_mse: 0.0048 - val_iou_metric: 0.8367 - lr: 1.0000e-05\n",
      "Epoch 90/150\n",
      "230/230 [==============================] - 17s 76ms/step - loss: 0.0051 - mae: 0.0486 - mse: 0.0045 - iou_metric: 0.8355 - val_loss: 0.0050 - val_mae: 0.0469 - val_mse: 0.0044 - val_iou_metric: 0.8407 - lr: 1.0000e-05\n",
      "Epoch 91/150\n",
      "230/230 [==============================] - 17s 76ms/step - loss: 0.0052 - mae: 0.0494 - mse: 0.0046 - iou_metric: 0.8334 - val_loss: 0.0053 - val_mae: 0.0480 - val_mse: 0.0046 - val_iou_metric: 0.8380 - lr: 1.0000e-05\n",
      "Epoch 92/150\n",
      "230/230 [==============================] - 17s 76ms/step - loss: 0.0050 - mae: 0.0487 - mse: 0.0044 - iou_metric: 0.8347 - val_loss: 0.0052 - val_mae: 0.0476 - val_mse: 0.0046 - val_iou_metric: 0.8392 - lr: 1.0000e-05\n",
      "Epoch 93/150\n",
      "230/230 [==============================] - 17s 76ms/step - loss: 0.0049 - mae: 0.0483 - mse: 0.0043 - iou_metric: 0.8363 - val_loss: 0.0053 - val_mae: 0.0479 - val_mse: 0.0047 - val_iou_metric: 0.8385 - lr: 1.0000e-05\n",
      "Epoch 94/150\n",
      "230/230 [==============================] - 17s 75ms/step - loss: 0.0050 - mae: 0.0485 - mse: 0.0044 - iou_metric: 0.8355 - val_loss: 0.0052 - val_mae: 0.0479 - val_mse: 0.0046 - val_iou_metric: 0.8382 - lr: 1.0000e-05\n",
      "Epoch 95/150\n",
      "230/230 [==============================] - 17s 76ms/step - loss: 0.0050 - mae: 0.0486 - mse: 0.0044 - iou_metric: 0.8354 - val_loss: 0.0051 - val_mae: 0.0476 - val_mse: 0.0045 - val_iou_metric: 0.8390 - lr: 1.0000e-05\n",
      "Epoch 96/150\n",
      "230/230 [==============================] - 17s 76ms/step - loss: 0.0050 - mae: 0.0483 - mse: 0.0044 - iou_metric: 0.8360 - val_loss: 0.0051 - val_mae: 0.0477 - val_mse: 0.0045 - val_iou_metric: 0.8387 - lr: 1.0000e-05\n",
      "Epoch 97/150\n",
      "230/230 [==============================] - 17s 76ms/step - loss: 0.0050 - mae: 0.0485 - mse: 0.0044 - iou_metric: 0.8355 - val_loss: 0.0050 - val_mae: 0.0472 - val_mse: 0.0044 - val_iou_metric: 0.8400 - lr: 1.0000e-05\n",
      "Epoch 98/150\n",
      "230/230 [==============================] - 17s 76ms/step - loss: 0.0049 - mae: 0.0483 - mse: 0.0043 - iou_metric: 0.8360 - val_loss: 0.0053 - val_mae: 0.0483 - val_mse: 0.0047 - val_iou_metric: 0.8373 - lr: 1.0000e-05\n",
      "Epoch 99/150\n",
      "230/230 [==============================] - 17s 76ms/step - loss: 0.0049 - mae: 0.0481 - mse: 0.0043 - iou_metric: 0.8367 - val_loss: 0.0053 - val_mae: 0.0484 - val_mse: 0.0048 - val_iou_metric: 0.8371 - lr: 1.0000e-05\n",
      "Epoch 100/150\n",
      "229/230 [============================>.] - ETA: 0s - loss: 0.0048 - mae: 0.0478 - mse: 0.0042 - iou_metric: 0.8376\n",
      "Epoch 100: ReduceLROnPlateau reducing learning rate to 9.999999747378752e-07.\n",
      "230/230 [==============================] - 17s 76ms/step - loss: 0.0048 - mae: 0.0479 - mse: 0.0042 - iou_metric: 0.8375 - val_loss: 0.0050 - val_mae: 0.0469 - val_mse: 0.0044 - val_iou_metric: 0.8409 - lr: 1.0000e-05\n",
      "Epoch 101/150\n",
      "230/230 [==============================] - 17s 76ms/step - loss: 0.0048 - mae: 0.0480 - mse: 0.0043 - iou_metric: 0.8365 - val_loss: 0.0051 - val_mae: 0.0476 - val_mse: 0.0046 - val_iou_metric: 0.8390 - lr: 1.0000e-06\n",
      "Epoch 102/150\n",
      "230/230 [==============================] - 17s 76ms/step - loss: 0.0049 - mae: 0.0480 - mse: 0.0043 - iou_metric: 0.8373 - val_loss: 0.0051 - val_mae: 0.0473 - val_mse: 0.0045 - val_iou_metric: 0.8399 - lr: 1.0000e-06\n",
      "Epoch 103/150\n",
      "230/230 [==============================] - 17s 76ms/step - loss: 0.0048 - mae: 0.0477 - mse: 0.0042 - iou_metric: 0.8380 - val_loss: 0.0051 - val_mae: 0.0474 - val_mse: 0.0045 - val_iou_metric: 0.8395 - lr: 1.0000e-06\n",
      "Epoch 104/150\n",
      "230/230 [==============================] - 17s 76ms/step - loss: 0.0048 - mae: 0.0475 - mse: 0.0042 - iou_metric: 0.8380 - val_loss: 0.0051 - val_mae: 0.0474 - val_mse: 0.0045 - val_iou_metric: 0.8396 - lr: 1.0000e-06\n",
      "Epoch 105/150\n",
      "230/230 [==============================] - 17s 76ms/step - loss: 0.0048 - mae: 0.0480 - mse: 0.0043 - iou_metric: 0.8370 - val_loss: 0.0051 - val_mae: 0.0475 - val_mse: 0.0045 - val_iou_metric: 0.8394 - lr: 1.0000e-06\n",
      "Epoch 106/150\n",
      "230/230 [==============================] - 17s 75ms/step - loss: 0.0048 - mae: 0.0476 - mse: 0.0042 - iou_metric: 0.8380 - val_loss: 0.0051 - val_mae: 0.0473 - val_mse: 0.0045 - val_iou_metric: 0.8398 - lr: 1.0000e-06\n",
      "Epoch 107/150\n",
      "230/230 [==============================] - 17s 76ms/step - loss: 0.0048 - mae: 0.0477 - mse: 0.0042 - iou_metric: 0.8377 - val_loss: 0.0051 - val_mae: 0.0473 - val_mse: 0.0045 - val_iou_metric: 0.8398 - lr: 1.0000e-06\n",
      "Epoch 108/150\n",
      "230/230 [==============================] - 17s 76ms/step - loss: 0.0047 - mae: 0.0472 - mse: 0.0042 - iou_metric: 0.8388 - val_loss: 0.0051 - val_mae: 0.0475 - val_mse: 0.0045 - val_iou_metric: 0.8395 - lr: 1.0000e-06\n",
      "Epoch 109/150\n",
      "230/230 [==============================] - 17s 76ms/step - loss: 0.0047 - mae: 0.0472 - mse: 0.0041 - iou_metric: 0.8389 - val_loss: 0.0051 - val_mae: 0.0474 - val_mse: 0.0045 - val_iou_metric: 0.8397 - lr: 1.0000e-06\n",
      "Epoch 110/150\n",
      "229/230 [============================>.] - ETA: 0s - loss: 0.0047 - mae: 0.0474 - mse: 0.0042 - iou_metric: 0.8383\n",
      "Epoch 110: ReduceLROnPlateau reducing learning rate to 9.999999974752428e-08.\n",
      "230/230 [==============================] - 17s 76ms/step - loss: 0.0047 - mae: 0.0475 - mse: 0.0042 - iou_metric: 0.8383 - val_loss: 0.0050 - val_mae: 0.0473 - val_mse: 0.0045 - val_iou_metric: 0.8399 - lr: 1.0000e-06\n",
      "Epoch 111/150\n",
      "230/230 [==============================] - 17s 76ms/step - loss: 0.0048 - mae: 0.0475 - mse: 0.0042 - iou_metric: 0.8381 - val_loss: 0.0051 - val_mae: 0.0474 - val_mse: 0.0045 - val_iou_metric: 0.8395 - lr: 1.0000e-07\n",
      "Epoch 112/150\n",
      "230/230 [==============================] - 17s 76ms/step - loss: 0.0048 - mae: 0.0475 - mse: 0.0042 - iou_metric: 0.8385 - val_loss: 0.0051 - val_mae: 0.0474 - val_mse: 0.0045 - val_iou_metric: 0.8397 - lr: 1.0000e-07\n",
      "Epoch 113/150\n",
      "230/230 [==============================] - 17s 76ms/step - loss: 0.0047 - mae: 0.0476 - mse: 0.0042 - iou_metric: 0.8380 - val_loss: 0.0051 - val_mae: 0.0473 - val_mse: 0.0045 - val_iou_metric: 0.8398 - lr: 1.0000e-07\n",
      "Epoch 114/150\n",
      "230/230 [==============================] - 17s 76ms/step - loss: 0.0048 - mae: 0.0477 - mse: 0.0043 - iou_metric: 0.8376 - val_loss: 0.0051 - val_mae: 0.0473 - val_mse: 0.0045 - val_iou_metric: 0.8398 - lr: 1.0000e-07\n",
      "Epoch 115/150\n",
      "230/230 [==============================] - 17s 76ms/step - loss: 0.0047 - mae: 0.0470 - mse: 0.0041 - iou_metric: 0.8398 - val_loss: 0.0050 - val_mae: 0.0473 - val_mse: 0.0045 - val_iou_metric: 0.8399 - lr: 1.0000e-07\n",
      "Epoch 116/150\n",
      "230/230 [==============================] - 17s 76ms/step - loss: 0.0047 - mae: 0.0470 - mse: 0.0042 - iou_metric: 0.8395 - val_loss: 0.0051 - val_mae: 0.0474 - val_mse: 0.0045 - val_iou_metric: 0.8397 - lr: 1.0000e-07\n",
      "Epoch 117/150\n",
      "230/230 [==============================] - 17s 76ms/step - loss: 0.0047 - mae: 0.0474 - mse: 0.0042 - iou_metric: 0.8382 - val_loss: 0.0051 - val_mae: 0.0473 - val_mse: 0.0045 - val_iou_metric: 0.8399 - lr: 1.0000e-07\n",
      "Epoch 118/150\n",
      "230/230 [==============================] - 17s 76ms/step - loss: 0.0048 - mae: 0.0479 - mse: 0.0042 - iou_metric: 0.8370 - val_loss: 0.0051 - val_mae: 0.0474 - val_mse: 0.0045 - val_iou_metric: 0.8395 - lr: 1.0000e-07\n",
      "Epoch 119/150\n",
      "230/230 [==============================] - 17s 76ms/step - loss: 0.0047 - mae: 0.0474 - mse: 0.0042 - iou_metric: 0.8387 - val_loss: 0.0051 - val_mae: 0.0475 - val_mse: 0.0045 - val_iou_metric: 0.8394 - lr: 1.0000e-07\n",
      "Epoch 120/150\n",
      "229/230 [============================>.] - ETA: 0s - loss: 0.0048 - mae: 0.0479 - mse: 0.0043 - iou_metric: 0.8373\n",
      "Epoch 120: ReduceLROnPlateau reducing learning rate to 1.0000000116860975e-08.\n",
      "230/230 [==============================] - 17s 76ms/step - loss: 0.0048 - mae: 0.0479 - mse: 0.0043 - iou_metric: 0.8372 - val_loss: 0.0051 - val_mae: 0.0474 - val_mse: 0.0045 - val_iou_metric: 0.8397 - lr: 1.0000e-07\n",
      "Epoch 120: early stopping\n"
     ]
    }
   ],
   "source": [
    "history = model.fit(\n",
    "    train_ds,\n",
    "    validation_data=val_ds,\n",
    "    epochs=150,\n",
    "    max_queue_size=32,\n",
    "    workers=10,\n",
    "    use_multiprocessing=True,\n",
    "    callbacks=callbacks,\n",
    ")"
   ]
  },
  {
   "cell_type": "code",
   "execution_count": 17,
   "id": "94012ba3-aa57-4218-a89f-496dc573d8e4",
   "metadata": {},
   "outputs": [],
   "source": [
    "# TODO: evaluate model with test data\n",
    "# TODO: make ttv sets\n",
    "# TODO: add bbox to perspective data augmentation"
   ]
  },
  {
   "cell_type": "code",
   "execution_count": 18,
   "id": "d7209907-f9e1-4b12-800a-07c723b89399",
   "metadata": {},
   "outputs": [
    {
     "name": "stdout",
     "output_type": "stream",
     "text": [
      "230/230 [==============================] - 4s 17ms/step - loss: 0.0051 - mae: 0.0474 - mse: 0.0045 - iou_metric: 0.8397\n"
     ]
    },
    {
     "data": {
      "text/plain": [
       "[0.0050726886838674545,\n",
       " 0.04738116264343262,\n",
       " 0.004517003893852234,\n",
       " 0.8396636843681335]"
      ]
     },
     "execution_count": 18,
     "metadata": {},
     "output_type": "execute_result"
    }
   ],
   "source": [
    "model.evaluate(val_ds)"
   ]
  },
  {
   "cell_type": "code",
   "execution_count": 19,
   "id": "7f009a0a-db97-400f-8883-435a1716b9bb",
   "metadata": {},
   "outputs": [],
   "source": [
    "model.save(filepath='eye_detector_model.hdf5')"
   ]
  },
  {
   "cell_type": "code",
   "execution_count": 20,
   "id": "085a0ee4-4754-45eb-a4c8-14427926d95d",
   "metadata": {},
   "outputs": [],
   "source": [
    "new_model = tf.keras.models.load_model(filepath='eye_detector_model.hdf5', custom_objects={'iou_metric': iou_metric})"
   ]
  },
  {
   "cell_type": "code",
   "execution_count": 21,
   "id": "adefbec3-e23d-487d-bc4a-fa57f1ae826e",
   "metadata": {
    "scrolled": true,
    "tags": []
   },
   "outputs": [
    {
     "name": "stdout",
     "output_type": "stream",
     "text": [
      "Model: \"model\"\n",
      "__________________________________________________________________________________________________\n",
      " Layer (type)                   Output Shape         Param #     Connected to                     \n",
      "==================================================================================================\n",
      " input_1 (InputLayer)           [(None, 224, 224, 3  0           []                               \n",
      "                                )]                                                                \n",
      "                                                                                                  \n",
      " conv2d (Conv2D)                (None, 224, 224, 36  972         ['input_1[0][0]']                \n",
      "                                )                                                                 \n",
      "                                                                                                  \n",
      " batch_normalization (BatchNorm  (None, 224, 224, 36  144        ['conv2d[0][0]']                 \n",
      " alization)                     )                                                                 \n",
      "                                                                                                  \n",
      " activation (Activation)        (None, 224, 224, 36  0           ['batch_normalization[0][0]']    \n",
      "                                )                                                                 \n",
      "                                                                                                  \n",
      " batch_normalization_1 (BatchNo  (None, 224, 224, 36  144        ['activation[0][0]']             \n",
      " rmalization)                   )                                                                 \n",
      "                                                                                                  \n",
      " activation_1 (Activation)      (None, 224, 224, 36  0           ['batch_normalization_1[0][0]']  \n",
      "                                )                                                                 \n",
      "                                                                                                  \n",
      " conv2d_1 (Conv2D)              (None, 224, 224, 3)  972         ['activation_1[0][0]']           \n",
      "                                                                                                  \n",
      " dropout (Dropout)              (None, 224, 224, 3)  0           ['conv2d_1[0][0]']               \n",
      "                                                                                                  \n",
      " concatenate (Concatenate)      (None, 224, 224, 39  0           ['activation[0][0]',             \n",
      "                                )                                 'dropout[0][0]']                \n",
      "                                                                                                  \n",
      " batch_normalization_2 (BatchNo  (None, 224, 224, 39  156        ['concatenate[0][0]']            \n",
      " rmalization)                   )                                                                 \n",
      "                                                                                                  \n",
      " activation_2 (Activation)      (None, 224, 224, 39  0           ['batch_normalization_2[0][0]']  \n",
      "                                )                                                                 \n",
      "                                                                                                  \n",
      " conv2d_2 (Conv2D)              (None, 224, 224, 3)  1053        ['activation_2[0][0]']           \n",
      "                                                                                                  \n",
      " dropout_1 (Dropout)            (None, 224, 224, 3)  0           ['conv2d_2[0][0]']               \n",
      "                                                                                                  \n",
      " concatenate_1 (Concatenate)    (None, 224, 224, 42  0           ['concatenate[0][0]',            \n",
      "                                )                                 'dropout_1[0][0]']              \n",
      "                                                                                                  \n",
      " batch_normalization_3 (BatchNo  (None, 224, 224, 42  168        ['concatenate_1[0][0]']          \n",
      " rmalization)                   )                                                                 \n",
      "                                                                                                  \n",
      " activation_3 (Activation)      (None, 224, 224, 42  0           ['batch_normalization_3[0][0]']  \n",
      "                                )                                                                 \n",
      "                                                                                                  \n",
      " conv2d_3 (Conv2D)              (None, 224, 224, 3)  1134        ['activation_3[0][0]']           \n",
      "                                                                                                  \n",
      " dropout_2 (Dropout)            (None, 224, 224, 3)  0           ['conv2d_3[0][0]']               \n",
      "                                                                                                  \n",
      " concatenate_2 (Concatenate)    (None, 224, 224, 45  0           ['concatenate_1[0][0]',          \n",
      "                                )                                 'dropout_2[0][0]']              \n",
      "                                                                                                  \n",
      " batch_normalization_4 (BatchNo  (None, 224, 224, 45  180        ['concatenate_2[0][0]']          \n",
      " rmalization)                   )                                                                 \n",
      "                                                                                                  \n",
      " activation_4 (Activation)      (None, 224, 224, 45  0           ['batch_normalization_4[0][0]']  \n",
      "                                )                                                                 \n",
      "                                                                                                  \n",
      " conv2d_4 (Conv2D)              (None, 224, 224, 51  2295        ['activation_4[0][0]']           \n",
      "                                )                                                                 \n",
      "                                                                                                  \n",
      " max_pooling2d (MaxPooling2D)   (None, 112, 112, 51  0           ['conv2d_4[0][0]']               \n",
      "                                )                                                                 \n",
      "                                                                                                  \n",
      " batch_normalization_5 (BatchNo  (None, 112, 112, 51  204        ['max_pooling2d[0][0]']          \n",
      " rmalization)                   )                                                                 \n",
      "                                                                                                  \n",
      " activation_5 (Activation)      (None, 112, 112, 51  0           ['batch_normalization_5[0][0]']  \n",
      "                                )                                                                 \n",
      "                                                                                                  \n",
      " conv2d_5 (Conv2D)              (None, 112, 112, 3)  1377        ['activation_5[0][0]']           \n",
      "                                                                                                  \n",
      " dropout_3 (Dropout)            (None, 112, 112, 3)  0           ['conv2d_5[0][0]']               \n",
      "                                                                                                  \n",
      " concatenate_3 (Concatenate)    (None, 112, 112, 54  0           ['max_pooling2d[0][0]',          \n",
      "                                )                                 'dropout_3[0][0]']              \n",
      "                                                                                                  \n",
      " batch_normalization_6 (BatchNo  (None, 112, 112, 54  216        ['concatenate_3[0][0]']          \n",
      " rmalization)                   )                                                                 \n",
      "                                                                                                  \n",
      " activation_6 (Activation)      (None, 112, 112, 54  0           ['batch_normalization_6[0][0]']  \n",
      "                                )                                                                 \n",
      "                                                                                                  \n",
      " conv2d_6 (Conv2D)              (None, 112, 112, 3)  1458        ['activation_6[0][0]']           \n",
      "                                                                                                  \n",
      " dropout_4 (Dropout)            (None, 112, 112, 3)  0           ['conv2d_6[0][0]']               \n",
      "                                                                                                  \n",
      " concatenate_4 (Concatenate)    (None, 112, 112, 57  0           ['concatenate_3[0][0]',          \n",
      "                                )                                 'dropout_4[0][0]']              \n",
      "                                                                                                  \n",
      " batch_normalization_7 (BatchNo  (None, 112, 112, 57  228        ['concatenate_4[0][0]']          \n",
      " rmalization)                   )                                                                 \n",
      "                                                                                                  \n",
      " activation_7 (Activation)      (None, 112, 112, 57  0           ['batch_normalization_7[0][0]']  \n",
      "                                )                                                                 \n",
      "                                                                                                  \n",
      " conv2d_7 (Conv2D)              (None, 112, 112, 3)  1539        ['activation_7[0][0]']           \n",
      "                                                                                                  \n",
      " dropout_5 (Dropout)            (None, 112, 112, 3)  0           ['conv2d_7[0][0]']               \n",
      "                                                                                                  \n",
      " concatenate_5 (Concatenate)    (None, 112, 112, 60  0           ['concatenate_4[0][0]',          \n",
      "                                )                                 'dropout_5[0][0]']              \n",
      "                                                                                                  \n",
      " batch_normalization_8 (BatchNo  (None, 112, 112, 60  240        ['concatenate_5[0][0]']          \n",
      " rmalization)                   )                                                                 \n",
      "                                                                                                  \n",
      " activation_8 (Activation)      (None, 112, 112, 60  0           ['batch_normalization_8[0][0]']  \n",
      "                                )                                                                 \n",
      "                                                                                                  \n",
      " conv2d_8 (Conv2D)              (None, 112, 112, 60  3600        ['activation_8[0][0]']           \n",
      "                                )                                                                 \n",
      "                                                                                                  \n",
      " max_pooling2d_1 (MaxPooling2D)  (None, 56, 56, 60)  0           ['conv2d_8[0][0]']               \n",
      "                                                                                                  \n",
      " batch_normalization_9 (BatchNo  (None, 56, 56, 60)  240         ['max_pooling2d_1[0][0]']        \n",
      " rmalization)                                                                                     \n",
      "                                                                                                  \n",
      " activation_9 (Activation)      (None, 56, 56, 60)   0           ['batch_normalization_9[0][0]']  \n",
      "                                                                                                  \n",
      " conv2d_9 (Conv2D)              (None, 56, 56, 3)    1620        ['activation_9[0][0]']           \n",
      "                                                                                                  \n",
      " dropout_6 (Dropout)            (None, 56, 56, 3)    0           ['conv2d_9[0][0]']               \n",
      "                                                                                                  \n",
      " concatenate_6 (Concatenate)    (None, 56, 56, 63)   0           ['max_pooling2d_1[0][0]',        \n",
      "                                                                  'dropout_6[0][0]']              \n",
      "                                                                                                  \n",
      " batch_normalization_10 (BatchN  (None, 56, 56, 63)  252         ['concatenate_6[0][0]']          \n",
      " ormalization)                                                                                    \n",
      "                                                                                                  \n",
      " activation_10 (Activation)     (None, 56, 56, 63)   0           ['batch_normalization_10[0][0]'] \n",
      "                                                                                                  \n",
      " conv2d_10 (Conv2D)             (None, 56, 56, 3)    1701        ['activation_10[0][0]']          \n",
      "                                                                                                  \n",
      " dropout_7 (Dropout)            (None, 56, 56, 3)    0           ['conv2d_10[0][0]']              \n",
      "                                                                                                  \n",
      " concatenate_7 (Concatenate)    (None, 56, 56, 66)   0           ['concatenate_6[0][0]',          \n",
      "                                                                  'dropout_7[0][0]']              \n",
      "                                                                                                  \n",
      " batch_normalization_11 (BatchN  (None, 56, 56, 66)  264         ['concatenate_7[0][0]']          \n",
      " ormalization)                                                                                    \n",
      "                                                                                                  \n",
      " activation_11 (Activation)     (None, 56, 56, 66)   0           ['batch_normalization_11[0][0]'] \n",
      "                                                                                                  \n",
      " conv2d_11 (Conv2D)             (None, 56, 56, 3)    1782        ['activation_11[0][0]']          \n",
      "                                                                                                  \n",
      " dropout_8 (Dropout)            (None, 56, 56, 3)    0           ['conv2d_11[0][0]']              \n",
      "                                                                                                  \n",
      " concatenate_8 (Concatenate)    (None, 56, 56, 69)   0           ['concatenate_7[0][0]',          \n",
      "                                                                  'dropout_8[0][0]']              \n",
      "                                                                                                  \n",
      " batch_normalization_12 (BatchN  (None, 56, 56, 69)  276         ['concatenate_8[0][0]']          \n",
      " ormalization)                                                                                    \n",
      "                                                                                                  \n",
      " activation_12 (Activation)     (None, 56, 56, 69)   0           ['batch_normalization_12[0][0]'] \n",
      "                                                                                                  \n",
      " conv2d_12 (Conv2D)             (None, 56, 56, 69)   4761        ['activation_12[0][0]']          \n",
      "                                                                                                  \n",
      " max_pooling2d_2 (MaxPooling2D)  (None, 28, 28, 69)  0           ['conv2d_12[0][0]']              \n",
      "                                                                                                  \n",
      " batch_normalization_13 (BatchN  (None, 28, 28, 69)  276         ['max_pooling2d_2[0][0]']        \n",
      " ormalization)                                                                                    \n",
      "                                                                                                  \n",
      " activation_13 (Activation)     (None, 28, 28, 69)   0           ['batch_normalization_13[0][0]'] \n",
      "                                                                                                  \n",
      " conv2d_13 (Conv2D)             (None, 28, 28, 3)    1863        ['activation_13[0][0]']          \n",
      "                                                                                                  \n",
      " dropout_9 (Dropout)            (None, 28, 28, 3)    0           ['conv2d_13[0][0]']              \n",
      "                                                                                                  \n",
      " concatenate_9 (Concatenate)    (None, 28, 28, 72)   0           ['max_pooling2d_2[0][0]',        \n",
      "                                                                  'dropout_9[0][0]']              \n",
      "                                                                                                  \n",
      " batch_normalization_14 (BatchN  (None, 28, 28, 72)  288         ['concatenate_9[0][0]']          \n",
      " ormalization)                                                                                    \n",
      "                                                                                                  \n",
      " activation_14 (Activation)     (None, 28, 28, 72)   0           ['batch_normalization_14[0][0]'] \n",
      "                                                                                                  \n",
      " conv2d_14 (Conv2D)             (None, 28, 28, 3)    1944        ['activation_14[0][0]']          \n",
      "                                                                                                  \n",
      " dropout_10 (Dropout)           (None, 28, 28, 3)    0           ['conv2d_14[0][0]']              \n",
      "                                                                                                  \n",
      " concatenate_10 (Concatenate)   (None, 28, 28, 75)   0           ['concatenate_9[0][0]',          \n",
      "                                                                  'dropout_10[0][0]']             \n",
      "                                                                                                  \n",
      " batch_normalization_15 (BatchN  (None, 28, 28, 75)  300         ['concatenate_10[0][0]']         \n",
      " ormalization)                                                                                    \n",
      "                                                                                                  \n",
      " activation_15 (Activation)     (None, 28, 28, 75)   0           ['batch_normalization_15[0][0]'] \n",
      "                                                                                                  \n",
      " conv2d_15 (Conv2D)             (None, 28, 28, 3)    2025        ['activation_15[0][0]']          \n",
      "                                                                                                  \n",
      " dropout_11 (Dropout)           (None, 28, 28, 3)    0           ['conv2d_15[0][0]']              \n",
      "                                                                                                  \n",
      " concatenate_11 (Concatenate)   (None, 28, 28, 78)   0           ['concatenate_10[0][0]',         \n",
      "                                                                  'dropout_11[0][0]']             \n",
      "                                                                                                  \n",
      " batch_normalization_16 (BatchN  (None, 28, 28, 78)  312         ['concatenate_11[0][0]']         \n",
      " ormalization)                                                                                    \n",
      "                                                                                                  \n",
      " activation_16 (Activation)     (None, 28, 28, 78)   0           ['batch_normalization_16[0][0]'] \n",
      "                                                                                                  \n",
      " conv2d_16 (Conv2D)             (None, 28, 28, 78)   6084        ['activation_16[0][0]']          \n",
      "                                                                                                  \n",
      " max_pooling2d_3 (MaxPooling2D)  (None, 14, 14, 78)  0           ['conv2d_16[0][0]']              \n",
      "                                                                                                  \n",
      " batch_normalization_17 (BatchN  (None, 14, 14, 78)  312         ['max_pooling2d_3[0][0]']        \n",
      " ormalization)                                                                                    \n",
      "                                                                                                  \n",
      " activation_17 (Activation)     (None, 14, 14, 78)   0           ['batch_normalization_17[0][0]'] \n",
      "                                                                                                  \n",
      " conv2d_17 (Conv2D)             (None, 14, 14, 3)    2106        ['activation_17[0][0]']          \n",
      "                                                                                                  \n",
      " dropout_12 (Dropout)           (None, 14, 14, 3)    0           ['conv2d_17[0][0]']              \n",
      "                                                                                                  \n",
      " concatenate_12 (Concatenate)   (None, 14, 14, 81)   0           ['max_pooling2d_3[0][0]',        \n",
      "                                                                  'dropout_12[0][0]']             \n",
      "                                                                                                  \n",
      " batch_normalization_18 (BatchN  (None, 14, 14, 81)  324         ['concatenate_12[0][0]']         \n",
      " ormalization)                                                                                    \n",
      "                                                                                                  \n",
      " activation_18 (Activation)     (None, 14, 14, 81)   0           ['batch_normalization_18[0][0]'] \n",
      "                                                                                                  \n",
      " conv2d_18 (Conv2D)             (None, 14, 14, 3)    2187        ['activation_18[0][0]']          \n",
      "                                                                                                  \n",
      " dropout_13 (Dropout)           (None, 14, 14, 3)    0           ['conv2d_18[0][0]']              \n",
      "                                                                                                  \n",
      " concatenate_13 (Concatenate)   (None, 14, 14, 84)   0           ['concatenate_12[0][0]',         \n",
      "                                                                  'dropout_13[0][0]']             \n",
      "                                                                                                  \n",
      " batch_normalization_19 (BatchN  (None, 14, 14, 84)  336         ['concatenate_13[0][0]']         \n",
      " ormalization)                                                                                    \n",
      "                                                                                                  \n",
      " activation_19 (Activation)     (None, 14, 14, 84)   0           ['batch_normalization_19[0][0]'] \n",
      "                                                                                                  \n",
      " conv2d_19 (Conv2D)             (None, 14, 14, 3)    2268        ['activation_19[0][0]']          \n",
      "                                                                                                  \n",
      " dropout_14 (Dropout)           (None, 14, 14, 3)    0           ['conv2d_19[0][0]']              \n",
      "                                                                                                  \n",
      " concatenate_14 (Concatenate)   (None, 14, 14, 87)   0           ['concatenate_13[0][0]',         \n",
      "                                                                  'dropout_14[0][0]']             \n",
      "                                                                                                  \n",
      " batch_normalization_20 (BatchN  (None, 14, 14, 87)  348         ['concatenate_14[0][0]']         \n",
      " ormalization)                                                                                    \n",
      "                                                                                                  \n",
      " activation_20 (Activation)     (None, 14, 14, 87)   0           ['batch_normalization_20[0][0]'] \n",
      "                                                                                                  \n",
      " conv2d_20 (Conv2D)             (None, 14, 14, 87)   7569        ['activation_20[0][0]']          \n",
      "                                                                                                  \n",
      " max_pooling2d_4 (MaxPooling2D)  (None, 7, 7, 87)    0           ['conv2d_20[0][0]']              \n",
      "                                                                                                  \n",
      " batch_normalization_21 (BatchN  (None, 7, 7, 87)    348         ['max_pooling2d_4[0][0]']        \n",
      " ormalization)                                                                                    \n",
      "                                                                                                  \n",
      " activation_21 (Activation)     (None, 7, 7, 87)     0           ['batch_normalization_21[0][0]'] \n",
      "                                                                                                  \n",
      " conv2d_21 (Conv2D)             (None, 7, 7, 3)      2349        ['activation_21[0][0]']          \n",
      "                                                                                                  \n",
      " dropout_15 (Dropout)           (None, 7, 7, 3)      0           ['conv2d_21[0][0]']              \n",
      "                                                                                                  \n",
      " concatenate_15 (Concatenate)   (None, 7, 7, 90)     0           ['max_pooling2d_4[0][0]',        \n",
      "                                                                  'dropout_15[0][0]']             \n",
      "                                                                                                  \n",
      " batch_normalization_22 (BatchN  (None, 7, 7, 90)    360         ['concatenate_15[0][0]']         \n",
      " ormalization)                                                                                    \n",
      "                                                                                                  \n",
      " activation_22 (Activation)     (None, 7, 7, 90)     0           ['batch_normalization_22[0][0]'] \n",
      "                                                                                                  \n",
      " conv2d_22 (Conv2D)             (None, 7, 7, 3)      2430        ['activation_22[0][0]']          \n",
      "                                                                                                  \n",
      " dropout_16 (Dropout)           (None, 7, 7, 3)      0           ['conv2d_22[0][0]']              \n",
      "                                                                                                  \n",
      " concatenate_16 (Concatenate)   (None, 7, 7, 93)     0           ['concatenate_15[0][0]',         \n",
      "                                                                  'dropout_16[0][0]']             \n",
      "                                                                                                  \n",
      " batch_normalization_23 (BatchN  (None, 7, 7, 93)    372         ['concatenate_16[0][0]']         \n",
      " ormalization)                                                                                    \n",
      "                                                                                                  \n",
      " activation_23 (Activation)     (None, 7, 7, 93)     0           ['batch_normalization_23[0][0]'] \n",
      "                                                                                                  \n",
      " conv2d_23 (Conv2D)             (None, 7, 7, 3)      2511        ['activation_23[0][0]']          \n",
      "                                                                                                  \n",
      " dropout_17 (Dropout)           (None, 7, 7, 3)      0           ['conv2d_23[0][0]']              \n",
      "                                                                                                  \n",
      " concatenate_17 (Concatenate)   (None, 7, 7, 96)     0           ['concatenate_16[0][0]',         \n",
      "                                                                  'dropout_17[0][0]']             \n",
      "                                                                                                  \n",
      " global_max_pooling2d (GlobalMa  (None, 96)          0           ['concatenate_17[0][0]']         \n",
      " xPooling2D)                                                                                      \n",
      "                                                                                                  \n",
      " batch_normalization_24 (BatchN  (None, 96)          384         ['global_max_pooling2d[0][0]']   \n",
      " ormalization)                                                                                    \n",
      "                                                                                                  \n",
      " activation_24 (Activation)     (None, 96)           0           ['batch_normalization_24[0][0]'] \n",
      "                                                                                                  \n",
      " dense (Dense)                  (None, 64)           6208        ['activation_24[0][0]']          \n",
      "                                                                                                  \n",
      " dropout_18 (Dropout)           (None, 64)           0           ['dense[0][0]']                  \n",
      "                                                                                                  \n",
      " batch_normalization_25 (BatchN  (None, 64)          256         ['dropout_18[0][0]']             \n",
      " ormalization)                                                                                    \n",
      "                                                                                                  \n",
      " activation_25 (Activation)     (None, 64)           0           ['batch_normalization_25[0][0]'] \n",
      "                                                                                                  \n",
      " dense_1 (Dense)                (None, 32)           2080        ['activation_25[0][0]']          \n",
      "                                                                                                  \n",
      " dropout_19 (Dropout)           (None, 32)           0           ['dense_1[0][0]']                \n",
      "                                                                                                  \n",
      " dense_2 (Dense)                (None, 4)            132         ['dropout_19[0][0]']             \n",
      "                                                                                                  \n",
      "==================================================================================================\n",
      "Total params: 72,948\n",
      "Trainable params: 69,484\n",
      "Non-trainable params: 3,464\n",
      "__________________________________________________________________________________________________\n"
     ]
    }
   ],
   "source": [
    "new_model.summary()"
   ]
  },
  {
   "cell_type": "code",
   "execution_count": 22,
   "id": "7f6c4384-0eb2-4609-85e8-fec40025e53e",
   "metadata": {},
   "outputs": [],
   "source": [
    "# plot history with losses and metrics in two figures"
   ]
  },
  {
   "cell_type": "code",
   "execution_count": 23,
   "id": "2a29b4c4-78b4-4af1-9c67-968e1ba1c586",
   "metadata": {},
   "outputs": [
    {
     "data": {
      "text/plain": [
       "dict_keys(['loss', 'mae', 'mse', 'iou_metric', 'val_loss', 'val_mae', 'val_mse', 'val_iou_metric', 'lr'])"
      ]
     },
     "execution_count": 23,
     "metadata": {},
     "output_type": "execute_result"
    }
   ],
   "source": [
    "history.history.keys()"
   ]
  },
  {
   "cell_type": "code",
   "execution_count": 24,
   "id": "782f4400-a154-4226-8e4d-93587c20ca7d",
   "metadata": {},
   "outputs": [],
   "source": [
    "lr = history.history.pop('lr', None) # not used"
   ]
  },
  {
   "cell_type": "code",
   "execution_count": 25,
   "id": "2c2b370c-9db1-4356-a073-5e8fa3d6e1f5",
   "metadata": {},
   "outputs": [
    {
     "data": {
      "image/png": "[encoded data removed]",
      "text/plain": [
       "<Figure size 864x288 with 2 Axes>"
      ]
     },
     "metadata": {
      "needs_background": "light"
     },
     "output_type": "display_data"
    }
   ],
   "source": [
    "hist = history.history\n",
    "\n",
    "fig, axes = plt.subplots(ncols=2, nrows=1, figsize=(12, 4))\n",
    "\n",
    "for key in hist.keys():\n",
    "    if 'val_' not in key:\n",
    "        axes[0].plot(hist[key], label=key)\n",
    "    else:\n",
    "        axes[1].plot(hist[key], label=key)\n",
    "\n",
    "axes[0].legend()\n",
    "axes[1].legend()\n",
    "\n",
    "plt.ylim([-0.1, 1])\n",
    "plt.show()"
   ]
  },
  {
   "cell_type": "code",
   "execution_count": null,
   "id": "1d1cac43-0891-4a37-ac66-d320f82c1da1",
   "metadata": {},
   "outputs": [],
   "source": []
  }
 ],
 "metadata": {
  "kernelspec": {
   "display_name": "Python 3 (ipykernel)",
   "language": "python",
   "name": "python3"
  },
  "language_info": {
   "codemirror_mode": {
    "name": "ipython",
    "version": 3
   },
   "file_extension": ".py",
   "mimetype": "text/x-python",
   "name": "python",
   "nbconvert_exporter": "python",
   "pygments_lexer": "ipython3",
   "version": "3.9.13"
  }
 },
 "nbformat": 4,
 "nbformat_minor": 5
}
