{
 "cells": [
  {
   "cell_type": "code",
   "execution_count": 16,
   "id": "fae3fd82-99f3-4192-9732-53d4e9cc0e1c",
   "metadata": {},
   "outputs": [],
   "source": [
    "import os\n",
    "import json\n",
    "from imutils.paths import list_images\n",
    "from pprint import pprint"
   ]
  },
  {
   "cell_type": "code",
   "execution_count": 52,
   "id": "53b58e1e-3c22-47cf-b708-e7b80936e1ef",
   "metadata": {},
   "outputs": [],
   "source": [
    "json_dict = {\n",
    "    'flickr': './FLICKR.json',\n",
    "    'splunk': './Splunk.json',\n",
    "}\n",
    "\n",
    "datasets = {\n",
    "    'flickr': '/media/choppy/WD_BLACK/datasets/FLICKR',\n",
    "    'splunk': '/media/choppy/WD_BLACK/datasets/Splunk',\n",
    "}"
   ]
  },
  {
   "cell_type": "code",
   "execution_count": 73,
   "id": "76495412-f356-40dc-a7f1-6f21f2e645e1",
   "metadata": {},
   "outputs": [
    {
     "name": "stdout",
     "output_type": "stream",
     "text": [
      "Length of dataset flickr: 13707\n",
      "\n"
     ]
    }
   ],
   "source": [
    "for json_key in json_dict.keys():\n",
    "    js = json.load(open(json_dict[json_key]))\n",
    "    print(f'Length of dataset {json_key}: {len(js)}\\n')\n",
    "    \n",
    "    attacks = []\n",
    "    bonafide = []\n",
    "    \n",
    "    for elem in js:\n",
    "        # pprint(elem)\n",
    "        split = elem.get('image_dir').split(os.sep)\n",
    "        if split[1] == 'attack':\n",
    "            attacks.append(elem)\n",
    "        else:\n",
    "            bonafide.append(elem)\n",
    "    \n",
    "    break"
   ]
  },
  {
   "cell_type": "code",
   "execution_count": 68,
   "id": "31ccf7ea-8278-443f-9581-c7d98b0a5a82",
   "metadata": {},
   "outputs": [],
   "source": [
    "# agrupar imagenes y metadata en bonafide vs ataque y contar cuantas imagenes pasaron vs cuantas deberian ser\n",
    "# generar array con indices de imagenes por cada dataset y guardarlo"
   ]
  },
  {
   "cell_type": "code",
   "execution_count": 74,
   "id": "01173c5d-f485-4e1f-867d-0ef2037502ef",
   "metadata": {},
   "outputs": [
    {
     "data": {
      "text/plain": [
       "(3000, 10707)"
      ]
     },
     "execution_count": 74,
     "metadata": {},
     "output_type": "execute_result"
    }
   ],
   "source": [
    "len(bonafide), len(attacks)"
   ]
  },
  {
   "cell_type": "code",
   "execution_count": null,
   "id": "437e7a5d-cbe6-40b9-b572-13d7848951ca",
   "metadata": {},
   "outputs": [],
   "source": []
  },
  {
   "cell_type": "code",
   "execution_count": 67,
   "id": "127a7a75-c26c-4a1e-b5e9-dfdbae3b893f",
   "metadata": {},
   "outputs": [
    {
     "data": {
      "text/plain": [
       "['FLICKR',\n",
       " 'attack',\n",
       " 'ronda3',\n",
       " 'F_print_brillante_plano',\n",
       " 'F012000_print_brillante_plano_20220325194618.jpg']"
      ]
     },
     "execution_count": 67,
     "metadata": {},
     "output_type": "execute_result"
    }
   ],
   "source": []
  },
  {
   "cell_type": "code",
   "execution_count": 63,
   "id": "b0830117-2f68-49e2-8356-117d27b8c5d6",
   "metadata": {},
   "outputs": [
    {
     "data": {
      "text/plain": [
       "{'image_dir': 'FLICKR/attack/ronda3/F_print_brillante_plano/F012000_print_brillante_plano_20220325194618.jpg',\n",
       " 'mtcnn-inference': {'box': [2200, 1256, 3800, 3768],\n",
       "  'confidence': 0.999896764755249,\n",
       "  'keypoints': {'left_eye': [3096, 2728],\n",
       "   'right_eye': [4856, 2680],\n",
       "   'nose': [3792, 3488],\n",
       "   'mouth_left': [3256, 4136],\n",
       "   'mouth_right': [4728, 4112]}},\n",
       " 'handcrafted': {'periocular': [2019, 3389, 2200, 6000]}}"
      ]
     },
     "execution_count": 63,
     "metadata": {},
     "output_type": "execute_result"
    }
   ],
   "source": [
    "elem"
   ]
  },
  {
   "cell_type": "code",
   "execution_count": null,
   "id": "0c9d12b3-c91a-4e26-a46e-641a254e3cb1",
   "metadata": {},
   "outputs": [],
   "source": []
  },
  {
   "cell_type": "code",
   "execution_count": null,
   "id": "38a179eb-ff79-43f4-ab8a-cddc55be55e8",
   "metadata": {},
   "outputs": [],
   "source": []
  },
  {
   "cell_type": "code",
   "execution_count": null,
   "id": "8160574f-c46a-4e07-8dd5-f6335cf1ea25",
   "metadata": {},
   "outputs": [],
   "source": []
  },
  {
   "cell_type": "code",
   "execution_count": null,
   "id": "8bdaa108-7aa5-4b01-a92d-b033bf3a7460",
   "metadata": {},
   "outputs": [],
   "source": []
  },
  {
   "cell_type": "code",
   "execution_count": null,
   "id": "59a4c334-937d-43fc-b5a5-048b7c9419e5",
   "metadata": {},
   "outputs": [],
   "source": []
  },
  {
   "cell_type": "code",
   "execution_count": null,
   "id": "7e0e3b1f-65f0-4cf3-b483-405294fd599c",
   "metadata": {},
   "outputs": [],
   "source": []
  },
  {
   "cell_type": "code",
   "execution_count": 32,
   "id": "8ecfc866-3fcb-43f5-b38d-f7d3b0a81ad6",
   "metadata": {},
   "outputs": [
    {
     "data": {
      "text/plain": [
       "60000"
      ]
     },
     "execution_count": 32,
     "metadata": {},
     "output_type": "execute_result"
    }
   ],
   "source": [
    "for elem in js:\n",
    "    \n",
    "    \n",
    "    \n",
    "    break"
   ]
  },
  {
   "cell_type": "code",
   "execution_count": null,
   "id": "4b089c62-46f1-4469-8bee-bf80950f1aed",
   "metadata": {},
   "outputs": [],
   "source": [
    "# TODO:\n",
    "# 0. contar cuantas imagenes pasaron por el detector y explicar por que las otras no\n",
    "# 1. agrupar imagenes en bonafide vs atk1 vs atk2 vs atk_n\n",
    "# 1.1. ojala bonafide sea una carpeta con carpetas y los impostores sean tambien una carpeta con carpetas\n",
    "\n",
    "# 2. respetar metodologia de entrenamiento\n",
    "# primero caras -> recortarlas\n",
    "# despues periocular"
   ]
  }
 ],
 "metadata": {
  "kernelspec": {
   "display_name": "Python 3 (ipykernel)",
   "language": "python",
   "name": "python3"
  },
  "language_info": {
   "codemirror_mode": {
    "name": "ipython",
    "version": 3
   },
   "file_extension": ".py",
   "mimetype": "text/x-python",
   "name": "python",
   "nbconvert_exporter": "python",
   "pygments_lexer": "ipython3",
   "version": "3.9.13"
  }
 },
 "nbformat": 4,
 "nbformat_minor": 5
}
