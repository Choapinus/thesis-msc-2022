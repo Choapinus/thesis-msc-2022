{
 "cells": [
  {
   "cell_type": "code",
   "execution_count": 1,
   "id": "75fa0543-152b-4e2f-af10-d41a5bd5b696",
   "metadata": {},
   "outputs": [],
   "source": [
    "import os\n",
    "import json\n",
    "from shutil import copy"
   ]
  },
  {
   "cell_type": "code",
   "execution_count": 2,
   "id": "8a4c6bde-80bb-43aa-b4be-e7c51475781b",
   "metadata": {},
   "outputs": [],
   "source": [
    "json_dir = '/home/choppy/TOC/thesis-msc-2022/data/images/aws/bonafide/unmarked/via_region_data.json'\n",
    "final_folder_dir = '/home/choppy/TOC/thesis-msc-2022/data/images/aws/bonafide/via_marked'"
   ]
  },
  {
   "cell_type": "code",
   "execution_count": 3,
   "id": "5c370364-7f88-4b36-a8cb-ecdab1bcf909",
   "metadata": {
    "scrolled": true,
    "tags": []
   },
   "outputs": [
    {
     "name": "stdout",
     "output_type": "stream",
     "text": [
      "M2E0M2VkO0EyMTIzMDg1.png143502\n",
      "{'filename': 'M2E0M2VkO0EyMTIzMDg1.png', 'size': 143502, 'regions': [{'shape_attributes': {'name': 'rect', 'x': 62, 'y': 137, 'width': 106, 'height': 47}, 'region_attributes': {'Face': 'Periocular'}}], 'file_attributes': {}}\n"
     ]
    }
   ],
   "source": [
    "i = 0\n",
    "\n",
    "with open(json_dir) as file:\n",
    "    json_bonafide = json.load(file)\n",
    "    for k in json_bonafide.keys():\n",
    "        print(k)\n",
    "        print(json_bonafide[k])\n",
    "        \n",
    "        break\n",
    "        # if i == 5:\n",
    "        #     break"
   ]
  },
  {
   "cell_type": "code",
   "execution_count": 4,
   "id": "d014eb8a-31f4-4810-82b9-9ef29e7c2e69",
   "metadata": {},
   "outputs": [],
   "source": [
    "# copy only images with regions into a new folder"
   ]
  },
  {
   "cell_type": "code",
   "execution_count": 5,
   "id": "1acee938-bffa-4316-aeed-e011ba307d4b",
   "metadata": {},
   "outputs": [],
   "source": [
    "os.makedirs(final_folder_dir, exist_ok=True)"
   ]
  },
  {
   "cell_type": "code",
   "execution_count": 6,
   "id": "7e13f8e1-c2fe-4ff0-b426-9e8a15422b98",
   "metadata": {},
   "outputs": [],
   "source": [
    "new_json_bonafide = {}"
   ]
  },
  {
   "cell_type": "code",
   "execution_count": 7,
   "id": "5ede268e-523f-474a-9a9d-c618fef0f256",
   "metadata": {},
   "outputs": [],
   "source": [
    "with open(json_dir) as file:\n",
    "    json_bonafide = json.load(file)\n",
    "    for k in json_bonafide.keys():\n",
    "        if json_bonafide[k]['regions']:\n",
    "            new_json_bonafide[k] = json_bonafide[k]\n",
    "            imdir = os.path.join(os.path.dirname(json_dir), new_json_bonafide[k]['filename'])\n",
    "            copy(imdir, os.path.join(final_folder_dir, new_json_bonafide[k]['filename']))"
   ]
  },
  {
   "cell_type": "code",
   "execution_count": 8,
   "id": "8c6173d8-2ca9-4607-ac53-c584ea1312aa",
   "metadata": {},
   "outputs": [],
   "source": [
    "json.dump(new_json_bonafide, open(os.path.join(final_folder_dir, 'via_region_data.json'), 'w'))"
   ]
  },
  {
   "cell_type": "code",
   "execution_count": 10,
   "id": "936882ef-e210-45f5-ac58-eb7a04ebfc00",
   "metadata": {},
   "outputs": [],
   "source": [
    "# make train/test/val sets"
   ]
  },
  {
   "cell_type": "code",
   "execution_count": null,
   "id": "b51e5873-d4d8-47e5-986d-cb86c684851e",
   "metadata": {},
   "outputs": [],
   "source": []
  }
 ],
 "metadata": {
  "kernelspec": {
   "display_name": "Python 3 (ipykernel)",
   "language": "python",
   "name": "python3"
  },
  "language_info": {
   "codemirror_mode": {
    "name": "ipython",
    "version": 3
   },
   "file_extension": ".py",
   "mimetype": "text/x-python",
   "name": "python",
   "nbconvert_exporter": "python",
   "pygments_lexer": "ipython3",
   "version": "3.9.13"
  }
 },
 "nbformat": 4,
 "nbformat_minor": 5
}
