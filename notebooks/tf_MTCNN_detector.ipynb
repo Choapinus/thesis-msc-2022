{
 "cells": [
  {
   "cell_type": "code",
   "execution_count": 1,
   "id": "a3c75521-dbc1-48a0-8a74-3e1fd6c4e2ec",
   "metadata": {},
   "outputs": [],
   "source": [
    "# ref detector: https://towardsdatascience.com/face-detection-using-mtcnn-a-guide-for-face-extraction-with-a-focus-on-speed-c6d59f82d49\n",
    "# ref rotation: https://www.kaggle.com/code/gpiosenka/align-crop-resize-save-images-using-mtcnn\n",
    "\n",
    "import os\n",
    "import sys\n",
    "\n",
    "sys.path.append('../tflow/mtcnn')\n",
    "\n",
    "import cv2\n",
    "import json\n",
    "import numpy as np\n",
    "from tqdm import tqdm\n",
    "from mtcnn.mtcnn import MTCNN\n",
    "import matplotlib.pyplot as plt\n",
    "from imutils.paths import list_images\n",
    "from scipy.spatial.distance import euclidean\n",
    "from utils import load_image, align, crop_image, rotate_bound"
   ]
  },
  {
   "cell_type": "code",
   "execution_count": 2,
   "id": "03f3d3ad-75a1-4a25-9bd8-597f3c8c299d",
   "metadata": {},
   "outputs": [],
   "source": [
    "# 1. obj detection\n",
    "# obj: usar mtcnn para detectar regiones de interes y guardarlas en un archivo json\n",
    "# este preprocesado ayudará en las siguientes etapas.\n",
    "\n",
    "# 2. make splits\n",
    "# make splits for each dataset conjunction\n",
    "# extra: separate them into jsons/txt\n",
    "# - flickr vs flickr\n",
    "# - splunk vs splunk\n",
    "# - flickr vs splunk\n",
    "# - splunk vs flickr\n",
    "\n",
    "\n",
    "datasets = {\n",
    "    'flickr': '/media/choppy/WD_BLACK/datasets/FLICKR',\n",
    "    'splunk': '/media/choppy/WD_BLACK/datasets/Splunk',\n",
    "}\n",
    "\n",
    "verbose = True\n",
    "debug = False\n",
    "save_steps = 100 # save data each N detections\n",
    "downscale_factor = 8 # used to downscale images and improve speed of mtcnn # seems not to be working"
   ]
  },
  {
   "cell_type": "code",
   "execution_count": 3,
   "id": "8f16d119-6a23-4071-8dad-07f60ced8bf9",
   "metadata": {},
   "outputs": [
    {
     "name": "stderr",
     "output_type": "stream",
     "text": [
      "2022-10-04 21:13:47.476620: I tensorflow/stream_executor/cuda/cuda_gpu_executor.cc:936] successful NUMA node read from SysFS had negative value (-1), but there must be at least one NUMA node, so returning NUMA node zero\n",
      "2022-10-04 21:13:48.160785: I tensorflow/stream_executor/cuda/cuda_gpu_executor.cc:936] successful NUMA node read from SysFS had negative value (-1), but there must be at least one NUMA node, so returning NUMA node zero\n",
      "2022-10-04 21:13:48.162402: I tensorflow/stream_executor/cuda/cuda_gpu_executor.cc:936] successful NUMA node read from SysFS had negative value (-1), but there must be at least one NUMA node, so returning NUMA node zero\n",
      "2022-10-04 21:13:48.187351: I tensorflow/core/platform/cpu_feature_guard.cc:151] This TensorFlow binary is optimized with oneAPI Deep Neural Network Library (oneDNN) to use the following CPU instructions in performance-critical operations:  SSE4.1 SSE4.2 AVX AVX2 FMA\n",
      "To enable them in other operations, rebuild TensorFlow with the appropriate compiler flags.\n",
      "2022-10-04 21:13:48.201050: I tensorflow/stream_executor/cuda/cuda_gpu_executor.cc:936] successful NUMA node read from SysFS had negative value (-1), but there must be at least one NUMA node, so returning NUMA node zero\n",
      "2022-10-04 21:13:48.202685: I tensorflow/stream_executor/cuda/cuda_gpu_executor.cc:936] successful NUMA node read from SysFS had negative value (-1), but there must be at least one NUMA node, so returning NUMA node zero\n",
      "2022-10-04 21:13:48.204114: I tensorflow/stream_executor/cuda/cuda_gpu_executor.cc:936] successful NUMA node read from SysFS had negative value (-1), but there must be at least one NUMA node, so returning NUMA node zero\n",
      "2022-10-04 21:13:54.184502: I tensorflow/stream_executor/cuda/cuda_gpu_executor.cc:936] successful NUMA node read from SysFS had negative value (-1), but there must be at least one NUMA node, so returning NUMA node zero\n",
      "2022-10-04 21:13:54.193995: I tensorflow/stream_executor/cuda/cuda_gpu_executor.cc:936] successful NUMA node read from SysFS had negative value (-1), but there must be at least one NUMA node, so returning NUMA node zero\n",
      "2022-10-04 21:13:54.195435: I tensorflow/stream_executor/cuda/cuda_gpu_executor.cc:936] successful NUMA node read from SysFS had negative value (-1), but there must be at least one NUMA node, so returning NUMA node zero\n",
      "2022-10-04 21:13:54.196631: I tensorflow/core/common_runtime/gpu/gpu_device.cc:1525] Created device /job:localhost/replica:0/task:0/device:GPU:0 with 4082 MB memory:  -> device: 0, name: NVIDIA GeForce GTX 1660 Ti with Max-Q Design, pci bus id: 0000:01:00.0, compute capability: 7.5\n"
     ]
    }
   ],
   "source": [
    "# instance detector\n",
    "# TODO: explore min and max face size of detector inference\n",
    "# detector = MTCNN(min_face_size=400)\n",
    "detector = MTCNN()"
   ]
  },
  {
   "cell_type": "code",
   "execution_count": null,
   "id": "cda4ef32-2651-476c-b29b-6fbcf29c8487",
   "metadata": {
    "scrolled": true,
    "tags": []
   },
   "outputs": [
    {
     "name": "stdout",
     "output_type": "stream",
     "text": [
      "doing inference over 14000 images from FLICKR\n"
     ]
    },
    {
     "name": "stderr",
     "output_type": "stream",
     "text": [
      "flickr:   0%|                                                                                                                                                                            | 0/14000 [00:00<?, ?it/s]2022-10-04 21:14:01.503445: I tensorflow/stream_executor/cuda/cuda_dnn.cc:368] Loaded cuDNN version 8401\n",
      "2022-10-04 21:14:07.453567: I tensorflow/core/platform/default/subprocess.cc:304] Start cannot spawn child process: No such file or directory\n",
      "2022-10-04 21:14:07.454097: I tensorflow/core/platform/default/subprocess.cc:304] Start cannot spawn child process: No such file or directory\n",
      "2022-10-04 21:14:07.454134: W tensorflow/stream_executor/gpu/asm_compiler.cc:80] Couldn't get ptxas version string: INTERNAL: Couldn't invoke ptxas --version\n",
      "2022-10-04 21:14:07.454591: I tensorflow/core/platform/default/subprocess.cc:304] Start cannot spawn child process: No such file or directory\n",
      "2022-10-04 21:14:07.454668: W tensorflow/stream_executor/gpu/redzone_allocator.cc:314] INTERNAL: Failed to launch ptxas\n",
      "Relying on driver to perform ptx compilation. \n",
      "Modify $PATH to customize ptxas location.\n",
      "This message will be only logged once.\n",
      "flickr:   0%|▏                                                                                                                                                                | 13/14000 [00:34<6:03:57,  1.56s/it]"
     ]
    },
    {
     "name": "stdout",
     "output_type": "stream",
     "text": [
      "more than one face detected in img: /media/choppy/WD_BLACK/datasets/FLICKR/attack/ronda3/F_print_brillante_plano/F08447_print_brillante_plano_20220324000644.jpg, but only the biggest is stored\n"
     ]
    },
    {
     "name": "stderr",
     "output_type": "stream",
     "text": [
      "flickr:   0%|▏                                                                                                                                                                | 16/14000 [00:38<5:40:35,  1.46s/it]"
     ]
    },
    {
     "name": "stdout",
     "output_type": "stream",
     "text": [
      "no predictions for /media/choppy/WD_BLACK/datasets/FLICKR/attack/ronda3/F_print_brillante_plano/F08454_print_brillante_plano_20220324001552.jpg, please check.\n"
     ]
    },
    {
     "name": "stderr",
     "output_type": "stream",
     "text": [
      "flickr:   0%|▊                                                                                                                                                                | 66/14000 [01:23<3:40:24,  1.05it/s]"
     ]
    },
    {
     "name": "stdout",
     "output_type": "stream",
     "text": [
      "no predictions for /media/choppy/WD_BLACK/datasets/FLICKR/attack/ronda3/F_print_brillante_plano/F08935_print_brillante_plano_20220325040610.jpg, please check.\n"
     ]
    },
    {
     "name": "stderr",
     "output_type": "stream",
     "text": [
      "flickr:   1%|▊                                                                                                                                                                | 73/14000 [01:33<5:26:21,  1.41s/it]"
     ]
    },
    {
     "name": "stdout",
     "output_type": "stream",
     "text": [
      "no predictions for /media/choppy/WD_BLACK/datasets/FLICKR/attack/ronda3/F_print_brillante_plano/F08961_print_brillante_plano_20220325042408.jpg, please check.\n"
     ]
    },
    {
     "name": "stderr",
     "output_type": "stream",
     "text": [
      "flickr:   1%|█▎                                                                                                                                                              | 113/14000 [02:20<5:17:06,  1.37s/it]"
     ]
    },
    {
     "name": "stdout",
     "output_type": "stream",
     "text": [
      "no predictions for /media/choppy/WD_BLACK/datasets/FLICKR/attack/ronda3/F_print_brillante_plano/F08750_print_brillante_plano_20220324230941.jpg, please check.\n"
     ]
    },
    {
     "name": "stderr",
     "output_type": "stream",
     "text": [
      "flickr:   1%|█▋                                                                                                                                                              | 153/14000 [02:49<2:39:04,  1.45it/s]"
     ]
    },
    {
     "name": "stdout",
     "output_type": "stream",
     "text": [
      "no predictions for /media/choppy/WD_BLACK/datasets/FLICKR/attack/ronda3/F_print_brillante_plano/F12368_print_brillante_plano_20220326030356.jpg, please check.\n"
     ]
    },
    {
     "name": "stderr",
     "output_type": "stream",
     "text": [
      "flickr:   1%|█▊                                                                                                                                                              | 155/14000 [02:50<2:38:37,  1.45it/s]"
     ]
    },
    {
     "name": "stdout",
     "output_type": "stream",
     "text": [
      "no predictions for /media/choppy/WD_BLACK/datasets/FLICKR/attack/ronda3/F_print_brillante_plano/F12370_print_brillante_plano_20220326030636.jpg, please check.\n"
     ]
    },
    {
     "name": "stderr",
     "output_type": "stream",
     "text": [
      "flickr:   1%|█▊                                                                                                                                                              | 161/14000 [02:55<2:46:29,  1.39it/s]"
     ]
    },
    {
     "name": "stdout",
     "output_type": "stream",
     "text": [
      "no predictions for /media/choppy/WD_BLACK/datasets/FLICKR/attack/ronda3/F_print_brillante_plano/F12387_print_brillante_plano_20220326031433.jpg, please check.\n"
     ]
    },
    {
     "name": "stderr",
     "output_type": "stream",
     "text": [
      "flickr:   1%|██▎                                                                                                                                                             | 197/14000 [03:27<5:17:13,  1.38s/it]"
     ]
    },
    {
     "name": "stdout",
     "output_type": "stream",
     "text": [
      "no predictions for /media/choppy/WD_BLACK/datasets/FLICKR/attack/ronda3/F_print_brillante_plano/F08594_print_brillante_plano_20220324031624.jpg, please check.\n"
     ]
    },
    {
     "name": "stderr",
     "output_type": "stream",
     "text": [
      "flickr:   1%|██▎                                                                                                                                                             | 199/14000 [03:28<3:59:11,  1.04s/it]"
     ]
    },
    {
     "name": "stdout",
     "output_type": "stream",
     "text": [
      "no predictions for /media/choppy/WD_BLACK/datasets/FLICKR/attack/ronda3/F_print_brillante_plano/F12459_print_brillante_plano_20220326162152.jpg, please check.\n"
     ]
    },
    {
     "name": "stderr",
     "output_type": "stream",
     "text": [
      "flickr:   2%|██▌                                                                                                                                                             | 229/14000 [04:01<5:19:03,  1.39s/it]"
     ]
    },
    {
     "name": "stdout",
     "output_type": "stream",
     "text": [
      "more than one face detected in img: /media/choppy/WD_BLACK/datasets/FLICKR/attack/ronda3/F_print_brillante_plano/F12197_print_brillante_plano_20220326035934.jpg, but only the biggest is stored\n"
     ]
    },
    {
     "name": "stderr",
     "output_type": "stream",
     "text": [
      "flickr:   2%|███▎                                                                                                                                                            | 295/14000 [04:53<5:15:16,  1.38s/it]"
     ]
    },
    {
     "name": "stdout",
     "output_type": "stream",
     "text": [
      "more than one face detected in img: /media/choppy/WD_BLACK/datasets/FLICKR/attack/ronda3/F_print_brillante_plano/F12091_print_brillante_plano_20220325221039.jpg, but only the biggest is stored\n"
     ]
    },
    {
     "name": "stderr",
     "output_type": "stream",
     "text": [
      "flickr:   2%|███▍                                                                                                                                                            | 303/14000 [05:03<3:37:10,  1.05it/s]"
     ]
    },
    {
     "name": "stdout",
     "output_type": "stream",
     "text": [
      "no predictions for /media/choppy/WD_BLACK/datasets/FLICKR/attack/ronda3/F_print_brillante_plano/F12268_print_brillante_plano_20220326001550.jpg, please check.\n"
     ]
    },
    {
     "name": "stderr",
     "output_type": "stream",
     "text": [
      "flickr:   2%|███▌                                                                                                                                                            | 307/14000 [05:05<2:56:53,  1.29it/s]"
     ]
    },
    {
     "name": "stdout",
     "output_type": "stream",
     "text": [
      "no predictions for /media/choppy/WD_BLACK/datasets/FLICKR/attack/ronda3/F_print_brillante_plano/F12278_print_brillante_plano_20220326002129.jpg, please check.\n"
     ]
    },
    {
     "name": "stderr",
     "output_type": "stream",
     "text": [
      "flickr:   2%|███▌                                                                                                                                                            | 308/14000 [05:06<2:49:36,  1.35it/s]"
     ]
    },
    {
     "name": "stdout",
     "output_type": "stream",
     "text": [
      "no predictions for /media/choppy/WD_BLACK/datasets/FLICKR/attack/ronda3/F_print_brillante_plano/F12279_print_brillante_plano_20220326002234.jpg, please check.\n"
     ]
    },
    {
     "name": "stderr",
     "output_type": "stream",
     "text": [
      "flickr:   2%|███▌                                                                                                                                                            | 310/14000 [05:08<2:45:47,  1.38it/s]"
     ]
    },
    {
     "name": "stdout",
     "output_type": "stream",
     "text": [
      "no predictions for /media/choppy/WD_BLACK/datasets/FLICKR/attack/ronda3/F_print_brillante_plano/F12284_print_brillante_plano_20220326002502.jpg, please check.\n"
     ]
    },
    {
     "name": "stderr",
     "output_type": "stream",
     "text": [
      "flickr:   2%|███▌                                                                                                                                                            | 316/14000 [05:12<2:48:58,  1.35it/s]"
     ]
    },
    {
     "name": "stdout",
     "output_type": "stream",
     "text": [
      "no predictions for /media/choppy/WD_BLACK/datasets/FLICKR/attack/ronda3/F_print_brillante_plano/F12300_print_brillante_plano_20220326003242.jpg, please check.\n"
     ]
    },
    {
     "name": "stderr",
     "output_type": "stream",
     "text": [
      "flickr:   2%|███▌                                                                                                                                                            | 317/14000 [05:13<2:46:09,  1.37it/s]"
     ]
    },
    {
     "name": "stdout",
     "output_type": "stream",
     "text": [
      "no predictions for /media/choppy/WD_BLACK/datasets/FLICKR/attack/ronda3/F_print_brillante_plano/F12301_print_brillante_plano_20220326003355.jpg, please check.\n"
     ]
    },
    {
     "name": "stderr",
     "output_type": "stream",
     "text": [
      "flickr:   2%|███▊                                                                                                                                                            | 338/14000 [05:29<2:48:21,  1.35it/s]"
     ]
    },
    {
     "name": "stdout",
     "output_type": "stream",
     "text": [
      "no predictions for /media/choppy/WD_BLACK/datasets/FLICKR/attack/ronda3/F_print_brillante_plano/F12662_print_brillante_plano_20220327005347.jpg, please check.\n"
     ]
    },
    {
     "name": "stderr",
     "output_type": "stream",
     "text": [
      "flickr:   3%|████                                                                                                                                                            | 357/14000 [05:43<2:48:25,  1.35it/s]"
     ]
    },
    {
     "name": "stdout",
     "output_type": "stream",
     "text": [
      "no predictions for /media/choppy/WD_BLACK/datasets/FLICKR/attack/ronda3/F_print_brillante_plano/F12849_print_brillante_plano_20220328204153.jpg, please check.\n"
     ]
    },
    {
     "name": "stderr",
     "output_type": "stream",
     "text": [
      "flickr:   3%|████▋                                                                                                                                                           | 405/14000 [06:15<2:44:18,  1.38it/s]"
     ]
    },
    {
     "name": "stdout",
     "output_type": "stream",
     "text": [
      "no predictions for /media/choppy/WD_BLACK/datasets/FLICKR/attack/ronda3/F_print_brillante_plano/F12854_print_brillante_plano_20220328204845.jpg, please check.\n"
     ]
    },
    {
     "name": "stderr",
     "output_type": "stream",
     "text": [
      "flickr:   3%|█████▍                                                                                                                                                          | 474/14000 [07:00<2:46:49,  1.35it/s]"
     ]
    },
    {
     "name": "stdout",
     "output_type": "stream",
     "text": [
      "no predictions for /media/choppy/WD_BLACK/datasets/FLICKR/attack/ronda3/F_print_brillante_plano/F12546_print_brillante_plano_20220326200635.jpg, please check.\n"
     ]
    },
    {
     "name": "stderr",
     "output_type": "stream",
     "text": [
      "flickr:   4%|█████▌                                                                                                                                                          | 492/14000 [07:20<5:43:58,  1.53s/it]"
     ]
    },
    {
     "name": "stdout",
     "output_type": "stream",
     "text": [
      "more than one face detected in img: /media/choppy/WD_BLACK/datasets/FLICKR/attack/ronda3/F_print_brillante_plano/F08509_print_brillante_plano_20220324013644.jpg, but only the biggest is stored\n"
     ]
    },
    {
     "name": "stderr",
     "output_type": "stream",
     "text": [
      "flickr:   4%|█████▋                                                                                                                                                          | 496/14000 [07:25<4:41:24,  1.25s/it]"
     ]
    },
    {
     "name": "stdout",
     "output_type": "stream",
     "text": [
      "no predictions for /media/choppy/WD_BLACK/datasets/FLICKR/attack/ronda3/F_print_brillante_plano/F12430_print_brillante_plano_20220326034411.jpg, please check.\n"
     ]
    },
    {
     "name": "stderr",
     "output_type": "stream",
     "text": [
      "flickr:   4%|█████▋                                                                                                                                                          | 497/14000 [07:26<4:11:36,  1.12s/it]"
     ]
    },
    {
     "name": "stdout",
     "output_type": "stream",
     "text": [
      "no predictions for /media/choppy/WD_BLACK/datasets/FLICKR/attack/ronda3/F_print_brillante_plano/F12432_print_brillante_plano_20220326034508.jpg, please check.\n"
     ]
    },
    {
     "name": "stderr",
     "output_type": "stream",
     "text": [
      "flickr:   4%|█████▋                                                                                                                                                          | 501/14000 [07:29<3:05:34,  1.21it/s]"
     ]
    },
    {
     "name": "stdout",
     "output_type": "stream",
     "text": [
      "more than one face detected in img: /media/choppy/WD_BLACK/datasets/FLICKR/attack/ronda3/F_print_brillante_plano/F12440_print_brillante_plano_20220326035157.jpg, but only the biggest is stored\n"
     ]
    },
    {
     "name": "stderr",
     "output_type": "stream",
     "text": [
      "flickr:   4%|█████▋                                                                                                                                                          | 503/14000 [07:30<2:52:26,  1.30it/s]"
     ]
    },
    {
     "name": "stdout",
     "output_type": "stream",
     "text": [
      "no predictions for /media/choppy/WD_BLACK/datasets/FLICKR/attack/ronda3/F_print_brillante_plano/F12442_print_brillante_plano_20220326035506.jpg, please check.\n"
     ]
    },
    {
     "name": "stderr",
     "output_type": "stream",
     "text": [
      "flickr:   4%|█████▊                                                                                                                                                          | 506/14000 [07:32<2:50:44,  1.32it/s]"
     ]
    },
    {
     "name": "stdout",
     "output_type": "stream",
     "text": [
      "no predictions for /media/choppy/WD_BLACK/datasets/FLICKR/attack/ronda3/F_print_brillante_plano/F12445_print_brillante_plano_20220326035907.jpg, please check.\n"
     ]
    },
    {
     "name": "stderr",
     "output_type": "stream",
     "text": [
      "flickr:   4%|██████                                                                                                                                                          | 529/14000 [08:00<3:13:36,  1.16it/s]"
     ]
    },
    {
     "name": "stdout",
     "output_type": "stream",
     "text": [
      "no predictions for /media/choppy/WD_BLACK/datasets/FLICKR/attack/ronda3/F_print_brillante_plano/F12860_print_brillante_plano_20220328205510.jpg, please check.\n"
     ]
    },
    {
     "name": "stderr",
     "output_type": "stream",
     "text": [
      "flickr:   4%|██████                                                                                                                                                          | 530/14000 [08:01<3:03:41,  1.22it/s]"
     ]
    },
    {
     "name": "stdout",
     "output_type": "stream",
     "text": [
      "no predictions for /media/choppy/WD_BLACK/datasets/FLICKR/attack/ronda3/F_print_brillante_plano/F12865_print_brillante_plano_20220328205803.jpg, please check.\n"
     ]
    },
    {
     "name": "stderr",
     "output_type": "stream",
     "text": [
      "flickr:   4%|██████                                                                                                                                                          | 534/14000 [08:04<2:55:05,  1.28it/s]"
     ]
    },
    {
     "name": "stdout",
     "output_type": "stream",
     "text": [
      "more than one face detected in img: /media/choppy/WD_BLACK/datasets/FLICKR/attack/ronda3/F_print_brillante_plano/F12872_print_brillante_plano_20220328210209.jpg, but only the biggest is stored\n"
     ]
    },
    {
     "name": "stderr",
     "output_type": "stream",
     "text": [
      "flickr:   4%|██████▎                                                                                                                                                         | 547/14000 [08:13<2:26:22,  1.53it/s]"
     ]
    },
    {
     "name": "stdout",
     "output_type": "stream",
     "text": [
      "no predictions for /media/choppy/WD_BLACK/datasets/FLICKR/attack/ronda3/F_print_brillante_plano/F16351_print_brillante_plano_20220329053400.jpg, please check.\n"
     ]
    },
    {
     "name": "stderr",
     "output_type": "stream",
     "text": [
      "flickr:   4%|██████▋                                                                                                                                                         | 582/14000 [08:50<3:11:30,  1.17it/s]"
     ]
    },
    {
     "name": "stdout",
     "output_type": "stream",
     "text": [
      "no predictions for /media/choppy/WD_BLACK/datasets/FLICKR/attack/ronda3/F_print_brillante_plano/F12785_print_brillante_plano_20220327034152.jpg, please check.\n"
     ]
    },
    {
     "name": "stderr",
     "output_type": "stream",
     "text": [
      "flickr:   4%|██████▉                                                                                                                                                         | 606/14000 [09:17<4:43:53,  1.27s/it]"
     ]
    },
    {
     "name": "stdout",
     "output_type": "stream",
     "text": [
      "no predictions for /media/choppy/WD_BLACK/datasets/FLICKR/attack/ronda3/F_print_brillante_plano/F12241_print_brillante_plano_20220325221313.jpg, please check.\n"
     ]
    },
    {
     "name": "stderr",
     "output_type": "stream",
     "text": [
      "flickr:   4%|██████▉                                                                                                                                                         | 608/14000 [09:19<3:40:44,  1.01it/s]"
     ]
    },
    {
     "name": "stdout",
     "output_type": "stream",
     "text": [
      "no predictions for /media/choppy/WD_BLACK/datasets/FLICKR/attack/ronda3/F_print_brillante_plano/F12244_print_brillante_plano_20220326000653.jpg, please check.\n"
     ]
    },
    {
     "name": "stderr",
     "output_type": "stream",
     "text": [
      "flickr:   4%|███████▏                                                                                                                                                        | 628/14000 [09:35<4:46:43,  1.29s/it]"
     ]
    },
    {
     "name": "stdout",
     "output_type": "stream",
     "text": [
      "no predictions for /media/choppy/WD_BLACK/datasets/FLICKR/attack/ronda3/F_print_brillante_plano/F08626_print_brillante_plano_20220324150005.jpg, please check.\n"
     ]
    },
    {
     "name": "stderr",
     "output_type": "stream",
     "text": [
      "flickr:   5%|███████▏                                                                                                                                                        | 634/14000 [09:44<5:11:14,  1.40s/it]"
     ]
    },
    {
     "name": "stdout",
     "output_type": "stream",
     "text": [
      "no predictions for /media/choppy/WD_BLACK/datasets/FLICKR/attack/ronda3/F_print_brillante_plano/F08645_print_brillante_plano_20220324205942.jpg, please check.\n"
     ]
    },
    {
     "name": "stderr",
     "output_type": "stream",
     "text": [
      "flickr:   5%|████████                                                                                                                                                        | 708/14000 [10:39<2:32:25,  1.45it/s]"
     ]
    },
    {
     "name": "stdout",
     "output_type": "stream",
     "text": [
      "no predictions for /media/choppy/WD_BLACK/datasets/FLICKR/attack/ronda3/F_print_brillante_plano/F12319_print_brillante_plano_20220326010354.jpg, please check.\n"
     ]
    },
    {
     "name": "stderr",
     "output_type": "stream",
     "text": [
      "flickr:   5%|████████▏                                                                                                                                                       | 717/14000 [10:45<2:42:27,  1.36it/s]"
     ]
    },
    {
     "name": "stdout",
     "output_type": "stream",
     "text": [
      "no predictions for /media/choppy/WD_BLACK/datasets/FLICKR/attack/ronda3/F_print_brillante_plano/F12339_print_brillante_plano_20220326024936.jpg, please check.\n"
     ]
    },
    {
     "name": "stderr",
     "output_type": "stream",
     "text": [
      "flickr:   5%|████████▏                                                                                                                                                       | 718/14000 [10:46<2:38:02,  1.40it/s]"
     ]
    },
    {
     "name": "stdout",
     "output_type": "stream",
     "text": [
      "no predictions for /media/choppy/WD_BLACK/datasets/FLICKR/attack/ronda3/F_print_brillante_plano/F12341_print_brillante_plano_20220326025120.jpg, please check.\n"
     ]
    },
    {
     "name": "stderr",
     "output_type": "stream",
     "text": [
      "flickr:   5%|████████▏                                                                                                                                                       | 719/14000 [10:47<2:34:45,  1.43it/s]"
     ]
    },
    {
     "name": "stdout",
     "output_type": "stream",
     "text": [
      "no predictions for /media/choppy/WD_BLACK/datasets/FLICKR/attack/ronda3/F_print_brillante_plano/F12343_print_brillante_plano_20220326025315.jpg, please check.\n"
     ]
    },
    {
     "name": "stderr",
     "output_type": "stream",
     "text": [
      "flickr:   5%|████████▏                                                                                                                                                       | 720/14000 [10:47<2:32:17,  1.45it/s]"
     ]
    },
    {
     "name": "stdout",
     "output_type": "stream",
     "text": [
      "no predictions for /media/choppy/WD_BLACK/datasets/FLICKR/attack/ronda3/F_print_brillante_plano/F12347_print_brillante_plano_20220326025516.jpg, please check.\n"
     ]
    },
    {
     "name": "stderr",
     "output_type": "stream",
     "text": [
      "flickr:   5%|████████▏                                                                                                                                                       | 721/14000 [10:48<2:36:00,  1.42it/s]"
     ]
    },
    {
     "name": "stdout",
     "output_type": "stream",
     "text": [
      "no predictions for /media/choppy/WD_BLACK/datasets/FLICKR/attack/ronda3/F_print_brillante_plano/F12348_print_brillante_plano_20220326025621.jpg, please check.\n"
     ]
    },
    {
     "name": "stderr",
     "output_type": "stream",
     "text": [
      "flickr:   5%|████████▍                                                                                                                                                       | 735/14000 [10:56<2:03:11,  1.79it/s]"
     ]
    },
    {
     "name": "stdout",
     "output_type": "stream",
     "text": [
      "no predictions for /media/choppy/WD_BLACK/datasets/FLICKR/attack/ronda3/F_print_brillante_plano/F08872_print_brillante_plano_20220325014910.jpg, please check.\n"
     ]
    },
    {
     "name": "stderr",
     "output_type": "stream",
     "text": [
      "flickr:   5%|████████▍                                                                                                                                                       | 739/14000 [10:59<2:12:39,  1.67it/s]"
     ]
    },
    {
     "name": "stdout",
     "output_type": "stream",
     "text": [
      "no predictions for /media/choppy/WD_BLACK/datasets/FLICKR/attack/ronda3/F_print_brillante_plano/F12395_print_brillante_plano_20220326032148.jpg, please check.\n"
     ]
    },
    {
     "name": "stderr",
     "output_type": "stream",
     "text": [
      "flickr:   5%|████████▍                                                                                                                                                       | 741/14000 [11:00<2:29:50,  1.47it/s]"
     ]
    },
    {
     "name": "stdout",
     "output_type": "stream",
     "text": [
      "no predictions for /media/choppy/WD_BLACK/datasets/FLICKR/attack/ronda3/F_print_brillante_plano/F12404_print_brillante_plano_20220326032453.jpg, please check.\n"
     ]
    },
    {
     "name": "stderr",
     "output_type": "stream",
     "text": [
      "flickr:   5%|████████▍                                                                                                                                                       | 742/14000 [11:01<2:31:28,  1.46it/s]"
     ]
    },
    {
     "name": "stdout",
     "output_type": "stream",
     "text": [
      "no predictions for /media/choppy/WD_BLACK/datasets/FLICKR/attack/ronda3/F_print_brillante_plano/F12405_print_brillante_plano_20220326032555.jpg, please check.\n"
     ]
    },
    {
     "name": "stderr",
     "output_type": "stream",
     "text": [
      "flickr:   5%|████████▌                                                                                                                                                       | 744/14000 [11:02<2:34:56,  1.43it/s]"
     ]
    },
    {
     "name": "stdout",
     "output_type": "stream",
     "text": [
      "no predictions for /media/choppy/WD_BLACK/datasets/FLICKR/attack/ronda3/F_print_brillante_plano/F12409_print_brillante_plano_20220326032916.jpg, please check.\n"
     ]
    },
    {
     "name": "stderr",
     "output_type": "stream",
     "text": [
      "flickr:   5%|████████▌                                                                                                                                                       | 747/14000 [11:05<2:56:06,  1.25it/s]"
     ]
    },
    {
     "name": "stdout",
     "output_type": "stream",
     "text": [
      "no predictions for /media/choppy/WD_BLACK/datasets/FLICKR/attack/ronda3/F_print_brillante_plano/F12413_print_brillante_plano_20220326033432.jpg, please check.\n"
     ]
    },
    {
     "name": "stderr",
     "output_type": "stream",
     "text": [
      "flickr:   5%|████████▌                                                                                                                                                       | 751/14000 [11:08<2:48:30,  1.31it/s]"
     ]
    },
    {
     "name": "stdout",
     "output_type": "stream",
     "text": [
      "no predictions for /media/choppy/WD_BLACK/datasets/FLICKR/attack/ronda3/F_print_brillante_plano/F12424_print_brillante_plano_20220326033907.jpg, please check.\n"
     ]
    },
    {
     "name": "stderr",
     "output_type": "stream",
     "text": [
      "flickr:   5%|████████▌                                                                                                                                                       | 754/14000 [11:11<3:25:02,  1.08it/s]"
     ]
    },
    {
     "name": "stdout",
     "output_type": "stream",
     "text": [
      "no predictions for /media/choppy/WD_BLACK/datasets/FLICKR/attack/ronda3/F_print_brillante_plano/F08702_print_brillante_plano_20220324221142.jpg, please check.\n"
     ]
    },
    {
     "name": "stderr",
     "output_type": "stream",
     "text": [
      "flickr:   6%|████████▊                                                                                                                                                       | 773/14000 [11:36<3:24:21,  1.08it/s]"
     ]
    },
    {
     "name": "stdout",
     "output_type": "stream",
     "text": [
      "no predictions for /media/choppy/WD_BLACK/datasets/FLICKR/attack/ronda3/F_print_brillante_plano/F12393_print_brillante_plano_20220326032032.jpg, please check.\n"
     ]
    },
    {
     "name": "stderr",
     "output_type": "stream",
     "text": [
      "flickr:   6%|████████▊                                                                                                                                                       | 774/14000 [11:37<3:06:48,  1.18it/s]"
     ]
    },
    {
     "name": "stdout",
     "output_type": "stream",
     "text": [
      "no predictions for /media/choppy/WD_BLACK/datasets/FLICKR/attack/ronda3/F_print_brillante_plano/F12428_print_brillante_plano_20220326034314.jpg, please check.\n"
     ]
    },
    {
     "name": "stderr",
     "output_type": "stream",
     "text": [
      "flickr:   6%|████████▉                                                                                                                                                       | 786/14000 [11:47<2:51:58,  1.28it/s]"
     ]
    },
    {
     "name": "stdout",
     "output_type": "stream",
     "text": [
      "no predictions for /media/choppy/WD_BLACK/datasets/FLICKR/attack/ronda3/F_print_brillante_plano/F12501_print_brillante_plano_20220326185901.jpg, please check.\n"
     ]
    },
    {
     "name": "stderr",
     "output_type": "stream",
     "text": [
      "flickr:   6%|█████████▏                                                                                                                                                      | 807/14000 [12:12<5:18:39,  1.45s/it]"
     ]
    },
    {
     "name": "stdout",
     "output_type": "stream",
     "text": [
      "more than one face detected in img: /media/choppy/WD_BLACK/datasets/FLICKR/attack/ronda3/F_print_brillante_plano/F12155_print_brillante_plano_20220325234000.jpg, but only the biggest is stored\n"
     ]
    },
    {
     "name": "stderr",
     "output_type": "stream",
     "text": [
      "flickr:   6%|█████████▏                                                                                                                                                      | 809/14000 [12:15<5:10:36,  1.41s/it]"
     ]
    },
    {
     "name": "stdout",
     "output_type": "stream",
     "text": [
      "no predictions for /media/choppy/WD_BLACK/datasets/FLICKR/attack/ronda3/F_print_brillante_plano/F12157_print_brillante_plano_20220326000916.jpg, please check.\n"
     ]
    },
    {
     "name": "stderr",
     "output_type": "stream",
     "text": [
      "flickr:   6%|█████████▎                                                                                                                                                      | 810/14000 [12:16<5:07:44,  1.40s/it]"
     ]
    },
    {
     "name": "stdout",
     "output_type": "stream",
     "text": [
      "no predictions for /media/choppy/WD_BLACK/datasets/FLICKR/attack/ronda3/F_print_brillante_plano/F08767_print_brillante_plano_20220324231715.jpg, please check.\n"
     ]
    },
    {
     "name": "stderr",
     "output_type": "stream",
     "text": [
      "flickr:   6%|█████████▎                                                                                                                                                      | 813/14000 [12:21<5:26:06,  1.48s/it]"
     ]
    },
    {
     "name": "stdout",
     "output_type": "stream",
     "text": [
      "no predictions for /media/choppy/WD_BLACK/datasets/FLICKR/attack/ronda3/F_print_brillante_plano/F08771_print_brillante_plano_20220324234304.jpg, please check.\n"
     ]
    },
    {
     "name": "stderr",
     "output_type": "stream",
     "text": [
      "flickr:   6%|█████████▋                                                                                                                                                      | 849/14000 [12:48<2:17:42,  1.59it/s]"
     ]
    },
    {
     "name": "stdout",
     "output_type": "stream",
     "text": [
      "no predictions for /media/choppy/WD_BLACK/datasets/FLICKR/attack/ronda3/F_print_brillante_plano/F16483_print_brillante_plano_20220329142517.jpg, please check.\n"
     ]
    },
    {
     "name": "stderr",
     "output_type": "stream",
     "text": [
      "flickr:   6%|██████████                                                                                                                                                      | 878/14000 [13:08<2:12:37,  1.65it/s]"
     ]
    },
    {
     "name": "stdout",
     "output_type": "stream",
     "text": [
      "no predictions for /media/choppy/WD_BLACK/datasets/FLICKR/attack/ronda3/F_print_brillante_plano/F16625_print_brillante_plano_20220329201752.jpg, please check.\n"
     ]
    },
    {
     "name": "stderr",
     "output_type": "stream",
     "text": [
      "flickr:   6%|██████████▎                                                                                                                                                     | 907/14000 [13:36<2:16:14,  1.60it/s]"
     ]
    },
    {
     "name": "stdout",
     "output_type": "stream",
     "text": [
      "no predictions for /media/choppy/WD_BLACK/datasets/FLICKR/attack/ronda3/F_print_brillante_plano/F16318_print_brillante_plano_20220329051203.jpg, please check.\n"
     ]
    },
    {
     "name": "stderr",
     "output_type": "stream",
     "text": [
      "flickr:   7%|██████████▍                                                                                                                                                     | 913/14000 [13:41<2:49:33,  1.29it/s]"
     ]
    },
    {
     "name": "stdout",
     "output_type": "stream",
     "text": [
      "more than one face detected in img: /media/choppy/WD_BLACK/datasets/FLICKR/attack/ronda3/F_print_brillante_plano/F12616_print_brillante_plano_20220327002639.jpg, but only the biggest is stored\n"
     ]
    },
    {
     "name": "stderr",
     "output_type": "stream",
     "text": [
      "flickr:   7%|██████████▌                                                                                                                                                     | 919/14000 [13:47<3:28:38,  1.04it/s]"
     ]
    },
    {
     "name": "stdout",
     "output_type": "stream",
     "text": [
      "no predictions for /media/choppy/WD_BLACK/datasets/FLICKR/attack/ronda3/F_print_brillante_plano/F08523_print_brillante_plano_20220324015546.jpg, please check.\n"
     ]
    },
    {
     "name": "stderr",
     "output_type": "stream",
     "text": [
      "flickr:   7%|██████████▌                                                                                                                                                     | 926/14000 [13:57<5:07:06,  1.41s/it]"
     ]
    },
    {
     "name": "stdout",
     "output_type": "stream",
     "text": [
      "no predictions for /media/choppy/WD_BLACK/datasets/FLICKR/attack/ronda3/F_print_brillante_plano/F08537_print_brillante_plano_20220324021630.jpg, please check.\n"
     ]
    },
    {
     "name": "stderr",
     "output_type": "stream",
     "text": [
      "flickr:   7%|██████████▌                                                                                                                                                     | 928/14000 [14:00<5:08:38,  1.42s/it]"
     ]
    },
    {
     "name": "stdout",
     "output_type": "stream",
     "text": [
      "no predictions for /media/choppy/WD_BLACK/datasets/FLICKR/attack/ronda3/F_print_brillante_plano/F08541_print_brillante_plano_20220324022132.jpg, please check.\n"
     ]
    },
    {
     "name": "stderr",
     "output_type": "stream",
     "text": [
      "flickr:   7%|██████████▊                                                                                                                                                     | 944/14000 [14:18<2:53:48,  1.25it/s]"
     ]
    },
    {
     "name": "stdout",
     "output_type": "stream",
     "text": [
      "no predictions for /media/choppy/WD_BLACK/datasets/FLICKR/attack/ronda3/F_print_brillante_plano/F12760_print_brillante_plano_20220327033332.jpg, please check.\n"
     ]
    },
    {
     "name": "stderr",
     "output_type": "stream",
     "text": [
      "flickr:   7%|███████████▊                                                                                                                                                   | 1040/14000 [15:35<2:04:48,  1.73it/s]"
     ]
    },
    {
     "name": "stdout",
     "output_type": "stream",
     "text": [
      "no predictions for /media/choppy/WD_BLACK/datasets/FLICKR/attack/ronda3/F_print_normal_plano/F20861_print_normal_plano_20220219002535.jpg, please check.\n"
     ]
    },
    {
     "name": "stderr",
     "output_type": "stream",
     "text": [
      "flickr:   7%|███████████▊                                                                                                                                                   | 1045/14000 [15:38<2:04:58,  1.73it/s]"
     ]
    },
    {
     "name": "stdout",
     "output_type": "stream",
     "text": [
      "no predictions for /media/choppy/WD_BLACK/datasets/FLICKR/attack/ronda3/F_print_normal_plano/F20305_print_normal_plano_20220220173907.jpg, please check.\n"
     ]
    },
    {
     "name": "stderr",
     "output_type": "stream",
     "text": [
      "flickr:   8%|████████████                                                                                                                                                   | 1065/14000 [15:50<2:14:18,  1.61it/s]"
     ]
    },
    {
     "name": "stdout",
     "output_type": "stream",
     "text": [
      "no predictions for /media/choppy/WD_BLACK/datasets/FLICKR/attack/ronda3/F_print_normal_plano/F16919_print_normal_plano_20220219204132.jpg, please check.\n"
     ]
    },
    {
     "name": "stderr",
     "output_type": "stream",
     "text": [
      "flickr:   8%|████████████▎                                                                                                                                                  | 1087/14000 [16:03<2:11:12,  1.64it/s]"
     ]
    },
    {
     "name": "stdout",
     "output_type": "stream",
     "text": [
      "no predictions for /media/choppy/WD_BLACK/datasets/FLICKR/attack/ronda3/F_print_normal_plano/F24376_print_normal_plano_20220404223117.jpg, please check.\n"
     ]
    },
    {
     "name": "stderr",
     "output_type": "stream",
     "text": [
      "flickr:   8%|████████████▋                                                                                                                                                  | 1112/14000 [16:18<2:01:30,  1.77it/s]"
     ]
    },
    {
     "name": "stdout",
     "output_type": "stream",
     "text": [
      "no predictions for /media/choppy/WD_BLACK/datasets/FLICKR/attack/ronda3/F_print_normal_plano/F24131_print_normal_plano_20220219014840.jpg, please check.\n"
     ]
    },
    {
     "name": "stderr",
     "output_type": "stream",
     "text": [
      "flickr:   8%|████████████▊                                                                                                                                                  | 1133/14000 [16:30<2:09:44,  1.65it/s]"
     ]
    },
    {
     "name": "stdout",
     "output_type": "stream",
     "text": [
      "no predictions for /media/choppy/WD_BLACK/datasets/FLICKR/attack/ronda3/F_print_normal_plano/F20094_print_normal_plano_20220219170538.jpg, please check.\n"
     ]
    },
    {
     "name": "stderr",
     "output_type": "stream",
     "text": [
      "flickr:   8%|████████████▉                                                                                                                                                  | 1134/14000 [16:31<2:11:43,  1.63it/s]"
     ]
    },
    {
     "name": "stdout",
     "output_type": "stream",
     "text": [
      "more than one face detected in img: /media/choppy/WD_BLACK/datasets/FLICKR/attack/ronda3/F_print_normal_plano/F20095_print_normal_plano_20220219171400.jpg, but only the biggest is stored\n"
     ]
    },
    {
     "name": "stderr",
     "output_type": "stream",
     "text": [
      "flickr:   8%|████████████▉                                                                                                                                                  | 1135/14000 [16:32<2:05:33,  1.71it/s]"
     ]
    },
    {
     "name": "stdout",
     "output_type": "stream",
     "text": [
      "no predictions for /media/choppy/WD_BLACK/datasets/FLICKR/attack/ronda3/F_print_normal_plano/F20098_print_normal_plano_20220219171959.jpg, please check.\n"
     ]
    },
    {
     "name": "stderr",
     "output_type": "stream",
     "text": [
      "flickr:   8%|█████████████                                                                                                                                                  | 1147/14000 [16:39<2:06:37,  1.69it/s]"
     ]
    },
    {
     "name": "stdout",
     "output_type": "stream",
     "text": [
      "no predictions for /media/choppy/WD_BLACK/datasets/FLICKR/attack/ronda3/F_print_normal_plano/F20526_print_normal_plano_20220220152647.jpg, please check.\n"
     ]
    },
    {
     "name": "stderr",
     "output_type": "stream",
     "text": [
      "flickr:   8%|█████████████▎                                                                                                                                                 | 1167/14000 [16:51<2:06:23,  1.69it/s]"
     ]
    },
    {
     "name": "stdout",
     "output_type": "stream",
     "text": [
      "no predictions for /media/choppy/WD_BLACK/datasets/FLICKR/attack/ronda3/F_print_normal_plano/F24636_print_normal_plano_20220220201556.jpg, please check.\n"
     ]
    },
    {
     "name": "stderr",
     "output_type": "stream",
     "text": [
      "flickr:   8%|█████████████▎                                                                                                                                                 | 1172/14000 [16:54<2:10:06,  1.64it/s]"
     ]
    },
    {
     "name": "stdout",
     "output_type": "stream",
     "text": [
      "more than one face detected in img: /media/choppy/WD_BLACK/datasets/FLICKR/attack/ronda3/F_print_normal_plano/F24649_print_normal_plano_20220404220913.jpg, but only the biggest is stored\n"
     ]
    },
    {
     "name": "stderr",
     "output_type": "stream",
     "text": [
      "flickr:   8%|█████████████▍                                                                                                                                                 | 1178/14000 [16:58<2:08:44,  1.66it/s]"
     ]
    },
    {
     "name": "stdout",
     "output_type": "stream",
     "text": [
      "no predictions for /media/choppy/WD_BLACK/datasets/FLICKR/attack/ronda3/F_print_normal_plano/F24662_print_normal_plano_20220220203200.jpg, please check.\n"
     ]
    },
    {
     "name": "stderr",
     "output_type": "stream",
     "text": [
      "flickr:   8%|█████████████▍                                                                                                                                                 | 1188/14000 [17:03<2:07:25,  1.68it/s]"
     ]
    },
    {
     "name": "stdout",
     "output_type": "stream",
     "text": [
      "no predictions for /media/choppy/WD_BLACK/datasets/FLICKR/attack/ronda3/F_print_normal_plano/F24006_print_normal_plano_20220219011540.jpg, please check.\n"
     ]
    },
    {
     "name": "stderr",
     "output_type": "stream",
     "text": [
      "flickr:   9%|█████████████▋                                                                                                                                                 | 1209/14000 [17:16<2:14:01,  1.59it/s]"
     ]
    },
    {
     "name": "stdout",
     "output_type": "stream",
     "text": [
      "no predictions for /media/choppy/WD_BLACK/datasets/FLICKR/attack/ronda3/F_print_normal_plano/F24964_print_normal_plano_20220220185225.jpg, please check.\n"
     ]
    },
    {
     "name": "stderr",
     "output_type": "stream",
     "text": [
      "flickr:   9%|█████████████▊                                                                                                                                                 | 1215/14000 [17:20<2:13:43,  1.59it/s]"
     ]
    },
    {
     "name": "stdout",
     "output_type": "stream",
     "text": [
      "more than one face detected in img: /media/choppy/WD_BLACK/datasets/FLICKR/attack/ronda3/F_print_normal_plano/F24977_print_normal_plano_20220220190206.jpg, but only the biggest is stored\n"
     ]
    },
    {
     "name": "stderr",
     "output_type": "stream",
     "text": [
      "flickr:   9%|█████████████▉                                                                                                                                                 | 1232/14000 [17:31<2:07:28,  1.67it/s]"
     ]
    },
    {
     "name": "stdout",
     "output_type": "stream",
     "text": [
      "no predictions for /media/choppy/WD_BLACK/datasets/FLICKR/attack/ronda3/F_print_normal_plano/F24478_print_normal_plano_20220404221723.jpg, please check.\n"
     ]
    },
    {
     "name": "stderr",
     "output_type": "stream",
     "text": [
      "flickr:   9%|██████████████                                                                                                                                                 | 1242/14000 [17:37<2:13:07,  1.60it/s]"
     ]
    },
    {
     "name": "stdout",
     "output_type": "stream",
     "text": [
      "more than one face detected in img: /media/choppy/WD_BLACK/datasets/FLICKR/attack/ronda3/F_print_normal_plano/F24497_print_normal_plano_20220404221315.jpg, but only the biggest is stored\n"
     ]
    },
    {
     "name": "stderr",
     "output_type": "stream",
     "text": [
      "flickr:   9%|██████████████▋                                                                                                                                                | 1289/14000 [18:06<1:59:27,  1.77it/s]"
     ]
    },
    {
     "name": "stdout",
     "output_type": "stream",
     "text": [
      "no predictions for /media/choppy/WD_BLACK/datasets/FLICKR/attack/ronda3/F_print_normal_plano/F24246_print_normal_plano_20220219022004.jpg, please check.\n"
     ]
    },
    {
     "name": "stderr",
     "output_type": "stream",
     "text": [
      "flickr:   9%|██████████████▋                                                                                                                                                | 1298/14000 [18:11<1:59:02,  1.78it/s]"
     ]
    },
    {
     "name": "stdout",
     "output_type": "stream",
     "text": [
      "no predictions for /media/choppy/WD_BLACK/datasets/FLICKR/attack/ronda3/F_print_normal_plano/F24269_print_normal_plano_20220219021122.jpg, please check.\n"
     ]
    },
    {
     "name": "stderr",
     "output_type": "stream",
     "text": [
      "flickr:   9%|██████████████▊                                                                                                                                                | 1299/14000 [18:12<1:59:27,  1.77it/s]"
     ]
    },
    {
     "name": "stdout",
     "output_type": "stream",
     "text": [
      "no predictions for /media/choppy/WD_BLACK/datasets/FLICKR/attack/ronda3/F_print_normal_plano/F24270_print_normal_plano_20220219020836.jpg, please check.\n"
     ]
    },
    {
     "name": "stderr",
     "output_type": "stream",
     "text": [
      "flickr:   9%|███████████████                                                                                                                                                | 1326/14000 [18:28<2:05:57,  1.68it/s]"
     ]
    },
    {
     "name": "stdout",
     "output_type": "stream",
     "text": [
      "more than one face detected in img: /media/choppy/WD_BLACK/datasets/FLICKR/attack/ronda3/F_print_normal_plano/F20589_print_normal_plano_20220220145842.jpg, but only the biggest is stored\n"
     ]
    },
    {
     "name": "stderr",
     "output_type": "stream",
     "text": [
      "flickr:  10%|███████████████▎                                                                                                                                               | 1347/14000 [18:40<2:04:01,  1.70it/s]"
     ]
    },
    {
     "name": "stdout",
     "output_type": "stream",
     "text": [
      "no predictions for /media/choppy/WD_BLACK/datasets/FLICKR/attack/ronda3/F_print_normal_plano/F24740_print_normal_plano_20220220195352.jpg, please check.\n"
     ]
    },
    {
     "name": "stderr",
     "output_type": "stream",
     "text": [
      "flickr:  10%|███████████████▍                                                                                                                                               | 1363/14000 [18:50<2:05:42,  1.68it/s]"
     ]
    },
    {
     "name": "stdout",
     "output_type": "stream",
     "text": [
      "no predictions for /media/choppy/WD_BLACK/datasets/FLICKR/attack/ronda3/F_print_normal_plano/F24063_print_normal_plano_20220219010441.jpg, please check.\n"
     ]
    },
    {
     "name": "stderr",
     "output_type": "stream",
     "text": [
      "flickr:  10%|████████████████                                                                                                                                               | 1409/14000 [19:18<2:17:05,  1.53it/s]"
     ]
    },
    {
     "name": "stdout",
     "output_type": "stream",
     "text": [
      "no predictions for /media/choppy/WD_BLACK/datasets/FLICKR/attack/ronda3/F_print_normal_plano/F24544_print_normal_plano_20220220201506.jpg, please check.\n"
     ]
    },
    {
     "name": "stderr",
     "output_type": "stream",
     "text": [
      "flickr:  10%|████████████████                                                                                                                                               | 1413/14000 [19:21<2:16:47,  1.53it/s]"
     ]
    },
    {
     "name": "stdout",
     "output_type": "stream",
     "text": [
      "no predictions for /media/choppy/WD_BLACK/datasets/FLICKR/attack/ronda3/F_print_normal_plano/F24551_print_normal_plano_20220220202928.jpg, please check.\n"
     ]
    },
    {
     "name": "stderr",
     "output_type": "stream",
     "text": [
      "flickr:  10%|████████████████▎                                                                                                                                              | 1431/14000 [19:33<2:10:48,  1.60it/s]"
     ]
    },
    {
     "name": "stdout",
     "output_type": "stream",
     "text": [
      "no predictions for /media/choppy/WD_BLACK/datasets/FLICKR/attack/ronda3/F_print_normal_plano/F24453_print_normal_plano_20220404222328.jpg, please check.\n"
     ]
    },
    {
     "name": "stderr",
     "output_type": "stream",
     "text": [
      "flickr:  10%|████████████████▍                                                                                                                                              | 1444/14000 [19:41<2:06:16,  1.66it/s]"
     ]
    },
    {
     "name": "stdout",
     "output_type": "stream",
     "text": [
      "no predictions for /media/choppy/WD_BLACK/datasets/FLICKR/attack/ronda3/F_print_normal_plano/F16890_print_normal_plano_20220219203719.jpg, please check.\n"
     ]
    },
    {
     "name": "stderr",
     "output_type": "stream",
     "text": [
      "flickr:  10%|████████████████▍                                                                                                                                              | 1450/14000 [19:45<2:11:03,  1.60it/s]"
     ]
    },
    {
     "name": "stdout",
     "output_type": "stream",
     "text": [
      "no predictions for /media/choppy/WD_BLACK/datasets/FLICKR/attack/ronda3/F_print_normal_plano/F16905_print_normal_plano_20220219202708.jpg, please check.\n"
     ]
    },
    {
     "name": "stderr",
     "output_type": "stream",
     "text": [
      "flickr:  10%|████████████████▍                                                                                                                                              | 1452/14000 [19:46<2:10:49,  1.60it/s]"
     ]
    },
    {
     "name": "stdout",
     "output_type": "stream",
     "text": [
      "no predictions for /media/choppy/WD_BLACK/datasets/FLICKR/attack/ronda3/F_print_normal_plano/F16912_print_normal_plano_20220219205913.jpg, please check.\n"
     ]
    },
    {
     "name": "stderr",
     "output_type": "stream",
     "text": [
      "flickr:  10%|████████████████▌                                                                                                                                              | 1457/14000 [19:49<2:05:15,  1.67it/s]"
     ]
    },
    {
     "name": "stdout",
     "output_type": "stream",
     "text": [
      "no predictions for /media/choppy/WD_BLACK/datasets/FLICKR/attack/ronda3/F_print_normal_plano/F24280_print_normal_plano_20220219020807.jpg, please check.\n"
     ]
    },
    {
     "name": "stderr",
     "output_type": "stream",
     "text": [
      "flickr:  11%|█████████████████▏                                                                                                                                             | 1513/14000 [20:23<2:00:46,  1.72it/s]"
     ]
    },
    {
     "name": "stdout",
     "output_type": "stream",
     "text": [
      "no predictions for /media/choppy/WD_BLACK/datasets/FLICKR/attack/ronda3/F_print_normal_plano/F20227_print_normal_plano_20220220162502.jpg, please check.\n"
     ]
    },
    {
     "name": "stderr",
     "output_type": "stream",
     "text": [
      "flickr:  11%|█████████████████▊                                                                                                                                             | 1563/14000 [20:53<2:04:23,  1.67it/s]"
     ]
    },
    {
     "name": "stdout",
     "output_type": "stream",
     "text": [
      "no predictions for /media/choppy/WD_BLACK/datasets/FLICKR/attack/ronda3/F_print_normal_plano/F16814_print_normal_plano_20220219225218.jpg, please check.\n"
     ]
    },
    {
     "name": "stderr",
     "output_type": "stream",
     "text": [
      "flickr:  11%|██████████████████                                                                                                                                             | 1588/14000 [21:10<2:19:46,  1.48it/s]"
     ]
    },
    {
     "name": "stdout",
     "output_type": "stream",
     "text": [
      "no predictions for /media/choppy/WD_BLACK/datasets/FLICKR/attack/ronda3/F_print_normal_plano/F28012_print_normal_plano_20220220194957.jpg, please check.\n"
     ]
    },
    {
     "name": "stderr",
     "output_type": "stream",
     "text": [
      "flickr:  11%|██████████████████                                                                                                                                             | 1591/14000 [21:12<2:13:32,  1.55it/s]"
     ]
    },
    {
     "name": "stdout",
     "output_type": "stream",
     "text": [
      "no predictions for /media/choppy/WD_BLACK/datasets/FLICKR/attack/ronda3/F_print_normal_plano/F28015_print_normal_plano_20220220194740.jpg, please check.\n"
     ]
    },
    {
     "name": "stderr",
     "output_type": "stream",
     "text": [
      "flickr:  12%|██████████████████▍                                                                                                                                            | 1620/14000 [21:30<2:01:57,  1.69it/s]"
     ]
    },
    {
     "name": "stdout",
     "output_type": "stream",
     "text": [
      "no predictions for /media/choppy/WD_BLACK/datasets/FLICKR/attack/ronda3/F_print_normal_plano/F20031_print_normal_plano_20220219172652.jpg, please check.\n"
     ]
    },
    {
     "name": "stderr",
     "output_type": "stream",
     "text": [
      "flickr:  12%|███████████████████▏                                                                                                                                           | 1687/14000 [22:12<2:15:27,  1.51it/s]"
     ]
    },
    {
     "name": "stdout",
     "output_type": "stream",
     "text": [
      "no predictions for /media/choppy/WD_BLACK/datasets/FLICKR/attack/ronda3/F_print_normal_plano/F20385_print_normal_plano_20220220194349.jpg, please check.\n"
     ]
    },
    {
     "name": "stderr",
     "output_type": "stream",
     "text": [
      "flickr:  12%|███████████████████▋                                                                                                                                           | 1736/14000 [22:43<2:00:52,  1.69it/s]"
     ]
    },
    {
     "name": "stdout",
     "output_type": "stream",
     "text": [
      "no predictions for /media/choppy/WD_BLACK/datasets/FLICKR/attack/ronda3/F_print_normal_plano/F16867_print_normal_plano_20220219192808.jpg, please check.\n"
     ]
    },
    {
     "name": "stderr",
     "output_type": "stream",
     "text": [
      "flickr:  12%|███████████████████▊                                                                                                                                           | 1740/14000 [22:45<1:55:13,  1.77it/s]"
     ]
    },
    {
     "name": "stdout",
     "output_type": "stream",
     "text": [
      "no predictions for /media/choppy/WD_BLACK/datasets/FLICKR/attack/ronda3/F_print_normal_plano/F16873_print_normal_plano_20220219195342.jpg, please check.\n"
     ]
    },
    {
     "name": "stderr",
     "output_type": "stream",
     "text": [
      "flickr:  12%|███████████████████▊                                                                                                                                           | 1741/14000 [22:46<1:54:55,  1.78it/s]"
     ]
    },
    {
     "name": "stdout",
     "output_type": "stream",
     "text": [
      "more than one face detected in img: /media/choppy/WD_BLACK/datasets/FLICKR/attack/ronda3/F_print_normal_plano/F16875_print_normal_plano_20220219231714.jpg, but only the biggest is stored\n"
     ]
    },
    {
     "name": "stderr",
     "output_type": "stream",
     "text": [
      "flickr:  12%|███████████████████▊                                                                                                                                           | 1743/14000 [22:47<1:51:46,  1.83it/s]"
     ]
    },
    {
     "name": "stdout",
     "output_type": "stream",
     "text": [
      "no predictions for /media/choppy/WD_BLACK/datasets/FLICKR/attack/ronda3/F_print_normal_plano/F20967_print_normal_plano_20220219001942.jpg, please check.\n"
     ]
    },
    {
     "name": "stderr",
     "output_type": "stream",
     "text": [
      "flickr:  12%|███████████████████▊                                                                                                                                           | 1745/14000 [22:48<1:50:53,  1.84it/s]"
     ]
    },
    {
     "name": "stdout",
     "output_type": "stream",
     "text": [
      "no predictions for /media/choppy/WD_BLACK/datasets/FLICKR/attack/ronda3/F_print_normal_plano/F20972_print_normal_plano_20220219002652.jpg, please check.\n"
     ]
    },
    {
     "name": "stderr",
     "output_type": "stream",
     "text": [
      "flickr:  12%|███████████████████▊                                                                                                                                           | 1748/14000 [22:50<1:59:25,  1.71it/s]"
     ]
    },
    {
     "name": "stdout",
     "output_type": "stream",
     "text": [
      "no predictions for /media/choppy/WD_BLACK/datasets/FLICKR/attack/ronda3/F_print_normal_plano/F20976_print_normal_plano_20220218235442.jpg, please check.\n"
     ]
    },
    {
     "name": "stderr",
     "output_type": "stream",
     "text": [
      "flickr:  13%|████████████████████▏                                                                                                                                          | 1782/14000 [23:12<2:14:20,  1.52it/s]"
     ]
    },
    {
     "name": "stdout",
     "output_type": "stream",
     "text": [
      "no predictions for /media/choppy/WD_BLACK/datasets/FLICKR/attack/ronda3/F_print_normal_plano/F24037_print_normal_plano_20220219010403.jpg, please check.\n"
     ]
    },
    {
     "name": "stderr",
     "output_type": "stream",
     "text": [
      "flickr:  13%|████████████████████▏                                                                                                                                          | 1783/14000 [23:13<2:15:15,  1.51it/s]"
     ]
    },
    {
     "name": "stdout",
     "output_type": "stream",
     "text": [
      "no predictions for /media/choppy/WD_BLACK/datasets/FLICKR/attack/ronda3/F_print_normal_plano/F24040_print_normal_plano_20220219004311.jpg, please check.\n"
     ]
    },
    {
     "name": "stderr",
     "output_type": "stream",
     "text": [
      "flickr:  13%|████████████████████▌                                                                                                                                          | 1811/14000 [23:33<2:35:51,  1.30it/s]"
     ]
    },
    {
     "name": "stdout",
     "output_type": "stream",
     "text": [
      "no predictions for /media/choppy/WD_BLACK/datasets/FLICKR/attack/ronda3/F_print_normal_plano/F24947_print_normal_plano_20220220190233.jpg, please check.\n"
     ]
    },
    {
     "name": "stderr",
     "output_type": "stream",
     "text": [
      "flickr:  13%|████████████████████▋                                                                                                                                          | 1825/14000 [23:42<2:04:45,  1.63it/s]"
     ]
    },
    {
     "name": "stdout",
     "output_type": "stream",
     "text": [
      "no predictions for /media/choppy/WD_BLACK/datasets/FLICKR/attack/ronda3/F_print_normal_plano/F24102_print_normal_plano_20220219014118.jpg, please check.\n"
     ]
    },
    {
     "name": "stderr",
     "output_type": "stream",
     "text": [
      "flickr:  13%|████████████████████▊                                                                                                                                          | 1832/14000 [23:46<2:05:39,  1.61it/s]"
     ]
    },
    {
     "name": "stdout",
     "output_type": "stream",
     "text": [
      "no predictions for /media/choppy/WD_BLACK/datasets/FLICKR/attack/ronda3/F_print_normal_plano/F24701_print_normal_plano_20220220195633.jpg, please check.\n"
     ]
    },
    {
     "name": "stderr",
     "output_type": "stream",
     "text": [
      "flickr:  13%|████████████████████▉                                                                                                                                          | 1841/14000 [23:52<2:09:12,  1.57it/s]"
     ]
    },
    {
     "name": "stdout",
     "output_type": "stream",
     "text": [
      "no predictions for /media/choppy/WD_BLACK/datasets/FLICKR/attack/ronda3/F_print_normal_plano/F24398_print_normal_plano_20220220204719.jpg, please check.\n"
     ]
    },
    {
     "name": "stderr",
     "output_type": "stream",
     "text": [
      "flickr:  13%|█████████████████████                                                                                                                                          | 1860/14000 [24:04<2:02:23,  1.65it/s]"
     ]
    },
    {
     "name": "stdout",
     "output_type": "stream",
     "text": [
      "no predictions for /media/choppy/WD_BLACK/datasets/FLICKR/attack/ronda3/F_print_normal_plano/F20807_print_normal_plano_20220219180721.jpg, please check.\n"
     ]
    },
    {
     "name": "stderr",
     "output_type": "stream",
     "text": [
      "flickr:  13%|█████████████████████▏                                                                                                                                         | 1864/14000 [24:06<2:00:52,  1.67it/s]"
     ]
    },
    {
     "name": "stdout",
     "output_type": "stream",
     "text": [
      "no predictions for /media/choppy/WD_BLACK/datasets/FLICKR/attack/ronda3/F_print_normal_plano/F24595_print_normal_plano_20220404221152.jpg, please check.\n"
     ]
    },
    {
     "name": "stderr",
     "output_type": "stream",
     "text": [
      "flickr:  13%|█████████████████████▎                                                                                                                                         | 1881/14000 [24:17<2:09:10,  1.56it/s]"
     ]
    },
    {
     "name": "stdout",
     "output_type": "stream",
     "text": [
      "no predictions for /media/choppy/WD_BLACK/datasets/FLICKR/attack/ronda3/F_print_normal_plano/F24725_print_normal_plano_20220220195608.jpg, please check.\n"
     ]
    },
    {
     "name": "stderr",
     "output_type": "stream",
     "text": [
      "flickr:  14%|██████████████████████                                                                                                                                         | 1942/14000 [24:56<2:12:00,  1.52it/s]"
     ]
    },
    {
     "name": "stdout",
     "output_type": "stream",
     "text": [
      "no predictions for /media/choppy/WD_BLACK/datasets/FLICKR/attack/ronda3/F_print_normal_plano/F16982_print_normal_plano_20220219170624.jpg, please check.\n"
     ]
    },
    {
     "name": "stderr",
     "output_type": "stream",
     "text": [
      "flickr:  14%|██████████████████████▎                                                                                                                                        | 1963/14000 [25:09<2:09:13,  1.55it/s]"
     ]
    },
    {
     "name": "stdout",
     "output_type": "stream",
     "text": [
      "no predictions for /media/choppy/WD_BLACK/datasets/FLICKR/attack/ronda3/F_print_normal_plano/F20722_print_normal_plano_20220220201343.jpg, please check.\n"
     ]
    },
    {
     "name": "stderr",
     "output_type": "stream",
     "text": [
      "flickr:  14%|██████████████████████▍                                                                                                                                        | 1977/14000 [25:18<2:04:32,  1.61it/s]"
     ]
    },
    {
     "name": "stdout",
     "output_type": "stream",
     "text": [
      "no predictions for /media/choppy/WD_BLACK/datasets/FLICKR/attack/ronda3/F_print_normal_plano/F24793_print_normal_plano_20220220184602.jpg, please check.\n"
     ]
    },
    {
     "name": "stderr",
     "output_type": "stream",
     "text": [
      "flickr:  15%|███████████████████████                                                                                                                                        | 2033/14000 [25:53<1:58:17,  1.69it/s]"
     ]
    },
    {
     "name": "stdout",
     "output_type": "stream",
     "text": [
      "more than one face detected in img: /media/choppy/WD_BLACK/datasets/FLICKR/attack/ronda3/F_print_opaco_plano/F00867_print_opaco_plano_20220324181815.jpg, but only the biggest is stored\n"
     ]
    },
    {
     "name": "stderr",
     "output_type": "stream",
     "text": [
      "flickr:  15%|███████████████████████▎                                                                                                                                       | 2055/14000 [26:06<1:54:01,  1.75it/s]"
     ]
    },
    {
     "name": "stdout",
     "output_type": "stream",
     "text": [
      "no predictions for /media/choppy/WD_BLACK/datasets/FLICKR/attack/ronda3/F_print_opaco_plano/F04590_print_opaco_plano_20220324105354.jpg, please check.\n"
     ]
    },
    {
     "name": "stderr",
     "output_type": "stream",
     "text": [
      "flickr:  15%|███████████████████████▎                                                                                                                                       | 2057/14000 [26:07<1:52:35,  1.77it/s]"
     ]
    },
    {
     "name": "stdout",
     "output_type": "stream",
     "text": [
      "no predictions for /media/choppy/WD_BLACK/datasets/FLICKR/attack/ronda3/F_print_opaco_plano/F04593_print_opaco_plano_20220324110918.jpg, please check.\n"
     ]
    },
    {
     "name": "stderr",
     "output_type": "stream",
     "text": [
      "flickr:  15%|████████████████████████▋                                                                                                                                      | 2169/14000 [27:15<1:56:58,  1.69it/s]"
     ]
    },
    {
     "name": "stdout",
     "output_type": "stream",
     "text": [
      "no predictions for /media/choppy/WD_BLACK/datasets/FLICKR/attack/ronda3/F_print_opaco_plano/F04335_print_opaco_plano_20220324124852.jpg, please check.\n"
     ]
    },
    {
     "name": "stderr",
     "output_type": "stream",
     "text": [
      "flickr:  16%|████████████████████████▉                                                                                                                                      | 2192/14000 [27:28<2:01:58,  1.61it/s]"
     ]
    },
    {
     "name": "stdout",
     "output_type": "stream",
     "text": [
      "more than one face detected in img: /media/choppy/WD_BLACK/datasets/FLICKR/attack/ronda3/F_print_opaco_plano/F00719_print_opaco_plano_20220322183713.jpg, but only the biggest is stored\n"
     ]
    },
    {
     "name": "stderr",
     "output_type": "stream",
     "text": [
      "flickr:  16%|█████████████████████████▎                                                                                                                                     | 2231/14000 [27:51<1:52:46,  1.74it/s]"
     ]
    },
    {
     "name": "stdout",
     "output_type": "stream",
     "text": [
      "no predictions for /media/choppy/WD_BLACK/datasets/FLICKR/attack/ronda3/F_print_opaco_plano/F08268_print_opaco_plano_20220322113655.jpg, please check.\n"
     ]
    },
    {
     "name": "stderr",
     "output_type": "stream",
     "text": [
      "flickr:  16%|█████████████████████████▎                                                                                                                                     | 2233/14000 [27:52<1:55:01,  1.71it/s]"
     ]
    },
    {
     "name": "stdout",
     "output_type": "stream",
     "text": [
      "more than one face detected in img: /media/choppy/WD_BLACK/datasets/FLICKR/attack/ronda3/F_print_opaco_plano/F08270_print_opaco_plano_20220322112003.jpg, but only the biggest is stored\n"
     ]
    },
    {
     "name": "stderr",
     "output_type": "stream",
     "text": [
      "flickr:  16%|█████████████████████████▍                                                                                                                                     | 2245/14000 [27:59<1:53:44,  1.72it/s]"
     ]
    },
    {
     "name": "stdout",
     "output_type": "stream",
     "text": [
      "no predictions for /media/choppy/WD_BLACK/datasets/FLICKR/attack/ronda3/F_print_opaco_plano/F04449_print_opaco_plano_20220324134234.jpg, please check.\n"
     ]
    },
    {
     "name": "stderr",
     "output_type": "stream",
     "text": [
      "flickr:  17%|███████████████████████████                                                                                                                                    | 2378/14000 [29:19<1:51:56,  1.73it/s]"
     ]
    },
    {
     "name": "stdout",
     "output_type": "stream",
     "text": [
      "more than one face detected in img: /media/choppy/WD_BLACK/datasets/FLICKR/attack/ronda3/F_print_opaco_plano/F08155_print_opaco_plano_20220322111718.jpg, but only the biggest is stored\n"
     ]
    },
    {
     "name": "stderr",
     "output_type": "stream",
     "text": [
      "flickr:  17%|███████████████████████████▏                                                                                                                                   | 2392/14000 [29:28<1:58:36,  1.63it/s]"
     ]
    },
    {
     "name": "stdout",
     "output_type": "stream",
     "text": [
      "no predictions for /media/choppy/WD_BLACK/datasets/FLICKR/attack/ronda3/F_print_opaco_plano/F00767_print_opaco_plano_20220322183024.jpg, please check.\n"
     ]
    },
    {
     "name": "stderr",
     "output_type": "stream",
     "text": [
      "flickr:  17%|███████████████████████████▊                                                                                                                                   | 2449/14000 [30:02<1:56:08,  1.66it/s]"
     ]
    },
    {
     "name": "stdout",
     "output_type": "stream",
     "text": [
      "no predictions for /media/choppy/WD_BLACK/datasets/FLICKR/attack/ronda3/F_print_opaco_plano/F04378_print_opaco_plano_20220324130453.jpg, please check.\n"
     ]
    },
    {
     "name": "stderr",
     "output_type": "stream",
     "text": [
      "flickr:  18%|████████████████████████████                                                                                                                                   | 2472/14000 [30:16<1:49:51,  1.75it/s]"
     ]
    },
    {
     "name": "stdout",
     "output_type": "stream",
     "text": [
      "no predictions for /media/choppy/WD_BLACK/datasets/FLICKR/attack/ronda3/F_print_opaco_plano/F04289_print_opaco_plano_20220324125617.jpg, please check.\n"
     ]
    },
    {
     "name": "stderr",
     "output_type": "stream",
     "text": [
      "flickr:  18%|████████████████████████████                                                                                                                                   | 2476/14000 [30:18<1:49:08,  1.76it/s]"
     ]
    },
    {
     "name": "stdout",
     "output_type": "stream",
     "text": [
      "no predictions for /media/choppy/WD_BLACK/datasets/FLICKR/attack/ronda3/F_print_opaco_plano/F04305_print_opaco_plano_20220324125429.jpg, please check.\n"
     ]
    },
    {
     "name": "stderr",
     "output_type": "stream",
     "text": [
      "flickr:  18%|████████████████████████████▊                                                                                                                                  | 2540/14000 [30:56<1:51:16,  1.72it/s]"
     ]
    },
    {
     "name": "stdout",
     "output_type": "stream",
     "text": [
      "more than one face detected in img: /media/choppy/WD_BLACK/datasets/FLICKR/attack/ronda3/F_print_opaco_plano/F00271_print_opaco_plano_20220322122154.jpg, but only the biggest is stored\n"
     ]
    },
    {
     "name": "stderr",
     "output_type": "stream",
     "text": [
      "flickr:  18%|████████████████████████████▉                                                                                                                                  | 2543/14000 [30:57<1:46:33,  1.79it/s]"
     ]
    },
    {
     "name": "stdout",
     "output_type": "stream",
     "text": [
      "no predictions for /media/choppy/WD_BLACK/datasets/FLICKR/attack/ronda3/F_print_opaco_plano/F08070_print_opaco_plano_20220322011613.jpg, please check.\n"
     ]
    },
    {
     "name": "stderr",
     "output_type": "stream",
     "text": [
      "flickr:  19%|██████████████████████████████▍                                                                                                                                | 2677/14000 [32:16<1:44:42,  1.80it/s]"
     ]
    },
    {
     "name": "stdout",
     "output_type": "stream",
     "text": [
      "more than one face detected in img: /media/choppy/WD_BLACK/datasets/FLICKR/attack/ronda3/F_print_opaco_plano/F00078_print_opaco_plano_20220324225015.jpg, but only the biggest is stored\n"
     ]
    },
    {
     "name": "stderr",
     "output_type": "stream",
     "text": [
      "flickr:  19%|██████████████████████████████▉                                                                                                                                | 2728/14000 [32:46<1:52:05,  1.68it/s]"
     ]
    },
    {
     "name": "stdout",
     "output_type": "stream",
     "text": [
      "no predictions for /media/choppy/WD_BLACK/datasets/FLICKR/attack/ronda3/F_print_opaco_plano/F00902_print_opaco_plano_20220324181224.jpg, please check.\n"
     ]
    },
    {
     "name": "stderr",
     "output_type": "stream",
     "text": [
      "flickr:  20%|███████████████████████████████▎                                                                                                                               | 2761/14000 [33:05<1:47:40,  1.74it/s]"
     ]
    },
    {
     "name": "stdout",
     "output_type": "stream",
     "text": [
      "no predictions for /media/choppy/WD_BLACK/datasets/FLICKR/attack/ronda3/F_print_opaco_plano/F00388_print_opaco_plano_20220322213109.jpg, please check.\n"
     ]
    },
    {
     "name": "stderr",
     "output_type": "stream",
     "text": [
      "flickr:  20%|███████████████████████████████▌                                                                                                                               | 2779/14000 [33:16<1:53:41,  1.64it/s]"
     ]
    },
    {
     "name": "stdout",
     "output_type": "stream",
     "text": [
      "more than one face detected in img: /media/choppy/WD_BLACK/datasets/FLICKR/attack/ronda3/F_print_opaco_plano/F04256_print_opaco_plano_20220324124415.jpg, but only the biggest is stored\n"
     ]
    },
    {
     "name": "stderr",
     "output_type": "stream",
     "text": [
      "flickr:  20%|███████████████████████████████▉                                                                                                                               | 2811/14000 [33:35<1:50:15,  1.69it/s]"
     ]
    },
    {
     "name": "stdout",
     "output_type": "stream",
     "text": [
      "more than one face detected in img: /media/choppy/WD_BLACK/datasets/FLICKR/attack/ronda3/F_print_opaco_plano/F00298_print_opaco_plano_20220322182108.jpg, but only the biggest is stored\n"
     ]
    },
    {
     "name": "stderr",
     "output_type": "stream",
     "text": [
      "flickr:  20%|████████████████████████████████▎                                                                                                                              | 2847/14000 [33:56<1:46:03,  1.75it/s]"
     ]
    },
    {
     "name": "stdout",
     "output_type": "stream",
     "text": [
      "no predictions for /media/choppy/WD_BLACK/datasets/FLICKR/attack/ronda3/F_print_opaco_plano/F00197_print_opaco_plano_20220322181336.jpg, please check.\n"
     ]
    },
    {
     "name": "stderr",
     "output_type": "stream",
     "text": [
      "flickr:  20%|████████████████████████████████▌                                                                                                                              | 2864/14000 [34:06<1:47:47,  1.72it/s]"
     ]
    },
    {
     "name": "stdout",
     "output_type": "stream",
     "text": [
      "more than one face detected in img: /media/choppy/WD_BLACK/datasets/FLICKR/attack/ronda3/F_print_opaco_plano/F04166_print_opaco_plano_20220324143657.jpg, but only the biggest is stored\n"
     ]
    },
    {
     "name": "stderr",
     "output_type": "stream",
     "text": [
      "flickr:  20%|████████████████████████████████▌                                                                                                                              | 2870/14000 [34:09<1:45:47,  1.75it/s]"
     ]
    },
    {
     "name": "stdout",
     "output_type": "stream",
     "text": [
      "no predictions for /media/choppy/WD_BLACK/datasets/FLICKR/attack/ronda3/F_print_opaco_plano/F04179_print_opaco_plano_20220324143405.jpg, please check.\n"
     ]
    },
    {
     "name": "stderr",
     "output_type": "stream",
     "text": [
      "flickr:  21%|████████████████████████████████▊                                                                                                                              | 2886/14000 [34:19<1:48:30,  1.71it/s]"
     ]
    },
    {
     "name": "stdout",
     "output_type": "stream",
     "text": [
      "more than one face detected in img: /media/choppy/WD_BLACK/datasets/FLICKR/attack/ronda3/F_print_opaco_plano/F04825_print_opaco_plano_20220324155851.jpg, but only the biggest is stored\n"
     ]
    },
    {
     "name": "stderr",
     "output_type": "stream",
     "text": [
      "flickr:  21%|█████████████████████████████████▏                                                                                                                             | 2922/14000 [34:39<1:45:35,  1.75it/s]"
     ]
    },
    {
     "name": "stdout",
     "output_type": "stream",
     "text": [
      "no predictions for /media/choppy/WD_BLACK/datasets/FLICKR/attack/ronda3/F_print_opaco_plano/F04086_print_opaco_plano_20220324135918.jpg, please check.\n"
     ]
    },
    {
     "name": "stderr",
     "output_type": "stream",
     "text": [
      "flickr:  21%|█████████████████████████████████▋                                                                                                                             | 2961/14000 [35:02<1:46:22,  1.73it/s]"
     ]
    },
    {
     "name": "stdout",
     "output_type": "stream",
     "text": [
      "no predictions for /media/choppy/WD_BLACK/datasets/FLICKR/attack/ronda3/F_print_opaco_plano/F04530_print_opaco_plano_20220324112344.jpg, please check.\n"
     ]
    },
    {
     "name": "stderr",
     "output_type": "stream",
     "text": [
      "flickr:  21%|█████████████████████████████████▋                                                                                                                             | 2966/14000 [35:04<1:43:38,  1.77it/s]"
     ]
    },
    {
     "name": "stdout",
     "output_type": "stream",
     "text": [
      "no predictions for /media/choppy/WD_BLACK/datasets/FLICKR/attack/ronda3/F_print_opaco_plano/F08280_print_opaco_plano_20220322114922.jpg, please check.\n"
     ]
    },
    {
     "name": "stderr",
     "output_type": "stream",
     "text": [
      "flickr:  21%|█████████████████████████████████▉                                                                                                                             | 2991/14000 [35:19<1:42:01,  1.80it/s]"
     ]
    },
    {
     "name": "stdout",
     "output_type": "stream",
     "text": [
      "no predictions for /media/choppy/WD_BLACK/datasets/FLICKR/attack/ronda3/F_print_opaco_plano/F08100_print_opaco_plano_20220322110413.jpg, please check.\n"
     ]
    },
    {
     "name": "stderr",
     "output_type": "stream",
     "text": [
      "flickr:  22%|██████████████████████████████████▎                                                                                                                            | 3018/14000 [35:34<1:42:17,  1.79it/s]"
     ]
    },
    {
     "name": "stdout",
     "output_type": "stream",
     "text": [
      "no predictions for /media/choppy/WD_BLACK/datasets/FLICKR/attack/ronda3/F_screen_computador_fijo/F04378_screen_computador_fijo_20220312201803.jpg, please check.\n"
     ]
    },
    {
     "name": "stderr",
     "output_type": "stream",
     "text": [
      "flickr:  22%|███████████████████████████████████▌                                                                                                                           | 3128/14000 [36:40<1:53:14,  1.60it/s]"
     ]
    },
    {
     "name": "stdout",
     "output_type": "stream",
     "text": [
      "more than one face detected in img: /media/choppy/WD_BLACK/datasets/FLICKR/attack/ronda3/F_screen_computador_fijo/F04622_screen_computador_fijo_20220313002452.jpg, but only the biggest is stored\n"
     ]
    },
    {
     "name": "stderr",
     "output_type": "stream",
     "text": [
      "flickr:  22%|███████████████████████████████████▋                                                                                                                           | 3137/14000 [36:46<1:44:46,  1.73it/s]"
     ]
    },
    {
     "name": "stdout",
     "output_type": "stream",
     "text": [
      "no predictions for /media/choppy/WD_BLACK/datasets/FLICKR/attack/ronda3/F_screen_computador_fijo/F04640_screen_computador_fijo_20220313002828.jpg, please check.\n"
     ]
    },
    {
     "name": "stderr",
     "output_type": "stream",
     "text": [
      "flickr:  23%|███████████████████████████████████▊                                                                                                                           | 3152/14000 [36:54<1:40:29,  1.80it/s]"
     ]
    },
    {
     "name": "stdout",
     "output_type": "stream",
     "text": [
      "no predictions for /media/choppy/WD_BLACK/datasets/FLICKR/attack/ronda3/F_screen_computador_fijo/F08269_screen_computador_fijo_20220313235859.jpg, please check.\n"
     ]
    },
    {
     "name": "stderr",
     "output_type": "stream",
     "text": [
      "flickr:  23%|███████████████████████████████████▊                                                                                                                           | 3153/14000 [36:55<1:44:02,  1.74it/s]"
     ]
    },
    {
     "name": "stdout",
     "output_type": "stream",
     "text": [
      "more than one face detected in img: /media/choppy/WD_BLACK/datasets/FLICKR/attack/ronda3/F_screen_computador_fijo/F08270_screen_computador_fijo_20220313235953.jpg, but only the biggest is stored\n"
     ]
    },
    {
     "name": "stderr",
     "output_type": "stream",
     "text": [
      "flickr:  23%|████████████████████████████████████                                                                                                                           | 3175/14000 [37:08<1:43:50,  1.74it/s]"
     ]
    },
    {
     "name": "stdout",
     "output_type": "stream",
     "text": [
      "no predictions for /media/choppy/WD_BLACK/datasets/FLICKR/attack/ronda3/F_screen_computador_fijo/F00131_screen_computador_fijo_20220308004856.jpg, please check.\n"
     ]
    },
    {
     "name": "stderr",
     "output_type": "stream",
     "text": [
      "flickr:  23%|████████████████████████████████████▎                                                                                                                          | 3202/14000 [37:23<1:38:38,  1.82it/s]"
     ]
    },
    {
     "name": "stdout",
     "output_type": "stream",
     "text": [
      "no predictions for /media/choppy/WD_BLACK/datasets/FLICKR/attack/ronda3/F_screen_computador_fijo/F04514_screen_computador_fijo_20220312235154.jpg, please check.\n"
     ]
    },
    {
     "name": "stderr",
     "output_type": "stream",
     "text": [
      "flickr:  23%|████████████████████████████████████▍                                                                                                                          | 3208/14000 [37:27<1:50:23,  1.63it/s]"
     ]
    },
    {
     "name": "stdout",
     "output_type": "stream",
     "text": [
      "more than one face detected in img: /media/choppy/WD_BLACK/datasets/FLICKR/attack/ronda3/F_screen_computador_fijo/F04524_screen_computador_fijo_20220313000125.jpg, but only the biggest is stored\n"
     ]
    },
    {
     "name": "stderr",
     "output_type": "stream",
     "text": [
      "flickr:  23%|████████████████████████████████████▋                                                                                                                          | 3230/14000 [37:40<1:45:59,  1.69it/s]"
     ]
    },
    {
     "name": "stdout",
     "output_type": "stream",
     "text": [
      "no predictions for /media/choppy/WD_BLACK/datasets/FLICKR/attack/ronda3/F_screen_computador_fijo/F04204_screen_computador_fijo_20220312184231.jpg, please check.\n"
     ]
    },
    {
     "name": "stderr",
     "output_type": "stream",
     "text": [
      "flickr:  23%|████████████████████████████████████▉                                                                                                                          | 3255/14000 [37:54<1:41:13,  1.77it/s]"
     ]
    },
    {
     "name": "stdout",
     "output_type": "stream",
     "text": [
      "more than one face detected in img: /media/choppy/WD_BLACK/datasets/FLICKR/attack/ronda3/F_screen_computador_fijo/F04755_screen_computador_fijo_20220313205334.jpg, but only the biggest is stored\n"
     ]
    },
    {
     "name": "stderr",
     "output_type": "stream",
     "text": [
      "flickr:  23%|█████████████████████████████████████                                                                                                                          | 3263/14000 [37:59<1:33:02,  1.92it/s]"
     ]
    },
    {
     "name": "stdout",
     "output_type": "stream",
     "text": [
      "no predictions for /media/choppy/WD_BLACK/datasets/FLICKR/attack/ronda3/F_screen_computador_fijo/F00902_screen_computador_fijo_20220312165556.jpg, please check.\n"
     ]
    },
    {
     "name": "stderr",
     "output_type": "stream",
     "text": [
      "flickr:  23%|█████████████████████████████████████▎                                                                                                                         | 3289/14000 [38:13<1:40:55,  1.77it/s]"
     ]
    },
    {
     "name": "stdout",
     "output_type": "stream",
     "text": [
      "no predictions for /media/choppy/WD_BLACK/datasets/FLICKR/attack/ronda3/F_screen_computador_fijo/F00445_screen_computador_fijo.jpg, please check.\n"
     ]
    },
    {
     "name": "stderr",
     "output_type": "stream",
     "text": [
      "flickr:  24%|█████████████████████████████████████▋                                                                                                                         | 3318/14000 [38:31<1:41:53,  1.75it/s]"
     ]
    },
    {
     "name": "stdout",
     "output_type": "stream",
     "text": [
      "no predictions for /media/choppy/WD_BLACK/datasets/FLICKR/attack/ronda3/F_screen_computador_fijo/F04289_screen_computador_fijo_20220312194531.jpg, please check.\n"
     ]
    },
    {
     "name": "stderr",
     "output_type": "stream",
     "text": [
      "flickr:  24%|█████████████████████████████████████▉                                                                                                                         | 3340/14000 [38:44<1:41:53,  1.74it/s]"
     ]
    },
    {
     "name": "stdout",
     "output_type": "stream",
     "text": [
      "more than one face detected in img: /media/choppy/WD_BLACK/datasets/FLICKR/attack/ronda3/F_screen_computador_fijo/F08032_screen_computador_fijo_20220313221950.jpg, but only the biggest is stored\n"
     ]
    },
    {
     "name": "stderr",
     "output_type": "stream",
     "text": [
      "flickr:  25%|███████████████████████████████████████                                                                                                                        | 3438/14000 [39:41<1:39:13,  1.77it/s]"
     ]
    },
    {
     "name": "stdout",
     "output_type": "stream",
     "text": [
      "no predictions for /media/choppy/WD_BLACK/datasets/FLICKR/attack/ronda3/F_screen_computador_fijo/F00755_screen_computador_fijo_20220308220142.jpg, please check.\n"
     ]
    },
    {
     "name": "stderr",
     "output_type": "stream",
     "text": [
      "flickr:  25%|███████████████████████████████████████▎                                                                                                                       | 3456/14000 [39:51<1:43:10,  1.70it/s]"
     ]
    },
    {
     "name": "stdout",
     "output_type": "stream",
     "text": [
      "no predictions for /media/choppy/WD_BLACK/datasets/FLICKR/attack/ronda3/F_screen_computador_fijo/F04449_screen_computador_fijo_20220312233356.jpg, please check.\n"
     ]
    },
    {
     "name": "stderr",
     "output_type": "stream",
     "text": [
      "flickr:  25%|███████████████████████████████████████▎                                                                                                                       | 3460/14000 [39:54<1:39:32,  1.76it/s]"
     ]
    },
    {
     "name": "stdout",
     "output_type": "stream",
     "text": [
      "no predictions for /media/choppy/WD_BLACK/datasets/FLICKR/attack/ronda3/F_screen_computador_fijo/F04572_screen_computador_fijo_20220313000741.jpg, please check.\n"
     ]
    },
    {
     "name": "stderr",
     "output_type": "stream",
     "text": [
      "flickr:  25%|███████████████████████████████████████▍                                                                                                                       | 3468/14000 [39:58<1:40:11,  1.75it/s]"
     ]
    },
    {
     "name": "stdout",
     "output_type": "stream",
     "text": [
      "no predictions for /media/choppy/WD_BLACK/datasets/FLICKR/attack/ronda3/F_screen_computador_fijo/F04590_screen_computador_fijo_20220313001542.jpg, please check.\n"
     ]
    },
    {
     "name": "stderr",
     "output_type": "stream",
     "text": [
      "flickr:  25%|███████████████████████████████████████▍                                                                                                                       | 3473/14000 [40:01<1:42:25,  1.71it/s]"
     ]
    },
    {
     "name": "stdout",
     "output_type": "stream",
     "text": [
      "no predictions for /media/choppy/WD_BLACK/datasets/FLICKR/attack/ronda3/F_screen_computador_fijo/F04597_screen_computador_fijo_20220313001804.jpg, please check.\n"
     ]
    },
    {
     "name": "stderr",
     "output_type": "stream",
     "text": [
      "flickr:  25%|███████████████████████████████████████▌                                                                                                                       | 3482/14000 [40:06<1:35:23,  1.84it/s]"
     ]
    },
    {
     "name": "stdout",
     "output_type": "stream",
     "text": [
      "no predictions for /media/choppy/WD_BLACK/datasets/FLICKR/attack/ronda3/F_screen_computador_fijo/F04961_screen_computador_fijo_20220313220502.jpg, please check.\n"
     ]
    },
    {
     "name": "stderr",
     "output_type": "stream",
     "text": [
      "flickr:  25%|███████████████████████████████████████▊                                                                                                                       | 3500/14000 [40:16<1:38:56,  1.77it/s]"
     ]
    },
    {
     "name": "stdout",
     "output_type": "stream",
     "text": [
      "no predictions for /media/choppy/WD_BLACK/datasets/FLICKR/attack/ronda3/F_screen_computador_fijo/F08207_screen_computador_fijo_20220313225424.jpg, please check.\n"
     ]
    },
    {
     "name": "stderr",
     "output_type": "stream",
     "text": [
      "flickr:  25%|████████████████████████████████████████▏                                                                                                                      | 3538/14000 [40:38<1:37:19,  1.79it/s]"
     ]
    },
    {
     "name": "stdout",
     "output_type": "stream",
     "text": [
      "img /media/choppy/WD_BLACK/datasets/FLICKR/attack/ronda3/F_screen_computador_fijo/F04000_screen_computador_fijo_20220312174050.jpg could not be loaded. Check\n"
     ]
    },
    {
     "name": "stderr",
     "output_type": "stream",
     "text": [
      "flickr:  25%|████████████████████████████████████████▎                                                                                                                      | 3554/14000 [40:47<1:38:03,  1.78it/s]"
     ]
    },
    {
     "name": "stdout",
     "output_type": "stream",
     "text": [
      "no predictions for /media/choppy/WD_BLACK/datasets/FLICKR/attack/ronda3/F_screen_computador_fijo/F00876_screen_computador_fijo_20220312164939.jpg, please check.\n"
     ]
    },
    {
     "name": "stderr",
     "output_type": "stream",
     "text": [
      "flickr:  25%|████████████████████████████████████████▍                                                                                                                      | 3557/14000 [40:49<1:37:08,  1.79it/s]"
     ]
    },
    {
     "name": "stdout",
     "output_type": "stream",
     "text": [
      "more than one face detected in img: /media/choppy/WD_BLACK/datasets/FLICKR/attack/ronda3/F_screen_computador_fijo/F00879_screen_computador_fijo_20220312165119.jpg, but only the biggest is stored\n"
     ]
    },
    {
     "name": "stderr",
     "output_type": "stream",
     "text": [
      "flickr:  25%|████████████████████████████████████████▍                                                                                                                      | 3564/14000 [40:53<1:40:47,  1.73it/s]"
     ]
    },
    {
     "name": "stdout",
     "output_type": "stream",
     "text": [
      "no predictions for /media/choppy/WD_BLACK/datasets/FLICKR/attack/ronda3/F_screen_computador_fijo/F00197_screen_computador_fijo_20220308005411.jpg, please check.\n"
     ]
    },
    {
     "name": "stderr",
     "output_type": "stream",
     "text": [
      "flickr:  26%|████████████████████████████████████████▋                                                                                                                      | 3582/14000 [41:03<1:38:09,  1.77it/s]"
     ]
    },
    {
     "name": "stdout",
     "output_type": "stream",
     "text": [
      "no predictions for /media/choppy/WD_BLACK/datasets/FLICKR/attack/ronda3/F_screen_computador_fijo/F04335_screen_computador_fijo_20220312200346.jpg, please check.\n"
     ]
    },
    {
     "name": "stderr",
     "output_type": "stream",
     "text": [
      "flickr:  26%|████████████████████████████████████████▉                                                                                                                      | 3601/14000 [41:14<1:43:00,  1.68it/s]"
     ]
    },
    {
     "name": "stdout",
     "output_type": "stream",
     "text": [
      "no predictions for /media/choppy/WD_BLACK/datasets/FLICKR/attack/ronda3/F_screen_computador_fijo/F00388_screen_computador_fijo.jpg, please check.\n"
     ]
    },
    {
     "name": "stderr",
     "output_type": "stream",
     "text": [
      "flickr:  26%|████████████████████████████████████████▉                                                                                                                      | 3610/14000 [41:19<1:40:50,  1.72it/s]"
     ]
    },
    {
     "name": "stdout",
     "output_type": "stream",
     "text": [
      "no predictions for /media/choppy/WD_BLACK/datasets/FLICKR/attack/ronda3/F_screen_computador_fijo/F00409_screen_computador_fijo.jpg, please check.\n"
     ]
    },
    {
     "name": "stderr",
     "output_type": "stream",
     "text": [
      "flickr:  26%|█████████████████████████████████████████                                                                                                                      | 3612/14000 [41:21<1:40:36,  1.72it/s]"
     ]
    },
    {
     "name": "stdout",
     "output_type": "stream",
     "text": [
      "more than one face detected in img: /media/choppy/WD_BLACK/datasets/FLICKR/attack/ronda3/F_screen_computador_fijo/F00418_screen_computador_fijo.jpg, but only the biggest is stored\n"
     ]
    },
    {
     "name": "stderr",
     "output_type": "stream",
     "text": [
      "flickr:  26%|█████████████████████████████████████████▎                                                                                                                     | 3641/14000 [41:38<1:38:07,  1.76it/s]"
     ]
    },
    {
     "name": "stdout",
     "output_type": "stream",
     "text": [
      "no predictions for /media/choppy/WD_BLACK/datasets/FLICKR/attack/ronda3/F_screen_computador_fijo/F4086_screen_computador_fijo_20220312181516.jpg, please check.\n"
     ]
    },
    {
     "name": "stderr",
     "output_type": "stream",
     "text": [
      "flickr:  26%|█████████████████████████████████████████▌                                                                                                                     | 3657/14000 [41:47<1:33:29,  1.84it/s]Premature end of JPEG file\n",
      "flickr:  26%|█████████████████████████████████████████▋                                                                                                                     | 3667/14000 [41:52<1:34:25,  1.82it/s]"
     ]
    },
    {
     "name": "stdout",
     "output_type": "stream",
     "text": [
      "more than one face detected in img: /media/choppy/WD_BLACK/datasets/FLICKR/attack/ronda3/F_screen_computador_fijo/F04256_screen_computador_fijo_20220312185509.jpg, but only the biggest is stored\n"
     ]
    },
    {
     "name": "stderr",
     "output_type": "stream",
     "text": [
      "flickr:  27%|██████████████████████████████████████████▎                                                                                                                    | 3721/14000 [42:24<1:35:25,  1.80it/s]"
     ]
    },
    {
     "name": "stdout",
     "output_type": "stream",
     "text": [
      "more than one face detected in img: /media/choppy/WD_BLACK/datasets/FLICKR/attack/ronda3/F_screen_computador_fijo/F04795_screen_computador_fijo_20220313211054.jpg, but only the biggest is stored\n"
     ]
    },
    {
     "name": "stderr",
     "output_type": "stream",
     "text": [
      "flickr:  27%|██████████████████████████████████████████▍                                                                                                                    | 3742/14000 [42:35<1:39:14,  1.72it/s]"
     ]
    },
    {
     "name": "stdout",
     "output_type": "stream",
     "text": [
      "no predictions for /media/choppy/WD_BLACK/datasets/FLICKR/attack/ronda3/F_screen_computador_fijo/F04468_screen_computador_fijo_20220312233637.jpg, please check.\n"
     ]
    },
    {
     "name": "stderr",
     "output_type": "stream",
     "text": [
      "flickr:  27%|██████████████████████████████████████████▌                                                                                                                    | 3752/14000 [42:41<1:40:25,  1.70it/s]"
     ]
    },
    {
     "name": "stdout",
     "output_type": "stream",
     "text": [
      "no predictions for /media/choppy/WD_BLACK/datasets/FLICKR/attack/ronda3/F_screen_computador_fijo/F04488_screen_computador_fijo_20220312234044.jpg, please check.\n"
     ]
    },
    {
     "name": "stderr",
     "output_type": "stream",
     "text": [
      "flickr:  27%|███████████████████████████████████████████▏                                                                                                                   | 3798/14000 [43:09<1:34:26,  1.80it/s]"
     ]
    },
    {
     "name": "stdout",
     "output_type": "stream",
     "text": [
      "no predictions for /media/choppy/WD_BLACK/datasets/FLICKR/attack/ronda3/F_screen_computador_fijo/F08100_screen_computador_fijo_20220313223408.jpg, please check.\n"
     ]
    },
    {
     "name": "stderr",
     "output_type": "stream",
     "text": [
      "flickr:  27%|███████████████████████████████████████████▌                                                                                                                   | 3837/14000 [43:31<1:36:46,  1.75it/s]"
     ]
    },
    {
     "name": "stdout",
     "output_type": "stream",
     "text": [
      "no predictions for /media/choppy/WD_BLACK/datasets/FLICKR/attack/ronda3/F_screen_computador_fijo/F08171_screen_computador_fijo_20220313224650.jpg, please check.\n"
     ]
    },
    {
     "name": "stderr",
     "output_type": "stream",
     "text": [
      "flickr:  28%|████████████████████████████████████████████                                                                                                                   | 3879/14000 [43:55<1:32:17,  1.83it/s]"
     ]
    },
    {
     "name": "stdout",
     "output_type": "stream",
     "text": [
      "no predictions for /media/choppy/WD_BLACK/datasets/FLICKR/attack/ronda3/F_screen_computador_fijo/F04995_screen_computador_fijo_20220313221239.jpg, please check.\n"
     ]
    },
    {
     "name": "stderr",
     "output_type": "stream",
     "text": [
      "flickr:  28%|████████████████████████████████████████████                                                                                                                   | 3883/14000 [43:57<1:36:06,  1.75it/s]"
     ]
    },
    {
     "name": "stdout",
     "output_type": "stream",
     "text": [
      "more than one face detected in img: /media/choppy/WD_BLACK/datasets/FLICKR/attack/ronda3/F_screen_computador_fijo/F08000_screen_computador_fijo_20220313221420.jpg, but only the biggest is stored\n"
     ]
    },
    {
     "name": "stderr",
     "output_type": "stream",
     "text": [
      "flickr:  28%|████████████████████████████████████████████▍                                                                                                                  | 3912/14000 [44:14<1:40:16,  1.68it/s]"
     ]
    },
    {
     "name": "stdout",
     "output_type": "stream",
     "text": [
      "more than one face detected in img: /media/choppy/WD_BLACK/datasets/FLICKR/attack/ronda3/F_screen_computador_fijo/F00078_screen_computador_fijo_20220308004101.jpg, but only the biggest is stored\n"
     ]
    },
    {
     "name": "stderr",
     "output_type": "stream",
     "text": [
      "flickr:  29%|█████████████████████████████████████████████▍                                                                                                                 | 4004/14000 [45:12<3:29:18,  1.26s/it]"
     ]
    },
    {
     "name": "stdout",
     "output_type": "stream",
     "text": [
      "more than one face detected in img: /media/choppy/WD_BLACK/datasets/FLICKR/attack/ronda3/F_screen_smartphone_fijo/F08422_screen_smartphone_fijo_20220304005746.jpg, but only the biggest is stored\n"
     ]
    },
    {
     "name": "stderr",
     "output_type": "stream",
     "text": [
      "flickr:  29%|█████████████████████████████████████████████▌                                                                                                                 | 4011/14000 [45:22<3:57:43,  1.43s/it]"
     ]
    },
    {
     "name": "stdout",
     "output_type": "stream",
     "text": [
      "more than one face detected in img: /media/choppy/WD_BLACK/datasets/FLICKR/attack/ronda3/F_screen_smartphone_fijo/F08443_screen_smartphone_fijo_20220304010526.jpg, but only the biggest is stored\n"
     ]
    },
    {
     "name": "stderr",
     "output_type": "stream",
     "text": [
      "flickr:  29%|█████████████████████████████████████████████▋                                                                                                                 | 4020/14000 [45:34<3:46:50,  1.36s/it]"
     ]
    },
    {
     "name": "stdout",
     "output_type": "stream",
     "text": [
      "no predictions for /media/choppy/WD_BLACK/datasets/FLICKR/attack/ronda3/F_screen_smartphone_fijo/F12513_screen_smartphone_fijo_20220307202137.jpg, please check.\n"
     ]
    },
    {
     "name": "stderr",
     "output_type": "stream",
     "text": [
      "flickr:  29%|██████████████████████████████████████████████▏                                                                                                                | 4069/14000 [46:43<2:24:31,  1.15it/s]"
     ]
    },
    {
     "name": "stdout",
     "output_type": "stream",
     "text": [
      "no predictions for /media/choppy/WD_BLACK/datasets/FLICKR/attack/ronda3/F_screen_smartphone_fijo/F16127_screen_smartphone_fijo_20220307224508.jpg, please check.\n"
     ]
    },
    {
     "name": "stderr",
     "output_type": "stream",
     "text": [
      "flickr:  29%|██████████████████████████████████████████████▍                                                                                                                | 4084/14000 [46:58<3:52:25,  1.41s/it]"
     ]
    },
    {
     "name": "stdout",
     "output_type": "stream",
     "text": [
      "no predictions for /media/choppy/WD_BLACK/datasets/FLICKR/attack/ronda3/F_screen_smartphone_fijo/F08750_screen_smartphone_fijo_20220304153753.jpg, please check.\n"
     ]
    },
    {
     "name": "stderr",
     "output_type": "stream",
     "text": [
      "flickr:  29%|██████████████████████████████████████████████▍                                                                                                                | 4087/14000 [47:03<4:06:20,  1.49s/it]"
     ]
    },
    {
     "name": "stdout",
     "output_type": "stream",
     "text": [
      "more than one face detected in img: /media/choppy/WD_BLACK/datasets/FLICKR/attack/ronda3/F_screen_smartphone_fijo/F08763_screen_smartphone_fijo_20220304161826.jpg, but only the biggest is stored\n"
     ]
    },
    {
     "name": "stderr",
     "output_type": "stream",
     "text": [
      "flickr:  29%|██████████████████████████████████████████████▍                                                                                                                | 4088/14000 [47:04<3:57:42,  1.44s/it]"
     ]
    },
    {
     "name": "stdout",
     "output_type": "stream",
     "text": [
      "no predictions for /media/choppy/WD_BLACK/datasets/FLICKR/attack/ronda3/F_screen_smartphone_fijo/F08767_screen_smartphone_fijo_20220304161953.jpg, please check.\n"
     ]
    },
    {
     "name": "stderr",
     "output_type": "stream",
     "text": [
      "flickr:  29%|██████████████████████████████████████████████▍                                                                                                                | 4090/14000 [47:07<4:02:07,  1.47s/it]"
     ]
    },
    {
     "name": "stdout",
     "output_type": "stream",
     "text": [
      "more than one face detected in img: /media/choppy/WD_BLACK/datasets/FLICKR/attack/ronda3/F_screen_smartphone_fijo/F08770_screen_smartphone_fijo_20220304162626.jpg, but only the biggest is stored\n"
     ]
    },
    {
     "name": "stderr",
     "output_type": "stream",
     "text": [
      "flickr:  29%|██████████████████████████████████████████████▌                                                                                                                | 4099/14000 [47:14<1:57:15,  1.41it/s]"
     ]
    },
    {
     "name": "stdout",
     "output_type": "stream",
     "text": [
      "no predictions for /media/choppy/WD_BLACK/datasets/FLICKR/attack/ronda3/F_screen_smartphone_fijo/F12849_screen_smartphone_fijo_20220307182755.jpg, please check.\n"
     ]
    },
    {
     "name": "stderr",
     "output_type": "stream",
     "text": [
      "flickr:  29%|██████████████████████████████████████████████▌                                                                                                                | 4103/14000 [47:17<1:49:13,  1.51it/s]"
     ]
    },
    {
     "name": "stdout",
     "output_type": "stream",
     "text": [
      "no predictions for /media/choppy/WD_BLACK/datasets/FLICKR/attack/ronda3/F_screen_smartphone_fijo/F16334_screen_smartphone_fijo_20220307214855.jpg, please check.\n"
     ]
    },
    {
     "name": "stderr",
     "output_type": "stream",
     "text": [
      "flickr:  30%|██████████████████████████████████████████████▉                                                                                                                | 4136/14000 [47:49<3:54:00,  1.42s/it]"
     ]
    },
    {
     "name": "stdout",
     "output_type": "stream",
     "text": [
      "more than one face detected in img: /media/choppy/WD_BLACK/datasets/FLICKR/attack/ronda3/F_screen_smartphone_fijo/F12237_screen_smartphone_fijo_20220307150208.jpg, but only the biggest is stored\n"
     ]
    },
    {
     "name": "stderr",
     "output_type": "stream",
     "text": [
      "flickr:  30%|██████████████████████████████████████████████▉                                                                                                                | 4137/14000 [47:50<3:44:08,  1.36s/it]"
     ]
    },
    {
     "name": "stdout",
     "output_type": "stream",
     "text": [
      "no predictions for /media/choppy/WD_BLACK/datasets/FLICKR/attack/ronda3/F_screen_smartphone_fijo/F12238_screen_smartphone_fijo_20220307150353.jpg, please check.\n"
     ]
    },
    {
     "name": "stderr",
     "output_type": "stream",
     "text": [
      "flickr:  30%|███████████████████████████████████████████████                                                                                                                | 4139/14000 [47:53<3:53:35,  1.42s/it]"
     ]
    },
    {
     "name": "stdout",
     "output_type": "stream",
     "text": [
      "more than one face detected in img: /media/choppy/WD_BLACK/datasets/FLICKR/attack/ronda3/F_screen_smartphone_fijo/F08899_screen_smartphone_fijo_20220304223142.jpg, but only the biggest is stored\n"
     ]
    },
    {
     "name": "stderr",
     "output_type": "stream",
     "text": [
      "flickr:  30%|███████████████████████████████████████████████▏                                                                                                               | 4159/14000 [48:15<1:48:29,  1.51it/s]"
     ]
    },
    {
     "name": "stdout",
     "output_type": "stream",
     "text": [
      "no predictions for /media/choppy/WD_BLACK/datasets/FLICKR/attack/ronda3/F_screen_smartphone_fijo/F16586_screen_smartphone_fijo_20220307164256.jpg, please check.\n"
     ]
    },
    {
     "name": "stderr",
     "output_type": "stream",
     "text": [
      "flickr:  30%|███████████████████████████████████████████████▎                                                                                                               | 4165/14000 [48:19<1:49:23,  1.50it/s]"
     ]
    },
    {
     "name": "stdout",
     "output_type": "stream",
     "text": [
      "more than one face detected in img: /media/choppy/WD_BLACK/datasets/FLICKR/attack/ronda3/F_screen_smartphone_fijo/F12672_screen_smartphone_fijo_20220308161943.jpg, but only the biggest is stored\n"
     ]
    },
    {
     "name": "stderr",
     "output_type": "stream",
     "text": [
      "flickr:  30%|███████████████████████████████████████████████▍                                                                                                               | 4182/14000 [48:34<3:26:54,  1.26s/it]"
     ]
    },
    {
     "name": "stdout",
     "output_type": "stream",
     "text": [
      "more than one face detected in img: /media/choppy/WD_BLACK/datasets/FLICKR/attack/ronda3/F_screen_smartphone_fijo/F08577_screen_smartphone_fijo_20220304031830.jpg, but only the biggest is stored\n"
     ]
    },
    {
     "name": "stderr",
     "output_type": "stream",
     "text": [
      "flickr:  30%|███████████████████████████████████████████████▌                                                                                                               | 4185/14000 [48:38<4:00:02,  1.47s/it]"
     ]
    },
    {
     "name": "stdout",
     "output_type": "stream",
     "text": [
      "more than one face detected in img: /media/choppy/WD_BLACK/datasets/FLICKR/attack/ronda3/F_screen_smartphone_fijo/F08581_screen_smartphone_fijo_20220304032531.jpg, but only the biggest is stored\n"
     ]
    },
    {
     "name": "stderr",
     "output_type": "stream",
     "text": [
      "flickr:  30%|███████████████████████████████████████████████▉                                                                                                               | 4216/14000 [49:16<4:04:43,  1.50s/it]"
     ]
    },
    {
     "name": "stdout",
     "output_type": "stream",
     "text": [
      "more than one face detected in img: /media/choppy/WD_BLACK/datasets/FLICKR/attack/ronda3/F_screen_smartphone_fijo/F12389_screen_smartphone_fijo_20220307190909.jpg, but only the biggest is stored\n"
     ]
    },
    {
     "name": "stderr",
     "output_type": "stream",
     "text": [
      "flickr:  30%|███████████████████████████████████████████████▉                                                                                                               | 4221/14000 [49:23<3:51:50,  1.42s/it]"
     ]
    },
    {
     "name": "stdout",
     "output_type": "stream",
     "text": [
      "more than one face detected in img: /media/choppy/WD_BLACK/datasets/FLICKR/attack/ronda3/F_screen_smartphone_fijo/F12399_screen_smartphone_fijo_20220307191659.jpg, but only the biggest is stored\n"
     ]
    },
    {
     "name": "stderr",
     "output_type": "stream",
     "text": [
      "flickr:  30%|███████████████████████████████████████████████▉                                                                                                               | 4225/14000 [49:27<2:27:06,  1.11it/s]"
     ]
    },
    {
     "name": "stdout",
     "output_type": "stream",
     "text": [
      "no predictions for /media/choppy/WD_BLACK/datasets/FLICKR/attack/ronda3/F_screen_smartphone_fijo/F16415_screen_smartphone_fijo_20220308161737.jpg, please check.\n"
     ]
    },
    {
     "name": "stderr",
     "output_type": "stream",
     "text": [
      "flickr:  30%|████████████████████████████████████████████████▏                                                                                                              | 4238/14000 [49:38<2:12:43,  1.23it/s]"
     ]
    },
    {
     "name": "stdout",
     "output_type": "stream",
     "text": [
      "more than one face detected in img: /media/choppy/WD_BLACK/datasets/FLICKR/attack/ronda3/F_screen_smartphone_fijo/F16246_screen_smartphone_fijo_20220307231809.jpg, but only the biggest is stored\n"
     ]
    },
    {
     "name": "stderr",
     "output_type": "stream",
     "text": [
      "flickr:  30%|████████████████████████████████████████████████▎                                                                                                              | 4256/14000 [49:50<1:48:00,  1.50it/s]"
     ]
    },
    {
     "name": "stdout",
     "output_type": "stream",
     "text": [
      "more than one face detected in img: /media/choppy/WD_BLACK/datasets/FLICKR/attack/ronda3/F_screen_smartphone_fijo/F16667_screen_smartphone_fijo_20220308012114.jpg, but only the biggest is stored\n"
     ]
    },
    {
     "name": "stderr",
     "output_type": "stream",
     "text": [
      "flickr:  30%|████████████████████████████████████████████████▎                                                                                                              | 4258/14000 [49:51<1:49:31,  1.48it/s]"
     ]
    },
    {
     "name": "stdout",
     "output_type": "stream",
     "text": [
      "more than one face detected in img: /media/choppy/WD_BLACK/datasets/FLICKR/attack/ronda3/F_screen_smartphone_fijo/F16669_screen_smartphone_fijo_20220307224405.jpg, but only the biggest is stored\n"
     ]
    },
    {
     "name": "stderr",
     "output_type": "stream",
     "text": [
      "flickr:  30%|████████████████████████████████████████████████▎                                                                                                              | 4259/14000 [49:52<1:48:16,  1.50it/s]"
     ]
    },
    {
     "name": "stdout",
     "output_type": "stream",
     "text": [
      "more than one face detected in img: /media/choppy/WD_BLACK/datasets/FLICKR/attack/ronda3/F_screen_smartphone_fijo/F16671_screen_smartphone_fijo_20220308022609.jpg, but only the biggest is stored\n"
     ]
    },
    {
     "name": "stderr",
     "output_type": "stream",
     "text": [
      "flickr:  30%|████████████████████████████████████████████████▍                                                                                                              | 4264/14000 [49:57<2:50:42,  1.05s/it]"
     ]
    },
    {
     "name": "stdout",
     "output_type": "stream",
     "text": [
      "no predictions for /media/choppy/WD_BLACK/datasets/FLICKR/attack/ronda3/F_screen_smartphone_fijo/F16692_screen_smartphone_fijo_20220307215522.jpg, please check.\n"
     ]
    },
    {
     "name": "stderr",
     "output_type": "stream",
     "text": [
      "flickr:  30%|████████████████████████████████████████████████▍                                                                                                              | 4268/14000 [49:59<2:11:18,  1.24it/s]"
     ]
    },
    {
     "name": "stdout",
     "output_type": "stream",
     "text": [
      "more than one face detected in img: /media/choppy/WD_BLACK/datasets/FLICKR/attack/ronda3/F_screen_smartphone_fijo/F16699_screen_smartphone_fijo_20220308010938.jpg, but only the biggest is stored\n"
     ]
    },
    {
     "name": "stderr",
     "output_type": "stream",
     "text": [
      "flickr:  31%|████████████████████████████████████████████████▋                                                                                                              | 4288/14000 [50:27<4:00:54,  1.49s/it]"
     ]
    },
    {
     "name": "stdout",
     "output_type": "stream",
     "text": [
      "more than one face detected in img: /media/choppy/WD_BLACK/datasets/FLICKR/attack/ronda3/F_screen_smartphone_fijo/F08844_screen_smartphone_fijo_20220304205308.jpg, but only the biggest is stored\n"
     ]
    },
    {
     "name": "stderr",
     "output_type": "stream",
     "text": [
      "flickr:  31%|████████████████████████████████████████████████▊                                                                                                              | 4296/14000 [50:37<2:53:11,  1.07s/it]"
     ]
    },
    {
     "name": "stdout",
     "output_type": "stream",
     "text": [
      "more than one face detected in img: /media/choppy/WD_BLACK/datasets/FLICKR/attack/ronda3/F_screen_smartphone_fijo/F12616_screen_smartphone_fijo_20220308011339.jpg, but only the biggest is stored\n"
     ]
    },
    {
     "name": "stderr",
     "output_type": "stream",
     "text": [
      "flickr:  31%|████████████████████████████████████████████████▊                                                                                                              | 4300/14000 [50:40<2:05:12,  1.29it/s]"
     ]
    },
    {
     "name": "stdout",
     "output_type": "stream",
     "text": [
      "more than one face detected in img: /media/choppy/WD_BLACK/datasets/FLICKR/attack/ronda3/F_screen_smartphone_fijo/F12622_screen_smartphone_fijo_20220307195955.jpg, but only the biggest is stored\n"
     ]
    },
    {
     "name": "stderr",
     "output_type": "stream",
     "text": [
      "flickr:  31%|████████████████████████████████████████████████▉                                                                                                              | 4308/14000 [50:51<3:53:54,  1.45s/it]"
     ]
    },
    {
     "name": "stdout",
     "output_type": "stream",
     "text": [
      "more than one face detected in img: /media/choppy/WD_BLACK/datasets/FLICKR/attack/ronda3/F_screen_smartphone_fijo/F08989_screen_smartphone_fijo_20220307001111.jpg, but only the biggest is stored\n"
     ]
    },
    {
     "name": "stderr",
     "output_type": "stream",
     "text": [
      "flickr:  31%|█████████████████████████████████████████████████▊                                                                                                             | 4386/14000 [52:11<1:56:46,  1.37it/s]"
     ]
    },
    {
     "name": "stdout",
     "output_type": "stream",
     "text": [
      "more than one face detected in img: /media/choppy/WD_BLACK/datasets/FLICKR/attack/ronda3/F_screen_smartphone_fijo/F16063_screen_smartphone_fijo_20220308022357.jpg, but only the biggest is stored\n"
     ]
    },
    {
     "name": "stderr",
     "output_type": "stream",
     "text": [
      "flickr:  31%|█████████████████████████████████████████████████▊                                                                                                             | 4388/14000 [52:12<1:56:43,  1.37it/s]"
     ]
    },
    {
     "name": "stdout",
     "output_type": "stream",
     "text": [
      "more than one face detected in img: /media/choppy/WD_BLACK/datasets/FLICKR/attack/ronda3/F_screen_smartphone_fijo/F16067_screen_smartphone_fijo_20220308135507.jpg, but only the biggest is stored\n"
     ]
    },
    {
     "name": "stderr",
     "output_type": "stream",
     "text": [
      "flickr:  32%|██████████████████████████████████████████████████                                                                                                             | 4410/14000 [52:44<3:47:07,  1.42s/it]"
     ]
    },
    {
     "name": "stdout",
     "output_type": "stream",
     "text": [
      "more than one face detected in img: /media/choppy/WD_BLACK/datasets/FLICKR/attack/ronda3/F_screen_smartphone_fijo/F12313_screen_smartphone_fijo_20220307163323.jpg, but only the biggest is stored\n"
     ]
    },
    {
     "name": "stderr",
     "output_type": "stream",
     "text": [
      "flickr:  32%|██████████████████████████████████████████████████▏                                                                                                            | 4415/14000 [52:51<3:49:40,  1.44s/it]"
     ]
    },
    {
     "name": "stdout",
     "output_type": "stream",
     "text": [
      "more than one face detected in img: /media/choppy/WD_BLACK/datasets/FLICKR/attack/ronda3/F_screen_smartphone_fijo/F12143_screen_smartphone_fijo_20220307013558.jpg, but only the biggest is stored\n"
     ]
    },
    {
     "name": "stderr",
     "output_type": "stream",
     "text": [
      "flickr:  32%|██████████████████████████████████████████████████▏                                                                                                            | 4416/14000 [52:53<3:49:13,  1.43s/it]"
     ]
    },
    {
     "name": "stdout",
     "output_type": "stream",
     "text": [
      "more than one face detected in img: /media/choppy/WD_BLACK/datasets/FLICKR/attack/ronda3/F_screen_smartphone_fijo/F12155_screen_smartphone_fijo_20220307013732.jpg, but only the biggest is stored\n"
     ]
    },
    {
     "name": "stderr",
     "output_type": "stream",
     "text": [
      "flickr:  32%|██████████████████████████████████████████████████▏                                                                                                            | 4417/14000 [52:54<3:49:18,  1.44s/it]"
     ]
    },
    {
     "name": "stdout",
     "output_type": "stream",
     "text": [
      "more than one face detected in img: /media/choppy/WD_BLACK/datasets/FLICKR/attack/ronda3/F_screen_smartphone_fijo/F12156_screen_smartphone_fijo_20220307013937.jpg, but only the biggest is stored\n"
     ]
    },
    {
     "name": "stderr",
     "output_type": "stream",
     "text": [
      "flickr:  32%|██████████████████████████████████████████████████▏                                                                                                            | 4418/14000 [52:56<3:44:05,  1.40s/it]"
     ]
    },
    {
     "name": "stdout",
     "output_type": "stream",
     "text": [
      "no predictions for /media/choppy/WD_BLACK/datasets/FLICKR/attack/ronda3/F_screen_smartphone_fijo/F12157_screen_smartphone_fijo_20220307014104.jpg, please check.\n"
     ]
    },
    {
     "name": "stderr",
     "output_type": "stream",
     "text": [
      "flickr:  32%|██████████████████████████████████████████████████▎                                                                                                            | 4426/14000 [53:08<3:53:53,  1.47s/it]"
     ]
    },
    {
     "name": "stdout",
     "output_type": "stream",
     "text": [
      "more than one face detected in img: /media/choppy/WD_BLACK/datasets/FLICKR/attack/ronda3/F_screen_smartphone_fijo/F12171_screen_smartphone_fijo_20220307015132.jpg, but only the biggest is stored\n"
     ]
    },
    {
     "name": "stderr",
     "output_type": "stream",
     "text": [
      "flickr:  32%|███████████████████████████████████████████████████                                                                                                            | 4499/14000 [54:18<4:03:44,  1.54s/it]"
     ]
    },
    {
     "name": "stdout",
     "output_type": "stream",
     "text": [
      "no predictions for /media/choppy/WD_BLACK/datasets/FLICKR/attack/ronda3/F_screen_smartphone_fijo/F08645_screen_smartphone_fijo_20220304040044.jpg, please check.\n"
     ]
    },
    {
     "name": "stderr",
     "output_type": "stream",
     "text": [
      "flickr:  32%|███████████████████████████████████████████████████▏                                                                                                           | 4510/14000 [54:34<3:56:36,  1.50s/it]"
     ]
    },
    {
     "name": "stdout",
     "output_type": "stream",
     "text": [
      "more than one face detected in img: /media/choppy/WD_BLACK/datasets/FLICKR/attack/ronda3/F_screen_smartphone_fijo/F08856_screen_smartphone_fijo_20220304210535.jpg, but only the biggest is stored\n"
     ]
    },
    {
     "name": "stderr",
     "output_type": "stream",
     "text": [
      "flickr:  32%|███████████████████████████████████████████████████▎                                                                                                           | 4516/14000 [54:43<3:51:30,  1.46s/it]"
     ]
    },
    {
     "name": "stdout",
     "output_type": "stream",
     "text": [
      "no predictions for /media/choppy/WD_BLACK/datasets/FLICKR/attack/ronda3/F_screen_smartphone_fijo/F08872_screen_smartphone_fijo_20220304212012.jpg, please check.\n"
     ]
    },
    {
     "name": "stderr",
     "output_type": "stream",
     "text": [
      "flickr:  32%|███████████████████████████████████████████████████▍                                                                                                           | 4531/14000 [54:54<1:44:54,  1.50it/s]"
     ]
    },
    {
     "name": "stdout",
     "output_type": "stream",
     "text": [
      "no predictions for /media/choppy/WD_BLACK/datasets/FLICKR/attack/ronda3/F_screen_smartphone_fijo/F16657_screen_smartphone_fijo_20220307234646.jpg, please check.\n"
     ]
    },
    {
     "name": "stderr",
     "output_type": "stream",
     "text": [
      "flickr:  32%|███████████████████████████████████████████████████▌                                                                                                           | 4543/14000 [55:02<1:48:04,  1.46it/s]"
     ]
    },
    {
     "name": "stdout",
     "output_type": "stream",
     "text": [
      "more than one face detected in img: /media/choppy/WD_BLACK/datasets/FLICKR/attack/ronda3/F_screen_smartphone_fijo/F16218_screen_smartphone_fijo_20220307194009.jpg, but only the biggest is stored\n"
     ]
    },
    {
     "name": "stderr",
     "output_type": "stream",
     "text": [
      "flickr:  33%|███████████████████████████████████████████████████▊                                                                                                           | 4566/14000 [55:17<1:42:37,  1.53it/s]"
     ]
    },
    {
     "name": "stdout",
     "output_type": "stream",
     "text": [
      "no predictions for /media/choppy/WD_BLACK/datasets/FLICKR/attack/ronda3/F_screen_smartphone_fijo/F12785_screen_smartphone_fijo_20220307231624.jpg, please check.\n"
     ]
    },
    {
     "name": "stderr",
     "output_type": "stream",
     "text": [
      "flickr:  33%|███████████████████████████████████████████████████▉                                                                                                           | 4572/14000 [55:22<1:58:17,  1.33it/s]"
     ]
    },
    {
     "name": "stdout",
     "output_type": "stream",
     "text": [
      "more than one face detected in img: /media/choppy/WD_BLACK/datasets/FLICKR/attack/ronda3/F_screen_smartphone_fijo/F12803_screen_smartphone_fijo_20220307230103.jpg, but only the biggest is stored\n"
     ]
    },
    {
     "name": "stderr",
     "output_type": "stream",
     "text": [
      "flickr:  33%|████████████████████████████████████████████████████▍                                                                                                          | 4615/14000 [56:05<1:46:50,  1.46it/s]"
     ]
    },
    {
     "name": "stdout",
     "output_type": "stream",
     "text": [
      "more than one face detected in img: /media/choppy/WD_BLACK/datasets/FLICKR/attack/ronda3/F_screen_smartphone_fijo/F12660_screen_smartphone_fijo_20220308145655.jpg, but only the biggest is stored\n"
     ]
    },
    {
     "name": "stderr",
     "output_type": "stream",
     "text": [
      "flickr:  33%|████████████████████████████████████████████████████▌                                                                                                          | 4630/14000 [56:15<1:50:39,  1.41it/s]"
     ]
    },
    {
     "name": "stdout",
     "output_type": "stream",
     "text": [
      "no predictions for /media/choppy/WD_BLACK/datasets/FLICKR/attack/ronda3/F_screen_smartphone_fijo/F16318_screen_smartphone_fijo_20220307225932.jpg, please check.\n"
     ]
    },
    {
     "name": "stderr",
     "output_type": "stream",
     "text": [
      "flickr:  33%|████████████████████████████████████████████████████▋                                                                                                          | 4635/14000 [56:18<1:50:58,  1.41it/s]"
     ]
    },
    {
     "name": "stdout",
     "output_type": "stream",
     "text": [
      "more than one face detected in img: /media/choppy/WD_BLACK/datasets/FLICKR/attack/ronda3/F_screen_smartphone_fijo/F16325_screen_smartphone_fijo_20220307225110.jpg, but only the biggest is stored\n"
     ]
    },
    {
     "name": "stderr",
     "output_type": "stream",
     "text": [
      "flickr:  33%|████████████████████████████████████████████████████▊                                                                                                          | 4646/14000 [56:32<3:35:02,  1.38s/it]"
     ]
    },
    {
     "name": "stdout",
     "output_type": "stream",
     "text": [
      "no predictions for /media/choppy/WD_BLACK/datasets/FLICKR/attack/ronda3/F_screen_smartphone_fijo/F12341_screen_smartphone_fijo_20220307170911.jpg, please check.\n"
     ]
    },
    {
     "name": "stderr",
     "output_type": "stream",
     "text": [
      "flickr:  33%|████████████████████████████████████████████████████▊                                                                                                          | 4649/14000 [56:36<3:41:40,  1.42s/it]"
     ]
    },
    {
     "name": "stdout",
     "output_type": "stream",
     "text": [
      "more than one face detected in img: /media/choppy/WD_BLACK/datasets/FLICKR/attack/ronda3/F_screen_smartphone_fijo/F12348_screen_smartphone_fijo_20220307171302.jpg, but only the biggest is stored\n"
     ]
    },
    {
     "name": "stderr",
     "output_type": "stream",
     "text": [
      "flickr:  33%|████████████████████████████████████████████████████▉                                                                                                          | 4666/14000 [57:00<3:45:37,  1.45s/it]"
     ]
    },
    {
     "name": "stdout",
     "output_type": "stream",
     "text": [
      "more than one face detected in img: /media/choppy/WD_BLACK/datasets/FLICKR/attack/ronda3/F_screen_smartphone_fijo/F12546_screen_smartphone_fijo_20220307203847.jpg, but only the biggest is stored\n"
     ]
    },
    {
     "name": "stderr",
     "output_type": "stream",
     "text": [
      "flickr:  33%|█████████████████████████████████████████████████████                                                                                                          | 4670/14000 [57:05<3:26:34,  1.33s/it]"
     ]
    },
    {
     "name": "stdout",
     "output_type": "stream",
     "text": [
      "more than one face detected in img: /media/choppy/WD_BLACK/datasets/FLICKR/attack/ronda3/F_screen_smartphone_fijo/F12058_screen_smartphone_fijo_20220307004107.jpg, but only the biggest is stored\n"
     ]
    },
    {
     "name": "stderr",
     "output_type": "stream",
     "text": [
      "flickr:  34%|█████████████████████████████████████████████████████▎                                                                                                         | 4696/14000 [57:31<3:44:30,  1.45s/it]"
     ]
    },
    {
     "name": "stdout",
     "output_type": "stream",
     "text": [
      "more than one face detected in img: /media/choppy/WD_BLACK/datasets/FLICKR/attack/ronda3/F_screen_smartphone_fijo/F12126_screen_smartphone_fijo_20220307012605.jpg, but only the biggest is stored\n"
     ]
    },
    {
     "name": "stderr",
     "output_type": "stream",
     "text": [
      "flickr:  34%|█████████████████████████████████████████████████████▌                                                                                                         | 4718/14000 [58:03<3:46:35,  1.46s/it]"
     ]
    },
    {
     "name": "stdout",
     "output_type": "stream",
     "text": [
      "more than one face detected in img: /media/choppy/WD_BLACK/datasets/FLICKR/attack/ronda3/F_screen_smartphone_fijo/F08704_screen_smartphone_fijo_20220304150701.jpg, but only the biggest is stored\n"
     ]
    },
    {
     "name": "stderr",
     "output_type": "stream",
     "text": [
      "flickr:  34%|█████████████████████████████████████████████████████▌                                                                                                         | 4721/14000 [58:07<3:43:25,  1.44s/it]"
     ]
    },
    {
     "name": "stdout",
     "output_type": "stream",
     "text": [
      "more than one face detected in img: /media/choppy/WD_BLACK/datasets/FLICKR/attack/ronda3/F_screen_smartphone_fijo/F08715_screen_smartphone_fijo_20220304151055.jpg, but only the biggest is stored\n"
     ]
    },
    {
     "name": "stderr",
     "output_type": "stream",
     "text": [
      "flickr:  34%|█████████████████████████████████████████████████████▊                                                                                                         | 4742/14000 [58:37<3:40:14,  1.43s/it]"
     ]
    },
    {
     "name": "stdout",
     "output_type": "stream",
     "text": [
      "more than one face detected in img: /media/choppy/WD_BLACK/datasets/FLICKR/attack/ronda3/F_screen_smartphone_fijo/F12272_screen_smartphone_fijo_20220307153930.jpg, but only the biggest is stored\n"
     ]
    },
    {
     "name": "stderr",
     "output_type": "stream",
     "text": [
      "flickr:  34%|█████████████████████████████████████████████████████▊                                                                                                         | 4743/14000 [58:38<3:31:43,  1.37s/it]"
     ]
    },
    {
     "name": "stdout",
     "output_type": "stream",
     "text": [
      "more than one face detected in img: /media/choppy/WD_BLACK/datasets/FLICKR/attack/ronda3/F_screen_smartphone_fijo/F12276_screen_smartphone_fijo_20220307154042.jpg, but only the biggest is stored\n"
     ]
    },
    {
     "name": "stderr",
     "output_type": "stream",
     "text": [
      "flickr:  34%|█████████████████████████████████████████████████████▉                                                                                                         | 4746/14000 [58:42<3:27:39,  1.35s/it]"
     ]
    },
    {
     "name": "stdout",
     "output_type": "stream",
     "text": [
      "no predictions for /media/choppy/WD_BLACK/datasets/FLICKR/attack/ronda3/F_screen_smartphone_fijo/F12279_screen_smartphone_fijo_20220307154823.jpg, please check.\n"
     ]
    },
    {
     "name": "stderr",
     "output_type": "stream",
     "text": [
      "flickr:  34%|██████████████████████████████████████████████████████▍                                                                                                        | 4793/14000 [59:22<3:22:09,  1.32s/it]"
     ]
    },
    {
     "name": "stdout",
     "output_type": "stream",
     "text": [
      "more than one face detected in img: /media/choppy/WD_BLACK/datasets/FLICKR/attack/ronda3/F_screen_smartphone_fijo/F12419_screen_smartphone_fijo_20220307192655.jpg, but only the biggest is stored\n"
     ]
    },
    {
     "name": "stderr",
     "output_type": "stream",
     "text": [
      "flickr:  34%|██████████████████████████████████████████████████████▌                                                                                                        | 4800/14000 [59:32<3:34:53,  1.40s/it]"
     ]
    },
    {
     "name": "stdout",
     "output_type": "stream",
     "text": [
      "no predictions for /media/choppy/WD_BLACK/datasets/FLICKR/attack/ronda3/F_screen_smartphone_fijo/F12432_screen_smartphone_fijo_20220307193525.jpg, please check.\n"
     ]
    },
    {
     "name": "stderr",
     "output_type": "stream",
     "text": [
      "flickr:  34%|██████████████████████████████████████████████████████▋                                                                                                        | 4811/14000 [59:48<3:39:07,  1.43s/it]"
     ]
    },
    {
     "name": "stdout",
     "output_type": "stream",
     "text": [
      "more than one face detected in img: /media/choppy/WD_BLACK/datasets/FLICKR/attack/ronda3/F_screen_smartphone_fijo/F12480_screen_smartphone_fijo_20220307200411.jpg, but only the biggest is stored\n"
     ]
    },
    {
     "name": "stderr",
     "output_type": "stream",
     "text": [
      "flickr:  34%|██████████████████████████████████████████████████████▋                                                                                                        | 4820/14000 [59:58<2:24:36,  1.06it/s]"
     ]
    },
    {
     "name": "stdout",
     "output_type": "stream",
     "text": [
      "no predictions for /media/choppy/WD_BLACK/datasets/FLICKR/attack/ronda3/F_screen_smartphone_fijo/F12697_screen_smartphone_fijo_20220307160817.jpg, please check.\n"
     ]
    },
    {
     "name": "stderr",
     "output_type": "stream",
     "text": [
      "flickr:  35%|██████████████████████████████████████████████████████▎                                                                                                      | 4841/14000 [1:00:13<1:46:07,  1.44it/s]"
     ]
    },
    {
     "name": "stdout",
     "output_type": "stream",
     "text": [
      "more than one face detected in img: /media/choppy/WD_BLACK/datasets/FLICKR/attack/ronda3/F_screen_smartphone_fijo/F16464_screen_smartphone_fijo_20220308011437.jpg, but only the biggest is stored\n"
     ]
    },
    {
     "name": "stderr",
     "output_type": "stream",
     "text": [
      "flickr:  35%|██████████████████████████████████████████████████████▍                                                                                                      | 4849/14000 [1:00:18<1:42:31,  1.49it/s]"
     ]
    },
    {
     "name": "stdout",
     "output_type": "stream",
     "text": [
      "more than one face detected in img: /media/choppy/WD_BLACK/datasets/FLICKR/attack/ronda3/F_screen_smartphone_fijo/F16095_screen_smartphone_fijo_20220307210055.jpg, but only the biggest is stored\n"
     ]
    },
    {
     "name": "stderr",
     "output_type": "stream",
     "text": [
      "flickr:  35%|██████████████████████████████████████████████████████▍                                                                                                      | 4851/14000 [1:00:19<1:41:16,  1.51it/s]"
     ]
    },
    {
     "name": "stdout",
     "output_type": "stream",
     "text": [
      "more than one face detected in img: /media/choppy/WD_BLACK/datasets/FLICKR/attack/ronda3/F_screen_smartphone_fijo/F16099_screen_smartphone_fijo_20220308033706.jpg, but only the biggest is stored\n"
     ]
    },
    {
     "name": "stderr",
     "output_type": "stream",
     "text": [
      "flickr:  35%|██████████████████████████████████████████████████████▋                                                                                                      | 4873/14000 [1:00:35<1:48:11,  1.41it/s]"
     ]
    },
    {
     "name": "stdout",
     "output_type": "stream",
     "text": [
      "no predictions for /media/choppy/WD_BLACK/datasets/FLICKR/attack/ronda3/F_screen_smartphone_fijo/F16625_screen_smartphone_fijo_20220307162636.jpg, please check.\n"
     ]
    },
    {
     "name": "stderr",
     "output_type": "stream",
     "text": [
      "flickr:  35%|██████████████████████████████████████████████████████▊                                                                                                      | 4891/14000 [1:00:51<3:20:43,  1.32s/it]"
     ]
    },
    {
     "name": "stdout",
     "output_type": "stream",
     "text": [
      "more than one face detected in img: /media/choppy/WD_BLACK/datasets/FLICKR/attack/ronda3/F_screen_smartphone_fijo/F12185_screen_smartphone_fijo_20220307015832.jpg, but only the biggest is stored\n"
     ]
    },
    {
     "name": "stderr",
     "output_type": "stream",
     "text": [
      "flickr:  35%|██████████████████████████████████████████████████████▊                                                                                                      | 4892/14000 [1:00:52<3:33:48,  1.41s/it]"
     ]
    },
    {
     "name": "stdout",
     "output_type": "stream",
     "text": [
      "more than one face detected in img: /media/choppy/WD_BLACK/datasets/FLICKR/attack/ronda3/F_screen_smartphone_fijo/F12188_screen_smartphone_fijo_20220307020008.jpg, but only the biggest is stored\n"
     ]
    },
    {
     "name": "stderr",
     "output_type": "stream",
     "text": [
      "flickr:  35%|██████████████████████████████████████████████████████▉                                                                                                      | 4896/14000 [1:00:58<3:42:31,  1.47s/it]"
     ]
    },
    {
     "name": "stdout",
     "output_type": "stream",
     "text": [
      "more than one face detected in img: /media/choppy/WD_BLACK/datasets/FLICKR/attack/ronda3/F_screen_smartphone_fijo/F12198_screen_smartphone_fijo_20220307020525.jpg, but only the biggest is stored\n"
     ]
    },
    {
     "name": "stderr",
     "output_type": "stream",
     "text": [
      "flickr:  35%|███████████████████████████████████████████████████████                                                                                                      | 4905/14000 [1:01:07<1:57:27,  1.29it/s]"
     ]
    },
    {
     "name": "stdout",
     "output_type": "stream",
     "text": [
      "more than one face detected in img: /media/choppy/WD_BLACK/datasets/FLICKR/attack/ronda3/F_screen_smartphone_fijo/F12940_screen_smartphone_fijo_20220308140050.jpg, but only the biggest is stored\n"
     ]
    },
    {
     "name": "stderr",
     "output_type": "stream",
     "text": [
      "flickr:  35%|███████████████████████████████████████████████████████▏                                                                                                     | 4919/14000 [1:01:23<3:30:59,  1.39s/it]"
     ]
    },
    {
     "name": "stdout",
     "output_type": "stream",
     "text": [
      "no predictions for /media/choppy/WD_BLACK/datasets/FLICKR/attack/ronda3/F_screen_smartphone_fijo/F08959_screen_smartphone_fijo_20220306225553.jpg, please check.\n"
     ]
    },
    {
     "name": "stderr",
     "output_type": "stream",
     "text": [
      "flickr:  35%|███████████████████████████████████████████████████████▏                                                                                                     | 4925/14000 [1:01:32<3:50:19,  1.52s/it]"
     ]
    },
    {
     "name": "stdout",
     "output_type": "stream",
     "text": [
      "more than one face detected in img: /media/choppy/WD_BLACK/datasets/FLICKR/attack/ronda3/F_screen_smartphone_fijo/F08874_screen_smartphone_fijo_20220304212250.jpg, but only the biggest is stored\n"
     ]
    },
    {
     "name": "stderr",
     "output_type": "stream",
     "text": [
      "flickr:  35%|███████████████████████████████████████████████████████▌                                                                                                     | 4950/14000 [1:02:00<2:56:38,  1.17s/it]"
     ]
    },
    {
     "name": "stdout",
     "output_type": "stream",
     "text": [
      "more than one face detected in img: /media/choppy/WD_BLACK/datasets/FLICKR/attack/ronda3/F_screen_smartphone_fijo/F12578_screen_smartphone_fijo_20220307205244.jpg, but only the biggest is stored\n"
     ]
    },
    {
     "name": "stderr",
     "output_type": "stream",
     "text": [
      "flickr:  35%|███████████████████████████████████████████████████████▋                                                                                                     | 4964/14000 [1:02:21<3:41:08,  1.47s/it]"
     ]
    },
    {
     "name": "stdout",
     "output_type": "stream",
     "text": [
      "more than one face detected in img: /media/choppy/WD_BLACK/datasets/FLICKR/attack/ronda3/F_screen_smartphone_fijo/F08519_screen_smartphone_fijo_20220304023950.jpg, but only the biggest is stored\n"
     ]
    },
    {
     "name": "stderr",
     "output_type": "stream",
     "text": [
      "flickr:  35%|███████████████████████████████████████████████████████▋                                                                                                     | 4969/14000 [1:02:27<3:11:08,  1.27s/it]"
     ]
    },
    {
     "name": "stdout",
     "output_type": "stream",
     "text": [
      "more than one face detected in img: /media/choppy/WD_BLACK/datasets/FLICKR/attack/ronda3/F_screen_smartphone_fijo/F12857_screen_smartphone_fijo_20220308170556.jpg, but only the biggest is stored\n"
     ]
    },
    {
     "name": "stderr",
     "output_type": "stream",
     "text": [
      "flickr:  36%|███████████████████████████████████████████████████████▊                                                                                                     | 4972/14000 [1:02:30<2:12:18,  1.14it/s]"
     ]
    },
    {
     "name": "stdout",
     "output_type": "stream",
     "text": [
      "no predictions for /media/choppy/WD_BLACK/datasets/FLICKR/attack/ronda3/F_screen_smartphone_fijo/F12860_screen_smartphone_fijo_20220307183613.jpg, please check.\n"
     ]
    },
    {
     "name": "stderr",
     "output_type": "stream",
     "text": [
      "flickr:  36%|███████████████████████████████████████████████████████▊                                                                                                     | 4980/14000 [1:02:36<2:19:02,  1.08it/s]"
     ]
    },
    {
     "name": "stdout",
     "output_type": "stream",
     "text": [
      "more than one face detected in img: /media/choppy/WD_BLACK/datasets/FLICKR/attack/ronda3/F_screen_smartphone_fijo/F08450_screen_smartphone_fijo_20220304020127.jpg, but only the biggest is stored\n"
     ]
    },
    {
     "name": "stderr",
     "output_type": "stream",
     "text": [
      "flickr:  36%|████████████████████████████████████████████████████████▌                                                                                                    | 5049/14000 [1:03:34<1:25:52,  1.74it/s]"
     ]
    },
    {
     "name": "stdout",
     "output_type": "stream",
     "text": [
      "more than one face detected in img: /media/choppy/WD_BLACK/datasets/FLICKR/attack/ronda3/F_screen_tablet_fijo/F20012_screen_tablet_fijo_20220405131537.jpg, but only the biggest is stored\n"
     ]
    },
    {
     "name": "stderr",
     "output_type": "stream",
     "text": [
      "flickr:  36%|████████████████████████████████████████████████████████▊                                                                                                    | 5063/14000 [1:03:42<1:25:52,  1.73it/s]"
     ]
    },
    {
     "name": "stdout",
     "output_type": "stream",
     "text": [
      "no predictions for /media/choppy/WD_BLACK/datasets/FLICKR/attack/ronda3/F_screen_tablet_fijo/F20194_screen_tablet_fijo_20220217224756.jpg, please check.\n"
     ]
    },
    {
     "name": "stderr",
     "output_type": "stream",
     "text": [
      "flickr:  36%|████████████████████████████████████████████████████████▉                                                                                                    | 5076/14000 [1:03:50<1:34:34,  1.57it/s]"
     ]
    },
    {
     "name": "stdout",
     "output_type": "stream",
     "text": [
      "more than one face detected in img: /media/choppy/WD_BLACK/datasets/FLICKR/attack/ronda3/F_screen_tablet_fijo/F24654_screen_tablet_fijo_20220405191130.jpg, but only the biggest is stored\n"
     ]
    },
    {
     "name": "stderr",
     "output_type": "stream",
     "text": [
      "flickr:  36%|█████████████████████████████████████████████████████████▎                                                                                                   | 5106/14000 [1:04:07<1:24:22,  1.76it/s]"
     ]
    },
    {
     "name": "stdout",
     "output_type": "stream",
     "text": [
      "no predictions for /media/choppy/WD_BLACK/datasets/FLICKR/attack/ronda3/F_screen_tablet_fijo/F24040_screen_tablet_fijo_20220405164127.jpg, please check.\n"
     ]
    },
    {
     "name": "stderr",
     "output_type": "stream",
     "text": [
      "flickr:  37%|█████████████████████████████████████████████████████████▎                                                                                                   | 5115/14000 [1:04:12<1:24:29,  1.75it/s]"
     ]
    },
    {
     "name": "stdout",
     "output_type": "stream",
     "text": [
      "more than one face detected in img: /media/choppy/WD_BLACK/datasets/FLICKR/attack/ronda3/F_screen_tablet_fijo/F24053_screen_tablet_fijo_20220219200228.jpg, but only the biggest is stored\n"
     ]
    },
    {
     "name": "stderr",
     "output_type": "stream",
     "text": [
      "flickr:  37%|█████████████████████████████████████████████████████████▍                                                                                                   | 5122/14000 [1:04:16<1:22:06,  1.80it/s]"
     ]
    },
    {
     "name": "stdout",
     "output_type": "stream",
     "text": [
      "no predictions for /media/choppy/WD_BLACK/datasets/FLICKR/attack/ronda3/F_screen_tablet_fijo/F16982_screen_tablet_fijo_20220405131123.jpg, please check.\n"
     ]
    },
    {
     "name": "stderr",
     "output_type": "stream",
     "text": [
      "flickr:  37%|█████████████████████████████████████████████████████████▉                                                                                                   | 5164/14000 [1:04:41<1:22:27,  1.79it/s]"
     ]
    },
    {
     "name": "stdout",
     "output_type": "stream",
     "text": [
      "no predictions for /media/choppy/WD_BLACK/datasets/FLICKR/attack/ronda3/F_screen_tablet_fijo/F24453_screen_tablet_fijo_20220219005608.jpg, please check.\n"
     ]
    },
    {
     "name": "stderr",
     "output_type": "stream",
     "text": [
      "flickr:  37%|██████████████████████████████████████████████████████████▏                                                                                                  | 5188/14000 [1:04:55<1:22:14,  1.79it/s]"
     ]
    },
    {
     "name": "stdout",
     "output_type": "stream",
     "text": [
      "more than one face detected in img: /media/choppy/WD_BLACK/datasets/FLICKR/attack/ronda3/F_screen_tablet_fijo/F20577_screen_tablet_fijo_20220405133000.jpg, but only the biggest is stored\n"
     ]
    },
    {
     "name": "stderr",
     "output_type": "stream",
     "text": [
      "flickr:  37%|██████████████████████████████████████████████████████████▏                                                                                                  | 5193/14000 [1:04:57<1:22:06,  1.79it/s]"
     ]
    },
    {
     "name": "stdout",
     "output_type": "stream",
     "text": [
      "more than one face detected in img: /media/choppy/WD_BLACK/datasets/FLICKR/attack/ronda3/F_screen_tablet_fijo/F20583_screen_tablet_fijo_20220219173130.jpg, but only the biggest is stored\n"
     ]
    },
    {
     "name": "stderr",
     "output_type": "stream",
     "text": [
      "flickr:  37%|██████████████████████████████████████████████████████████▎                                                                                                  | 5200/14000 [1:05:01<1:22:39,  1.77it/s]"
     ]
    },
    {
     "name": "stdout",
     "output_type": "stream",
     "text": [
      "more than one face detected in img: /media/choppy/WD_BLACK/datasets/FLICKR/attack/ronda3/F_screen_tablet_fijo/F20060_screen_tablet_fijo_20220405131923.jpg, but only the biggest is stored\n"
     ]
    },
    {
     "name": "stderr",
     "output_type": "stream",
     "text": [
      "flickr:  38%|██████████████████████████████████████████████████████████▉                                                                                                  | 5251/14000 [1:05:31<1:21:06,  1.80it/s]"
     ]
    },
    {
     "name": "stdout",
     "output_type": "stream",
     "text": [
      "no predictions for /media/choppy/WD_BLACK/datasets/FLICKR/attack/ronda3/F_screen_tablet_fijo/F24325_screen_tablet_fijo_20220219003504.jpg, please check.\n"
     ]
    },
    {
     "name": "stderr",
     "output_type": "stream",
     "text": [
      "flickr:  38%|███████████████████████████████████████████████████████████▊                                                                                                 | 5331/14000 [1:06:16<1:21:31,  1.77it/s]"
     ]
    },
    {
     "name": "stdout",
     "output_type": "stream",
     "text": [
      "no predictions for /media/choppy/WD_BLACK/datasets/FLICKR/attack/ronda3/F_screen_tablet_fijo/F20972_screen_tablet_fijo_20220219194754.jpg, please check.\n"
     ]
    },
    {
     "name": "stderr",
     "output_type": "stream",
     "text": [
      "flickr:  38%|████████████████████████████████████████████████████████████▎                                                                                                | 5379/14000 [1:06:43<1:18:52,  1.82it/s]"
     ]
    },
    {
     "name": "stdout",
     "output_type": "stream",
     "text": [
      "more than one face detected in img: /media/choppy/WD_BLACK/datasets/FLICKR/attack/ronda3/F_screen_tablet_fijo/F20814_screen_tablet_fijo_20220219192107.jpg, but only the biggest is stored\n"
     ]
    },
    {
     "name": "stderr",
     "output_type": "stream",
     "text": [
      "flickr:  39%|█████████████████████████████████████████████████████████████▋                                                                                               | 5501/14000 [1:07:53<1:20:33,  1.76it/s]"
     ]
    },
    {
     "name": "stdout",
     "output_type": "stream",
     "text": [
      "more than one face detected in img: /media/choppy/WD_BLACK/datasets/FLICKR/attack/ronda3/F_screen_tablet_fijo/F24424_screen_tablet_fijo_20220405181053.jpg, but only the biggest is stored\n"
     ]
    },
    {
     "name": "stderr",
     "output_type": "stream",
     "text": [
      "flickr:  39%|█████████████████████████████████████████████████████████████▉                                                                                               | 5519/14000 [1:08:03<1:16:19,  1.85it/s]"
     ]
    },
    {
     "name": "stdout",
     "output_type": "stream",
     "text": [
      "no predictions for /media/choppy/WD_BLACK/datasets/FLICKR/attack/ronda3/F_screen_tablet_fijo/F20722_screen_tablet_fijo_20220219190248.jpg, please check.\n"
     ]
    },
    {
     "name": "stderr",
     "output_type": "stream",
     "text": [
      "flickr:  40%|██████████████████████████████████████████████████████████████▍                                                                                              | 5563/14000 [1:08:29<1:21:29,  1.73it/s]"
     ]
    },
    {
     "name": "stdout",
     "output_type": "stream",
     "text": [
      "more than one face detected in img: /media/choppy/WD_BLACK/datasets/FLICKR/attack/ronda3/F_screen_tablet_fijo/F24745_screen_tablet_fijo_20220219014524.jpg, but only the biggest is stored\n"
     ]
    },
    {
     "name": "stderr",
     "output_type": "stream",
     "text": [
      "flickr:  40%|███████████████████████████████████████████████████████████████▎                                                                                             | 5645/14000 [1:09:16<1:19:07,  1.76it/s]"
     ]
    },
    {
     "name": "stdout",
     "output_type": "stream",
     "text": [
      "more than one face detected in img: /media/choppy/WD_BLACK/datasets/FLICKR/attack/ronda3/F_screen_tablet_fijo/F20951_screen_tablet_fijo_20220405162645.jpg, but only the biggest is stored\n"
     ]
    },
    {
     "name": "stderr",
     "output_type": "stream",
     "text": [
      "flickr:  41%|████████████████████████████████████████████████████████████████▎                                                                                            | 5731/14000 [1:10:06<1:19:00,  1.74it/s]"
     ]
    },
    {
     "name": "stdout",
     "output_type": "stream",
     "text": [
      "more than one face detected in img: /media/choppy/WD_BLACK/datasets/FLICKR/attack/ronda3/F_screen_tablet_fijo/F20535_screen_tablet_fijo_20220405132703.jpg, but only the biggest is stored\n"
     ]
    },
    {
     "name": "stderr",
     "output_type": "stream",
     "text": [
      "flickr:  41%|████████████████████████████████████████████████████████████████▍                                                                                            | 5751/14000 [1:10:17<1:14:56,  1.83it/s]"
     ]
    },
    {
     "name": "stdout",
     "output_type": "stream",
     "text": [
      "no predictions for /media/choppy/WD_BLACK/datasets/FLICKR/attack/ronda3/F_screen_tablet_fijo/F24636_screen_tablet_fijo_20220405190939.jpg, please check.\n"
     ]
    },
    {
     "name": "stderr",
     "output_type": "stream",
     "text": [
      "flickr:  41%|████████████████████████████████████████████████████████████████▌                                                                                            | 5755/14000 [1:10:20<1:16:09,  1.80it/s]"
     ]
    },
    {
     "name": "stdout",
     "output_type": "stream",
     "text": [
      "more than one face detected in img: /media/choppy/WD_BLACK/datasets/FLICKR/attack/ronda3/F_screen_tablet_fijo/F24187_screen_tablet_fijo_20220219000718.jpg, but only the biggest is stored\n"
     ]
    },
    {
     "name": "stderr",
     "output_type": "stream",
     "text": [
      "flickr:  41%|████████████████████████████████████████████████████████████████▋                                                                                            | 5773/14000 [1:10:30<1:18:31,  1.75it/s]"
     ]
    },
    {
     "name": "stdout",
     "output_type": "stream",
     "text": [
      "more than one face detected in img: /media/choppy/WD_BLACK/datasets/FLICKR/attack/ronda3/F_screen_tablet_fijo/F24464_screen_tablet_fijo_20220219005752.jpg, but only the biggest is stored\n"
     ]
    },
    {
     "name": "stderr",
     "output_type": "stream",
     "text": [
      "flickr:  41%|████████████████████████████████████████████████████████████████▊                                                                                            | 5774/14000 [1:10:30<1:16:27,  1.79it/s]"
     ]
    },
    {
     "name": "stdout",
     "output_type": "stream",
     "text": [
      "no predictions for /media/choppy/WD_BLACK/datasets/FLICKR/attack/ronda3/F_screen_tablet_fijo/F24478_screen_tablet_fijo_20220219010307.jpg, please check.\n"
     ]
    },
    {
     "name": "stderr",
     "output_type": "stream",
     "text": [
      "flickr:  41%|█████████████████████████████████████████████████████████████████▏                                                                                           | 5808/14000 [1:10:50<1:16:18,  1.79it/s]"
     ]
    },
    {
     "name": "stdout",
     "output_type": "stream",
     "text": [
      "no predictions for /media/choppy/WD_BLACK/datasets/FLICKR/attack/ronda3/F_screen_tablet_fijo/F24106_screen_tablet_fijo_20220218235615.jpg, please check.\n"
     ]
    },
    {
     "name": "stderr",
     "output_type": "stream",
     "text": [
      "flickr:  42%|█████████████████████████████████████████████████████████████████▎                                                                                           | 5819/14000 [1:10:56<1:17:31,  1.76it/s]"
     ]
    },
    {
     "name": "stdout",
     "output_type": "stream",
     "text": [
      "no predictions for /media/choppy/WD_BLACK/datasets/FLICKR/attack/ronda3/F_screen_tablet_fijo/F24947_screen_tablet_fijo_20220219022350.jpg, please check.\n"
     ]
    },
    {
     "name": "stderr",
     "output_type": "stream",
     "text": [
      "flickr:  42%|█████████████████████████████████████████████████████████████████▍                                                                                           | 5832/14000 [1:11:03<1:18:04,  1.74it/s]"
     ]
    },
    {
     "name": "stdout",
     "output_type": "stream",
     "text": [
      "more than one face detected in img: /media/choppy/WD_BLACK/datasets/FLICKR/attack/ronda3/F_screen_tablet_fijo/F24977_screen_tablet_fijo_20220405194254.jpg, but only the biggest is stored\n"
     ]
    },
    {
     "name": "stderr",
     "output_type": "stream",
     "text": [
      "flickr:  42%|█████████████████████████████████████████████████████████████████▋                                                                                           | 5863/14000 [1:11:21<1:15:31,  1.80it/s]"
     ]
    },
    {
     "name": "stdout",
     "output_type": "stream",
     "text": [
      "no predictions for /media/choppy/WD_BLACK/datasets/FLICKR/attack/ronda3/F_screen_tablet_fijo/F24376_screen_tablet_fijo_20220219004424.jpg, please check.\n"
     ]
    },
    {
     "name": "stderr",
     "output_type": "stream",
     "text": [
      "flickr:  43%|██████████████████████████████████████████████████████████████████▉                                                                                          | 5971/14000 [1:12:23<1:17:29,  1.73it/s]"
     ]
    },
    {
     "name": "stdout",
     "output_type": "stream",
     "text": [
      "more than one face detected in img: /media/choppy/WD_BLACK/datasets/FLICKR/attack/ronda3/F_screen_tablet_fijo/F24678_screen_tablet_fijo_20220219013225.jpg, but only the biggest is stored\n"
     ]
    },
    {
     "name": "stderr",
     "output_type": "stream",
     "text": [
      "flickr:  43%|███████████████████████████████████████████████████████████████████                                                                                          | 5982/14000 [1:12:30<1:16:37,  1.74it/s]"
     ]
    },
    {
     "name": "stdout",
     "output_type": "stream",
     "text": [
      "no predictions for /media/choppy/WD_BLACK/datasets/FLICKR/attack/ronda3/F_screen_tablet_fijo/F20305_screen_tablet_fijo_20220217230450.jpg, please check.\n"
     ]
    },
    {
     "name": "stderr",
     "output_type": "stream",
     "text": [
      "flickr:  43%|███████████████████████████████████████████████████████████████████▍                                                                                         | 6011/14000 [1:12:48<1:38:58,  1.35it/s]"
     ]
    },
    {
     "name": "stdout",
     "output_type": "stream",
     "text": [
      "more than one face detected in img: /media/choppy/WD_BLACK/datasets/FLICKR/attack/ronda4/F_print_brillante_curvado/F08443_print_brillante_curvado_20220427033230.jpg, but only the biggest is stored\n"
     ]
    },
    {
     "name": "stderr",
     "output_type": "stream",
     "text": [
      "flickr:  43%|████████████████████████████████████████████████████████████████████▏                                                                                        | 6080/14000 [1:13:55<2:49:08,  1.28s/it]"
     ]
    },
    {
     "name": "stdout",
     "output_type": "stream",
     "text": [
      "more than one face detected in img: /media/choppy/WD_BLACK/datasets/FLICKR/attack/ronda4/F_print_brillante_curvado/F16230_print_brillante_curvado_20220427200818.jpg, but only the biggest is stored\n"
     ]
    },
    {
     "name": "stderr",
     "output_type": "stream",
     "text": [
      "flickr:  44%|████████████████████████████████████████████████████████████████████▉                                                                                        | 6145/14000 [1:15:12<1:34:06,  1.39it/s]"
     ]
    },
    {
     "name": "stdout",
     "output_type": "stream",
     "text": [
      "more than one face detected in img: /media/choppy/WD_BLACK/datasets/FLICKR/attack/ronda4/F_print_brillante_curvado/F12155_print_brillante_curvado_20220426213403.jpg, but only the biggest is stored\n"
     ]
    },
    {
     "name": "stderr",
     "output_type": "stream",
     "text": [
      "flickr:  44%|████████████████████████████████████████████████████████████████████▉                                                                                        | 6147/14000 [1:15:13<1:31:33,  1.43it/s]"
     ]
    },
    {
     "name": "stdout",
     "output_type": "stream",
     "text": [
      "no predictions for /media/choppy/WD_BLACK/datasets/FLICKR/attack/ronda4/F_print_brillante_curvado/F12157_print_brillante_curvado_20220426213201.jpg, please check.\n"
     ]
    },
    {
     "name": "stderr",
     "output_type": "stream",
     "text": [
      "flickr:  44%|█████████████████████████████████████████████████████████████████████                                                                                        | 6159/14000 [1:15:28<2:59:38,  1.37s/it]"
     ]
    },
    {
     "name": "stdout",
     "output_type": "stream",
     "text": [
      "more than one face detected in img: /media/choppy/WD_BLACK/datasets/FLICKR/attack/ronda4/F_print_brillante_curvado/F16067_print_brillante_curvado_20220427030125.jpg, but only the biggest is stored\n"
     ]
    },
    {
     "name": "stderr",
     "output_type": "stream",
     "text": [
      "flickr:  44%|█████████████████████████████████████████████████████████████████████▊                                                                                       | 6220/14000 [1:16:53<2:52:23,  1.33s/it]"
     ]
    },
    {
     "name": "stdout",
     "output_type": "stream",
     "text": [
      "no predictions for /media/choppy/WD_BLACK/datasets/FLICKR/attack/ronda4/F_print_brillante_curvado/F12341_print_brillante_curvado_20220430035046.jpg, please check.\n"
     ]
    },
    {
     "name": "stderr",
     "output_type": "stream",
     "text": [
      "flickr:  45%|█████████████████████████████████████████████████████████████████████▉                                                                                       | 6241/14000 [1:17:17<1:39:39,  1.30it/s]"
     ]
    },
    {
     "name": "stdout",
     "output_type": "stream",
     "text": [
      "more than one face detected in img: /media/choppy/WD_BLACK/datasets/FLICKR/attack/ronda4/F_print_brillante_curvado/F08769_print_brillante_curvado_20220427011756.jpg, but only the biggest is stored\n"
     ]
    },
    {
     "name": "stderr",
     "output_type": "stream",
     "text": [
      "flickr:  45%|██████████████████████████████████████████████████████████████████████                                                                                       | 6248/14000 [1:17:23<1:34:54,  1.36it/s]"
     ]
    },
    {
     "name": "stdout",
     "output_type": "stream",
     "text": [
      "more than one face detected in img: /media/choppy/WD_BLACK/datasets/FLICKR/attack/ronda4/F_print_brillante_curvado/F08568_print_brillante_curvado_20220427025136.jpg, but only the biggest is stored\n"
     ]
    },
    {
     "name": "stderr",
     "output_type": "stream",
     "text": [
      "flickr:  45%|██████████████████████████████████████████████████████████████████████▍                                                                                      | 6278/14000 [1:17:57<2:51:51,  1.34s/it]"
     ]
    },
    {
     "name": "stdout",
     "output_type": "stream",
     "text": [
      "no predictions for /media/choppy/WD_BLACK/datasets/FLICKR/attack/ronda4/F_print_brillante_curvado/F16318_print_brillante_curvado_20220427204854.jpg, please check.\n"
     ]
    },
    {
     "name": "stderr",
     "output_type": "stream",
     "text": [
      "flickr:  45%|██████████████████████████████████████████████████████████████████████▉                                                                                      | 6326/14000 [1:19:04<3:00:28,  1.41s/it]"
     ]
    },
    {
     "name": "stdout",
     "output_type": "stream",
     "text": [
      "more than one face detected in img: /media/choppy/WD_BLACK/datasets/FLICKR/attack/ronda4/F_print_brillante_curvado/F12272_print_brillante_curvado_20220430031331.jpg, but only the biggest is stored\n"
     ]
    },
    {
     "name": "stderr",
     "output_type": "stream",
     "text": [
      "flickr:  46%|███████████████████████████████████████████████████████████████████████▉                                                                                     | 6414/14000 [1:20:40<2:38:02,  1.25s/it]"
     ]
    },
    {
     "name": "stdout",
     "output_type": "stream",
     "text": [
      "more than one face detected in img: /media/choppy/WD_BLACK/datasets/FLICKR/attack/ronda4/F_print_brillante_curvado/F16530_print_brillante_curvado_20220428002749.jpg, but only the biggest is stored\n"
     ]
    },
    {
     "name": "stderr",
     "output_type": "stream",
     "text": [
      "flickr:  46%|████████████████████████████████████████████████████████████████████████                                                                                     | 6423/14000 [1:20:53<3:08:09,  1.49s/it]"
     ]
    },
    {
     "name": "stdout",
     "output_type": "stream",
     "text": [
      "more than one face detected in img: /media/choppy/WD_BLACK/datasets/FLICKR/attack/ronda4/F_print_brillante_curvado/F16554_print_brillante_curvado_20220428003634.jpg, but only the biggest is stored\n"
     ]
    },
    {
     "name": "stderr",
     "output_type": "stream",
     "text": [
      "flickr:  46%|████████████████████████████████████████████████████████████████████████                                                                                     | 6428/14000 [1:20:59<2:26:16,  1.16s/it]"
     ]
    },
    {
     "name": "stdout",
     "output_type": "stream",
     "text": [
      "no predictions for /media/choppy/WD_BLACK/datasets/FLICKR/attack/ronda4/F_print_brillante_curvado/F12064_print_brillante_curvado_20220426222511.jpg, please check.\n"
     ]
    },
    {
     "name": "stderr",
     "output_type": "stream",
     "text": [
      "flickr:  46%|████████████████████████████████████████████████████████████████████████▍                                                                                    | 6462/14000 [1:21:39<2:50:45,  1.36s/it]"
     ]
    },
    {
     "name": "stdout",
     "output_type": "stream",
     "text": [
      "more than one face detected in img: /media/choppy/WD_BLACK/datasets/FLICKR/attack/ronda4/F_print_brillante_curvado/F12455_print_brillante_curvado_20220430211419.jpg, but only the biggest is stored\n"
     ]
    },
    {
     "name": "stderr",
     "output_type": "stream",
     "text": [
      "flickr:  47%|█████████████████████████████████████████████████████████████████████████                                                                                    | 6516/14000 [1:22:54<2:43:15,  1.31s/it]"
     ]
    },
    {
     "name": "stdout",
     "output_type": "stream",
     "text": [
      "no predictions for /media/choppy/WD_BLACK/datasets/FLICKR/attack/ronda4/F_print_brillante_curvado/F16092_print_brillante_curvado_20220427174845.jpg, please check.\n"
     ]
    },
    {
     "name": "stderr",
     "output_type": "stream",
     "text": [
      "flickr:  47%|█████████████████████████████████████████████████████████████████████████▊                                                                                   | 6582/14000 [1:24:01<1:24:40,  1.46it/s]"
     ]
    },
    {
     "name": "stdout",
     "output_type": "stream",
     "text": [
      "no predictions for /media/choppy/WD_BLACK/datasets/FLICKR/attack/ronda4/F_print_brillante_curvado/F12238_print_brillante_curvado_20220426205514.jpg, please check.\n"
     ]
    },
    {
     "name": "stderr",
     "output_type": "stream",
     "text": [
      "flickr:  47%|██████████████████████████████████████████████████████████████████████████▍                                                                                  | 6634/14000 [1:24:49<1:35:54,  1.28it/s]"
     ]
    },
    {
     "name": "stdout",
     "output_type": "stream",
     "text": [
      "no predictions for /media/choppy/WD_BLACK/datasets/FLICKR/attack/ronda4/F_print_brillante_curvado/F08880_print_brillante_curvado_20220427000916.jpg, please check.\n"
     ]
    },
    {
     "name": "stderr",
     "output_type": "stream",
     "text": [
      "flickr:  48%|██████████████████████████████████████████████████████████████████████████▉                                                                                  | 6681/14000 [1:25:46<2:47:06,  1.37s/it]"
     ]
    },
    {
     "name": "stdout",
     "output_type": "stream",
     "text": [
      "no predictions for /media/choppy/WD_BLACK/datasets/FLICKR/attack/ronda4/F_print_brillante_curvado/F12860_print_brillante_curvado_20220502012547.jpg, please check.\n"
     ]
    },
    {
     "name": "stderr",
     "output_type": "stream",
     "text": [
      "flickr:  48%|███████████████████████████████████████████████████████████████████████████▏                                                                                 | 6700/14000 [1:26:12<2:40:07,  1.32s/it]"
     ]
    },
    {
     "name": "stdout",
     "output_type": "stream",
     "text": [
      "no predictions for /media/choppy/WD_BLACK/datasets/FLICKR/attack/ronda4/F_print_brillante_curvado/F16483_print_brillante_curvado_20220427222118.jpg, please check.\n"
     ]
    },
    {
     "name": "stderr",
     "output_type": "stream",
     "text": [
      "flickr:  48%|███████████████████████████████████████████████████████████████████████████▌                                                                                 | 6737/14000 [1:27:03<2:47:26,  1.38s/it]"
     ]
    },
    {
     "name": "stdout",
     "output_type": "stream",
     "text": [
      "no predictions for /media/choppy/WD_BLACK/datasets/FLICKR/attack/ronda4/F_print_brillante_curvado/F16415_print_brillante_curvado_20220427215016.jpg, please check.\n"
     ]
    },
    {
     "name": "stderr",
     "output_type": "stream",
     "text": [
      "flickr:  48%|███████████████████████████████████████████████████████████████████████████▊                                                                                 | 6762/14000 [1:27:38<2:43:13,  1.35s/it]"
     ]
    },
    {
     "name": "stdout",
     "output_type": "stream",
     "text": [
      "no predictions for /media/choppy/WD_BLACK/datasets/FLICKR/attack/ronda4/F_print_brillante_curvado/F16351_print_brillante_curvado_20220427211839.jpg, please check.\n"
     ]
    },
    {
     "name": "stderr",
     "output_type": "stream",
     "text": [
      "flickr:  48%|████████████████████████████████████████████████████████████████████████████                                                                                 | 6785/14000 [1:28:10<2:40:06,  1.33s/it]"
     ]
    },
    {
     "name": "stdout",
     "output_type": "stream",
     "text": [
      "no predictions for /media/choppy/WD_BLACK/datasets/FLICKR/attack/ronda4/F_print_brillante_curvado/F16625_print_brillante_curvado_20220428010941.jpg, please check.\n"
     ]
    },
    {
     "name": "stderr",
     "output_type": "stream",
     "text": [
      "flickr:  49%|█████████████████████████████████████████████████████████████████████████████▏                                                                               | 6883/14000 [1:30:17<2:44:49,  1.39s/it]"
     ]
    },
    {
     "name": "stdout",
     "output_type": "stream",
     "text": [
      "more than one face detected in img: /media/choppy/WD_BLACK/datasets/FLICKR/attack/ronda4/F_print_brillante_curvado/F12968_print_brillante_curvado_20220502015750.jpg, but only the biggest is stored\n"
     ]
    },
    {
     "name": "stderr",
     "output_type": "stream",
     "text": [
      "flickr:  49%|█████████████████████████████████████████████████████████████████████████████▎                                                                               | 6890/14000 [1:30:27<2:38:11,  1.33s/it]"
     ]
    },
    {
     "name": "stdout",
     "output_type": "stream",
     "text": [
      "no predictions for /media/choppy/WD_BLACK/datasets/FLICKR/attack/ronda4/F_print_brillante_curvado/F16209_print_brillante_curvado_20220427194414.jpg, please check.\n"
     ]
    },
    {
     "name": "stderr",
     "output_type": "stream",
     "text": [
      "flickr:  50%|██████████████████████████████████████████████████████████████████████████████▏                                                                              | 6967/14000 [1:31:36<1:25:57,  1.36it/s]"
     ]
    },
    {
     "name": "stdout",
     "output_type": "stream",
     "text": [
      "no predictions for /media/choppy/WD_BLACK/datasets/FLICKR/attack/ronda4/F_print_brillante_curvado/F12013_print_brillante_curvado_20220426224142.jpg, please check.\n"
     ]
    },
    {
     "name": "stderr",
     "output_type": "stream",
     "text": [
      "flickr:  50%|██████████████████████████████████████████████████████████████████████████████▌                                                                              | 7009/14000 [1:32:13<1:12:27,  1.61it/s]"
     ]
    },
    {
     "name": "stdout",
     "output_type": "stream",
     "text": [
      "no predictions for /media/choppy/WD_BLACK/datasets/FLICKR/attack/ronda4/F_print_normal_curvado/F16756_print_normal_curvado_20220301200811.jpg, please check.\n"
     ]
    },
    {
     "name": "stderr",
     "output_type": "stream",
     "text": [
      "flickr:  50%|██████████████████████████████████████████████████████████████████████████████▋                                                                              | 7021/14000 [1:32:19<1:05:06,  1.79it/s]"
     ]
    },
    {
     "name": "stdout",
     "output_type": "stream",
     "text": [
      "no predictions for /media/choppy/WD_BLACK/datasets/FLICKR/attack/ronda4/F_print_normal_curvado/F20967_print_normal_curvado_20220302142001.jpg, please check.\n"
     ]
    },
    {
     "name": "stderr",
     "output_type": "stream",
     "text": [
      "flickr:  50%|██████████████████████████████████████████████████████████████████████████████▊                                                                              | 7032/14000 [1:32:25<1:04:43,  1.79it/s]"
     ]
    },
    {
     "name": "stdout",
     "output_type": "stream",
     "text": [
      "no predictions for /media/choppy/WD_BLACK/datasets/FLICKR/attack/ronda4/F_print_normal_curvado/F20600_print_normal_curvado_20220301003024.jpg, please check.\n"
     ]
    },
    {
     "name": "stderr",
     "output_type": "stream",
     "text": [
      "flickr:  50%|███████████████████████████████████████████████████████████████████████████████▏                                                                             | 7057/14000 [1:32:39<1:05:48,  1.76it/s]"
     ]
    },
    {
     "name": "stdout",
     "output_type": "stream",
     "text": [
      "more than one face detected in img: /media/choppy/WD_BLACK/datasets/FLICKR/attack/ronda4/F_print_normal_curvado/F16947_print_normal_curvado_20220302010313.jpg, but only the biggest is stored\n"
     ]
    },
    {
     "name": "stderr",
     "output_type": "stream",
     "text": [
      "flickr:  51%|███████████████████████████████████████████████████████████████████████████████▊                                                                             | 7118/14000 [1:33:14<1:02:21,  1.84it/s]"
     ]
    },
    {
     "name": "stdout",
     "output_type": "stream",
     "text": [
      "no predictions for /media/choppy/WD_BLACK/datasets/FLICKR/attack/ronda4/F_print_normal_curvado/F24280_print_normal_curvado_20220302002433.jpg, please check.\n"
     ]
    },
    {
     "name": "stderr",
     "output_type": "stream",
     "text": [
      "flickr:  51%|████████████████████████████████████████████████████████████████████████████████▏                                                                            | 7146/14000 [1:33:30<1:05:22,  1.75it/s]"
     ]
    },
    {
     "name": "stdout",
     "output_type": "stream",
     "text": [
      "no predictions for /media/choppy/WD_BLACK/datasets/FLICKR/attack/ronda4/F_print_normal_curvado/F16873_print_normal_curvado_20220302004704.jpg, please check.\n"
     ]
    },
    {
     "name": "stderr",
     "output_type": "stream",
     "text": [
      "flickr:  51%|████████████████████████████████████████████████████████████████████████████████▏                                                                            | 7150/14000 [1:33:32<1:03:14,  1.81it/s]"
     ]
    },
    {
     "name": "stdout",
     "output_type": "stream",
     "text": [
      "more than one face detected in img: /media/choppy/WD_BLACK/datasets/FLICKR/attack/ronda4/F_print_normal_curvado/F16883_print_normal_curvado_20220301195228.jpg, but only the biggest is stored\n"
     ]
    },
    {
     "name": "stderr",
     "output_type": "stream",
     "text": [
      "flickr:  51%|████████████████████████████████████████████████████████████████████████████████▍                                                                            | 7175/14000 [1:33:46<1:01:21,  1.85it/s]"
     ]
    },
    {
     "name": "stdout",
     "output_type": "stream",
     "text": [
      "no predictions for /media/choppy/WD_BLACK/datasets/FLICKR/attack/ronda4/F_print_normal_curvado/F24636_print_normal_curvado_20220227222944.jpg, please check.\n"
     ]
    },
    {
     "name": "stderr",
     "output_type": "stream",
     "text": [
      "flickr:  51%|████████████████████████████████████████████████████████████████████████████████▌                                                                            | 7181/14000 [1:33:49<1:00:34,  1.88it/s]"
     ]
    },
    {
     "name": "stdout",
     "output_type": "stream",
     "text": [
      "more than one face detected in img: /media/choppy/WD_BLACK/datasets/FLICKR/attack/ronda4/F_print_normal_curvado/F20784_print_normal_curvado_20220228214745.jpg, but only the biggest is stored\n"
     ]
    },
    {
     "name": "stderr",
     "output_type": "stream",
     "text": [
      "flickr:  51%|████████████████████████████████████████████████████████████████████████████████▌                                                                            | 7182/14000 [1:33:50<1:00:33,  1.88it/s]"
     ]
    },
    {
     "name": "stdout",
     "output_type": "stream",
     "text": [
      "no predictions for /media/choppy/WD_BLACK/datasets/FLICKR/attack/ronda4/F_print_normal_curvado/F20787_print_normal_curvado_20220228214908.jpg, please check.\n"
     ]
    },
    {
     "name": "stderr",
     "output_type": "stream",
     "text": [
      "flickr:  51%|████████████████████████████████████████████████████████████████████████████████▋                                                                            | 7193/14000 [1:33:56<1:02:40,  1.81it/s]"
     ]
    },
    {
     "name": "stdout",
     "output_type": "stream",
     "text": [
      "no predictions for /media/choppy/WD_BLACK/datasets/FLICKR/attack/ronda4/F_print_normal_curvado/F20805_print_normal_curvado_20220302012317.jpg, please check.\n"
     ]
    },
    {
     "name": "stderr",
     "output_type": "stream",
     "text": [
      "flickr:  52%|█████████████████████████████████████████████████████████████████████████████████▌                                                                           | 7269/14000 [1:34:39<1:00:12,  1.86it/s]"
     ]
    },
    {
     "name": "stdout",
     "output_type": "stream",
     "text": [
      "no predictions for /media/choppy/WD_BLACK/datasets/FLICKR/attack/ronda4/F_print_normal_curvado/F20722_print_normal_curvado_20220227222259.jpg, please check.\n"
     ]
    },
    {
     "name": "stderr",
     "output_type": "stream",
     "text": [
      "flickr:  52%|█████████████████████████████████████████████████████████████████████████████████▉                                                                           | 7312/14000 [1:35:02<1:02:47,  1.78it/s]"
     ]
    },
    {
     "name": "stdout",
     "output_type": "stream",
     "text": [
      "no predictions for /media/choppy/WD_BLACK/datasets/FLICKR/attack/ronda4/F_print_normal_curvado/F24203_print_normal_curvado_20220302215856.jpg, please check.\n"
     ]
    },
    {
     "name": "stderr",
     "output_type": "stream",
     "text": [
      "flickr:  53%|███████████████████████████████████████████████████████████████████████████████████▊                                                                           | 7375/14000 [1:35:37<59:59,  1.84it/s]"
     ]
    },
    {
     "name": "stdout",
     "output_type": "stream",
     "text": [
      "no predictions for /media/choppy/WD_BLACK/datasets/FLICKR/attack/ronda4/F_print_normal_curvado/F24335_print_normal_curvado_20220302220711.jpg, please check.\n"
     ]
    },
    {
     "name": "stderr",
     "output_type": "stream",
     "text": [
      "flickr:  53%|██████████████████████████████████████████████████████████████████████████████████▊                                                                          | 7379/14000 [1:35:39<1:00:35,  1.82it/s]"
     ]
    },
    {
     "name": "stdout",
     "output_type": "stream",
     "text": [
      "no predictions for /media/choppy/WD_BLACK/datasets/FLICKR/attack/ronda4/F_print_normal_curvado/F24342_print_normal_curvado_20220302002514.jpg, please check.\n"
     ]
    },
    {
     "name": "stderr",
     "output_type": "stream",
     "text": [
      "flickr:  53%|██████████████████████████████████████████████████████████████████████████████████▊                                                                          | 7388/14000 [1:35:45<1:07:15,  1.64it/s]"
     ]
    },
    {
     "name": "stdout",
     "output_type": "stream",
     "text": [
      "no predictions for /media/choppy/WD_BLACK/datasets/FLICKR/attack/ronda4/F_print_normal_curvado/F24006_print_normal_curvado_20220302151211.jpg, please check.\n"
     ]
    },
    {
     "name": "stderr",
     "output_type": "stream",
     "text": [
      "flickr:  53%|███████████████████████████████████████████████████████████████████████████████████▌                                                                         | 7448/14000 [1:36:18<1:03:01,  1.73it/s]"
     ]
    },
    {
     "name": "stdout",
     "output_type": "stream",
     "text": [
      "no predictions for /media/choppy/WD_BLACK/datasets/FLICKR/attack/ronda4/F_print_normal_curvado/F28012_print_normal_curvado_20220228200520.jpg, please check.\n"
     ]
    },
    {
     "name": "stderr",
     "output_type": "stream",
     "text": [
      "flickr:  54%|████████████████████████████████████████████████████████████████████████████████████▍                                                                        | 7527/14000 [1:37:03<1:01:25,  1.76it/s]"
     ]
    },
    {
     "name": "stdout",
     "output_type": "stream",
     "text": [
      "no predictions for /media/choppy/WD_BLACK/datasets/FLICKR/attack/ronda4/F_print_normal_curvado/F24478_print_normal_curvado_20220227210602.jpg, please check.\n"
     ]
    },
    {
     "name": "stderr",
     "output_type": "stream",
     "text": [
      "flickr:  54%|████████████████████████████████████████████████████████████████████████████████████▌                                                                        | 7542/14000 [1:37:12<1:00:24,  1.78it/s]"
     ]
    },
    {
     "name": "stdout",
     "output_type": "stream",
     "text": [
      "more than one face detected in img: /media/choppy/WD_BLACK/datasets/FLICKR/attack/ronda4/F_print_normal_curvado/F24145_print_normal_curvado_20220302215728.jpg, but only the biggest is stored\n"
     ]
    },
    {
     "name": "stderr",
     "output_type": "stream",
     "text": [
      "flickr:  54%|██████████████████████████████████████████████████████████████████████████████████████▎                                                                        | 7599/14000 [1:37:44<59:38,  1.79it/s]"
     ]
    },
    {
     "name": "stdout",
     "output_type": "stream",
     "text": [
      "no predictions for /media/choppy/WD_BLACK/datasets/FLICKR/attack/ronda4/F_print_normal_curvado/F24595_print_normal_curvado_20220227222437.jpg, please check.\n"
     ]
    },
    {
     "name": "stderr",
     "output_type": "stream",
     "text": [
      "flickr:  54%|█████████████████████████████████████████████████████████████████████████████████████▍                                                                       | 7616/14000 [1:37:54<1:02:11,  1.71it/s]"
     ]
    },
    {
     "name": "stdout",
     "output_type": "stream",
     "text": [
      "more than one face detected in img: /media/choppy/WD_BLACK/datasets/FLICKR/attack/ronda4/F_print_normal_curvado/F20858_print_normal_curvado_20220302012012.jpg, but only the biggest is stored\n"
     ]
    },
    {
     "name": "stderr",
     "output_type": "stream",
     "text": [
      "flickr:  54%|██████████████████████████████████████████████████████████████████████████████████████▌                                                                        | 7625/14000 [1:37:59<59:15,  1.79it/s]"
     ]
    },
    {
     "name": "stdout",
     "output_type": "stream",
     "text": [
      "no predictions for /media/choppy/WD_BLACK/datasets/FLICKR/attack/ronda4/F_print_normal_curvado/F24738_print_normal_curvado_20220228201739.jpg, please check.\n"
     ]
    },
    {
     "name": "stderr",
     "output_type": "stream",
     "text": [
      "flickr:  55%|█████████████████████████████████████████████████████████████████████████████████████▊                                                                       | 7657/14000 [1:38:17<1:00:26,  1.75it/s]"
     ]
    },
    {
     "name": "stdout",
     "output_type": "stream",
     "text": [
      "no predictions for /media/choppy/WD_BLACK/datasets/FLICKR/attack/ronda4/F_print_normal_curvado/F24261_print_normal_curvado_20220302220616.jpg, please check.\n"
     ]
    },
    {
     "name": "stderr",
     "output_type": "stream",
     "text": [
      "flickr:  55%|███████████████████████████████████████████████████████████████████████████████████████▎                                                                       | 7685/14000 [1:38:33<59:36,  1.77it/s]"
     ]
    },
    {
     "name": "stdout",
     "output_type": "stream",
     "text": [
      "more than one face detected in img: /media/choppy/WD_BLACK/datasets/FLICKR/attack/ronda4/F_print_normal_curvado/F20153_print_normal_curvado_20220302014902.jpg, but only the biggest is stored\n"
     ]
    },
    {
     "name": "stderr",
     "output_type": "stream",
     "text": [
      "flickr:  55%|███████████████████████████████████████████████████████████████████████████████████████▌                                                                       | 7706/14000 [1:38:45<57:42,  1.82it/s]"
     ]
    },
    {
     "name": "stdout",
     "output_type": "stream",
     "text": [
      "more than one face detected in img: /media/choppy/WD_BLACK/datasets/FLICKR/attack/ronda4/F_print_normal_curvado/F16854_print_normal_curvado_20220302011019.jpg, but only the biggest is stored\n"
     ]
    },
    {
     "name": "stderr",
     "output_type": "stream",
     "text": [
      "flickr:  56%|████████████████████████████████████████████████████████████████████████████████████████▌                                                                      | 7802/14000 [1:39:38<55:24,  1.86it/s]"
     ]
    },
    {
     "name": "stdout",
     "output_type": "stream",
     "text": [
      "no predictions for /media/choppy/WD_BLACK/datasets/FLICKR/attack/ronda4/F_print_normal_curvado/F24947_print_normal_curvado_20220228220625.jpg, please check.\n"
     ]
    },
    {
     "name": "stderr",
     "output_type": "stream",
     "text": [
      "flickr:  56%|█████████████████████████████████████████████████████████████████████████████████████████                                                                      | 7841/14000 [1:40:01<59:08,  1.74it/s]"
     ]
    },
    {
     "name": "stdout",
     "output_type": "stream",
     "text": [
      "no predictions for /media/choppy/WD_BLACK/datasets/FLICKR/attack/ronda4/F_print_normal_curvado/F20200_print_normal_curvado_20220301230004.jpg, please check.\n"
     ]
    },
    {
     "name": "stderr",
     "output_type": "stream",
     "text": [
      "flickr:  56%|█████████████████████████████████████████████████████████████████████████████████████████▌                                                                     | 7891/14000 [1:40:28<57:53,  1.76it/s]"
     ]
    },
    {
     "name": "stdout",
     "output_type": "stream",
     "text": [
      "more than one face detected in img: /media/choppy/WD_BLACK/datasets/FLICKR/attack/ronda4/F_print_normal_curvado/F28015_print_normal_curvado_20220301004000.jpg, but only the biggest is stored\n"
     ]
    },
    {
     "name": "stderr",
     "output_type": "stream",
     "text": [
      "flickr:  56%|█████████████████████████████████████████████████████████████████████████████████████████▊                                                                     | 7908/14000 [1:40:38<56:41,  1.79it/s]"
     ]
    },
    {
     "name": "stdout",
     "output_type": "stream",
     "text": [
      "no predictions for /media/choppy/WD_BLACK/datasets/FLICKR/attack/ronda4/F_print_normal_curvado/F24376_print_normal_curvado_20220227210459.jpg, please check.\n"
     ]
    },
    {
     "name": "stderr",
     "output_type": "stream",
     "text": [
      "flickr:  57%|██████████████████████████████████████████████████████████████████████████████████████████▌                                                                    | 7971/14000 [1:41:13<55:52,  1.80it/s]"
     ]
    },
    {
     "name": "stdout",
     "output_type": "stream",
     "text": [
      "no predictions for /media/choppy/WD_BLACK/datasets/FLICKR/attack/ronda4/F_print_normal_curvado/F16982_print_normal_curvado_20220302020258.jpg, please check.\n"
     ]
    },
    {
     "name": "stderr",
     "output_type": "stream",
     "text": [
      "flickr:  57%|██████████████████████████████████████████████████████████████████████████████████████████▊                                                                    | 7995/14000 [1:41:27<57:17,  1.75it/s]"
     ]
    },
    {
     "name": "stdout",
     "output_type": "stream",
     "text": [
      "no predictions for /media/choppy/WD_BLACK/datasets/FLICKR/attack/ronda4/F_print_normal_curvado/F20526_print_normal_curvado_20220301001246.jpg, please check.\n"
     ]
    },
    {
     "name": "stderr",
     "output_type": "stream",
     "text": [
      "flickr:  57%|██████████████████████████████████████████████████████████████████████████████████████████▉                                                                    | 8004/14000 [1:41:32<56:23,  1.77it/s]"
     ]
    },
    {
     "name": "stdout",
     "output_type": "stream",
     "text": [
      "more than one face detected in img: /media/choppy/WD_BLACK/datasets/FLICKR/attack/ronda4/F_print_opaco_curvado/F00011_print_opaco_curvado_20220326212942.jpg, but only the biggest is stored\n"
     ]
    },
    {
     "name": "stderr",
     "output_type": "stream",
     "text": [
      "flickr:  57%|██████████████████████████████████████████████████████████████████████████████████████████▉                                                                    | 8011/14000 [1:41:36<55:53,  1.79it/s]"
     ]
    },
    {
     "name": "stdout",
     "output_type": "stream",
     "text": [
      "more than one face detected in img: /media/choppy/WD_BLACK/datasets/FLICKR/attack/ronda4/F_print_opaco_curvado/F00023_print_opaco_curvado_20220327204057.jpg, but only the biggest is stored\n"
     ]
    },
    {
     "name": "stderr",
     "output_type": "stream",
     "text": [
      "flickr:  57%|███████████████████████████████████████████████████████████████████████████████████████████                                                                    | 8023/14000 [1:41:43<55:08,  1.81it/s]"
     ]
    },
    {
     "name": "stdout",
     "output_type": "stream",
     "text": [
      "more than one face detected in img: /media/choppy/WD_BLACK/datasets/FLICKR/attack/ronda4/F_print_opaco_curvado/F04576_print_opaco_curvado_20220327145745.jpg, but only the biggest is stored\n"
     ]
    },
    {
     "name": "stderr",
     "output_type": "stream",
     "text": [
      "flickr:  58%|███████████████████████████████████████████████████████████████████████████████████████████▌                                                                   | 8059/14000 [1:42:04<56:39,  1.75it/s]"
     ]
    },
    {
     "name": "stdout",
     "output_type": "stream",
     "text": [
      "more than one face detected in img: /media/choppy/WD_BLACK/datasets/FLICKR/attack/ronda4/F_print_opaco_curvado/F00046_print_opaco_curvado_20220326215447.jpg, but only the biggest is stored\n"
     ]
    },
    {
     "name": "stderr",
     "output_type": "stream",
     "text": [
      "flickr:  58%|███████████████████████████████████████████████████████████████████████████████████████████▉                                                                   | 8094/14000 [1:42:23<53:40,  1.83it/s]"
     ]
    },
    {
     "name": "stdout",
     "output_type": "stream",
     "text": [
      "no predictions for /media/choppy/WD_BLACK/datasets/FLICKR/attack/ronda4/F_print_opaco_curvado/F04840_print_opaco_curvado_20220326224506.jpg, please check.\n"
     ]
    },
    {
     "name": "stderr",
     "output_type": "stream",
     "text": [
      "flickr:  58%|███████████████████████████████████████████████████████████████████████████████████████████▉                                                                   | 8097/14000 [1:42:24<53:18,  1.85it/s]"
     ]
    },
    {
     "name": "stdout",
     "output_type": "stream",
     "text": [
      "more than one face detected in img: /media/choppy/WD_BLACK/datasets/FLICKR/attack/ronda4/F_print_opaco_curvado/F04850_print_opaco_curvado_20220326224629.jpg, but only the biggest is stored\n"
     ]
    },
    {
     "name": "stderr",
     "output_type": "stream",
     "text": [
      "flickr:  58%|████████████████████████████████████████████████████████████████████████████████████████████▎                                                                  | 8133/14000 [1:42:45<55:15,  1.77it/s]"
     ]
    },
    {
     "name": "stdout",
     "output_type": "stream",
     "text": [
      "no predictions for /media/choppy/WD_BLACK/datasets/FLICKR/attack/ronda4/F_print_opaco_curvado/F04289_print_opaco_curvado_20220327160016.jpg, please check.\n"
     ]
    },
    {
     "name": "stderr",
     "output_type": "stream",
     "text": [
      "flickr:  59%|█████████████████████████████████████████████████████████████████████████████████████████████                                                                  | 8195/14000 [1:43:19<54:54,  1.76it/s]"
     ]
    },
    {
     "name": "stdout",
     "output_type": "stream",
     "text": [
      "more than one face detected in img: /media/choppy/WD_BLACK/datasets/FLICKR/attack/ronda4/F_print_opaco_curvado/F04731_print_opaco_curvado_20220326225716.jpg, but only the biggest is stored\n"
     ]
    },
    {
     "name": "stderr",
     "output_type": "stream",
     "text": [
      "flickr:  59%|█████████████████████████████████████████████████████████████████████████████████████████████▎                                                                 | 8215/14000 [1:43:30<52:39,  1.83it/s]"
     ]
    },
    {
     "name": "stdout",
     "output_type": "stream",
     "text": [
      "no predictions for /media/choppy/WD_BLACK/datasets/FLICKR/attack/ronda4/F_print_opaco_curvado/F08280_print_opaco_curvado_20220327233003.jpg, please check.\n"
     ]
    },
    {
     "name": "stderr",
     "output_type": "stream",
     "text": [
      "flickr:  59%|█████████████████████████████████████████████████████████████████████████████████████████████▌                                                                 | 8241/14000 [1:43:45<52:49,  1.82it/s]"
     ]
    },
    {
     "name": "stdout",
     "output_type": "stream",
     "text": [
      "more than one face detected in img: /media/choppy/WD_BLACK/datasets/FLICKR/attack/ronda4/F_print_opaco_curvado/F04385_print_opaco_curvado_20220327203229.jpg, but only the biggest is stored\n"
     ]
    },
    {
     "name": "stderr",
     "output_type": "stream",
     "text": [
      "flickr:  59%|█████████████████████████████████████████████████████████████████████████████████████████████▊                                                                 | 8258/14000 [1:43:54<54:00,  1.77it/s]"
     ]
    },
    {
     "name": "stdout",
     "output_type": "stream",
     "text": [
      "more than one face detected in img: /media/choppy/WD_BLACK/datasets/FLICKR/attack/ronda4/F_print_opaco_curvado/F00541_print_opaco_curvado_20220327154410.jpg, but only the biggest is stored\n"
     ]
    },
    {
     "name": "stderr",
     "output_type": "stream",
     "text": [
      "flickr:  59%|██████████████████████████████████████████████████████████████████████████████████████████████                                                                 | 8279/14000 [1:44:07<57:09,  1.67it/s]"
     ]
    },
    {
     "name": "stdout",
     "output_type": "stream",
     "text": [
      "more than one face detected in img: /media/choppy/WD_BLACK/datasets/FLICKR/attack/ronda4/F_print_opaco_curvado/F04964_print_opaco_curvado_20220327211414.jpg, but only the biggest is stored\n"
     ]
    },
    {
     "name": "stderr",
     "output_type": "stream",
     "text": [
      "flickr:  59%|██████████████████████████████████████████████████████████████████████████████████████████████▎                                                                | 8307/14000 [1:44:23<52:42,  1.80it/s]"
     ]
    },
    {
     "name": "stdout",
     "output_type": "stream",
     "text": [
      "more than one face detected in img: /media/choppy/WD_BLACK/datasets/FLICKR/attack/ronda4/F_print_opaco_curvado/F04132_print_opaco_curvado_20220326210107.jpg, but only the biggest is stored\n"
     ]
    },
    {
     "name": "stderr",
     "output_type": "stream",
     "text": [
      "flickr:  60%|██████████████████████████████████████████████████████████████████████████████████████████████▉                                                                | 8355/14000 [1:44:51<55:35,  1.69it/s]"
     ]
    },
    {
     "name": "stdout",
     "output_type": "stream",
     "text": [
      "more than one face detected in img: /media/choppy/WD_BLACK/datasets/FLICKR/attack/ronda4/F_print_opaco_curvado/F00691_print_opaco_curvado_20220326211157.jpg, but only the biggest is stored\n"
     ]
    },
    {
     "name": "stderr",
     "output_type": "stream",
     "text": [
      "flickr:  60%|███████████████████████████████████████████████████████████████████████████████████████████████▏                                                               | 8382/14000 [1:45:06<52:32,  1.78it/s]"
     ]
    },
    {
     "name": "stdout",
     "output_type": "stream",
     "text": [
      "more than one face detected in img: /media/choppy/WD_BLACK/datasets/FLICKR/attack/ronda4/F_print_opaco_curvado/F00131_print_opaco_curvado_20220327204454.jpg, but only the biggest is stored\n"
     ]
    },
    {
     "name": "stderr",
     "output_type": "stream",
     "text": [
      "flickr:  60%|███████████████████████████████████████████████████████████████████████████████████████████████▍                                                               | 8399/14000 [1:45:16<52:50,  1.77it/s]"
     ]
    },
    {
     "name": "stdout",
     "output_type": "stream",
     "text": [
      "no predictions for /media/choppy/WD_BLACK/datasets/FLICKR/attack/ronda4/F_print_opaco_curvado/F08102_print_opaco_curvado_20220327010239.jpg, please check.\n"
     ]
    },
    {
     "name": "stderr",
     "output_type": "stream",
     "text": [
      "flickr:  60%|███████████████████████████████████████████████████████████████████████████████████████████████▉                                                               | 8443/14000 [1:45:41<52:52,  1.75it/s]"
     ]
    },
    {
     "name": "stdout",
     "output_type": "stream",
     "text": [
      "more than one face detected in img: /media/choppy/WD_BLACK/datasets/FLICKR/attack/ronda4/F_print_opaco_curvado/F08326_print_opaco_curvado_20220327233741.jpg, but only the biggest is stored\n"
     ]
    },
    {
     "name": "stderr",
     "output_type": "stream",
     "text": [
      "flickr:  60%|███████████████████████████████████████████████████████████████████████████████████████████████▉                                                               | 8449/14000 [1:45:45<52:33,  1.76it/s]"
     ]
    },
    {
     "name": "stdout",
     "output_type": "stream",
     "text": [
      "more than one face detected in img: /media/choppy/WD_BLACK/datasets/FLICKR/attack/ronda4/F_print_opaco_curvado/F08345_print_opaco_curvado_20220327234349.jpg, but only the biggest is stored\n"
     ]
    },
    {
     "name": "stderr",
     "output_type": "stream",
     "text": [
      "flickr:  61%|████████████████████████████████████████████████████████████████████████████████████████████████▊                                                              | 8520/14000 [1:46:24<53:19,  1.71it/s]"
     ]
    },
    {
     "name": "stdout",
     "output_type": "stream",
     "text": [
      "more than one face detected in img: /media/choppy/WD_BLACK/datasets/FLICKR/attack/ronda4/F_print_opaco_curvado/F04327_print_opaco_curvado_20220327204014.jpg, but only the biggest is stored\n"
     ]
    },
    {
     "name": "stderr",
     "output_type": "stream",
     "text": [
      "flickr:  61%|█████████████████████████████████████████████████████████████████████████████████████████████████                                                              | 8546/14000 [1:46:39<49:56,  1.82it/s]"
     ]
    },
    {
     "name": "stdout",
     "output_type": "stream",
     "text": [
      "more than one face detected in img: /media/choppy/WD_BLACK/datasets/FLICKR/attack/ronda4/F_print_opaco_curvado/F00996_print_opaco_curvado_20220326164656.jpg, but only the biggest is stored\n"
     ]
    },
    {
     "name": "stderr",
     "output_type": "stream",
     "text": [
      "flickr:  61%|█████████████████████████████████████████████████████████████████████████████████████████████████▌                                                             | 8595/14000 [1:47:07<52:52,  1.70it/s]"
     ]
    },
    {
     "name": "stdout",
     "output_type": "stream",
     "text": [
      "more than one face detected in img: /media/choppy/WD_BLACK/datasets/FLICKR/attack/ronda4/F_print_opaco_curvado/F00058_print_opaco_curvado_20220326215328.jpg, but only the biggest is stored\n"
     ]
    },
    {
     "name": "stderr",
     "output_type": "stream",
     "text": [
      "flickr:  62%|█████████████████████████████████████████████████████████████████████████████████████████████████▊                                                             | 8610/14000 [1:47:16<50:07,  1.79it/s]"
     ]
    },
    {
     "name": "stdout",
     "output_type": "stream",
     "text": [
      "more than one face detected in img: /media/choppy/WD_BLACK/datasets/FLICKR/attack/ronda4/F_print_opaco_curvado/F00582_print_opaco_curvado_20220327013930.jpg, but only the biggest is stored\n"
     ]
    },
    {
     "name": "stderr",
     "output_type": "stream",
     "text": [
      "flickr:  62%|█████████████████████████████████████████████████████████████████████████████████████████████████▉                                                             | 8621/14000 [1:47:22<47:53,  1.87it/s]"
     ]
    },
    {
     "name": "stdout",
     "output_type": "stream",
     "text": [
      "more than one face detected in img: /media/choppy/WD_BLACK/datasets/FLICKR/attack/ronda4/F_print_opaco_curvado/F00602_print_opaco_curvado_20220327012155.jpg, but only the biggest is stored\n"
     ]
    },
    {
     "name": "stderr",
     "output_type": "stream",
     "text": [
      "flickr:  62%|█████████████████████████████████████████████████████████████████████████████████████████████████▎                                                           | 8678/14000 [1:47:54<1:06:17,  1.34it/s]"
     ]
    },
    {
     "name": "stdout",
     "output_type": "stream",
     "text": [
      "more than one face detected in img: /media/choppy/WD_BLACK/datasets/FLICKR/attack/ronda4/F_print_opaco_curvado/F08070_print_opaco_curvado_20220327205305.jpg, but only the biggest is stored\n"
     ]
    },
    {
     "name": "stderr",
     "output_type": "stream",
     "text": [
      "flickr:  62%|██████████████████████████████████████████████████████████████████████████████████████████████████▉                                                            | 8714/14000 [1:48:14<48:22,  1.82it/s]"
     ]
    },
    {
     "name": "stdout",
     "output_type": "stream",
     "text": [
      "more than one face detected in img: /media/choppy/WD_BLACK/datasets/FLICKR/attack/ronda4/F_print_opaco_curvado/F04760_print_opaco_curvado_20220326222350.jpg, but only the biggest is stored\n"
     ]
    },
    {
     "name": "stderr",
     "output_type": "stream",
     "text": [
      "flickr:  63%|███████████████████████████████████████████████████████████████████████████████████████████████████▌                                                           | 8762/14000 [1:48:41<48:10,  1.81it/s]"
     ]
    },
    {
     "name": "stdout",
     "output_type": "stream",
     "text": [
      "more than one face detected in img: /media/choppy/WD_BLACK/datasets/FLICKR/attack/ronda4/F_print_opaco_curvado/F08003_print_opaco_curvado_20220327210215.jpg, but only the biggest is stored\n"
     ]
    },
    {
     "name": "stderr",
     "output_type": "stream",
     "text": [
      "flickr:  63%|███████████████████████████████████████████████████████████████████████████████████████████████████▋                                                           | 8783/14000 [1:48:53<47:42,  1.82it/s]"
     ]
    },
    {
     "name": "stdout",
     "output_type": "stream",
     "text": [
      "more than one face detected in img: /media/choppy/WD_BLACK/datasets/FLICKR/attack/ronda4/F_print_opaco_curvado/F00744_print_opaco_curvado_20220326211835.jpg, but only the biggest is stored\n"
     ]
    },
    {
     "name": "stderr",
     "output_type": "stream",
     "text": [
      "flickr:  63%|████████████████████████████████████████████████████████████████████████████████████████████████████                                                           | 8809/14000 [1:49:08<48:53,  1.77it/s]"
     ]
    },
    {
     "name": "stdout",
     "output_type": "stream",
     "text": [
      "more than one face detected in img: /media/choppy/WD_BLACK/datasets/FLICKR/attack/ronda4/F_print_opaco_curvado/F00248_print_opaco_curvado_20220327204659.jpg, but only the biggest is stored\n"
     ]
    },
    {
     "name": "stderr",
     "output_type": "stream",
     "text": [
      "flickr:  63%|████████████████████████████████████████████████████████████████████████████████████████████████████▎                                                          | 8833/14000 [1:49:22<51:51,  1.66it/s]"
     ]
    },
    {
     "name": "stdout",
     "output_type": "stream",
     "text": [
      "no predictions for /media/choppy/WD_BLACK/datasets/FLICKR/attack/ronda4/F_print_opaco_curvado/F04995_print_opaco_curvado_20220327210817.jpg, please check.\n"
     ]
    },
    {
     "name": "stderr",
     "output_type": "stream",
     "text": [
      "flickr:  64%|████████████████████████████████████████████████████████████████████████████████████████████████████▉                                                          | 8893/14000 [1:49:57<47:59,  1.77it/s]"
     ]
    },
    {
     "name": "stdout",
     "output_type": "stream",
     "text": [
      "more than one face detected in img: /media/choppy/WD_BLACK/datasets/FLICKR/attack/ronda4/F_print_opaco_curvado/F00458_print_opaco_curvado_20220327153533.jpg, but only the biggest is stored\n"
     ]
    },
    {
     "name": "stderr",
     "output_type": "stream",
     "text": [
      "flickr:  64%|█████████████████████████████████████████████████████████████████████████████████████████████████████                                                          | 8900/14000 [1:50:01<52:41,  1.61it/s]"
     ]
    },
    {
     "name": "stdout",
     "output_type": "stream",
     "text": [
      "more than one face detected in img: /media/choppy/WD_BLACK/datasets/FLICKR/attack/ronda4/F_print_opaco_curvado/F04443_print_opaco_curvado_20220327152204.jpg, but only the biggest is stored\n"
     ]
    },
    {
     "name": "stderr",
     "output_type": "stream",
     "text": [
      "flickr:  64%|█████████████████████████████████████████████████████████████████████████████████████████████████████▏                                                       | 9024/14000 [1:51:29<1:11:30,  1.16it/s]"
     ]
    },
    {
     "name": "stdout",
     "output_type": "stream",
     "text": [
      "more than one face detected in img: /media/choppy/WD_BLACK/datasets/FLICKR/attack/ronda4/F_screen_smartphone_mano/F12732_screen_smartphone_mano_20220504185410.jpg, but only the biggest is stored\n"
     ]
    },
    {
     "name": "stderr",
     "output_type": "stream",
     "text": [
      "flickr:  64%|█████████████████████████████████████████████████████████████████████████████████████████████████████▏                                                       | 9025/14000 [1:51:29<1:04:42,  1.28it/s]"
     ]
    },
    {
     "name": "stdout",
     "output_type": "stream",
     "text": [
      "no predictions for /media/choppy/WD_BLACK/datasets/FLICKR/attack/ronda4/F_screen_smartphone_mano/F12733_screen_smartphone_mano_20220504185459.jpg, please check.\n"
     ]
    },
    {
     "name": "stderr",
     "output_type": "stream",
     "text": [
      "flickr:  65%|█████████████████████████████████████████████████████████████████████████████████████████████████████▎                                                       | 9033/14000 [1:51:35<1:04:01,  1.29it/s]"
     ]
    },
    {
     "name": "stdout",
     "output_type": "stream",
     "text": [
      "more than one face detected in img: /media/choppy/WD_BLACK/datasets/FLICKR/attack/ronda4/F_screen_smartphone_mano/F12753_screen_smartphone_mano_20220504190125.jpg, but only the biggest is stored\n"
     ]
    },
    {
     "name": "stderr",
     "output_type": "stream",
     "text": [
      "flickr:  65%|██████████████████████████████████████████████████████████████████████████████████████████████████████▏                                                      | 9109/14000 [1:53:06<1:55:58,  1.42s/it]"
     ]
    },
    {
     "name": "stdout",
     "output_type": "stream",
     "text": [
      "more than one face detected in img: /media/choppy/WD_BLACK/datasets/FLICKR/attack/ronda4/F_screen_smartphone_mano/F08852_screen_smartphone_mano_20220504000216.jpg, but only the biggest is stored\n"
     ]
    },
    {
     "name": "stderr",
     "output_type": "stream",
     "text": [
      "flickr:  65%|██████████████████████████████████████████████████████████████████████████████████████████████████████▏                                                      | 9117/14000 [1:53:18<1:51:13,  1.37s/it]"
     ]
    },
    {
     "name": "stdout",
     "output_type": "stream",
     "text": [
      "no predictions for /media/choppy/WD_BLACK/datasets/FLICKR/attack/ronda4/F_screen_smartphone_mano/F08872_screen_smartphone_mano_20220504001605.jpg, please check.\n"
     ]
    },
    {
     "name": "stderr",
     "output_type": "stream",
     "text": [
      "flickr:  65%|██████████████████████████████████████████████████████████████████████████████████████████████████████▎                                                      | 9127/14000 [1:53:28<1:03:50,  1.27it/s]"
     ]
    },
    {
     "name": "stdout",
     "output_type": "stream",
     "text": [
      "more than one face detected in img: /media/choppy/WD_BLACK/datasets/FLICKR/attack/ronda4/F_screen_smartphone_mano/F16499_screen_smartphone_mano_20220505210743.jpg, but only the biggest is stored\n"
     ]
    },
    {
     "name": "stderr",
     "output_type": "stream",
     "text": [
      "flickr:  65%|██████████████████████████████████████████████████████████████████████████████████████████████████████▊                                                      | 9167/14000 [1:54:04<1:05:32,  1.23it/s]"
     ]
    },
    {
     "name": "stdout",
     "output_type": "stream",
     "text": [
      "more than one face detected in img: /media/choppy/WD_BLACK/datasets/FLICKR/attack/ronda4/F_screen_smartphone_mano/F12622_screen_smartphone_mano_20220503213508.jpg, but only the biggest is stored\n"
     ]
    },
    {
     "name": "stderr",
     "output_type": "stream",
     "text": [
      "flickr:  66%|███████████████████████████████████████████████████████████████████████████████████████████████████████                                                      | 9193/14000 [1:54:40<1:55:37,  1.44s/it]"
     ]
    },
    {
     "name": "stdout",
     "output_type": "stream",
     "text": [
      "more than one face detected in img: /media/choppy/WD_BLACK/datasets/FLICKR/attack/ronda4/F_screen_smartphone_mano/F12237_screen_smartphone_mano_20220504115450.jpg, but only the biggest is stored\n"
     ]
    },
    {
     "name": "stderr",
     "output_type": "stream",
     "text": [
      "flickr:  66%|███████████████████████████████████████████████████████████████████████████████████████████████████████                                                      | 9194/14000 [1:54:42<1:51:06,  1.39s/it]"
     ]
    },
    {
     "name": "stdout",
     "output_type": "stream",
     "text": [
      "no predictions for /media/choppy/WD_BLACK/datasets/FLICKR/attack/ronda4/F_screen_smartphone_mano/F12238_screen_smartphone_mano_20220504115545.jpg, please check.\n"
     ]
    },
    {
     "name": "stderr",
     "output_type": "stream",
     "text": [
      "flickr:  66%|███████████████████████████████████████████████████████████████████████████████████████████████████████▏                                                     | 9199/14000 [1:54:46<1:07:25,  1.19it/s]"
     ]
    },
    {
     "name": "stdout",
     "output_type": "stream",
     "text": [
      "no predictions for /media/choppy/WD_BLACK/datasets/FLICKR/attack/ronda4/F_screen_smartphone_mano/F16325_screen_smartphone_mano_20220505044956.jpg, please check.\n"
     ]
    },
    {
     "name": "stderr",
     "output_type": "stream",
     "text": [
      "flickr:  66%|████████████████████████████████████████████████████████████████████████████████████████████████████████▌                                                      | 9205/14000 [1:54:50<55:53,  1.43it/s]"
     ]
    },
    {
     "name": "stdout",
     "output_type": "stream",
     "text": [
      "no predictions for /media/choppy/WD_BLACK/datasets/FLICKR/attack/ronda4/F_screen_smartphone_mano/F16334_screen_smartphone_mano_20220505045418.jpg, please check.\n"
     ]
    },
    {
     "name": "stderr",
     "output_type": "stream",
     "text": [
      "flickr:  66%|████████████████████████████████████████████████████████████████████████████████████████████████████████▋                                                      | 9219/14000 [1:55:00<54:24,  1.46it/s]"
     ]
    },
    {
     "name": "stdout",
     "output_type": "stream",
     "text": [
      "no predictions for /media/choppy/WD_BLACK/datasets/FLICKR/attack/ronda4/F_screen_smartphone_mano/F16625_screen_smartphone_mano_20220505222720.jpg, please check.\n"
     ]
    },
    {
     "name": "stderr",
     "output_type": "stream",
     "text": [
      "flickr:  66%|████████████████████████████████████████████████████████████████████████████████████████████████████████▊                                                      | 9226/14000 [1:55:05<55:12,  1.44it/s]"
     ]
    },
    {
     "name": "stdout",
     "output_type": "stream",
     "text": [
      "more than one face detected in img: /media/choppy/WD_BLACK/datasets/FLICKR/attack/ronda4/F_screen_smartphone_mano/F16033_screen_smartphone_mano_20220505005603.jpg, but only the biggest is stored\n"
     ]
    },
    {
     "name": "stderr",
     "output_type": "stream",
     "text": [
      "flickr:  66%|███████████████████████████████████████████████████████████████████████████████████████████████████████▋                                                     | 9241/14000 [1:55:19<1:46:42,  1.35s/it]"
     ]
    },
    {
     "name": "stdout",
     "output_type": "stream",
     "text": [
      "more than one face detected in img: /media/choppy/WD_BLACK/datasets/FLICKR/attack/ronda4/F_screen_smartphone_mano/F12480_screen_smartphone_mano_20220504225640.jpg, but only the biggest is stored\n"
     ]
    },
    {
     "name": "stderr",
     "output_type": "stream",
     "text": [
      "flickr:  66%|███████████████████████████████████████████████████████████████████████████████████████████████████████▊                                                     | 9257/14000 [1:55:42<1:50:59,  1.40s/it]"
     ]
    },
    {
     "name": "stdout",
     "output_type": "stream",
     "text": [
      "no predictions for /media/choppy/WD_BLACK/datasets/FLICKR/attack/ronda4/F_screen_smartphone_mano/F08750_screen_smartphone_mano_20220503223844.jpg, please check.\n"
     ]
    },
    {
     "name": "stderr",
     "output_type": "stream",
     "text": [
      "flickr:  66%|███████████████████████████████████████████████████████████████████████████████████████████████████████▉                                                     | 9263/14000 [1:55:51<1:49:30,  1.39s/it]"
     ]
    },
    {
     "name": "stdout",
     "output_type": "stream",
     "text": [
      "no predictions for /media/choppy/WD_BLACK/datasets/FLICKR/attack/ronda4/F_screen_smartphone_mano/F08514_screen_smartphone_mano_20220503203332.jpg, please check.\n"
     ]
    },
    {
     "name": "stderr",
     "output_type": "stream",
     "text": [
      "flickr:  66%|████████████████████████████████████████████████████████████████████████████████████████████████████████                                                     | 9277/14000 [1:56:10<1:52:13,  1.43s/it]"
     ]
    },
    {
     "name": "stdout",
     "output_type": "stream",
     "text": [
      "more than one face detected in img: /media/choppy/WD_BLACK/datasets/FLICKR/attack/ronda4/F_screen_smartphone_mano/F08914_screen_smartphone_mano_20220504005118.jpg, but only the biggest is stored\n"
     ]
    },
    {
     "name": "stderr",
     "output_type": "stream",
     "text": [
      "flickr:  66%|████████████████████████████████████████████████████████████████████████████████████████████████████████▏                                                    | 9290/14000 [1:56:26<1:12:55,  1.08it/s]"
     ]
    },
    {
     "name": "stdout",
     "output_type": "stream",
     "text": [
      "more than one face detected in img: /media/choppy/WD_BLACK/datasets/FLICKR/attack/ronda4/F_screen_smartphone_mano/F16399_screen_smartphone_mano_20220505195331.jpg, but only the biggest is stored\n"
     ]
    },
    {
     "name": "stderr",
     "output_type": "stream",
     "text": [
      "flickr:  66%|█████████████████████████████████████████████████████████████████████████████████████████████████████████▌                                                     | 9296/14000 [1:56:30<54:38,  1.43it/s]"
     ]
    },
    {
     "name": "stdout",
     "output_type": "stream",
     "text": [
      "no predictions for /media/choppy/WD_BLACK/datasets/FLICKR/attack/ronda4/F_screen_smartphone_mano/F16415_screen_smartphone_mano_20220505195740.jpg, please check.\n"
     ]
    },
    {
     "name": "stderr",
     "output_type": "stream",
     "text": [
      "flickr:  67%|█████████████████████████████████████████████████████████████████████████████████████████████████████████▊                                                     | 9322/14000 [1:56:49<55:52,  1.40it/s]"
     ]
    },
    {
     "name": "stdout",
     "output_type": "stream",
     "text": [
      "no predictions for /media/choppy/WD_BLACK/datasets/FLICKR/attack/ronda4/F_screen_smartphone_mano/F12690_screen_smartphone_mano_20220504183111.jpg, please check.\n"
     ]
    },
    {
     "name": "stderr",
     "output_type": "stream",
     "text": [
      "flickr:  67%|█████████████████████████████████████████████████████████████████████████████████████████████████████████▉                                                     | 9323/14000 [1:56:50<55:23,  1.41it/s]"
     ]
    },
    {
     "name": "stdout",
     "output_type": "stream",
     "text": [
      "no predictions for /media/choppy/WD_BLACK/datasets/FLICKR/attack/ronda4/F_screen_smartphone_mano/F12691_screen_smartphone_mano_20220504183244.jpg, please check.\n"
     ]
    },
    {
     "name": "stderr",
     "output_type": "stream",
     "text": [
      "flickr:  67%|██████████████████████████████████████████████████████████████████████████████████████████████████████████                                                     | 9338/14000 [1:57:01<56:09,  1.38it/s]"
     ]
    },
    {
     "name": "stdout",
     "output_type": "stream",
     "text": [
      "no predictions for /media/choppy/WD_BLACK/datasets/FLICKR/attack/ronda4/F_screen_smartphone_mano/F16586_screen_smartphone_mano_20220505221342.jpg, please check.\n"
     ]
    },
    {
     "name": "stderr",
     "output_type": "stream",
     "text": [
      "flickr:  67%|██████████████████████████████████████████████████████████████████████████████████████████████████████████▎                                                    | 9364/14000 [1:57:19<51:09,  1.51it/s]"
     ]
    },
    {
     "name": "stdout",
     "output_type": "stream",
     "text": [
      "no predictions for /media/choppy/WD_BLACK/datasets/FLICKR/attack/ronda4/F_screen_smartphone_mano/F12887_screen_smartphone_mano_20220504210641.jpg, please check.\n"
     ]
    },
    {
     "name": "stderr",
     "output_type": "stream",
     "text": [
      "flickr:  67%|██████████████████████████████████████████████████████████████████████████████████████████████████████████▌                                                    | 9387/14000 [1:57:36<56:18,  1.37it/s]"
     ]
    },
    {
     "name": "stdout",
     "output_type": "stream",
     "text": [
      "no predictions for /media/choppy/WD_BLACK/datasets/FLICKR/attack/ronda4/F_screen_smartphone_mano/F16244_screen_smartphone_mano_20220505042139.jpg, please check.\n"
     ]
    },
    {
     "name": "stderr",
     "output_type": "stream",
     "text": [
      "flickr:  67%|██████████████████████████████████████████████████████████████████████████████████████████████████████████▋                                                    | 9393/14000 [1:57:41<58:15,  1.32it/s]"
     ]
    },
    {
     "name": "stdout",
     "output_type": "stream",
     "text": [
      "more than one face detected in img: /media/choppy/WD_BLACK/datasets/FLICKR/attack/ronda4/F_screen_smartphone_mano/F16085_screen_smartphone_mano_20220505012102.jpg, but only the biggest is stored\n"
     ]
    },
    {
     "name": "stderr",
     "output_type": "stream",
     "text": [
      "flickr:  67%|██████████████████████████████████████████████████████████████████████████████████████████████████████████▊                                                    | 9403/14000 [1:57:48<56:14,  1.36it/s]"
     ]
    },
    {
     "name": "stdout",
     "output_type": "stream",
     "text": [
      "more than one face detected in img: /media/choppy/WD_BLACK/datasets/FLICKR/attack/ronda4/F_screen_smartphone_mano/F16101_screen_smartphone_mano_20220505012946.jpg, but only the biggest is stored\n"
     ]
    },
    {
     "name": "stderr",
     "output_type": "stream",
     "text": [
      "flickr:  67%|█████████████████████████████████████████████████████████████████████████████████████████████████████████▌                                                   | 9412/14000 [1:58:01<1:46:56,  1.40s/it]"
     ]
    },
    {
     "name": "stdout",
     "output_type": "stream",
     "text": [
      "no predictions for /media/choppy/WD_BLACK/datasets/FLICKR/attack/ronda4/F_screen_smartphone_mano/F12306_screen_smartphone_mano_20220504121924.jpg, please check.\n"
     ]
    },
    {
     "name": "stderr",
     "output_type": "stream",
     "text": [
      "flickr:  67%|█████████████████████████████████████████████████████████████████████████████████████████████████████████▌                                                   | 9416/14000 [1:58:07<1:48:04,  1.41s/it]"
     ]
    },
    {
     "name": "stdout",
     "output_type": "stream",
     "text": [
      "more than one face detected in img: /media/choppy/WD_BLACK/datasets/FLICKR/attack/ronda4/F_screen_smartphone_mano/F12313_screen_smartphone_mano_20220504122309.jpg, but only the biggest is stored\n"
     ]
    },
    {
     "name": "stderr",
     "output_type": "stream",
     "text": [
      "flickr:  67%|█████████████████████████████████████████████████████████████████████████████████████████████████████████▊                                                   | 9437/14000 [1:58:37<1:51:28,  1.47s/it]"
     ]
    },
    {
     "name": "stdout",
     "output_type": "stream",
     "text": [
      "more than one face detected in img: /media/choppy/WD_BLACK/datasets/FLICKR/attack/ronda4/F_screen_smartphone_mano/F12578_screen_smartphone_mano_20220504234202.jpg, but only the biggest is stored\n"
     ]
    },
    {
     "name": "stderr",
     "output_type": "stream",
     "text": [
      "flickr:  68%|██████████████████████████████████████████████████████████████████████████████████████████████████████████                                                   | 9458/14000 [1:59:07<1:49:09,  1.44s/it]"
     ]
    },
    {
     "name": "stdout",
     "output_type": "stream",
     "text": [
      "more than one face detected in img: /media/choppy/WD_BLACK/datasets/FLICKR/attack/ronda4/F_screen_smartphone_mano/F12185_screen_smartphone_mano_20220504031120.jpg, but only the biggest is stored\n"
     ]
    },
    {
     "name": "stderr",
     "output_type": "stream",
     "text": [
      "flickr:  68%|██████████████████████████████████████████████████████████████████████████████████████████████████████████▎                                                  | 9478/14000 [1:59:36<1:45:58,  1.41s/it]"
     ]
    },
    {
     "name": "stdout",
     "output_type": "stream",
     "text": [
      "more than one face detected in img: /media/choppy/WD_BLACK/datasets/FLICKR/attack/ronda4/F_screen_smartphone_mano/F08594_screen_smartphone_mano_20220503210347.jpg, but only the biggest is stored\n"
     ]
    },
    {
     "name": "stderr",
     "output_type": "stream",
     "text": [
      "flickr:  68%|██████████████████████████████████████████████████████████████████████████████████████████████████████████▌                                                  | 9499/14000 [1:59:57<1:36:56,  1.29s/it]"
     ]
    },
    {
     "name": "stdout",
     "output_type": "stream",
     "text": [
      "more than one face detected in img: /media/choppy/WD_BLACK/datasets/FLICKR/attack/ronda4/F_screen_smartphone_mano/F12016_screen_smartphone_mano_20220504013517.jpg, but only the biggest is stored\n"
     ]
    },
    {
     "name": "stderr",
     "output_type": "stream",
     "text": [
      "flickr:  68%|████████████████████████████████████████████████████████████████████████████████████████████████████████████                                                   | 9516/14000 [2:00:13<53:16,  1.40it/s]"
     ]
    },
    {
     "name": "stdout",
     "output_type": "stream",
     "text": [
      "no predictions for /media/choppy/WD_BLACK/datasets/FLICKR/attack/ronda4/F_screen_smartphone_mano/F12983_screen_smartphone_mano_20220504214424.jpg, please check.\n"
     ]
    },
    {
     "name": "stderr",
     "output_type": "stream",
     "text": [
      "flickr:  68%|██████████████████████████████████████████████████████████████████████████████████████████████████████████▊                                                  | 9526/14000 [2:00:27<1:46:34,  1.43s/it]"
     ]
    },
    {
     "name": "stdout",
     "output_type": "stream",
     "text": [
      "more than one face detected in img: /media/choppy/WD_BLACK/datasets/FLICKR/attack/ronda4/F_screen_smartphone_mano/F08818_screen_smartphone_mano_20220503232502.jpg, but only the biggest is stored\n"
     ]
    },
    {
     "name": "stderr",
     "output_type": "stream",
     "text": [
      "flickr:  68%|██████████████████████████████████████████████████████████████████████████████████████████████████████████▉                                                  | 9534/14000 [2:00:39<1:47:16,  1.44s/it]"
     ]
    },
    {
     "name": "stdout",
     "output_type": "stream",
     "text": [
      "no predictions for /media/choppy/WD_BLACK/datasets/FLICKR/attack/ronda4/F_screen_smartphone_mano/F08838_screen_smartphone_mano_20220503235144.jpg, please check.\n"
     ]
    },
    {
     "name": "stderr",
     "output_type": "stream",
     "text": [
      "flickr:  68%|██████████████████████████████████████████████████████████████████████████████████████████████████████████▉                                                  | 9539/14000 [2:00:44<1:17:54,  1.05s/it]"
     ]
    },
    {
     "name": "stdout",
     "output_type": "stream",
     "text": [
      "no predictions for /media/choppy/WD_BLACK/datasets/FLICKR/attack/ronda4/F_screen_smartphone_mano/F12697_screen_smartphone_mano_20220504183923.jpg, please check.\n"
     ]
    },
    {
     "name": "stderr",
     "output_type": "stream",
     "text": [
      "flickr:  68%|████████████████████████████████████████████████████████████████████████████████████████████████████████████▋                                                  | 9574/14000 [2:01:21<54:27,  1.35it/s]"
     ]
    },
    {
     "name": "stdout",
     "output_type": "stream",
     "text": [
      "no predictions for /media/choppy/WD_BLACK/datasets/FLICKR/attack/ronda4/F_screen_smartphone_mano/F16351_screen_smartphone_mano_20220505191723.jpg, please check.\n"
     ]
    },
    {
     "name": "stderr",
     "output_type": "stream",
     "text": [
      "flickr:  69%|█████████████████████████████████████████████████████████████████████████████████████████████████████████████                                                  | 9606/14000 [2:01:45<54:38,  1.34it/s]"
     ]
    },
    {
     "name": "stdout",
     "output_type": "stream",
     "text": [
      "no predictions for /media/choppy/WD_BLACK/datasets/FLICKR/attack/ronda4/F_screen_smartphone_mano/F16209_screen_smartphone_mano_20220505040908.jpg, please check.\n"
     ]
    },
    {
     "name": "stderr",
     "output_type": "stream",
     "text": [
      "flickr:  69%|███████████████████████████████████████████████████████████████████████████████████████████████████████████▊                                                 | 9618/14000 [2:02:02<1:44:15,  1.43s/it]"
     ]
    },
    {
     "name": "stdout",
     "output_type": "stream",
     "text": [
      "more than one face detected in img: /media/choppy/WD_BLACK/datasets/FLICKR/attack/ronda4/F_screen_smartphone_mano/F08721_screen_smartphone_mano_20220503221617.jpg, but only the biggest is stored\n"
     ]
    },
    {
     "name": "stderr",
     "output_type": "stream",
     "text": [
      "flickr:  69%|███████████████████████████████████████████████████████████████████████████████████████████████████████████▉                                                 | 9626/14000 [2:02:12<1:26:18,  1.18s/it]"
     ]
    },
    {
     "name": "stdout",
     "output_type": "stream",
     "text": [
      "no predictions for /media/choppy/WD_BLACK/datasets/FLICKR/attack/ronda4/F_screen_smartphone_mano/F12849_screen_smartphone_mano_20220504204446.jpg, please check.\n"
     ]
    },
    {
     "name": "stderr",
     "output_type": "stream",
     "text": [
      "flickr:  69%|████████████████████████████████████████████████████████████████████████████████████████████████████████████▎                                                | 9655/14000 [2:02:39<1:41:12,  1.40s/it]"
     ]
    },
    {
     "name": "stdout",
     "output_type": "stream",
     "text": [
      "no predictions for /media/choppy/WD_BLACK/datasets/FLICKR/attack/ronda4/F_screen_smartphone_mano/F12513_screen_smartphone_mano_20220504231356.jpg, please check.\n"
     ]
    },
    {
     "name": "stderr",
     "output_type": "stream",
     "text": [
      "flickr:  69%|████████████████████████████████████████████████████████████████████████████████████████████████████████████▎                                                | 9661/14000 [2:02:48<1:44:04,  1.44s/it]"
     ]
    },
    {
     "name": "stdout",
     "output_type": "stream",
     "text": [
      "more than one face detected in img: /media/choppy/WD_BLACK/datasets/FLICKR/attack/ronda4/F_screen_smartphone_mano/F12528_screen_smartphone_mano_20220504231953.jpg, but only the biggest is stored\n"
     ]
    },
    {
     "name": "stderr",
     "output_type": "stream",
     "text": [
      "flickr:  69%|█████████████████████████████████████████████████████████████████████████████████████████████████████████████▉                                                 | 9676/14000 [2:03:01<54:00,  1.33it/s]"
     ]
    },
    {
     "name": "stdout",
     "output_type": "stream",
     "text": [
      "more than one face detected in img: /media/choppy/WD_BLACK/datasets/FLICKR/attack/ronda4/F_screen_smartphone_mano/F16305_screen_smartphone_mano_20220505044044.jpg, but only the biggest is stored\n"
     ]
    },
    {
     "name": "stderr",
     "output_type": "stream",
     "text": [
      "flickr:  69%|█████████████████████████████████████████████████████████████████████████████████████████████████████████████▉                                                 | 9681/14000 [2:03:04<52:44,  1.36it/s]"
     ]
    },
    {
     "name": "stdout",
     "output_type": "stream",
     "text": [
      "more than one face detected in img: /media/choppy/WD_BLACK/datasets/FLICKR/attack/ronda4/F_screen_smartphone_mano/F16315_screen_smartphone_mano_20220505044410.jpg, but only the biggest is stored\n"
     ]
    },
    {
     "name": "stderr",
     "output_type": "stream",
     "text": [
      "flickr:  69%|█████████████████████████████████████████████████████████████████████████████████████████████████████████████▉                                                 | 9684/14000 [2:03:06<51:17,  1.40it/s]"
     ]
    },
    {
     "name": "stdout",
     "output_type": "stream",
     "text": [
      "no predictions for /media/choppy/WD_BLACK/datasets/FLICKR/attack/ronda4/F_screen_smartphone_mano/F16318_screen_smartphone_mano_20220505044611.jpg, please check.\n"
     ]
    },
    {
     "name": "stderr",
     "output_type": "stream",
     "text": [
      "flickr:  69%|████████████████████████████████████████████████████████████████████████████████████████████████████████████▊                                                | 9706/14000 [2:03:27<1:38:36,  1.38s/it]"
     ]
    },
    {
     "name": "stdout",
     "output_type": "stream",
     "text": [
      "more than one face detected in img: /media/choppy/WD_BLACK/datasets/FLICKR/attack/ronda4/F_screen_smartphone_mano/F12348_screen_smartphone_mano_20220504123655.jpg, but only the biggest is stored\n"
     ]
    },
    {
     "name": "stderr",
     "output_type": "stream",
     "text": [
      "flickr:  69%|████████████████████████████████████████████████████████████████████████████████████████████████████████████▉                                                | 9709/14000 [2:03:31<1:41:07,  1.41s/it]"
     ]
    },
    {
     "name": "stdout",
     "output_type": "stream",
     "text": [
      "more than one face detected in img: /media/choppy/WD_BLACK/datasets/FLICKR/attack/ronda4/F_screen_smartphone_mano/F12445_screen_smartphone_mano_20220504132048.jpg, but only the biggest is stored\n"
     ]
    },
    {
     "name": "stderr",
     "output_type": "stream",
     "text": [
      "flickr:  69%|██████████████████████████████████████████████████████████████████████████████████████████████████████████████▍                                                | 9722/14000 [2:03:44<55:00,  1.30it/s]"
     ]
    },
    {
     "name": "stdout",
     "output_type": "stream",
     "text": [
      "more than one face detected in img: /media/choppy/WD_BLACK/datasets/FLICKR/attack/ronda4/F_screen_smartphone_mano/F12776_screen_smartphone_mano_20220504191928.jpg, but only the biggest is stored\n"
     ]
    },
    {
     "name": "stderr",
     "output_type": "stream",
     "text": [
      "flickr:  69%|██████████████████████████████████████████████████████████████████████████████████████████████████████████████▍                                                | 9723/14000 [2:03:45<52:19,  1.36it/s]"
     ]
    },
    {
     "name": "stdout",
     "output_type": "stream",
     "text": [
      "no predictions for /media/choppy/WD_BLACK/datasets/FLICKR/attack/ronda4/F_screen_smartphone_mano/F12785_screen_smartphone_mano_20220504192041.jpg, please check.\n"
     ]
    },
    {
     "name": "stderr",
     "output_type": "stream",
     "text": [
      "flickr:  70%|██████████████████████████████████████████████████████████████████████████████████████████████████████████████▋                                                | 9746/14000 [2:04:02<53:21,  1.33it/s]"
     ]
    },
    {
     "name": "stdout",
     "output_type": "stream",
     "text": [
      "more than one face detected in img: /media/choppy/WD_BLACK/datasets/FLICKR/attack/ronda4/F_screen_smartphone_mano/F16669_screen_smartphone_mano_20220505225558.jpg, but only the biggest is stored\n"
     ]
    },
    {
     "name": "stderr",
     "output_type": "stream",
     "text": [
      "flickr:  70%|█████████████████████████████████████████████████████████████████████████████████████████████████████████████▍                                               | 9755/14000 [2:04:14<1:40:47,  1.42s/it]"
     ]
    },
    {
     "name": "stdout",
     "output_type": "stream",
     "text": [
      "more than one face detected in img: /media/choppy/WD_BLACK/datasets/FLICKR/attack/ronda4/F_screen_smartphone_mano/F12155_screen_smartphone_mano_20220504024754.jpg, but only the biggest is stored\n"
     ]
    },
    {
     "name": "stderr",
     "output_type": "stream",
     "text": [
      "flickr:  70%|█████████████████████████████████████████████████████████████████████████████████████████████████████████████▌                                               | 9769/14000 [2:04:34<1:41:06,  1.43s/it]"
     ]
    },
    {
     "name": "stdout",
     "output_type": "stream",
     "text": [
      "more than one face detected in img: /media/choppy/WD_BLACK/datasets/FLICKR/attack/ronda4/F_screen_smartphone_mano/F12272_screen_smartphone_mano_20220504120521.jpg, but only the biggest is stored\n"
     ]
    },
    {
     "name": "stderr",
     "output_type": "stream",
     "text": [
      "flickr:  70%|█████████████████████████████████████████████████████████████████████████████████████████████████████████████▌                                               | 9773/14000 [2:04:40<1:37:45,  1.39s/it]"
     ]
    },
    {
     "name": "stdout",
     "output_type": "stream",
     "text": [
      "no predictions for /media/choppy/WD_BLACK/datasets/FLICKR/attack/ronda4/F_screen_smartphone_mano/F12279_screen_smartphone_mano_20220504120847.jpg, please check.\n"
     ]
    },
    {
     "name": "stderr",
     "output_type": "stream",
     "text": [
      "flickr:  70%|█████████████████████████████████████████████████████████████████████████████████████████████████████████████▉                                               | 9807/14000 [2:05:18<1:38:30,  1.41s/it]"
     ]
    },
    {
     "name": "stdout",
     "output_type": "stream",
     "text": [
      "no predictions for /media/choppy/WD_BLACK/datasets/FLICKR/attack/ronda4/F_screen_smartphone_mano/F08645_screen_smartphone_mano_20220503213814.jpg, please check.\n"
     ]
    },
    {
     "name": "stderr",
     "output_type": "stream",
     "text": [
      "flickr:  70%|██████████████████████████████████████████████████████████████████████████████████████████████████████████████▏                                              | 9823/14000 [2:05:41<1:36:01,  1.38s/it]"
     ]
    },
    {
     "name": "stdout",
     "output_type": "stream",
     "text": [
      "no predictions for /media/choppy/WD_BLACK/datasets/FLICKR/attack/ronda4/F_screen_smartphone_mano/F08880_screen_smartphone_mano_20220504002627.jpg, please check.\n"
     ]
    },
    {
     "name": "stderr",
     "output_type": "stream",
     "text": [
      "flickr:  70%|██████████████████████████████████████████████████████████████████████████████████████████████████████████████▎                                              | 9832/14000 [2:05:53<1:37:40,  1.41s/it]"
     ]
    },
    {
     "name": "stdout",
     "output_type": "stream",
     "text": [
      "more than one face detected in img: /media/choppy/WD_BLACK/datasets/FLICKR/attack/ronda4/F_screen_smartphone_mano/F08899_screen_smartphone_mano_20220504003842.jpg, but only the biggest is stored\n"
     ]
    },
    {
     "name": "stderr",
     "output_type": "stream",
     "text": [
      "flickr:  70%|██████████████████████████████████████████████████████████████████████████████████████████████████████████████▎                                              | 9833/14000 [2:05:55<1:36:34,  1.39s/it]"
     ]
    },
    {
     "name": "stdout",
     "output_type": "stream",
     "text": [
      "more than one face detected in img: /media/choppy/WD_BLACK/datasets/FLICKR/attack/ronda4/F_screen_smartphone_mano/F08900_screen_smartphone_mano_20220504003941.jpg, but only the biggest is stored\n"
     ]
    },
    {
     "name": "stderr",
     "output_type": "stream",
     "text": [
      "flickr:  70%|███████████████████████████████████████████████████████████████████████████████████████████████████████████████▉                                               | 9856/14000 [2:06:13<50:00,  1.38it/s]"
     ]
    },
    {
     "name": "stdout",
     "output_type": "stream",
     "text": [
      "more than one face detected in img: /media/choppy/WD_BLACK/datasets/FLICKR/attack/ronda4/F_screen_smartphone_mano/F16717_screen_smartphone_mano_20220505231321.jpg, but only the biggest is stored\n"
     ]
    },
    {
     "name": "stderr",
     "output_type": "stream",
     "text": [
      "flickr:  71%|████████████████████████████████████████████████████████████████████████████████████████████████████████████████▎                                              | 9884/14000 [2:06:44<55:06,  1.24it/s]"
     ]
    },
    {
     "name": "stdout",
     "output_type": "stream",
     "text": [
      "no predictions for /media/choppy/WD_BLACK/datasets/FLICKR/attack/ronda4/F_screen_smartphone_mano/F16117_screen_smartphone_mano_20220505013401.jpg, please check.\n"
     ]
    },
    {
     "name": "stderr",
     "output_type": "stream",
     "text": [
      "flickr:  71%|████████████████████████████████████████████████████████████████████████████████████████████████████████████████▎                                              | 9892/14000 [2:06:49<49:17,  1.39it/s]"
     ]
    },
    {
     "name": "stdout",
     "output_type": "stream",
     "text": [
      "more than one face detected in img: /media/choppy/WD_BLACK/datasets/FLICKR/attack/ronda4/F_screen_smartphone_mano/F16063_screen_smartphone_mano_20220505010845.jpg, but only the biggest is stored\n"
     ]
    },
    {
     "name": "stderr",
     "output_type": "stream",
     "text": [
      "flickr:  71%|████████████████████████████████████████████████████████████████████████████████████████████████████████████████▎                                              | 9894/14000 [2:06:51<49:26,  1.38it/s]"
     ]
    },
    {
     "name": "stdout",
     "output_type": "stream",
     "text": [
      "more than one face detected in img: /media/choppy/WD_BLACK/datasets/FLICKR/attack/ronda4/F_screen_smartphone_mano/F16067_screen_smartphone_mano_20220505011100.jpg, but only the biggest is stored\n"
     ]
    },
    {
     "name": "stderr",
     "output_type": "stream",
     "text": [
      "flickr:  71%|████████████████████████████████████████████████████████████████████████████████████████████████████████████████▍                                              | 9895/14000 [2:06:51<49:14,  1.39it/s]"
     ]
    },
    {
     "name": "stdout",
     "output_type": "stream",
     "text": [
      "more than one face detected in img: /media/choppy/WD_BLACK/datasets/FLICKR/attack/ronda4/F_screen_smartphone_mano/F16069_screen_smartphone_mano_20220505011135.jpg, but only the biggest is stored\n"
     ]
    },
    {
     "name": "stderr",
     "output_type": "stream",
     "text": [
      "flickr:  71%|████████████████████████████████████████████████████████████████████████████████████████████████████████████████▍                                              | 9902/14000 [2:06:56<47:49,  1.43it/s]"
     ]
    },
    {
     "name": "stdout",
     "output_type": "stream",
     "text": [
      "no predictions for /media/choppy/WD_BLACK/datasets/FLICKR/attack/ronda4/F_screen_smartphone_mano/F16081_screen_smartphone_mano_20220505011736.jpg, please check.\n"
     ]
    },
    {
     "name": "stderr",
     "output_type": "stream",
     "text": [
      "flickr:  71%|████████████████████████████████████████████████████████████████████████████████████████████████████████████████▌                                              | 9915/14000 [2:07:05<46:05,  1.48it/s]"
     ]
    },
    {
     "name": "stdout",
     "output_type": "stream",
     "text": [
      "no predictions for /media/choppy/WD_BLACK/datasets/FLICKR/attack/ronda4/F_screen_smartphone_mano/F16011_screen_smartphone_mano_20220505005014.jpg, please check.\n"
     ]
    },
    {
     "name": "stderr",
     "output_type": "stream",
     "text": [
      "flickr:  71%|███████████████████████████████████████████████████████████████████████████████████████████████████████████████▎                                             | 9927/14000 [2:07:19<1:32:24,  1.36s/it]"
     ]
    },
    {
     "name": "stdout",
     "output_type": "stream",
     "text": [
      "no predictions for /media/choppy/WD_BLACK/datasets/FLICKR/attack/ronda4/F_screen_smartphone_mano/F12341_screen_smartphone_mano_20220504123409.jpg, please check.\n"
     ]
    },
    {
     "name": "stderr",
     "output_type": "stream",
     "text": [
      "flickr:  71%|███████████████████████████████████████████████████████████████████████████████████████████████████████████████▍                                             | 9938/14000 [2:07:35<1:34:12,  1.39s/it]"
     ]
    },
    {
     "name": "stdout",
     "output_type": "stream",
     "text": [
      "no predictions for /media/choppy/WD_BLACK/datasets/FLICKR/attack/ronda4/F_screen_smartphone_mano/F08565_screen_smartphone_mano_20220503205343.jpg, please check.\n"
     ]
    },
    {
     "name": "stderr",
     "output_type": "stream",
     "text": [
      "flickr:  71%|███████████████████████████████████████████████████████████████████████████████████████████████████████████████▋                                             | 9959/14000 [2:08:03<1:00:38,  1.11it/s]"
     ]
    },
    {
     "name": "stdout",
     "output_type": "stream",
     "text": [
      "more than one face detected in img: /media/choppy/WD_BLACK/datasets/FLICKR/attack/ronda4/F_screen_smartphone_mano/F12940_screen_smartphone_mano_20220504212102.jpg, but only the biggest is stored\n"
     ]
    },
    {
     "name": "stderr",
     "output_type": "stream",
     "text": [
      "flickr:  71%|███████████████████████████████████████████████████████████████████████████████████████████████████████████████▊                                             | 9967/14000 [2:08:09<1:03:02,  1.07it/s]"
     ]
    },
    {
     "name": "stdout",
     "output_type": "stream",
     "text": [
      "more than one face detected in img: /media/choppy/WD_BLACK/datasets/FLICKR/attack/ronda4/F_screen_smartphone_mano/F12058_screen_smartphone_mano_20220504014629.jpg, but only the biggest is stored\n"
     ]
    },
    {
     "name": "stderr",
     "output_type": "stream",
     "text": [
      "flickr:  71%|███████████████████████████████████████████████████████████████████████████████████████████████████████████████▉                                             | 9979/14000 [2:08:26<1:32:32,  1.38s/it]"
     ]
    },
    {
     "name": "stdout",
     "output_type": "stream",
     "text": [
      "more than one face detected in img: /media/choppy/WD_BLACK/datasets/FLICKR/attack/ronda4/F_screen_smartphone_mano/F12447_screen_smartphone_mano_20220504132140.jpg, but only the biggest is stored\n"
     ]
    },
    {
     "name": "stderr",
     "output_type": "stream",
     "text": [
      "flickr:  71%|████████████████████████████████████████████████████████████████████████████████████████████████████████████████▉                                             | 10009/14000 [2:08:54<39:30,  1.68it/s]"
     ]
    },
    {
     "name": "stdout",
     "output_type": "stream",
     "text": [
      "no predictions for /media/choppy/WD_BLACK/datasets/FLICKR/attack/ronda4/F_screen_tablet_mano/F16756_screen_tablet_mano_20220226232523.jpg, please check.\n"
     ]
    },
    {
     "name": "stderr",
     "output_type": "stream",
     "text": [
      "flickr:  72%|█████████████████████████████████████████████████████████████████████████████████████████████████████████████████▋                                            | 10077/14000 [2:09:35<37:22,  1.75it/s]"
     ]
    },
    {
     "name": "stdout",
     "output_type": "stream",
     "text": [
      "no predictions for /media/choppy/WD_BLACK/datasets/FLICKR/attack/ronda4/F_screen_tablet_mano/F24636_screen_tablet_mano_20220226183830.jpg, please check.\n"
     ]
    },
    {
     "name": "stderr",
     "output_type": "stream",
     "text": [
      "flickr:  72%|█████████████████████████████████████████████████████████████████████████████████████████████████████████████████▊                                            | 10087/14000 [2:09:41<37:36,  1.73it/s]"
     ]
    },
    {
     "name": "stdout",
     "output_type": "stream",
     "text": [
      "more than one face detected in img: /media/choppy/WD_BLACK/datasets/FLICKR/attack/ronda4/F_screen_tablet_mano/F24297_screen_tablet_mano_20220226160423.jpg, but only the biggest is stored\n"
     ]
    },
    {
     "name": "stderr",
     "output_type": "stream",
     "text": [
      "flickr:  72%|█████████████████████████████████████████████████████████████████████████████████████████████████████████████████▉                                            | 10096/14000 [2:09:46<36:13,  1.80it/s]"
     ]
    },
    {
     "name": "stdout",
     "output_type": "stream",
     "text": [
      "no predictions for /media/choppy/WD_BLACK/datasets/FLICKR/attack/ronda4/F_screen_tablet_mano/F20215_screen_tablet_mano_20220227012549.jpg, please check.\n"
     ]
    },
    {
     "name": "stderr",
     "output_type": "stream",
     "text": [
      "flickr:  72%|██████████████████████████████████████████████████████████████████████████████████████████████████████████████████                                            | 10104/14000 [2:09:50<37:04,  1.75it/s]"
     ]
    },
    {
     "name": "stdout",
     "output_type": "stream",
     "text": [
      "no predictions for /media/choppy/WD_BLACK/datasets/FLICKR/attack/ronda4/F_screen_tablet_mano/F20237_screen_tablet_mano_20220227013013.jpg, please check.\n"
     ]
    },
    {
     "name": "stderr",
     "output_type": "stream",
     "text": [
      "flickr:  72%|██████████████████████████████████████████████████████████████████████████████████████████████████████████████████                                            | 10106/14000 [2:09:52<37:18,  1.74it/s]"
     ]
    },
    {
     "name": "stdout",
     "output_type": "stream",
     "text": [
      "more than one face detected in img: /media/choppy/WD_BLACK/datasets/FLICKR/attack/ronda4/F_screen_tablet_mano/F20242_screen_tablet_mano_20220227013112.jpg, but only the biggest is stored\n"
     ]
    },
    {
     "name": "stderr",
     "output_type": "stream",
     "text": [
      "flickr:  72%|██████████████████████████████████████████████████████████████████████████████████████████████████████████████████▏                                           | 10118/14000 [2:09:58<36:14,  1.79it/s]"
     ]
    },
    {
     "name": "stdout",
     "output_type": "stream",
     "text": [
      "more than one face detected in img: /media/choppy/WD_BLACK/datasets/FLICKR/attack/ronda4/F_screen_tablet_mano/F20768_screen_tablet_mano_20220226001142.jpg, but only the biggest is stored\n"
     ]
    },
    {
     "name": "stderr",
     "output_type": "stream",
     "text": [
      "flickr:  72%|██████████████████████████████████████████████████████████████████████████████████████████████████████████████████▏                                           | 10123/14000 [2:10:01<35:39,  1.81it/s]"
     ]
    },
    {
     "name": "stdout",
     "output_type": "stream",
     "text": [
      "no predictions for /media/choppy/WD_BLACK/datasets/FLICKR/attack/ronda4/F_screen_tablet_mano/F20787_screen_tablet_mano_20220226001410.jpg, please check.\n"
     ]
    },
    {
     "name": "stderr",
     "output_type": "stream",
     "text": [
      "flickr:  72%|██████████████████████████████████████████████████████████████████████████████████████████████████████████████████▌                                           | 10147/14000 [2:10:14<33:41,  1.91it/s]"
     ]
    },
    {
     "name": "stdout",
     "output_type": "stream",
     "text": [
      "no predictions for /media/choppy/WD_BLACK/datasets/FLICKR/attack/ronda4/F_screen_tablet_mano/F16982_screen_tablet_mano_20220227001926.jpg, please check.\n"
     ]
    },
    {
     "name": "stderr",
     "output_type": "stream",
     "text": [
      "flickr:  73%|██████████████████████████████████████████████████████████████████████████████████████████████████████████████████▋                                           | 10167/14000 [2:10:26<37:34,  1.70it/s]"
     ]
    },
    {
     "name": "stdout",
     "output_type": "stream",
     "text": [
      "more than one face detected in img: /media/choppy/WD_BLACK/datasets/FLICKR/attack/ronda4/F_screen_tablet_mano/F20686_screen_tablet_mano_20220223005501.jpg, but only the biggest is stored\n"
     ]
    },
    {
     "name": "stderr",
     "output_type": "stream",
     "text": [
      "flickr:  73%|██████████████████████████████████████████████████████████████████████████████████████████████████████████████████▊                                           | 10172/14000 [2:10:29<37:47,  1.69it/s]"
     ]
    },
    {
     "name": "stdout",
     "output_type": "stream",
     "text": [
      "no predictions for /media/choppy/WD_BLACK/datasets/FLICKR/attack/ronda4/F_screen_tablet_mano/F20691_screen_tablet_mano_20220223010353.jpg, please check.\n"
     ]
    },
    {
     "name": "stderr",
     "output_type": "stream",
     "text": [
      "flickr:  73%|██████████████████████████████████████████████████████████████████████████████████████████████████████████████████▉                                           | 10187/14000 [2:10:38<35:23,  1.80it/s]"
     ]
    },
    {
     "name": "stdout",
     "output_type": "stream",
     "text": [
      "no predictions for /media/choppy/WD_BLACK/datasets/FLICKR/attack/ronda4/F_screen_tablet_mano/F24110_screen_tablet_mano_20220226025233.jpg, please check.\n"
     ]
    },
    {
     "name": "stderr",
     "output_type": "stream",
     "text": [
      "flickr:  73%|███████████████████████████████████████████████████████████████████████████████████████████████████████████████████▋                                          | 10254/14000 [2:11:17<36:38,  1.70it/s]"
     ]
    },
    {
     "name": "stdout",
     "output_type": "stream",
     "text": [
      "no predictions for /media/choppy/WD_BLACK/datasets/FLICKR/attack/ronda4/F_screen_tablet_mano/F16873_screen_tablet_mano_20220226235713.jpg, please check.\n"
     ]
    },
    {
     "name": "stderr",
     "output_type": "stream",
     "text": [
      "flickr:  74%|████████████████████████████████████████████████████████████████████████████████████████████████████████████████████▋                                         | 10337/14000 [2:12:07<35:52,  1.70it/s]"
     ]
    },
    {
     "name": "stdout",
     "output_type": "stream",
     "text": [
      "no predictions for /media/choppy/WD_BLACK/datasets/FLICKR/attack/ronda4/F_screen_tablet_mano/F24398_screen_tablet_mano_20220226162225.jpg, please check.\n"
     ]
    },
    {
     "name": "stderr",
     "output_type": "stream",
     "text": [
      "flickr:  74%|█████████████████████████████████████████████████████████████████████████████████████████████████████████████████████                                         | 10373/14000 [2:12:29<40:56,  1.48it/s]"
     ]
    },
    {
     "name": "stdout",
     "output_type": "stream",
     "text": [
      "more than one face detected in img: /media/choppy/WD_BLACK/datasets/FLICKR/attack/ronda4/F_screen_tablet_mano/F20303_screen_tablet_mano_20220227014115.jpg, but only the biggest is stored\n"
     ]
    },
    {
     "name": "stderr",
     "output_type": "stream",
     "text": [
      "flickr:  74%|█████████████████████████████████████████████████████████████████████████████████████████████████████████████████████                                         | 10374/14000 [2:12:29<37:33,  1.61it/s]"
     ]
    },
    {
     "name": "stdout",
     "output_type": "stream",
     "text": [
      "no predictions for /media/choppy/WD_BLACK/datasets/FLICKR/attack/ronda4/F_screen_tablet_mano/F20305_screen_tablet_mano_20220227014143.jpg, please check.\n"
     ]
    },
    {
     "name": "stderr",
     "output_type": "stream",
     "text": [
      "flickr:  74%|█████████████████████████████████████████████████████████████████████████████████████████████████████████████████████                                         | 10377/14000 [2:12:31<38:30,  1.57it/s]"
     ]
    },
    {
     "name": "stdout",
     "output_type": "stream",
     "text": [
      "no predictions for /media/choppy/WD_BLACK/datasets/FLICKR/attack/ronda4/F_screen_tablet_mano/F20315_screen_tablet_mano_20220227014251.jpg, please check.\n"
     ]
    },
    {
     "name": "stderr",
     "output_type": "stream",
     "text": [
      "flickr:  74%|█████████████████████████████████████████████████████████████████████████████████████████████████████████████████████▏                                        | 10379/14000 [2:12:32<34:45,  1.74it/s]"
     ]
    },
    {
     "name": "stdout",
     "output_type": "stream",
     "text": [
      "no predictions for /media/choppy/WD_BLACK/datasets/FLICKR/attack/ronda4/F_screen_tablet_mano/F20321_screen_tablet_mano_20220227014332.jpg, please check.\n"
     ]
    },
    {
     "name": "stderr",
     "output_type": "stream",
     "text": [
      "flickr:  74%|█████████████████████████████████████████████████████████████████████████████████████████████████████████████████████▍                                        | 10404/14000 [2:12:47<34:40,  1.73it/s]"
     ]
    },
    {
     "name": "stdout",
     "output_type": "stream",
     "text": [
      "no predictions for /media/choppy/WD_BLACK/datasets/FLICKR/attack/ronda4/F_screen_tablet_mano/F24478_screen_tablet_mano_20220226163957.jpg, please check.\n"
     ]
    },
    {
     "name": "stderr",
     "output_type": "stream",
     "text": [
      "flickr:  74%|█████████████████████████████████████████████████████████████████████████████████████████████████████████████████████▍                                        | 10411/14000 [2:12:51<35:46,  1.67it/s]"
     ]
    },
    {
     "name": "stdout",
     "output_type": "stream",
     "text": [
      "more than one face detected in img: /media/choppy/WD_BLACK/datasets/FLICKR/attack/ronda4/F_screen_tablet_mano/F20819_screen_tablet_mano_20220226002430.jpg, but only the biggest is stored\n"
     ]
    },
    {
     "name": "stderr",
     "output_type": "stream",
     "text": [
      "flickr:  75%|██████████████████████████████████████████████████████████████████████████████████████████████████████████████████████▎                                       | 10487/14000 [2:13:37<35:50,  1.63it/s]"
     ]
    },
    {
     "name": "stdout",
     "output_type": "stream",
     "text": [
      "more than one face detected in img: /media/choppy/WD_BLACK/datasets/FLICKR/attack/ronda4/F_screen_tablet_mano/F20063_screen_tablet_mano_20220227005242.jpg, but only the biggest is stored\n"
     ]
    },
    {
     "name": "stderr",
     "output_type": "stream",
     "text": [
      "flickr:  75%|██████████████████████████████████████████████████████████████████████████████████████████████████████████████████████▌                                       | 10511/14000 [2:13:51<34:49,  1.67it/s]"
     ]
    },
    {
     "name": "stdout",
     "output_type": "stream",
     "text": [
      "more than one face detected in img: /media/choppy/WD_BLACK/datasets/FLICKR/attack/ronda4/F_screen_tablet_mano/F28025_screen_tablet_mano_20220226200447.jpg, but only the biggest is stored\n"
     ]
    },
    {
     "name": "stderr",
     "output_type": "stream",
     "text": [
      "flickr:  75%|███████████████████████████████████████████████████████████████████████████████████████████████████████████████████████▏                                      | 10561/14000 [2:14:20<34:40,  1.65it/s]"
     ]
    },
    {
     "name": "stdout",
     "output_type": "stream",
     "text": [
      "more than one face detected in img: /media/choppy/WD_BLACK/datasets/FLICKR/attack/ronda4/F_screen_tablet_mano/F24446_screen_tablet_mano_20220226163208.jpg, but only the biggest is stored\n"
     ]
    },
    {
     "name": "stderr",
     "output_type": "stream",
     "text": [
      "flickr:  75%|███████████████████████████████████████████████████████████████████████████████████████████████████████████████████████▏                                      | 10564/14000 [2:14:22<32:24,  1.77it/s]"
     ]
    },
    {
     "name": "stdout",
     "output_type": "stream",
     "text": [
      "no predictions for /media/choppy/WD_BLACK/datasets/FLICKR/attack/ronda4/F_screen_tablet_mano/F24453_screen_tablet_mano_20220226163317.jpg, please check.\n"
     ]
    },
    {
     "name": "stderr",
     "output_type": "stream",
     "text": [
      "flickr:  76%|███████████████████████████████████████████████████████████████████████████████████████████████████████████████████████▋                                      | 10609/14000 [2:14:49<32:25,  1.74it/s]"
     ]
    },
    {
     "name": "stdout",
     "output_type": "stream",
     "text": [
      "more than one face detected in img: /media/choppy/WD_BLACK/datasets/FLICKR/attack/ronda4/F_screen_tablet_mano/F16950_screen_tablet_mano_20220227001328.jpg, but only the biggest is stored\n"
     ]
    },
    {
     "name": "stderr",
     "output_type": "stream",
     "text": [
      "flickr:  76%|███████████████████████████████████████████████████████████████████████████████████████████████████████████████████████▉                                      | 10627/14000 [2:14:59<31:49,  1.77it/s]"
     ]
    },
    {
     "name": "stdout",
     "output_type": "stream",
     "text": [
      "no predictions for /media/choppy/WD_BLACK/datasets/FLICKR/attack/ronda4/F_screen_tablet_mano/F24048_screen_tablet_mano_20220226011750.jpg, please check.\n"
     ]
    },
    {
     "name": "stderr",
     "output_type": "stream",
     "text": [
      "flickr:  76%|████████████████████████████████████████████████████████████████████████████████████████████████████████████████████████                                      | 10641/14000 [2:15:07<34:51,  1.61it/s]"
     ]
    },
    {
     "name": "stdout",
     "output_type": "stream",
     "text": [
      "more than one face detected in img: /media/choppy/WD_BLACK/datasets/FLICKR/attack/ronda4/F_screen_tablet_mano/F24077_screen_tablet_mano_20220226012413.jpg, but only the biggest is stored\n"
     ]
    },
    {
     "name": "stderr",
     "output_type": "stream",
     "text": [
      "flickr:  76%|████████████████████████████████████████████████████████████████████████████████████████████████████████████████████████▋                                     | 10697/14000 [2:15:40<29:39,  1.86it/s]"
     ]
    },
    {
     "name": "stdout",
     "output_type": "stream",
     "text": [
      "no predictions for /media/choppy/WD_BLACK/datasets/FLICKR/attack/ronda4/F_screen_tablet_mano/F24186_screen_tablet_mano_20220226031544.jpg, please check.\n"
     ]
    },
    {
     "name": "stderr",
     "output_type": "stream",
     "text": [
      "flickr:  76%|████████████████████████████████████████████████████████████████████████████████████████████████████████████████████████▋                                     | 10699/14000 [2:15:41<30:42,  1.79it/s]"
     ]
    },
    {
     "name": "stdout",
     "output_type": "stream",
     "text": [
      "more than one face detected in img: /media/choppy/WD_BLACK/datasets/FLICKR/attack/ronda4/F_screen_tablet_mano/F24188_screen_tablet_mano_20220226152901.jpg, but only the biggest is stored\n"
     ]
    },
    {
     "name": "stderr",
     "output_type": "stream",
     "text": [
      "flickr:  77%|████████████████████████████████████████████████████████████████████████████████████████████████████████████████████████▉                                     | 10712/14000 [2:15:49<31:49,  1.72it/s]"
     ]
    },
    {
     "name": "stdout",
     "output_type": "stream",
     "text": [
      "no predictions for /media/choppy/WD_BLACK/datasets/FLICKR/attack/ronda4/F_screen_tablet_mano/F20972_screen_tablet_mano_20220226005850.jpg, please check.\n"
     ]
    },
    {
     "name": "stderr",
     "output_type": "stream",
     "text": [
      "flickr:  77%|█████████████████████████████████████████████████████████████████████████████████████████████████████████████████████████▏                                    | 10736/14000 [2:16:03<31:49,  1.71it/s]"
     ]
    },
    {
     "name": "stdout",
     "output_type": "stream",
     "text": [
      "no predictions for /media/choppy/WD_BLACK/datasets/FLICKR/attack/ronda4/F_screen_tablet_mano/F20807_screen_tablet_mano_20220226002106.jpg, please check.\n"
     ]
    },
    {
     "name": "stderr",
     "output_type": "stream",
     "text": [
      "flickr:  77%|█████████████████████████████████████████████████████████████████████████████████████████████████████████████████████████▏                                    | 10739/14000 [2:16:05<32:06,  1.69it/s]"
     ]
    },
    {
     "name": "stdout",
     "output_type": "stream",
     "text": [
      "no predictions for /media/choppy/WD_BLACK/datasets/FLICKR/attack/ronda4/F_screen_tablet_mano/F20905_screen_tablet_mano_20220226004757.jpg, please check.\n"
     ]
    },
    {
     "name": "stderr",
     "output_type": "stream",
     "text": [
      "flickr:  77%|█████████████████████████████████████████████████████████████████████████████████████████████████████████████████████████▎                                    | 10749/14000 [2:16:11<32:40,  1.66it/s]"
     ]
    },
    {
     "name": "stdout",
     "output_type": "stream",
     "text": [
      "no predictions for /media/choppy/WD_BLACK/datasets/FLICKR/attack/ronda4/F_screen_tablet_mano/F24325_screen_tablet_mano_20220226161040.jpg, please check.\n"
     ]
    },
    {
     "name": "stderr",
     "output_type": "stream",
     "text": [
      "flickr:  77%|█████████████████████████████████████████████████████████████████████████████████████████████████████████████████████████▍                                    | 10760/14000 [2:16:17<30:56,  1.75it/s]"
     ]
    },
    {
     "name": "stdout",
     "output_type": "stream",
     "text": [
      "no predictions for /media/choppy/WD_BLACK/datasets/FLICKR/attack/ronda4/F_screen_tablet_mano/F20175_screen_tablet_mano_20220227011410.jpg, please check.\n"
     ]
    },
    {
     "name": "stderr",
     "output_type": "stream",
     "text": [
      "flickr:  77%|█████████████████████████████████████████████████████████████████████████████████████████████████████████████████████████▌                                    | 10770/14000 [2:16:23<30:41,  1.75it/s]"
     ]
    },
    {
     "name": "stdout",
     "output_type": "stream",
     "text": [
      "no predictions for /media/choppy/WD_BLACK/datasets/FLICKR/attack/ronda4/F_screen_tablet_mano/F20194_screen_tablet_mano_20220227011905.jpg, please check.\n"
     ]
    },
    {
     "name": "stderr",
     "output_type": "stream",
     "text": [
      "flickr:  77%|█████████████████████████████████████████████████████████████████████████████████████████████████████████████████████████▊                                    | 10791/14000 [2:16:35<29:34,  1.81it/s]"
     ]
    },
    {
     "name": "stdout",
     "output_type": "stream",
     "text": [
      "no predictions for /media/choppy/WD_BLACK/datasets/FLICKR/attack/ronda4/F_screen_tablet_mano/F20022_screen_tablet_mano_20220227002914.jpg, please check.\n"
     ]
    },
    {
     "name": "stderr",
     "output_type": "stream",
     "text": [
      "flickr:  77%|██████████████████████████████████████████████████████████████████████████████████████████████████████████████████████████▎                                   | 10843/14000 [2:17:07<29:51,  1.76it/s]"
     ]
    },
    {
     "name": "stdout",
     "output_type": "stream",
     "text": [
      "no predictions for /media/choppy/WD_BLACK/datasets/FLICKR/attack/ronda4/F_screen_tablet_mano/F16858_screen_tablet_mano_20220226235251.jpg, please check.\n"
     ]
    },
    {
     "name": "stderr",
     "output_type": "stream",
     "text": [
      "flickr:  77%|██████████████████████████████████████████████████████████████████████████████████████████████████████████████████████████▍                                   | 10848/14000 [2:17:10<31:46,  1.65it/s]"
     ]
    },
    {
     "name": "stdout",
     "output_type": "stream",
     "text": [
      "more than one face detected in img: /media/choppy/WD_BLACK/datasets/FLICKR/attack/ronda4/F_screen_tablet_mano/F16864_screen_tablet_mano_20220226235454.jpg, but only the biggest is stored\n"
     ]
    },
    {
     "name": "stderr",
     "output_type": "stream",
     "text": [
      "flickr:  78%|██████████████████████████████████████████████████████████████████████████████████████████████████████████████████████████▍                                   | 10850/14000 [2:17:11<31:10,  1.68it/s]"
     ]
    },
    {
     "name": "stdout",
     "output_type": "stream",
     "text": [
      "no predictions for /media/choppy/WD_BLACK/datasets/FLICKR/attack/ronda4/F_screen_tablet_mano/F16869_screen_tablet_mano_20220226235558.jpg, please check.\n"
     ]
    },
    {
     "name": "stderr",
     "output_type": "stream",
     "text": [
      "flickr:  78%|██████████████████████████████████████████████████████████████████████████████████████████████████████████████████████████▌                                   | 10860/14000 [2:17:17<29:20,  1.78it/s]"
     ]
    },
    {
     "name": "stdout",
     "output_type": "stream",
     "text": [
      "no predictions for /media/choppy/WD_BLACK/datasets/FLICKR/attack/ronda4/F_screen_tablet_mano/F20805_screen_tablet_mano_20220226002001.jpg, please check.\n"
     ]
    },
    {
     "name": "stderr",
     "output_type": "stream",
     "text": [
      "flickr:  78%|██████████████████████████████████████████████████████████████████████████████████████████████████████████████████████████▉                                   | 10893/14000 [2:17:36<31:12,  1.66it/s]"
     ]
    },
    {
     "name": "stdout",
     "output_type": "stream",
     "text": [
      "no predictions for /media/choppy/WD_BLACK/datasets/FLICKR/attack/ronda4/F_screen_tablet_mano/F24947_screen_tablet_mano_20220226195047.jpg, please check.\n"
     ]
    },
    {
     "name": "stderr",
     "output_type": "stream",
     "text": [
      "flickr:  78%|███████████████████████████████████████████████████████████████████████████████████████████████████████████████████████████▏                                  | 10919/14000 [2:17:52<30:37,  1.68it/s]"
     ]
    },
    {
     "name": "stdout",
     "output_type": "stream",
     "text": [
      "no predictions for /media/choppy/WD_BLACK/datasets/FLICKR/attack/ronda4/F_screen_tablet_mano/F20526_screen_tablet_mano_20220223001205.jpg, please check.\n"
     ]
    },
    {
     "name": "stderr",
     "output_type": "stream",
     "text": [
      "flickr:  78%|███████████████████████████████████████████████████████████████████████████████████████████████████████████████████████████▌                                  | 10953/14000 [2:18:12<29:48,  1.70it/s]"
     ]
    },
    {
     "name": "stdout",
     "output_type": "stream",
     "text": [
      "no predictions for /media/choppy/WD_BLACK/datasets/FLICKR/attack/ronda4/F_screen_tablet_mano/F24551_screen_tablet_mano_20220226182918.jpg, please check.\n"
     ]
    },
    {
     "name": "stderr",
     "output_type": "stream",
     "text": [
      "flickr:  78%|███████████████████████████████████████████████████████████████████████████████████████████████████████████████████████████▊                                  | 10976/14000 [2:18:26<28:50,  1.75it/s]"
     ]
    },
    {
     "name": "stdout",
     "output_type": "stream",
     "text": [
      "no predictions for /media/choppy/WD_BLACK/datasets/FLICKR/attack/ronda4/F_screen_tablet_mano/F20722_screen_tablet_mano_20220223011136.jpg, please check.\n"
     ]
    },
    {
     "name": "stderr",
     "output_type": "stream",
     "text": [
      "flickr:  78%|████████████████████████████████████████████████████████████████████████████████████████████████████████████████████████████                                  | 10988/14000 [2:18:33<29:23,  1.71it/s]"
     ]
    },
    {
     "name": "stdout",
     "output_type": "stream",
     "text": [
      "more than one face detected in img: /media/choppy/WD_BLACK/datasets/FLICKR/attack/ronda4/F_screen_tablet_mano/F24496_screen_tablet_mano_20220226164444.jpg, but only the biggest is stored\n"
     ]
    },
    {
     "name": "stderr",
     "output_type": "stream",
     "text": [
      "flickr:  80%|██████████████████████████████████████████████████████████████████████████████████████████████████████████████████████████████▎                               | 11191/14000 [2:19:33<13:14,  3.54it/s]"
     ]
    },
    {
     "name": "stdout",
     "output_type": "stream",
     "text": [
      "more than one face detected in img: /media/choppy/WD_BLACK/datasets/FLICKR/bonafide/originales_ronda3y4/F04385.png, but only the biggest is stored\n"
     ]
    },
    {
     "name": "stderr",
     "output_type": "stream",
     "text": [
      "flickr:  83%|███████████████████████████████████████████████████████████████████████████████████████████████████████████████████████████████████                           | 11616/14000 [2:21:30<10:18,  3.86it/s]"
     ]
    },
    {
     "name": "stdout",
     "output_type": "stream",
     "text": [
      "more than one face detected in img: /media/choppy/WD_BLACK/datasets/FLICKR/bonafide/originales_ronda3y4/F24325.png, but only the biggest is stored\n"
     ]
    },
    {
     "name": "stderr",
     "output_type": "stream",
     "text": [
      "flickr:  89%|████████████████████████████████████████████████████████████████████████████████████████████████████████████████████████████████████████████                  | 12406/14000 [2:25:14<06:57,  3.82it/s]"
     ]
    },
    {
     "name": "stdout",
     "output_type": "stream",
     "text": [
      "more than one face detected in img: /media/choppy/WD_BLACK/datasets/FLICKR/bonafide/originales_ronda3y4/F04646.png, but only the biggest is stored\n"
     ]
    },
    {
     "name": "stderr",
     "output_type": "stream",
     "text": [
      "flickr:  89%|████████████████████████████████████████████████████████████████████████████████████████████████████████████████████████████████████████████▉                 | 12486/14000 [2:25:36<07:03,  3.58it/s]"
     ]
    },
    {
     "name": "stdout",
     "output_type": "stream",
     "text": [
      "more than one face detected in img: /media/choppy/WD_BLACK/datasets/FLICKR/bonafide/originales_ronda3y4/F04443.png, but only the biggest is stored\n"
     ]
    },
    {
     "name": "stderr",
     "output_type": "stream",
     "text": [
      "flickr:  90%|█████████████████████████████████████████████████████████████████████████████████████████████████████████████████████████████████████████████▋                | 12551/14000 [2:25:54<06:45,  3.58it/s]"
     ]
    },
    {
     "name": "stdout",
     "output_type": "stream",
     "text": [
      "more than one face detected in img: /media/choppy/WD_BLACK/datasets/FLICKR/bonafide/originales_ronda3y4/F00431.png, but only the biggest is stored\n"
     ]
    },
    {
     "name": "stderr",
     "output_type": "stream",
     "text": [
      "flickr:  91%|███████████████████████████████████████████████████████████████████████████████████████████████████████████████████████████████████████████████▍              | 12706/14000 [2:26:42<05:50,  3.69it/s]"
     ]
    },
    {
     "name": "stdout",
     "output_type": "stream",
     "text": [
      "more than one face detected in img: /media/choppy/WD_BLACK/datasets/FLICKR/bonafide/originales_ronda3y4/F16158.png, but only the biggest is stored\n"
     ]
    },
    {
     "name": "stderr",
     "output_type": "stream",
     "text": [
      "flickr:  92%|████████████████████████████████████████████████████████████████████████████████████████████████████████████████████████████████████████████████▋             | 12825/14000 [2:27:17<05:06,  3.84it/s]"
     ]
    },
    {
     "name": "stdout",
     "output_type": "stream",
     "text": [
      "more than one face detected in img: /media/choppy/WD_BLACK/datasets/FLICKR/bonafide/originales_ronda3y4/F12155.png, but only the biggest is stored\n"
     ]
    },
    {
     "name": "stderr",
     "output_type": "stream",
     "text": [
      "flickr:  93%|███████████████████████████████████████████████████████████████████████████████████████████████████████████████████████████████████████████████████▍          | 13059/14000 [2:28:26<04:19,  3.63it/s]"
     ]
    },
    {
     "name": "stdout",
     "output_type": "stream",
     "text": [
      "more than one face detected in img: /media/choppy/WD_BLACK/datasets/FLICKR/bonafide/originales_ronda3y4/F24021.png, but only the biggest is stored\n"
     ]
    },
    {
     "name": "stderr",
     "output_type": "stream",
     "text": [
      "flickr:  95%|██████████████████████████████████████████████████████████████████████████████████████████████████████████████████████████████████████████████████████▍       | 13329/14000 [2:29:41<02:54,  3.85it/s]"
     ]
    },
    {
     "name": "stdout",
     "output_type": "stream",
     "text": [
      "more than one face detected in img: /media/choppy/WD_BLACK/datasets/FLICKR/bonafide/originales_ronda3y4/F24471.png, but only the biggest is stored\n"
     ]
    },
    {
     "name": "stderr",
     "output_type": "stream",
     "text": [
      "flickr:  96%|███████████████████████████████████████████████████████████████████████████████████████████████████████████████████████████████████████████████████████▎      | 13405/14000 [2:30:03<02:54,  3.41it/s]"
     ]
    },
    {
     "name": "stdout",
     "output_type": "stream",
     "text": [
      "more than one face detected in img: /media/choppy/WD_BLACK/datasets/FLICKR/bonafide/originales_ronda3y4/F00248.png, but only the biggest is stored\n"
     ]
    },
    {
     "name": "stderr",
     "output_type": "stream",
     "text": [
      "flickr:  98%|██████████████████████████████████████████████████████████████████████████████████████████████████████████████████████████████████████████████████████████▋   | 13711/14000 [2:31:36<01:19,  3.61it/s]"
     ]
    },
    {
     "name": "stdout",
     "output_type": "stream",
     "text": [
      "more than one face detected in img: /media/choppy/WD_BLACK/datasets/FLICKR/bonafide/originales_ronda3y4/F00058.png, but only the biggest is stored\n"
     ]
    },
    {
     "name": "stderr",
     "output_type": "stream",
     "text": [
      "flickr: 100%|██████████████████████████████████████████████████████████████████████████████████████████████████████████████████████████████████████████████████████████████| 14000/14000 [2:33:01<00:00,  1.52it/s]\n"
     ]
    },
    {
     "name": "stdout",
     "output_type": "stream",
     "text": [
      "doing inference over 24998 images from Splunk\n"
     ]
    },
    {
     "name": "stderr",
     "output_type": "stream",
     "text": [
      "splunk:   0%|▏                                                                                                                                                                | 23/24998 [00:14<4:03:58,  1.71it/s]"
     ]
    },
    {
     "name": "stdout",
     "output_type": "stream",
     "text": [
      "no predictions for /media/choppy/WD_BLACK/datasets/Splunk/attack/ronda5/S_print_brillante_plano/S1509_print_brillante_plano_20220429234940.jpg, please check.\n"
     ]
    },
    {
     "name": "stderr",
     "output_type": "stream",
     "text": [
      "splunk:   0%|▏                                                                                                                                                                | 29/24998 [00:17<3:55:37,  1.77it/s]"
     ]
    },
    {
     "name": "stdout",
     "output_type": "stream",
     "text": [
      "no predictions for /media/choppy/WD_BLACK/datasets/Splunk/attack/ronda5/S_print_brillante_plano/S1515_print_brillante_plano_20220429234719.jpg, please check.\n"
     ]
    },
    {
     "name": "stderr",
     "output_type": "stream",
     "text": [
      "splunk:   0%|▌                                                                                                                                                                | 79/24998 [00:47<4:16:53,  1.62it/s]"
     ]
    },
    {
     "name": "stdout",
     "output_type": "stream",
     "text": [
      "more than one face detected in img: /media/choppy/WD_BLACK/datasets/Splunk/attack/ronda5/S_print_brillante_plano/S1268_print_brillante_plano_20220426224456.jpg, but only the biggest is stored\n"
     ]
    },
    {
     "name": "stderr",
     "output_type": "stream",
     "text": [
      "splunk:   0%|▌                                                                                                                                                                | 90/24998 [00:54<4:10:32,  1.66it/s]"
     ]
    },
    {
     "name": "stdout",
     "output_type": "stream",
     "text": [
      "no predictions for /media/choppy/WD_BLACK/datasets/Splunk/attack/ronda5/S_print_brillante_plano/S1899_print_brillante_plano_20220428140330.jpg, please check.\n"
     ]
    },
    {
     "name": "stderr",
     "output_type": "stream",
     "text": [
      "splunk:   1%|▊                                                                                                                                                               | 127/24998 [01:17<4:24:02,  1.57it/s]"
     ]
    },
    {
     "name": "stdout",
     "output_type": "stream",
     "text": [
      "more than one face detected in img: /media/choppy/WD_BLACK/datasets/Splunk/attack/ronda5/S_print_brillante_plano/S1401_print_brillante_plano_20220430005549.jpg, but only the biggest is stored\n"
     ]
    },
    {
     "name": "stderr",
     "output_type": "stream",
     "text": [
      "splunk:   1%|▊                                                                                                                                                               | 134/24998 [01:22<4:27:01,  1.55it/s]"
     ]
    },
    {
     "name": "stdout",
     "output_type": "stream",
     "text": [
      "more than one face detected in img: /media/choppy/WD_BLACK/datasets/Splunk/attack/ronda5/S_print_brillante_plano/S1408_print_brillante_plano_20220430005505.jpg, but only the biggest is stored\n"
     ]
    },
    {
     "name": "stderr",
     "output_type": "stream",
     "text": [
      "splunk:   1%|█▏                                                                                                                                                              | 193/24998 [02:00<4:27:21,  1.55it/s]"
     ]
    }
   ],
   "source": [
    "i = 0\n",
    "\n",
    "for dst_key in datasets:\n",
    "    ds_dir = datasets.get(dst_key)\n",
    "    # images = list(sorted([*list_images(ds_dir)], reverse=True))\n",
    "    images = [*list_images(ds_dir)]\n",
    "    # np.random.shuffle(images)\n",
    "    db_name = os.path.basename(ds_dir)\n",
    "    json_data = []\n",
    "    \n",
    "    print(f\"doing inference over {len(images)} images from {db_name}\")\n",
    "    \n",
    "    for imdir in tqdm(images, desc=dst_key):\n",
    "        img = load_image(imdir)\n",
    "        \n",
    "        if img is None:\n",
    "            if verbose: print(f'img {imdir} could not be loaded. Check')\n",
    "            continue\n",
    "        \n",
    "        original_shape = img.shape[:2]\n",
    "        _shape = np.array(img.shape[:2]) // downscale_factor\n",
    "        img = cv2.resize(img, _shape)\n",
    "        detections = detector.detect_faces(img)\n",
    "        img_path_dir = imdir.split(db_name)[-1][1:]\n",
    "        \n",
    "        # find best detection and biggest bbox\n",
    "        biggest = 0\n",
    "        best_det = None\n",
    "        if len(detections) > 1:\n",
    "            if verbose: print(f'more than one face detected in img: {imdir}, but only the biggest is stored')\n",
    "            for det in detections:\n",
    "                box = det['box']            \n",
    "                # calculate the area in the image\n",
    "                area = box[2] * box[3]\n",
    "                if area > biggest:\n",
    "                    biggest = area\n",
    "                    bbox = box\n",
    "                    best_det = det\n",
    "        elif len(detections) == 1:\n",
    "            best_det = detections[0]\n",
    "        else:\n",
    "            if verbose: print(f'no predictions for {imdir}, please check.')\n",
    "            continue\n",
    "        \n",
    "        # continue working with best_det dict\n",
    "        # scale up data from best_det\n",
    "        best_det['box'] = (np.array(best_det['box']) * downscale_factor).tolist()\n",
    "        for bkey in best_det['keypoints'].keys():\n",
    "            best_det['keypoints'][bkey] = (np.array(best_det['keypoints'][bkey]) * downscale_factor).tolist()\n",
    "        \n",
    "        red = [255, 0, 0]\n",
    "        bbox = best_det['box']\n",
    "        nose = best_det.get('keypoints')['nose']\n",
    "        left_eye, right_eye = best_det.get('keypoints')['left_eye'], best_det.get('keypoints')['right_eye']\n",
    "        dst1, dst2 = euclidean(left_eye, nose), euclidean(right_eye, nose)\n",
    "        mean_dst = np.mean([dst1, dst2]).astype(np.uint16)\n",
    "\n",
    "        # upscale image to checkout method\n",
    "        img = cv2.resize(img, original_shape)\n",
    "        periocular = img.copy()\n",
    "        \n",
    "        pt1 = (bbox[0], left_eye[1]-int(mean_dst*0.6))\n",
    "        pt2 = (bbox[0]+bbox[2], right_eye[1]+int(mean_dst*0.6))\n",
    "        \n",
    "        if debug:\n",
    "            periocular = periocular[ pt1[1]:pt2[1], pt1[0]:pt2[0], ... ] # use the generated points to crop the ROI\n",
    "\n",
    "            # face + distance\n",
    "            periocular = cv2.rectangle(periocular, pt1, pt2, color=red, thickness=50)\n",
    "\n",
    "            plt.figure(figsize=(10, 8))\n",
    "            plt.imshow(periocular)\n",
    "            \n",
    "            if i == 5:\n",
    "                break\n",
    "            \n",
    "        # make dict data with periocular region\n",
    "        peri_data = {\n",
    "            'image_dir': os.path.join(db_name, img_path_dir),\n",
    "            'mtcnn-inference': best_det, \n",
    "            'handcrafted': {\n",
    "                'periocular': [pt1[1], pt2[1], pt1[0], pt2[0]], # y2, y1, x2, x1\n",
    "                # 'description': 'crop of full size image with following format [y2, y1, x2, x1]. This new region was obtained calculing the 60% of euclidean distance between l/r eye and nose, by this way we get y-axis location, and x-axis location correspond to boundingbox xy detected by mtcnn'\n",
    "            }   \n",
    "        }\n",
    "        \n",
    "        json_data.append(peri_data)\n",
    "        \n",
    "        i += 1\n",
    "        \n",
    "        # save data per steps\n",
    "        if i % save_steps == 0:\n",
    "            json.dump(json_data, open(db_name+'.json', 'w'))\n",
    "        \n",
    "        \n",
    "    \n",
    "    # store json data as db-name.json\n",
    "    json.dump(json_data, open(db_name+'.json', 'w'))"
   ]
  },
  {
   "cell_type": "code",
   "execution_count": null,
   "id": "fbbdd9e1-c3a1-4710-a4cc-f0b50caaf3be",
   "metadata": {},
   "outputs": [],
   "source": [
    "# para hacer zona periocular\n",
    "\n",
    "# distancia entre cada ojo y agregar 20% de margen izq/der\n",
    "# para altura, triangular distancia desde los ojos hasta la nariz y estimar un 20-30%\n",
    "\n",
    "\n",
    "# calcular distancia euclideana entre ambos puntos (nariz y ambos ojos) y calcular promedio\n",
    "# a ese promedio aplicarle 20-30% de margen\n",
    "\n",
    "# all done"
   ]
  },
  {
   "cell_type": "code",
   "execution_count": null,
   "id": "628fd6a0-96f8-4b7f-ba63-5e32db905ac1",
   "metadata": {},
   "outputs": [],
   "source": []
  }
 ],
 "metadata": {
  "kernelspec": {
   "display_name": "Python 3 (ipykernel)",
   "language": "python",
   "name": "python3"
  },
  "language_info": {
   "codemirror_mode": {
    "name": "ipython",
    "version": 3
   },
   "file_extension": ".py",
   "mimetype": "text/x-python",
   "name": "python",
   "nbconvert_exporter": "python",
   "pygments_lexer": "ipython3",
   "version": "3.9.13"
  }
 },
 "nbformat": 4,
 "nbformat_minor": 5
}
